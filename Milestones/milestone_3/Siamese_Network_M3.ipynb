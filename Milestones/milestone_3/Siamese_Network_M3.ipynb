{
  "nbformat": 4,
  "nbformat_minor": 0,
  "metadata": {
    "colab": {
      "name": "Siamese_Network_M3.ipynb",
      "provenance": [],
      "collapsed_sections": [
        "FG0SfkuE8tmJ",
        "k8yEszX3822s",
        "g1c0XTmG89MS",
        "2ecyCYR9_M07",
        "OdiNyxix9pHu",
        "tHICtg05_Cus",
        "edTPfBCJZdMQ",
        "ignVYPTPb5Lq",
        "24_OgXXgBB-2"
      ]
    },
    "kernelspec": {
      "name": "python3",
      "display_name": "Python 3"
    }
  },
  "cells": [
    {
      "cell_type": "markdown",
      "metadata": {
        "id": "-18bFd93EKQC"
      },
      "source": [
        "## Siamese Network for House Recommendation\n",
        "\n",
        "**Goal**:<br>\n",
        "build `siamese network`, `contrastive loss`, and `triplet loss` to compare house feature embeddings and provide recommendations. <br>\n",
        "Add in evaluation sections, plus ensemble models.\n",
        "\n",
        "**Reference**:<br>\n",
        "[Siamese Network Keras for Image and Text similarity](https://medium.com/@prabhnoor0212/siamese-network-keras-31a3a8f37d04)<br>\n",
        "[Home Embeddings for Similar Home Recommendations](https://www.zillow.com/tech/embedding-similar-home-recommendation/)"
      ]
    },
    {
      "cell_type": "markdown",
      "metadata": {
        "id": "FG0SfkuE8tmJ"
      },
      "source": [
        "### STEP 0. Load in packages"
      ]
    },
    {
      "cell_type": "code",
      "metadata": {
        "id": "-2jmlPLy81jF"
      },
      "source": [
        "!pip install shap"
      ],
      "execution_count": null,
      "outputs": []
    },
    {
      "cell_type": "code",
      "metadata": {
        "id": "WM-KbPfp8zBz"
      },
      "source": [
        "# import libraries\n",
        "from __future__ import absolute_import\n",
        "from __future__ import print_function\n",
        "\n",
        "import shap\n",
        "import pickle\n",
        "import pandas as pd\n",
        "import numpy as np\n",
        "import random\n",
        "from tqdm import tqdm\n",
        "import matplotlib.pyplot as plt\n",
        "import seaborn as sns\n",
        "import sklearn.metrics as metrics\n",
        "from numpy import dot\n",
        "from numpy.linalg import norm\n",
        "from itertools import repeat\n",
        "\n",
        "\n",
        "import tensorflow as tf\n",
        "from tensorflow.keras.models import Sequential, Model\n",
        "from tensorflow.keras.optimizers import Adam, RMSprop\n",
        "from tensorflow.keras.layers import Conv2D, Input, Dense, Lambda, Layer, MaxPooling2D, Flatten, Dropout\n",
        "from tensorflow.keras.layers import Dropout, BatchNormalization\n",
        "from tensorflow.keras.models import Model\n",
        "\n",
        "\n",
        "from tensorflow.keras.regularizers import l2\n",
        "from tensorflow.keras import backend as K\n",
        "from tensorflow.keras.layers import concatenate\n",
        "\n",
        "from sklearn.metrics.pairwise import cosine_similarity\n",
        "\n"
      ],
      "execution_count": 2,
      "outputs": []
    },
    {
      "cell_type": "code",
      "metadata": {
        "id": "8UyswaINZ-Dh"
      },
      "source": [
        "pd.set_option('display.max_columns', 999)"
      ],
      "execution_count": 3,
      "outputs": []
    },
    {
      "cell_type": "markdown",
      "metadata": {
        "id": "k8yEszX3822s"
      },
      "source": [
        "### Helper Function(s)"
      ]
    },
    {
      "cell_type": "code",
      "metadata": {
        "id": "JUDMm0Qp8oSO"
      },
      "source": [
        "def evaluate_model(model,test_data, training_results):\n",
        "    \n",
        "    # Get the model train history\n",
        "    model_train_history = training_results.history\n",
        "    # Get the number of epochs the training was run for\n",
        "    num_epochs = len(model_train_history[\"loss\"])\n",
        "\n",
        "    # Plot training results\n",
        "    fig, ax = plt.subplots(figsize=(15,5))\n",
        "    plt.title('Loss')\n",
        "    # Plot all metrics\n",
        "    for metric in [\"loss\",\"val_loss\"]:\n",
        "        plt.plot(np.arange(0, num_epochs), model_train_history[metric], label=metric)\n",
        "    plt.legend()\n",
        "    \n",
        "    plt.show()\n",
        "    \n",
        "    # Evaluate on test data\n",
        "    evaluation_results = model.evaluate(test_data)\n",
        "    print(\"Evaluation Results:\", evaluation_results)"
      ],
      "execution_count": 4,
      "outputs": []
    },
    {
      "cell_type": "code",
      "metadata": {
        "id": "wlXHgpXt9kO3"
      },
      "source": [
        "def precision_recall_at_k(k_in):\n",
        "  # get top k predictions for each ip\n",
        "  g = all_pairs_predictions.groupby(['ip']).apply(lambda x: x.sort_values(['proba'], ascending = False)).reset_index(drop=True)\n",
        "  top_k_each = g.groupby('ip').head(k_in)\n",
        "  recommended_at_k = top_k_each[top_k_each.pred==1].groupby('ip')['rex_url'].apply(list).reset_index()\n",
        "\n",
        "  recall_results = {}\n",
        "  precision_results = {}\n",
        "  #loop through each ip and compare recommended to real test set\n",
        "  for idx, row in recommended_at_k.iterrows():\n",
        "    ip_curr = row['ip']\n",
        "    recommended_at_k_curr = row['rex_url']\n",
        "\n",
        "    true_for_ip_curr = user_listing_test[user_listing_test.ip==ip_curr].rexUrl.values\n",
        "\n",
        "    # Recommendations that are relevant\n",
        "    # find overlap\n",
        "    correctly_found_ip_curr = list(set(recommended_at_k_curr) & set(true_for_ip_curr))\n",
        "\n",
        "\n",
        "    recall_results[ip_curr] = len(correctly_found_ip_curr)/len(true_for_ip_curr)\n",
        "    precision_results[ip_curr] = len(correctly_found_ip_curr)/len(recommended_at_k_curr)\n",
        "\n",
        "  \n",
        "  return recommended_at_k, recall_results, precision_results\n"
      ],
      "execution_count": 5,
      "outputs": []
    },
    {
      "cell_type": "markdown",
      "metadata": {
        "id": "g1c0XTmG89MS"
      },
      "source": [
        "### Step 1: Prepare Data"
      ]
    },
    {
      "cell_type": "code",
      "metadata": {
        "colab": {
          "base_uri": "https://localhost:8080/"
        },
        "id": "Caf6e08U9OmG",
        "outputId": "841e7434-29b3-4993-fc25-28595715b072"
      },
      "source": [
        "cd drive/MyDrive/2020_Fall/Captstone\\(297\\)"
      ],
      "execution_count": 7,
      "outputs": [
        {
          "output_type": "stream",
          "text": [
            "/content/drive/MyDrive/2020_Fall/Captstone(297)\n"
          ],
          "name": "stdout"
        }
      ]
    },
    {
      "cell_type": "code",
      "metadata": {
        "colab": {
          "base_uri": "https://localhost:8080/"
        },
        "id": "35ur-nph8wLb",
        "outputId": "f0ccd96f-777a-4780-b28c-c2993dee8952"
      },
      "source": [
        "anchor = np.load('./data/anchor_data_window_full.npy',allow_pickle=True)\n",
        "positive = np.load('./data/pos_data_window_full.npy',allow_pickle=True)\n",
        "negative = np.load('./data/neg_data_window_full.npy',allow_pickle=True)\n",
        "\n",
        "print(\"Loading data:\\nAnchor: \", anchor.shape)\n",
        "print(\"Positive: \", positive.shape)\n",
        "print(\"Negative: \", negative.shape)"
      ],
      "execution_count": 57,
      "outputs": [
        {
          "output_type": "stream",
          "text": [
            "Loading data:\n",
            "Anchor:  (73450, 77)\n",
            "Positive:  (73450, 77)\n",
            "Negative:  (73450, 77)\n"
          ],
          "name": "stdout"
        }
      ]
    },
    {
      "cell_type": "code",
      "metadata": {
        "id": "x-IV-7z29tRY"
      },
      "source": [
        "y_train = np.random.randint(0,1, (anchor.shape[0],1))"
      ],
      "execution_count": 58,
      "outputs": []
    },
    {
      "cell_type": "code",
      "metadata": {
        "colab": {
          "base_uri": "https://localhost:8080/"
        },
        "id": "enKUJwbR9u6I",
        "outputId": "91b4254d-e150-467f-8ff4-90f48cac540b"
      },
      "source": [
        "np.random.seed(297)\n",
        "train_idx = np.random.choice(np.arange(anchor.shape[0]),size=int(anchor.shape[0]*0.9),replace=False)\n",
        "anchor_train = anchor[train_idx,:]\n",
        "pos_train = positive[train_idx,:]\n",
        "neg_train = negative[train_idx,:]\n",
        "y_training = y_train[train_idx,:]\n",
        "\n",
        "anchor_test = np.delete(anchor,train_idx,axis=0)\n",
        "pos_test = np.delete(positive,train_idx,axis=0)\n",
        "neg_test = np.delete(negative,train_idx,axis=0)\n",
        "y_test = np.delete(y_train,train_idx)\n",
        "\n",
        "print(anchor.shape)\n",
        "print(anchor_train.shape)\n",
        "print(anchor_test.shape)\n"
      ],
      "execution_count": 59,
      "outputs": [
        {
          "output_type": "stream",
          "text": [
            "(73450, 77)\n",
            "(66105, 77)\n",
            "(7345, 77)\n"
          ],
          "name": "stdout"
        }
      ]
    },
    {
      "cell_type": "markdown",
      "metadata": {
        "id": "UR4f9fMQ9mr2"
      },
      "source": [
        "### Step 2: Build Model"
      ]
    },
    {
      "cell_type": "markdown",
      "metadata": {
        "id": "2ecyCYR9_M07"
      },
      "source": [
        "#### 2.1 Contrastive Loss"
      ]
    },
    {
      "cell_type": "code",
      "metadata": {
        "colab": {
          "base_uri": "https://localhost:8080/"
        },
        "id": "XNmTK72U_PRz",
        "outputId": "b2b6e33a-898d-4736-ce62-2eff2b6377d2"
      },
      "source": [
        "pair_input1 = np.concatenate((anchor_train,anchor_train))\n",
        "pair_input2 = np.concatenate((pos_train, neg_train))\n",
        "\n",
        "class0=np.zeros((anchor_train.shape[0],1))\n",
        "class1=np.ones((anchor_train.shape[0],1))\n",
        "output = np.concatenate((class1, class0))\n",
        "\n",
        "pair_input1_val = np.concatenate((anchor_test,anchor_test))\n",
        "pair_input2_val = np.concatenate((pos_test, neg_test))\n",
        "\n",
        "class0_val=np.zeros((anchor_test.shape[0],1))\n",
        "class1_val=np.ones((anchor_test.shape[0],1))\n",
        "output_val = np.concatenate((class1_val, class0_val))\n",
        "\n",
        "pair_input1.shape, pair_input2.shape"
      ],
      "execution_count": 149,
      "outputs": [
        {
          "output_type": "execute_result",
          "data": {
            "text/plain": [
              "((132210, 77), (132210, 77))"
            ]
          },
          "metadata": {
            "tags": []
          },
          "execution_count": 149
        }
      ]
    },
    {
      "cell_type": "code",
      "metadata": {
        "id": "suZCrk2Z_ZZr"
      },
      "source": [
        "\"\"\" Contrastive loss from Hadsell-et-al.'06\n",
        "    http://yann.lecun.com/exdb/publis/pdf/hadsell-chopra-lecun-06.pdf\n",
        "\"\"\"\n",
        "\n",
        "def contrastive_loss(y_true, y_pred):\n",
        "    margin = 1\n",
        "    return K.mean(y_true * K.square(y_pred) + (1 - y_true) * K.square(K.maximum(margin - y_pred, 0)))\n",
        "\n",
        "def cosine_distance(vests):\n",
        "    x, y = vests\n",
        "    x = K.l2_normalize(x, axis=-1)\n",
        "    y = K.l2_normalize(y, axis=-1)\n",
        "    return -K.mean(x * y, axis=-1, keepdims=True)"
      ],
      "execution_count": 150,
      "outputs": []
    },
    {
      "cell_type": "code",
      "metadata": {
        "id": "mGv03usX_blm"
      },
      "source": [
        "def create_embedding_model():\n",
        "    input_shape = (anchor.shape[1],)\n",
        "    input_listing = Input(shape=input_shape)\n",
        "\n",
        "    x = Dense(32, activation='relu', input_shape=input_shape, name='dense1')(input_listing)\n",
        "    #x = Dropout(.2)(x)\n",
        "    x = BatchNormalization()(x)\n",
        "\n",
        "    # d1 = Dense(32, activation='relu', input_shape=input_shape, name='dense2')(don1)\n",
        "    # do1 = Dropout(.2)(d1)\n",
        "    # do1 = BatchNormalization()(do1)\n",
        "\n",
        "\n",
        "    bottleneck = Dense(16, activation='linear', input_shape=input_shape, name='dense4')(x)\n",
        "    \n",
        "\n",
        "    triplet_model_embedding = Model(input_listing, bottleneck)  \n",
        "    return triplet_model_embedding"
      ],
      "execution_count": 160,
      "outputs": []
    },
    {
      "cell_type": "code",
      "metadata": {
        "colab": {
          "base_uri": "https://localhost:8080/"
        },
        "id": "notBeb5z_dzy",
        "outputId": "d7906d7f-beaf-4f82-a43d-eacc0a8a7f5d"
      },
      "source": [
        "from tensorflow.keras.layers import concatenate\n",
        "\n",
        "input_shape = (anchor.shape[1],)\n",
        "# Create the 2 inputs\n",
        "input1 = Input(shape=input_shape, name='target')\n",
        "input2 = Input(shape=input_shape, name='candidate')\n",
        "\n",
        "# Share base network with the 2 inputs\n",
        "contrastive_model_embedding = create_embedding_model()\n",
        "input1_embedding = contrastive_model_embedding(input1)       \n",
        "input2_embedding = contrastive_model_embedding(input2)       \n",
        "\n",
        "L1_layer = Lambda(cosine_distance)\n",
        "L1_distance = L1_layer([input1_embedding, input2_embedding])\n",
        "\n",
        "# Add a dense layer with a sigmoid unit to generate the similarity score\n",
        "prediction = Dense(1,activation='sigmoid')(L1_distance)\n",
        "\n",
        "# Define the trainable model\n",
        "model = Model(inputs=[input1, input2], \n",
        "              outputs=prediction)\n",
        "\n",
        "model.compile(optimizer=Adam(0.001),\n",
        "              loss=contrastive_loss)#\n",
        "print(model.summary())\n",
        "\n",
        "# Training the model\n",
        "training_results =  model.fit(x=(pair_input1,pair_input2),y=output, \n",
        "                              validation_data=((pair_input1_val,pair_input2_val), output_val), \n",
        "                              batch_size=256, epochs=5)"
      ],
      "execution_count": 161,
      "outputs": [
        {
          "output_type": "stream",
          "text": [
            "Model: \"functional_57\"\n",
            "__________________________________________________________________________________________________\n",
            "Layer (type)                    Output Shape         Param #     Connected to                     \n",
            "==================================================================================================\n",
            "target (InputLayer)             [(None, 77)]         0                                            \n",
            "__________________________________________________________________________________________________\n",
            "candidate (InputLayer)          [(None, 77)]         0                                            \n",
            "__________________________________________________________________________________________________\n",
            "functional_55 (Functional)      (None, 16)           3152        target[0][0]                     \n",
            "                                                                 candidate[0][0]                  \n",
            "__________________________________________________________________________________________________\n",
            "lambda_13 (Lambda)              (None, 1)            0           functional_55[0][0]              \n",
            "                                                                 functional_55[1][0]              \n",
            "__________________________________________________________________________________________________\n",
            "dense_2 (Dense)                 (None, 1)            2           lambda_13[0][0]                  \n",
            "==================================================================================================\n",
            "Total params: 3,154\n",
            "Trainable params: 3,090\n",
            "Non-trainable params: 64\n",
            "__________________________________________________________________________________________________\n",
            "None\n",
            "Epoch 1/5\n",
            "517/517 [==============================] - 1s 3ms/step - loss: 0.2467 - val_loss: 0.2561\n",
            "Epoch 2/5\n",
            "517/517 [==============================] - 1s 2ms/step - loss: 0.2318 - val_loss: 0.2569\n",
            "Epoch 3/5\n",
            "517/517 [==============================] - 1s 2ms/step - loss: 0.2266 - val_loss: 0.2546\n",
            "Epoch 4/5\n",
            "517/517 [==============================] - 1s 2ms/step - loss: 0.2226 - val_loss: 0.2832\n",
            "Epoch 5/5\n",
            "517/517 [==============================] - 1s 2ms/step - loss: 0.2195 - val_loss: 0.2805\n"
          ],
          "name": "stdout"
        }
      ]
    },
    {
      "cell_type": "code",
      "metadata": {
        "colab": {
          "base_uri": "https://localhost:8080/",
          "height": 370
        },
        "id": "Jhkvu9NG_jGd",
        "outputId": "08f6cdbb-078b-4902-d909-17dc3e56f687"
      },
      "source": [
        "evaluate_model(model,(pair_input1,pair_input2), training_results)"
      ],
      "execution_count": 162,
      "outputs": [
        {
          "output_type": "display_data",
          "data": {
            "image/png": "[encoded data removed]",
            "text/plain": [
              "<Figure size 1080x360 with 1 Axes>"
            ]
          },
          "metadata": {
            "tags": [],
            "needs_background": "light"
          }
        },
        {
          "output_type": "stream",
          "text": [
            "4132/4132 [==============================] - 4s 1ms/step - loss: 0.0000e+00\n",
            "Evaluation Results: 0.0\n"
          ],
          "name": "stdout"
        }
      ]
    },
    {
      "cell_type": "code",
      "metadata": {
        "colab": {
          "base_uri": "https://localhost:8080/"
        },
        "id": "NWfytrnqGGs-",
        "outputId": "b89166e8-bc6b-45b9-dcd3-cc8fda45a97e"
      },
      "source": [
        "house1 = contrastive_model_embedding.predict(anchor_test)\n",
        "house2 = contrastive_model_embedding.predict(pos_test)\n",
        "house3 = contrastive_model_embedding.predict(neg_test)\n",
        "\n",
        "cos_sim_all = []\n",
        "for h1, h2, h3 in zip(house1, house2, house3):\n",
        "  cos_sim_pos = dot(h1, h2)/(norm(h1)*norm(h2))\n",
        "  cos_sim_neg = dot(h1, h3)/(norm(h1)*norm(h3))\n",
        "  cos_sim_all.append(cos_sim_pos-cos_sim_neg)\n",
        "\n",
        "cos_sim_all = np.array(cos_sim_all)\n",
        "pos_is_high_sum = sum(cos_sim_all>0)\n",
        "pos_is_high_sum/len(anchor_test)"
      ],
      "execution_count": 163,
      "outputs": [
        {
          "output_type": "execute_result",
          "data": {
            "text/plain": [
              "0.786929884275017"
            ]
          },
          "metadata": {
            "tags": []
          },
          "execution_count": 163
        }
      ]
    },
    {
      "cell_type": "code",
      "metadata": {
        "colab": {
          "base_uri": "https://localhost:8080/"
        },
        "id": "PurqIWBE_nqG",
        "outputId": "6e1d33e2-2ed9-461c-ae6b-50293e7d300e"
      },
      "source": [
        "pos_is_high_sum = 0\n",
        "for i in range(3):\n",
        "    house1 = contrastive_model_embedding.predict(anchor_test[i:i+1])\n",
        "    house2 = contrastive_model_embedding.predict(pos_test[i:i+1])\n",
        "    house3 = contrastive_model_embedding.predict(neg_test[i:i+1])\n",
        "    pos_score = cosine_similarity(house1, house2)\n",
        "    neg_score = cosine_similarity(house1, house3)\n",
        "    pos_is_high = 1 if pos_score>neg_score else 0\n",
        "    pos_is_high_sum += pos_is_high\n",
        "    print(f\"Pair {i}: is_pose_high = \", pos_is_high)\n",
        "    print(\"Compare two positive house: \", pos_score)\n",
        "    print(\"Compare two negative house: \", neg_score)"
      ],
      "execution_count": 164,
      "outputs": [
        {
          "output_type": "stream",
          "text": [
            "Pair 0: is_pose_high =  1\n",
            "Compare two positive house:  [[0.9950239]]\n",
            "Compare two negative house:  [[0.9775199]]\n",
            "Pair 1: is_pose_high =  1\n",
            "Compare two positive house:  [[0.9950239]]\n",
            "Compare two negative house:  [[0.98111886]]\n",
            "Pair 2: is_pose_high =  1\n",
            "Compare two positive house:  [[0.9950239]]\n",
            "Compare two negative house:  [[0.714604]]\n"
          ],
          "name": "stdout"
        }
      ]
    },
    {
      "cell_type": "code",
      "metadata": {
        "colab": {
          "base_uri": "https://localhost:8080/"
        },
        "id": "3F2Yg0qyV-zG",
        "outputId": "1ff84633-1c91-4107-b3fc-527a0796fe46"
      },
      "source": [
        "contrastive_model_embedding.save('save_model/contrastive_model_embedding_window_full_3') \n",
        "# save_model/triplet_model_embedding_toy"
      ],
      "execution_count": 165,
      "outputs": [
        {
          "output_type": "stream",
          "text": [
            "INFO:tensorflow:Assets written to: save_model/contrastive_model_embedding_window_full_3/assets\n"
          ],
          "name": "stdout"
        }
      ]
    },
    {
      "cell_type": "markdown",
      "metadata": {
        "id": "ly7e_yAtKm3l"
      },
      "source": [
        "#### 2.2 Triplet Loss"
      ]
    },
    {
      "cell_type": "code",
      "metadata": {
        "id": "QdKLIn5l1T_W"
      },
      "source": [
        "def create_embedding_model():\n",
        "    input_shape = (anchor.shape[1],)\n",
        "    input_listing = Input(shape=input_shape)\n",
        "\n",
        "    x = Dense(32, activation='relu', input_shape=input_shape, name='dense1')(input_listing)\n",
        "    #x = Dropout(.2)(x)\n",
        "    x = BatchNormalization()(x)\n",
        "\n",
        "    # d2 = Dense(16, activation='relu', input_shape=input_shape, name='dense3')(do1)\n",
        "    # do2 = Dropout(.1)(d2)\n",
        "    # do2 = BatchNormalization()(do2)\n",
        "\n",
        "    bottleneck = Dense(16, activation='linear', input_shape=input_shape, name='dense4')(x)\n",
        "    \n",
        "\n",
        "    triplet_model_embedding = Model(input_listing, bottleneck)  \n",
        "    return triplet_model_embedding"
      ],
      "execution_count": 119,
      "outputs": []
    },
    {
      "cell_type": "code",
      "metadata": {
        "id": "AG5ZpmakKyMl"
      },
      "source": [
        "def triplet_loss(x, ALPHA=0.75):\n",
        "\n",
        "    anchor, positive, negative = x\n",
        "    \n",
        "    #Modifying the triplet loss\n",
        "    anchor = 2*anchor\n",
        "\n",
        "    pos_dist = tf.reduce_sum(tf.square(tf.subtract(anchor, positive)), 1)\n",
        "    neg_dist = tf.reduce_sum(tf.square(tf.subtract(anchor, negative)), 1)\n",
        "\n",
        "    basic_loss = tf.add(tf.subtract(pos_dist, neg_dist), ALPHA)\n",
        "    loss = tf.reduce_mean(tf.maximum(basic_loss, 0.0), 0)\n",
        "    loss = tf.divide(tf.maximum(loss, 0.0), 2.0) #??\n",
        "\n",
        "    #Return max(0, loss)\n",
        "    return loss"
      ],
      "execution_count": 120,
      "outputs": []
    },
    {
      "cell_type": "code",
      "metadata": {
        "colab": {
          "base_uri": "https://localhost:8080/",
          "height": 589
        },
        "id": "ROtlCoD7Kqo-",
        "outputId": "4c3a73b1-fa11-4213-c5f7-bd5724429842"
      },
      "source": [
        "input_shape = (anchor.shape[1],)\n",
        "triplet_model_embedding = create_embedding_model()\n",
        "\n",
        "anchor_example = Input(shape=input_shape, name='anchor')\n",
        "positive_example = Input(shape=input_shape, name='positive')\n",
        "negative_example = Input(shape=input_shape, name='negative')\n",
        "\n",
        "positive_embedding = triplet_model_embedding(positive_example)       \n",
        "negative_embedding = triplet_model_embedding(negative_example)       \n",
        "anchor_embedding = triplet_model_embedding(anchor_example)           \n",
        "\n",
        "#The Triplet Model which optimizes over the triplet loss.       \n",
        "loss = Lambda(triplet_loss, output_shape=(1,))([anchor_embedding, positive_embedding, negative_embedding])\n",
        "triplet_model = Model(inputs=[anchor_example, positive_example, negative_example], \n",
        "                      outputs=loss)\n",
        "\n",
        "adam_opt = tf.optimizers.Adam(lr=0.001)           \n",
        "                                                                \n",
        "display(triplet_model.summary())\n",
        "\n",
        "triplet_model.compile(loss='mean_absolute_error', optimizer=adam_opt)\n",
        "training_results = triplet_model.fit(x=(anchor,positive,negative),y=y_train, \n",
        "                                     validation_data=((anchor,positive,negative), y_train), \n",
        "                                     batch_size=128, epochs=5)"
      ],
      "execution_count": 122,
      "outputs": [
        {
          "output_type": "stream",
          "text": [
            "Model: \"functional_45\"\n",
            "__________________________________________________________________________________________________\n",
            "Layer (type)                    Output Shape         Param #     Connected to                     \n",
            "==================================================================================================\n",
            "anchor (InputLayer)             [(None, 77)]         0                                            \n",
            "__________________________________________________________________________________________________\n",
            "positive (InputLayer)           [(None, 77)]         0                                            \n",
            "__________________________________________________________________________________________________\n",
            "negative (InputLayer)           [(None, 77)]         0                                            \n",
            "__________________________________________________________________________________________________\n",
            "functional_43 (Functional)      (None, 16)           3152        positive[0][0]                   \n",
            "                                                                 negative[0][0]                   \n",
            "                                                                 anchor[0][0]                     \n",
            "__________________________________________________________________________________________________\n",
            "lambda_10 (Lambda)              ()                   0           functional_43[2][0]              \n",
            "                                                                 functional_43[0][0]              \n",
            "                                                                 functional_43[1][0]              \n",
            "==================================================================================================\n",
            "Total params: 3,152\n",
            "Trainable params: 3,088\n",
            "Non-trainable params: 64\n",
            "__________________________________________________________________________________________________\n"
          ],
          "name": "stdout"
        },
        {
          "output_type": "display_data",
          "data": {
            "text/plain": [
              "None"
            ]
          },
          "metadata": {
            "tags": []
          }
        },
        {
          "output_type": "stream",
          "text": [
            "Epoch 1/5\n",
            "574/574 [==============================] - 2s 3ms/step - loss: 0.6118 - val_loss: 0.4837\n",
            "Epoch 2/5\n",
            "574/574 [==============================] - 2s 3ms/step - loss: 0.1224 - val_loss: 0.2335\n",
            "Epoch 3/5\n",
            "574/574 [==============================] - 2s 3ms/step - loss: 0.0727 - val_loss: 0.4575\n",
            "Epoch 4/5\n",
            "574/574 [==============================] - 2s 3ms/step - loss: 0.0684 - val_loss: 0.2344\n",
            "Epoch 5/5\n",
            "574/574 [==============================] - 2s 3ms/step - loss: 0.0651 - val_loss: 0.2421\n"
          ],
          "name": "stdout"
        }
      ]
    },
    {
      "cell_type": "code",
      "metadata": {
        "colab": {
          "base_uri": "https://localhost:8080/"
        },
        "id": "hL8rQ2VtXbYI",
        "outputId": "2b14ec13-aa80-4ebf-b275-48440ab338a7"
      },
      "source": [
        "triplet_model_embedding.save('save_model/triplet_model_embedding_window_full_4') "
      ],
      "execution_count": 125,
      "outputs": [
        {
          "output_type": "stream",
          "text": [
            "INFO:tensorflow:Assets written to: save_model/triplet_model_embedding_window_full_4/assets\n"
          ],
          "name": "stdout"
        }
      ]
    },
    {
      "cell_type": "code",
      "metadata": {
        "colab": {
          "base_uri": "https://localhost:8080/",
          "height": 370
        },
        "id": "GqgbwcJ9K-zt",
        "outputId": "b812efc4-d789-46a2-dd44-e5ac36c6bfab"
      },
      "source": [
        "evaluate_model(triplet_model,(anchor,positive,negative), training_results)"
      ],
      "execution_count": 123,
      "outputs": [
        {
          "output_type": "display_data",
          "data": {
            "image/png": "[encoded data removed]",
            "text/plain": [
              "<Figure size 1080x360 with 1 Axes>"
            ]
          },
          "metadata": {
            "tags": [],
            "needs_background": "light"
          }
        },
        {
          "output_type": "stream",
          "text": [
            "2296/2296 [==============================] - 3s 1ms/step - loss: 0.0000e+00\n",
            "Evaluation Results: 0.0\n"
          ],
          "name": "stdout"
        }
      ]
    },
    {
      "cell_type": "code",
      "metadata": {
        "colab": {
          "base_uri": "https://localhost:8080/"
        },
        "id": "nOzEtxNYLD7k",
        "outputId": "fc3323da-d7fb-4de3-b0c0-d1db26a8ba46"
      },
      "source": [
        "house1 = triplet_model_embedding.predict(anchor_test)\n",
        "house2 = triplet_model_embedding.predict(pos_test)\n",
        "house3 = triplet_model_embedding.predict(neg_test)\n",
        "\n",
        "cos_sim_all = []\n",
        "for h1, h2,h3 in zip(house1, house2, house3):\n",
        "  cos_sim_pos = dot(h1, h2)/(norm(h1)*norm(h2))\n",
        "  cos_sim_neg = dot(h1, h3)/(norm(h1)*norm(h3))\n",
        "  cos_sim_all.append(cos_sim_pos-cos_sim_neg)\n",
        "\n",
        "cos_sim_all = np.array(cos_sim_all)\n",
        "pos_is_high_sum = sum(cos_sim_all>0)\n",
        "pos_is_high_sum/len(anchor_test)"
      ],
      "execution_count": 124,
      "outputs": [
        {
          "output_type": "execute_result",
          "data": {
            "text/plain": [
              "0.7993192648059905"
            ]
          },
          "metadata": {
            "tags": []
          },
          "execution_count": 124
        }
      ]
    },
    {
      "cell_type": "code",
      "metadata": {
        "colab": {
          "base_uri": "https://localhost:8080/"
        },
        "id": "XFz8z_WwXE5A",
        "outputId": "9dc6444e-3c8c-4fd4-b423-2dc211b7f44c"
      },
      "source": [
        "## cos similarity \n",
        "pos_scores = cosine_similarity(anchor_test, pos_test)\n",
        "pos_scores = np.diag(pos_scores)\n",
        "\n",
        "neg_scores = cosine_similarity(anchor_test, neg_test)\n",
        "neg_scores = np.diag(neg_scores)\n",
        "\n",
        "pos_is_high_sum = sum(pos_scores>neg_scores)\n",
        "pos_is_high_sum/len(anchor_test)"
      ],
      "execution_count": 239,
      "outputs": [
        {
          "output_type": "execute_result",
          "data": {
            "text/plain": [
              "0.5380530973451327"
            ]
          },
          "metadata": {
            "tags": []
          },
          "execution_count": 239
        }
      ]
    },
    {
      "cell_type": "code",
      "metadata": {
        "colab": {
          "base_uri": "https://localhost:8080/"
        },
        "id": "rrayN-ODLQNj",
        "outputId": "c30ad3d9-334e-456e-a78f-54f3708ea72f"
      },
      "source": [
        "pos_is_high_sum = 0\n",
        "for i in range(3):\n",
        "    house1 = triplet_model_embedding.predict(anchor_test[i:i+1])\n",
        "    house2 = triplet_model_embedding.predict(pos_test[i:i+1])\n",
        "    house3 = triplet_model_embedding.predict(neg_test[i:i+1])\n",
        "    pos_score = cosine_similarity(house1, house2)\n",
        "    neg_score = cosine_similarity(house1, house3)\n",
        "    pos_is_high = 1 if pos_score>neg_score else 0\n",
        "    pos_is_high_sum += pos_is_high\n",
        "    print(f\"Pair {i}: is_pose_high = \", pos_is_high)\n",
        "    print(\"Compare two positive house: \", pos_score)\n",
        "    print(\"Compare two negative house: \", neg_score)"
      ],
      "execution_count": 73,
      "outputs": [
        {
          "output_type": "stream",
          "text": [
            "Pair 0: is_pose_high =  1\n",
            "Compare two positive house:  [[0.99553233]]\n",
            "Compare two negative house:  [[0.99538183]]\n",
            "Pair 1: is_pose_high =  1\n",
            "Compare two positive house:  [[0.99553233]]\n",
            "Compare two negative house:  [[0.99392873]]\n",
            "Pair 2: is_pose_high =  1\n",
            "Compare two positive house:  [[0.99553233]]\n",
            "Compare two negative house:  [[0.9608447]]\n"
          ],
          "name": "stdout"
        }
      ]
    },
    {
      "cell_type": "markdown",
      "metadata": {
        "id": "tHICtg05_Cus"
      },
      "source": [
        "### Step 3: Interpretation"
      ]
    },
    {
      "cell_type": "code",
      "metadata": {
        "id": "HrNpBccN9-eh"
      },
      "source": [
        "def get_shap_interpretation(model_nm, input_data, pick_k=100, max_display=20):\n",
        "    # select a set of background examples to take an expectation over\n",
        "    rand_idx = np.random.choice(input_data.shape[0], pick_k, replace=False)\n",
        "    background = input_data[rand_idx]\n",
        "\n",
        "    # explain predictions of the model on four images\n",
        "    e = shap.DeepExplainer(model_nm, background)\n",
        "    shap.explainers._deep.deep_tf.op_handlers[\"AddV2\"] = shap.explainers._deep.deep_tf.passthrough\n",
        "    shap_values = e.explainer.shap_values(input_data[1:100])\n",
        "    # plot the feature attributions\n",
        "    # max_display = 20 # only bar works\n",
        "    shap.summary_plot(shap_values, anchor[1:100], \n",
        "                      plot_type=\"bar\", max_display=max_display) "
      ],
      "execution_count": 62,
      "outputs": []
    },
    {
      "cell_type": "code",
      "metadata": {
        "colab": {
          "base_uri": "https://localhost:8080/",
          "height": 581
        },
        "id": "PkRCOF7p_At6",
        "outputId": "a1649e67-5083-4a84-dcf0-4eefc3603b7f"
      },
      "source": [
        "# plot the feature attributions\n",
        "get_shap_interpretation(contrastive_model_embedding, anchor, pick_k=200, max_display=20)"
      ],
      "execution_count": 349,
      "outputs": [
        {
          "output_type": "display_data",
          "data": {
            "image/png": "[encoded data removed]",
            "text/plain": [
              "<Figure size 576x684 with 1 Axes>"
            ]
          },
          "metadata": {
            "tags": [],
            "needs_background": "light"
          }
        }
      ]
    },
    {
      "cell_type": "code",
      "metadata": {
        "colab": {
          "base_uri": "https://localhost:8080/"
        },
        "id": "VqaSEHtcLh10",
        "outputId": "e89e6531-66d1-4a53-8d01-ffc4a7ebabda"
      },
      "source": [
        "# house features\n",
        "pkl_file = open('data/listing_dict.pkl', 'rb')\n",
        "listing_dict = pickle.load(pkl_file)\n",
        "pkl_file.close()\n",
        "\n",
        "listing_df = pd.DataFrame.from_dict(listing_dict, orient='index')\n",
        "print(\"Load in listing info: \", listing_df.shape)"
      ],
      "execution_count": 234,
      "outputs": [
        {
          "output_type": "stream",
          "text": [
            "Load in listing info:  (5575, 77)\n"
          ],
          "name": "stdout"
        }
      ]
    },
    {
      "cell_type": "code",
      "metadata": {
        "colab": {
          "base_uri": "https://localhost:8080/"
        },
        "id": "btLBxz3O_CLJ",
        "outputId": "481a3cfc-f380-468f-9282-e43e194976de"
      },
      "source": [
        "top20 = listing_df.columns[[0,1,3,4,6,8]]\n",
        "\n",
        "for col in top20:\n",
        "    print(col)"
      ],
      "execution_count": 350,
      "outputs": [
        {
          "output_type": "stream",
          "text": [
            "total_baths\n",
            "stories\n",
            "has_jacuzzi\n",
            "has_pool\n",
            "has_garage\n",
            "full_baths\n"
          ],
          "name": "stdout"
        }
      ]
    },
    {
      "cell_type": "markdown",
      "metadata": {
        "id": "Wb5t8V-7tzPq"
      },
      "source": [
        "### Step 4: Evaluation"
      ]
    },
    {
      "cell_type": "markdown",
      "metadata": {
        "id": "rjQkaXPYxH7y"
      },
      "source": [
        "Load in pre-trained model(s)"
      ]
    },
    {
      "cell_type": "code",
      "metadata": {
        "colab": {
          "base_uri": "https://localhost:8080/"
        },
        "id": "xALyldKZtyh_",
        "outputId": "9c1da65b-42b6-41b4-c9e5-c84981fbabc0"
      },
      "source": [
        "print(\"Load in pretrained models\")\n",
        "MODEL_NAME = \"save_model/triplet_model_embedding_window_full\"\n",
        "triplet_model_embedding = tf.keras.models.load_model(MODEL_NAME)"
      ],
      "execution_count": 8,
      "outputs": [
        {
          "output_type": "stream",
          "text": [
            "Load in pretrained models\n",
            "WARNING:tensorflow:No training configuration found in save file, so the model was *not* compiled. Compile it manually.\n"
          ],
          "name": "stdout"
        }
      ]
    },
    {
      "cell_type": "markdown",
      "metadata": {
        "id": "KfFYrEmrwrSO"
      },
      "source": [
        "Load in true visiting history of each ip"
      ]
    },
    {
      "cell_type": "code",
      "metadata": {
        "colab": {
          "base_uri": "https://localhost:8080/",
          "height": 129
        },
        "id": "JFYTbAVQuYIl",
        "outputId": "bf0d933a-8a1c-4d6a-991c-3dd6848a005e"
      },
      "source": [
        "# read python dict back from the file\n",
        "# test house\n",
        "pkl_file = open('data/ip_listing_temporal_test_full.pkl', 'rb')\n",
        "user_listing_test = pickle.load(pkl_file)\n",
        "print(user_listing_test.shape)\n",
        "display(user_listing_test.head(2))\n",
        "pkl_file.close()"
      ],
      "execution_count": 9,
      "outputs": [
        {
          "output_type": "stream",
          "text": [
            "(17102, 2)\n"
          ],
          "name": "stdout"
        },
        {
          "output_type": "display_data",
          "data": {
            "text/html": [
              "<div>\n",
              "<style scoped>\n",
              "    .dataframe tbody tr th:only-of-type {\n",
              "        vertical-align: middle;\n",
              "    }\n",
              "\n",
              "    .dataframe tbody tr th {\n",
              "        vertical-align: top;\n",
              "    }\n",
              "\n",
              "    .dataframe thead th {\n",
              "        text-align: right;\n",
              "    }\n",
              "</style>\n",
              "<table border=\"1\" class=\"dataframe\">\n",
              "  <thead>\n",
              "    <tr style=\"text-align: right;\">\n",
              "      <th></th>\n",
              "      <th>ip</th>\n",
              "      <th>rexUrl</th>\n",
              "    </tr>\n",
              "  </thead>\n",
              "  <tbody>\n",
              "    <tr>\n",
              "      <th>11</th>\n",
              "      <td>1.129.109.119</td>\n",
              "      <td>22127-buena-ventura-st</td>\n",
              "    </tr>\n",
              "    <tr>\n",
              "      <th>65</th>\n",
              "      <td>1.65.170.128</td>\n",
              "      <td>6151-orange-st-apt-118</td>\n",
              "    </tr>\n",
              "  </tbody>\n",
              "</table>\n",
              "</div>"
            ],
            "text/plain": [
              "               ip                  rexUrl\n",
              "11  1.129.109.119  22127-buena-ventura-st\n",
              "65   1.65.170.128  6151-orange-st-apt-118"
            ]
          },
          "metadata": {
            "tags": []
          }
        }
      ]
    },
    {
      "cell_type": "markdown",
      "metadata": {
        "id": "c7qc5tXKwvq2"
      },
      "source": [
        "#### 4.1 Prepare evaluation data:\n",
        "\n",
        "Load in all unseen pairs:\n",
        "$$\\{mean_{ip}, unseen\\ listing\\}$$\n",
        "Calculate cos-similarit of embeddings"
      ]
    },
    {
      "cell_type": "markdown",
      "metadata": {
        "id": "edTPfBCJZdMQ"
      },
      "source": [
        "##### 4.1.1. Single model"
      ]
    },
    {
      "cell_type": "code",
      "metadata": {
        "id": "rlmZ_0NBxZhp"
      },
      "source": [
        "is_cos = False\n",
        "cos_sim_all = np.array([])\n",
        "ips = np.array([])\n",
        "rex_urls = np.array([])"
      ],
      "execution_count": 167,
      "outputs": []
    },
    {
      "cell_type": "code",
      "metadata": {
        "colab": {
          "base_uri": "https://localhost:8080/"
        },
        "id": "kUmcLRU7BYKv",
        "outputId": "41274c60-093b-416e-d347-7042995289f9"
      },
      "source": [
        "row_size = 15000\n",
        "num_chunks = 3985898//row_size\n",
        "df_chunks = pd.read_csv(\"./data/user_medianed_paired_unseen.csv\",sep=',', \n",
        "                          chunksize=row_size)\n",
        "\n",
        "print(\"Load in unseen pairs chunk by chunk: \")\n",
        "for eval_df in tqdm(df_chunks):\n",
        "  ips = np.concatenate([ips, eval_df.ip])\n",
        "  rex_urls = np.concatenate([rex_urls, eval_df.rex_url])\n",
        "  wanted_cols = eval_df.columns.difference(['Unnamed: 0','ip','rex_url'], sort=False)\n",
        "  \n",
        "  if is_cos:\n",
        "    anchor_embd = eval_df[wanted_cols].iloc[:, :77].values\n",
        "    house_candidate_embd = eval_df[wanted_cols].iloc[:, 77:].values\n",
        "  else:\n",
        "    anchor_embd = triplet_model_embedding.predict(eval_df[wanted_cols].iloc[:, :77].values)\n",
        "    house_candidate_embd = triplet_model_embedding.predict(eval_df[wanted_cols].iloc[:, 77:].values)\n",
        "  \n",
        "  cos_sim_scores = cosine_similarity(anchor_embd, house_candidate_embd)\n",
        "  cos_sim_scores = np.diag(cos_sim_scores)\n",
        "  cos_sim_all = np.concatenate([cos_sim_all, cos_sim_scores.flatten()])\n",
        "\n",
        "\n",
        "cos_sim_all = np.array(cos_sim_all)"
      ],
      "execution_count": 168,
      "outputs": [
        {
          "output_type": "stream",
          "text": [
            "\r0it [00:00, ?it/s]"
          ],
          "name": "stderr"
        },
        {
          "output_type": "stream",
          "text": [
            "Load in unseen pairs chunk by chunk: \n"
          ],
          "name": "stdout"
        },
        {
          "output_type": "stream",
          "text": [
            "266it [05:53,  1.33s/it]\n"
          ],
          "name": "stderr"
        }
      ]
    },
    {
      "cell_type": "code",
      "metadata": {
        "id": "cTysTNLRA0wU"
      },
      "source": [
        "temporal_pred = np.ones(cos_sim_all.shape)\n",
        "\n",
        "# Create prediction result table\n",
        "all_pairs_predictions = pd.DataFrame({'ip':ips,'rex_url':rex_urls,'proba':cos_sim_all,'pred':temporal_pred})\n",
        "all_pairs_predictions.sort_values('proba',ascending=False,inplace=True)\n",
        "all_pairs_predictions.reset_index(drop=True,inplace=True)"
      ],
      "execution_count": 169,
      "outputs": []
    },
    {
      "cell_type": "code",
      "metadata": {
        "id": "eWw2Of6laYll"
      },
      "source": [
        "# Save result \"triplet\" \"contrastive\", \"contrastive2\", \"cos_sim\"\n",
        "all_pairs_predictions.to_pickle('./save_model/contrastive3_all_pairs_predictions.pkl')"
      ],
      "execution_count": 170,
      "outputs": []
    },
    {
      "cell_type": "markdown",
      "metadata": {
        "id": "LeM5Nl8bXhLh"
      },
      "source": [
        "##### 4.1.2 Prepare Ensemble Model"
      ]
    },
    {
      "cell_type": "code",
      "metadata": {
        "id": "uh5zAexUenhB"
      },
      "source": [
        "ensemble_method = \"rank\" # \"add_cos\",\"rank\""
      ],
      "execution_count": 10,
      "outputs": []
    },
    {
      "cell_type": "code",
      "metadata": {
        "id": "I-KSsq8HXkhx"
      },
      "source": [
        "file_ls = ['triplet']#,'triplet3','triplet4']#['contrastive','contrastive2'] #'triplet',\n",
        "ensemble_prob = np.array([])\n",
        "\n",
        "# load in features\n",
        "for file_nm in file_ls:\n",
        "  pkl_file = open(f'./save_model/{file_nm}_all_pairs_predictions.pkl', 'rb')\n",
        "  curr_model = pickle.load(pkl_file)\n",
        "  pkl_file.close()\n",
        "  if ensemble_prob.shape[0]:\n",
        "    if ensemble_method==\"rank\":\n",
        "      ensemble_prob += curr_model.groupby(\"ip\")[\"proba\"].rank(method='dense')\n",
        "    if ensemble_method==\"add_cos\":\n",
        "      ensemble_prob += curr_model.proba.values\n",
        "  else:\n",
        "    if ensemble_method==\"rank\":\n",
        "      ensemble_prob = curr_model.groupby(\"ip\")[\"proba\"].rank(method='dense')\n",
        "    if ensemble_method==\"add_cos\":\n",
        "      ensemble_prob = curr_model.proba.values\n",
        "\n",
        "ips = curr_model.ip.values\n",
        "rex_urls = curr_model.rex_url.values"
      ],
      "execution_count": 11,
      "outputs": []
    },
    {
      "cell_type": "code",
      "metadata": {
        "id": "8k-0UsOSYk7b"
      },
      "source": [
        "temporal_pred = np.ones(ensemble_prob.shape)\n",
        "\n",
        "# Create prediction result table\n",
        "all_pairs_predictions = pd.DataFrame({'ip':ips,'rex_url':rex_urls,'proba':ensemble_prob,'pred':temporal_pred})\n",
        "all_pairs_predictions.sort_values('proba',ascending=False,inplace=True)\n",
        "all_pairs_predictions.reset_index(drop=True,inplace=True)"
      ],
      "execution_count": 12,
      "outputs": []
    },
    {
      "cell_type": "markdown",
      "metadata": {
        "id": "G20-8PfAGjCH"
      },
      "source": [
        "#### 4.2 Calculate"
      ]
    },
    {
      "cell_type": "code",
      "metadata": {
        "id": "bUUkSPCnYrTw"
      },
      "source": [
        "def precision_recall_at_k(k_in):\n",
        "  # get top k predictions for each ip\n",
        "  g = all_pairs_predictions.groupby(['ip']).apply(lambda x: x.sort_values(['proba'], ascending = False)).reset_index(drop=True)\n",
        "  top_k_each = g.groupby('ip').head(k_in)\n",
        "  recommended_at_k = top_k_each[top_k_each.pred==1].groupby('ip')['rex_url'].apply(list).reset_index()\n",
        "\n",
        "  recall_results = {}\n",
        "  precision_results = {}\n",
        "  #loop through each ip and compare recommended to real test set\n",
        "  for idx, row in recommended_at_k.iterrows():\n",
        "    ip_curr = row['ip']\n",
        "    recommended_at_k_curr = row['rex_url']\n",
        "\n",
        "    true_for_ip_curr = user_listing_test[user_listing_test.ip==ip_curr].rexUrl.values\n",
        "\n",
        "    # Recommendations that are relevant\n",
        "    # find overlap\n",
        "    correctly_found_ip_curr = list(set(recommended_at_k_curr) & set(true_for_ip_curr))\n",
        "\n",
        "    if (len(correctly_found_ip_curr)>0) & (len(true_for_ip_curr)>=2)& (len(true_for_ip_curr)<=6):\n",
        "      print(ip_curr)\n",
        "      print(correctly_found_ip_curr)\n",
        "      break\n",
        "    recall_results[ip_curr] = len(correctly_found_ip_curr)/len(true_for_ip_curr)\n",
        "    precision_results[ip_curr] = len(correctly_found_ip_curr)/len(recommended_at_k_curr)\n",
        "\n",
        "  \n",
        "  return recommended_at_k, recall_results, precision_results\n"
      ],
      "execution_count": 21,
      "outputs": []
    },
    {
      "cell_type": "code",
      "metadata": {
        "id": "ckrYOgdnY10T"
      },
      "source": [
        "precision_recall_at_k(10)"
      ],
      "execution_count": null,
      "outputs": []
    },
    {
      "cell_type": "code",
      "metadata": {
        "id": "mMqSeAybGn7n"
      },
      "source": [
        "k_ls = [10, 20,30,50]\n",
        "\n",
        "for k in k_ls:\n",
        "  recommended_at_10, recall_at_10, precision_at_10 = precision_recall_at_k(k)\n",
        "  print(f'precision @ {k}', np.mean(list(precision_at_10.values())))\n",
        "  print(f'recall @ {k}', np.mean(list(recall_at_10.values())))\n",
        "  print(\"\\n\")"
      ],
      "execution_count": null,
      "outputs": []
    },
    {
      "cell_type": "markdown",
      "metadata": {
        "id": "ignVYPTPb5Lq"
      },
      "source": [
        "#### 4.3 Case study"
      ]
    },
    {
      "cell_type": "code",
      "metadata": {
        "colab": {
          "base_uri": "https://localhost:8080/",
          "height": 241
        },
        "id": "zeEK3hr9b8SF",
        "outputId": "d18e1671-36c3-48a5-8bd0-621b6f04bb58"
      },
      "source": [
        "case_ip = \"100.1.133.99\" #\"104.173.194.23\" #\"104.1.138.21\" #\n",
        "ip_candidate_df = all_pairs_predictions.loc[all_pairs_predictions.ip==case_ip]\n",
        "ip_candidate_df.reset_index(drop=True, inplace=True)\n",
        "print(\"Top 3 recommendation\")\n",
        "display(ip_candidate_df.head(3))\n",
        "print(\"Actual Visit\")\n",
        "display(user_listing_test.loc[user_listing_test.ip==case_ip])"
      ],
      "execution_count": 30,
      "outputs": [
        {
          "output_type": "stream",
          "text": [
            "Top 3 recommendation\n"
          ],
          "name": "stdout"
        },
        {
          "output_type": "display_data",
          "data": {
            "text/html": [
              "<div>\n",
              "<style scoped>\n",
              "    .dataframe tbody tr th:only-of-type {\n",
              "        vertical-align: middle;\n",
              "    }\n",
              "\n",
              "    .dataframe tbody tr th {\n",
              "        vertical-align: top;\n",
              "    }\n",
              "\n",
              "    .dataframe thead th {\n",
              "        text-align: right;\n",
              "    }\n",
              "</style>\n",
              "<table border=\"1\" class=\"dataframe\">\n",
              "  <thead>\n",
              "    <tr style=\"text-align: right;\">\n",
              "      <th></th>\n",
              "      <th>ip</th>\n",
              "      <th>rex_url</th>\n",
              "      <th>proba</th>\n",
              "      <th>pred</th>\n",
              "    </tr>\n",
              "  </thead>\n",
              "  <tbody>\n",
              "    <tr>\n",
              "      <th>0</th>\n",
              "      <td>100.1.133.99</td>\n",
              "      <td>1219-dell-dr</td>\n",
              "      <td>462.0</td>\n",
              "      <td>1.0</td>\n",
              "    </tr>\n",
              "    <tr>\n",
              "      <th>1</th>\n",
              "      <td>100.1.133.99</td>\n",
              "      <td>22633-sylvan-st</td>\n",
              "      <td>461.0</td>\n",
              "      <td>1.0</td>\n",
              "    </tr>\n",
              "    <tr>\n",
              "      <th>2</th>\n",
              "      <td>100.1.133.99</td>\n",
              "      <td>8719-topanga-canyon-blvd</td>\n",
              "      <td>460.0</td>\n",
              "      <td>1.0</td>\n",
              "    </tr>\n",
              "  </tbody>\n",
              "</table>\n",
              "</div>"
            ],
            "text/plain": [
              "             ip                   rex_url  proba  pred\n",
              "0  100.1.133.99              1219-dell-dr  462.0   1.0\n",
              "1  100.1.133.99           22633-sylvan-st  461.0   1.0\n",
              "2  100.1.133.99  8719-topanga-canyon-blvd  460.0   1.0"
            ]
          },
          "metadata": {
            "tags": []
          }
        },
        {
          "output_type": "stream",
          "text": [
            "Actual Visit\n"
          ],
          "name": "stdout"
        },
        {
          "output_type": "display_data",
          "data": {
            "text/html": [
              "<div>\n",
              "<style scoped>\n",
              "    .dataframe tbody tr th:only-of-type {\n",
              "        vertical-align: middle;\n",
              "    }\n",
              "\n",
              "    .dataframe tbody tr th {\n",
              "        vertical-align: top;\n",
              "    }\n",
              "\n",
              "    .dataframe thead th {\n",
              "        text-align: right;\n",
              "    }\n",
              "</style>\n",
              "<table border=\"1\" class=\"dataframe\">\n",
              "  <thead>\n",
              "    <tr style=\"text-align: right;\">\n",
              "      <th></th>\n",
              "      <th>ip</th>\n",
              "      <th>rexUrl</th>\n",
              "    </tr>\n",
              "  </thead>\n",
              "  <tbody>\n",
              "    <tr>\n",
              "      <th>86</th>\n",
              "      <td>100.1.133.99</td>\n",
              "      <td>8719-topanga-canyon-blvd</td>\n",
              "    </tr>\n",
              "  </tbody>\n",
              "</table>\n",
              "</div>"
            ],
            "text/plain": [
              "              ip                    rexUrl\n",
              "86  100.1.133.99  8719-topanga-canyon-blvd"
            ]
          },
          "metadata": {
            "tags": []
          }
        }
      ]
    },
    {
      "cell_type": "code",
      "metadata": {
        "colab": {
          "base_uri": "https://localhost:8080/",
          "height": 174
        },
        "id": "pvc4Tqxza7ye",
        "outputId": "db864436-ea1a-4780-c2fb-200f57a95fd1"
      },
      "source": [
        "train_la = pd.read_pickle(\"./data/ip_listing_temporal_train_full.pkl\")\n",
        "listing_data = pd.read_pickle('./data/LOG_siamese_data_11_12.pkl')\n",
        "\n",
        "\n",
        "iptest = case_ip\n",
        "training_case = train_la[train_la.ip==iptest].merge(listing_data,left_on='rexUrl',right_on='rex_url',how='left')\n",
        "training_case['sqft'] = np.exp(training_case['log_sqft']).map('{:,.0f}'.format)\n",
        "training_case['price'] = np.exp(training_case['log_price']).map('{:,.0f}'.format)\n",
        "training_case['total_rooms'] = np.exp(training_case['log_total_rooms'])\n",
        "cols = ['rex_url','sqft','price','bedrooms','total_rooms','full_baths','is_apt']\n",
        "\n",
        "training_case[cols]"
      ],
      "execution_count": 31,
      "outputs": [
        {
          "output_type": "execute_result",
          "data": {
            "text/html": [
              "<div>\n",
              "<style scoped>\n",
              "    .dataframe tbody tr th:only-of-type {\n",
              "        vertical-align: middle;\n",
              "    }\n",
              "\n",
              "    .dataframe tbody tr th {\n",
              "        vertical-align: top;\n",
              "    }\n",
              "\n",
              "    .dataframe thead th {\n",
              "        text-align: right;\n",
              "    }\n",
              "</style>\n",
              "<table border=\"1\" class=\"dataframe\">\n",
              "  <thead>\n",
              "    <tr style=\"text-align: right;\">\n",
              "      <th></th>\n",
              "      <th>rex_url</th>\n",
              "      <th>sqft</th>\n",
              "      <th>price</th>\n",
              "      <th>bedrooms</th>\n",
              "      <th>total_rooms</th>\n",
              "      <th>full_baths</th>\n",
              "      <th>is_apt</th>\n",
              "    </tr>\n",
              "  </thead>\n",
              "  <tbody>\n",
              "    <tr>\n",
              "      <th>0</th>\n",
              "      <td>5418-geyser-ave</td>\n",
              "      <td>1,313</td>\n",
              "      <td>799,000</td>\n",
              "      <td>3.0</td>\n",
              "      <td>6.0</td>\n",
              "      <td>2.0</td>\n",
              "      <td>0.0</td>\n",
              "    </tr>\n",
              "    <tr>\n",
              "      <th>1</th>\n",
              "      <td>1415-n-myers-st</td>\n",
              "      <td>1,782</td>\n",
              "      <td>840,000</td>\n",
              "      <td>5.0</td>\n",
              "      <td>5.0</td>\n",
              "      <td>3.0</td>\n",
              "      <td>0.0</td>\n",
              "    </tr>\n",
              "    <tr>\n",
              "      <th>2</th>\n",
              "      <td>8450-denise-ln</td>\n",
              "      <td>1,776</td>\n",
              "      <td>660,000</td>\n",
              "      <td>3.0</td>\n",
              "      <td>7.0</td>\n",
              "      <td>2.0</td>\n",
              "      <td>0.0</td>\n",
              "    </tr>\n",
              "    <tr>\n",
              "      <th>3</th>\n",
              "      <td>9323-alcott-st-apt-101</td>\n",
              "      <td>2,588</td>\n",
              "      <td>1,329,999</td>\n",
              "      <td>5.0</td>\n",
              "      <td>17.0</td>\n",
              "      <td>5.0</td>\n",
              "      <td>1.0</td>\n",
              "    </tr>\n",
              "  </tbody>\n",
              "</table>\n",
              "</div>"
            ],
            "text/plain": [
              "                  rex_url   sqft      price  bedrooms  total_rooms  \\\n",
              "0         5418-geyser-ave  1,313    799,000       3.0          6.0   \n",
              "1         1415-n-myers-st  1,782    840,000       5.0          5.0   \n",
              "2          8450-denise-ln  1,776    660,000       3.0          7.0   \n",
              "3  9323-alcott-st-apt-101  2,588  1,329,999       5.0         17.0   \n",
              "\n",
              "   full_baths  is_apt  \n",
              "0         2.0     0.0  \n",
              "1         3.0     0.0  \n",
              "2         2.0     0.0  \n",
              "3         5.0     1.0  "
            ]
          },
          "metadata": {
            "tags": []
          },
          "execution_count": 31
        }
      ]
    },
    {
      "cell_type": "code",
      "metadata": {
        "colab": {
          "base_uri": "https://localhost:8080/",
          "height": 80
        },
        "id": "76npLFymbl7A",
        "outputId": "ac1d2551-aa1a-4cd9-d523-1f90a13676fc"
      },
      "source": [
        "test_la = pd.read_pickle(\"./data/ip_listing_temporal_test_full.pkl\")\n",
        "\n",
        "testing_case = test_la[test_la.ip==iptest].merge(listing_data,left_on='rexUrl',right_on='rex_url',how='left')\n",
        "testing_case['sqft'] = np.exp(testing_case['log_sqft']).map('{:,.0f}'.format)\n",
        "testing_case['price'] = np.exp(testing_case['log_price']).map('{:,.0f}'.format)\n",
        "testing_case['total_rooms'] = np.exp(testing_case['log_total_rooms'])\n",
        "\n",
        "testing_case[cols]"
      ],
      "execution_count": 32,
      "outputs": [
        {
          "output_type": "execute_result",
          "data": {
            "text/html": [
              "<div>\n",
              "<style scoped>\n",
              "    .dataframe tbody tr th:only-of-type {\n",
              "        vertical-align: middle;\n",
              "    }\n",
              "\n",
              "    .dataframe tbody tr th {\n",
              "        vertical-align: top;\n",
              "    }\n",
              "\n",
              "    .dataframe thead th {\n",
              "        text-align: right;\n",
              "    }\n",
              "</style>\n",
              "<table border=\"1\" class=\"dataframe\">\n",
              "  <thead>\n",
              "    <tr style=\"text-align: right;\">\n",
              "      <th></th>\n",
              "      <th>rex_url</th>\n",
              "      <th>sqft</th>\n",
              "      <th>price</th>\n",
              "      <th>bedrooms</th>\n",
              "      <th>total_rooms</th>\n",
              "      <th>full_baths</th>\n",
              "      <th>is_apt</th>\n",
              "    </tr>\n",
              "  </thead>\n",
              "  <tbody>\n",
              "    <tr>\n",
              "      <th>0</th>\n",
              "      <td>8719-topanga-canyon-blvd</td>\n",
              "      <td>2,144</td>\n",
              "      <td>719,000</td>\n",
              "      <td>4.0</td>\n",
              "      <td>8.0</td>\n",
              "      <td>3.0</td>\n",
              "      <td>0.0</td>\n",
              "    </tr>\n",
              "  </tbody>\n",
              "</table>\n",
              "</div>"
            ],
            "text/plain": [
              "                    rex_url   sqft    price  bedrooms  total_rooms  \\\n",
              "0  8719-topanga-canyon-blvd  2,144  719,000       4.0          8.0   \n",
              "\n",
              "   full_baths  is_apt  \n",
              "0         3.0     0.0  "
            ]
          },
          "metadata": {
            "tags": []
          },
          "execution_count": 32
        }
      ]
    },
    {
      "cell_type": "code",
      "metadata": {
        "colab": {
          "base_uri": "https://localhost:8080/",
          "height": 80
        },
        "id": "9fwOwcxRdwAj",
        "outputId": "9a132ed3-78b4-42f1-decd-187fb131fd4c"
      },
      "source": [
        "ip_candidate_df.loc[ip_candidate_df.rex_url.isin([\"8719-topanga-canyon-blvd\"])]"
      ],
      "execution_count": 33,
      "outputs": [
        {
          "output_type": "execute_result",
          "data": {
            "text/html": [
              "<div>\n",
              "<style scoped>\n",
              "    .dataframe tbody tr th:only-of-type {\n",
              "        vertical-align: middle;\n",
              "    }\n",
              "\n",
              "    .dataframe tbody tr th {\n",
              "        vertical-align: top;\n",
              "    }\n",
              "\n",
              "    .dataframe thead th {\n",
              "        text-align: right;\n",
              "    }\n",
              "</style>\n",
              "<table border=\"1\" class=\"dataframe\">\n",
              "  <thead>\n",
              "    <tr style=\"text-align: right;\">\n",
              "      <th></th>\n",
              "      <th>ip</th>\n",
              "      <th>rex_url</th>\n",
              "      <th>proba</th>\n",
              "      <th>pred</th>\n",
              "    </tr>\n",
              "  </thead>\n",
              "  <tbody>\n",
              "    <tr>\n",
              "      <th>2</th>\n",
              "      <td>100.1.133.99</td>\n",
              "      <td>8719-topanga-canyon-blvd</td>\n",
              "      <td>460.0</td>\n",
              "      <td>1.0</td>\n",
              "    </tr>\n",
              "  </tbody>\n",
              "</table>\n",
              "</div>"
            ],
            "text/plain": [
              "             ip                   rex_url  proba  pred\n",
              "2  100.1.133.99  8719-topanga-canyon-blvd  460.0   1.0"
            ]
          },
          "metadata": {
            "tags": []
          },
          "execution_count": 33
        }
      ]
    }
  ]
}