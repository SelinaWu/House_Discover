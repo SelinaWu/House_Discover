{
  "nbformat": 4,
  "nbformat_minor": 0,
  "metadata": {
    "colab": {
      "name": "Listing_Co-Occurrences.ipynb",
      "provenance": [],
      "collapsed_sections": []
    },
    "kernelspec": {
      "name": "python3",
      "display_name": "Python 3"
    },
    "accelerator": "GPU"
  },
  "cells": [
    {
      "cell_type": "markdown",
      "metadata": {
        "id": "hrJ3NiwGrUbd"
      },
      "source": [
        "# Generate Listing Co-Occurrences as Collaborative Data\n",
        "Across all users web activity, find what listings users tended to view right before and two after the current one.\n",
        "\n",
        "Use this information as an indication of user journey, exploration and intent for training models."
      ]
    },
    {
      "cell_type": "code",
      "metadata": {
        "id": "QlYaSvvCxlGM"
      },
      "source": [
        "import pandas as pd\n",
        "import numpy as np\n",
        "import matplotlib.pyplot as plt\n",
        "pd.set_option('display.max_rows', None)"
      ],
      "execution_count": null,
      "outputs": []
    },
    {
      "cell_type": "markdown",
      "metadata": {
        "id": "HJVgggnK0oBY"
      },
      "source": [
        "## Web Data"
      ]
    },
    {
      "cell_type": "markdown",
      "metadata": {
        "id": "t-0hgnTc0WcC"
      },
      "source": [
        "Read in Web Interaction Data - already filtered specifically to interactions available for 5.5k LA listings\n",
        "\n",
        "From `Load_Web_Data.ipynb`"
      ]
    },
    {
      "cell_type": "code",
      "metadata": {
        "id": "0cvzNGAqxu9l"
      },
      "source": [
        "df = pd.read_pickle(\"all_webdata_filtered.pkl\")\n",
        "df.rename({'rexurl':'rexUrl'},axis=1,inplace=True)\n",
        "print(df.shape)"
      ],
      "execution_count": null,
      "outputs": []
    },
    {
      "cell_type": "code",
      "metadata": {
        "colab": {
          "base_uri": "https://localhost:8080/"
        },
        "id": "HYLWpARSwOqF",
        "outputId": "495e3c8d-e1ee-4d70-cc12-766c24efe542"
      },
      "source": [
        "print('unique users', df['ip'].nunique())\n",
        "print('unique listings', df['rexUrl'].nunique())\n",
        "print('total web interactions, LA',df.shape)"
      ],
      "execution_count": null,
      "outputs": [
        {
          "output_type": "stream",
          "text": [
            "unique users 92071\n",
            "unique listings 533\n",
            "total web interactions, LA (4617883, 6)\n"
          ],
          "name": "stdout"
        }
      ]
    },
    {
      "cell_type": "code",
      "metadata": {
        "id": "bBbpre66cucj"
      },
      "source": [
        "df_web_la = df.copy()\n",
        "\n",
        "# Convert eventstamp to datetime\n",
        "df_web_la['event_stamp'] = pd.to_datetime(df_web_la['event_stamp'])\n",
        "\n",
        "#sort by ip and eventstamp\n",
        "df_web_la.sort_values(['ip','event_stamp'],ascending=True,inplace=True)"
      ],
      "execution_count": null,
      "outputs": []
    },
    {
      "cell_type": "markdown",
      "metadata": {
        "id": "44N7mxl105WS"
      },
      "source": [
        "### Visualize number of interactions by ip"
      ]
    },
    {
      "cell_type": "code",
      "metadata": {
        "id": "C1m-FH4TNz5A"
      },
      "source": [
        "houses_per_ip = df_web_la.groupby('ip')['rexUrl'].aggregate('nunique').value_counts(normalize=True)"
      ],
      "execution_count": null,
      "outputs": []
    },
    {
      "cell_type": "code",
      "metadata": {
        "colab": {
          "base_uri": "https://localhost:8080/",
          "height": 294
        },
        "id": "iP5ysvT9gUP3",
        "outputId": "a2517f92-c0e1-4aa8-a81e-3d78252e1642"
      },
      "source": [
        "plt.hist(np.clip(df_web_la.groupby('ip')['rexUrl'].count().values,0,200))\n",
        "plt.title('Number of Unique Listings Viewed Per Person')\n",
        "plt.xlabel('Number of Unique Listings Viewed')\n",
        "plt.ylabel('Number of Users')\n",
        "plt.show()"
      ],
      "execution_count": null,
      "outputs": [
        {
          "output_type": "display_data",
          "data": {
            "image/png": "[encoded data removed]",
            "text/plain": [
              "<Figure size 432x288 with 1 Axes>"
            ]
          },
          "metadata": {
            "tags": [],
            "needs_background": "light"
          }
        }
      ]
    },
    {
      "cell_type": "code",
      "metadata": {
        "colab": {
          "base_uri": "https://localhost:8080/",
          "height": 566
        },
        "id": "OSI1GWj7cytw",
        "outputId": "cf250d6a-0ea4-42b6-997e-5c885aaa34b9"
      },
      "source": [
        "# View normalized counts of the top 20 (by valuecount)\n",
        "sub_houses_per_ip = houses_per_ip.head(20)\n",
        "plt.figure(figsize=(12,9))\n",
        "plt.bar(x=sub_houses_per_ip.index, height=sub_houses_per_ip.values)\n",
        "plt.xticks(sub_houses_per_ip.index)\n",
        "plt.title('Number of Unique Listings Viewed Per Person')\n",
        "plt.xlabel('Number of Unique Listings Viewed')\n",
        "plt.ylabel('Number of Users')\n",
        "plt.show()"
      ],
      "execution_count": null,
      "outputs": [
        {
          "output_type": "display_data",
          "data": {
            "image/png": "[encoded data removed]",
            "text/plain": [
              "<Figure size 864x648 with 1 Axes>"
            ]
          },
          "metadata": {
            "tags": [],
            "needs_background": "light"
          }
        }
      ]
    },
    {
      "cell_type": "markdown",
      "metadata": {
        "id": "1DfSwVTe0cuK"
      },
      "source": [
        "### Define windows of co-occurrence"
      ]
    },
    {
      "cell_type": "code",
      "metadata": {
        "colab": {
          "base_uri": "https://localhost:8080/"
        },
        "id": "rqH3B7O93zSA",
        "outputId": "155cee73-be3e-4893-d63c-0d85f6091eb6"
      },
      "source": [
        "# get the ordered set of unique listings viewed by each user\n",
        "\n",
        "from collections import OrderedDict\n",
        "\n",
        "rex_list_each_user = df_web_la.groupby('ip')['rexUrl'].apply(lambda x: list(OrderedDict.fromkeys(x))).values.tolist()\n",
        "rex_list_each_user[:10]"
      ],
      "execution_count": null,
      "outputs": [
        {
          "output_type": "execute_result",
          "data": {
            "text/plain": [
              "[['28710-indies-ln-canyon-country'],\n",
              " ['23552-park-south-st'],\n",
              " ['9235-garibaldi-ave'],\n",
              " ['9323-alcott-st-apt-101', '1050-trevecca-pl'],\n",
              " ['3501-knoll-crest-ave'],\n",
              " ['2463-corralitas-dr'],\n",
              " ['1050-trevecca-pl', '9735-baden-ave'],\n",
              " ['14919-cadillac-ct'],\n",
              " ['1534-amherst-ave-apt-302'],\n",
              " ['850-e-ocean-blvd-apt-607']]"
            ]
          },
          "metadata": {
            "tags": []
          },
          "execution_count": 11
        }
      ]
    },
    {
      "cell_type": "code",
      "metadata": {
        "colab": {
          "base_uri": "https://localhost:8080/"
        },
        "id": "YLW8LsjePArC",
        "outputId": "380830af-4335-421e-992a-9c9a9bf8000f"
      },
      "source": [
        "# the length of the list (of lists) should be the number of users\n",
        "print(len(rex_list_each_user))\n",
        "print(df_web_la.ip.nunique())"
      ],
      "execution_count": null,
      "outputs": [
        {
          "output_type": "stream",
          "text": [
            "92071\n",
            "92071\n"
          ],
          "name": "stdout"
        }
      ]
    },
    {
      "cell_type": "code",
      "metadata": {
        "id": "_ncVROPa0Z70"
      },
      "source": [
        "# Get a dictionary of listings each house Co-Occured with (within a window)\n",
        "\n",
        "from collections import Counter\n",
        "from collections import defaultdict\n",
        "\n",
        "window_occurences = defaultdict(Counter)\n",
        "\n",
        "#loop through of all viewings for a user\n",
        "for viewings_user_curr in rex_list_each_user:\n",
        "  #for each house in list of viewings\n",
        "    for i, listing in enumerate(viewings_user_curr):\n",
        "      # Set window as one before and two ahead\n",
        "      window = viewings_user_curr[max(0,i-1):i+3].copy()\n",
        "      #remove self (anchor)\n",
        "      while listing in window:\n",
        "        window.remove(listing) \n",
        "      \n",
        "      # update the dict of current anchor listing with this window of co-occurances\n",
        "      window_occurences[listing].update(window)"
      ],
      "execution_count": null,
      "outputs": []
    },
    {
      "cell_type": "code",
      "metadata": {
        "id": "lG_TY0bIAFCp"
      },
      "source": [
        "# Remove empty dict elements (when listing didn't co-occur with any)\n",
        "window_occurences = {k: v for k, v in dict(window_occurences).items() if v}"
      ],
      "execution_count": null,
      "outputs": []
    },
    {
      "cell_type": "code",
      "metadata": {
        "colab": {
          "base_uri": "https://localhost:8080/"
        },
        "id": "bpR-v3VQgbVh",
        "outputId": "cf901d1d-cd71-4337-c425-4fde7b5e4c62"
      },
      "source": [
        "print(len(window_occurences), 'listings ever co-occured with others')"
      ],
      "execution_count": null,
      "outputs": [
        {
          "output_type": "stream",
          "text": [
            "504 listings ever co-occured with others\n"
          ],
          "name": "stdout"
        }
      ]
    },
    {
      "cell_type": "code",
      "metadata": {
        "colab": {
          "base_uri": "https://localhost:8080/"
        },
        "id": "dpKIfLrf31q9",
        "outputId": "aa215991-e5da-4800-aae0-74311c976223"
      },
      "source": [
        "# Gutcheck how many janette street (for example) co-occurred with\n",
        "len(window_occurences['1017-janette-st'])"
      ],
      "execution_count": null,
      "outputs": [
        {
          "output_type": "execute_result",
          "data": {
            "text/plain": [
              "85"
            ]
          },
          "metadata": {
            "tags": []
          },
          "execution_count": 17
        }
      ]
    },
    {
      "cell_type": "code",
      "metadata": {
        "id": "x-M6XNfK56JQ"
      },
      "source": [
        "# Function to visualize example co-occurrences\n",
        "def view_co_ocs(anchor,df_in):\n",
        "  pd.options.display.float_format = '{:,.1f}'.format\n",
        "  df = df_in.copy()\n",
        "  df['sqft'] = np.exp(df['log_sqft'])\n",
        "  df['price'] = np.exp(df['log_price'])\n",
        "  df['total_rooms'] = np.exp(df['log_total_rooms'])\n",
        "  cols = ['rex_url','sqft','price','bedrooms','total_rooms','full_baths','is_apt']\n",
        "\n",
        "  cooc_df = pd.DataFrame.from_dict(dict(window_occurences[anchor]),orient='index').reset_index().rename({'index':'rex_url',0:'cooc_count'},axis=1)\n",
        "\n",
        "  cooc_data = cooc_df.merge(df,on='rex_url',how='left')[cols+['cooc_count']].set_index('rex_url')\n",
        "\n",
        "  cooc_data.sort_values('cooc_count',ascending=False,inplace=True)\n",
        "  anchor_row = df[df.rex_url==anchor][cols].set_index('rex_url')\n",
        "\n",
        "\n",
        "  return pd.concat([anchor_row, cooc_data])\n",
        "\n",
        "converse_street_coocs = view_co_ocs('4799-converse-st',listing_data)\n",
        "converse_street_coocs['ppsqft'] = converse_street_coocs['price']/converse_street_coocs['sqft']\n",
        "converse_street_coocs.head(15)"
      ],
      "execution_count": null,
      "outputs": []
    },
    {
      "cell_type": "markdown",
      "metadata": {
        "id": "AKkiw-X84pwC"
      },
      "source": [
        "# Generate Co-Occurrence Triplets (anchor, positive, negative)\n",
        "To be used in Siamese NN and Random Forest"
      ]
    },
    {
      "cell_type": "code",
      "metadata": {
        "id": "PipqfmbLfbIR"
      },
      "source": [
        "all_houses = list(set(df_web_la['rexUrl']))"
      ],
      "execution_count": null,
      "outputs": []
    },
    {
      "cell_type": "code",
      "metadata": {
        "id": "ib1JHN-rKei0"
      },
      "source": [
        "from itertools import repeat\n",
        "import random\n",
        "random.seed(297)\n",
        "co_occurences = window_occurences.copy()\n",
        "\n",
        "# Creating a dictionary, where each key is a listing, and the values are a list of other houses it has appeared with\n",
        "# houses that it has appeared with multiple times are repeated\n",
        "\n",
        "listing_cooc_dict = {}\n",
        "listing_neg_dict = {}\n",
        "\n",
        "for housename in list(co_occurences.keys()):\n",
        "  # Set of listings it appeared with\n",
        "  appeared_with = list(co_occurences[housename].keys())\n",
        "\n",
        "  # Ordered tuple pairings of listings it appeared with\n",
        "  sorted_cooc_tuples = co_occurences[housename].most_common()\n",
        "  cooc_rep_list = []\n",
        "  for other_listing, count_together in sorted_cooc_tuples:\n",
        "    if(other_listing==housename):\n",
        "      continue\n",
        "    else:\n",
        "      repeated = list(repeat(other_listing,count_together))\n",
        "      cooc_rep_list.extend(repeated)\n",
        "\n",
        "  \n",
        "  # Add itself to list of \"appeared with\"\n",
        "  appeared_with.append(housename)\n",
        "  \n",
        "  # For every example of listing it has appeared with,\n",
        "  # sample another random listing that it has NOT appeared with (equal lengths)\n",
        "\n",
        "  # Get set of listings it didn't appear with\n",
        "  didnt_appear_with = list(set(all_houses)-set(appeared_with))\n",
        "  \n",
        "  n_appearswith = len(cooc_rep_list)\n",
        "  n_didntappearwith = len(didnt_appear_with)\n",
        "  \n",
        "  #if appeared with more than didnt appear with, swap them so you can still sample\n",
        "  if(n_didntappearwith<n_appearswith):\n",
        "    n_appearswith = n_didntappearwith\n",
        "\n",
        "  sample_nocooc = random.sample(didnt_appear_with,n_appearswith)\n",
        "\n",
        "  #Save positive and negative co-occurrences into dictionary for current anchor\n",
        "  listing_cooc_dict[housename] = cooc_rep_list\n",
        "  listing_neg_dict[housename] = sample_nocooc\n"
      ],
      "execution_count": null,
      "outputs": []
    },
    {
      "cell_type": "code",
      "metadata": {
        "id": "HpFeUf3eS_Um"
      },
      "source": [
        "# Given positive/negative co-occurrences above,\n",
        "# Compile a list of triplets\n",
        "triplets = []\n",
        "for listing in listing_cooc_dict.keys():\n",
        "  #if list is empty (no coocs), dont add it\n",
        "  if not listing_cooc_dict[listing]:\n",
        "    continue\n",
        "  for pos, neg in zip(listing_cooc_dict[listing],listing_neg_dict[listing]):\n",
        "    triplets.append([listing,pos,neg])"
      ],
      "execution_count": null,
      "outputs": []
    },
    {
      "cell_type": "code",
      "metadata": {
        "id": "Hal8sWOwWyMk",
        "colab": {
          "base_uri": "https://localhost:8080/",
          "height": 373
        },
        "outputId": "1c16212f-fee6-4832-f44f-43645302deb0"
      },
      "source": [
        "triplets_url = pd.DataFrame(triplets, columns = ['anchor', 'positive','negative'])\n",
        "print(triplets_url.shape)\n",
        "triplets_url.tail(10)"
      ],
      "execution_count": null,
      "outputs": [
        {
          "output_type": "stream",
          "text": [
            "(81584, 3)\n"
          ],
          "name": "stdout"
        },
        {
          "output_type": "execute_result",
          "data": {
            "text/html": [
              "<div>\n",
              "<style scoped>\n",
              "    .dataframe tbody tr th:only-of-type {\n",
              "        vertical-align: middle;\n",
              "    }\n",
              "\n",
              "    .dataframe tbody tr th {\n",
              "        vertical-align: top;\n",
              "    }\n",
              "\n",
              "    .dataframe thead th {\n",
              "        text-align: right;\n",
              "    }\n",
              "</style>\n",
              "<table border=\"1\" class=\"dataframe\">\n",
              "  <thead>\n",
              "    <tr style=\"text-align: right;\">\n",
              "      <th></th>\n",
              "      <th>anchor</th>\n",
              "      <th>positive</th>\n",
              "      <th>negative</th>\n",
              "    </tr>\n",
              "  </thead>\n",
              "  <tbody>\n",
              "    <tr>\n",
              "      <th>81574</th>\n",
              "      <td>18543-victory-blvd</td>\n",
              "      <td>1330-s-ynez-ave</td>\n",
              "      <td>3020-hollycrest-dr</td>\n",
              "    </tr>\n",
              "    <tr>\n",
              "      <th>81575</th>\n",
              "      <td>2307-ashland-ave</td>\n",
              "      <td>8719-topanga-canyon-blvd</td>\n",
              "      <td>726-w-28th-st</td>\n",
              "    </tr>\n",
              "    <tr>\n",
              "      <th>81576</th>\n",
              "      <td>2307-ashland-ave</td>\n",
              "      <td>5902-finecrest-dr</td>\n",
              "      <td>15622-nahin-ln</td>\n",
              "    </tr>\n",
              "    <tr>\n",
              "      <th>81577</th>\n",
              "      <td>2307-ashland-ave</td>\n",
              "      <td>1417-e-maple-st</td>\n",
              "      <td>4335-penca-ave</td>\n",
              "    </tr>\n",
              "    <tr>\n",
              "      <th>81578</th>\n",
              "      <td>28710-indies-ln</td>\n",
              "      <td>16321-janine-dr</td>\n",
              "      <td>5861-parkmor-rd</td>\n",
              "    </tr>\n",
              "    <tr>\n",
              "      <th>81579</th>\n",
              "      <td>28710-indies-ln</td>\n",
              "      <td>8450-denise-ln</td>\n",
              "      <td>2738-denmead-st</td>\n",
              "    </tr>\n",
              "    <tr>\n",
              "      <th>81580</th>\n",
              "      <td>28710-indies-ln</td>\n",
              "      <td>1506-lynoak-dr</td>\n",
              "      <td>3427-greensward-rd</td>\n",
              "    </tr>\n",
              "    <tr>\n",
              "      <th>81581</th>\n",
              "      <td>14033-mar-vista-st</td>\n",
              "      <td>15225-santa-gertrudes-ave-apt-p104</td>\n",
              "      <td>15904-ocean-ln</td>\n",
              "    </tr>\n",
              "    <tr>\n",
              "      <th>81582</th>\n",
              "      <td>14033-mar-vista-st</td>\n",
              "      <td>945-acacia-ln</td>\n",
              "      <td>1243-8th-st</td>\n",
              "    </tr>\n",
              "    <tr>\n",
              "      <th>81583</th>\n",
              "      <td>14033-mar-vista-st</td>\n",
              "      <td>814-e-graves-ave</td>\n",
              "      <td>38321-bonino-dr</td>\n",
              "    </tr>\n",
              "  </tbody>\n",
              "</table>\n",
              "</div>"
            ],
            "text/plain": [
              "                   anchor  ...            negative\n",
              "81574  18543-victory-blvd  ...  3020-hollycrest-dr\n",
              "81575    2307-ashland-ave  ...       726-w-28th-st\n",
              "81576    2307-ashland-ave  ...      15622-nahin-ln\n",
              "81577    2307-ashland-ave  ...      4335-penca-ave\n",
              "81578     28710-indies-ln  ...     5861-parkmor-rd\n",
              "81579     28710-indies-ln  ...     2738-denmead-st\n",
              "81580     28710-indies-ln  ...  3427-greensward-rd\n",
              "81581  14033-mar-vista-st  ...      15904-ocean-ln\n",
              "81582  14033-mar-vista-st  ...         1243-8th-st\n",
              "81583  14033-mar-vista-st  ...     38321-bonino-dr\n",
              "\n",
              "[10 rows x 3 columns]"
            ]
          },
          "metadata": {
            "tags": []
          },
          "execution_count": 22
        }
      ]
    },
    {
      "cell_type": "code",
      "metadata": {
        "colab": {
          "base_uri": "https://localhost:8080/",
          "height": 113
        },
        "id": "iFf9aqiHzmr6",
        "outputId": "fda7f240-1e06-4d37-ee27-56bcedefc1bc"
      },
      "source": [
        "# make sure there are never anchors which are negative or pos, or pos being negative\n",
        "display(triplets_url[triplets_url.anchor==triplets_url.negative])\n",
        "display(triplets_url[triplets_url.anchor==triplets_url.positive])\n",
        "display(triplets_url[triplets_url.positive==triplets_url.negative])"
      ],
      "execution_count": null,
      "outputs": [
        {
          "output_type": "display_data",
          "data": {
            "text/html": [
              "<div>\n",
              "<style scoped>\n",
              "    .dataframe tbody tr th:only-of-type {\n",
              "        vertical-align: middle;\n",
              "    }\n",
              "\n",
              "    .dataframe tbody tr th {\n",
              "        vertical-align: top;\n",
              "    }\n",
              "\n",
              "    .dataframe thead th {\n",
              "        text-align: right;\n",
              "    }\n",
              "</style>\n",
              "<table border=\"1\" class=\"dataframe\">\n",
              "  <thead>\n",
              "    <tr style=\"text-align: right;\">\n",
              "      <th></th>\n",
              "      <th>anchor</th>\n",
              "      <th>positive</th>\n",
              "      <th>negative</th>\n",
              "    </tr>\n",
              "  </thead>\n",
              "  <tbody>\n",
              "  </tbody>\n",
              "</table>\n",
              "</div>"
            ],
            "text/plain": [
              "Empty DataFrame\n",
              "Columns: [anchor, positive, negative]\n",
              "Index: []"
            ]
          },
          "metadata": {
            "tags": []
          }
        },
        {
          "output_type": "display_data",
          "data": {
            "text/html": [
              "<div>\n",
              "<style scoped>\n",
              "    .dataframe tbody tr th:only-of-type {\n",
              "        vertical-align: middle;\n",
              "    }\n",
              "\n",
              "    .dataframe tbody tr th {\n",
              "        vertical-align: top;\n",
              "    }\n",
              "\n",
              "    .dataframe thead th {\n",
              "        text-align: right;\n",
              "    }\n",
              "</style>\n",
              "<table border=\"1\" class=\"dataframe\">\n",
              "  <thead>\n",
              "    <tr style=\"text-align: right;\">\n",
              "      <th></th>\n",
              "      <th>anchor</th>\n",
              "      <th>positive</th>\n",
              "      <th>negative</th>\n",
              "    </tr>\n",
              "  </thead>\n",
              "  <tbody>\n",
              "  </tbody>\n",
              "</table>\n",
              "</div>"
            ],
            "text/plain": [
              "Empty DataFrame\n",
              "Columns: [anchor, positive, negative]\n",
              "Index: []"
            ]
          },
          "metadata": {
            "tags": []
          }
        },
        {
          "output_type": "display_data",
          "data": {
            "text/html": [
              "<div>\n",
              "<style scoped>\n",
              "    .dataframe tbody tr th:only-of-type {\n",
              "        vertical-align: middle;\n",
              "    }\n",
              "\n",
              "    .dataframe tbody tr th {\n",
              "        vertical-align: top;\n",
              "    }\n",
              "\n",
              "    .dataframe thead th {\n",
              "        text-align: right;\n",
              "    }\n",
              "</style>\n",
              "<table border=\"1\" class=\"dataframe\">\n",
              "  <thead>\n",
              "    <tr style=\"text-align: right;\">\n",
              "      <th></th>\n",
              "      <th>anchor</th>\n",
              "      <th>positive</th>\n",
              "      <th>negative</th>\n",
              "    </tr>\n",
              "  </thead>\n",
              "  <tbody>\n",
              "  </tbody>\n",
              "</table>\n",
              "</div>"
            ],
            "text/plain": [
              "Empty DataFrame\n",
              "Columns: [anchor, positive, negative]\n",
              "Index: []"
            ]
          },
          "metadata": {
            "tags": []
          }
        }
      ]
    },
    {
      "cell_type": "code",
      "metadata": {
        "id": "NyX7EyqGk8iO",
        "colab": {
          "base_uri": "https://localhost:8080/"
        },
        "outputId": "54013a34-adb0-4b65-883e-a42c9e365d20"
      },
      "source": [
        "# number of unique anchors\n",
        "triplets_url.anchor.nunique()"
      ],
      "execution_count": null,
      "outputs": [
        {
          "output_type": "execute_result",
          "data": {
            "text/plain": [
              "504"
            ]
          },
          "metadata": {
            "tags": []
          },
          "execution_count": 24
        }
      ]
    },
    {
      "cell_type": "code",
      "metadata": {
        "id": "Lp5Owbn4f9OG"
      },
      "source": [
        "# Saving data for use in other notebooks\n",
        "\n",
        "# triplets_url.to_csv(\"triplets_LA.csv\", index=False)\n",
        "\n",
        "# import pickle\n",
        "\n",
        "# # save co-occurance house\n",
        "# f = open(\"listing_cooc_dict.pkl\",\"wb\")\n",
        "# pickle.dump(listing_cooc_dict,f)\n",
        "# f.close()\n",
        "\n",
        "# # save house features\n",
        "# f = open(\"listing_dict.pkl\",\"wb\")\n",
        "# pickle.dump(listing_dict,f)\n",
        "# f.close()"
      ],
      "execution_count": null,
      "outputs": []
    },
    {
      "cell_type": "markdown",
      "metadata": {
        "id": "qf3DbCJ0X80I"
      },
      "source": [
        "## Case study check\n",
        "Are all of the co-occurrences accounted for?"
      ]
    },
    {
      "cell_type": "code",
      "metadata": {
        "colab": {
          "base_uri": "https://localhost:8080/",
          "height": 110
        },
        "id": "K4AuJRJbVWG1",
        "outputId": "0ceda1ad-2246-4a26-dca1-4115ede69f48"
      },
      "source": [
        "triplets_url[(triplets_url.anchor=='7800-topanga-canyon-blvd-apt-201') & (triplets_url.positive=='17007-ridge-park-dr')]"
      ],
      "execution_count": null,
      "outputs": [
        {
          "output_type": "execute_result",
          "data": {
            "text/html": [
              "<div>\n",
              "<style scoped>\n",
              "    .dataframe tbody tr th:only-of-type {\n",
              "        vertical-align: middle;\n",
              "    }\n",
              "\n",
              "    .dataframe tbody tr th {\n",
              "        vertical-align: top;\n",
              "    }\n",
              "\n",
              "    .dataframe thead th {\n",
              "        text-align: right;\n",
              "    }\n",
              "</style>\n",
              "<table border=\"1\" class=\"dataframe\">\n",
              "  <thead>\n",
              "    <tr style=\"text-align: right;\">\n",
              "      <th></th>\n",
              "      <th>anchor</th>\n",
              "      <th>positive</th>\n",
              "      <th>negative</th>\n",
              "    </tr>\n",
              "  </thead>\n",
              "  <tbody>\n",
              "    <tr>\n",
              "      <th>77805</th>\n",
              "      <td>7800-topanga-canyon-blvd-apt-201</td>\n",
              "      <td>17007-ridge-park-dr</td>\n",
              "      <td>125-s-bandini-st</td>\n",
              "    </tr>\n",
              "    <tr>\n",
              "      <th>77806</th>\n",
              "      <td>7800-topanga-canyon-blvd-apt-201</td>\n",
              "      <td>17007-ridge-park-dr</td>\n",
              "      <td>3110-summertime-ln</td>\n",
              "    </tr>\n",
              "  </tbody>\n",
              "</table>\n",
              "</div>"
            ],
            "text/plain": [
              "                                 anchor  ...            negative\n",
              "77805  7800-topanga-canyon-blvd-apt-201  ...    125-s-bandini-st\n",
              "77806  7800-topanga-canyon-blvd-apt-201  ...  3110-summertime-ln\n",
              "\n",
              "[2 rows x 3 columns]"
            ]
          },
          "metadata": {
            "tags": []
          },
          "execution_count": 26
        }
      ]
    },
    {
      "cell_type": "code",
      "metadata": {
        "colab": {
          "base_uri": "https://localhost:8080/"
        },
        "id": "gkHJ0rgdXXc8",
        "outputId": "703b6b1f-d535-4636-8d55-4eb95c3c2a6e"
      },
      "source": [
        "# How many times does topanga appear with ridge park? Should be 2\n",
        "co_occurences['7800-topanga-canyon-blvd-apt-201']['17007-ridge-park-dr']"
      ],
      "execution_count": null,
      "outputs": [
        {
          "output_type": "execute_result",
          "data": {
            "text/plain": [
              "2"
            ]
          },
          "metadata": {
            "tags": []
          },
          "execution_count": 27
        }
      ]
    },
    {
      "cell_type": "code",
      "metadata": {
        "colab": {
          "base_uri": "https://localhost:8080/"
        },
        "id": "WobB6-ZzXHqr",
        "outputId": "9c881d9d-d12d-411e-d045-9a888bc65396"
      },
      "source": [
        "# The number of rows for this anchor should be the same as the number of listings in its dictionary\n",
        "sum(co_occurences['7800-topanga-canyon-blvd-apt-201'].values()) == triplets_url[triplets_url.anchor=='7800-topanga-canyon-blvd-apt-201'].shape[0]"
      ],
      "execution_count": null,
      "outputs": [
        {
          "output_type": "execute_result",
          "data": {
            "text/plain": [
              "True"
            ]
          },
          "metadata": {
            "tags": []
          },
          "execution_count": 28
        }
      ]
    },
    {
      "cell_type": "markdown",
      "metadata": {
        "id": "YOLIeneqI9OH"
      },
      "source": [
        "## Bring in processed LA listing data features\n",
        "From `LA_listing_feature_engineering.ipynb`"
      ]
    },
    {
      "cell_type": "code",
      "metadata": {
        "id": "s36PiAwvepHh",
        "colab": {
          "base_uri": "https://localhost:8080/",
          "height": 252
        },
        "outputId": "1c226797-8dcc-4cdd-ffe8-bcbe7fc07ea0"
      },
      "source": [
        "# listing_data_all = pd.read_pickle('LOG_siamese_data_11_12.pkl')\n",
        "listing_data_all = pd.read_pickle('listing_data_filtered_with_img.pkl')\n",
        "listing_data_all.head(2)"
      ],
      "execution_count": null,
      "outputs": [
        {
          "output_type": "execute_result",
          "data": {
            "text/html": [
              "<div>\n",
              "<style scoped>\n",
              "    .dataframe tbody tr th:only-of-type {\n",
              "        vertical-align: middle;\n",
              "    }\n",
              "\n",
              "    .dataframe tbody tr th {\n",
              "        vertical-align: top;\n",
              "    }\n",
              "\n",
              "    .dataframe thead th {\n",
              "        text-align: right;\n",
              "    }\n",
              "</style>\n",
              "<table border=\"1\" class=\"dataframe\">\n",
              "  <thead>\n",
              "    <tr style=\"text-align: right;\">\n",
              "      <th></th>\n",
              "      <th>rex_url</th>\n",
              "      <th>total_baths</th>\n",
              "      <th>stories</th>\n",
              "      <th>has_central_air</th>\n",
              "      <th>has_jacuzzi</th>\n",
              "      <th>has_pool</th>\n",
              "      <th>has_solar</th>\n",
              "      <th>has_garage</th>\n",
              "      <th>bedrooms</th>\n",
              "      <th>full_baths</th>\n",
              "      <th>half_baths</th>\n",
              "      <th>year_built</th>\n",
              "      <th>latitude</th>\n",
              "      <th>longitude</th>\n",
              "      <th>is_apt</th>\n",
              "      <th>hotness_score</th>\n",
              "      <th>demand_score</th>\n",
              "      <th>supply_score</th>\n",
              "      <th>ldpviews_per_property_vs_us</th>\n",
              "      <th>loc_tsne_1</th>\n",
              "      <th>loc_tsne_2</th>\n",
              "      <th>1hot_marketing_budget_LOW</th>\n",
              "      <th>1hot_marketing_budget_MEDIUM</th>\n",
              "      <th>1hot_marketing_budget_SURGE</th>\n",
              "      <th>1hot_property_type_CONDO</th>\n",
              "      <th>1hot_property_type_COOP</th>\n",
              "      <th>1hot_property_type_MULTI_FAMILY</th>\n",
              "      <th>1hot_property_type_SINGLE</th>\n",
              "      <th>1hot_property_type_TOWNHOUSE</th>\n",
              "      <th>1hot_pool_spa_types_Community Pool or Spa</th>\n",
              "      <th>1hot_pool_spa_types_Heated Pool</th>\n",
              "      <th>1hot_pool_spa_types_In Ground</th>\n",
              "      <th>1hot_pool_spa_types_No</th>\n",
              "      <th>1hot_pool_spa_types_Pool &amp; Spa (both)</th>\n",
              "      <th>1hot_pool_spa_types_Pool (yes)</th>\n",
              "      <th>1hot_pool_spa_types_Spa (only)</th>\n",
              "      <th>1hot_home_style_Bungalow</th>\n",
              "      <th>1hot_home_style_Cape Cod</th>\n",
              "      <th>1hot_home_style_Contemporary</th>\n",
              "      <th>1hot_home_style_Mediterranean</th>\n",
              "      <th>1hot_home_style_Modern</th>\n",
              "      <th>1hot_home_style_Other</th>\n",
              "      <th>1hot_home_style_Ranch/Rambler</th>\n",
              "      <th>1hot_home_style_Spanish</th>\n",
              "      <th>1hot_home_style_Traditional</th>\n",
              "      <th>1hot_fencing_description_Average Condition</th>\n",
              "      <th>1hot_fencing_description_Back Yard</th>\n",
              "      <th>1hot_fencing_description_Block</th>\n",
              "      <th>1hot_fencing_description_Block Wall</th>\n",
              "      <th>1hot_fencing_description_Chain Link</th>\n",
              "      <th>1hot_fencing_description_Excellent Condition</th>\n",
              "      <th>1hot_fencing_description_Good Condition</th>\n",
              "      <th>1hot_fencing_description_None</th>\n",
              "      <th>1hot_fencing_description_Other</th>\n",
              "      <th>1hot_fencing_description_Other/Remarks</th>\n",
              "      <th>1hot_fencing_description_Partial</th>\n",
              "      <th>1hot_fencing_description_Privacy</th>\n",
              "      <th>1hot_fencing_description_Stucco Wall</th>\n",
              "      <th>1hot_fencing_description_Vinyl</th>\n",
              "      <th>1hot_fencing_description_Wood</th>\n",
              "      <th>1hot_fencing_description_Wrought Iron</th>\n",
              "      <th>1hot_property_condition_Additions/Alter</th>\n",
              "      <th>1hot_property_condition_Additions/Alterations</th>\n",
              "      <th>1hot_property_condition_Building Permit</th>\n",
              "      <th>1hot_property_condition_Fixer</th>\n",
              "      <th>1hot_property_condition_Other</th>\n",
              "      <th>1hot_property_condition_Repairs Cosmetic</th>\n",
              "      <th>1hot_property_condition_Repairs Major</th>\n",
              "      <th>1hot_property_condition_Termite Clearance</th>\n",
              "      <th>1hot_property_condition_Turnkey</th>\n",
              "      <th>1hot_property_condition_Updated/Remodeled</th>\n",
              "      <th>log_price</th>\n",
              "      <th>log_sqft</th>\n",
              "      <th>log_median_listing_price</th>\n",
              "      <th>log_median_days_on_market</th>\n",
              "      <th>log_nielsen_hh_rank</th>\n",
              "      <th>log_land_sqft</th>\n",
              "      <th>log_total_rooms</th>\n",
              "    </tr>\n",
              "  </thead>\n",
              "  <tbody>\n",
              "    <tr>\n",
              "      <th>0</th>\n",
              "      <td>rex1-pacific-coast-hwy</td>\n",
              "      <td>12.0</td>\n",
              "      <td>1</td>\n",
              "      <td>0</td>\n",
              "      <td>0</td>\n",
              "      <td>0</td>\n",
              "      <td>0</td>\n",
              "      <td>0</td>\n",
              "      <td>12.0</td>\n",
              "      <td>2.0</td>\n",
              "      <td>0.0</td>\n",
              "      <td>2015.0</td>\n",
              "      <td>34.023865</td>\n",
              "      <td>-118.787080</td>\n",
              "      <td>0.0</td>\n",
              "      <td>23.044945</td>\n",
              "      <td>44.348576</td>\n",
              "      <td>1.741313</td>\n",
              "      <td>0.9191</td>\n",
              "      <td>4.173980</td>\n",
              "      <td>6.034126</td>\n",
              "      <td>1</td>\n",
              "      <td>0</td>\n",
              "      <td>0</td>\n",
              "      <td>0</td>\n",
              "      <td>0</td>\n",
              "      <td>0</td>\n",
              "      <td>1</td>\n",
              "      <td>0</td>\n",
              "      <td>0</td>\n",
              "      <td>0</td>\n",
              "      <td>0</td>\n",
              "      <td>1</td>\n",
              "      <td>0</td>\n",
              "      <td>0</td>\n",
              "      <td>0</td>\n",
              "      <td>0</td>\n",
              "      <td>0</td>\n",
              "      <td>0</td>\n",
              "      <td>0</td>\n",
              "      <td>0</td>\n",
              "      <td>1</td>\n",
              "      <td>0</td>\n",
              "      <td>0</td>\n",
              "      <td>0</td>\n",
              "      <td>0</td>\n",
              "      <td>0</td>\n",
              "      <td>0</td>\n",
              "      <td>0</td>\n",
              "      <td>0</td>\n",
              "      <td>0</td>\n",
              "      <td>0</td>\n",
              "      <td>1</td>\n",
              "      <td>0</td>\n",
              "      <td>0</td>\n",
              "      <td>0</td>\n",
              "      <td>0</td>\n",
              "      <td>0</td>\n",
              "      <td>0</td>\n",
              "      <td>0</td>\n",
              "      <td>0</td>\n",
              "      <td>0</td>\n",
              "      <td>0</td>\n",
              "      <td>0</td>\n",
              "      <td>0</td>\n",
              "      <td>0</td>\n",
              "      <td>0</td>\n",
              "      <td>0</td>\n",
              "      <td>0</td>\n",
              "      <td>1</td>\n",
              "      <td>0</td>\n",
              "      <td>17.599700</td>\n",
              "      <td>9.350972</td>\n",
              "      <td>15.404756</td>\n",
              "      <td>5.398163</td>\n",
              "      <td>8.734077</td>\n",
              "      <td>11.860550</td>\n",
              "      <td>3.496508</td>\n",
              "    </tr>\n",
              "    <tr>\n",
              "      <th>1</th>\n",
              "      <td>4080-glencoe-ave-unit-316</td>\n",
              "      <td>2.0</td>\n",
              "      <td>1</td>\n",
              "      <td>0</td>\n",
              "      <td>0</td>\n",
              "      <td>0</td>\n",
              "      <td>0</td>\n",
              "      <td>0</td>\n",
              "      <td>1.0</td>\n",
              "      <td>2.0</td>\n",
              "      <td>0.0</td>\n",
              "      <td>2011.0</td>\n",
              "      <td>33.990732</td>\n",
              "      <td>-118.441965</td>\n",
              "      <td>1.0</td>\n",
              "      <td>6.741705</td>\n",
              "      <td>3.992470</td>\n",
              "      <td>9.490940</td>\n",
              "      <td>0.2721</td>\n",
              "      <td>9.119221</td>\n",
              "      <td>13.400335</td>\n",
              "      <td>1</td>\n",
              "      <td>0</td>\n",
              "      <td>0</td>\n",
              "      <td>1</td>\n",
              "      <td>0</td>\n",
              "      <td>0</td>\n",
              "      <td>0</td>\n",
              "      <td>0</td>\n",
              "      <td>0</td>\n",
              "      <td>0</td>\n",
              "      <td>0</td>\n",
              "      <td>1</td>\n",
              "      <td>0</td>\n",
              "      <td>0</td>\n",
              "      <td>0</td>\n",
              "      <td>0</td>\n",
              "      <td>0</td>\n",
              "      <td>0</td>\n",
              "      <td>0</td>\n",
              "      <td>0</td>\n",
              "      <td>1</td>\n",
              "      <td>0</td>\n",
              "      <td>0</td>\n",
              "      <td>0</td>\n",
              "      <td>0</td>\n",
              "      <td>0</td>\n",
              "      <td>0</td>\n",
              "      <td>0</td>\n",
              "      <td>0</td>\n",
              "      <td>0</td>\n",
              "      <td>0</td>\n",
              "      <td>1</td>\n",
              "      <td>0</td>\n",
              "      <td>0</td>\n",
              "      <td>0</td>\n",
              "      <td>0</td>\n",
              "      <td>0</td>\n",
              "      <td>0</td>\n",
              "      <td>0</td>\n",
              "      <td>0</td>\n",
              "      <td>0</td>\n",
              "      <td>0</td>\n",
              "      <td>0</td>\n",
              "      <td>0</td>\n",
              "      <td>0</td>\n",
              "      <td>0</td>\n",
              "      <td>0</td>\n",
              "      <td>0</td>\n",
              "      <td>1</td>\n",
              "      <td>0</td>\n",
              "      <td>13.909911</td>\n",
              "      <td>7.365180</td>\n",
              "      <td>14.143410</td>\n",
              "      <td>4.663439</td>\n",
              "      <td>7.694393</td>\n",
              "      <td>9.760541</td>\n",
              "      <td>1.609438</td>\n",
              "    </tr>\n",
              "  </tbody>\n",
              "</table>\n",
              "</div>"
            ],
            "text/plain": [
              "                     rex_url  total_baths  ...  log_land_sqft  log_total_rooms\n",
              "0     rex1-pacific-coast-hwy         12.0  ...      11.860550         3.496508\n",
              "1  4080-glencoe-ave-unit-316          2.0  ...       9.760541         1.609438\n",
              "\n",
              "[2 rows x 78 columns]"
            ]
          },
          "metadata": {
            "tags": []
          },
          "execution_count": 29
        }
      ]
    },
    {
      "cell_type": "code",
      "metadata": {
        "id": "qD27zaYxTQS2"
      },
      "source": [
        "# subset to only ones with webdata\n",
        "listing_data = listing_data_all[listing_data_all.rex_url.isin(df.rexUrl)].copy()"
      ],
      "execution_count": null,
      "outputs": []
    },
    {
      "cell_type": "markdown",
      "metadata": {
        "id": "GcGDfro-XyEB"
      },
      "source": [
        "### Triplets: Replace Listing Name with Actual Listing Features "
      ]
    },
    {
      "cell_type": "code",
      "metadata": {
        "id": "lkcJoGS0bgCM"
      },
      "source": [
        "triplets_data = triplets_url.copy()"
      ],
      "execution_count": null,
      "outputs": []
    },
    {
      "cell_type": "code",
      "metadata": {
        "id": "xWWhCwCQaAVQ"
      },
      "source": [
        "# get column names (excluding rex_url)\n",
        "listing_data_cols = list(listing_data.columns)[1:]\n",
        "\n",
        "for lsting in ['anchor','positive','negative']:\n",
        "  triplets_data = triplets_data.merge(listing_data,left_on=lsting,right_on='rex_url',how='left')\n",
        "\n",
        "  triplets_data[lsting+'_data'] = triplets_data[listing_data_cols].values.tolist()\n",
        "  triplets_data.drop(list(listing_data.columns),axis=1,inplace=True)"
      ],
      "execution_count": null,
      "outputs": []
    },
    {
      "cell_type": "code",
      "metadata": {
        "colab": {
          "base_uri": "https://localhost:8080/",
          "height": 202
        },
        "id": "4zefPfxRadRN",
        "outputId": "8c3e76e0-d8ef-498d-8d8f-87d13ec35649"
      },
      "source": [
        "triplets_data.head()"
      ],
      "execution_count": null,
      "outputs": [
        {
          "output_type": "execute_result",
          "data": {
            "text/html": [
              "<div>\n",
              "<style scoped>\n",
              "    .dataframe tbody tr th:only-of-type {\n",
              "        vertical-align: middle;\n",
              "    }\n",
              "\n",
              "    .dataframe tbody tr th {\n",
              "        vertical-align: top;\n",
              "    }\n",
              "\n",
              "    .dataframe thead th {\n",
              "        text-align: right;\n",
              "    }\n",
              "</style>\n",
              "<table border=\"1\" class=\"dataframe\">\n",
              "  <thead>\n",
              "    <tr style=\"text-align: right;\">\n",
              "      <th></th>\n",
              "      <th>anchor</th>\n",
              "      <th>positive</th>\n",
              "      <th>negative</th>\n",
              "      <th>anchor_data</th>\n",
              "      <th>positive_data</th>\n",
              "      <th>negative_data</th>\n",
              "    </tr>\n",
              "  </thead>\n",
              "  <tbody>\n",
              "    <tr>\n",
              "      <th>0</th>\n",
              "      <td>28710-indies-ln-canyon-country</td>\n",
              "      <td>6345-colbath-ave</td>\n",
              "      <td>1215-e-carson-st-apt-20</td>\n",
              "      <td>[3.0, 2.0, 0.0, 1.0, 1.0, 0.0, 1.0, 3.0, 3.0, ...</td>\n",
              "      <td>[2.0, 1.0, 0.0, 0.0, 0.0, 0.0, 0.0, 3.0, 2.0, ...</td>\n",
              "      <td>[2.0, 2.0, 0.0, 0.0, 0.0, 0.0, 0.0, 2.0, 2.0, ...</td>\n",
              "    </tr>\n",
              "    <tr>\n",
              "      <th>1</th>\n",
              "      <td>28710-indies-ln-canyon-country</td>\n",
              "      <td>6345-colbath-ave</td>\n",
              "      <td>7107-s-sepulveda-blvd</td>\n",
              "      <td>[3.0, 2.0, 0.0, 1.0, 1.0, 0.0, 1.0, 3.0, 3.0, ...</td>\n",
              "      <td>[2.0, 1.0, 0.0, 0.0, 0.0, 0.0, 0.0, 3.0, 2.0, ...</td>\n",
              "      <td>[2.0, 1.0, 0.0, 0.0, 0.0, 0.0, 0.0, 3.0, 2.0, ...</td>\n",
              "    </tr>\n",
              "    <tr>\n",
              "      <th>2</th>\n",
              "      <td>28710-indies-ln-canyon-country</td>\n",
              "      <td>6345-colbath-ave</td>\n",
              "      <td>5625-sumner-way-unit-207</td>\n",
              "      <td>[3.0, 2.0, 0.0, 1.0, 1.0, 0.0, 1.0, 3.0, 3.0, ...</td>\n",
              "      <td>[2.0, 1.0, 0.0, 0.0, 0.0, 0.0, 0.0, 3.0, 2.0, ...</td>\n",
              "      <td>[2.0, 3.0, 0.0, 0.0, 0.0, 0.0, 0.0, 2.0, 2.0, ...</td>\n",
              "    </tr>\n",
              "    <tr>\n",
              "      <th>3</th>\n",
              "      <td>28710-indies-ln-canyon-country</td>\n",
              "      <td>6345-colbath-ave</td>\n",
              "      <td>3065-orange-ave</td>\n",
              "      <td>[3.0, 2.0, 0.0, 1.0, 1.0, 0.0, 1.0, 3.0, 3.0, ...</td>\n",
              "      <td>[2.0, 1.0, 0.0, 0.0, 0.0, 0.0, 0.0, 3.0, 2.0, ...</td>\n",
              "      <td>[2.0, 1.0, 0.0, 0.0, 0.0, 0.0, 0.0, 3.0, 2.0, ...</td>\n",
              "    </tr>\n",
              "    <tr>\n",
              "      <th>4</th>\n",
              "      <td>28710-indies-ln-canyon-country</td>\n",
              "      <td>6345-colbath-ave</td>\n",
              "      <td>19414-castille-ln</td>\n",
              "      <td>[3.0, 2.0, 0.0, 1.0, 1.0, 0.0, 1.0, 3.0, 3.0, ...</td>\n",
              "      <td>[2.0, 1.0, 0.0, 0.0, 0.0, 0.0, 0.0, 3.0, 2.0, ...</td>\n",
              "      <td>[2.0, 2.0, 1.0, 0.0, 0.0, 0.0, 1.0, 3.0, 2.0, ...</td>\n",
              "    </tr>\n",
              "  </tbody>\n",
              "</table>\n",
              "</div>"
            ],
            "text/plain": [
              "                           anchor  ...                                      negative_data\n",
              "0  28710-indies-ln-canyon-country  ...  [2.0, 2.0, 0.0, 0.0, 0.0, 0.0, 0.0, 2.0, 2.0, ...\n",
              "1  28710-indies-ln-canyon-country  ...  [2.0, 1.0, 0.0, 0.0, 0.0, 0.0, 0.0, 3.0, 2.0, ...\n",
              "2  28710-indies-ln-canyon-country  ...  [2.0, 3.0, 0.0, 0.0, 0.0, 0.0, 0.0, 2.0, 2.0, ...\n",
              "3  28710-indies-ln-canyon-country  ...  [2.0, 1.0, 0.0, 0.0, 0.0, 0.0, 0.0, 3.0, 2.0, ...\n",
              "4  28710-indies-ln-canyon-country  ...  [2.0, 2.0, 1.0, 0.0, 0.0, 0.0, 1.0, 3.0, 2.0, ...\n",
              "\n",
              "[5 rows x 6 columns]"
            ]
          },
          "metadata": {
            "tags": []
          },
          "execution_count": 56
        }
      ]
    },
    {
      "cell_type": "code",
      "metadata": {
        "id": "bt7cc3nsb5Et"
      },
      "source": [
        "triplets_data_w_names = triplets_data.copy()\n",
        "triplets_data.drop(['anchor','positive','negative'],axis=1,inplace=True)\n",
        "triplets_data.rename({'anchor_data':'anchor','positive_data':'positive','negative_data':'negative'},axis=1,inplace=True)"
      ],
      "execution_count": null,
      "outputs": []
    },
    {
      "cell_type": "code",
      "metadata": {
        "colab": {
          "base_uri": "https://localhost:8080/",
          "height": 202
        },
        "id": "2bV4JUFmb_wp",
        "outputId": "57e0481a-a879-4fae-9655-0ab72b53840c"
      },
      "source": [
        "triplets_data.head()"
      ],
      "execution_count": null,
      "outputs": [
        {
          "output_type": "execute_result",
          "data": {
            "text/html": [
              "<div>\n",
              "<style scoped>\n",
              "    .dataframe tbody tr th:only-of-type {\n",
              "        vertical-align: middle;\n",
              "    }\n",
              "\n",
              "    .dataframe tbody tr th {\n",
              "        vertical-align: top;\n",
              "    }\n",
              "\n",
              "    .dataframe thead th {\n",
              "        text-align: right;\n",
              "    }\n",
              "</style>\n",
              "<table border=\"1\" class=\"dataframe\">\n",
              "  <thead>\n",
              "    <tr style=\"text-align: right;\">\n",
              "      <th></th>\n",
              "      <th>anchor</th>\n",
              "      <th>positive</th>\n",
              "      <th>negative</th>\n",
              "    </tr>\n",
              "  </thead>\n",
              "  <tbody>\n",
              "    <tr>\n",
              "      <th>0</th>\n",
              "      <td>[3.0, 2.0, 0.0, 1.0, 1.0, 0.0, 1.0, 3.0, 3.0, ...</td>\n",
              "      <td>[2.0, 1.0, 0.0, 0.0, 0.0, 0.0, 0.0, 3.0, 2.0, ...</td>\n",
              "      <td>[2.0, 2.0, 0.0, 0.0, 0.0, 0.0, 0.0, 2.0, 2.0, ...</td>\n",
              "    </tr>\n",
              "    <tr>\n",
              "      <th>1</th>\n",
              "      <td>[3.0, 2.0, 0.0, 1.0, 1.0, 0.0, 1.0, 3.0, 3.0, ...</td>\n",
              "      <td>[2.0, 1.0, 0.0, 0.0, 0.0, 0.0, 0.0, 3.0, 2.0, ...</td>\n",
              "      <td>[2.0, 1.0, 0.0, 0.0, 0.0, 0.0, 0.0, 3.0, 2.0, ...</td>\n",
              "    </tr>\n",
              "    <tr>\n",
              "      <th>2</th>\n",
              "      <td>[3.0, 2.0, 0.0, 1.0, 1.0, 0.0, 1.0, 3.0, 3.0, ...</td>\n",
              "      <td>[2.0, 1.0, 0.0, 0.0, 0.0, 0.0, 0.0, 3.0, 2.0, ...</td>\n",
              "      <td>[2.0, 3.0, 0.0, 0.0, 0.0, 0.0, 0.0, 2.0, 2.0, ...</td>\n",
              "    </tr>\n",
              "    <tr>\n",
              "      <th>3</th>\n",
              "      <td>[3.0, 2.0, 0.0, 1.0, 1.0, 0.0, 1.0, 3.0, 3.0, ...</td>\n",
              "      <td>[2.0, 1.0, 0.0, 0.0, 0.0, 0.0, 0.0, 3.0, 2.0, ...</td>\n",
              "      <td>[2.0, 1.0, 0.0, 0.0, 0.0, 0.0, 0.0, 3.0, 2.0, ...</td>\n",
              "    </tr>\n",
              "    <tr>\n",
              "      <th>4</th>\n",
              "      <td>[3.0, 2.0, 0.0, 1.0, 1.0, 0.0, 1.0, 3.0, 3.0, ...</td>\n",
              "      <td>[2.0, 1.0, 0.0, 0.0, 0.0, 0.0, 0.0, 3.0, 2.0, ...</td>\n",
              "      <td>[2.0, 2.0, 1.0, 0.0, 0.0, 0.0, 1.0, 3.0, 2.0, ...</td>\n",
              "    </tr>\n",
              "  </tbody>\n",
              "</table>\n",
              "</div>"
            ],
            "text/plain": [
              "                                              anchor  ...                                           negative\n",
              "0  [3.0, 2.0, 0.0, 1.0, 1.0, 0.0, 1.0, 3.0, 3.0, ...  ...  [2.0, 2.0, 0.0, 0.0, 0.0, 0.0, 0.0, 2.0, 2.0, ...\n",
              "1  [3.0, 2.0, 0.0, 1.0, 1.0, 0.0, 1.0, 3.0, 3.0, ...  ...  [2.0, 1.0, 0.0, 0.0, 0.0, 0.0, 0.0, 3.0, 2.0, ...\n",
              "2  [3.0, 2.0, 0.0, 1.0, 1.0, 0.0, 1.0, 3.0, 3.0, ...  ...  [2.0, 3.0, 0.0, 0.0, 0.0, 0.0, 0.0, 2.0, 2.0, ...\n",
              "3  [3.0, 2.0, 0.0, 1.0, 1.0, 0.0, 1.0, 3.0, 3.0, ...  ...  [2.0, 1.0, 0.0, 0.0, 0.0, 0.0, 0.0, 3.0, 2.0, ...\n",
              "4  [3.0, 2.0, 0.0, 1.0, 1.0, 0.0, 1.0, 3.0, 3.0, ...  ...  [2.0, 2.0, 1.0, 0.0, 0.0, 0.0, 1.0, 3.0, 2.0, ...\n",
              "\n",
              "[5 rows x 3 columns]"
            ]
          },
          "metadata": {
            "tags": []
          },
          "execution_count": 58
        }
      ]
    },
    {
      "cell_type": "code",
      "metadata": {
        "colab": {
          "base_uri": "https://localhost:8080/"
        },
        "id": "sft05e24f3B3",
        "outputId": "10f71c0f-95f2-4faa-ff8f-65c963477b4f"
      },
      "source": [
        "triplets_data.shape"
      ],
      "execution_count": null,
      "outputs": [
        {
          "output_type": "execute_result",
          "data": {
            "text/plain": [
              "(81584, 3)"
            ]
          },
          "metadata": {
            "tags": []
          },
          "execution_count": 77
        }
      ]
    },
    {
      "cell_type": "markdown",
      "metadata": {
        "id": "vgQe7mInYO8Z"
      },
      "source": [
        "Save out triplets to be used in models"
      ]
    },
    {
      "cell_type": "code",
      "metadata": {
        "id": "F1nz_R1A-EWZ"
      },
      "source": [
        "np.save('anchor_data_w_image',np.array(triplets_data.anchor.values.tolist()))\n",
        "np.save('pos_data_w_image',np.array(triplets_data.positive.values.tolist()))\n",
        "np.save('neg_data_w_image',np.array(triplets_data.negative.values.tolist()))"
      ],
      "execution_count": null,
      "outputs": []
    },
    {
      "cell_type": "markdown",
      "metadata": {
        "id": "d8Oyd8pV0_RE"
      },
      "source": [
        "## Use Triplets to Generate Pairs (anchor-pos, anchor-neg) for Tree Model\n",
        "\n",
        "(keeping duplicates - effectively weighting multiple viewings)"
      ]
    },
    {
      "cell_type": "code",
      "metadata": {
        "colab": {
          "base_uri": "https://localhost:8080/"
        },
        "id": "JXSZBPRdZQY5",
        "outputId": "3bf25ff0-d831-48b8-e8c2-df2ac882684f"
      },
      "source": [
        "positive_pairs_w = triplets_url[['anchor','positive']].copy()\n",
        "positive_pairs_w = positive_pairs_w.merge(listing_data,left_on='anchor',right_on='rex_url')\n",
        "positive_pairs_w = positive_pairs_w.merge(listing_data,left_on='positive',right_on='rex_url',suffixes=('_anchor','_pair'))\n",
        "positive_pairs_w.drop(['rex_url_anchor','rex_url_pair'],axis=1,inplace=True)\n",
        "positive_pairs_w.shape"
      ],
      "execution_count": null,
      "outputs": [
        {
          "output_type": "execute_result",
          "data": {
            "text/plain": [
              "(81584, 170)"
            ]
          },
          "metadata": {
            "tags": []
          },
          "execution_count": 74
        }
      ]
    },
    {
      "cell_type": "code",
      "metadata": {
        "colab": {
          "base_uri": "https://localhost:8080/"
        },
        "id": "l-IOQPhtZpVJ",
        "outputId": "83825ede-4ed4-426b-e314-350b808fa1a0"
      },
      "source": [
        "negative_pairs_w = triplets_url[['anchor','negative']].copy()\n",
        "negative_pairs_w = negative_pairs_w.merge(listing_data,left_on='anchor',right_on='rex_url')\n",
        "negative_pairs_w = negative_pairs_w.merge(listing_data,left_on='negative',right_on='rex_url',suffixes=('_anchor','_pair'))\n",
        "negative_pairs_w.drop(['rex_url_anchor','rex_url_pair'],axis=1,inplace=True)\n",
        "negative_pairs_w.shape"
      ],
      "execution_count": null,
      "outputs": [
        {
          "output_type": "execute_result",
          "data": {
            "text/plain": [
              "(81584, 170)"
            ]
          },
          "metadata": {
            "tags": []
          },
          "execution_count": 75
        }
      ]
    },
    {
      "cell_type": "code",
      "metadata": {
        "id": "Pdx7TYjfZxw0"
      },
      "source": [
        "positive_pairs_w.to_pickle('positive_pairs_w_image.pkl')\n",
        "negative_pairs_w.to_pickle('negative_pairs_w_image.pkl')"
      ],
      "execution_count": null,
      "outputs": []
    }
  ]
}