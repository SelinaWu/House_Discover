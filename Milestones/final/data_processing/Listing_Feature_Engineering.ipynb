{
  "nbformat": 4,
  "nbformat_minor": 0,
  "metadata": {
    "colab": {
      "name": "LA_listing_feature_engineering.ipynb",
      "provenance": [],
      "collapsed_sections": []
    },
    "kernelspec": {
      "name": "python3",
      "display_name": "Python 3"
    }
  },
  "cells": [
    {
      "cell_type": "markdown",
      "metadata": {
        "id": "uasATe-3eXRC"
      },
      "source": [
        "In this notebook, we work to build our main dataframe containing listings from LA and all of their metadata features to be used in our models.\n",
        "\n",
        "Includes: \n",
        "* Merging additional datasets to combat missingness - supplement REX listing data with MLS\n",
        "* Binning ranges of categorical features, filling NAs when appropriate\n",
        "* Investigating freetext descriptions (nouns, adjectives)\n",
        "* Encoding categorical features (tSNE, one-hot encoding)\n",
        "* Using realtor.com location information to further encode information about listing location into numeric features\n",
        "* Transforming numeric features"
      ]
    },
    {
      "cell_type": "code",
      "metadata": {
        "id": "BbE0y_QSrC4C"
      },
      "source": [
        "import pandas as pd\n",
        "import numpy as np\n",
        "import matplotlib.pyplot as plt\n",
        "pd.set_option('display.max_rows', None)\n",
        "\n",
        "FOLDER = \"M2_user_data\""
      ],
      "execution_count": null,
      "outputs": []
    },
    {
      "cell_type": "markdown",
      "metadata": {
        "id": "Yuz04Xrm68x-"
      },
      "source": [
        "#### Read in Listing table provided by REX"
      ]
    },
    {
      "cell_type": "code",
      "metadata": {
        "id": "nxRDmRyX6yY0",
        "colab": {
          "base_uri": "https://localhost:8080/",
          "height": 238
        },
        "outputId": "d721d147-32e9-4bf9-f6ce-c98f5da8c360"
      },
      "source": [
        "listings_raw = pd.read_csv(f\"./{FOLDER}/listing.csv\")\n",
        "listings_raw.head(2)"
      ],
      "execution_count": null,
      "outputs": [
        {
          "output_type": "stream",
          "text": [
            "/usr/local/lib/python3.6/dist-packages/IPython/core/interactiveshell.py:2718: DtypeWarning: Columns (25,44) have mixed types.Specify dtype option on import or set low_memory=False.\n",
            "  interactivity=interactivity, compiler=compiler, result=result)\n"
          ],
          "name": "stderr"
        },
        {
          "output_type": "execute_result",
          "data": {
            "text/html": [
              "<div>\n",
              "<style scoped>\n",
              "    .dataframe tbody tr th:only-of-type {\n",
              "        vertical-align: middle;\n",
              "    }\n",
              "\n",
              "    .dataframe tbody tr th {\n",
              "        vertical-align: top;\n",
              "    }\n",
              "\n",
              "    .dataframe thead th {\n",
              "        text-align: right;\n",
              "    }\n",
              "</style>\n",
              "<table border=\"1\" class=\"dataframe\">\n",
              "  <thead>\n",
              "    <tr style=\"text-align: right;\">\n",
              "      <th></th>\n",
              "      <th>id</th>\n",
              "      <th>guid</th>\n",
              "      <th>created</th>\n",
              "      <th>updated</th>\n",
              "      <th>address_id</th>\n",
              "      <th>bedrooms</th>\n",
              "      <th>coming_soon_date</th>\n",
              "      <th>competitive_bidding_expiration_date</th>\n",
              "      <th>county</th>\n",
              "      <th>description</th>\n",
              "      <th>engagement_agreement_end</th>\n",
              "      <th>engagement_agreement_start</th>\n",
              "      <th>full_baths</th>\n",
              "      <th>grade</th>\n",
              "      <th>half_baths</th>\n",
              "      <th>hoa_fee</th>\n",
              "      <th>land_square_footage</th>\n",
              "      <th>latitude</th>\n",
              "      <th>listed_date</th>\n",
              "      <th>living_square_feet</th>\n",
              "      <th>longitude</th>\n",
              "      <th>loss_date</th>\n",
              "      <th>loss_type</th>\n",
              "      <th>market</th>\n",
              "      <th>marketing_budget</th>\n",
              "      <th>marketing_status</th>\n",
              "      <th>neighborhood</th>\n",
              "      <th>on_mls</th>\n",
              "      <th>price</th>\n",
              "      <th>property_type</th>\n",
              "      <th>publish_date</th>\n",
              "      <th>rex_url</th>\n",
              "      <th>sales</th>\n",
              "      <th>school_district_id</th>\n",
              "      <th>school_district_name</th>\n",
              "      <th>signed_date</th>\n",
              "      <th>sold_date</th>\n",
              "      <th>status</th>\n",
              "      <th>stories</th>\n",
              "      <th>timezone_id</th>\n",
              "      <th>total_baths</th>\n",
              "      <th>total_baths_calculated</th>\n",
              "      <th>total_rooms</th>\n",
              "      <th>year_built</th>\n",
              "      <th>geom</th>\n",
              "    </tr>\n",
              "  </thead>\n",
              "  <tbody>\n",
              "    <tr>\n",
              "      <th>0</th>\n",
              "      <td>3</td>\n",
              "      <td>7a51c98bb10b4f04a3ef19e6ca6605a1</td>\n",
              "      <td>2015-03-30 21:20:17</td>\n",
              "      <td>2018-02-21 21:14:36</td>\n",
              "      <td>4</td>\n",
              "      <td>4.0</td>\n",
              "      <td>NaN</td>\n",
              "      <td>2016-05-12 10:00:44</td>\n",
              "      <td>Ventura</td>\n",
              "      <td>Single story, 4 bedrooms, 3 baths, plus bonus ...</td>\n",
              "      <td>2015-09-08</td>\n",
              "      <td>2015-04-08</td>\n",
              "      <td>NaN</td>\n",
              "      <td>NaN</td>\n",
              "      <td>NaN</td>\n",
              "      <td>NaN</td>\n",
              "      <td>21300.0</td>\n",
              "      <td>34.198950</td>\n",
              "      <td>2015-05-01</td>\n",
              "      <td>2932.0</td>\n",
              "      <td>-118.899352</td>\n",
              "      <td>NaN</td>\n",
              "      <td>NaN</td>\n",
              "      <td>VC</td>\n",
              "      <td>LOW</td>\n",
              "      <td>0</td>\n",
              "      <td>NaN</td>\n",
              "      <td>0</td>\n",
              "      <td>980000.0</td>\n",
              "      <td>SINGLE</td>\n",
              "      <td>2015-05-01 00:00:00</td>\n",
              "      <td>1335-calle-pecos</td>\n",
              "      <td>VC</td>\n",
              "      <td>NaN</td>\n",
              "      <td>NaN</td>\n",
              "      <td>NaN</td>\n",
              "      <td>2015-09-11</td>\n",
              "      <td>SOLD</td>\n",
              "      <td>1.0</td>\n",
              "      <td>America/Los_Angeles</td>\n",
              "      <td>3.0</td>\n",
              "      <td>NaN</td>\n",
              "      <td>8.0</td>\n",
              "      <td>1963.0</td>\n",
              "      <td>NaN</td>\n",
              "    </tr>\n",
              "    <tr>\n",
              "      <th>1</th>\n",
              "      <td>22</td>\n",
              "      <td>63390d5e80d94d62875224a90d599f2f</td>\n",
              "      <td>2015-04-22 19:34:25</td>\n",
              "      <td>2015-04-22 19:34:26</td>\n",
              "      <td>20</td>\n",
              "      <td>3.0</td>\n",
              "      <td>NaN</td>\n",
              "      <td>NaN</td>\n",
              "      <td>Los Angeles</td>\n",
              "      <td>NaN</td>\n",
              "      <td>NaN</td>\n",
              "      <td>NaN</td>\n",
              "      <td>2.0</td>\n",
              "      <td>NaN</td>\n",
              "      <td>0.0</td>\n",
              "      <td>NaN</td>\n",
              "      <td>4549.0</td>\n",
              "      <td>34.015585</td>\n",
              "      <td>NaN</td>\n",
              "      <td>1274.0</td>\n",
              "      <td>-118.409200</td>\n",
              "      <td>NaN</td>\n",
              "      <td>NaN</td>\n",
              "      <td>LA</td>\n",
              "      <td>LOW</td>\n",
              "      <td>0</td>\n",
              "      <td>NaN</td>\n",
              "      <td>0</td>\n",
              "      <td>NaN</td>\n",
              "      <td>SINGLE</td>\n",
              "      <td>2015-04-22 19:34:26</td>\n",
              "      <td>3848-spad-pl</td>\n",
              "      <td>LA</td>\n",
              "      <td>NaN</td>\n",
              "      <td>NaN</td>\n",
              "      <td>NaN</td>\n",
              "      <td>NaN</td>\n",
              "      <td>PREVIEW</td>\n",
              "      <td>0.0</td>\n",
              "      <td>America/Los_Angeles</td>\n",
              "      <td>2.0</td>\n",
              "      <td>2.0</td>\n",
              "      <td>0.0</td>\n",
              "      <td>1947.0</td>\n",
              "      <td>NaN</td>\n",
              "    </tr>\n",
              "  </tbody>\n",
              "</table>\n",
              "</div>"
            ],
            "text/plain": [
              "   id                              guid  ... year_built geom\n",
              "0   3  7a51c98bb10b4f04a3ef19e6ca6605a1  ...     1963.0  NaN\n",
              "1  22  63390d5e80d94d62875224a90d599f2f  ...     1947.0  NaN\n",
              "\n",
              "[2 rows x 45 columns]"
            ]
          },
          "metadata": {
            "tags": []
          },
          "execution_count": 5
        }
      ]
    },
    {
      "cell_type": "code",
      "metadata": {
        "id": "geoHiWHuOzHZ",
        "colab": {
          "base_uri": "https://localhost:8080/"
        },
        "outputId": "f498a669-bca7-40d5-b23b-b941a27003c1"
      },
      "source": [
        "listings_raw.shape"
      ],
      "execution_count": null,
      "outputs": [
        {
          "output_type": "execute_result",
          "data": {
            "text/plain": [
              "(129153, 45)"
            ]
          },
          "metadata": {
            "tags": []
          },
          "execution_count": 6
        }
      ]
    },
    {
      "cell_type": "markdown",
      "metadata": {
        "id": "R5Bzzwxzg_1x"
      },
      "source": [
        "#### Merge listings with address table to get address_line"
      ]
    },
    {
      "cell_type": "code",
      "metadata": {
        "id": "DuGqCsr1eYYx",
        "colab": {
          "base_uri": "https://localhost:8080/",
          "height": 137
        },
        "outputId": "67a292e5-1384-489f-a30c-81fc9d41394f"
      },
      "source": [
        "addr_raw = pd.read_csv(f\"./{FOLDER}/address.csv\")\n",
        "addr_raw.head(2)"
      ],
      "execution_count": null,
      "outputs": [
        {
          "output_type": "stream",
          "text": [
            "/usr/local/lib/python3.6/dist-packages/IPython/core/interactiveshell.py:2718: DtypeWarning: Columns (5) have mixed types.Specify dtype option on import or set low_memory=False.\n",
            "  interactivity=interactivity, compiler=compiler, result=result)\n"
          ],
          "name": "stderr"
        },
        {
          "output_type": "execute_result",
          "data": {
            "text/html": [
              "<div>\n",
              "<style scoped>\n",
              "    .dataframe tbody tr th:only-of-type {\n",
              "        vertical-align: middle;\n",
              "    }\n",
              "\n",
              "    .dataframe tbody tr th {\n",
              "        vertical-align: top;\n",
              "    }\n",
              "\n",
              "    .dataframe thead th {\n",
              "        text-align: right;\n",
              "    }\n",
              "</style>\n",
              "<table border=\"1\" class=\"dataframe\">\n",
              "  <thead>\n",
              "    <tr style=\"text-align: right;\">\n",
              "      <th></th>\n",
              "      <th>id</th>\n",
              "      <th>guid</th>\n",
              "      <th>address_line</th>\n",
              "      <th>city</th>\n",
              "      <th>state</th>\n",
              "      <th>postal_code</th>\n",
              "      <th>created</th>\n",
              "      <th>updated</th>\n",
              "    </tr>\n",
              "  </thead>\n",
              "  <tbody>\n",
              "    <tr>\n",
              "      <th>0</th>\n",
              "      <td>360</td>\n",
              "      <td>75bb16cdde1e40d3bacfcde645ffa1b2</td>\n",
              "      <td>1245 Cordova St Apt 301</td>\n",
              "      <td>Pasadena</td>\n",
              "      <td>CA</td>\n",
              "      <td>91106</td>\n",
              "      <td>2016-05-21 15:30:03</td>\n",
              "      <td>2016-05-21 15:30:03</td>\n",
              "    </tr>\n",
              "    <tr>\n",
              "      <th>1</th>\n",
              "      <td>361</td>\n",
              "      <td>27972de492f4441fbc62a55908b9ba79</td>\n",
              "      <td>216 S Madison Ave Apt 205</td>\n",
              "      <td>Pasadena</td>\n",
              "      <td>CA</td>\n",
              "      <td>91101</td>\n",
              "      <td>2016-05-21 16:44:31</td>\n",
              "      <td>2016-05-21 16:44:31</td>\n",
              "    </tr>\n",
              "  </tbody>\n",
              "</table>\n",
              "</div>"
            ],
            "text/plain": [
              "    id  ...              updated\n",
              "0  360  ...  2016-05-21 15:30:03\n",
              "1  361  ...  2016-05-21 16:44:31\n",
              "\n",
              "[2 rows x 8 columns]"
            ]
          },
          "metadata": {
            "tags": []
          },
          "execution_count": 7
        }
      ]
    },
    {
      "cell_type": "code",
      "metadata": {
        "id": "8y4pZQLMSXdf",
        "colab": {
          "base_uri": "https://localhost:8080/"
        },
        "outputId": "78fa561b-bb94-4dbd-fea0-d1d997ae4b2a"
      },
      "source": [
        "# list address\n",
        "listings = listings_raw.merge(addr_raw, left_on='address_id', right_on='id', how='inner')\n",
        "listings.shape"
      ],
      "execution_count": null,
      "outputs": [
        {
          "output_type": "execute_result",
          "data": {
            "text/plain": [
              "(128998, 53)"
            ]
          },
          "metadata": {
            "tags": []
          },
          "execution_count": 8
        }
      ]
    },
    {
      "cell_type": "code",
      "metadata": {
        "id": "RITwfpWjPRK3"
      },
      "source": [
        "rex_listing_cols = ['rex_url','price','bedrooms','total_baths', 'total_baths_calculated', 'total_rooms',\n",
        "       'county','address_line', 'city', 'state','postal_code',\n",
        "       'description', 'full_baths', 'half_baths', 'hoa_fee', 'land_square_footage',\n",
        "       'living_square_feet', 'stories','year_built','latitude', 'longitude',\n",
        "       'marketing_budget', 'neighborhood', 'property_type',\n",
        "       'school_district_id','school_district_name']"
      ],
      "execution_count": null,
      "outputs": []
    },
    {
      "cell_type": "code",
      "metadata": {
        "id": "ZZI0fRbMBvjb",
        "colab": {
          "base_uri": "https://localhost:8080/"
        },
        "outputId": "3e67b497-1840-4bf4-d566-b795708d7c26"
      },
      "source": [
        "listings_LA = listings.copy()\n",
        "listings_LA = listings_LA[listings['county']=='Los Angeles'][rex_listing_cols]\n",
        "listings_LA.shape"
      ],
      "execution_count": null,
      "outputs": [
        {
          "output_type": "execute_result",
          "data": {
            "text/plain": [
              "(15730, 26)"
            ]
          },
          "metadata": {
            "tags": []
          },
          "execution_count": 10
        }
      ]
    },
    {
      "cell_type": "code",
      "metadata": {
        "id": "vCpMumWuPOyC",
        "colab": {
          "base_uri": "https://localhost:8080/"
        },
        "outputId": "d7c30e29-6b32-4b6d-8314-d8dd22076583"
      },
      "source": [
        "# Evaluate Missingness\n",
        "(listings_LA.isna().sum()/listings_LA.shape[0]).sort_values(ascending=False)"
      ],
      "execution_count": null,
      "outputs": [
        {
          "output_type": "execute_result",
          "data": {
            "text/plain": [
              "neighborhood              0.985378\n",
              "hoa_fee                   0.974952\n",
              "half_baths                0.961093\n",
              "description               0.942212\n",
              "price                     0.935855\n",
              "total_rooms               0.390528\n",
              "living_square_feet        0.365353\n",
              "school_district_name      0.261983\n",
              "school_district_id        0.259059\n",
              "stories                   0.156008\n",
              "full_baths                0.059186\n",
              "total_baths_calculated    0.057406\n",
              "bedrooms                  0.056516\n",
              "total_baths               0.055880\n",
              "land_square_footage       0.053719\n",
              "year_built                0.052257\n",
              "latitude                  0.000890\n",
              "longitude                 0.000890\n",
              "postal_code               0.000000\n",
              "state                     0.000000\n",
              "city                      0.000000\n",
              "address_line              0.000000\n",
              "county                    0.000000\n",
              "marketing_budget          0.000000\n",
              "property_type             0.000000\n",
              "rex_url                   0.000000\n",
              "dtype: float64"
            ]
          },
          "metadata": {
            "tags": []
          },
          "execution_count": 11
        }
      ]
    },
    {
      "cell_type": "code",
      "metadata": {
        "id": "vKSNUw3VBxME",
        "colab": {
          "base_uri": "https://localhost:8080/"
        },
        "outputId": "3b2753ce-d930-4575-e9fd-aa3990052372"
      },
      "source": [
        "# Drop duplicate rexurls\n",
        "listings_LA.drop_duplicates('rex_url',inplace=True)\n",
        "listings_LA.shape"
      ],
      "execution_count": null,
      "outputs": [
        {
          "output_type": "execute_result",
          "data": {
            "text/plain": [
              "(15730, 26)"
            ]
          },
          "metadata": {
            "tags": []
          },
          "execution_count": 12
        }
      ]
    },
    {
      "cell_type": "markdown",
      "metadata": {
        "id": "eh8MN-j_CL72"
      },
      "source": [
        "#### Preprocessing address for attempt to merge with MLS dataset"
      ]
    },
    {
      "cell_type": "code",
      "metadata": {
        "id": "sbC4eYV0Bxf8"
      },
      "source": [
        "# turn address to lower case\n",
        "listings_LA['address_line'] = listings_LA['address_line'].str.lower()"
      ],
      "execution_count": null,
      "outputs": []
    },
    {
      "cell_type": "code",
      "metadata": {
        "id": "cW8VlgDwCLMV",
        "colab": {
          "base_uri": "https://localhost:8080/",
          "height": 373
        },
        "outputId": "eb31693a-a20c-4245-fb22-080f52975a7f"
      },
      "source": [
        "# split address into street and apartment number\n",
        "listings_LA_split = listings_LA.copy()\n",
        "listings_LA_split[['street_address','apt_num']] = listings_LA['address_line'].str.split(' apt|, apartment| unit| #', 1, expand=True)\n",
        "listings_LA_split.head()"
      ],
      "execution_count": null,
      "outputs": [
        {
          "output_type": "execute_result",
          "data": {
            "text/html": [
              "<div>\n",
              "<style scoped>\n",
              "    .dataframe tbody tr th:only-of-type {\n",
              "        vertical-align: middle;\n",
              "    }\n",
              "\n",
              "    .dataframe tbody tr th {\n",
              "        vertical-align: top;\n",
              "    }\n",
              "\n",
              "    .dataframe thead th {\n",
              "        text-align: right;\n",
              "    }\n",
              "</style>\n",
              "<table border=\"1\" class=\"dataframe\">\n",
              "  <thead>\n",
              "    <tr style=\"text-align: right;\">\n",
              "      <th></th>\n",
              "      <th>rex_url</th>\n",
              "      <th>price</th>\n",
              "      <th>bedrooms</th>\n",
              "      <th>total_baths</th>\n",
              "      <th>total_baths_calculated</th>\n",
              "      <th>total_rooms</th>\n",
              "      <th>county</th>\n",
              "      <th>address_line</th>\n",
              "      <th>city</th>\n",
              "      <th>state</th>\n",
              "      <th>postal_code</th>\n",
              "      <th>description</th>\n",
              "      <th>full_baths</th>\n",
              "      <th>half_baths</th>\n",
              "      <th>hoa_fee</th>\n",
              "      <th>land_square_footage</th>\n",
              "      <th>living_square_feet</th>\n",
              "      <th>stories</th>\n",
              "      <th>year_built</th>\n",
              "      <th>latitude</th>\n",
              "      <th>longitude</th>\n",
              "      <th>marketing_budget</th>\n",
              "      <th>neighborhood</th>\n",
              "      <th>property_type</th>\n",
              "      <th>school_district_id</th>\n",
              "      <th>school_district_name</th>\n",
              "      <th>street_address</th>\n",
              "      <th>apt_num</th>\n",
              "    </tr>\n",
              "  </thead>\n",
              "  <tbody>\n",
              "    <tr>\n",
              "      <th>1</th>\n",
              "      <td>3848-spad-pl</td>\n",
              "      <td>NaN</td>\n",
              "      <td>3.0</td>\n",
              "      <td>2.0</td>\n",
              "      <td>2.0</td>\n",
              "      <td>0.0</td>\n",
              "      <td>Los Angeles</td>\n",
              "      <td>3848 spad pl</td>\n",
              "      <td>CULVER CITY</td>\n",
              "      <td>CA</td>\n",
              "      <td>90232</td>\n",
              "      <td>NaN</td>\n",
              "      <td>2.0</td>\n",
              "      <td>0.0</td>\n",
              "      <td>NaN</td>\n",
              "      <td>4549.0</td>\n",
              "      <td>1274.0</td>\n",
              "      <td>0.0</td>\n",
              "      <td>1947.0</td>\n",
              "      <td>34.015585</td>\n",
              "      <td>-118.409200</td>\n",
              "      <td>LOW</td>\n",
              "      <td>NaN</td>\n",
              "      <td>SINGLE</td>\n",
              "      <td>NaN</td>\n",
              "      <td>NaN</td>\n",
              "      <td>3848 spad pl</td>\n",
              "      <td>None</td>\n",
              "    </tr>\n",
              "    <tr>\n",
              "      <th>2</th>\n",
              "      <td>rex1-pacific-coast-hwy</td>\n",
              "      <td>44000000.0</td>\n",
              "      <td>12.0</td>\n",
              "      <td>12.0</td>\n",
              "      <td>2.0</td>\n",
              "      <td>33.0</td>\n",
              "      <td>Los Angeles</td>\n",
              "      <td>pacific coast hwy</td>\n",
              "      <td>MALIBU</td>\n",
              "      <td>CA</td>\n",
              "      <td>90265</td>\n",
              "      <td>Oceanfront estate features three homes and a p...</td>\n",
              "      <td>2.0</td>\n",
              "      <td>0.0</td>\n",
              "      <td>NaN</td>\n",
              "      <td>141570.0</td>\n",
              "      <td>11510.0</td>\n",
              "      <td>1.0</td>\n",
              "      <td>2015.0</td>\n",
              "      <td>34.023865</td>\n",
              "      <td>-118.787080</td>\n",
              "      <td>LOW</td>\n",
              "      <td>NaN</td>\n",
              "      <td>SINGLE</td>\n",
              "      <td>NaN</td>\n",
              "      <td>NaN</td>\n",
              "      <td>pacific coast hwy</td>\n",
              "      <td>None</td>\n",
              "    </tr>\n",
              "    <tr>\n",
              "      <th>7</th>\n",
              "      <td>3427-winslow-dr</td>\n",
              "      <td>NaN</td>\n",
              "      <td>2.0</td>\n",
              "      <td>3.0</td>\n",
              "      <td>3.0</td>\n",
              "      <td>0.0</td>\n",
              "      <td>Los Angeles</td>\n",
              "      <td>3427 winslow dr</td>\n",
              "      <td>LOS ANGELES</td>\n",
              "      <td>CA</td>\n",
              "      <td>90026</td>\n",
              "      <td>NaN</td>\n",
              "      <td>3.0</td>\n",
              "      <td>0.0</td>\n",
              "      <td>NaN</td>\n",
              "      <td>6760.0</td>\n",
              "      <td>2585.0</td>\n",
              "      <td>2.0</td>\n",
              "      <td>1914.0</td>\n",
              "      <td>34.086300</td>\n",
              "      <td>-118.276821</td>\n",
              "      <td>LOW</td>\n",
              "      <td>NaN</td>\n",
              "      <td>SINGLE</td>\n",
              "      <td>NaN</td>\n",
              "      <td>NaN</td>\n",
              "      <td>3427 winslow dr</td>\n",
              "      <td>None</td>\n",
              "    </tr>\n",
              "    <tr>\n",
              "      <th>8</th>\n",
              "      <td>9741-donna-ave</td>\n",
              "      <td>NaN</td>\n",
              "      <td>4.0</td>\n",
              "      <td>3.0</td>\n",
              "      <td>3.0</td>\n",
              "      <td>8.0</td>\n",
              "      <td>Los Angeles</td>\n",
              "      <td>9741 donna ave</td>\n",
              "      <td>NORTHRIDGE</td>\n",
              "      <td>CA</td>\n",
              "      <td>91324</td>\n",
              "      <td>NaN</td>\n",
              "      <td>3.0</td>\n",
              "      <td>0.0</td>\n",
              "      <td>NaN</td>\n",
              "      <td>11006.0</td>\n",
              "      <td>3228.0</td>\n",
              "      <td>1.0</td>\n",
              "      <td>1962.0</td>\n",
              "      <td>34.247764</td>\n",
              "      <td>-118.547534</td>\n",
              "      <td>LOW</td>\n",
              "      <td>NaN</td>\n",
              "      <td>SINGLE</td>\n",
              "      <td>NaN</td>\n",
              "      <td>NaN</td>\n",
              "      <td>9741 donna ave</td>\n",
              "      <td>None</td>\n",
              "    </tr>\n",
              "    <tr>\n",
              "      <th>9</th>\n",
              "      <td>8015-jellico-ave</td>\n",
              "      <td>NaN</td>\n",
              "      <td>3.0</td>\n",
              "      <td>2.0</td>\n",
              "      <td>2.0</td>\n",
              "      <td>5.0</td>\n",
              "      <td>Los Angeles</td>\n",
              "      <td>8015 jellico ave</td>\n",
              "      <td>NORTHRIDGE</td>\n",
              "      <td>CA</td>\n",
              "      <td>91325</td>\n",
              "      <td>NaN</td>\n",
              "      <td>2.0</td>\n",
              "      <td>0.0</td>\n",
              "      <td>NaN</td>\n",
              "      <td>5999.0</td>\n",
              "      <td>1116.0</td>\n",
              "      <td>1.0</td>\n",
              "      <td>1952.0</td>\n",
              "      <td>34.216724</td>\n",
              "      <td>-118.517566</td>\n",
              "      <td>LOW</td>\n",
              "      <td>NaN</td>\n",
              "      <td>SINGLE</td>\n",
              "      <td>NaN</td>\n",
              "      <td>NaN</td>\n",
              "      <td>8015 jellico ave</td>\n",
              "      <td>None</td>\n",
              "    </tr>\n",
              "  </tbody>\n",
              "</table>\n",
              "</div>"
            ],
            "text/plain": [
              "                  rex_url       price  ...     street_address  apt_num\n",
              "1            3848-spad-pl         NaN  ...       3848 spad pl     None\n",
              "2  rex1-pacific-coast-hwy  44000000.0  ...  pacific coast hwy     None\n",
              "7         3427-winslow-dr         NaN  ...    3427 winslow dr     None\n",
              "8          9741-donna-ave         NaN  ...     9741 donna ave     None\n",
              "9        8015-jellico-ave         NaN  ...   8015 jellico ave     None\n",
              "\n",
              "[5 rows x 28 columns]"
            ]
          },
          "metadata": {
            "tags": []
          },
          "execution_count": 14
        }
      ]
    },
    {
      "cell_type": "markdown",
      "metadata": {
        "id": "YIkAVYvhRq25"
      },
      "source": [
        "### Load in provided MLS dataset for LA"
      ]
    },
    {
      "cell_type": "code",
      "metadata": {
        "id": "U6nrCSVdRqOQ",
        "colab": {
          "base_uri": "https://localhost:8080/",
          "height": 217
        },
        "outputId": "d3728c09-9597-4255-c721-bc1e9b2db9f4"
      },
      "source": [
        "LA_MLS = pd.read_csv(f\"./{FOLDER}/join_house_market_to_first_american_06037.csv\")\n",
        "LA_MLS.head(2)"
      ],
      "execution_count": null,
      "outputs": [
        {
          "output_type": "execute_result",
          "data": {
            "text/html": [
              "<div>\n",
              "<style scoped>\n",
              "    .dataframe tbody tr th:only-of-type {\n",
              "        vertical-align: middle;\n",
              "    }\n",
              "\n",
              "    .dataframe tbody tr th {\n",
              "        vertical-align: top;\n",
              "    }\n",
              "\n",
              "    .dataframe thead th {\n",
              "        text-align: right;\n",
              "    }\n",
              "</style>\n",
              "<table border=\"1\" class=\"dataframe\">\n",
              "  <thead>\n",
              "    <tr style=\"text-align: right;\">\n",
              "      <th></th>\n",
              "      <th>Unnamed: 0</th>\n",
              "      <th>cc_list_id</th>\n",
              "      <th>original_list_date</th>\n",
              "      <th>original_list_price</th>\n",
              "      <th>current_list_price</th>\n",
              "      <th>sale_price</th>\n",
              "      <th>sale_date</th>\n",
              "      <th>current_status</th>\n",
              "      <th>number_of_pricechanges</th>\n",
              "      <th>days_on_market</th>\n",
              "      <th>hoa_fee_amount</th>\n",
              "      <th>expired_date</th>\n",
              "      <th>cancelled_date</th>\n",
              "      <th>cc_property_id</th>\n",
              "      <th>data_source</th>\n",
              "      <th>address</th>\n",
              "      <th>city</th>\n",
              "      <th>zipcode</th>\n",
              "      <th>cc_property_address_county</th>\n",
              "      <th>fips</th>\n",
              "      <th>apn</th>\n",
              "      <th>property_guid</th>\n",
              "      <th>latitude</th>\n",
              "      <th>longitude</th>\n",
              "      <th>sqft</th>\n",
              "      <th>state</th>\n",
              "      <th>lot_sqft</th>\n",
              "      <th>basement_size_sqft</th>\n",
              "      <th>unfinished_basement_size_sqft</th>\n",
              "      <th>year_built</th>\n",
              "      <th>image_urls</th>\n",
              "      <th>geo_point</th>\n",
              "      <th>id</th>\n",
              "      <th>floors_in_property</th>\n",
              "      <th>floors_in_building</th>\n",
              "      <th>garage_spaces</th>\n",
              "      <th>garage_type</th>\n",
              "      <th>pool_spa_types</th>\n",
              "      <th>view_description</th>\n",
              "      <th>porch_or_patio</th>\n",
              "      <th>...</th>\n",
              "      <th>full_baths</th>\n",
              "      <th>half_baths</th>\n",
              "      <th>assessed_year</th>\n",
              "      <th>assessed_total_value</th>\n",
              "      <th>tax_amount</th>\n",
              "      <th>land_lease_fee_amount</th>\n",
              "      <th>number_of_parcels</th>\n",
              "      <th>effective_year_built</th>\n",
              "      <th>number_of_units</th>\n",
              "      <th>rooms</th>\n",
              "      <th>basement_type</th>\n",
              "      <th>parking_features</th>\n",
              "      <th>other_parking</th>\n",
              "      <th>current_occupancy_type</th>\n",
              "      <th>heating</th>\n",
              "      <th>cooling</th>\n",
              "      <th>fireplace_count</th>\n",
              "      <th>water_source</th>\n",
              "      <th>image_update_date</th>\n",
              "      <th>property_type</th>\n",
              "      <th>home_style</th>\n",
              "      <th>match_street_address</th>\n",
              "      <th>has_central_air</th>\n",
              "      <th>has_jacuzzi</th>\n",
              "      <th>has_pool</th>\n",
              "      <th>has_solar</th>\n",
              "      <th>has_garage</th>\n",
              "      <th>garage_type_enum</th>\n",
              "      <th>cooling_enum</th>\n",
              "      <th>above_grade_bed_count</th>\n",
              "      <th>below_grade_bed_count</th>\n",
              "      <th>below_grade_sqft</th>\n",
              "      <th>current_use</th>\n",
              "      <th>fencing_description</th>\n",
              "      <th>frontage_length</th>\n",
              "      <th>property_condition</th>\n",
              "      <th>property_quality</th>\n",
              "      <th>senior_community_indicator</th>\n",
              "      <th>zoning_code</th>\n",
              "      <th>zoning_description</th>\n",
              "    </tr>\n",
              "  </thead>\n",
              "  <tbody>\n",
              "    <tr>\n",
              "      <th>0</th>\n",
              "      <td>0</td>\n",
              "      <td>20236585.0</td>\n",
              "      <td>2019-11-15</td>\n",
              "      <td>NaN</td>\n",
              "      <td>384000.0</td>\n",
              "      <td>NaN</td>\n",
              "      <td>NaN</td>\n",
              "      <td>Withdrawn</td>\n",
              "      <td>NaN</td>\n",
              "      <td>NaN</td>\n",
              "      <td>NaN</td>\n",
              "      <td>NaN</td>\n",
              "      <td>NaN</td>\n",
              "      <td>20236585</td>\n",
              "      <td>vkdata</td>\n",
              "      <td>4628 Vitrina Ln</td>\n",
              "      <td>Palmdale</td>\n",
              "      <td>93551</td>\n",
              "      <td>NaN</td>\n",
              "      <td>6037</td>\n",
              "      <td>NaN</td>\n",
              "      <td>NaN</td>\n",
              "      <td>34.620360</td>\n",
              "      <td>-118.214069</td>\n",
              "      <td>NaN</td>\n",
              "      <td>CA</td>\n",
              "      <td>NaN</td>\n",
              "      <td>NaN</td>\n",
              "      <td>NaN</td>\n",
              "      <td>NaN</td>\n",
              "      <td>NaN</td>\n",
              "      <td>0101000020E61000009885764EB38D5DC08FDFDBF4674F...</td>\n",
              "      <td>NaN</td>\n",
              "      <td>NaN</td>\n",
              "      <td>NaN</td>\n",
              "      <td>NaN</td>\n",
              "      <td>NaN</td>\n",
              "      <td>NaN</td>\n",
              "      <td>NaN</td>\n",
              "      <td>NaN</td>\n",
              "      <td>...</td>\n",
              "      <td>3.0</td>\n",
              "      <td>NaN</td>\n",
              "      <td>NaN</td>\n",
              "      <td>NaN</td>\n",
              "      <td>NaN</td>\n",
              "      <td>NaN</td>\n",
              "      <td>NaN</td>\n",
              "      <td>NaN</td>\n",
              "      <td>NaN</td>\n",
              "      <td>NaN</td>\n",
              "      <td>NaN</td>\n",
              "      <td>NaN</td>\n",
              "      <td>NaN</td>\n",
              "      <td>NaN</td>\n",
              "      <td>NaN</td>\n",
              "      <td>NaN</td>\n",
              "      <td>NaN</td>\n",
              "      <td>NaN</td>\n",
              "      <td>2020-01-08</td>\n",
              "      <td>SINGLE</td>\n",
              "      <td>NaN</td>\n",
              "      <td>4628 VITRINA LN</td>\n",
              "      <td>False</td>\n",
              "      <td>False</td>\n",
              "      <td>False</td>\n",
              "      <td>False</td>\n",
              "      <td>False</td>\n",
              "      <td>NaN</td>\n",
              "      <td>NaN</td>\n",
              "      <td>NaN</td>\n",
              "      <td>NaN</td>\n",
              "      <td>NaN</td>\n",
              "      <td>NaN</td>\n",
              "      <td>NaN</td>\n",
              "      <td>NaN</td>\n",
              "      <td>NaN</td>\n",
              "      <td>NaN</td>\n",
              "      <td>NaN</td>\n",
              "      <td>NaN</td>\n",
              "      <td>NaN</td>\n",
              "    </tr>\n",
              "    <tr>\n",
              "      <th>1</th>\n",
              "      <td>1</td>\n",
              "      <td>20239491.0</td>\n",
              "      <td>2020-06-29</td>\n",
              "      <td>NaN</td>\n",
              "      <td>325000.0</td>\n",
              "      <td>325000.0</td>\n",
              "      <td>2020-08-21</td>\n",
              "      <td>Sale</td>\n",
              "      <td>NaN</td>\n",
              "      <td>5.0</td>\n",
              "      <td>NaN</td>\n",
              "      <td>NaN</td>\n",
              "      <td>NaN</td>\n",
              "      <td>20239491</td>\n",
              "      <td>vkdata</td>\n",
              "      <td>39062 Dianron Rd</td>\n",
              "      <td>Palmdale</td>\n",
              "      <td>93551</td>\n",
              "      <td>NaN</td>\n",
              "      <td>6037</td>\n",
              "      <td>3003017042</td>\n",
              "      <td>NaN</td>\n",
              "      <td>34.592879</td>\n",
              "      <td>-118.155813</td>\n",
              "      <td>1400.0</td>\n",
              "      <td>CA</td>\n",
              "      <td>6969.0</td>\n",
              "      <td>NaN</td>\n",
              "      <td>NaN</td>\n",
              "      <td>1977.0</td>\n",
              "      <td>NaN</td>\n",
              "      <td>0101000020E6100000AAD216D7F8895DC01ABE8575E34B...</td>\n",
              "      <td>NaN</td>\n",
              "      <td>1.0</td>\n",
              "      <td>NaN</td>\n",
              "      <td>2.0</td>\n",
              "      <td>NaN</td>\n",
              "      <td>True</td>\n",
              "      <td>NaN</td>\n",
              "      <td>NaN</td>\n",
              "      <td>...</td>\n",
              "      <td>2.0</td>\n",
              "      <td>NaN</td>\n",
              "      <td>NaN</td>\n",
              "      <td>NaN</td>\n",
              "      <td>7123.0</td>\n",
              "      <td>NaN</td>\n",
              "      <td>NaN</td>\n",
              "      <td>NaN</td>\n",
              "      <td>NaN</td>\n",
              "      <td>NaN</td>\n",
              "      <td>NaN</td>\n",
              "      <td>NaN</td>\n",
              "      <td>NaN</td>\n",
              "      <td>NaN</td>\n",
              "      <td>NaN</td>\n",
              "      <td>Central, Solar</td>\n",
              "      <td>NaN</td>\n",
              "      <td>NaN</td>\n",
              "      <td>2020-08-21</td>\n",
              "      <td>SINGLE</td>\n",
              "      <td>NaN</td>\n",
              "      <td>39062 DIANRON RD</td>\n",
              "      <td>True</td>\n",
              "      <td>False</td>\n",
              "      <td>True</td>\n",
              "      <td>True</td>\n",
              "      <td>False</td>\n",
              "      <td>NaN</td>\n",
              "      <td>central</td>\n",
              "      <td>NaN</td>\n",
              "      <td>NaN</td>\n",
              "      <td>NaN</td>\n",
              "      <td>NaN</td>\n",
              "      <td>NaN</td>\n",
              "      <td>NaN</td>\n",
              "      <td>NaN</td>\n",
              "      <td>NaN</td>\n",
              "      <td>NaN</td>\n",
              "      <td>NaN</td>\n",
              "      <td>NaN</td>\n",
              "    </tr>\n",
              "  </tbody>\n",
              "</table>\n",
              "<p>2 rows × 83 columns</p>\n",
              "</div>"
            ],
            "text/plain": [
              "   Unnamed: 0  cc_list_id  ... zoning_code  zoning_description\n",
              "0           0  20236585.0  ...         NaN                 NaN\n",
              "1           1  20239491.0  ...         NaN                 NaN\n",
              "\n",
              "[2 rows x 83 columns]"
            ]
          },
          "metadata": {
            "tags": []
          },
          "execution_count": 16
        }
      ]
    },
    {
      "cell_type": "code",
      "metadata": {
        "id": "ElY5cUMuRvKJ",
        "colab": {
          "base_uri": "https://localhost:8080/"
        },
        "outputId": "8f33be72-8ce9-45fa-b015-26b4819510b1"
      },
      "source": [
        "LA_MLS.shape"
      ],
      "execution_count": null,
      "outputs": [
        {
          "output_type": "execute_result",
          "data": {
            "text/plain": [
              "(502454, 83)"
            ]
          },
          "metadata": {
            "tags": []
          },
          "execution_count": 17
        }
      ]
    },
    {
      "cell_type": "markdown",
      "metadata": {
        "id": "1hEV3ep5bZCJ"
      },
      "source": [
        "### Subset MLS to CA, and remove duplicates"
      ]
    },
    {
      "cell_type": "code",
      "metadata": {
        "id": "DwF-64HLTYvu"
      },
      "source": [
        "# MLS already subset to CA\n",
        "LA_MLS_clean = LA_MLS.copy()"
      ],
      "execution_count": null,
      "outputs": []
    },
    {
      "cell_type": "code",
      "metadata": {
        "id": "KSYFh4xdbRPY"
      },
      "source": [
        "MLS_cols = ['hoa_fee_amount','match_street_address','address', 'city', 'zipcode', 'latitude', 'longitude', 'sqft', 'state',\n",
        "       'lot_sqft', 'year_built', 'image_urls','garage_spaces', 'garage_type', 'pool_spa_types',\n",
        "       'view_description', 'porch_or_patio', 'laundry_features',\n",
        "       'bedrooms', 'full_baths', 'half_baths',\n",
        "       'tax_amount','number_of_units', 'parking_features',\n",
        "       'heating', 'cooling', 'public_listing_comments',\n",
        "       'water_source', 'property_type', 'current_list_price',\n",
        "       'home_style', 'has_central_air', 'has_jacuzzi',\n",
        "       'has_pool', 'has_solar', 'has_garage', 'garage_type_enum',\n",
        "       'cooling_enum', 'fencing_description','property_condition', 'property_quality',\n",
        "       'senior_community_indicator', 'zoning_code', 'zoning_description']"
      ],
      "execution_count": null,
      "outputs": []
    },
    {
      "cell_type": "code",
      "metadata": {
        "id": "mqMYatt5NkZo"
      },
      "source": [
        "LA_MLS_clean = LA_MLS_clean[LA_MLS['state']=='CA'][MLS_cols]"
      ],
      "execution_count": null,
      "outputs": []
    },
    {
      "cell_type": "code",
      "metadata": {
        "id": "waQxyUetPrfE",
        "colab": {
          "base_uri": "https://localhost:8080/"
        },
        "outputId": "d66b053d-9d00-4f56-f64b-3a6fea0a5742"
      },
      "source": [
        "# Evaluate missingness in MLS\n",
        "(LA_MLS_clean.isna().sum()/LA_MLS_clean.shape[0]).sort_values(ascending=False)"
      ],
      "execution_count": null,
      "outputs": [
        {
          "output_type": "execute_result",
          "data": {
            "text/plain": [
              "half_baths                    0.973330\n",
              "porch_or_patio                0.951695\n",
              "property_quality              0.943263\n",
              "number_of_units               0.924240\n",
              "heating                       0.916563\n",
              "zoning_description            0.913289\n",
              "tax_amount                    0.911026\n",
              "parking_features              0.904348\n",
              "view_description              0.899643\n",
              "water_source                  0.892725\n",
              "fencing_description           0.879916\n",
              "garage_type_enum              0.878052\n",
              "garage_type                   0.874387\n",
              "senior_community_indicator    0.860506\n",
              "pool_spa_types                0.856692\n",
              "cooling_enum                  0.835887\n",
              "laundry_features              0.830115\n",
              "cooling                       0.823648\n",
              "property_condition            0.808791\n",
              "public_listing_comments       0.808129\n",
              "garage_spaces                 0.803879\n",
              "hoa_fee_amount                0.744633\n",
              "year_built                    0.706916\n",
              "zoning_code                   0.700064\n",
              "full_baths                    0.695825\n",
              "bedrooms                      0.691009\n",
              "home_style                    0.580562\n",
              "image_urls                    0.299584\n",
              "sqft                          0.129392\n",
              "lot_sqft                      0.126288\n",
              "latitude                      0.029009\n",
              "longitude                     0.029009\n",
              "current_list_price            0.015251\n",
              "property_type                 0.012720\n",
              "has_garage                    0.012433\n",
              "has_solar                     0.012433\n",
              "has_pool                      0.012433\n",
              "has_jacuzzi                   0.012433\n",
              "has_central_air               0.012433\n",
              "city                          0.000088\n",
              "match_street_address          0.000002\n",
              "zipcode                       0.000000\n",
              "address                       0.000000\n",
              "state                         0.000000\n",
              "dtype: float64"
            ]
          },
          "metadata": {
            "tags": []
          },
          "execution_count": 21
        }
      ]
    },
    {
      "cell_type": "code",
      "metadata": {
        "id": "XtVQZp2RM_7d"
      },
      "source": [
        "LA_MLS_clean.drop_duplicates('match_street_address',inplace=True)"
      ],
      "execution_count": null,
      "outputs": []
    },
    {
      "cell_type": "markdown",
      "metadata": {
        "id": "yMBa_ge4beak"
      },
      "source": [
        "### Splitting MLS address"
      ]
    },
    {
      "cell_type": "code",
      "metadata": {
        "id": "OPQN68FiOv8G"
      },
      "source": [
        "LA_MLS_clean['match_street_address'] = LA_MLS_clean['match_street_address'].str.lower()"
      ],
      "execution_count": null,
      "outputs": []
    },
    {
      "cell_type": "code",
      "metadata": {
        "id": "kM17R8AHOv-n",
        "colab": {
          "base_uri": "https://localhost:8080/",
          "height": 357
        },
        "outputId": "a7fdf1d3-a3d9-41bd-beaa-f1f9e1f5b197"
      },
      "source": [
        "LA_MLS_split = LA_MLS_clean.copy()\n",
        "LA_MLS_split[['street_address','apt_num']] = LA_MLS_clean['match_street_address'].str.split(' apt|, apartment| unit| #', 1, expand=True)\n",
        "LA_MLS_split.head()"
      ],
      "execution_count": null,
      "outputs": [
        {
          "output_type": "execute_result",
          "data": {
            "text/html": [
              "<div>\n",
              "<style scoped>\n",
              "    .dataframe tbody tr th:only-of-type {\n",
              "        vertical-align: middle;\n",
              "    }\n",
              "\n",
              "    .dataframe tbody tr th {\n",
              "        vertical-align: top;\n",
              "    }\n",
              "\n",
              "    .dataframe thead th {\n",
              "        text-align: right;\n",
              "    }\n",
              "</style>\n",
              "<table border=\"1\" class=\"dataframe\">\n",
              "  <thead>\n",
              "    <tr style=\"text-align: right;\">\n",
              "      <th></th>\n",
              "      <th>hoa_fee_amount</th>\n",
              "      <th>match_street_address</th>\n",
              "      <th>address</th>\n",
              "      <th>city</th>\n",
              "      <th>zipcode</th>\n",
              "      <th>latitude</th>\n",
              "      <th>longitude</th>\n",
              "      <th>sqft</th>\n",
              "      <th>state</th>\n",
              "      <th>lot_sqft</th>\n",
              "      <th>year_built</th>\n",
              "      <th>image_urls</th>\n",
              "      <th>garage_spaces</th>\n",
              "      <th>garage_type</th>\n",
              "      <th>pool_spa_types</th>\n",
              "      <th>view_description</th>\n",
              "      <th>porch_or_patio</th>\n",
              "      <th>laundry_features</th>\n",
              "      <th>bedrooms</th>\n",
              "      <th>full_baths</th>\n",
              "      <th>half_baths</th>\n",
              "      <th>tax_amount</th>\n",
              "      <th>number_of_units</th>\n",
              "      <th>parking_features</th>\n",
              "      <th>heating</th>\n",
              "      <th>cooling</th>\n",
              "      <th>public_listing_comments</th>\n",
              "      <th>water_source</th>\n",
              "      <th>property_type</th>\n",
              "      <th>current_list_price</th>\n",
              "      <th>home_style</th>\n",
              "      <th>has_central_air</th>\n",
              "      <th>has_jacuzzi</th>\n",
              "      <th>has_pool</th>\n",
              "      <th>has_solar</th>\n",
              "      <th>has_garage</th>\n",
              "      <th>garage_type_enum</th>\n",
              "      <th>cooling_enum</th>\n",
              "      <th>fencing_description</th>\n",
              "      <th>property_condition</th>\n",
              "      <th>property_quality</th>\n",
              "      <th>senior_community_indicator</th>\n",
              "      <th>zoning_code</th>\n",
              "      <th>zoning_description</th>\n",
              "      <th>street_address</th>\n",
              "      <th>apt_num</th>\n",
              "    </tr>\n",
              "  </thead>\n",
              "  <tbody>\n",
              "    <tr>\n",
              "      <th>0</th>\n",
              "      <td>NaN</td>\n",
              "      <td>4628 vitrina ln</td>\n",
              "      <td>4628 Vitrina Ln</td>\n",
              "      <td>Palmdale</td>\n",
              "      <td>93551</td>\n",
              "      <td>34.620360</td>\n",
              "      <td>-118.214069</td>\n",
              "      <td>NaN</td>\n",
              "      <td>CA</td>\n",
              "      <td>NaN</td>\n",
              "      <td>NaN</td>\n",
              "      <td>NaN</td>\n",
              "      <td>NaN</td>\n",
              "      <td>NaN</td>\n",
              "      <td>NaN</td>\n",
              "      <td>NaN</td>\n",
              "      <td>NaN</td>\n",
              "      <td>NaN</td>\n",
              "      <td>4.0</td>\n",
              "      <td>3.0</td>\n",
              "      <td>NaN</td>\n",
              "      <td>NaN</td>\n",
              "      <td>NaN</td>\n",
              "      <td>NaN</td>\n",
              "      <td>NaN</td>\n",
              "      <td>NaN</td>\n",
              "      <td>NaN</td>\n",
              "      <td>NaN</td>\n",
              "      <td>SINGLE</td>\n",
              "      <td>384000.0</td>\n",
              "      <td>NaN</td>\n",
              "      <td>False</td>\n",
              "      <td>False</td>\n",
              "      <td>False</td>\n",
              "      <td>False</td>\n",
              "      <td>False</td>\n",
              "      <td>NaN</td>\n",
              "      <td>NaN</td>\n",
              "      <td>NaN</td>\n",
              "      <td>NaN</td>\n",
              "      <td>NaN</td>\n",
              "      <td>NaN</td>\n",
              "      <td>NaN</td>\n",
              "      <td>NaN</td>\n",
              "      <td>4628 vitrina ln</td>\n",
              "      <td>None</td>\n",
              "    </tr>\n",
              "    <tr>\n",
              "      <th>1</th>\n",
              "      <td>NaN</td>\n",
              "      <td>39062 dianron rd</td>\n",
              "      <td>39062 Dianron Rd</td>\n",
              "      <td>Palmdale</td>\n",
              "      <td>93551</td>\n",
              "      <td>34.592879</td>\n",
              "      <td>-118.155813</td>\n",
              "      <td>1400.0</td>\n",
              "      <td>CA</td>\n",
              "      <td>6969.0</td>\n",
              "      <td>1977.0</td>\n",
              "      <td>NaN</td>\n",
              "      <td>2.0</td>\n",
              "      <td>NaN</td>\n",
              "      <td>True</td>\n",
              "      <td>NaN</td>\n",
              "      <td>NaN</td>\n",
              "      <td>NaN</td>\n",
              "      <td>4.0</td>\n",
              "      <td>2.0</td>\n",
              "      <td>NaN</td>\n",
              "      <td>7123.0</td>\n",
              "      <td>NaN</td>\n",
              "      <td>NaN</td>\n",
              "      <td>NaN</td>\n",
              "      <td>Central, Solar</td>\n",
              "      <td>NaN</td>\n",
              "      <td>NaN</td>\n",
              "      <td>SINGLE</td>\n",
              "      <td>325000.0</td>\n",
              "      <td>NaN</td>\n",
              "      <td>True</td>\n",
              "      <td>False</td>\n",
              "      <td>True</td>\n",
              "      <td>True</td>\n",
              "      <td>False</td>\n",
              "      <td>NaN</td>\n",
              "      <td>central</td>\n",
              "      <td>NaN</td>\n",
              "      <td>NaN</td>\n",
              "      <td>NaN</td>\n",
              "      <td>NaN</td>\n",
              "      <td>NaN</td>\n",
              "      <td>NaN</td>\n",
              "      <td>39062 dianron rd</td>\n",
              "      <td>None</td>\n",
              "    </tr>\n",
              "    <tr>\n",
              "      <th>2</th>\n",
              "      <td>NaN</td>\n",
              "      <td>39943 pampas st</td>\n",
              "      <td>39943 Pampas St</td>\n",
              "      <td>Palmdale</td>\n",
              "      <td>93551</td>\n",
              "      <td>34.607212</td>\n",
              "      <td>-118.196368</td>\n",
              "      <td>NaN</td>\n",
              "      <td>CA</td>\n",
              "      <td>NaN</td>\n",
              "      <td>NaN</td>\n",
              "      <td>NaN</td>\n",
              "      <td>NaN</td>\n",
              "      <td>NaN</td>\n",
              "      <td>NaN</td>\n",
              "      <td>NaN</td>\n",
              "      <td>NaN</td>\n",
              "      <td>NaN</td>\n",
              "      <td>5.0</td>\n",
              "      <td>3.0</td>\n",
              "      <td>NaN</td>\n",
              "      <td>NaN</td>\n",
              "      <td>NaN</td>\n",
              "      <td>NaN</td>\n",
              "      <td>NaN</td>\n",
              "      <td>NaN</td>\n",
              "      <td>NaN</td>\n",
              "      <td>NaN</td>\n",
              "      <td>SINGLE</td>\n",
              "      <td>565000.0</td>\n",
              "      <td>NaN</td>\n",
              "      <td>False</td>\n",
              "      <td>False</td>\n",
              "      <td>False</td>\n",
              "      <td>False</td>\n",
              "      <td>False</td>\n",
              "      <td>NaN</td>\n",
              "      <td>NaN</td>\n",
              "      <td>NaN</td>\n",
              "      <td>NaN</td>\n",
              "      <td>NaN</td>\n",
              "      <td>NaN</td>\n",
              "      <td>NaN</td>\n",
              "      <td>NaN</td>\n",
              "      <td>39943 pampas st</td>\n",
              "      <td>None</td>\n",
              "    </tr>\n",
              "    <tr>\n",
              "      <th>3</th>\n",
              "      <td>100.0</td>\n",
              "      <td>41019 woodshire dr</td>\n",
              "      <td>41019 Woodshire Dr</td>\n",
              "      <td>Palmdale</td>\n",
              "      <td>93551</td>\n",
              "      <td>34.627371</td>\n",
              "      <td>-118.222015</td>\n",
              "      <td>4933.0</td>\n",
              "      <td>CA</td>\n",
              "      <td>20087.0</td>\n",
              "      <td>2004.0</td>\n",
              "      <td>NaN</td>\n",
              "      <td>NaN</td>\n",
              "      <td>NaN</td>\n",
              "      <td>NaN</td>\n",
              "      <td>NaN</td>\n",
              "      <td>NaN</td>\n",
              "      <td>NaN</td>\n",
              "      <td>4.0</td>\n",
              "      <td>4.0</td>\n",
              "      <td>NaN</td>\n",
              "      <td>8201.0</td>\n",
              "      <td>NaN</td>\n",
              "      <td>NaN</td>\n",
              "      <td>NaN</td>\n",
              "      <td>Central</td>\n",
              "      <td>This 4933 square foot single family home has 4...</td>\n",
              "      <td>NaN</td>\n",
              "      <td>SINGLE</td>\n",
              "      <td>NaN</td>\n",
              "      <td>NaN</td>\n",
              "      <td>True</td>\n",
              "      <td>False</td>\n",
              "      <td>False</td>\n",
              "      <td>False</td>\n",
              "      <td>False</td>\n",
              "      <td>NaN</td>\n",
              "      <td>central</td>\n",
              "      <td>NaN</td>\n",
              "      <td>NaN</td>\n",
              "      <td>NaN</td>\n",
              "      <td>NaN</td>\n",
              "      <td>NaN</td>\n",
              "      <td>NaN</td>\n",
              "      <td>41019 woodshire dr</td>\n",
              "      <td>None</td>\n",
              "    </tr>\n",
              "    <tr>\n",
              "      <th>4</th>\n",
              "      <td>NaN</td>\n",
              "      <td>6601 holmes ave</td>\n",
              "      <td>6601 Holmes Ave</td>\n",
              "      <td>Los Angeles</td>\n",
              "      <td>90001</td>\n",
              "      <td>33.979494</td>\n",
              "      <td>-118.241427</td>\n",
              "      <td>NaN</td>\n",
              "      <td>CA</td>\n",
              "      <td>NaN</td>\n",
              "      <td>NaN</td>\n",
              "      <td>NaN</td>\n",
              "      <td>NaN</td>\n",
              "      <td>NaN</td>\n",
              "      <td>NaN</td>\n",
              "      <td>NaN</td>\n",
              "      <td>NaN</td>\n",
              "      <td>NaN</td>\n",
              "      <td>4.0</td>\n",
              "      <td>4.0</td>\n",
              "      <td>NaN</td>\n",
              "      <td>NaN</td>\n",
              "      <td>NaN</td>\n",
              "      <td>NaN</td>\n",
              "      <td>NaN</td>\n",
              "      <td>NaN</td>\n",
              "      <td>NaN</td>\n",
              "      <td>NaN</td>\n",
              "      <td>MULTI_FAMILY</td>\n",
              "      <td>565000.0</td>\n",
              "      <td>NaN</td>\n",
              "      <td>False</td>\n",
              "      <td>False</td>\n",
              "      <td>False</td>\n",
              "      <td>False</td>\n",
              "      <td>False</td>\n",
              "      <td>NaN</td>\n",
              "      <td>NaN</td>\n",
              "      <td>NaN</td>\n",
              "      <td>NaN</td>\n",
              "      <td>NaN</td>\n",
              "      <td>NaN</td>\n",
              "      <td>NaN</td>\n",
              "      <td>NaN</td>\n",
              "      <td>6601 holmes ave</td>\n",
              "      <td>None</td>\n",
              "    </tr>\n",
              "  </tbody>\n",
              "</table>\n",
              "</div>"
            ],
            "text/plain": [
              "   hoa_fee_amount match_street_address  ...      street_address apt_num\n",
              "0             NaN      4628 vitrina ln  ...     4628 vitrina ln    None\n",
              "1             NaN     39062 dianron rd  ...    39062 dianron rd    None\n",
              "2             NaN      39943 pampas st  ...     39943 pampas st    None\n",
              "3           100.0   41019 woodshire dr  ...  41019 woodshire dr    None\n",
              "4             NaN      6601 holmes ave  ...     6601 holmes ave    None\n",
              "\n",
              "[5 rows x 46 columns]"
            ]
          },
          "metadata": {
            "tags": []
          },
          "execution_count": 24
        }
      ]
    },
    {
      "cell_type": "markdown",
      "metadata": {
        "id": "_yvzxQ7FZqvh"
      },
      "source": [
        "## Merging REX Listing_address + MLS"
      ]
    },
    {
      "cell_type": "code",
      "metadata": {
        "id": "mkBGxWR8Ov6F",
        "colab": {
          "base_uri": "https://localhost:8080/"
        },
        "outputId": "51176d87-5710-4f0f-ca01-1a48c82e5427"
      },
      "source": [
        "print(\"Origin data: \", listings_LA_split.shape, LA_MLS_split.shape)\n",
        "merge_df = listings_LA_split.merge(LA_MLS_split, left_on=['street_address','apt_num'], right_on=[\"street_address\",'apt_num'], how='inner')\n",
        "merge_df.shape"
      ],
      "execution_count": null,
      "outputs": [
        {
          "output_type": "stream",
          "text": [
            "Origin data:  (15730, 28) (375855, 46)\n"
          ],
          "name": "stdout"
        },
        {
          "output_type": "execute_result",
          "data": {
            "text/plain": [
              "(5916, 72)"
            ]
          },
          "metadata": {
            "tags": []
          },
          "execution_count": 25
        }
      ]
    },
    {
      "cell_type": "code",
      "metadata": {
        "id": "goOjHH4TdmqP",
        "colab": {
          "base_uri": "https://localhost:8080/"
        },
        "outputId": "9c6c5798-7230-4742-9cfd-ece15967b913"
      },
      "source": [
        "print((merge_df.shape[0]/listings_LA_split.shape[0])*100,'% REX listings found on MLS')\n",
        "# print(merge_df['fips'].notnull().sum(), 'matched to MLS, ', (merge_df['fips'].notnull().sum()/listings_LA_split.shape[0])*100,'percent')"
      ],
      "execution_count": null,
      "outputs": [
        {
          "output_type": "stream",
          "text": [
            "37.60966306420852 % REX listings found on MLS\n"
          ],
          "name": "stdout"
        }
      ]
    },
    {
      "cell_type": "code",
      "metadata": {
        "id": "rYKQMmMROv4c",
        "colab": {
          "base_uri": "https://localhost:8080/",
          "height": 335
        },
        "outputId": "c6b97405-7706-472e-b998-608788cb0076"
      },
      "source": [
        "merge_df[['address_line','street_address','match_street_address']].head(10)"
      ],
      "execution_count": null,
      "outputs": [
        {
          "output_type": "execute_result",
          "data": {
            "text/html": [
              "<div>\n",
              "<style scoped>\n",
              "    .dataframe tbody tr th:only-of-type {\n",
              "        vertical-align: middle;\n",
              "    }\n",
              "\n",
              "    .dataframe tbody tr th {\n",
              "        vertical-align: top;\n",
              "    }\n",
              "\n",
              "    .dataframe thead th {\n",
              "        text-align: right;\n",
              "    }\n",
              "</style>\n",
              "<table border=\"1\" class=\"dataframe\">\n",
              "  <thead>\n",
              "    <tr style=\"text-align: right;\">\n",
              "      <th></th>\n",
              "      <th>address_line</th>\n",
              "      <th>street_address</th>\n",
              "      <th>match_street_address</th>\n",
              "    </tr>\n",
              "  </thead>\n",
              "  <tbody>\n",
              "    <tr>\n",
              "      <th>0</th>\n",
              "      <td>pacific coast hwy</td>\n",
              "      <td>pacific coast hwy</td>\n",
              "      <td>pacific coast hwy</td>\n",
              "    </tr>\n",
              "    <tr>\n",
              "      <th>1</th>\n",
              "      <td>4080 glencoe ave unit 316</td>\n",
              "      <td>4080 glencoe ave</td>\n",
              "      <td>4080 glencoe ave unit 316</td>\n",
              "    </tr>\n",
              "    <tr>\n",
              "      <th>2</th>\n",
              "      <td>175 sequoia dr</td>\n",
              "      <td>175 sequoia dr</td>\n",
              "      <td>175 sequoia dr</td>\n",
              "    </tr>\n",
              "    <tr>\n",
              "      <th>3</th>\n",
              "      <td>6560 3rd ave</td>\n",
              "      <td>6560 3rd ave</td>\n",
              "      <td>6560 3rd ave</td>\n",
              "    </tr>\n",
              "    <tr>\n",
              "      <th>4</th>\n",
              "      <td>1258 barry ave apt 5</td>\n",
              "      <td>1258 barry ave</td>\n",
              "      <td>1258 barry ave unit 5</td>\n",
              "    </tr>\n",
              "    <tr>\n",
              "      <th>5</th>\n",
              "      <td>15947 osborne st</td>\n",
              "      <td>15947 osborne st</td>\n",
              "      <td>15947 osborne st</td>\n",
              "    </tr>\n",
              "    <tr>\n",
              "      <th>6</th>\n",
              "      <td>27366 winding way</td>\n",
              "      <td>27366 winding way</td>\n",
              "      <td>27366 winding way</td>\n",
              "    </tr>\n",
              "    <tr>\n",
              "      <th>7</th>\n",
              "      <td>5941 kanan dume rd</td>\n",
              "      <td>5941 kanan dume rd</td>\n",
              "      <td>5941 kanan dume rd</td>\n",
              "    </tr>\n",
              "    <tr>\n",
              "      <th>8</th>\n",
              "      <td>5931 kanan dume rd</td>\n",
              "      <td>5931 kanan dume rd</td>\n",
              "      <td>5931 kanan dume rd</td>\n",
              "    </tr>\n",
              "    <tr>\n",
              "      <th>9</th>\n",
              "      <td>836 oneonta dr</td>\n",
              "      <td>836 oneonta dr</td>\n",
              "      <td>836 oneonta dr</td>\n",
              "    </tr>\n",
              "  </tbody>\n",
              "</table>\n",
              "</div>"
            ],
            "text/plain": [
              "                address_line      street_address       match_street_address\n",
              "0          pacific coast hwy   pacific coast hwy          pacific coast hwy\n",
              "1  4080 glencoe ave unit 316    4080 glencoe ave  4080 glencoe ave unit 316\n",
              "2             175 sequoia dr      175 sequoia dr             175 sequoia dr\n",
              "3               6560 3rd ave        6560 3rd ave               6560 3rd ave\n",
              "4       1258 barry ave apt 5      1258 barry ave      1258 barry ave unit 5\n",
              "5           15947 osborne st    15947 osborne st           15947 osborne st\n",
              "6          27366 winding way   27366 winding way          27366 winding way\n",
              "7         5941 kanan dume rd  5941 kanan dume rd         5941 kanan dume rd\n",
              "8         5931 kanan dume rd  5931 kanan dume rd         5931 kanan dume rd\n",
              "9             836 oneonta dr      836 oneonta dr             836 oneonta dr"
            ]
          },
          "metadata": {
            "tags": []
          },
          "execution_count": 27
        }
      ]
    },
    {
      "cell_type": "code",
      "metadata": {
        "id": "PAIILt6IQ2fB"
      },
      "source": [
        "merge_df.rename({'address_line':'REX_address','match_street_address':'MLS_address'},inplace=True)"
      ],
      "execution_count": null,
      "outputs": []
    },
    {
      "cell_type": "markdown",
      "metadata": {
        "id": "ZwNG_3RZf-wB"
      },
      "source": [
        "---"
      ]
    },
    {
      "cell_type": "markdown",
      "metadata": {
        "id": "hgvQA1jKgAjb"
      },
      "source": [
        "Now that we have REX and MLS data merged, we attempt to use MLS to backfill missing features"
      ]
    },
    {
      "cell_type": "markdown",
      "metadata": {
        "id": "Y9QYQnK0Q3bp"
      },
      "source": [
        "### Combine features to address missingness"
      ]
    },
    {
      "cell_type": "code",
      "metadata": {
        "id": "ygXR5vDuir3-"
      },
      "source": [
        "# if price is missing in listing data, try to replace it with the price indicated in matching MLS listing\n",
        "merge_df['price_merged'] = np.where(merge_df['price'].isna(), merge_df['current_list_price'], merge_df['price'])\n",
        "merge_df.drop(columns=['price','current_list_price'],inplace=True)"
      ],
      "execution_count": null,
      "outputs": []
    },
    {
      "cell_type": "code",
      "metadata": {
        "id": "OSxL93_zjNWF",
        "colab": {
          "base_uri": "https://localhost:8080/"
        },
        "outputId": "36f3b4ba-627a-44cd-c3d3-ae2cb9fd4575"
      },
      "source": [
        "print('Listings Dataset, price was ',listings_LA_split.price.isna().sum()/listings_LA_split.shape[0],'missing')\n",
        "print('after filling with MLS, number of null price', merge_df['price_merged'].isna().sum())"
      ],
      "execution_count": null,
      "outputs": [
        {
          "output_type": "stream",
          "text": [
            "Listings Dataset, price was  0.9358550540368722 missing\n",
            "after filling with MLS, number of null price 55\n"
          ],
          "name": "stdout"
        }
      ]
    },
    {
      "cell_type": "code",
      "metadata": {
        "id": "n5rHuW6rGK3E"
      },
      "source": [
        "# If feature is missing from listing dataset, try to fill it with corresponding MLS feature in matching listing\n",
        "merge_df['bedrooms_merged'] = np.where(merge_df['bedrooms_x'].isna(), merge_df['bedrooms_y'], merge_df['bedrooms_x'])\n",
        "merge_df['full_baths_merged'] = np.where(merge_df['full_baths_x'].isna(), merge_df['full_baths_y'], merge_df['full_baths_x'])\n",
        "merge_df['half_baths_merged'] = np.where(merge_df['half_baths_x'].isna(), merge_df['half_baths_y'], merge_df['half_baths_x'])\n",
        "merge_df['year_built_merged'] = np.where(merge_df['year_built_x'].isna(), merge_df['year_built_y'], merge_df['year_built_x'])\n",
        "merge_df['sqft_merged'] = np.where(merge_df['sqft'].isna(), merge_df['living_square_feet'], merge_df['sqft'])\n",
        "merge_df['land_sqft_merged'] = np.where(merge_df['land_square_footage'].isna(), merge_df['lot_sqft'], merge_df['land_square_footage'])\n",
        "merge_df['hoa_fee_merged'] = np.where(merge_df['hoa_fee_amount'].isna(), merge_df['hoa_fee'], merge_df['hoa_fee_amount'])\n",
        "merge_df['latitude_merged'] = np.where(merge_df['latitude_x'].isna(), merge_df['latitude_y'], merge_df['latitude_x'])\n",
        "merge_df['longitude_merged'] = np.where(merge_df['longitude_x'].isna(), merge_df['longitude_y'], merge_df['longitude_x'])"
      ],
      "execution_count": null,
      "outputs": []
    },
    {
      "cell_type": "code",
      "metadata": {
        "id": "GbNcG9IWRvky"
      },
      "source": [
        "merge_df.drop(columns=['bedrooms_x','bedrooms_y'],inplace=True)\n",
        "merge_df.drop(columns=['full_baths_x','full_baths_y','total_baths_calculated'],inplace=True)\n",
        "merge_df.drop(columns=['half_baths_x','half_baths_y'],inplace=True)\n",
        "merge_df.drop(columns=['year_built_x','year_built_y'],inplace=True)\n",
        "merge_df.drop(columns=['sqft','living_square_feet'],inplace=True)\n",
        "merge_df.drop(columns=['land_square_footage','lot_sqft'],inplace=True)\n",
        "merge_df.drop(columns=['hoa_fee_amount','hoa_fee'],inplace=True)\n",
        "merge_df.drop(columns=['property_type_y'],inplace=True)\n",
        "merge_df.drop(columns=['state_y'],inplace=True)\n",
        "merge_df.drop(columns=['city_y'],inplace=True)\n",
        "merge_df.drop(columns=['postal_code'],inplace=True)\n",
        "merge_df.drop(columns=['latitude_x','latitude_y'],inplace=True)\n",
        "merge_df.drop(columns=['longitude_x','longitude_y'],inplace=True)"
      ],
      "execution_count": null,
      "outputs": []
    },
    {
      "cell_type": "code",
      "metadata": {
        "id": "Rd78q8MyVERi"
      },
      "source": [
        "# Split image URLs included in MLS into list\n",
        "merge_df['image_urls'] = merge_df['image_urls'].str.split(',',expand=False)"
      ],
      "execution_count": null,
      "outputs": []
    },
    {
      "cell_type": "markdown",
      "metadata": {
        "id": "rXD7TuS2dc51"
      },
      "source": [
        "## Listing description freetext (`view_description`, `description`, `public_listing_comments`) - Extracting Nouns, Adjectives"
      ]
    },
    {
      "cell_type": "code",
      "metadata": {
        "id": "4UysKXncXF2v",
        "colab": {
          "base_uri": "https://localhost:8080/"
        },
        "outputId": "c683e53d-034e-4f07-c4d9-764c48ffd098"
      },
      "source": [
        "import nltk\n",
        "from textblob import TextBlob\n",
        "nltk.download('brown')\n",
        "nltk.download('punkt')\n",
        "nltk.download('averaged_perceptron_tagger')"
      ],
      "execution_count": null,
      "outputs": [
        {
          "output_type": "stream",
          "text": [
            "[nltk_data] Downloading package brown to /root/nltk_data...\n",
            "[nltk_data]   Unzipping corpora/brown.zip.\n",
            "[nltk_data] Downloading package punkt to /root/nltk_data...\n",
            "[nltk_data]   Unzipping tokenizers/punkt.zip.\n",
            "[nltk_data] Downloading package averaged_perceptron_tagger to\n",
            "[nltk_data]     /root/nltk_data...\n",
            "[nltk_data]   Unzipping taggers/averaged_perceptron_tagger.zip.\n"
          ],
          "name": "stdout"
        },
        {
          "output_type": "execute_result",
          "data": {
            "text/plain": [
              "True"
            ]
          },
          "metadata": {
            "tags": []
          },
          "execution_count": 35
        }
      ]
    },
    {
      "cell_type": "code",
      "metadata": {
        "id": "ROW2V58_X7y5"
      },
      "source": [
        "def get_adjectives(text):\n",
        "    blob = TextBlob(text)\n",
        "    return [ word for (word,tag) in blob.tags if tag.startswith(\"JJ\")]\n",
        "\n",
        "def get_nouns(text):\n",
        "  return list(TextBlob(text).noun_phrases)"
      ],
      "execution_count": null,
      "outputs": []
    },
    {
      "cell_type": "code",
      "metadata": {
        "id": "R3e5ZSPIZVRj"
      },
      "source": [
        "def combine_text(x):\n",
        "  text = ''\n",
        "  if(not pd.isnull(x['view_description'])):\n",
        "    text+=x['view_description']\n",
        "  if(not pd.isnull(x['description'])):\n",
        "    text+=x['description']\n",
        "  if(not pd.isnull(x['public_listing_comments'])):\n",
        "    text+=x['public_listing_comments']\n",
        "  \n",
        "  if(text==''):\n",
        "    text=None\n",
        "  return text"
      ],
      "execution_count": null,
      "outputs": []
    },
    {
      "cell_type": "code",
      "metadata": {
        "id": "OnAC99O3YsAb",
        "colab": {
          "base_uri": "https://localhost:8080/"
        },
        "outputId": "560bc7a9-e529-48c4-acb4-2e7c1a12381f"
      },
      "source": [
        "merge_df['free_texts'] = merge_df.apply(lambda x: combine_text(x),axis=1)\n",
        "merge_df['free_texts'].head(10)"
      ],
      "execution_count": null,
      "outputs": [
        {
          "output_type": "execute_result",
          "data": {
            "text/plain": [
              "0    Oceanfront estate features three homes and a p...\n",
              "1                                                 None\n",
              "2    Remodeled 3 bedroom, 2 bath home for sale in d...\n",
              "3                                                 None\n",
              "4                                                 None\n",
              "5    Other ViewFantastic North Hills single story t...\n",
              "6                                                 None\n",
              "7                                                 None\n",
              "8                                                 None\n",
              "9                                                 None\n",
              "Name: free_texts, dtype: object"
            ]
          },
          "metadata": {
            "tags": []
          },
          "execution_count": 38
        }
      ]
    },
    {
      "cell_type": "code",
      "metadata": {
        "id": "HC9qYhK7cF3G"
      },
      "source": [
        "merge_df['free_texts_nouns'] = merge_df['free_texts'].apply(lambda x: get_nouns(x) if x is not None else None)\n",
        "merge_df['free_texts_adjectives'] = merge_df['free_texts'].apply(lambda x: get_adjectives(x) if x is not None else None)"
      ],
      "execution_count": null,
      "outputs": []
    },
    {
      "cell_type": "code",
      "metadata": {
        "id": "h8ytll8mcEVJ",
        "colab": {
          "base_uri": "https://localhost:8080/",
          "height": 191
        },
        "outputId": "5c6c2e0e-9415-473b-9bc0-36a8fe5e4973"
      },
      "source": [
        "merge_df[['free_texts_nouns','free_texts_adjectives']].head()"
      ],
      "execution_count": null,
      "outputs": [
        {
          "output_type": "execute_result",
          "data": {
            "text/html": [
              "<div>\n",
              "<style scoped>\n",
              "    .dataframe tbody tr th:only-of-type {\n",
              "        vertical-align: middle;\n",
              "    }\n",
              "\n",
              "    .dataframe tbody tr th {\n",
              "        vertical-align: top;\n",
              "    }\n",
              "\n",
              "    .dataframe thead th {\n",
              "        text-align: right;\n",
              "    }\n",
              "</style>\n",
              "<table border=\"1\" class=\"dataframe\">\n",
              "  <thead>\n",
              "    <tr style=\"text-align: right;\">\n",
              "      <th></th>\n",
              "      <th>free_texts_nouns</th>\n",
              "      <th>free_texts_adjectives</th>\n",
              "    </tr>\n",
              "  </thead>\n",
              "  <tbody>\n",
              "    <tr>\n",
              "      <th>0</th>\n",
              "      <td>[oceanfront, pool house, beachfront property]</td>\n",
              "      <td>[beachfront, sweeping, ocean]</td>\n",
              "    </tr>\n",
              "    <tr>\n",
              "      <th>1</th>\n",
              "      <td>None</td>\n",
              "      <td>None</td>\n",
              "    </tr>\n",
              "    <tr>\n",
              "      <th>2</th>\n",
              "      <td>[remodeled, bath home, arroyo, car garage, end...</td>\n",
              "      <td>[desirable, endless, dual, open, full, high-en...</td>\n",
              "    </tr>\n",
              "    <tr>\n",
              "      <th>3</th>\n",
              "      <td>None</td>\n",
              "      <td>None</td>\n",
              "    </tr>\n",
              "    <tr>\n",
              "      <th>4</th>\n",
              "      <td>None</td>\n",
              "      <td>None</td>\n",
              "    </tr>\n",
              "  </tbody>\n",
              "</table>\n",
              "</div>"
            ],
            "text/plain": [
              "                                    free_texts_nouns                              free_texts_adjectives\n",
              "0      [oceanfront, pool house, beachfront property]                      [beachfront, sweeping, ocean]\n",
              "1                                               None                                               None\n",
              "2  [remodeled, bath home, arroyo, car garage, end...  [desirable, endless, dual, open, full, high-en...\n",
              "3                                               None                                               None\n",
              "4                                               None                                               None"
            ]
          },
          "metadata": {
            "tags": []
          },
          "execution_count": 40
        }
      ]
    },
    {
      "cell_type": "code",
      "metadata": {
        "id": "5k-SecBkdHnk"
      },
      "source": [
        "# now that nouns/adjectives are extracted, we can drop the original text\n",
        "merge_df.drop(columns=['view_description','description','public_listing_comments','free_texts'],inplace=True)"
      ],
      "execution_count": null,
      "outputs": []
    },
    {
      "cell_type": "markdown",
      "metadata": {
        "id": "x0KUQZjGdggI"
      },
      "source": [
        "## Evaluate missingness after merge"
      ]
    },
    {
      "cell_type": "code",
      "metadata": {
        "id": "RHbpGgzEUcgo",
        "colab": {
          "base_uri": "https://localhost:8080/"
        },
        "outputId": "4ef6d263-45f2-4ede-f364-f65365463023"
      },
      "source": [
        "(merge_df.isna().sum()/merge_df.shape[0]).sort_values(ascending=False)"
      ],
      "execution_count": null,
      "outputs": [
        {
          "output_type": "execute_result",
          "data": {
            "text/plain": [
              "neighborhood                  0.974138\n",
              "porch_or_patio                0.959432\n",
              "number_of_units               0.944050\n",
              "heating                       0.941346\n",
              "property_quality              0.931034\n",
              "half_baths_merged             0.928499\n",
              "parking_features              0.927316\n",
              "water_source                  0.917681\n",
              "garage_type_enum              0.907708\n",
              "garage_type                   0.904327\n",
              "zoning_description            0.902130\n",
              "tax_amount                    0.899087\n",
              "pool_spa_types                0.876437\n",
              "fencing_description           0.861900\n",
              "apt_num                       0.859872\n",
              "senior_community_indicator    0.857336\n",
              "laundry_features              0.854801\n",
              "cooling_enum                  0.852434\n",
              "cooling                       0.837728\n",
              "garage_spaces                 0.824544\n",
              "property_condition            0.791244\n",
              "free_texts_nouns              0.761156\n",
              "free_texts_adjectives         0.761156\n",
              "hoa_fee_merged                0.743070\n",
              "zoning_code                   0.671231\n",
              "home_style                    0.608012\n",
              "total_rooms                   0.381508\n",
              "school_district_name          0.330291\n",
              "school_district_id            0.321163\n",
              "image_urls                    0.246450\n",
              "stories                       0.114943\n",
              "sqft_merged                   0.030933\n",
              "has_jacuzzi                   0.012001\n",
              "has_central_air               0.012001\n",
              "has_pool                      0.012001\n",
              "has_solar                     0.012001\n",
              "has_garage                    0.012001\n",
              "total_baths                   0.009804\n",
              "price_merged                  0.009297\n",
              "land_sqft_merged              0.006592\n",
              "year_built_merged             0.005240\n",
              "full_baths_merged             0.005071\n",
              "bedrooms_merged               0.003381\n",
              "county                        0.000000\n",
              "address_line                  0.000000\n",
              "city_x                        0.000000\n",
              "state_x                       0.000000\n",
              "address                       0.000000\n",
              "marketing_budget              0.000000\n",
              "longitude_merged              0.000000\n",
              "property_type_x               0.000000\n",
              "street_address                0.000000\n",
              "latitude_merged               0.000000\n",
              "match_street_address          0.000000\n",
              "zipcode                       0.000000\n",
              "rex_url                       0.000000\n",
              "dtype: float64"
            ]
          },
          "metadata": {
            "tags": []
          },
          "execution_count": 43
        }
      ]
    },
    {
      "cell_type": "code",
      "metadata": {
        "id": "B1D3IXk6d8Hm",
        "colab": {
          "base_uri": "https://localhost:8080/"
        },
        "outputId": "1801492a-6a28-4824-fe27-9c26e0d411aa"
      },
      "source": [
        "merge_df.shape"
      ],
      "execution_count": null,
      "outputs": [
        {
          "output_type": "execute_result",
          "data": {
            "text/plain": [
              "(5916, 56)"
            ]
          },
          "metadata": {
            "tags": []
          },
          "execution_count": 44
        }
      ]
    },
    {
      "cell_type": "code",
      "metadata": {
        "id": "3tzFQcvweIVP"
      },
      "source": [
        "# merge_df.to_pickle('LA_MLS_cleaned_1109.pkl')"
      ],
      "execution_count": null,
      "outputs": []
    },
    {
      "cell_type": "markdown",
      "metadata": {
        "id": "ELUBlAdA05D8"
      },
      "source": [
        "## Further Cleaning of Individual Features"
      ]
    },
    {
      "cell_type": "code",
      "metadata": {
        "id": "7WT6DEn1fDzl"
      },
      "source": [
        "df_cleaning = merge_df.copy()\n",
        "\n",
        "#Drop rows (listings) missing crucial values\n",
        "df_cleaning.dropna(subset=['bedrooms_merged', 'total_baths','price_merged','sqft_merged','land_sqft_merged','year_built_merged'],inplace=True)"
      ],
      "execution_count": null,
      "outputs": []
    },
    {
      "cell_type": "code",
      "metadata": {
        "id": "HNoyoLDh0-Ez",
        "colab": {
          "base_uri": "https://localhost:8080/"
        },
        "outputId": "f4e074f5-8d83-4000-ca4b-e6a3647a7854"
      },
      "source": [
        "df_cleaning.shape"
      ],
      "execution_count": null,
      "outputs": [
        {
          "output_type": "execute_result",
          "data": {
            "text/plain": [
              "(5598, 56)"
            ]
          },
          "metadata": {
            "tags": []
          },
          "execution_count": 468
        }
      ]
    },
    {
      "cell_type": "markdown",
      "metadata": {
        "id": "fizjyJg0iZhX"
      },
      "source": [
        "## Sqft"
      ]
    },
    {
      "cell_type": "code",
      "metadata": {
        "id": "Y2WwAhGCoZfo"
      },
      "source": [
        "# drop listings with 0 sqft\n",
        "df_cleaning = df_cleaning[df_cleaning.sqft_merged!=0].copy()\n",
        "# if land sqft is 0, assume that its equal to sqft\n",
        "df_cleaning.land_sqft_merged = np.where(df_cleaning.land_sqft_merged==0, df_cleaning.sqft_merged, df_cleaning.land_sqft_merged)"
      ],
      "execution_count": null,
      "outputs": []
    },
    {
      "cell_type": "markdown",
      "metadata": {
        "id": "-Yl6BIUG1BNQ"
      },
      "source": [
        "## Baths"
      ]
    },
    {
      "cell_type": "code",
      "metadata": {
        "id": "PY32iCgo0-HC"
      },
      "source": [
        "# # if fullbaths missing, replace with totalbaths\n",
        "df_cleaning.full_baths_merged = np.where(df_cleaning.full_baths_merged.isna(), df_cleaning.total_baths, df_cleaning.full_baths_merged)\n",
        "\n",
        "# if halfbaths missing or its negative, replace with difference\n",
        "df_cleaning.half_baths_merged = np.where(df_cleaning.half_baths_merged.isna(), df_cleaning.total_baths-df_cleaning.full_baths_merged, df_cleaning.half_baths_merged)\n",
        "df_cleaning.half_baths_merged = np.where(df_cleaning.half_baths_merged<0, 0, df_cleaning.half_baths_merged)\n",
        "\n",
        "# # if totalbaths<fullbaths, replace total with full+half\n",
        "df_cleaning.total_baths = np.where(df_cleaning.total_baths<df_cleaning.full_baths_merged, df_cleaning.full_baths_merged+df_cleaning.half_baths_merged, df_cleaning.total_baths)"
      ],
      "execution_count": null,
      "outputs": []
    },
    {
      "cell_type": "markdown",
      "metadata": {
        "id": "lX-gTJ061LJO"
      },
      "source": [
        "## Pools"
      ]
    },
    {
      "cell_type": "code",
      "metadata": {
        "id": "ebREk3dw0-Nc"
      },
      "source": [
        "# Fill pool NA with NO\n",
        "df_cleaning.pool_spa_types.fillna(value='No',inplace=True)\n",
        "df_cleaning.loc[df_cleaning.pool_spa_types=='True','pool_spa_types'] = 'Pool (yes)'\n",
        "df_cleaning.loc[df_cleaning.pool_spa_types=='Yes','pool_spa_types'] = 'Pool (yes)'"
      ],
      "execution_count": null,
      "outputs": []
    },
    {
      "cell_type": "markdown",
      "metadata": {
        "id": "FP1Cipup1QYs"
      },
      "source": [
        "## Fencing"
      ]
    },
    {
      "cell_type": "code",
      "metadata": {
        "id": "FTzMHUEi0-T3"
      },
      "source": [
        "# Limit fencing types to top 15 (and then Other), fillna with 'None'\n",
        "df_cleaning.fencing_description.fillna(value='None',inplace=True)\n",
        "# Get the first word of fencing type\n",
        "df_cleaning.fencing_description = df_cleaning.fencing_description.apply(lambda x: str(x).split(',')[0] if str(x)!='nan' else x)\n",
        "\n",
        "# find the top 15 fencing types, set rest to other\n",
        "fencing_types_15 = df_cleaning.fencing_description.value_counts()[:15].index\n",
        "df_cleaning.loc[~df_cleaning['fencing_description'].isin(fencing_types_15), 'fencing_description'] = 'Other'"
      ],
      "execution_count": null,
      "outputs": []
    },
    {
      "cell_type": "markdown",
      "metadata": {
        "id": "gtQkMM4c1XWN"
      },
      "source": [
        "## Apartment Number"
      ]
    },
    {
      "cell_type": "code",
      "metadata": {
        "id": "j6N1dZSN0-W9"
      },
      "source": [
        "# Create a True/False feature indicating whether listing has an apartment number\n",
        "df_cleaning.loc[df_cleaning.apt_num.notnull(),'is_apt'] = 1\n",
        "df_cleaning.loc[df_cleaning.apt_num.isna(),'is_apt'] = 0"
      ],
      "execution_count": null,
      "outputs": []
    },
    {
      "cell_type": "markdown",
      "metadata": {
        "id": "eAo2fhsc1c1w"
      },
      "source": [
        "## Property Condition"
      ]
    },
    {
      "cell_type": "code",
      "metadata": {
        "id": "_DWYKmLf0-SE"
      },
      "source": [
        "# Limit fencing to top 10, fillna with the mode (\"Turnkey\")\n",
        "df_cleaning.property_condition.fillna(df_cleaning.property_condition.mode()[0],inplace=True)\n",
        "df_cleaning.property_condition = df_cleaning.property_condition.apply(lambda x: str(x).split(',')[0] if str(x)!='nan' else x)\n",
        "\n",
        "property_condition_10 = df_cleaning.property_condition.value_counts()[:9].index\n",
        "df_cleaning.loc[~df_cleaning['property_condition'].isin(property_condition_10), 'property_condition'] = 'Other'"
      ],
      "execution_count": null,
      "outputs": []
    },
    {
      "cell_type": "markdown",
      "metadata": {
        "id": "AOVRXIw41jFD"
      },
      "source": [
        "## Homestyle"
      ]
    },
    {
      "cell_type": "code",
      "metadata": {
        "id": "HwxDScax0-QL"
      },
      "source": [
        "# Limit homestyles to top 10, fillna homestyle to Other\n",
        "homestyle_10 = df_cleaning.home_style.value_counts()[:9].index\n",
        "df_cleaning.loc[~df_cleaning['home_style'].isin(homestyle_10), 'home_style'] = 'Other'\n",
        "df_cleaning.home_style.fillna('Other',inplace=True)"
      ],
      "execution_count": null,
      "outputs": []
    },
    {
      "cell_type": "markdown",
      "metadata": {
        "id": "cX1KGSVE1ovu"
      },
      "source": [
        "## Total Rooms"
      ]
    },
    {
      "cell_type": "code",
      "metadata": {
        "id": "MMqvHnZS0-L5",
        "colab": {
          "base_uri": "https://localhost:8080/",
          "height": 281
        },
        "outputId": "29cbb164-bf52-4781-dfea-b65810c02263"
      },
      "source": [
        "# observe distribution before filling na\n",
        "plt.scatter(df_cleaning.sqft_merged,df_cleaning.total_rooms)\n",
        "plt.title('Before')\n",
        "plt.show()"
      ],
      "execution_count": null,
      "outputs": [
        {
          "output_type": "display_data",
          "data": {
            "image/png": "[encoded data removed]",
            "text/plain": [
              "<Figure size 432x288 with 1 Axes>"
            ]
          },
          "metadata": {
            "tags": [],
            "needs_background": "light"
          }
        }
      ]
    },
    {
      "cell_type": "code",
      "metadata": {
        "id": "8C1czLej0-J2"
      },
      "source": [
        "# Turn 0 total rooms to nan\n",
        "df_cleaning.loc[df_cleaning.total_rooms==0.0,'total_rooms'] = np.nan\n",
        "\n",
        "# replace missing total rooms by backfilling with the number of rooms in listings that are most similar in terms of sqft, bedrooms, baths\n",
        "df_cleaning.total_rooms = df_cleaning.sort_values(['sqft_merged','bedrooms_merged','total_baths'])['total_rooms'].fillna(method='bfill')"
      ],
      "execution_count": null,
      "outputs": []
    },
    {
      "cell_type": "code",
      "metadata": {
        "id": "0n_DQQUh11S4",
        "colab": {
          "base_uri": "https://localhost:8080/",
          "height": 281
        },
        "outputId": "d9399a69-ed74-4de5-bf1e-95302a770bc3"
      },
      "source": [
        "# observe distribution after filling na\n",
        "plt.scatter(df_cleaning.sqft_merged,df_cleaning.total_rooms)\n",
        "plt.title('After')\n",
        "plt.show()"
      ],
      "execution_count": null,
      "outputs": [
        {
          "output_type": "display_data",
          "data": {
            "image/png": "[encoded data removed]",
            "text/plain": [
              "<Figure size 432x288 with 1 Axes>"
            ]
          },
          "metadata": {
            "tags": [],
            "needs_background": "light"
          }
        }
      ]
    },
    {
      "cell_type": "markdown",
      "metadata": {
        "id": "n8wU4CH3149G"
      },
      "source": [
        "## Stories"
      ]
    },
    {
      "cell_type": "code",
      "metadata": {
        "id": "hRkDxzzM15qR"
      },
      "source": [
        "# Replace listings with 0 stories with 1\n",
        "df_cleaning.loc[df_cleaning.stories==0.0,'stories'] = 1"
      ],
      "execution_count": null,
      "outputs": []
    },
    {
      "cell_type": "code",
      "metadata": {
        "id": "qgmETIlx180b",
        "colab": {
          "base_uri": "https://localhost:8080/",
          "height": 295
        },
        "outputId": "45768ddd-9b44-40d2-c1c9-63e0fb432a17"
      },
      "source": [
        "# observe distribution before filling na\n",
        "import seaborn as sns\n",
        "sns.boxplot(x=\"stories\", y=\"bedrooms_merged\", data=df_cleaning)"
      ],
      "execution_count": null,
      "outputs": [
        {
          "output_type": "execute_result",
          "data": {
            "text/plain": [
              "<matplotlib.axes._subplots.AxesSubplot at 0x7ffb96600198>"
            ]
          },
          "metadata": {
            "tags": []
          },
          "execution_count": 480
        },
        {
          "output_type": "display_data",
          "data": {
            "image/png": "[encoded data removed]",
            "text/plain": [
              "<Figure size 432x288 with 1 Axes>"
            ]
          },
          "metadata": {
            "tags": [],
            "needs_background": "light"
          }
        }
      ]
    },
    {
      "cell_type": "code",
      "metadata": {
        "id": "Pi9GhXvw183l"
      },
      "source": [
        "# replace missing stories by backfilling with the number of rooms in listings that are most similar in terms of sqft, bedrooms, baths\n",
        "df_cleaning.stories = df_cleaning.sort_values(['sqft_merged','bedrooms_merged','total_baths'])['stories'].fillna(method='bfill')\n",
        "df_cleaning.stories = df_cleaning.stories.astype(int)"
      ],
      "execution_count": null,
      "outputs": []
    },
    {
      "cell_type": "code",
      "metadata": {
        "id": "vawqMnPX186o",
        "colab": {
          "base_uri": "https://localhost:8080/",
          "height": 295
        },
        "outputId": "19dc15c2-c93a-49d9-fc54-8f626124da5a"
      },
      "source": [
        "# observe distribution after filling na\n",
        "sns.boxplot(x=\"stories\", y=\"bedrooms_merged\", data=df_cleaning)"
      ],
      "execution_count": null,
      "outputs": [
        {
          "output_type": "execute_result",
          "data": {
            "text/plain": [
              "<matplotlib.axes._subplots.AxesSubplot at 0x7ffb8d1085c0>"
            ]
          },
          "metadata": {
            "tags": []
          },
          "execution_count": 482
        },
        {
          "output_type": "display_data",
          "data": {
            "image/png": "[encoded data removed]",
            "text/plain": [
              "<Figure size 432x288 with 1 Axes>"
            ]
          },
          "metadata": {
            "tags": [],
            "needs_background": "light"
          }
        }
      ]
    },
    {
      "cell_type": "markdown",
      "metadata": {
        "id": "hi0wQByn2FU1"
      },
      "source": [
        "## \"Has\" Columns"
      ]
    },
    {
      "cell_type": "code",
      "metadata": {
        "id": "CO2xPbql19Ax"
      },
      "source": [
        "# for \"has\" columns, replace missingness with 'False', and binarize the feature\n",
        "# assume that they do not have the feature if its missing \n",
        "\n",
        "df_cleaning.has_jacuzzi.fillna(value='False', inplace=True)\n",
        "df_cleaning.has_jacuzzi.replace({'True':1,'False':0},inplace=True)\n",
        "df_cleaning.has_jacuzzi = df_cleaning.has_jacuzzi.astype(int)\n",
        "\n",
        "df_cleaning.has_central_air.fillna(value='False', inplace=True)\n",
        "df_cleaning.has_central_air.replace({'True':1,'False':0},inplace=True)\n",
        "df_cleaning.has_central_air = df_cleaning.has_central_air.astype(int)\n",
        "\n",
        "df_cleaning.has_pool.fillna(value='False', inplace=True)\n",
        "df_cleaning.has_pool.replace({'True':1,'False':0},inplace=True)\n",
        "df_cleaning.has_pool = df_cleaning.has_pool.astype(int)\n",
        "\n",
        "df_cleaning.has_solar.fillna(value='False', inplace=True)\n",
        "df_cleaning.has_solar.replace({'True':1,'False':0},inplace=True)\n",
        "df_cleaning.has_solar = df_cleaning.has_solar.astype(int)\n",
        "\n",
        "df_cleaning.has_garage.fillna(value='False', inplace=True)\n",
        "df_cleaning.has_garage.replace({'True':1,'False':0},inplace=True)\n",
        "df_cleaning.has_garage = df_cleaning.has_garage.astype(int)"
      ],
      "execution_count": null,
      "outputs": []
    },
    {
      "cell_type": "markdown",
      "metadata": {
        "id": "BdbS7EFm2Kbc"
      },
      "source": [
        "### Investigate \"unfixable\" columns that have a lot of missingness, and drop them"
      ]
    },
    {
      "cell_type": "code",
      "metadata": {
        "id": "1iUmzhUG3ffU",
        "colab": {
          "base_uri": "https://localhost:8080/"
        },
        "outputId": "481bf02f-052a-4259-cc85-54e57a027c5f"
      },
      "source": [
        "cant_fix_cols = ['neighborhood', 'porch_or_patio','number_of_units', 'heating','property_quality','parking_features','water_source', 'garage_type',\n",
        "                           'zoning_description', 'tax_amount', 'senior_community_indicator', 'laundry_features', 'cooling','cooling_enum', 'garage_spaces','garage_type_enum',\n",
        "                           'hoa_fee_merged', 'zoning_code', 'school_district_name','school_district_id']\n",
        "print(len(cant_fix_cols))"
      ],
      "execution_count": null,
      "outputs": [
        {
          "output_type": "stream",
          "text": [
            "20\n"
          ],
          "name": "stdout"
        }
      ]
    },
    {
      "cell_type": "code",
      "metadata": {
        "id": "g7CENel09RJM",
        "colab": {
          "base_uri": "https://localhost:8080/"
        },
        "outputId": "f7639f5b-0fb7-411d-f521-5d4eeb6a6bc5"
      },
      "source": [
        "(df_cleaning[cant_fix_cols].isna().sum()/df_cleaning.shape[0]).sort_values(ascending=False)"
      ],
      "execution_count": null,
      "outputs": [
        {
          "output_type": "execute_result",
          "data": {
            "text/plain": [
              "neighborhood                  0.975165\n",
              "porch_or_patio                0.958013\n",
              "number_of_units               0.942112\n",
              "heating                       0.939789\n",
              "property_quality              0.927997\n",
              "parking_features              0.925317\n",
              "water_source                  0.916384\n",
              "garage_type_enum              0.905128\n",
              "garage_type                   0.901554\n",
              "tax_amount                    0.898696\n",
              "zoning_description            0.897624\n",
              "senior_community_indicator    0.852242\n",
              "laundry_features              0.852064\n",
              "cooling_enum                  0.850456\n",
              "cooling                       0.835626\n",
              "garage_spaces                 0.822226\n",
              "hoa_fee_merged                0.736466\n",
              "zoning_code                   0.657495\n",
              "school_district_name          0.338753\n",
              "school_district_id            0.329105\n",
              "dtype: float64"
            ]
          },
          "metadata": {
            "tags": []
          },
          "execution_count": 485
        }
      ]
    },
    {
      "cell_type": "code",
      "metadata": {
        "id": "s3cdbgFN18-p"
      },
      "source": [
        "df_cleaning.drop('neighborhood',axis=1,inplace=True) # drop neighborhood bc too many missing, cant be filled\n",
        "df_cleaning.drop('porch_or_patio',axis=1,inplace=True) # drop porch_or_patio bc too many missing, cant be filled\n",
        "df_cleaning.drop('number_of_units',axis=1,inplace=True) # drop bc not relevant\n",
        "df_cleaning.drop('heating',axis=1,inplace=True) # cant infer, too many missing\n",
        "df_cleaning.drop('property_quality',axis=1,inplace=True) # cant infer (brick, stucco, concrete etc).\n",
        "df_cleaning.drop('parking_features',axis=1,inplace=True) # too many different options, cant infer\n",
        "df_cleaning.drop('water_source',axis=1,inplace=True) # cant infer\n",
        "df_cleaning.drop('garage_type',axis=1,inplace=True) # cant infer\n",
        "df_cleaning.drop('zoning_description',axis=1,inplace=True) # too sparse\n",
        "df_cleaning.drop('tax_amount',axis=1,inplace=True) # cant infer\n",
        "df_cleaning.drop('senior_community_indicator',axis=1,inplace=True) # true is too sparse\n",
        "df_cleaning.drop('laundry_features',axis=1,inplace=True) # cant infer\n",
        "df_cleaning.drop(['cooling','cooling_enum'],axis=1,inplace=True) # cant infer\n",
        "df_cleaning.drop(['garage_spaces','garage_type_enum'],axis=1,inplace=True) # cant infer\n",
        "df_cleaning.drop('hoa_fee_merged',axis=1,inplace=True) # cant infer\n",
        "df_cleaning.drop('zoning_code',axis=1,inplace=True) # cant infer\n",
        "df_cleaning.drop(['school_district_name','school_district_id'],axis=1,inplace=True) # cant infer"
      ],
      "execution_count": null,
      "outputs": []
    },
    {
      "cell_type": "markdown",
      "metadata": {
        "id": "Ly7UT6Wt2STe"
      },
      "source": [
        "### View Updated Missingness"
      ]
    },
    {
      "cell_type": "code",
      "metadata": {
        "id": "vCOfv0rs5Kyr",
        "colab": {
          "base_uri": "https://localhost:8080/"
        },
        "outputId": "52726b8b-40d3-419a-83ef-fb76c893b7fe"
      },
      "source": [
        "df_cleaning.shape"
      ],
      "execution_count": null,
      "outputs": [
        {
          "output_type": "execute_result",
          "data": {
            "text/plain": [
              "(5597, 37)"
            ]
          },
          "metadata": {
            "tags": []
          },
          "execution_count": 487
        }
      ]
    },
    {
      "cell_type": "code",
      "metadata": {
        "id": "4rxFN1Db4WZI",
        "colab": {
          "base_uri": "https://localhost:8080/",
          "height": 297
        },
        "outputId": "a0adeb44-5275-4087-cf32-517e107935ba"
      },
      "source": [
        "df_cleaning.describe()"
      ],
      "execution_count": null,
      "outputs": [
        {
          "output_type": "execute_result",
          "data": {
            "text/html": [
              "<div>\n",
              "<style scoped>\n",
              "    .dataframe tbody tr th:only-of-type {\n",
              "        vertical-align: middle;\n",
              "    }\n",
              "\n",
              "    .dataframe tbody tr th {\n",
              "        vertical-align: top;\n",
              "    }\n",
              "\n",
              "    .dataframe thead th {\n",
              "        text-align: right;\n",
              "    }\n",
              "</style>\n",
              "<table border=\"1\" class=\"dataframe\">\n",
              "  <thead>\n",
              "    <tr style=\"text-align: right;\">\n",
              "      <th></th>\n",
              "      <th>total_baths</th>\n",
              "      <th>total_rooms</th>\n",
              "      <th>stories</th>\n",
              "      <th>zipcode</th>\n",
              "      <th>has_central_air</th>\n",
              "      <th>has_jacuzzi</th>\n",
              "      <th>has_pool</th>\n",
              "      <th>has_solar</th>\n",
              "      <th>has_garage</th>\n",
              "      <th>price_merged</th>\n",
              "      <th>bedrooms_merged</th>\n",
              "      <th>full_baths_merged</th>\n",
              "      <th>half_baths_merged</th>\n",
              "      <th>year_built_merged</th>\n",
              "      <th>sqft_merged</th>\n",
              "      <th>land_sqft_merged</th>\n",
              "      <th>latitude_merged</th>\n",
              "      <th>longitude_merged</th>\n",
              "      <th>is_apt</th>\n",
              "    </tr>\n",
              "  </thead>\n",
              "  <tbody>\n",
              "    <tr>\n",
              "      <th>count</th>\n",
              "      <td>5597.000000</td>\n",
              "      <td>5597.000000</td>\n",
              "      <td>5597.000000</td>\n",
              "      <td>5597.000000</td>\n",
              "      <td>5597.000000</td>\n",
              "      <td>5597.000000</td>\n",
              "      <td>5597.000000</td>\n",
              "      <td>5597.000000</td>\n",
              "      <td>5597.000000</td>\n",
              "      <td>5.597000e+03</td>\n",
              "      <td>5597.000000</td>\n",
              "      <td>5597.000000</td>\n",
              "      <td>5597.000000</td>\n",
              "      <td>5597.000000</td>\n",
              "      <td>5597.000000</td>\n",
              "      <td>5.597000e+03</td>\n",
              "      <td>5597.000000</td>\n",
              "      <td>5597.000000</td>\n",
              "      <td>5597.000000</td>\n",
              "    </tr>\n",
              "    <tr>\n",
              "      <th>mean</th>\n",
              "      <td>2.420186</td>\n",
              "      <td>6.083438</td>\n",
              "      <td>1.182955</td>\n",
              "      <td>91108.656602</td>\n",
              "      <td>0.104342</td>\n",
              "      <td>0.011792</td>\n",
              "      <td>0.046275</td>\n",
              "      <td>0.000179</td>\n",
              "      <td>0.082902</td>\n",
              "      <td>9.233252e+05</td>\n",
              "      <td>3.225299</td>\n",
              "      <td>2.393341</td>\n",
              "      <td>0.029257</td>\n",
              "      <td>1964.819546</td>\n",
              "      <td>1921.950688</td>\n",
              "      <td>2.801782e+04</td>\n",
              "      <td>34.128073</td>\n",
              "      <td>-118.289708</td>\n",
              "      <td>0.140075</td>\n",
              "    </tr>\n",
              "    <tr>\n",
              "      <th>std</th>\n",
              "      <td>1.144845</td>\n",
              "      <td>1.649292</td>\n",
              "      <td>0.431235</td>\n",
              "      <td>903.891335</td>\n",
              "      <td>0.305731</td>\n",
              "      <td>0.107959</td>\n",
              "      <td>0.210098</td>\n",
              "      <td>0.013367</td>\n",
              "      <td>0.275758</td>\n",
              "      <td>2.119728e+06</td>\n",
              "      <td>1.176134</td>\n",
              "      <td>1.119007</td>\n",
              "      <td>0.193035</td>\n",
              "      <td>25.668161</td>\n",
              "      <td>1208.738842</td>\n",
              "      <td>1.490040e+05</td>\n",
              "      <td>0.219200</td>\n",
              "      <td>0.223265</td>\n",
              "      <td>0.347096</td>\n",
              "    </tr>\n",
              "    <tr>\n",
              "      <th>min</th>\n",
              "      <td>0.030000</td>\n",
              "      <td>1.000000</td>\n",
              "      <td>1.000000</td>\n",
              "      <td>90001.000000</td>\n",
              "      <td>0.000000</td>\n",
              "      <td>0.000000</td>\n",
              "      <td>0.000000</td>\n",
              "      <td>0.000000</td>\n",
              "      <td>0.000000</td>\n",
              "      <td>2.950000e+03</td>\n",
              "      <td>0.000000</td>\n",
              "      <td>0.000000</td>\n",
              "      <td>0.000000</td>\n",
              "      <td>1890.000000</td>\n",
              "      <td>1.000000</td>\n",
              "      <td>6.000000e+00</td>\n",
              "      <td>33.707248</td>\n",
              "      <td>-118.864849</td>\n",
              "      <td>0.000000</td>\n",
              "    </tr>\n",
              "    <tr>\n",
              "      <th>25%</th>\n",
              "      <td>2.000000</td>\n",
              "      <td>5.000000</td>\n",
              "      <td>1.000000</td>\n",
              "      <td>90278.000000</td>\n",
              "      <td>0.000000</td>\n",
              "      <td>0.000000</td>\n",
              "      <td>0.000000</td>\n",
              "      <td>0.000000</td>\n",
              "      <td>0.000000</td>\n",
              "      <td>4.750000e+05</td>\n",
              "      <td>3.000000</td>\n",
              "      <td>2.000000</td>\n",
              "      <td>0.000000</td>\n",
              "      <td>1949.000000</td>\n",
              "      <td>1245.000000</td>\n",
              "      <td>3.056000e+03</td>\n",
              "      <td>33.977955</td>\n",
              "      <td>-118.459781</td>\n",
              "      <td>0.000000</td>\n",
              "    </tr>\n",
              "    <tr>\n",
              "      <th>50%</th>\n",
              "      <td>2.000000</td>\n",
              "      <td>6.000000</td>\n",
              "      <td>1.000000</td>\n",
              "      <td>91208.000000</td>\n",
              "      <td>0.000000</td>\n",
              "      <td>0.000000</td>\n",
              "      <td>0.000000</td>\n",
              "      <td>0.000000</td>\n",
              "      <td>0.000000</td>\n",
              "      <td>6.298000e+05</td>\n",
              "      <td>3.000000</td>\n",
              "      <td>2.000000</td>\n",
              "      <td>0.000000</td>\n",
              "      <td>1961.000000</td>\n",
              "      <td>1623.000000</td>\n",
              "      <td>6.500000e+03</td>\n",
              "      <td>34.111141</td>\n",
              "      <td>-118.308042</td>\n",
              "      <td>0.000000</td>\n",
              "    </tr>\n",
              "    <tr>\n",
              "      <th>75%</th>\n",
              "      <td>3.000000</td>\n",
              "      <td>7.000000</td>\n",
              "      <td>1.000000</td>\n",
              "      <td>91401.000000</td>\n",
              "      <td>0.000000</td>\n",
              "      <td>0.000000</td>\n",
              "      <td>0.000000</td>\n",
              "      <td>0.000000</td>\n",
              "      <td>0.000000</td>\n",
              "      <td>8.888880e+05</td>\n",
              "      <td>4.000000</td>\n",
              "      <td>3.000000</td>\n",
              "      <td>0.000000</td>\n",
              "      <td>1985.000000</td>\n",
              "      <td>2264.000000</td>\n",
              "      <td>1.081500e+04</td>\n",
              "      <td>34.223653</td>\n",
              "      <td>-118.140103</td>\n",
              "      <td>0.000000</td>\n",
              "    </tr>\n",
              "    <tr>\n",
              "      <th>max</th>\n",
              "      <td>20.000000</td>\n",
              "      <td>33.000000</td>\n",
              "      <td>6.000000</td>\n",
              "      <td>93591.000000</td>\n",
              "      <td>1.000000</td>\n",
              "      <td>1.000000</td>\n",
              "      <td>1.000000</td>\n",
              "      <td>1.000000</td>\n",
              "      <td>1.000000</td>\n",
              "      <td>8.800000e+07</td>\n",
              "      <td>13.000000</td>\n",
              "      <td>20.000000</td>\n",
              "      <td>5.000000</td>\n",
              "      <td>2018.000000</td>\n",
              "      <td>30000.000000</td>\n",
              "      <td>6.946980e+06</td>\n",
              "      <td>34.786902</td>\n",
              "      <td>-117.653655</td>\n",
              "      <td>1.000000</td>\n",
              "    </tr>\n",
              "  </tbody>\n",
              "</table>\n",
              "</div>"
            ],
            "text/plain": [
              "       total_baths  total_rooms  ...  longitude_merged       is_apt\n",
              "count  5597.000000  5597.000000  ...       5597.000000  5597.000000\n",
              "mean      2.420186     6.083438  ...       -118.289708     0.140075\n",
              "std       1.144845     1.649292  ...          0.223265     0.347096\n",
              "min       0.030000     1.000000  ...       -118.864849     0.000000\n",
              "25%       2.000000     5.000000  ...       -118.459781     0.000000\n",
              "50%       2.000000     6.000000  ...       -118.308042     0.000000\n",
              "75%       3.000000     7.000000  ...       -118.140103     0.000000\n",
              "max      20.000000    33.000000  ...       -117.653655     1.000000\n",
              "\n",
              "[8 rows x 19 columns]"
            ]
          },
          "metadata": {
            "tags": []
          },
          "execution_count": 488
        }
      ]
    },
    {
      "cell_type": "code",
      "metadata": {
        "id": "3kp0JH-q18zZ",
        "colab": {
          "base_uri": "https://localhost:8080/"
        },
        "outputId": "b24e0841-27db-461e-9b80-3f4fe24d48ac"
      },
      "source": [
        "(df_cleaning.isna().sum()/df_cleaning.shape[0]).sort_values(ascending=False)"
      ],
      "execution_count": null,
      "outputs": [
        {
          "output_type": "execute_result",
          "data": {
            "text/plain": [
              "apt_num                  0.859925\n",
              "free_texts_adjectives    0.761658\n",
              "free_texts_nouns         0.761658\n",
              "image_urls               0.216009\n",
              "marketing_budget         0.000000\n",
              "zipcode                  0.000000\n",
              "address                  0.000000\n",
              "match_street_address     0.000000\n",
              "street_address           0.000000\n",
              "property_type_x          0.000000\n",
              "is_apt                   0.000000\n",
              "pool_spa_types           0.000000\n",
              "state_x                  0.000000\n",
              "city_x                   0.000000\n",
              "address_line             0.000000\n",
              "county                   0.000000\n",
              "total_rooms              0.000000\n",
              "total_baths              0.000000\n",
              "stories                  0.000000\n",
              "has_central_air          0.000000\n",
              "home_style               0.000000\n",
              "full_baths_merged        0.000000\n",
              "longitude_merged         0.000000\n",
              "latitude_merged          0.000000\n",
              "land_sqft_merged         0.000000\n",
              "sqft_merged              0.000000\n",
              "year_built_merged        0.000000\n",
              "half_baths_merged        0.000000\n",
              "bedrooms_merged          0.000000\n",
              "has_jacuzzi              0.000000\n",
              "price_merged             0.000000\n",
              "property_condition       0.000000\n",
              "fencing_description      0.000000\n",
              "has_garage               0.000000\n",
              "has_solar                0.000000\n",
              "has_pool                 0.000000\n",
              "rex_url                  0.000000\n",
              "dtype: float64"
            ]
          },
          "metadata": {
            "tags": []
          },
          "execution_count": 489
        }
      ]
    },
    {
      "cell_type": "code",
      "metadata": {
        "id": "te0c1QJR6RKA",
        "colab": {
          "base_uri": "https://localhost:8080/"
        },
        "outputId": "58a734df-b761-4816-f055-8c52df9ecd0c"
      },
      "source": [
        "df_cleaning.columns"
      ],
      "execution_count": null,
      "outputs": [
        {
          "output_type": "execute_result",
          "data": {
            "text/plain": [
              "Index(['rex_url', 'total_baths', 'total_rooms', 'county', 'address_line',\n",
              "       'city_x', 'state_x', 'stories', 'marketing_budget', 'property_type_x',\n",
              "       'street_address', 'apt_num', 'match_street_address', 'address',\n",
              "       'zipcode', 'image_urls', 'pool_spa_types', 'home_style',\n",
              "       'has_central_air', 'has_jacuzzi', 'has_pool', 'has_solar', 'has_garage',\n",
              "       'fencing_description', 'property_condition', 'price_merged',\n",
              "       'bedrooms_merged', 'full_baths_merged', 'half_baths_merged',\n",
              "       'year_built_merged', 'sqft_merged', 'land_sqft_merged',\n",
              "       'latitude_merged', 'longitude_merged', 'free_texts_nouns',\n",
              "       'free_texts_adjectives', 'is_apt'],\n",
              "      dtype='object')"
            ]
          },
          "metadata": {
            "tags": []
          },
          "execution_count": 490
        }
      ]
    },
    {
      "cell_type": "markdown",
      "metadata": {
        "id": "NIj3RDss6vfl"
      },
      "source": [
        "##Drop cols that wont work in siamese neural network"
      ]
    },
    {
      "cell_type": "code",
      "metadata": {
        "id": "x_2uChZj6RQA"
      },
      "source": [
        "ignore_for_siamese = ['image_urls', 'free_texts_nouns', 'free_texts_adjectives','address_line','street_address','match_street_address','address','apt_num','county','state_x']\n",
        "df_siamese = df_cleaning.drop(ignore_for_siamese,axis=1).copy()"
      ],
      "execution_count": null,
      "outputs": []
    },
    {
      "cell_type": "code",
      "metadata": {
        "id": "GJkc9vT96RMw"
      },
      "source": [
        "df_siamese.columns = df_siamese.columns.str.replace('_x', '')\n",
        "df_siamese.columns = df_siamese.columns.str.replace('_merged', '')"
      ],
      "execution_count": null,
      "outputs": []
    },
    {
      "cell_type": "code",
      "metadata": {
        "id": "nlU_V7oI8C6c",
        "colab": {
          "base_uri": "https://localhost:8080/"
        },
        "outputId": "f70d6db3-4a54-40e8-d052-aa1ff7a70a38"
      },
      "source": [
        "print(len(df_siamese.columns))\n",
        "df_siamese.columns"
      ],
      "execution_count": null,
      "outputs": [
        {
          "output_type": "stream",
          "text": [
            "27\n"
          ],
          "name": "stdout"
        },
        {
          "output_type": "execute_result",
          "data": {
            "text/plain": [
              "Index(['rex_url', 'total_baths', 'total_rooms', 'city', 'stories',\n",
              "       'marketing_budget', 'property_type', 'zipcode', 'pool_spa_types',\n",
              "       'home_style', 'has_central_air', 'has_jacuzzi', 'has_pool', 'has_solar',\n",
              "       'has_garage', 'fencing_description', 'property_condition', 'price',\n",
              "       'bedrooms', 'full_baths', 'half_baths', 'year_built', 'sqft',\n",
              "       'land_sqft', 'latitude', 'longitude', 'is_apt'],\n",
              "      dtype='object')"
            ]
          },
          "metadata": {
            "tags": []
          },
          "execution_count": 493
        }
      ]
    },
    {
      "cell_type": "markdown",
      "metadata": {
        "id": "OtKc2vmA89iV"
      },
      "source": [
        "Started out with 56 Features\n",
        "* Siamese won't use 10\n",
        "* 20 were not salvageable "
      ]
    },
    {
      "cell_type": "markdown",
      "metadata": {
        "id": "O8pDDWoPdIvR"
      },
      "source": [
        "### Use Realtor Metrics to encode further information about listings location (zipcode) \n",
        "\n",
        "Data Sources:\n",
        "* https://www.realtor.com/research/data/"
      ]
    },
    {
      "cell_type": "code",
      "metadata": {
        "id": "mPykO-0OdH-z",
        "colab": {
          "base_uri": "https://localhost:8080/",
          "height": 157
        },
        "outputId": "e1ad2b7f-b7f1-4b97-90c9-cbb39b18d251"
      },
      "source": [
        "# load in realtor data\n",
        "realtor = pd.read_csv(f\"./{FOLDER}/RDC_Inventory_Hotness_Metrics_Zip_History.csv\")\n",
        "realtor.head(2)"
      ],
      "execution_count": null,
      "outputs": [
        {
          "output_type": "stream",
          "text": [
            "/usr/local/lib/python3.6/dist-packages/IPython/core/interactiveshell.py:2718: DtypeWarning: Columns (0,1) have mixed types.Specify dtype option on import or set low_memory=False.\n",
            "  interactivity=interactivity, compiler=compiler, result=result)\n"
          ],
          "name": "stderr"
        },
        {
          "output_type": "execute_result",
          "data": {
            "text/html": [
              "<div>\n",
              "<style scoped>\n",
              "    .dataframe tbody tr th:only-of-type {\n",
              "        vertical-align: middle;\n",
              "    }\n",
              "\n",
              "    .dataframe tbody tr th {\n",
              "        vertical-align: top;\n",
              "    }\n",
              "\n",
              "    .dataframe thead th {\n",
              "        text-align: right;\n",
              "    }\n",
              "</style>\n",
              "<table border=\"1\" class=\"dataframe\">\n",
              "  <thead>\n",
              "    <tr style=\"text-align: right;\">\n",
              "      <th></th>\n",
              "      <th>month_date_yyyymm</th>\n",
              "      <th>postal_code</th>\n",
              "      <th>zip_name</th>\n",
              "      <th>nielsen_hh_rank</th>\n",
              "      <th>hotness_rank</th>\n",
              "      <th>hotness_rank_mm</th>\n",
              "      <th>hotness_rank_yy</th>\n",
              "      <th>hotness_score</th>\n",
              "      <th>supply_score</th>\n",
              "      <th>demand_score</th>\n",
              "      <th>median_days_on_market</th>\n",
              "      <th>median_days_on_market_mm</th>\n",
              "      <th>median_dom_mm_day</th>\n",
              "      <th>median_days_on_market_yy</th>\n",
              "      <th>median_dom_yy_day</th>\n",
              "      <th>median_dom_vs_us</th>\n",
              "      <th>ldpviews_per_property_mm</th>\n",
              "      <th>ldpviews_per_property_yy</th>\n",
              "      <th>ldpviews_per_property_vs_us</th>\n",
              "      <th>median_listing_price</th>\n",
              "      <th>median_listing_price_mm</th>\n",
              "      <th>median_listing_price_yy</th>\n",
              "      <th>median_listing_price_vs_us</th>\n",
              "    </tr>\n",
              "  </thead>\n",
              "  <tbody>\n",
              "    <tr>\n",
              "      <th>0</th>\n",
              "      <td>202010</td>\n",
              "      <td>45805</td>\n",
              "      <td>lima, oh</td>\n",
              "      <td>4919.0</td>\n",
              "      <td>5244.0</td>\n",
              "      <td>410.0</td>\n",
              "      <td>-3609.0</td>\n",
              "      <td>56.643658</td>\n",
              "      <td>29.845478</td>\n",
              "      <td>83.441839</td>\n",
              "      <td>65.0</td>\n",
              "      <td>0.0236</td>\n",
              "      <td>1.5</td>\n",
              "      <td>0.3265</td>\n",
              "      <td>16.0</td>\n",
              "      <td>12.0</td>\n",
              "      <td>0.093</td>\n",
              "      <td>0.8077</td>\n",
              "      <td>1.7279</td>\n",
              "      <td>179950.0</td>\n",
              "      <td>0.0432</td>\n",
              "      <td>0.2993</td>\n",
              "      <td>0.5141</td>\n",
              "    </tr>\n",
              "    <tr>\n",
              "      <th>1</th>\n",
              "      <td>202010</td>\n",
              "      <td>95632</td>\n",
              "      <td>galt, ca</td>\n",
              "      <td>4602.0</td>\n",
              "      <td>1617.0</td>\n",
              "      <td>-1439.0</td>\n",
              "      <td>-1310.0</td>\n",
              "      <td>80.374931</td>\n",
              "      <td>71.252647</td>\n",
              "      <td>89.497215</td>\n",
              "      <td>39.0</td>\n",
              "      <td>1.1667</td>\n",
              "      <td>21.0</td>\n",
              "      <td>0.1642</td>\n",
              "      <td>5.5</td>\n",
              "      <td>-14.0</td>\n",
              "      <td>-0.229</td>\n",
              "      <td>0.8625</td>\n",
              "      <td>1.9926</td>\n",
              "      <td>550050.0</td>\n",
              "      <td>-0.0141</td>\n",
              "      <td>0.2076</td>\n",
              "      <td>1.5717</td>\n",
              "    </tr>\n",
              "  </tbody>\n",
              "</table>\n",
              "</div>"
            ],
            "text/plain": [
              "  month_date_yyyymm  ... median_listing_price_vs_us\n",
              "0            202010  ...                     0.5141\n",
              "1            202010  ...                     1.5717\n",
              "\n",
              "[2 rows x 23 columns]"
            ]
          },
          "metadata": {
            "tags": []
          },
          "execution_count": 494
        }
      ]
    },
    {
      "cell_type": "code",
      "metadata": {
        "id": "VNHQDMRmdZ1B"
      },
      "source": [
        "# identify useful columns from realtor dataset\n",
        "good_cols = ['month_date_yyyymm','postal_code','nielsen_hh_rank', 'hotness_score', 'demand_score', 'supply_score', 'median_days_on_market', 'median_listing_price',\n",
        "             'ldpviews_per_property_vs_us']\n",
        "\n",
        "realtor_filtered = realtor[realtor['postal_code'].isin(df_siamese.zipcode.unique())][good_cols].copy()\n",
        "realtor_filtered.sort_values('month_date_yyyymm',ascending=False,inplace=True)\n",
        "realtor_filtered.drop_duplicates('postal_code',keep='first',inplace=True)\n",
        "\n",
        "realtor_filtered.drop('month_date_yyyymm',axis=1,inplace=True)"
      ],
      "execution_count": null,
      "outputs": []
    },
    {
      "cell_type": "code",
      "metadata": {
        "id": "9Kt1a-BLdp8X"
      },
      "source": [
        "# merge in location features from realtor\n",
        "df_siamese_realtor = df_siamese.merge(realtor_filtered,left_on='zipcode',right_on='postal_code',how='left')\n",
        "df_siamese_realtor.dropna(subset=['ldpviews_per_property_vs_us', 'median_days_on_market','supply_score','demand_score','hotness_score','nielsen_hh_rank','postal_code','median_listing_price'],inplace=True)\n",
        "df_siamese_realtor.drop('postal_code',axis=1,inplace=True)"
      ],
      "execution_count": null,
      "outputs": []
    },
    {
      "cell_type": "code",
      "metadata": {
        "id": "zbL06auCd8iq",
        "colab": {
          "base_uri": "https://localhost:8080/"
        },
        "outputId": "026b07ff-cef4-41c7-c8f7-8b342d016835"
      },
      "source": [
        "(df_siamese_realtor.isna().sum()/df_siamese_realtor.shape[0]).sort_values(ascending=False)"
      ],
      "execution_count": null,
      "outputs": [
        {
          "output_type": "execute_result",
          "data": {
            "text/plain": [
              "ldpviews_per_property_vs_us    0.0\n",
              "pool_spa_types                 0.0\n",
              "has_garage                     0.0\n",
              "has_solar                      0.0\n",
              "has_pool                       0.0\n",
              "has_jacuzzi                    0.0\n",
              "has_central_air                0.0\n",
              "home_style                     0.0\n",
              "zipcode                        0.0\n",
              "median_listing_price           0.0\n",
              "property_type                  0.0\n",
              "marketing_budget               0.0\n",
              "stories                        0.0\n",
              "city                           0.0\n",
              "total_rooms                    0.0\n",
              "total_baths                    0.0\n",
              "fencing_description            0.0\n",
              "property_condition             0.0\n",
              "price                          0.0\n",
              "bedrooms                       0.0\n",
              "full_baths                     0.0\n",
              "half_baths                     0.0\n",
              "year_built                     0.0\n",
              "sqft                           0.0\n",
              "land_sqft                      0.0\n",
              "latitude                       0.0\n",
              "longitude                      0.0\n",
              "is_apt                         0.0\n",
              "nielsen_hh_rank                0.0\n",
              "hotness_score                  0.0\n",
              "demand_score                   0.0\n",
              "supply_score                   0.0\n",
              "median_days_on_market          0.0\n",
              "rex_url                        0.0\n",
              "dtype: float64"
            ]
          },
          "metadata": {
            "tags": []
          },
          "execution_count": 497
        }
      ]
    },
    {
      "cell_type": "code",
      "metadata": {
        "id": "RlzclJYueeVL",
        "colab": {
          "base_uri": "https://localhost:8080/"
        },
        "outputId": "69e2eb56-1af0-4a19-b6f9-323cf0251fcd"
      },
      "source": [
        "df_siamese_realtor.shape"
      ],
      "execution_count": null,
      "outputs": [
        {
          "output_type": "execute_result",
          "data": {
            "text/plain": [
              "(5575, 34)"
            ]
          },
          "metadata": {
            "tags": []
          },
          "execution_count": 498
        }
      ]
    },
    {
      "cell_type": "markdown",
      "metadata": {
        "id": "zROccfrBfCIZ"
      },
      "source": [
        "## Investigate datatypes and categorical/embedding"
      ]
    },
    {
      "cell_type": "code",
      "metadata": {
        "id": "Fs8D5Btl92PX",
        "colab": {
          "base_uri": "https://localhost:8080/"
        },
        "outputId": "bf82ecee-8136-485b-eff3-710bf6125cf0"
      },
      "source": [
        "df_siamese_realtor.dtypes.sort_values()"
      ],
      "execution_count": null,
      "outputs": [
        {
          "output_type": "execute_result",
          "data": {
            "text/plain": [
              "has_pool                         int64\n",
              "stories                          int64\n",
              "has_central_air                  int64\n",
              "has_jacuzzi                      int64\n",
              "has_garage                       int64\n",
              "has_solar                        int64\n",
              "sqft                           float64\n",
              "year_built                     float64\n",
              "half_baths                     float64\n",
              "full_baths                     float64\n",
              "bedrooms                       float64\n",
              "price                          float64\n",
              "median_listing_price           float64\n",
              "longitude                      float64\n",
              "ldpviews_per_property_vs_us    float64\n",
              "is_apt                         float64\n",
              "nielsen_hh_rank                float64\n",
              "hotness_score                  float64\n",
              "demand_score                   float64\n",
              "supply_score                   float64\n",
              "median_days_on_market          float64\n",
              "total_rooms                    float64\n",
              "total_baths                    float64\n",
              "land_sqft                      float64\n",
              "latitude                       float64\n",
              "rex_url                         object\n",
              "home_style                      object\n",
              "pool_spa_types                  object\n",
              "zipcode                         object\n",
              "property_type                   object\n",
              "marketing_budget                object\n",
              "city                            object\n",
              "fencing_description             object\n",
              "property_condition              object\n",
              "dtype: object"
            ]
          },
          "metadata": {
            "tags": []
          },
          "execution_count": 499
        }
      ]
    },
    {
      "cell_type": "code",
      "metadata": {
        "id": "azhUrJ2igQDB",
        "colab": {
          "base_uri": "https://localhost:8080/"
        },
        "outputId": "1f1779da-1020-4c0a-cec6-7e1e89abc313"
      },
      "source": [
        "# for the non-numeric features, how many unique values can they take on?\n",
        "for i in df_siamese_realtor.dtypes[df_siamese_realtor.dtypes=='object'].index:\n",
        "  print(i, df_siamese_realtor[i].nunique())"
      ],
      "execution_count": null,
      "outputs": [
        {
          "output_type": "stream",
          "text": [
            "rex_url 5575\n",
            "city 139\n",
            "marketing_budget 3\n",
            "property_type 5\n",
            "zipcode 264\n",
            "pool_spa_types 7\n",
            "home_style 9\n",
            "fencing_description 16\n",
            "property_condition 10\n"
          ],
          "name": "stdout"
        }
      ]
    },
    {
      "cell_type": "markdown",
      "metadata": {
        "id": "MKlOtp612hy0"
      },
      "source": [
        "## Transforming/Embedding city code, zipcode with tSNE"
      ]
    },
    {
      "cell_type": "code",
      "metadata": {
        "id": "odRhUl7w1cHi",
        "colab": {
          "base_uri": "https://localhost:8080/"
        },
        "outputId": "eab084fe-c039-44c6-cb98-734b761f0e29"
      },
      "source": [
        "df_siamese_categ = df_siamese_realtor.copy()\n",
        "\n",
        "df_siamese_categ['city_code'] = df_siamese_categ['city'].astype(\"category\").cat.codes\n",
        "\n",
        "from sklearn.manifold import TSNE\n",
        "data_subset = df_siamese_categ[['zipcode','city_code']].values\n",
        "tsne = TSNE(n_components=2, verbose=1, perplexity=30, n_iter=300)\n",
        "tsne_results = tsne.fit_transform(data_subset)\n"
      ],
      "execution_count": null,
      "outputs": [
        {
          "output_type": "stream",
          "text": [
            "[t-SNE] Computing 91 nearest neighbors...\n",
            "[t-SNE] Indexed 5575 samples in 0.004s...\n",
            "[t-SNE] Computed neighbors for 5575 samples in 0.080s...\n",
            "[t-SNE] Computed conditional probabilities for sample 1000 / 5575\n",
            "[t-SNE] Computed conditional probabilities for sample 2000 / 5575\n",
            "[t-SNE] Computed conditional probabilities for sample 3000 / 5575\n",
            "[t-SNE] Computed conditional probabilities for sample 4000 / 5575\n",
            "[t-SNE] Computed conditional probabilities for sample 5000 / 5575\n",
            "[t-SNE] Computed conditional probabilities for sample 5575 / 5575\n",
            "[t-SNE] Mean sigma: 0.000000\n",
            "[t-SNE] KL divergence after 250 iterations with early exaggeration: 50.235893\n",
            "[t-SNE] KL divergence after 300 iterations: 1.037306\n"
          ],
          "name": "stdout"
        }
      ]
    },
    {
      "cell_type": "code",
      "metadata": {
        "id": "1R57s5yi3KTV"
      },
      "source": [
        "df_siamese_categ.drop(['zipcode','city_code','city'],axis=1,inplace=True)\n",
        "df_siamese_categ['loc_tsne_1'] = tsne_results[:,0]\n",
        "df_siamese_categ['loc_tsne_2'] = tsne_results[:,1]"
      ],
      "execution_count": null,
      "outputs": []
    },
    {
      "cell_type": "markdown",
      "metadata": {
        "id": "cOaCA0pv3gBJ"
      },
      "source": [
        "## Onehot encoding other categorical features"
      ]
    },
    {
      "cell_type": "code",
      "metadata": {
        "id": "KT5m-CBj5pUz"
      },
      "source": [
        "# one-hot-encoding for some categorical features\n",
        "cat_features = ['marketing_budget', 'property_type', 'pool_spa_types', 'home_style', 'fencing_description', 'property_condition']\n",
        "\n",
        "# join the one-hot encoded features dataframe with original one\n",
        "for feature in cat_features:\n",
        "    transformed_df = pd.get_dummies(df_siamese_categ[feature], prefix='1hot_'+feature)\n",
        "    df_siamese_categ = df_siamese_categ.join(transformed_df)\n",
        "\n",
        "# drop the original categorical features\n",
        "df_siamese_categ.drop(columns=cat_features,inplace=True)"
      ],
      "execution_count": null,
      "outputs": []
    },
    {
      "cell_type": "code",
      "metadata": {
        "id": "urswh1URMknz",
        "colab": {
          "base_uri": "https://localhost:8080/",
          "height": 422
        },
        "outputId": "584641ed-af86-4df9-ba1e-49e7f5c8a243"
      },
      "source": [
        "df_siamese_categ.head()"
      ],
      "execution_count": null,
      "outputs": [
        {
          "output_type": "execute_result",
          "data": {
            "text/html": [
              "<div>\n",
              "<style scoped>\n",
              "    .dataframe tbody tr th:only-of-type {\n",
              "        vertical-align: middle;\n",
              "    }\n",
              "\n",
              "    .dataframe tbody tr th {\n",
              "        vertical-align: top;\n",
              "    }\n",
              "\n",
              "    .dataframe thead th {\n",
              "        text-align: right;\n",
              "    }\n",
              "</style>\n",
              "<table border=\"1\" class=\"dataframe\">\n",
              "  <thead>\n",
              "    <tr style=\"text-align: right;\">\n",
              "      <th></th>\n",
              "      <th>rex_url</th>\n",
              "      <th>total_baths</th>\n",
              "      <th>total_rooms</th>\n",
              "      <th>stories</th>\n",
              "      <th>has_central_air</th>\n",
              "      <th>has_jacuzzi</th>\n",
              "      <th>has_pool</th>\n",
              "      <th>has_solar</th>\n",
              "      <th>has_garage</th>\n",
              "      <th>price</th>\n",
              "      <th>bedrooms</th>\n",
              "      <th>full_baths</th>\n",
              "      <th>half_baths</th>\n",
              "      <th>year_built</th>\n",
              "      <th>sqft</th>\n",
              "      <th>land_sqft</th>\n",
              "      <th>latitude</th>\n",
              "      <th>longitude</th>\n",
              "      <th>is_apt</th>\n",
              "      <th>nielsen_hh_rank</th>\n",
              "      <th>hotness_score</th>\n",
              "      <th>demand_score</th>\n",
              "      <th>supply_score</th>\n",
              "      <th>median_days_on_market</th>\n",
              "      <th>median_listing_price</th>\n",
              "      <th>ldpviews_per_property_vs_us</th>\n",
              "      <th>loc_tsne_1</th>\n",
              "      <th>loc_tsne_2</th>\n",
              "      <th>1hot_marketing_budget_LOW</th>\n",
              "      <th>1hot_marketing_budget_MEDIUM</th>\n",
              "      <th>1hot_marketing_budget_SURGE</th>\n",
              "      <th>1hot_property_type_CONDO</th>\n",
              "      <th>1hot_property_type_COOP</th>\n",
              "      <th>1hot_property_type_MULTI_FAMILY</th>\n",
              "      <th>1hot_property_type_SINGLE</th>\n",
              "      <th>1hot_property_type_TOWNHOUSE</th>\n",
              "      <th>1hot_pool_spa_types_Community Pool or Spa</th>\n",
              "      <th>1hot_pool_spa_types_Heated Pool</th>\n",
              "      <th>1hot_pool_spa_types_In Ground</th>\n",
              "      <th>1hot_pool_spa_types_No</th>\n",
              "      <th>1hot_pool_spa_types_Pool &amp; Spa (both)</th>\n",
              "      <th>1hot_pool_spa_types_Pool (yes)</th>\n",
              "      <th>1hot_pool_spa_types_Spa (only)</th>\n",
              "      <th>1hot_home_style_Bungalow</th>\n",
              "      <th>1hot_home_style_Cape Cod</th>\n",
              "      <th>1hot_home_style_Contemporary</th>\n",
              "      <th>1hot_home_style_Mediterranean</th>\n",
              "      <th>1hot_home_style_Modern</th>\n",
              "      <th>1hot_home_style_Other</th>\n",
              "      <th>1hot_home_style_Ranch/Rambler</th>\n",
              "      <th>1hot_home_style_Spanish</th>\n",
              "      <th>1hot_home_style_Traditional</th>\n",
              "      <th>1hot_fencing_description_Average Condition</th>\n",
              "      <th>1hot_fencing_description_Back Yard</th>\n",
              "      <th>1hot_fencing_description_Block</th>\n",
              "      <th>1hot_fencing_description_Block Wall</th>\n",
              "      <th>1hot_fencing_description_Chain Link</th>\n",
              "      <th>1hot_fencing_description_Excellent Condition</th>\n",
              "      <th>1hot_fencing_description_Good Condition</th>\n",
              "      <th>1hot_fencing_description_None</th>\n",
              "      <th>1hot_fencing_description_Other</th>\n",
              "      <th>1hot_fencing_description_Other/Remarks</th>\n",
              "      <th>1hot_fencing_description_Partial</th>\n",
              "      <th>1hot_fencing_description_Privacy</th>\n",
              "      <th>1hot_fencing_description_Stucco Wall</th>\n",
              "      <th>1hot_fencing_description_Vinyl</th>\n",
              "      <th>1hot_fencing_description_Wood</th>\n",
              "      <th>1hot_fencing_description_Wrought Iron</th>\n",
              "      <th>1hot_property_condition_Additions/Alter</th>\n",
              "      <th>1hot_property_condition_Additions/Alterations</th>\n",
              "      <th>1hot_property_condition_Building Permit</th>\n",
              "      <th>1hot_property_condition_Fixer</th>\n",
              "      <th>1hot_property_condition_Other</th>\n",
              "      <th>1hot_property_condition_Repairs Cosmetic</th>\n",
              "      <th>1hot_property_condition_Repairs Major</th>\n",
              "      <th>1hot_property_condition_Termite Clearance</th>\n",
              "      <th>1hot_property_condition_Turnkey</th>\n",
              "      <th>1hot_property_condition_Updated/Remodeled</th>\n",
              "    </tr>\n",
              "  </thead>\n",
              "  <tbody>\n",
              "    <tr>\n",
              "      <th>0</th>\n",
              "      <td>rex1-pacific-coast-hwy</td>\n",
              "      <td>12.0</td>\n",
              "      <td>33.0</td>\n",
              "      <td>1</td>\n",
              "      <td>0</td>\n",
              "      <td>0</td>\n",
              "      <td>0</td>\n",
              "      <td>0</td>\n",
              "      <td>0</td>\n",
              "      <td>44000000.0</td>\n",
              "      <td>12.0</td>\n",
              "      <td>2.0</td>\n",
              "      <td>0.0</td>\n",
              "      <td>2015.0</td>\n",
              "      <td>11510.0</td>\n",
              "      <td>141570.0</td>\n",
              "      <td>34.023865</td>\n",
              "      <td>-118.787080</td>\n",
              "      <td>0.0</td>\n",
              "      <td>6211.0</td>\n",
              "      <td>23.044945</td>\n",
              "      <td>44.348576</td>\n",
              "      <td>1.741313</td>\n",
              "      <td>221.0</td>\n",
              "      <td>4900050.0</td>\n",
              "      <td>0.9191</td>\n",
              "      <td>4.173980</td>\n",
              "      <td>6.034126</td>\n",
              "      <td>1</td>\n",
              "      <td>0</td>\n",
              "      <td>0</td>\n",
              "      <td>0</td>\n",
              "      <td>0</td>\n",
              "      <td>0</td>\n",
              "      <td>1</td>\n",
              "      <td>0</td>\n",
              "      <td>0</td>\n",
              "      <td>0</td>\n",
              "      <td>0</td>\n",
              "      <td>1</td>\n",
              "      <td>0</td>\n",
              "      <td>0</td>\n",
              "      <td>0</td>\n",
              "      <td>0</td>\n",
              "      <td>0</td>\n",
              "      <td>0</td>\n",
              "      <td>0</td>\n",
              "      <td>0</td>\n",
              "      <td>1</td>\n",
              "      <td>0</td>\n",
              "      <td>0</td>\n",
              "      <td>0</td>\n",
              "      <td>0</td>\n",
              "      <td>0</td>\n",
              "      <td>0</td>\n",
              "      <td>0</td>\n",
              "      <td>0</td>\n",
              "      <td>0</td>\n",
              "      <td>0</td>\n",
              "      <td>1</td>\n",
              "      <td>0</td>\n",
              "      <td>0</td>\n",
              "      <td>0</td>\n",
              "      <td>0</td>\n",
              "      <td>0</td>\n",
              "      <td>0</td>\n",
              "      <td>0</td>\n",
              "      <td>0</td>\n",
              "      <td>0</td>\n",
              "      <td>0</td>\n",
              "      <td>0</td>\n",
              "      <td>0</td>\n",
              "      <td>0</td>\n",
              "      <td>0</td>\n",
              "      <td>0</td>\n",
              "      <td>0</td>\n",
              "      <td>1</td>\n",
              "      <td>0</td>\n",
              "    </tr>\n",
              "    <tr>\n",
              "      <th>1</th>\n",
              "      <td>4080-glencoe-ave-unit-316</td>\n",
              "      <td>2.0</td>\n",
              "      <td>5.0</td>\n",
              "      <td>1</td>\n",
              "      <td>0</td>\n",
              "      <td>0</td>\n",
              "      <td>0</td>\n",
              "      <td>0</td>\n",
              "      <td>0</td>\n",
              "      <td>1099000.0</td>\n",
              "      <td>1.0</td>\n",
              "      <td>2.0</td>\n",
              "      <td>0.0</td>\n",
              "      <td>2011.0</td>\n",
              "      <td>1580.0</td>\n",
              "      <td>17336.0</td>\n",
              "      <td>33.990732</td>\n",
              "      <td>-118.441965</td>\n",
              "      <td>1.0</td>\n",
              "      <td>2196.0</td>\n",
              "      <td>6.741705</td>\n",
              "      <td>3.992470</td>\n",
              "      <td>9.490940</td>\n",
              "      <td>106.0</td>\n",
              "      <td>1388050.0</td>\n",
              "      <td>0.2721</td>\n",
              "      <td>9.119221</td>\n",
              "      <td>13.400335</td>\n",
              "      <td>1</td>\n",
              "      <td>0</td>\n",
              "      <td>0</td>\n",
              "      <td>1</td>\n",
              "      <td>0</td>\n",
              "      <td>0</td>\n",
              "      <td>0</td>\n",
              "      <td>0</td>\n",
              "      <td>0</td>\n",
              "      <td>0</td>\n",
              "      <td>0</td>\n",
              "      <td>1</td>\n",
              "      <td>0</td>\n",
              "      <td>0</td>\n",
              "      <td>0</td>\n",
              "      <td>0</td>\n",
              "      <td>0</td>\n",
              "      <td>0</td>\n",
              "      <td>0</td>\n",
              "      <td>0</td>\n",
              "      <td>1</td>\n",
              "      <td>0</td>\n",
              "      <td>0</td>\n",
              "      <td>0</td>\n",
              "      <td>0</td>\n",
              "      <td>0</td>\n",
              "      <td>0</td>\n",
              "      <td>0</td>\n",
              "      <td>0</td>\n",
              "      <td>0</td>\n",
              "      <td>0</td>\n",
              "      <td>1</td>\n",
              "      <td>0</td>\n",
              "      <td>0</td>\n",
              "      <td>0</td>\n",
              "      <td>0</td>\n",
              "      <td>0</td>\n",
              "      <td>0</td>\n",
              "      <td>0</td>\n",
              "      <td>0</td>\n",
              "      <td>0</td>\n",
              "      <td>0</td>\n",
              "      <td>0</td>\n",
              "      <td>0</td>\n",
              "      <td>0</td>\n",
              "      <td>0</td>\n",
              "      <td>0</td>\n",
              "      <td>0</td>\n",
              "      <td>1</td>\n",
              "      <td>0</td>\n",
              "    </tr>\n",
              "    <tr>\n",
              "      <th>2</th>\n",
              "      <td>175-sequoia-dr</td>\n",
              "      <td>2.0</td>\n",
              "      <td>7.0</td>\n",
              "      <td>1</td>\n",
              "      <td>0</td>\n",
              "      <td>0</td>\n",
              "      <td>0</td>\n",
              "      <td>0</td>\n",
              "      <td>0</td>\n",
              "      <td>943900.0</td>\n",
              "      <td>3.0</td>\n",
              "      <td>2.0</td>\n",
              "      <td>0.0</td>\n",
              "      <td>1958.0</td>\n",
              "      <td>1747.0</td>\n",
              "      <td>7475.0</td>\n",
              "      <td>34.138413</td>\n",
              "      <td>-118.180510</td>\n",
              "      <td>0.0</td>\n",
              "      <td>7326.0</td>\n",
              "      <td>40.732606</td>\n",
              "      <td>22.315476</td>\n",
              "      <td>59.149737</td>\n",
              "      <td>45.0</td>\n",
              "      <td>1795050.0</td>\n",
              "      <td>0.6103</td>\n",
              "      <td>4.947028</td>\n",
              "      <td>-2.144489</td>\n",
              "      <td>1</td>\n",
              "      <td>0</td>\n",
              "      <td>0</td>\n",
              "      <td>0</td>\n",
              "      <td>0</td>\n",
              "      <td>0</td>\n",
              "      <td>1</td>\n",
              "      <td>0</td>\n",
              "      <td>0</td>\n",
              "      <td>0</td>\n",
              "      <td>0</td>\n",
              "      <td>1</td>\n",
              "      <td>0</td>\n",
              "      <td>0</td>\n",
              "      <td>0</td>\n",
              "      <td>0</td>\n",
              "      <td>0</td>\n",
              "      <td>0</td>\n",
              "      <td>0</td>\n",
              "      <td>0</td>\n",
              "      <td>1</td>\n",
              "      <td>0</td>\n",
              "      <td>0</td>\n",
              "      <td>0</td>\n",
              "      <td>0</td>\n",
              "      <td>0</td>\n",
              "      <td>0</td>\n",
              "      <td>0</td>\n",
              "      <td>0</td>\n",
              "      <td>0</td>\n",
              "      <td>0</td>\n",
              "      <td>1</td>\n",
              "      <td>0</td>\n",
              "      <td>0</td>\n",
              "      <td>0</td>\n",
              "      <td>0</td>\n",
              "      <td>0</td>\n",
              "      <td>0</td>\n",
              "      <td>0</td>\n",
              "      <td>0</td>\n",
              "      <td>0</td>\n",
              "      <td>0</td>\n",
              "      <td>0</td>\n",
              "      <td>0</td>\n",
              "      <td>0</td>\n",
              "      <td>0</td>\n",
              "      <td>0</td>\n",
              "      <td>0</td>\n",
              "      <td>1</td>\n",
              "      <td>0</td>\n",
              "    </tr>\n",
              "    <tr>\n",
              "      <th>3</th>\n",
              "      <td>6560-3rd-ave</td>\n",
              "      <td>1.0</td>\n",
              "      <td>5.0</td>\n",
              "      <td>1</td>\n",
              "      <td>0</td>\n",
              "      <td>0</td>\n",
              "      <td>0</td>\n",
              "      <td>0</td>\n",
              "      <td>0</td>\n",
              "      <td>439000.0</td>\n",
              "      <td>2.0</td>\n",
              "      <td>1.0</td>\n",
              "      <td>0.0</td>\n",
              "      <td>1925.0</td>\n",
              "      <td>1168.0</td>\n",
              "      <td>4814.0</td>\n",
              "      <td>33.979654</td>\n",
              "      <td>-118.320367</td>\n",
              "      <td>0.0</td>\n",
              "      <td>1424.0</td>\n",
              "      <td>4.902345</td>\n",
              "      <td>5.953408</td>\n",
              "      <td>3.851282</td>\n",
              "      <td>154.0</td>\n",
              "      <td>800050.0</td>\n",
              "      <td>0.3309</td>\n",
              "      <td>-5.425113</td>\n",
              "      <td>-6.002894</td>\n",
              "      <td>1</td>\n",
              "      <td>0</td>\n",
              "      <td>0</td>\n",
              "      <td>0</td>\n",
              "      <td>0</td>\n",
              "      <td>0</td>\n",
              "      <td>1</td>\n",
              "      <td>0</td>\n",
              "      <td>0</td>\n",
              "      <td>0</td>\n",
              "      <td>0</td>\n",
              "      <td>1</td>\n",
              "      <td>0</td>\n",
              "      <td>0</td>\n",
              "      <td>0</td>\n",
              "      <td>0</td>\n",
              "      <td>0</td>\n",
              "      <td>0</td>\n",
              "      <td>0</td>\n",
              "      <td>0</td>\n",
              "      <td>0</td>\n",
              "      <td>0</td>\n",
              "      <td>1</td>\n",
              "      <td>0</td>\n",
              "      <td>0</td>\n",
              "      <td>0</td>\n",
              "      <td>0</td>\n",
              "      <td>0</td>\n",
              "      <td>0</td>\n",
              "      <td>0</td>\n",
              "      <td>0</td>\n",
              "      <td>1</td>\n",
              "      <td>0</td>\n",
              "      <td>0</td>\n",
              "      <td>0</td>\n",
              "      <td>0</td>\n",
              "      <td>0</td>\n",
              "      <td>0</td>\n",
              "      <td>0</td>\n",
              "      <td>0</td>\n",
              "      <td>0</td>\n",
              "      <td>0</td>\n",
              "      <td>0</td>\n",
              "      <td>0</td>\n",
              "      <td>0</td>\n",
              "      <td>0</td>\n",
              "      <td>0</td>\n",
              "      <td>0</td>\n",
              "      <td>1</td>\n",
              "      <td>0</td>\n",
              "    </tr>\n",
              "    <tr>\n",
              "      <th>4</th>\n",
              "      <td>1258-barry-ave-unit-5</td>\n",
              "      <td>2.0</td>\n",
              "      <td>4.0</td>\n",
              "      <td>1</td>\n",
              "      <td>0</td>\n",
              "      <td>0</td>\n",
              "      <td>0</td>\n",
              "      <td>0</td>\n",
              "      <td>0</td>\n",
              "      <td>1250000.0</td>\n",
              "      <td>3.0</td>\n",
              "      <td>2.0</td>\n",
              "      <td>0.0</td>\n",
              "      <td>1998.0</td>\n",
              "      <td>2521.0</td>\n",
              "      <td>6901.0</td>\n",
              "      <td>34.048821</td>\n",
              "      <td>-118.458578</td>\n",
              "      <td>1.0</td>\n",
              "      <td>397.0</td>\n",
              "      <td>36.587183</td>\n",
              "      <td>2.972782</td>\n",
              "      <td>70.201584</td>\n",
              "      <td>40.0</td>\n",
              "      <td>1049050.0</td>\n",
              "      <td>0.2353</td>\n",
              "      <td>16.086262</td>\n",
              "      <td>-3.644751</td>\n",
              "      <td>1</td>\n",
              "      <td>0</td>\n",
              "      <td>0</td>\n",
              "      <td>1</td>\n",
              "      <td>0</td>\n",
              "      <td>0</td>\n",
              "      <td>0</td>\n",
              "      <td>0</td>\n",
              "      <td>0</td>\n",
              "      <td>0</td>\n",
              "      <td>0</td>\n",
              "      <td>1</td>\n",
              "      <td>0</td>\n",
              "      <td>0</td>\n",
              "      <td>0</td>\n",
              "      <td>0</td>\n",
              "      <td>0</td>\n",
              "      <td>0</td>\n",
              "      <td>0</td>\n",
              "      <td>0</td>\n",
              "      <td>1</td>\n",
              "      <td>0</td>\n",
              "      <td>0</td>\n",
              "      <td>0</td>\n",
              "      <td>0</td>\n",
              "      <td>0</td>\n",
              "      <td>0</td>\n",
              "      <td>0</td>\n",
              "      <td>0</td>\n",
              "      <td>0</td>\n",
              "      <td>0</td>\n",
              "      <td>1</td>\n",
              "      <td>0</td>\n",
              "      <td>0</td>\n",
              "      <td>0</td>\n",
              "      <td>0</td>\n",
              "      <td>0</td>\n",
              "      <td>0</td>\n",
              "      <td>0</td>\n",
              "      <td>0</td>\n",
              "      <td>0</td>\n",
              "      <td>0</td>\n",
              "      <td>0</td>\n",
              "      <td>0</td>\n",
              "      <td>0</td>\n",
              "      <td>0</td>\n",
              "      <td>0</td>\n",
              "      <td>0</td>\n",
              "      <td>1</td>\n",
              "      <td>0</td>\n",
              "    </tr>\n",
              "  </tbody>\n",
              "</table>\n",
              "</div>"
            ],
            "text/plain": [
              "                     rex_url  ...  1hot_property_condition_Updated/Remodeled\n",
              "0     rex1-pacific-coast-hwy  ...                                          0\n",
              "1  4080-glencoe-ave-unit-316  ...                                          0\n",
              "2             175-sequoia-dr  ...                                          0\n",
              "3               6560-3rd-ave  ...                                          0\n",
              "4      1258-barry-ave-unit-5  ...                                          0\n",
              "\n",
              "[5 rows x 78 columns]"
            ]
          },
          "metadata": {
            "tags": []
          },
          "execution_count": 516
        }
      ]
    },
    {
      "cell_type": "markdown",
      "metadata": {
        "id": "sfpk4i5E5Q-k"
      },
      "source": [
        "## Transform numeric features"
      ]
    },
    {
      "cell_type": "code",
      "metadata": {
        "id": "Q4bwNXlk5QYz",
        "colab": {
          "base_uri": "https://localhost:8080/",
          "height": 1000
        },
        "outputId": "9f65865c-ba86-4357-81e5-030c594d8641"
      },
      "source": [
        "df_siamese_categ.hist(figsize=(30,30))\n",
        "plt.show()"
      ],
      "execution_count": null,
      "outputs": [
        {
          "output_type": "display_data",
          "data": {
            "image/png": "[encoded data removed]",
            "text/plain": [
              "<Figure size 2160x2160 with 81 Axes>"
            ]
          },
          "metadata": {
            "tags": [],
            "needs_background": "light"
          }
        }
      ]
    },
    {
      "cell_type": "code",
      "metadata": {
        "id": "Ab0m0dgC5ZdP"
      },
      "source": [
        "# Take logs of numeric features to fix skewed distributions\n",
        "df_siamese_final_log = df_siamese_categ.copy()\n",
        "\n",
        "df_siamese_final_log['log_price'] = np.log(df_siamese_categ.price)\n",
        "df_siamese_final_log['log_sqft'] = np.log(df_siamese_categ.sqft)\n",
        "df_siamese_final_log['log_median_listing_price'] = np.log(df_siamese_categ.median_listing_price)\n",
        "df_siamese_final_log['log_median_days_on_market'] = np.log(df_siamese_categ.median_days_on_market)\n",
        "df_siamese_final_log['log_nielsen_hh_rank'] = np.log(df_siamese_categ.nielsen_hh_rank)\n",
        "df_siamese_final_log['log_land_sqft'] = np.log(df_siamese_categ.land_sqft)\n",
        "df_siamese_final_log['log_total_rooms'] = np.log(df_siamese_categ.total_rooms)\n",
        "\n",
        "df_siamese_final_log.drop(['price','sqft','median_listing_price','median_days_on_market','nielsen_hh_rank','land_sqft','total_rooms'],axis=1,inplace=True)"
      ],
      "execution_count": null,
      "outputs": []
    },
    {
      "cell_type": "markdown",
      "metadata": {
        "id": "TTnsxmot4lIc"
      },
      "source": [
        "## Saving Out Final Listing Dataset (for use in siamese NN and other models)"
      ]
    },
    {
      "cell_type": "code",
      "metadata": {
        "id": "dZG0-jGg4LdJ"
      },
      "source": [
        "df_siamese_final = df_siamese_categ.copy()\n",
        "df_siamese_final.to_pickle('siamese_data_11_12.pkl')"
      ],
      "execution_count": null,
      "outputs": []
    },
    {
      "cell_type": "code",
      "metadata": {
        "id": "3Yg96Hjw4a_A"
      },
      "source": [
        "df_siamese_final_log.to_pickle('LOG_siamese_data_11_12.pkl')"
      ],
      "execution_count": null,
      "outputs": []
    },
    {
      "cell_type": "code",
      "metadata": {
        "id": "r49vvBya4cPp",
        "colab": {
          "base_uri": "https://localhost:8080/"
        },
        "outputId": "dfaaf336-267d-4db7-913d-9e05a0d7bb52"
      },
      "source": [
        "df_siamese_final_log.shape"
      ],
      "execution_count": null,
      "outputs": [
        {
          "output_type": "execute_result",
          "data": {
            "text/plain": [
              "(5575, 78)"
            ]
          },
          "metadata": {
            "tags": []
          },
          "execution_count": 528
        }
      ]
    },
    {
      "cell_type": "markdown",
      "metadata": {
        "id": "kX2IL1eKx1qw"
      },
      "source": [
        "# Adding in additional Image Features (post- sytle clustering analysis)"
      ]
    },
    {
      "cell_type": "code",
      "metadata": {
        "id": "xQ94OKL6x0-k"
      },
      "source": [
        "# Bring in image style features\n",
        "img_features = pd.read_csv('final_img_features.csv')\n",
        "img_features.drop(['listing_id','averaged_pca_features'],axis=1,inplace=True)"
      ],
      "execution_count": null,
      "outputs": []
    },
    {
      "cell_type": "code",
      "metadata": {
        "id": "mUYy5MRDx_VB"
      },
      "source": [
        "img_features.head(2)"
      ],
      "execution_count": null,
      "outputs": []
    },
    {
      "cell_type": "code",
      "metadata": {
        "id": "zZj9e-sMx_g6"
      },
      "source": [
        "# merge in the image features\n",
        "final_listing_data = df_siamese_final_log.merge(img_features,on='rex_url',how='left')"
      ],
      "execution_count": null,
      "outputs": []
    },
    {
      "cell_type": "code",
      "metadata": {
        "id": "KYcsYpaSyH-v"
      },
      "source": [
        "# Find columns with NAs\n",
        "listing_nas = final_listing_data.isna().sum()\n",
        "listing_nas[listing_nas>0]"
      ],
      "execution_count": null,
      "outputs": []
    },
    {
      "cell_type": "code",
      "metadata": {
        "id": "k4cWUiSWyISA"
      },
      "source": [
        "# Fill missing image data with -1 indicator\n",
        "final_listing_data.fillna(value=-1, inplace=True)"
      ],
      "execution_count": null,
      "outputs": []
    },
    {
      "cell_type": "code",
      "metadata": {
        "id": "nwftd9D1yNmG"
      },
      "source": [
        "# Save listing data\n",
        "final_listing_data.to_pickle('listing_data_filtered_with_img.pkl')"
      ],
      "execution_count": null,
      "outputs": []
    }
  ]
}