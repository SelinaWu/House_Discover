{
  "nbformat": 4,
  "nbformat_minor": 0,
  "metadata": {
    "accelerator": "GPU",
    "colab": {
      "name": "CollabFilter.ipynb",
      "provenance": [],
      "collapsed_sections": [
        "GFbURzpyU0_0"
      ]
    },
    "kernelspec": {
      "display_name": "Python 3",
      "name": "python3"
    }
  },
  "cells": [
    {
      "cell_type": "markdown",
      "metadata": {
        "id": "iglvkcCN0GTO"
      },
      "source": [
        "# Final Implementation of Explicit Collaborative Filtering Model"
      ]
    },
    {
      "cell_type": "code",
      "metadata": {
        "id": "QlYaSvvCxlGM"
      },
      "source": [
        "import pandas as pd\n",
        "import numpy as np\n",
        "import matplotlib.pyplot as plt\n",
        "pd.set_option('display.max_rows', None)"
      ],
      "execution_count": null,
      "outputs": []
    },
    {
      "cell_type": "markdown",
      "metadata": {
        "id": "iRRWd2-Y0RFG"
      },
      "source": [
        "Import train/test split data from `Temporal_Train_Test_Split.ipynb`"
      ]
    },
    {
      "cell_type": "code",
      "metadata": {
        "id": "IvZ9A-LEvugo"
      },
      "source": [
        "train_la = pd.read_pickle(\"ip_listing_temporal_train_full.pkl\")\n",
        "test_la = pd.read_pickle(\"ip_listing_temporal_test_full.pkl\")"
      ],
      "execution_count": null,
      "outputs": []
    },
    {
      "cell_type": "markdown",
      "metadata": {
        "id": "HOA8qycl0WDe"
      },
      "source": [
        "Visualize an example split for a random user"
      ]
    },
    {
      "cell_type": "code",
      "metadata": {
        "colab": {
          "base_uri": "https://localhost:8080/",
          "height": 484
        },
        "id": "686TFs7sWH0G",
        "outputId": "23f0fffc-0c9e-49b1-eb79-40343b569e5f"
      },
      "source": [
        "print('train')\n",
        "display(train_la[train_la.ip=='100.11.168.44'])\n",
        "print('test')\n",
        "display(test_la[test_la.ip=='100.11.168.44'])"
      ],
      "execution_count": null,
      "outputs": [
        {
          "output_type": "stream",
          "text": [
            "train\n"
          ],
          "name": "stdout"
        },
        {
          "output_type": "display_data",
          "data": {
            "text/html": [
              "<div>\n",
              "<style scoped>\n",
              "    .dataframe tbody tr th:only-of-type {\n",
              "        vertical-align: middle;\n",
              "    }\n",
              "\n",
              "    .dataframe tbody tr th {\n",
              "        vertical-align: top;\n",
              "    }\n",
              "\n",
              "    .dataframe thead th {\n",
              "        text-align: right;\n",
              "    }\n",
              "</style>\n",
              "<table border=\"1\" class=\"dataframe\">\n",
              "  <thead>\n",
              "    <tr style=\"text-align: right;\">\n",
              "      <th></th>\n",
              "      <th>ip</th>\n",
              "      <th>rexUrl</th>\n",
              "    </tr>\n",
              "  </thead>\n",
              "  <tbody>\n",
              "    <tr>\n",
              "      <th>98</th>\n",
              "      <td>100.11.168.44</td>\n",
              "      <td>22718-figueroa-st-unit-21</td>\n",
              "    </tr>\n",
              "    <tr>\n",
              "      <th>98</th>\n",
              "      <td>100.11.168.44</td>\n",
              "      <td>6151-orange-st-apt-118</td>\n",
              "    </tr>\n",
              "    <tr>\n",
              "      <th>98</th>\n",
              "      <td>100.11.168.44</td>\n",
              "      <td>6210-s-van-ness-ave</td>\n",
              "    </tr>\n",
              "    <tr>\n",
              "      <th>98</th>\n",
              "      <td>100.11.168.44</td>\n",
              "      <td>9735-baden-ave</td>\n",
              "    </tr>\n",
              "    <tr>\n",
              "      <th>98</th>\n",
              "      <td>100.11.168.44</td>\n",
              "      <td>13514-chivers-ave</td>\n",
              "    </tr>\n",
              "    <tr>\n",
              "      <th>98</th>\n",
              "      <td>100.11.168.44</td>\n",
              "      <td>1410-brett-pl-unit-238</td>\n",
              "    </tr>\n",
              "    <tr>\n",
              "      <th>98</th>\n",
              "      <td>100.11.168.44</td>\n",
              "      <td>830-n-oakway-ave</td>\n",
              "    </tr>\n",
              "    <tr>\n",
              "      <th>98</th>\n",
              "      <td>100.11.168.44</td>\n",
              "      <td>6209-pacific-ave-unit-101</td>\n",
              "    </tr>\n",
              "    <tr>\n",
              "      <th>98</th>\n",
              "      <td>100.11.168.44</td>\n",
              "      <td>814-e-graves-ave</td>\n",
              "    </tr>\n",
              "  </tbody>\n",
              "</table>\n",
              "</div>"
            ],
            "text/plain": [
              "               ip                     rexUrl\n",
              "98  100.11.168.44  22718-figueroa-st-unit-21\n",
              "98  100.11.168.44     6151-orange-st-apt-118\n",
              "98  100.11.168.44        6210-s-van-ness-ave\n",
              "98  100.11.168.44             9735-baden-ave\n",
              "98  100.11.168.44          13514-chivers-ave\n",
              "98  100.11.168.44     1410-brett-pl-unit-238\n",
              "98  100.11.168.44           830-n-oakway-ave\n",
              "98  100.11.168.44  6209-pacific-ave-unit-101\n",
              "98  100.11.168.44           814-e-graves-ave"
            ]
          },
          "metadata": {
            "tags": []
          }
        },
        {
          "output_type": "stream",
          "text": [
            "test\n"
          ],
          "name": "stdout"
        },
        {
          "output_type": "display_data",
          "data": {
            "text/html": [
              "<div>\n",
              "<style scoped>\n",
              "    .dataframe tbody tr th:only-of-type {\n",
              "        vertical-align: middle;\n",
              "    }\n",
              "\n",
              "    .dataframe tbody tr th {\n",
              "        vertical-align: top;\n",
              "    }\n",
              "\n",
              "    .dataframe thead th {\n",
              "        text-align: right;\n",
              "    }\n",
              "</style>\n",
              "<table border=\"1\" class=\"dataframe\">\n",
              "  <thead>\n",
              "    <tr style=\"text-align: right;\">\n",
              "      <th></th>\n",
              "      <th>ip</th>\n",
              "      <th>rexUrl</th>\n",
              "    </tr>\n",
              "  </thead>\n",
              "  <tbody>\n",
              "    <tr>\n",
              "      <th>98</th>\n",
              "      <td>100.11.168.44</td>\n",
              "      <td>28710-indies-ln-canyon-country</td>\n",
              "    </tr>\n",
              "    <tr>\n",
              "      <th>98</th>\n",
              "      <td>100.11.168.44</td>\n",
              "      <td>15015-lassen-st</td>\n",
              "    </tr>\n",
              "    <tr>\n",
              "      <th>98</th>\n",
              "      <td>100.11.168.44</td>\n",
              "      <td>844-e-meadbrook-st</td>\n",
              "    </tr>\n",
              "  </tbody>\n",
              "</table>\n",
              "</div>"
            ],
            "text/plain": [
              "               ip                          rexUrl\n",
              "98  100.11.168.44  28710-indies-ln-canyon-country\n",
              "98  100.11.168.44                 15015-lassen-st\n",
              "98  100.11.168.44              844-e-meadbrook-st"
            ]
          },
          "metadata": {
            "tags": []
          }
        }
      ]
    },
    {
      "cell_type": "code",
      "metadata": {
        "colab": {
          "base_uri": "https://localhost:8080/",
          "height": 202
        },
        "id": "_HXJurZpwnGE",
        "outputId": "1adbfe76-eed7-484c-de73-0ee62cf02cfb"
      },
      "source": [
        "train_la.head()"
      ],
      "execution_count": null,
      "outputs": [
        {
          "output_type": "execute_result",
          "data": {
            "text/html": [
              "<div>\n",
              "<style scoped>\n",
              "    .dataframe tbody tr th:only-of-type {\n",
              "        vertical-align: middle;\n",
              "    }\n",
              "\n",
              "    .dataframe tbody tr th {\n",
              "        vertical-align: top;\n",
              "    }\n",
              "\n",
              "    .dataframe thead th {\n",
              "        text-align: right;\n",
              "    }\n",
              "</style>\n",
              "<table border=\"1\" class=\"dataframe\">\n",
              "  <thead>\n",
              "    <tr style=\"text-align: right;\">\n",
              "      <th></th>\n",
              "      <th>ip</th>\n",
              "      <th>rexUrl</th>\n",
              "    </tr>\n",
              "  </thead>\n",
              "  <tbody>\n",
              "    <tr>\n",
              "      <th>11</th>\n",
              "      <td>1.129.109.119</td>\n",
              "      <td>15819-golden-lantern-ln</td>\n",
              "    </tr>\n",
              "    <tr>\n",
              "      <th>11</th>\n",
              "      <td>1.129.109.119</td>\n",
              "      <td>3332-genoa-pl</td>\n",
              "    </tr>\n",
              "    <tr>\n",
              "      <th>11</th>\n",
              "      <td>1.129.109.119</td>\n",
              "      <td>12401-moorpark-st-unit-201-studio-city</td>\n",
              "    </tr>\n",
              "    <tr>\n",
              "      <th>65</th>\n",
              "      <td>1.65.170.128</td>\n",
              "      <td>1270-bayport-cir</td>\n",
              "    </tr>\n",
              "    <tr>\n",
              "      <th>65</th>\n",
              "      <td>1.65.170.128</td>\n",
              "      <td>656-w-avenue-j8</td>\n",
              "    </tr>\n",
              "  </tbody>\n",
              "</table>\n",
              "</div>"
            ],
            "text/plain": [
              "               ip                                  rexUrl\n",
              "11  1.129.109.119                 15819-golden-lantern-ln\n",
              "11  1.129.109.119                           3332-genoa-pl\n",
              "11  1.129.109.119  12401-moorpark-st-unit-201-studio-city\n",
              "65   1.65.170.128                        1270-bayport-cir\n",
              "65   1.65.170.128                         656-w-avenue-j8"
            ]
          },
          "metadata": {
            "tags": []
          },
          "execution_count": 5
        }
      ]
    },
    {
      "cell_type": "markdown",
      "metadata": {
        "id": "lb_zkxyKUYMc"
      },
      "source": [
        "## Scoring Interactions"
      ]
    },
    {
      "cell_type": "markdown",
      "metadata": {
        "id": "c2EfSo4X0aWa"
      },
      "source": [
        "Bring in webdata from `Load_Web_Data.ipynb`"
      ]
    },
    {
      "cell_type": "code",
      "metadata": {
        "id": "ko6-Qqu4SXq5"
      },
      "source": [
        "webdata = pd.read_pickle(\"all_webdata_filtered.pkl\")"
      ],
      "execution_count": null,
      "outputs": []
    },
    {
      "cell_type": "code",
      "metadata": {
        "id": "oH-CfAHtSac2"
      },
      "source": [
        "train_webdata = train_la.merge(webdata,left_on=['ip','rexUrl'],right_on=['ip','rexurl'],how='left')"
      ],
      "execution_count": null,
      "outputs": []
    },
    {
      "cell_type": "code",
      "metadata": {
        "colab": {
          "base_uri": "https://localhost:8080/",
          "height": 202
        },
        "id": "u9BQafAsSp4V",
        "outputId": "ef7c1e14-d6e8-4d52-fc97-9b6c75a3820b"
      },
      "source": [
        "train_webdata.head()"
      ],
      "execution_count": null,
      "outputs": [
        {
          "output_type": "execute_result",
          "data": {
            "text/html": [
              "<div>\n",
              "<style scoped>\n",
              "    .dataframe tbody tr th:only-of-type {\n",
              "        vertical-align: middle;\n",
              "    }\n",
              "\n",
              "    .dataframe tbody tr th {\n",
              "        vertical-align: top;\n",
              "    }\n",
              "\n",
              "    .dataframe thead th {\n",
              "        text-align: right;\n",
              "    }\n",
              "</style>\n",
              "<table border=\"1\" class=\"dataframe\">\n",
              "  <thead>\n",
              "    <tr style=\"text-align: right;\">\n",
              "      <th></th>\n",
              "      <th>ip</th>\n",
              "      <th>rexUrl</th>\n",
              "      <th>event_stamp</th>\n",
              "      <th>action</th>\n",
              "      <th>category</th>\n",
              "      <th>rexurl</th>\n",
              "      <th>rexUrl_duration</th>\n",
              "    </tr>\n",
              "  </thead>\n",
              "  <tbody>\n",
              "    <tr>\n",
              "      <th>0</th>\n",
              "      <td>1.129.109.119</td>\n",
              "      <td>15819-golden-lantern-ln</td>\n",
              "      <td>2019-09-07 02:11:35.493</td>\n",
              "      <td>pageview</td>\n",
              "      <td>NaN</td>\n",
              "      <td>15819-golden-lantern-ln</td>\n",
              "      <td>60.059</td>\n",
              "    </tr>\n",
              "    <tr>\n",
              "      <th>1</th>\n",
              "      <td>1.129.109.119</td>\n",
              "      <td>15819-golden-lantern-ln</td>\n",
              "      <td>2019-09-07 02:11:44.866</td>\n",
              "      <td>scroll</td>\n",
              "      <td>photoCarousel</td>\n",
              "      <td>15819-golden-lantern-ln</td>\n",
              "      <td>60.059</td>\n",
              "    </tr>\n",
              "    <tr>\n",
              "      <th>2</th>\n",
              "      <td>1.129.109.119</td>\n",
              "      <td>15819-golden-lantern-ln</td>\n",
              "      <td>2019-09-07 02:11:45.075</td>\n",
              "      <td>scroll</td>\n",
              "      <td>photoCarousel</td>\n",
              "      <td>15819-golden-lantern-ln</td>\n",
              "      <td>60.059</td>\n",
              "    </tr>\n",
              "    <tr>\n",
              "      <th>3</th>\n",
              "      <td>1.129.109.119</td>\n",
              "      <td>15819-golden-lantern-ln</td>\n",
              "      <td>2019-09-07 02:11:54.897</td>\n",
              "      <td>scroll</td>\n",
              "      <td>photoCarousel</td>\n",
              "      <td>15819-golden-lantern-ln</td>\n",
              "      <td>60.059</td>\n",
              "    </tr>\n",
              "    <tr>\n",
              "      <th>4</th>\n",
              "      <td>1.129.109.119</td>\n",
              "      <td>15819-golden-lantern-ln</td>\n",
              "      <td>2019-09-07 02:11:55.070</td>\n",
              "      <td>scroll</td>\n",
              "      <td>photoCarousel</td>\n",
              "      <td>15819-golden-lantern-ln</td>\n",
              "      <td>60.059</td>\n",
              "    </tr>\n",
              "  </tbody>\n",
              "</table>\n",
              "</div>"
            ],
            "text/plain": [
              "              ip  ... rexUrl_duration\n",
              "0  1.129.109.119  ...          60.059\n",
              "1  1.129.109.119  ...          60.059\n",
              "2  1.129.109.119  ...          60.059\n",
              "3  1.129.109.119  ...          60.059\n",
              "4  1.129.109.119  ...          60.059\n",
              "\n",
              "[5 rows x 7 columns]"
            ]
          },
          "metadata": {
            "tags": []
          },
          "execution_count": 8
        }
      ]
    },
    {
      "cell_type": "code",
      "metadata": {
        "id": "KdD9mi6jSwOQ"
      },
      "source": [
        "special_actions_level0 = ['scroll','pageview','ViewContent','view_item','drag','click']\n",
        "special_actions_level1 = ['open-form','enter-flow',  'nav-tab', 'change',\n",
        "                          'success', 'Search', 'view_search_results', 'phone-click', 'popup']\n",
        "special_actions_level2 = ['nav', 'lead', 'submit', 'submit-success','add_to_cart', 'InitiateCheckout']\n",
        "special_actions_level3 = ['Purchase','purchase']"
      ],
      "execution_count": null,
      "outputs": []
    },
    {
      "cell_type": "code",
      "metadata": {
        "colab": {
          "base_uri": "https://localhost:8080/"
        },
        "id": "_AE4QM6GT0wA",
        "outputId": "71abda15-2bdb-4ed1-f541-3a69864df06a"
      },
      "source": [
        "# Determining how common each action is\n",
        "# To be used for inverse frequency weighting in score calculation (below)\n",
        "action_ct = train_webdata.action.value_counts()\n",
        "total_ct = action_ct.sum()\n",
        "level_weights = []\n",
        "for i, curr_level in enumerate([special_actions_level0, special_actions_level1, \n",
        "                           special_actions_level2, special_actions_level3]):\n",
        "  \n",
        "  # futureproofing index lookup for cases when not all actions are there\n",
        "  Lx_weight = 100*action_ct[action_ct.index.isin(curr_level)].sum()/total_ct\n",
        "  level_weights.append(Lx_weight)\n",
        "  print(\"Level {0:d}: {1:.4f} %\".format(i+1, Lx_weight))"
      ],
      "execution_count": null,
      "outputs": [
        {
          "output_type": "stream",
          "text": [
            "Level 1: 99.3950 %\n",
            "Level 2: 0.5086 %\n",
            "Level 3: 0.0620 %\n",
            "Level 4: 0.0076 %\n"
          ],
          "name": "stdout"
        }
      ]
    },
    {
      "cell_type": "code",
      "metadata": {
        "id": "w12kHmPBT8Cz"
      },
      "source": [
        "# aggregating interaction data into levels\n",
        "group_df_pre = train_webdata.groupby(by=['ip', 'rexUrl']).agg(scroll_ct = ('action',lambda x: sum(x==\"scroll\")),\n",
        "                                                   pageview_ct = ('action',lambda x: sum(x==\"pageview\")),\n",
        "                                                   viewcontent_ct = ('action',lambda x: sum(x=='ViewContent')),\n",
        "                                                   view_item_ct = ('action',lambda x: sum(x=='view_item')),\n",
        "                                                   drag_ct = ('action',lambda x: sum(x=='drag')),\n",
        "                                                   click_ct = ('action',lambda x: sum(x=='click')),\n",
        "                                                   level0_ct = ('action', lambda x: sum(np.isin(x, special_actions_level0))),\n",
        "                                                   level1_ct = ('action', lambda x: sum(np.isin(x, special_actions_level1))),\n",
        "                                                   level2_ct = ('action', lambda x: sum(np.isin(x, special_actions_level2))),\n",
        "                                                   level3_ct = ('action', lambda x: sum(np.isin(x, special_actions_level3))))"
      ],
      "execution_count": null,
      "outputs": []
    },
    {
      "cell_type": "code",
      "metadata": {
        "id": "YDeUQAkEUIAK"
      },
      "source": [
        "# Define intent score calculation\n",
        "def calculate_score(row):\n",
        "  curr_score = 0\n",
        "  for i in range(4):\n",
        "    curr_weight = 1/level_weights[i]\n",
        "    curr_score += row[f'level{i}_ct']*curr_weight\n",
        "  return np.clip(curr_score,0,6)\n",
        "  # return np.ceil(np.clip(curr_score,0,6))\n",
        "\n",
        "group_df_pre['score'] = group_df_pre.apply(lambda x: calculate_score(x), axis=1)\n",
        "\n",
        "## input for CF model\n",
        "df_grp = group_df_pre.reset_index()[['ip', 'rexUrl','score']]"
      ],
      "execution_count": null,
      "outputs": []
    },
    {
      "cell_type": "code",
      "metadata": {
        "colab": {
          "base_uri": "https://localhost:8080/"
        },
        "id": "vE79zpsFUa3T",
        "outputId": "0ebe651a-2fd7-4097-b841-038d939c4b9a"
      },
      "source": [
        "print(df_grp.shape)\n",
        "print(train_la.shape)"
      ],
      "execution_count": null,
      "outputs": [
        {
          "output_type": "stream",
          "text": [
            "(51060, 3)\n",
            "(51060, 2)\n"
          ],
          "name": "stdout"
        }
      ]
    },
    {
      "cell_type": "code",
      "metadata": {
        "colab": {
          "base_uri": "https://localhost:8080/",
          "height": 294
        },
        "id": "TYYcVx0nfhtY",
        "outputId": "d501ac95-39e0-45ee-a76e-fa3b59a8123e"
      },
      "source": [
        "plt.hist(df_grp.score)\n",
        "plt.title('Score Distribution')\n",
        "plt.yscale('log')\n",
        "plt.xlabel('User-Listing Intent Score')\n",
        "plt.ylabel('User-Listing Intent Frequency')\n",
        "plt.show()"
      ],
      "execution_count": null,
      "outputs": [
        {
          "output_type": "display_data",
          "data": {
            "image/png": "[encoded data removed]",
            "text/plain": [
              "<Figure size 432x288 with 1 Axes>"
            ]
          },
          "metadata": {
            "tags": [],
            "needs_background": "light"
          }
        }
      ]
    },
    {
      "cell_type": "markdown",
      "metadata": {
        "id": "Bx9LbCM_UknK"
      },
      "source": [
        "### CF Modeling using `surprise` package"
      ]
    },
    {
      "cell_type": "code",
      "metadata": {
        "colab": {
          "base_uri": "https://localhost:8080/"
        },
        "id": "84rXYYtxpEox",
        "outputId": "ccce3959-297f-4378-eb4a-668500417dd4"
      },
      "source": [
        "! pip install surprise"
      ],
      "execution_count": null,
      "outputs": [
        {
          "output_type": "stream",
          "text": [
            "Collecting surprise\n",
            "  Downloading https://files.pythonhosted.org/packages/61/de/e5cba8682201fcf9c3719a6fdda95693468ed061945493dea2dd37c5618b/surprise-0.1-py2.py3-none-any.whl\n",
            "Collecting scikit-surprise\n",
            "\u001b[?25l  Downloading https://files.pythonhosted.org/packages/97/37/5d334adaf5ddd65da99fc65f6507e0e4599d092ba048f4302fe8775619e8/scikit-surprise-1.1.1.tar.gz (11.8MB)\n",
            "\u001b[K     |████████████████████████████████| 11.8MB 6.7MB/s \n",
            "\u001b[?25hRequirement already satisfied: joblib>=0.11 in /usr/local/lib/python3.6/dist-packages (from scikit-surprise->surprise) (0.17.0)\n",
            "Requirement already satisfied: numpy>=1.11.2 in /usr/local/lib/python3.6/dist-packages (from scikit-surprise->surprise) (1.18.5)\n",
            "Requirement already satisfied: scipy>=1.0.0 in /usr/local/lib/python3.6/dist-packages (from scikit-surprise->surprise) (1.4.1)\n",
            "Requirement already satisfied: six>=1.10.0 in /usr/local/lib/python3.6/dist-packages (from scikit-surprise->surprise) (1.15.0)\n",
            "Building wheels for collected packages: scikit-surprise\n",
            "  Building wheel for scikit-surprise (setup.py) ... \u001b[?25l\u001b[?25hdone\n",
            "  Created wheel for scikit-surprise: filename=scikit_surprise-1.1.1-cp36-cp36m-linux_x86_64.whl size=1670929 sha256=587ab238c5ee770614262e12299bebc0603a94a6f84250a7cdca174b0a91d5cd\n",
            "  Stored in directory: /root/.cache/pip/wheels/78/9c/3d/41b419c9d2aff5b6e2b4c0fc8d25c538202834058f9ed110d0\n",
            "Successfully built scikit-surprise\n",
            "Installing collected packages: scikit-surprise, surprise\n",
            "Successfully installed scikit-surprise-1.1.1 surprise-0.1\n"
          ],
          "name": "stdout"
        }
      ]
    },
    {
      "cell_type": "code",
      "metadata": {
        "id": "oOcxDzG3pGhd"
      },
      "source": [
        "import surprise\n",
        "from surprise import Reader, Dataset\n",
        "from surprise import SVD\n",
        "from surprise import NMF\n",
        "from surprise import Dataset\n",
        "from surprise import accuracy\n",
        "\n",
        "\n",
        "from surprise.model_selection import train_test_split\n",
        "from surprise.model_selection import KFold"
      ],
      "execution_count": null,
      "outputs": []
    },
    {
      "cell_type": "code",
      "metadata": {
        "id": "DU9VQLV6pmRf"
      },
      "source": [
        "from collections import defaultdict\n",
        "\n",
        "from surprise import SVD\n",
        "from surprise import Dataset\n",
        "\n",
        "# implementation adapted from https://surprise.readthedocs.io/en/stable/FAQ.html\n",
        "\n",
        "def get_top_n(predictions, n=10):\n",
        "    \"\"\"Return the top-N recommendation for each user from a set of predictions.\n",
        "\n",
        "    Args:\n",
        "        predictions(list of Prediction objects): The list of predictions, as\n",
        "            returned by the test method of an algorithm.\n",
        "        n(int): The number of recommendation to output for each user. Default\n",
        "            is 10.\n",
        "\n",
        "    Returns:\n",
        "    A dict where keys are user (raw) ids and values are lists of tuples:\n",
        "        [(raw item id, rating estimation), ...] of size n.\n",
        "    \"\"\"\n",
        "\n",
        "    # First map the predictions to each user.\n",
        "    top_n = defaultdict(list)\n",
        "    for uid, iid, true_r, est, _ in predictions:\n",
        "        top_n[uid].append((iid, est))\n",
        "\n",
        "    # Then sort the predictions for each user and retrieve the k highest ones.\n",
        "    for uid, user_ratings in top_n.items():\n",
        "      ratings = pd.DataFrame(user_ratings,columns=['listing','score'])\n",
        "      ratings.sort_values('score',ascending=False,inplace=True)\n",
        "      ratings['rnk'] = ratings['score'].rank(method='dense',ascending=False)\n",
        "\n",
        "      top_n_ratings = ratings[ratings.rnk<=10].copy()\n",
        "      top_n_ratings = top_n_ratings.sample(frac=1, random_state=297)\n",
        "\n",
        "      topratings_list = top_n_ratings.head(n)[['listing','score']].values.tolist()\n",
        "\n",
        "      top_n[uid] = [tuple(x) for x in topratings_list]\n",
        "      \n",
        "      # display(ratings)\n",
        "      # user_ratings.sort(key=lambda x: x[1], reverse=True)\n",
        "      # print(user_ratings)\n",
        "      # top_n[uid] = user_ratings[:n]\n",
        "\n",
        "    return top_n"
      ],
      "execution_count": null,
      "outputs": []
    },
    {
      "cell_type": "markdown",
      "metadata": {
        "id": "by6wx1nThTIv"
      },
      "source": [
        "## Modeling"
      ]
    },
    {
      "cell_type": "markdown",
      "metadata": {
        "id": "BBU64uyhvx2V"
      },
      "source": [
        "## Finding seen test-set listings on given temporally split train data"
      ]
    },
    {
      "cell_type": "code",
      "metadata": {
        "id": "GCaXVL7SpRV9"
      },
      "source": [
        "trainset = df_grp.copy()\n",
        "\n",
        "testset = test_la.copy()"
      ],
      "execution_count": null,
      "outputs": []
    },
    {
      "cell_type": "code",
      "metadata": {
        "id": "JwfYaL3Qgg6C"
      },
      "source": [
        "#Setup train set in correct format for surprise\n",
        "reader = Reader(rating_scale=(0, 1))\n",
        "\n",
        "collab_filter_train = pd.DataFrame({'itemID': list(trainset.rexUrl),\n",
        "                                    'userID': list(trainset.ip),\n",
        "                                    'rating': list(trainset.score)})\n",
        "\n",
        "collab_filter_data = Dataset.load_from_df(collab_filter_train[['userID', 'itemID', 'rating']], reader)\n",
        "collab_filter_temporal_train = collab_filter_data.build_full_trainset()"
      ],
      "execution_count": null,
      "outputs": []
    },
    {
      "cell_type": "markdown",
      "metadata": {
        "id": "GFbURzpyU0_0"
      },
      "source": [
        "### SVD Hyperparameter Search"
      ]
    },
    {
      "cell_type": "code",
      "metadata": {
        "colab": {
          "base_uri": "https://localhost:8080/"
        },
        "id": "rWq_ZbXi4MdN",
        "outputId": "fc2f87ef-bc5b-4ffd-f193-2edbeb784f9e"
      },
      "source": [
        "param_grid = {'n_factors': [90,100,110,120], \n",
        "               'n_epochs': [15,20,25],\n",
        "              'lr_all': [0.006,0.005],\n",
        "              'reg_all': [0.06, 0.05]}\n",
        "\n",
        "\n",
        "gsearch = surprise.model_selection.GridSearchCV(SVD, param_grid, measures=['rmse'], cv=3, n_jobs=-1,joblib_verbose=1)\n",
        "\n",
        "gsearch.fit(collab_filter_data)"
      ],
      "execution_count": null,
      "outputs": [
        {
          "output_type": "stream",
          "text": [
            "[Parallel(n_jobs=-1)]: Using backend LokyBackend with 2 concurrent workers.\n",
            "[Parallel(n_jobs=-1)]: Done  46 tasks      | elapsed:  1.7min\n",
            "[Parallel(n_jobs=-1)]: Done 144 out of 144 | elapsed:  5.7min finished\n"
          ],
          "name": "stderr"
        }
      ]
    },
    {
      "cell_type": "code",
      "metadata": {
        "colab": {
          "base_uri": "https://localhost:8080/",
          "height": 369
        },
        "id": "7FjDjzcSHVJ9",
        "outputId": "f4419ad8-e9e8-4cab-859b-67cadf6cd712"
      },
      "source": [
        "results_df = pd.DataFrame.from_dict(gsearch.cv_results)\n",
        "results_df.sort_values('rank_test_rmse').head(3)"
      ],
      "execution_count": null,
      "outputs": [
        {
          "output_type": "execute_result",
          "data": {
            "text/html": [
              "<div>\n",
              "<style scoped>\n",
              "    .dataframe tbody tr th:only-of-type {\n",
              "        vertical-align: middle;\n",
              "    }\n",
              "\n",
              "    .dataframe tbody tr th {\n",
              "        vertical-align: top;\n",
              "    }\n",
              "\n",
              "    .dataframe thead th {\n",
              "        text-align: right;\n",
              "    }\n",
              "</style>\n",
              "<table border=\"1\" class=\"dataframe\">\n",
              "  <thead>\n",
              "    <tr style=\"text-align: right;\">\n",
              "      <th></th>\n",
              "      <th>split0_test_rmse</th>\n",
              "      <th>split1_test_rmse</th>\n",
              "      <th>split2_test_rmse</th>\n",
              "      <th>mean_test_rmse</th>\n",
              "      <th>std_test_rmse</th>\n",
              "      <th>rank_test_rmse</th>\n",
              "      <th>mean_fit_time</th>\n",
              "      <th>std_fit_time</th>\n",
              "      <th>mean_test_time</th>\n",
              "      <th>std_test_time</th>\n",
              "      <th>params</th>\n",
              "      <th>param_n_factors</th>\n",
              "      <th>param_n_epochs</th>\n",
              "      <th>param_lr_all</th>\n",
              "      <th>param_reg_all</th>\n",
              "    </tr>\n",
              "  </thead>\n",
              "  <tbody>\n",
              "    <tr>\n",
              "      <th>0</th>\n",
              "      <td>0.920913</td>\n",
              "      <td>0.904777</td>\n",
              "      <td>0.914427</td>\n",
              "      <td>0.913372</td>\n",
              "      <td>0.006629</td>\n",
              "      <td>1</td>\n",
              "      <td>3.160858</td>\n",
              "      <td>0.189140</td>\n",
              "      <td>0.277160</td>\n",
              "      <td>0.058547</td>\n",
              "      <td>{'n_factors': 90, 'n_epochs': 15, 'lr_all': 0....</td>\n",
              "      <td>90</td>\n",
              "      <td>15</td>\n",
              "      <td>0.006</td>\n",
              "      <td>0.06</td>\n",
              "    </tr>\n",
              "    <tr>\n",
              "      <th>26</th>\n",
              "      <td>0.922895</td>\n",
              "      <td>0.903311</td>\n",
              "      <td>0.914757</td>\n",
              "      <td>0.913654</td>\n",
              "      <td>0.008033</td>\n",
              "      <td>2</td>\n",
              "      <td>3.562899</td>\n",
              "      <td>0.110904</td>\n",
              "      <td>0.234231</td>\n",
              "      <td>0.090286</td>\n",
              "      <td>{'n_factors': 110, 'n_epochs': 15, 'lr_all': 0...</td>\n",
              "      <td>110</td>\n",
              "      <td>15</td>\n",
              "      <td>0.005</td>\n",
              "      <td>0.06</td>\n",
              "    </tr>\n",
              "    <tr>\n",
              "      <th>2</th>\n",
              "      <td>0.921396</td>\n",
              "      <td>0.903933</td>\n",
              "      <td>0.915733</td>\n",
              "      <td>0.913688</td>\n",
              "      <td>0.007274</td>\n",
              "      <td>3</td>\n",
              "      <td>3.323832</td>\n",
              "      <td>0.304070</td>\n",
              "      <td>0.250485</td>\n",
              "      <td>0.052723</td>\n",
              "      <td>{'n_factors': 90, 'n_epochs': 15, 'lr_all': 0....</td>\n",
              "      <td>90</td>\n",
              "      <td>15</td>\n",
              "      <td>0.005</td>\n",
              "      <td>0.06</td>\n",
              "    </tr>\n",
              "  </tbody>\n",
              "</table>\n",
              "</div>"
            ],
            "text/plain": [
              "    split0_test_rmse  split1_test_rmse  ...  param_lr_all  param_reg_all\n",
              "0           0.920913          0.904777  ...         0.006           0.06\n",
              "26          0.922895          0.903311  ...         0.005           0.06\n",
              "2           0.921396          0.903933  ...         0.005           0.06\n",
              "\n",
              "[3 rows x 15 columns]"
            ]
          },
          "metadata": {
            "tags": []
          },
          "execution_count": 113
        }
      ]
    },
    {
      "cell_type": "markdown",
      "metadata": {
        "id": "Cd2IMTw1U3gR"
      },
      "source": [
        "### Fit Model"
      ]
    },
    {
      "cell_type": "code",
      "metadata": {
        "id": "7_AxUzYboGZy"
      },
      "source": [
        "algo_best = SVD(n_factors=100, n_epochs=20,lr_all=0.006,reg_all=0.05,random_state=297)\n",
        "# algo_best = SVD(n_factors=90, n_epochs=15,lr_all=0.006,reg_all=0.06,random_state=297)\n",
        "\n",
        "algo_best.fit(collab_filter_temporal_train)"
      ],
      "execution_count": null,
      "outputs": []
    },
    {
      "cell_type": "markdown",
      "metadata": {
        "id": "e4dyhxXr2BvP"
      },
      "source": [
        "## Generate Test Set Predictions"
      ]
    },
    {
      "cell_type": "code",
      "metadata": {
        "id": "9byc3H4o2DyS"
      },
      "source": [
        "# Anti-Testset - \"The ratings are all the ratings that are not in the trainset\n",
        "# i.e. all the ratings 𝑟𝑢𝑖 where the user 𝑢 is known, the item 𝑖 is known, but the rating 𝑟𝑢𝑖 is not in the trainset\"\n",
        "\n",
        "\n",
        "# for each user, predict expected score for unseen listings\n",
        "predictions = algo_best.test(collab_filter_temporal_train.build_anti_testset(fill=0))"
      ],
      "execution_count": null,
      "outputs": []
    },
    {
      "cell_type": "markdown",
      "metadata": {
        "id": "Kmrl_VpIhWf5"
      },
      "source": [
        "### Example Case Prediction"
      ]
    },
    {
      "cell_type": "code",
      "metadata": {
        "colab": {
          "base_uri": "https://localhost:8080/",
          "height": 204
        },
        "id": "ben8Mb2KbxPi",
        "outputId": "684996cc-d810-4c9e-c806-fb47b8951ade"
      },
      "source": [
        "# Visualize the training and test set for a random user (note that both are small)\n",
        "testip = '1.129.109.119'\n",
        "display(trainset[trainset.ip==testip])\n",
        "display(testset[testset.ip==testip])"
      ],
      "execution_count": null,
      "outputs": [
        {
          "output_type": "display_data",
          "data": {
            "text/html": [
              "<div>\n",
              "<style scoped>\n",
              "    .dataframe tbody tr th:only-of-type {\n",
              "        vertical-align: middle;\n",
              "    }\n",
              "\n",
              "    .dataframe tbody tr th {\n",
              "        vertical-align: top;\n",
              "    }\n",
              "\n",
              "    .dataframe thead th {\n",
              "        text-align: right;\n",
              "    }\n",
              "</style>\n",
              "<table border=\"1\" class=\"dataframe\">\n",
              "  <thead>\n",
              "    <tr style=\"text-align: right;\">\n",
              "      <th></th>\n",
              "      <th>ip</th>\n",
              "      <th>rexUrl</th>\n",
              "      <th>score</th>\n",
              "    </tr>\n",
              "  </thead>\n",
              "  <tbody>\n",
              "    <tr>\n",
              "      <th>0</th>\n",
              "      <td>1.129.109.119</td>\n",
              "      <td>12401-moorpark-st-unit-201-studio-city</td>\n",
              "      <td>1.0</td>\n",
              "    </tr>\n",
              "    <tr>\n",
              "      <th>1</th>\n",
              "      <td>1.129.109.119</td>\n",
              "      <td>15819-golden-lantern-ln</td>\n",
              "      <td>1.0</td>\n",
              "    </tr>\n",
              "    <tr>\n",
              "      <th>2</th>\n",
              "      <td>1.129.109.119</td>\n",
              "      <td>3332-genoa-pl</td>\n",
              "      <td>1.0</td>\n",
              "    </tr>\n",
              "  </tbody>\n",
              "</table>\n",
              "</div>"
            ],
            "text/plain": [
              "              ip                                  rexUrl  score\n",
              "0  1.129.109.119  12401-moorpark-st-unit-201-studio-city    1.0\n",
              "1  1.129.109.119                 15819-golden-lantern-ln    1.0\n",
              "2  1.129.109.119                           3332-genoa-pl    1.0"
            ]
          },
          "metadata": {
            "tags": []
          }
        },
        {
          "output_type": "display_data",
          "data": {
            "text/html": [
              "<div>\n",
              "<style scoped>\n",
              "    .dataframe tbody tr th:only-of-type {\n",
              "        vertical-align: middle;\n",
              "    }\n",
              "\n",
              "    .dataframe tbody tr th {\n",
              "        vertical-align: top;\n",
              "    }\n",
              "\n",
              "    .dataframe thead th {\n",
              "        text-align: right;\n",
              "    }\n",
              "</style>\n",
              "<table border=\"1\" class=\"dataframe\">\n",
              "  <thead>\n",
              "    <tr style=\"text-align: right;\">\n",
              "      <th></th>\n",
              "      <th>ip</th>\n",
              "      <th>rexUrl</th>\n",
              "    </tr>\n",
              "  </thead>\n",
              "  <tbody>\n",
              "    <tr>\n",
              "      <th>11</th>\n",
              "      <td>1.129.109.119</td>\n",
              "      <td>22127-buena-ventura-st</td>\n",
              "    </tr>\n",
              "  </tbody>\n",
              "</table>\n",
              "</div>"
            ],
            "text/plain": [
              "               ip                  rexUrl\n",
              "11  1.129.109.119  22127-buena-ventura-st"
            ]
          },
          "metadata": {
            "tags": []
          }
        }
      ]
    },
    {
      "cell_type": "code",
      "metadata": {
        "colab": {
          "base_uri": "https://localhost:8080/"
        },
        "id": "7-w-I1c_jd7K",
        "outputId": "5af02f21-c24a-463e-9a30-685a217a381c"
      },
      "source": [
        "# Extract top 10 predictions for this user (given trainset)\n",
        "# we can see that the top 10 do not include the true test set listing visited\n",
        "thistop10 = get_top_n(predictions, n=10)\n",
        "thistop10[testip]"
      ],
      "execution_count": null,
      "outputs": [
        {
          "output_type": "execute_result",
          "data": {
            "text/plain": [
              "[('23009-alexandria-ave', 1.0),\n",
              " ('1112-summertime-ln', 1.0),\n",
              " ('14919-cadillac-ct', 1.0),\n",
              " ('2807-burkshire-ave', 1.0),\n",
              " ('14833-canna-valley-st', 1.0),\n",
              " ('10115-collett-ave', 1.0),\n",
              " ('4807-beck-ave-unit-16', 1.0),\n",
              " ('16940-labrador-st', 1.0),\n",
              " ('4746-blackrock-ave', 1.0),\n",
              " ('2223-w-152nd-st', 1.0)]"
            ]
          },
          "metadata": {
            "tags": []
          },
          "execution_count": 88
        }
      ]
    },
    {
      "cell_type": "markdown",
      "metadata": {
        "id": "YtRpmsIuham3"
      },
      "source": [
        "### Model Eval : Precision/Recall calculations"
      ]
    },
    {
      "cell_type": "code",
      "metadata": {
        "id": "Dl0DzaRvYK3N"
      },
      "source": [
        "def precision_recall_at_k(k_in):\n",
        "  top_k = get_top_n(predictions, n=k_in)\n",
        "\n",
        "  recall_results = {}\n",
        "  precision_results = {}\n",
        "\n",
        "  for ip_curr in trainset.ip.unique():\n",
        "    top_k_for_ip_curr = pd.DataFrame(top_k[ip_curr],columns=['rexUrl','score'])\n",
        "    \n",
        "    # Recommended items\n",
        "    recommended_at_k = top_k_for_ip_curr[top_k_for_ip_curr.score>0.5].rexUrl.values\n",
        "\n",
        "    #Possible Relevant items\n",
        "    #Get true temporally held out listings for that user\n",
        "    true_for_ip_curr = testset[testset.ip==ip_curr].rexUrl.values\n",
        "\n",
        "    # Recommendations that are relevant\n",
        "    # find overlap\n",
        "    correctly_found_ip_curr = list(set(recommended_at_k) & set(true_for_ip_curr))\n",
        "\n",
        "\n",
        "    recall_results[ip_curr] = len(correctly_found_ip_curr)/len(true_for_ip_curr)\n",
        "    precision_results[ip_curr] = len(correctly_found_ip_curr)/len(recommended_at_k)\n",
        "\n",
        "  return recall_results, precision_results"
      ],
      "execution_count": null,
      "outputs": []
    },
    {
      "cell_type": "markdown",
      "metadata": {
        "id": "hgD671pGxiHL"
      },
      "source": [
        "10"
      ]
    },
    {
      "cell_type": "code",
      "metadata": {
        "id": "yh2cB1w3tgGA"
      },
      "source": [
        "recall_results_10, precision_results_10 = precision_recall_at_k(10)"
      ],
      "execution_count": null,
      "outputs": []
    },
    {
      "cell_type": "code",
      "metadata": {
        "colab": {
          "base_uri": "https://localhost:8080/"
        },
        "id": "Ky3xSVQHvg8c",
        "outputId": "cf60ffc9-ec84-415c-e5dd-9f4a89f074b2"
      },
      "source": [
        "# non ceil\n",
        "print('precision@10: ', np.round(100*np.mean(list(precision_results_10.values())),2), '%')\n",
        "print('recall@10: ', np.round(100*np.mean(list(recall_results_10.values())),2), '%')"
      ],
      "execution_count": null,
      "outputs": [
        {
          "output_type": "stream",
          "text": [
            "precision@10:  0.54 %\n",
            "recall@10:  2.78 %\n"
          ],
          "name": "stdout"
        }
      ]
    },
    {
      "cell_type": "markdown",
      "metadata": {
        "id": "dtjEeBd9xjAJ"
      },
      "source": [
        "20"
      ]
    },
    {
      "cell_type": "code",
      "metadata": {
        "id": "WsPiXblptrBC"
      },
      "source": [
        "recall_results_20, precision_results_20 = precision_recall_at_k(20)"
      ],
      "execution_count": null,
      "outputs": []
    },
    {
      "cell_type": "code",
      "metadata": {
        "colab": {
          "base_uri": "https://localhost:8080/"
        },
        "id": "vKlmEVXKgA5V",
        "outputId": "d24a88b2-9bba-4c0e-9fff-fb713a97761a"
      },
      "source": [
        "# non ceil\n",
        "print('precision@20: ', np.round(100*np.mean(list(precision_results_20.values())),2), '%')\n",
        "print('recall@20: ', np.round(100*np.mean(list(recall_results_20.values())),2), '%')"
      ],
      "execution_count": null,
      "outputs": [
        {
          "output_type": "stream",
          "text": [
            "precision@20:  0.54 %\n",
            "recall@20:  3.64 %\n"
          ],
          "name": "stdout"
        }
      ]
    },
    {
      "cell_type": "markdown",
      "metadata": {
        "id": "lwkgVDIZxjrx"
      },
      "source": [
        "30"
      ]
    },
    {
      "cell_type": "code",
      "metadata": {
        "id": "gfcOKkwqtrUj"
      },
      "source": [
        "recall_results_30, precision_results_30 = precision_recall_at_k(30)"
      ],
      "execution_count": null,
      "outputs": []
    },
    {
      "cell_type": "code",
      "metadata": {
        "colab": {
          "base_uri": "https://localhost:8080/"
        },
        "id": "DyDO8aZ9gC6v",
        "outputId": "f8349438-183d-4fd8-fee3-4856d9c0ee4d"
      },
      "source": [
        "# non ceil\n",
        "print('precision@30: ', np.round(100*np.mean(list(precision_results_30.values())),2), '%')\n",
        "print('recall@30: ', np.round(100*np.mean(list(recall_results_30.values())),2), '%')"
      ],
      "execution_count": null,
      "outputs": [
        {
          "output_type": "stream",
          "text": [
            "precision@30:  0.54 %\n",
            "recall@30:  4.02 %\n"
          ],
          "name": "stdout"
        }
      ]
    },
    {
      "cell_type": "markdown",
      "metadata": {
        "id": "gdsK5DqFxkaJ"
      },
      "source": [
        "All"
      ]
    },
    {
      "cell_type": "code",
      "metadata": {
        "id": "Ndrjoj0ntsH7"
      },
      "source": [
        "recall_results_all, precision_results_all = precision_recall_at_k(500)"
      ],
      "execution_count": null,
      "outputs": []
    },
    {
      "cell_type": "code",
      "metadata": {
        "colab": {
          "base_uri": "https://localhost:8080/"
        },
        "id": "lFcPjq-ht8yJ",
        "outputId": "976a6b5b-b271-4aa1-8b31-3e3307cfe401"
      },
      "source": [
        "# non ceil\n",
        "print('precision all: ', np.round(100*np.mean(list(precision_results_all.values())),2), '%')\n",
        "print('recall all: ', np.round(100*np.mean(list(recall_results_all.values())),2), '%')"
      ],
      "execution_count": null,
      "outputs": [
        {
          "output_type": "stream",
          "text": [
            "precision all:  0.54 %\n",
            "recall all:  7.53 %\n"
          ],
          "name": "stdout"
        }
      ]
    },
    {
      "cell_type": "markdown",
      "metadata": {
        "id": "u62bcFKhvH4o"
      },
      "source": [
        "## Prediction Probability distribution\n",
        "We can see with this method that SVD reconstruction had a very skewed distribution, predicting mostly 1s"
      ]
    },
    {
      "cell_type": "code",
      "metadata": {
        "id": "MEV5NTX0uVcO"
      },
      "source": [
        "predictions_est = [x[3] for x in predictions]"
      ],
      "execution_count": null,
      "outputs": []
    },
    {
      "cell_type": "code",
      "metadata": {
        "colab": {
          "base_uri": "https://localhost:8080/",
          "height": 276
        },
        "id": "73eNGdnavCgE",
        "outputId": "d5917020-d600-472b-c50f-03e6b2de45ae"
      },
      "source": [
        "plt.hist(predictions_est)\n",
        "plt.show()"
      ],
      "execution_count": null,
      "outputs": [
        {
          "output_type": "display_data",
          "data": {
            "image/png": "[encoded data removed]",
            "text/plain": [
              "<Figure size 432x288 with 1 Axes>"
            ]
          },
          "metadata": {
            "tags": []
          }
        }
      ]
    },
    {
      "cell_type": "markdown",
      "metadata": {
        "id": "og_itUiS-dwP"
      },
      "source": [
        "##Case"
      ]
    },
    {
      "cell_type": "code",
      "metadata": {
        "id": "z2VWDVWx93Jh"
      },
      "source": [
        "iptest = '104.173.187.33'\n",
        "\n",
        "top_k = get_top_n(predictions, n=10)\n",
        "top_k_for_ip_curr = pd.DataFrame(top_k[iptest],columns=['rexUrl','score'])\n",
        "\n",
        "# Recommended items\n",
        "recommended_at_k = top_k_for_ip_curr[top_k_for_ip_curr.score>0.5].rexUrl.values\n",
        "\n",
        "#Possible Relevant items\n",
        "#Get true temporally held out listings for that user\n",
        "true_for_ip_curr = testset[testset.ip==iptest].rexUrl.values"
      ],
      "execution_count": null,
      "outputs": []
    },
    {
      "cell_type": "code",
      "metadata": {
        "colab": {
          "base_uri": "https://localhost:8080/"
        },
        "id": "u_-pez6k_BxS",
        "outputId": "237c56c6-7f4b-4691-b4b9-0b7a80104fef"
      },
      "source": [
        "true_for_ip_curr"
      ],
      "execution_count": null,
      "outputs": [
        {
          "output_type": "execute_result",
          "data": {
            "text/plain": [
              "array(['22718-figueroa-st-unit-21', '3591-soledad-canyon-rd',\n",
              "       '6345-colbath-ave'], dtype=object)"
            ]
          },
          "metadata": {
            "tags": []
          },
          "execution_count": 29
        }
      ]
    },
    {
      "cell_type": "code",
      "metadata": {
        "colab": {
          "base_uri": "https://localhost:8080/"
        },
        "id": "spPn44am_JfJ",
        "outputId": "d4d99cc3-48fd-4571-c4d1-0cfbb1f34dc4"
      },
      "source": [
        "# Check, was one of these true test set listings in the top 10 recs?\n",
        "'6345-colbath-ave' in recommended_at_k"
      ],
      "execution_count": null,
      "outputs": [
        {
          "output_type": "execute_result",
          "data": {
            "text/plain": [
              "False"
            ]
          },
          "metadata": {
            "tags": []
          },
          "execution_count": 32
        }
      ]
    },
    {
      "cell_type": "code",
      "metadata": {
        "id": "wUUv-Ivi_aqa"
      },
      "source": [
        "# pull off the listing names of top 10 recommendations PLUS one of the true test set listings\n",
        "top10recs_case = list(recommended_at_k[:9])\n",
        "top10recs_case.append(recommended_at_k[np.argwhere(np.array(recommended_at_k)=='3591-soledad-canyon-rd')[0][0]])"
      ],
      "execution_count": null,
      "outputs": []
    },
    {
      "cell_type": "code",
      "metadata": {
        "id": "bcsxXnDV-ONx"
      },
      "source": [
        "# read in listing data to visualize the listings\n",
        "listing_data = pd.read_pickle('LOG_siamese_data_11_12.pkl')\n",
        "\n",
        "toprecs_case = pd.DataFrame({'rexUrl':top10recs_case})\n",
        "toprecs_case = toprecs_case.merge(listing_data,left_on='rexUrl',right_on='rex_url',how='left')\n",
        "toprecs_case['sqft'] = np.exp(toprecs_case['log_sqft']).map('{:,.0f}'.format)\n",
        "toprecs_case['price'] = np.exp(toprecs_case['log_price']).map('{:,.0f}'.format)\n",
        "toprecs_case['total_rooms'] = np.exp(toprecs_case['log_total_rooms'])"
      ],
      "execution_count": null,
      "outputs": []
    },
    {
      "cell_type": "code",
      "metadata": {
        "colab": {
          "base_uri": "https://localhost:8080/",
          "height": 331
        },
        "id": "E_yb0axb-64G",
        "outputId": "9afc58ae-3a86-4572-b867-843e4a9ae7c9"
      },
      "source": [
        "# relevant features to visualize\n",
        "cols = ['rex_url','sqft','price','bedrooms','total_rooms','full_baths','is_apt']\n",
        "\n",
        "toprecs_case[cols]"
      ],
      "execution_count": null,
      "outputs": [
        {
          "output_type": "execute_result",
          "data": {
            "text/html": [
              "<div>\n",
              "<style scoped>\n",
              "    .dataframe tbody tr th:only-of-type {\n",
              "        vertical-align: middle;\n",
              "    }\n",
              "\n",
              "    .dataframe tbody tr th {\n",
              "        vertical-align: top;\n",
              "    }\n",
              "\n",
              "    .dataframe thead th {\n",
              "        text-align: right;\n",
              "    }\n",
              "</style>\n",
              "<table border=\"1\" class=\"dataframe\">\n",
              "  <thead>\n",
              "    <tr style=\"text-align: right;\">\n",
              "      <th></th>\n",
              "      <th>rex_url</th>\n",
              "      <th>sqft</th>\n",
              "      <th>price</th>\n",
              "      <th>bedrooms</th>\n",
              "      <th>total_rooms</th>\n",
              "      <th>full_baths</th>\n",
              "      <th>is_apt</th>\n",
              "    </tr>\n",
              "  </thead>\n",
              "  <tbody>\n",
              "    <tr>\n",
              "      <th>0</th>\n",
              "      <td>1435-w-146th-st-apt-202</td>\n",
              "      <td>1,028</td>\n",
              "      <td>370,000</td>\n",
              "      <td>2.0</td>\n",
              "      <td>4.0</td>\n",
              "      <td>2.0</td>\n",
              "      <td>1.0</td>\n",
              "    </tr>\n",
              "    <tr>\n",
              "      <th>1</th>\n",
              "      <td>10419-bellder-dr</td>\n",
              "      <td>7,370</td>\n",
              "      <td>2,600,000</td>\n",
              "      <td>6.0</td>\n",
              "      <td>6.0</td>\n",
              "      <td>7.0</td>\n",
              "      <td>0.0</td>\n",
              "    </tr>\n",
              "    <tr>\n",
              "      <th>2</th>\n",
              "      <td>5850-ernest-ave</td>\n",
              "      <td>1,902</td>\n",
              "      <td>1,175,000</td>\n",
              "      <td>4.0</td>\n",
              "      <td>5.0</td>\n",
              "      <td>4.0</td>\n",
              "      <td>0.0</td>\n",
              "    </tr>\n",
              "    <tr>\n",
              "      <th>3</th>\n",
              "      <td>11473-killion-st</td>\n",
              "      <td>3,358</td>\n",
              "      <td>1,200,000</td>\n",
              "      <td>8.0</td>\n",
              "      <td>6.0</td>\n",
              "      <td>4.0</td>\n",
              "      <td>0.0</td>\n",
              "    </tr>\n",
              "    <tr>\n",
              "      <th>4</th>\n",
              "      <td>21314-nandina-ln-unit-202</td>\n",
              "      <td>943</td>\n",
              "      <td>326,531</td>\n",
              "      <td>2.0</td>\n",
              "      <td>5.0</td>\n",
              "      <td>2.0</td>\n",
              "      <td>1.0</td>\n",
              "    </tr>\n",
              "    <tr>\n",
              "      <th>5</th>\n",
              "      <td>746-n-eucalyptus-ave-apt-21</td>\n",
              "      <td>1,045</td>\n",
              "      <td>367,000</td>\n",
              "      <td>2.0</td>\n",
              "      <td>4.0</td>\n",
              "      <td>2.0</td>\n",
              "      <td>1.0</td>\n",
              "    </tr>\n",
              "    <tr>\n",
              "      <th>6</th>\n",
              "      <td>24718-via-kostas</td>\n",
              "      <td>2,425</td>\n",
              "      <td>879,000</td>\n",
              "      <td>3.0</td>\n",
              "      <td>8.0</td>\n",
              "      <td>3.0</td>\n",
              "      <td>0.0</td>\n",
              "    </tr>\n",
              "    <tr>\n",
              "      <th>7</th>\n",
              "      <td>15622-nahin-ln</td>\n",
              "      <td>3,619</td>\n",
              "      <td>694,950</td>\n",
              "      <td>5.0</td>\n",
              "      <td>13.0</td>\n",
              "      <td>4.0</td>\n",
              "      <td>0.0</td>\n",
              "    </tr>\n",
              "    <tr>\n",
              "      <th>8</th>\n",
              "      <td>11218-camarillo-st-apt-104</td>\n",
              "      <td>1,860</td>\n",
              "      <td>619,000</td>\n",
              "      <td>3.0</td>\n",
              "      <td>6.0</td>\n",
              "      <td>3.0</td>\n",
              "      <td>1.0</td>\n",
              "    </tr>\n",
              "    <tr>\n",
              "      <th>9</th>\n",
              "      <td>3591-soledad-canyon-rd</td>\n",
              "      <td>1,680</td>\n",
              "      <td>575,000</td>\n",
              "      <td>3.0</td>\n",
              "      <td>7.0</td>\n",
              "      <td>2.0</td>\n",
              "      <td>0.0</td>\n",
              "    </tr>\n",
              "  </tbody>\n",
              "</table>\n",
              "</div>"
            ],
            "text/plain": [
              "                       rex_url   sqft  ... full_baths  is_apt\n",
              "0      1435-w-146th-st-apt-202  1,028  ...        2.0     1.0\n",
              "1             10419-bellder-dr  7,370  ...        7.0     0.0\n",
              "2              5850-ernest-ave  1,902  ...        4.0     0.0\n",
              "3             11473-killion-st  3,358  ...        4.0     0.0\n",
              "4    21314-nandina-ln-unit-202    943  ...        2.0     1.0\n",
              "5  746-n-eucalyptus-ave-apt-21  1,045  ...        2.0     1.0\n",
              "6             24718-via-kostas  2,425  ...        3.0     0.0\n",
              "7               15622-nahin-ln  3,619  ...        4.0     0.0\n",
              "8   11218-camarillo-st-apt-104  1,860  ...        3.0     1.0\n",
              "9       3591-soledad-canyon-rd  1,680  ...        2.0     0.0\n",
              "\n",
              "[10 rows x 7 columns]"
            ]
          },
          "metadata": {
            "tags": []
          },
          "execution_count": 41
        }
      ]
    },
    {
      "cell_type": "markdown",
      "metadata": {
        "id": "ahxIpjuP4vrf"
      },
      "source": [
        "Unfortunately, even though the test set listing (at the bottom) was not completely different from some of the other listings in the top 10, it was likely not included in \"top 10\" since most predictions were 1 to begin with. "
      ]
    },
    {
      "cell_type": "markdown",
      "metadata": {
        "id": "pWx_1Aov5G7R"
      },
      "source": [
        "---"
      ]
    },
    {
      "cell_type": "markdown",
      "metadata": {
        "id": "Zy8gdFC21O23"
      },
      "source": [
        "### User Study\n",
        "Making all combinations of recommendations to present in the user study"
      ]
    },
    {
      "cell_type": "code",
      "metadata": {
        "id": "xM1fzcl-184A"
      },
      "source": [
        "from itertools import combinations \n",
        "user_testing_listings = ['840-e-green-st-unit-224', '175-sequoia-dr', '1245-cordova-st-unit-301', '18726-vista-del-canon-unit-e','2727-manning-ave','2022-delaware-ave-apt-4']\n",
        "possible_combos_tuple = list(combinations(user_testing_listings, 3))\n",
        "possible_combos = [list(i) for i in possible_combos_tuple]"
      ],
      "execution_count": null,
      "outputs": []
    },
    {
      "cell_type": "code",
      "metadata": {
        "id": "k-J81s0c2HkI"
      },
      "source": [
        "#generate psuedo userid/ip for \"users\" for each combination of 3 of the 6 options\n",
        "new_user_ips = []\n",
        "for p in possible_combos:\n",
        "  new_user_ips.append(''.join([str(np.argwhere(np.array(user_testing_listings)==i)[0][0]+1) for i in list(p)]))"
      ],
      "execution_count": null,
      "outputs": []
    },
    {
      "cell_type": "code",
      "metadata": {
        "colab": {
          "base_uri": "https://localhost:8080/",
          "height": 202
        },
        "id": "sVeyeKuO2Yqr",
        "outputId": "011e34e4-8c3d-4ef5-d1bc-02fa880c107d"
      },
      "source": [
        "# put together new users in the trainset format, and set the score they have with the listings to be median score\n",
        "new_user_test = pd.DataFrame({'ip':new_user_ips,'rexUrl':list(possible_combos),'score':trainset.score.median()}).explode('rexUrl')\n",
        "new_user_test.head()"
      ],
      "execution_count": null,
      "outputs": [
        {
          "output_type": "execute_result",
          "data": {
            "text/html": [
              "<div>\n",
              "<style scoped>\n",
              "    .dataframe tbody tr th:only-of-type {\n",
              "        vertical-align: middle;\n",
              "    }\n",
              "\n",
              "    .dataframe tbody tr th {\n",
              "        vertical-align: top;\n",
              "    }\n",
              "\n",
              "    .dataframe thead th {\n",
              "        text-align: right;\n",
              "    }\n",
              "</style>\n",
              "<table border=\"1\" class=\"dataframe\">\n",
              "  <thead>\n",
              "    <tr style=\"text-align: right;\">\n",
              "      <th></th>\n",
              "      <th>ip</th>\n",
              "      <th>rexUrl</th>\n",
              "      <th>score</th>\n",
              "    </tr>\n",
              "  </thead>\n",
              "  <tbody>\n",
              "    <tr>\n",
              "      <th>0</th>\n",
              "      <td>123</td>\n",
              "      <td>840-e-green-st-unit-224</td>\n",
              "      <td>0.2314</td>\n",
              "    </tr>\n",
              "    <tr>\n",
              "      <th>0</th>\n",
              "      <td>123</td>\n",
              "      <td>175-sequoia-dr</td>\n",
              "      <td>0.2314</td>\n",
              "    </tr>\n",
              "    <tr>\n",
              "      <th>0</th>\n",
              "      <td>123</td>\n",
              "      <td>1245-cordova-st-unit-301</td>\n",
              "      <td>0.2314</td>\n",
              "    </tr>\n",
              "    <tr>\n",
              "      <th>1</th>\n",
              "      <td>124</td>\n",
              "      <td>840-e-green-st-unit-224</td>\n",
              "      <td>0.2314</td>\n",
              "    </tr>\n",
              "    <tr>\n",
              "      <th>1</th>\n",
              "      <td>124</td>\n",
              "      <td>175-sequoia-dr</td>\n",
              "      <td>0.2314</td>\n",
              "    </tr>\n",
              "  </tbody>\n",
              "</table>\n",
              "</div>"
            ],
            "text/plain": [
              "    ip                    rexUrl   score\n",
              "0  123   840-e-green-st-unit-224  0.2314\n",
              "0  123            175-sequoia-dr  0.2314\n",
              "0  123  1245-cordova-st-unit-301  0.2314\n",
              "1  124   840-e-green-st-unit-224  0.2314\n",
              "1  124            175-sequoia-dr  0.2314"
            ]
          },
          "metadata": {
            "tags": []
          },
          "execution_count": 82
        }
      ]
    },
    {
      "cell_type": "code",
      "metadata": {
        "id": "502GHYMl5KEi"
      },
      "source": [
        "# Add these new \"users\" who have seen the 3 selected listings to the main trainset\n",
        "user_train_new = pd.concat([trainset,new_user_test],axis=0)"
      ],
      "execution_count": null,
      "outputs": []
    },
    {
      "cell_type": "code",
      "metadata": {
        "id": "M43IsfdI_v9T"
      },
      "source": [
        "# build the new trainset in surprise format\n",
        "reader = Reader(rating_scale=(0, 1))\n",
        "\n",
        "user_train_new_df = pd.DataFrame({'itemID': list(user_train_new.rexUrl),\n",
        "                                    'userID': list(user_train_new.ip),\n",
        "                                    'rating': list(user_train_new.score)})\n",
        "\n",
        "user_test_data_pre = Dataset.load_from_df(user_train_new_df[['userID', 'itemID', 'rating']], reader)\n",
        "user_test_data = user_test_data_pre.build_full_trainset()"
      ],
      "execution_count": null,
      "outputs": []
    },
    {
      "cell_type": "code",
      "metadata": {
        "id": "yrNNKwF24W5V"
      },
      "source": [
        "# Fit svd on new trainset with user study \"user\" combinations\n",
        "algo_user_test = SVD(n_factors=100, n_epochs=20,lr_all=0.006,reg_all=0.05,random_state=297)\n",
        "\n",
        "algo_user_test.fit(user_test_data)"
      ],
      "execution_count": null,
      "outputs": []
    },
    {
      "cell_type": "code",
      "metadata": {
        "id": "n1HG8Vht6CwF"
      },
      "source": [
        "# Make predictions on all of the unseen listings\n",
        "user_test_preds = algo_user_test.test(user_test_data.build_anti_testset(fill=0))"
      ],
      "execution_count": null,
      "outputs": []
    },
    {
      "cell_type": "code",
      "metadata": {
        "id": "M-ccVSto405Y"
      },
      "source": [
        "# generate top 10 predictions for all users\n",
        "top_10_usertest = get_top_n(user_test_preds, n=10)"
      ],
      "execution_count": null,
      "outputs": []
    },
    {
      "cell_type": "code",
      "metadata": {
        "id": "wLk9us416X8b"
      },
      "source": [
        "# for each of the user study \"user\" combinations, extract top 10 predictions\n",
        "# resort again within top 10 by predicted score, and return top 1 prediction\n",
        "top_1_preds = {}\n",
        "for ip in new_user_ips:\n",
        "  top_10_curr = top_10_usertest[ip]\n",
        "  top_10_curr.sort(key=lambda tup: tup[1],reverse=True)\n",
        "  top_1_preds[ip] = top_10_curr[0][0]"
      ],
      "execution_count": null,
      "outputs": []
    },
    {
      "cell_type": "code",
      "metadata": {
        "colab": {
          "base_uri": "https://localhost:8080/",
          "height": 662
        },
        "id": "qOK3qord42cs",
        "outputId": "fccb5da0-9907-4ca2-eb5c-f0fcddb18ffa"
      },
      "source": [
        "# visualize top 1 prediction for each possible user-study combination\n",
        "pd.DataFrame({'top_pred':top_1_preds.values(),'idx':top_1_preds.keys()},index=possible_combos_tuple)"
      ],
      "execution_count": null,
      "outputs": [
        {
          "output_type": "execute_result",
          "data": {
            "text/html": [
              "<div>\n",
              "<style scoped>\n",
              "    .dataframe tbody tr th:only-of-type {\n",
              "        vertical-align: middle;\n",
              "    }\n",
              "\n",
              "    .dataframe tbody tr th {\n",
              "        vertical-align: top;\n",
              "    }\n",
              "\n",
              "    .dataframe thead th {\n",
              "        text-align: right;\n",
              "    }\n",
              "</style>\n",
              "<table border=\"1\" class=\"dataframe\">\n",
              "  <thead>\n",
              "    <tr style=\"text-align: right;\">\n",
              "      <th></th>\n",
              "      <th>top_pred</th>\n",
              "      <th>idx</th>\n",
              "    </tr>\n",
              "  </thead>\n",
              "  <tbody>\n",
              "    <tr>\n",
              "      <th>(840-e-green-st-unit-224, 175-sequoia-dr, 1245-cordova-st-unit-301)</th>\n",
              "      <td>13200-pacific-promenade-apt-234-playa-vista</td>\n",
              "      <td>123</td>\n",
              "    </tr>\n",
              "    <tr>\n",
              "      <th>(840-e-green-st-unit-224, 175-sequoia-dr, 18726-vista-del-canon-unit-e)</th>\n",
              "      <td>21925-centurion-way</td>\n",
              "      <td>124</td>\n",
              "    </tr>\n",
              "    <tr>\n",
              "      <th>(840-e-green-st-unit-224, 175-sequoia-dr, 2727-manning-ave)</th>\n",
              "      <td>13200-pacific-promenade-apt-234-playa-vista</td>\n",
              "      <td>125</td>\n",
              "    </tr>\n",
              "    <tr>\n",
              "      <th>(840-e-green-st-unit-224, 175-sequoia-dr, 2022-delaware-ave-apt-4)</th>\n",
              "      <td>13200-pacific-promenade-apt-234-playa-vista</td>\n",
              "      <td>126</td>\n",
              "    </tr>\n",
              "    <tr>\n",
              "      <th>(840-e-green-st-unit-224, 1245-cordova-st-unit-301, 18726-vista-del-canon-unit-e)</th>\n",
              "      <td>13200-pacific-promenade-apt-234-playa-vista</td>\n",
              "      <td>134</td>\n",
              "    </tr>\n",
              "    <tr>\n",
              "      <th>(840-e-green-st-unit-224, 1245-cordova-st-unit-301, 2727-manning-ave)</th>\n",
              "      <td>656-w-avenue-j8</td>\n",
              "      <td>135</td>\n",
              "    </tr>\n",
              "    <tr>\n",
              "      <th>(840-e-green-st-unit-224, 1245-cordova-st-unit-301, 2022-delaware-ave-apt-4)</th>\n",
              "      <td>7549-coldwater-canyon-ave</td>\n",
              "      <td>136</td>\n",
              "    </tr>\n",
              "    <tr>\n",
              "      <th>(840-e-green-st-unit-224, 18726-vista-del-canon-unit-e, 2727-manning-ave)</th>\n",
              "      <td>1895-club-dr</td>\n",
              "      <td>145</td>\n",
              "    </tr>\n",
              "    <tr>\n",
              "      <th>(840-e-green-st-unit-224, 18726-vista-del-canon-unit-e, 2022-delaware-ave-apt-4)</th>\n",
              "      <td>7236-amigo-ave-unit-101</td>\n",
              "      <td>146</td>\n",
              "    </tr>\n",
              "    <tr>\n",
              "      <th>(840-e-green-st-unit-224, 2727-manning-ave, 2022-delaware-ave-apt-4)</th>\n",
              "      <td>13200-pacific-promenade-apt-234-playa-vista</td>\n",
              "      <td>156</td>\n",
              "    </tr>\n",
              "    <tr>\n",
              "      <th>(175-sequoia-dr, 1245-cordova-st-unit-301, 18726-vista-del-canon-unit-e)</th>\n",
              "      <td>13200-pacific-promenade-apt-234-playa-vista</td>\n",
              "      <td>234</td>\n",
              "    </tr>\n",
              "    <tr>\n",
              "      <th>(175-sequoia-dr, 1245-cordova-st-unit-301, 2727-manning-ave)</th>\n",
              "      <td>7549-coldwater-canyon-ave</td>\n",
              "      <td>235</td>\n",
              "    </tr>\n",
              "    <tr>\n",
              "      <th>(175-sequoia-dr, 1245-cordova-st-unit-301, 2022-delaware-ave-apt-4)</th>\n",
              "      <td>13200-pacific-promenade-apt-234-playa-vista</td>\n",
              "      <td>236</td>\n",
              "    </tr>\n",
              "    <tr>\n",
              "      <th>(175-sequoia-dr, 18726-vista-del-canon-unit-e, 2727-manning-ave)</th>\n",
              "      <td>13200-pacific-promenade-apt-234-playa-vista</td>\n",
              "      <td>245</td>\n",
              "    </tr>\n",
              "    <tr>\n",
              "      <th>(175-sequoia-dr, 18726-vista-del-canon-unit-e, 2022-delaware-ave-apt-4)</th>\n",
              "      <td>7236-amigo-ave-unit-101</td>\n",
              "      <td>246</td>\n",
              "    </tr>\n",
              "    <tr>\n",
              "      <th>(175-sequoia-dr, 2727-manning-ave, 2022-delaware-ave-apt-4)</th>\n",
              "      <td>7549-coldwater-canyon-ave</td>\n",
              "      <td>256</td>\n",
              "    </tr>\n",
              "    <tr>\n",
              "      <th>(1245-cordova-st-unit-301, 18726-vista-del-canon-unit-e, 2727-manning-ave)</th>\n",
              "      <td>21314-nandina-ln-unit-202</td>\n",
              "      <td>345</td>\n",
              "    </tr>\n",
              "    <tr>\n",
              "      <th>(1245-cordova-st-unit-301, 18726-vista-del-canon-unit-e, 2022-delaware-ave-apt-4)</th>\n",
              "      <td>13200-pacific-promenade-apt-234-playa-vista</td>\n",
              "      <td>346</td>\n",
              "    </tr>\n",
              "    <tr>\n",
              "      <th>(1245-cordova-st-unit-301, 2727-manning-ave, 2022-delaware-ave-apt-4)</th>\n",
              "      <td>18645-hatteras-st-unit-174</td>\n",
              "      <td>356</td>\n",
              "    </tr>\n",
              "    <tr>\n",
              "      <th>(18726-vista-del-canon-unit-e, 2727-manning-ave, 2022-delaware-ave-apt-4)</th>\n",
              "      <td>7549-coldwater-canyon-ave</td>\n",
              "      <td>456</td>\n",
              "    </tr>\n",
              "  </tbody>\n",
              "</table>\n",
              "</div>"
            ],
            "text/plain": [
              "                                                                                       top_pred  idx\n",
              "(840-e-green-st-unit-224, 175-sequoia-dr, 1245-...  13200-pacific-promenade-apt-234-playa-vista  123\n",
              "(840-e-green-st-unit-224, 175-sequoia-dr, 18726...                          21925-centurion-way  124\n",
              "(840-e-green-st-unit-224, 175-sequoia-dr, 2727-...  13200-pacific-promenade-apt-234-playa-vista  125\n",
              "(840-e-green-st-unit-224, 175-sequoia-dr, 2022-...  13200-pacific-promenade-apt-234-playa-vista  126\n",
              "(840-e-green-st-unit-224, 1245-cordova-st-unit-...  13200-pacific-promenade-apt-234-playa-vista  134\n",
              "(840-e-green-st-unit-224, 1245-cordova-st-unit-...                              656-w-avenue-j8  135\n",
              "(840-e-green-st-unit-224, 1245-cordova-st-unit-...                    7549-coldwater-canyon-ave  136\n",
              "(840-e-green-st-unit-224, 18726-vista-del-canon...                                 1895-club-dr  145\n",
              "(840-e-green-st-unit-224, 18726-vista-del-canon...                      7236-amigo-ave-unit-101  146\n",
              "(840-e-green-st-unit-224, 2727-manning-ave, 202...  13200-pacific-promenade-apt-234-playa-vista  156\n",
              "(175-sequoia-dr, 1245-cordova-st-unit-301, 1872...  13200-pacific-promenade-apt-234-playa-vista  234\n",
              "(175-sequoia-dr, 1245-cordova-st-unit-301, 2727...                    7549-coldwater-canyon-ave  235\n",
              "(175-sequoia-dr, 1245-cordova-st-unit-301, 2022...  13200-pacific-promenade-apt-234-playa-vista  236\n",
              "(175-sequoia-dr, 18726-vista-del-canon-unit-e, ...  13200-pacific-promenade-apt-234-playa-vista  245\n",
              "(175-sequoia-dr, 18726-vista-del-canon-unit-e, ...                      7236-amigo-ave-unit-101  246\n",
              "(175-sequoia-dr, 2727-manning-ave, 2022-delawar...                    7549-coldwater-canyon-ave  256\n",
              "(1245-cordova-st-unit-301, 18726-vista-del-cano...                    21314-nandina-ln-unit-202  345\n",
              "(1245-cordova-st-unit-301, 18726-vista-del-cano...  13200-pacific-promenade-apt-234-playa-vista  346\n",
              "(1245-cordova-st-unit-301, 2727-manning-ave, 20...                   18645-hatteras-st-unit-174  356\n",
              "(18726-vista-del-canon-unit-e, 2727-manning-ave...                    7549-coldwater-canyon-ave  456"
            ]
          },
          "metadata": {
            "tags": []
          },
          "execution_count": 112
        }
      ]
    }
  ]
}