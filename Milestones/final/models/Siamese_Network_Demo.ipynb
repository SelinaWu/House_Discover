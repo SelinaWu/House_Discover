{
  "nbformat": 4,
  "nbformat_minor": 0,
  "metadata": {
    "colab": {
      "name": "Siamese_Network_Demo.ipynb",
      "provenance": [],
      "collapsed_sections": [
        "2ecyCYR9_M07",
        "ly7e_yAtKm3l",
        "tHICtg05_Cus",
        "ignVYPTPb5Lq"
      ],
      "toc_visible": true
    },
    "kernelspec": {
      "name": "python3",
      "display_name": "Python 3"
    }
  },
  "cells": [
    {
      "cell_type": "markdown",
      "metadata": {
        "id": "-18bFd93EKQC"
      },
      "source": [
        "## Siamese Network for House Recommendation [Demo]\n",
        "\n",
        "**Goal**:<br>\n",
        "build `siamese network`, `triplet loss`,`contrastive loss` to compare house feature embeddings and provide recommendations. <br>\n",
        "**Note**: Before run this notebook, make sure:\n",
        "1. All helper functions are saved in `util.py`\n",
        "2. Download `data` fold mentioned in ReadMe.md\n",
        "<br>\n",
        "All files read from data folder is not available on GitHub. Instead these files are available on Google Drive. \n",
        "<br>\n",
        "\n",
        "**Reference**:<br>\n",
        "[Siamese Network Keras for Image and Text similarity](https://medium.com/@prabhnoor0212/siamese-network-keras-31a3a8f37d04)<br>\n",
        "[Home Embeddings for Similar Home Recommendations](https://www.zillow.com/tech/embedding-similar-home-recommendation/)"
      ]
    },
    {
      "cell_type": "markdown",
      "metadata": {
        "id": "FG0SfkuE8tmJ"
      },
      "source": [
        "### STEP 0. Load in packages\r\n",
        "\r\n",
        "**Need to cd in the DIR of this ipynb.**"
      ]
    },
    {
      "cell_type": "code",
      "metadata": {
        "id": "-2jmlPLy81jF"
      },
      "source": [
        "!pip install shap"
      ],
      "execution_count": null,
      "outputs": []
    },
    {
      "cell_type": "code",
      "metadata": {
        "id": "c-09Vs2cR7JI"
      },
      "source": [
        "from util import *\r\n",
        "\r\n",
        "pd.set_option('display.max_columns', 999)"
      ],
      "execution_count": 3,
      "outputs": []
    },
    {
      "cell_type": "markdown",
      "metadata": {
        "id": "g1c0XTmG89MS"
      },
      "source": [
        "### Step 1: Prepare Data"
      ]
    },
    {
      "cell_type": "code",
      "metadata": {
        "colab": {
          "base_uri": "https://localhost:8080/"
        },
        "id": "5gaNGJlLpU5k",
        "outputId": "42f21832-55f7-4bf9-f808-9ad29210e8eb"
      },
      "source": [
        "data_src = \"w_image\" #\"window_full\"\r\n",
        "\r\n",
        "anchor, positive, negative, y_train = load_dataset(data_src=\"w_image\")\r\n",
        "anchor_train, pos_train, neg_train, y_training, anchor_test, pos_test, neg_test, y_test = train_test_split(anchor, positive, negative, y_train, train_pct=0.9)"
      ],
      "execution_count": 10,
      "outputs": [
        {
          "output_type": "stream",
          "text": [
            "Loading data:\n",
            "Anchor:  (81584, 84)\n",
            "Positive:  (81584, 84)\n",
            "Negative:  (81584, 84)\n",
            "(81584, 84)\n",
            "(73425, 84)\n",
            "(8159, 84)\n"
          ],
          "name": "stdout"
        }
      ]
    },
    {
      "cell_type": "markdown",
      "metadata": {
        "id": "UR4f9fMQ9mr2"
      },
      "source": [
        "### Step 2: Build Model"
      ]
    },
    {
      "cell_type": "markdown",
      "metadata": {
        "id": "2ecyCYR9_M07"
      },
      "source": [
        "#### 2.1 Contrastive Loss"
      ]
    },
    {
      "cell_type": "code",
      "metadata": {
        "id": "XNmTK72U_PRz"
      },
      "source": [
        "## form pairs for contrastive loss model \n",
        "pair_input1, pair_input2, output = prepare_contrastive_pair(anchor_train, pos_train, neg_train)\n",
        "pair_input1_val, pair_input2_val, output_val = prepare_contrastive_pair(anchor_test, pos_test, neg_test)"
      ],
      "execution_count": 11,
      "outputs": []
    },
    {
      "cell_type": "code",
      "metadata": {
        "colab": {
          "base_uri": "https://localhost:8080/"
        },
        "id": "notBeb5z_dzy",
        "outputId": "63e2a89b-6406-4e98-8db2-30491ff6a7f6"
      },
      "source": [
        "# create siamese model using contrastive loss\n",
        "input_shape = (anchor.shape[1],)\n",
        "contrastive_model_embedding = create_embedding_model(input_shape)\n",
        "siamese_model = build_contrastive_loss_model(input_shape, contrastive_model_embedding)\n",
        "# Training the model\n",
        "training_results =  siamese_model.fit(x=(pair_input1,pair_input2),y=output, \n",
        "                              validation_data=((pair_input1_val,pair_input2_val), output_val), \n",
        "                              batch_size=256, epochs=5)"
      ],
      "execution_count": 12,
      "outputs": [
        {
          "output_type": "stream",
          "text": [
            "Model: \"functional_3\"\n",
            "__________________________________________________________________________________________________\n",
            "Layer (type)                    Output Shape         Param #     Connected to                     \n",
            "==================================================================================================\n",
            "target (InputLayer)             [(None, 84)]         0                                            \n",
            "__________________________________________________________________________________________________\n",
            "candidate (InputLayer)          [(None, 84)]         0                                            \n",
            "__________________________________________________________________________________________________\n",
            "functional_1 (Functional)       (None, 16)           3376        target[0][0]                     \n",
            "                                                                 candidate[0][0]                  \n",
            "__________________________________________________________________________________________________\n",
            "lambda (Lambda)                 (None, 1)            0           functional_1[0][0]               \n",
            "                                                                 functional_1[1][0]               \n",
            "__________________________________________________________________________________________________\n",
            "dense (Dense)                   (None, 1)            2           lambda[0][0]                     \n",
            "==================================================================================================\n",
            "Total params: 3,378\n",
            "Trainable params: 3,314\n",
            "Non-trainable params: 64\n",
            "__________________________________________________________________________________________________\n",
            "None\n",
            "Epoch 1/5\n",
            "574/574 [==============================] - 1s 3ms/step - loss: 0.2484 - val_loss: 0.2500\n",
            "Epoch 2/5\n",
            "574/574 [==============================] - 1s 2ms/step - loss: 0.2413 - val_loss: 0.2390\n",
            "Epoch 3/5\n",
            "574/574 [==============================] - 1s 2ms/step - loss: 0.2366 - val_loss: 0.2345\n",
            "Epoch 4/5\n",
            "574/574 [==============================] - 1s 2ms/step - loss: 0.2326 - val_loss: 0.2306\n",
            "Epoch 5/5\n",
            "574/574 [==============================] - 1s 2ms/step - loss: 0.2289 - val_loss: 0.2270\n"
          ],
          "name": "stdout"
        }
      ]
    },
    {
      "cell_type": "code",
      "metadata": {
        "colab": {
          "base_uri": "https://localhost:8080/",
          "height": 343
        },
        "id": "Jhkvu9NG_jGd",
        "outputId": "57d02d57-d981-4656-c4e3-15348c35136e"
      },
      "source": [
        "# plot model loss function\r\n",
        "evaluate_model(siamese_model,(pair_input1,pair_input2), training_results)\r\n",
        "# calculate if positive listing has higher score than negative listing\r\n",
        "eval_pos_is_high(contrastive_model_embedding, anchor_test, pos_test, neg_test)"
      ],
      "execution_count": 13,
      "outputs": [
        {
          "output_type": "display_data",
          "data": {
            "image/png": "[encoded data removed]",
            "text/plain": [
              "<Figure size 1080x360 with 1 Axes>"
            ]
          },
          "metadata": {
            "tags": [],
            "needs_background": "light"
          }
        },
        {
          "output_type": "stream",
          "text": [
            "Positive is higher than negative: 74.38 %\n"
          ],
          "name": "stdout"
        }
      ]
    },
    {
      "cell_type": "code",
      "metadata": {
        "colab": {
          "base_uri": "https://localhost:8080/"
        },
        "id": "3F2Yg0qyV-zG",
        "outputId": "ec1a54e7-5dfd-4a4c-9a21-08523d3664c4"
      },
      "source": [
        "# save_model\n",
        "# contrastive_model_embedding.save('save_model/contrastive_model_embedding_w_image') "
      ],
      "execution_count": null,
      "outputs": [
        {
          "output_type": "stream",
          "text": [
            "WARNING:tensorflow:From /usr/local/lib/python3.6/dist-packages/tensorflow/python/training/tracking/tracking.py:111: Model.state_updates (from tensorflow.python.keras.engine.training) is deprecated and will be removed in a future version.\n",
            "Instructions for updating:\n",
            "This property should not be used in TensorFlow 2.0, as updates are applied automatically.\n",
            "WARNING:tensorflow:From /usr/local/lib/python3.6/dist-packages/tensorflow/python/training/tracking/tracking.py:111: Layer.updates (from tensorflow.python.keras.engine.base_layer) is deprecated and will be removed in a future version.\n",
            "Instructions for updating:\n",
            "This property should not be used in TensorFlow 2.0, as updates are applied automatically.\n",
            "INFO:tensorflow:Assets written to: save_model/contrastive_model_embedding_w_image/assets\n"
          ],
          "name": "stdout"
        }
      ]
    },
    {
      "cell_type": "markdown",
      "metadata": {
        "id": "ly7e_yAtKm3l"
      },
      "source": [
        "#### 2.2 Triplet Loss"
      ]
    },
    {
      "cell_type": "code",
      "metadata": {
        "colab": {
          "base_uri": "https://localhost:8080/",
          "height": 589
        },
        "id": "ROtlCoD7Kqo-",
        "outputId": "d723069d-6db6-4823-b189-62b19228679e"
      },
      "source": [
        "input_shape = (anchor.shape[1],)\n",
        "triplet_model_embedding = create_embedding_model(input_shape)\n",
        "\n",
        "\n",
        "siamese_model = build_triplet_model(input_shape, triplet_model_embedding)\n",
        "training_results = siamese_model.fit(x=(anchor_train,pos_train,neg_train),y=y_training, \n",
        "                                     validation_data=((anchor_test,pos_test,neg_test), y_test), \n",
        "                                     batch_size=128, epochs=5)"
      ],
      "execution_count": 14,
      "outputs": [
        {
          "output_type": "stream",
          "text": [
            "Model: \"functional_7\"\n",
            "__________________________________________________________________________________________________\n",
            "Layer (type)                    Output Shape         Param #     Connected to                     \n",
            "==================================================================================================\n",
            "anchor (InputLayer)             [(None, 84)]         0                                            \n",
            "__________________________________________________________________________________________________\n",
            "positive (InputLayer)           [(None, 84)]         0                                            \n",
            "__________________________________________________________________________________________________\n",
            "negative (InputLayer)           [(None, 84)]         0                                            \n",
            "__________________________________________________________________________________________________\n",
            "functional_5 (Functional)       (None, 16)           3376        positive[0][0]                   \n",
            "                                                                 negative[0][0]                   \n",
            "                                                                 anchor[0][0]                     \n",
            "__________________________________________________________________________________________________\n",
            "lambda_1 (Lambda)               ()                   0           functional_5[2][0]               \n",
            "                                                                 functional_5[0][0]               \n",
            "                                                                 functional_5[1][0]               \n",
            "==================================================================================================\n",
            "Total params: 3,376\n",
            "Trainable params: 3,312\n",
            "Non-trainable params: 64\n",
            "__________________________________________________________________________________________________\n"
          ],
          "name": "stdout"
        },
        {
          "output_type": "display_data",
          "data": {
            "text/plain": [
              "None"
            ]
          },
          "metadata": {
            "tags": []
          }
        },
        {
          "output_type": "stream",
          "text": [
            "Epoch 1/5\n",
            "574/574 [==============================] - 1s 2ms/step - loss: 0.5437 - val_loss: 0.7305\n",
            "Epoch 2/5\n",
            "574/574 [==============================] - 1s 2ms/step - loss: 0.1075 - val_loss: 0.2318\n",
            "Epoch 3/5\n",
            "574/574 [==============================] - 1s 2ms/step - loss: 0.0828 - val_loss: 0.2174\n",
            "Epoch 4/5\n",
            "574/574 [==============================] - 1s 2ms/step - loss: 0.0772 - val_loss: 0.2684\n",
            "Epoch 5/5\n",
            "574/574 [==============================] - 1s 2ms/step - loss: 0.0745 - val_loss: 0.2340\n"
          ],
          "name": "stdout"
        }
      ]
    },
    {
      "cell_type": "code",
      "metadata": {
        "colab": {
          "base_uri": "https://localhost:8080/",
          "height": 347
        },
        "id": "GqgbwcJ9K-zt",
        "outputId": "bae1fbe5-b752-4d6d-9e84-086c16117e3e"
      },
      "source": [
        "evaluate_model(siamese_model,(anchor_test,pos_test,neg_test), training_results)\r\n",
        "eval_pos_is_high(triplet_model_embedding, anchor_test, pos_test, neg_test)"
      ],
      "execution_count": 15,
      "outputs": [
        {
          "output_type": "display_data",
          "data": {
            "image/png": "[encoded data removed]",
            "text/plain": [
              "<Figure size 1080x360 with 1 Axes>"
            ]
          },
          "metadata": {
            "tags": [],
            "needs_background": "light"
          }
        },
        {
          "output_type": "stream",
          "text": [
            "Positive is higher than negative: 81.36 %\n"
          ],
          "name": "stdout"
        }
      ]
    },
    {
      "cell_type": "code",
      "metadata": {
        "colab": {
          "base_uri": "https://localhost:8080/"
        },
        "id": "hL8rQ2VtXbYI",
        "outputId": "0bd275c6-4b83-4ef5-c141-a82fe169e6f1"
      },
      "source": [
        "#triplet_model_embedding.save('save_model/triplet_model_embedding_w_image') "
      ],
      "execution_count": null,
      "outputs": [
        {
          "output_type": "stream",
          "text": [
            "WARNING:tensorflow:From /usr/local/lib/python3.6/dist-packages/tensorflow/python/training/tracking/tracking.py:111: Model.state_updates (from tensorflow.python.keras.engine.training) is deprecated and will be removed in a future version.\n",
            "Instructions for updating:\n",
            "This property should not be used in TensorFlow 2.0, as updates are applied automatically.\n",
            "WARNING:tensorflow:From /usr/local/lib/python3.6/dist-packages/tensorflow/python/training/tracking/tracking.py:111: Layer.updates (from tensorflow.python.keras.engine.base_layer) is deprecated and will be removed in a future version.\n",
            "Instructions for updating:\n",
            "This property should not be used in TensorFlow 2.0, as updates are applied automatically.\n",
            "INFO:tensorflow:Assets written to: save_model/triplet_model_embedding_w_image/assets\n"
          ],
          "name": "stdout"
        }
      ]
    },
    {
      "cell_type": "markdown",
      "metadata": {
        "id": "XnfMeSpvxq8T"
      },
      "source": [
        "#### 2.3 content-filter [baseline]"
      ]
    },
    {
      "cell_type": "code",
      "metadata": {
        "colab": {
          "base_uri": "https://localhost:8080/"
        },
        "id": "XFz8z_WwXE5A",
        "outputId": "1e5ea35c-a1a3-4c55-e577-cd38fdf84b2a"
      },
      "source": [
        "## cos similarity \n",
        "pos_scores = cosine_similarity(anchor_test, pos_test)\n",
        "pos_scores = np.diag(pos_scores)\n",
        "\n",
        "neg_scores = cosine_similarity(anchor_test, neg_test)\n",
        "neg_scores = np.diag(neg_scores)\n",
        "\n",
        "pos_is_high_sum = sum(pos_scores>neg_scores)\n",
        "score = round(pos_is_high_sum/len(anchor_test)*100, 2)\n",
        "print(f\"Positive is higher than negative: {score} %\")"
      ],
      "execution_count": 16,
      "outputs": [
        {
          "output_type": "stream",
          "text": [
            "Positive is higher than negative: 54.69 %\n"
          ],
          "name": "stdout"
        }
      ]
    },
    {
      "cell_type": "markdown",
      "metadata": {
        "id": "tHICtg05_Cus"
      },
      "source": [
        "### Step 3: Interpretation"
      ]
    },
    {
      "cell_type": "code",
      "metadata": {
        "colab": {
          "base_uri": "https://localhost:8080/",
          "height": 670
        },
        "id": "SjI04gyqB-Ui",
        "outputId": "fe7968ac-502d-41a3-90a6-2c95abea4098"
      },
      "source": [
        "get_shap_interpretation(triplet_model_embedding, anchor, pick_k=300, max_display=20)"
      ],
      "execution_count": null,
      "outputs": [
        {
          "output_type": "stream",
          "text": [
            "WARNING:tensorflow:From /usr/local/lib/python3.6/dist-packages/shap/explainers/_deep/deep_tf.py:236: set_learning_phase (from tensorflow.python.keras.backend) is deprecated and will be removed after 2020-10-11.\n",
            "Instructions for updating:\n",
            "Simply pass a True/False value to the `training` argument of the `__call__` method of your layer or model.\n"
          ],
          "name": "stdout"
        },
        {
          "output_type": "stream",
          "text": [
            "keras is no longer supported, please use tf.keras instead.\n"
          ],
          "name": "stderr"
        },
        {
          "output_type": "display_data",
          "data": {
            "image/png": "[encoded data removed]",
            "text/plain": [
              "<Figure size 576x684 with 1 Axes>"
            ]
          },
          "metadata": {
            "tags": [],
            "needs_background": "light"
          }
        }
      ]
    },
    {
      "cell_type": "markdown",
      "metadata": {
        "id": "m2IijyOdSing"
      },
      "source": [
        "convert from feature # to  feature name"
      ]
    },
    {
      "cell_type": "code",
      "metadata": {
        "colab": {
          "base_uri": "https://localhost:8080/"
        },
        "id": "VqaSEHtcLh10",
        "outputId": "804b253c-ed03-43de-f017-9194b8869faa"
      },
      "source": [
        "# house features\n",
        "pkl_file = open('data/all_pairs_user_test_for_siamese_df.pkl', 'rb') # listing_dict\n",
        "listing_df = pickle.load(pkl_file)\n",
        "pkl_file.close()\n",
        "\n",
        "print(\"Load in listing info: \", listing_df.shape)\n",
        "\n",
        "feature_dim = anchor.shape[1]\n",
        "wanted_cols = listing_df.columns.difference(['triple','rex_url'], sort=False)\n",
        "valid_columns = listing_df[wanted_cols].iloc[:, :feature_dim].columns"
      ],
      "execution_count": 18,
      "outputs": [
        {
          "output_type": "stream",
          "text": [
            "Load in listing info:  (10600, 170)\n"
          ],
          "name": "stdout"
        }
      ]
    },
    {
      "cell_type": "code",
      "metadata": {
        "colab": {
          "base_uri": "https://localhost:8080/"
        },
        "id": "btLBxz3O_CLJ",
        "outputId": "61a4bc96-2453-4326-c1ce-8acf2c723b54"
      },
      "source": [
        "id_ls = [14, 15,16, 18,59, 3,19,32,31,51,69,21,4,11,20,80,61,81,6,8]\n",
        "top20 = valid_columns[id_ls]\n",
        "\n",
        "for i, col in enumerate(top20):\n",
        "    #print(id_ls[i], \" \", col)\n",
        "    print(col)"
      ],
      "execution_count": null,
      "outputs": [
        {
          "output_type": "stream",
          "text": [
            "hotness_score_train\n",
            "demand_score_train\n",
            "supply_score_train\n",
            "loc_tsne_1_train\n",
            "1hot_fencing_description_Wrought Iron_train\n",
            "has_jacuzzi_train\n",
            "loc_tsne_2_train\n",
            "1hot_pool_spa_types_Pool & Spa (both)_train\n",
            "1hot_pool_spa_types_No_train\n",
            "1hot_fencing_description_None_train\n",
            "1hot_property_condition_Updated/Remodeled_train\n",
            "1hot_marketing_budget_MEDIUM_train\n",
            "has_pool_train\n",
            "latitude_train\n",
            "1hot_marketing_budget_LOW_train\n",
            "indoor_dining_cluster_train\n",
            "1hot_property_condition_Additions/Alterations_train\n",
            "indoor_kitchen_cluster_train\n",
            "has_garage_train\n",
            "full_baths_train\n"
          ],
          "name": "stdout"
        }
      ]
    },
    {
      "cell_type": "markdown",
      "metadata": {
        "id": "Wb5t8V-7tzPq"
      },
      "source": [
        "### Step 4: Evaluation"
      ]
    },
    {
      "cell_type": "markdown",
      "metadata": {
        "id": "rjQkaXPYxH7y"
      },
      "source": [
        "Load in pre-trained model(s)"
      ]
    },
    {
      "cell_type": "code",
      "metadata": {
        "colab": {
          "base_uri": "https://localhost:8080/"
        },
        "id": "xALyldKZtyh_",
        "outputId": "d622bd7a-ca57-47fa-ae4d-26cb58a37408"
      },
      "source": [
        "print(\"Load in pretrained models\")\n",
        "MODEL_NAME = \"save_model/triplet_model_embedding_w_image\"\n",
        "triplet_model_embedding = tf.keras.models.load_model(MODEL_NAME)"
      ],
      "execution_count": 19,
      "outputs": [
        {
          "output_type": "stream",
          "text": [
            "Load in pretrained models\n",
            "WARNING:tensorflow:No training configuration found in save file, so the model was *not* compiled. Compile it manually.\n"
          ],
          "name": "stdout"
        }
      ]
    },
    {
      "cell_type": "markdown",
      "metadata": {
        "id": "KfFYrEmrwrSO"
      },
      "source": [
        "Load in true visiting history of each ip"
      ]
    },
    {
      "cell_type": "code",
      "metadata": {
        "colab": {
          "base_uri": "https://localhost:8080/",
          "height": 129
        },
        "id": "JFYTbAVQuYIl",
        "outputId": "b56faf40-c6d0-4bea-db42-920991c5e3fa"
      },
      "source": [
        "# read python dict back from the file\n",
        "# test house\n",
        "pkl_file = open('data/ip_listing_temporal_test_full.pkl', 'rb')\n",
        "user_listing_test = pickle.load(pkl_file)\n",
        "print(user_listing_test.shape)\n",
        "display(user_listing_test.head(2))\n",
        "pkl_file.close()"
      ],
      "execution_count": 20,
      "outputs": [
        {
          "output_type": "stream",
          "text": [
            "(17102, 2)\n"
          ],
          "name": "stdout"
        },
        {
          "output_type": "display_data",
          "data": {
            "text/html": [
              "<div>\n",
              "<style scoped>\n",
              "    .dataframe tbody tr th:only-of-type {\n",
              "        vertical-align: middle;\n",
              "    }\n",
              "\n",
              "    .dataframe tbody tr th {\n",
              "        vertical-align: top;\n",
              "    }\n",
              "\n",
              "    .dataframe thead th {\n",
              "        text-align: right;\n",
              "    }\n",
              "</style>\n",
              "<table border=\"1\" class=\"dataframe\">\n",
              "  <thead>\n",
              "    <tr style=\"text-align: right;\">\n",
              "      <th></th>\n",
              "      <th>ip</th>\n",
              "      <th>rexUrl</th>\n",
              "    </tr>\n",
              "  </thead>\n",
              "  <tbody>\n",
              "    <tr>\n",
              "      <th>11</th>\n",
              "      <td>1.129.109.119</td>\n",
              "      <td>22127-buena-ventura-st</td>\n",
              "    </tr>\n",
              "    <tr>\n",
              "      <th>65</th>\n",
              "      <td>1.65.170.128</td>\n",
              "      <td>6151-orange-st-apt-118</td>\n",
              "    </tr>\n",
              "  </tbody>\n",
              "</table>\n",
              "</div>"
            ],
            "text/plain": [
              "               ip                  rexUrl\n",
              "11  1.129.109.119  22127-buena-ventura-st\n",
              "65   1.65.170.128  6151-orange-st-apt-118"
            ]
          },
          "metadata": {
            "tags": []
          }
        }
      ]
    },
    {
      "cell_type": "markdown",
      "metadata": {
        "id": "c7qc5tXKwvq2"
      },
      "source": [
        "#### 4.1 Prepare evaluation data:\n",
        "**Can Skip and using saved scores**<br>\n",
        "\n",
        "\n",
        "Load in all unseen pairs:\n",
        "$$\\{mean_{ip}, unseen\\ listing\\}$$\n",
        "Calculate cos-similarit of embeddings"
      ]
    },
    {
      "cell_type": "code",
      "metadata": {
        "id": "rlmZ_0NBxZhp",
        "colab": {
          "base_uri": "https://localhost:8080/"
        },
        "outputId": "e3a906d5-9c68-4447-9373-fd9ad70c3b39"
      },
      "source": [
        "feature_dim = anchor.shape[1]\n",
        "\n",
        "all_pairs_predictions = calculate_embedding_score(feature_dim, triplet_model_embedding,\n",
        "                                                  data_src=\"w_image\", row_size=15000,\n",
        "                                                  is_cos=False)"
      ],
      "execution_count": null,
      "outputs": [
        {
          "output_type": "stream",
          "text": [
            "\r0it [00:00, ?it/s]"
          ],
          "name": "stderr"
        },
        {
          "output_type": "stream",
          "text": [
            "Load in unseen pairs chunk by chunk: \n"
          ],
          "name": "stdout"
        },
        {
          "output_type": "stream",
          "text": [
            "266it [05:25,  1.22s/it]\n"
          ],
          "name": "stderr"
        }
      ]
    },
    {
      "cell_type": "code",
      "metadata": {
        "id": "eWw2Of6laYll"
      },
      "source": [
        "# Save result \"triplet\" \"contrastive\", \"contrastive2\", \"cos_sim\", \"triplet_img\"\n",
        "# all_pairs_predictions.to_pickle('./save_model/triplet2_img_all_pairs_predictions.pkl')"
      ],
      "execution_count": null,
      "outputs": []
    },
    {
      "cell_type": "markdown",
      "metadata": {
        "id": "0B27Ka2oyDcM"
      },
      "source": [
        "#### 4.1 Load in pre-saved scores"
      ]
    },
    {
      "cell_type": "code",
      "metadata": {
        "id": "SAnUUzYQiqZC"
      },
      "source": [
        "pkl_file = open('save_model/triplet_all_pairs_predictions.pkl', 'rb')\r\n",
        "all_pairs_predictions = pickle.load(pkl_file)\r\n",
        "pkl_file.close()"
      ],
      "execution_count": 21,
      "outputs": []
    },
    {
      "cell_type": "markdown",
      "metadata": {
        "id": "G20-8PfAGjCH"
      },
      "source": [
        "#### 4.2 Calculate"
      ]
    },
    {
      "cell_type": "code",
      "metadata": {
        "colab": {
          "base_uri": "https://localhost:8080/"
        },
        "id": "mMqSeAybGn7n",
        "outputId": "f61728d7-9316-49b7-8c43-34b08e9332e5"
      },
      "source": [
        "k_ls = [10, 20,30,50]\n",
        "\n",
        "for k in k_ls:\n",
        "  recommended_at_10, recall_at_10, precision_at_10 = precision_recall_at_k(all_pairs_predictions, \n",
        "                                                                           user_listing_test, k)\n",
        "  print(f'precision @ {k}', np.mean(list(precision_at_10.values())))\n",
        "  print(f'recall @ {k}', np.mean(list(recall_at_10.values())))\n",
        "  print(\"\\n\")"
      ],
      "execution_count": 22,
      "outputs": [
        {
          "output_type": "stream",
          "text": [
            "precision @ 10 0.010354380699526721\n",
            "recall @ 10 0.05935630959327139\n",
            "\n",
            "\n",
            "precision @ 20 0.00926353457231906\n",
            "recall @ 20 0.10182021023584117\n",
            "\n",
            "\n",
            "precision @ 30 0.008565162184000923\n",
            "recall @ 30 0.1387345180710022\n",
            "\n",
            "\n",
            "precision @ 50 0.007593212512986264\n",
            "recall @ 50 0.20388790514104976\n",
            "\n",
            "\n"
          ],
          "name": "stdout"
        }
      ]
    },
    {
      "cell_type": "markdown",
      "metadata": {
        "id": "ignVYPTPb5Lq"
      },
      "source": [
        "#### 4.3 Case study"
      ]
    },
    {
      "cell_type": "code",
      "metadata": {
        "colab": {
          "base_uri": "https://localhost:8080/",
          "height": 241
        },
        "id": "zeEK3hr9b8SF",
        "outputId": "85d21a1e-70b7-4730-80b5-2230cb1512ce"
      },
      "source": [
        "case_ip = \"100.1.133.99\" #\"104.173.194.23\" #\"104.1.138.21\" #\n",
        "ip_candidate_df = all_pairs_predictions.loc[all_pairs_predictions.ip==case_ip]\n",
        "ip_candidate_df.reset_index(drop=True, inplace=True)\n",
        "print(\"Top 3 recommendation\")\n",
        "display(ip_candidate_df.head(3))\n",
        "print(\"Actual Visit\")\n",
        "display(user_listing_test.loc[user_listing_test.ip==case_ip])"
      ],
      "execution_count": 23,
      "outputs": [
        {
          "output_type": "stream",
          "text": [
            "Top 3 recommendation\n"
          ],
          "name": "stdout"
        },
        {
          "output_type": "display_data",
          "data": {
            "text/html": [
              "<div>\n",
              "<style scoped>\n",
              "    .dataframe tbody tr th:only-of-type {\n",
              "        vertical-align: middle;\n",
              "    }\n",
              "\n",
              "    .dataframe tbody tr th {\n",
              "        vertical-align: top;\n",
              "    }\n",
              "\n",
              "    .dataframe thead th {\n",
              "        text-align: right;\n",
              "    }\n",
              "</style>\n",
              "<table border=\"1\" class=\"dataframe\">\n",
              "  <thead>\n",
              "    <tr style=\"text-align: right;\">\n",
              "      <th></th>\n",
              "      <th>ip</th>\n",
              "      <th>rex_url</th>\n",
              "      <th>proba</th>\n",
              "      <th>pred</th>\n",
              "    </tr>\n",
              "  </thead>\n",
              "  <tbody>\n",
              "    <tr>\n",
              "      <th>0</th>\n",
              "      <td>100.1.133.99</td>\n",
              "      <td>1219-dell-dr</td>\n",
              "      <td>0.966637</td>\n",
              "      <td>1.0</td>\n",
              "    </tr>\n",
              "    <tr>\n",
              "      <th>1</th>\n",
              "      <td>100.1.133.99</td>\n",
              "      <td>22633-sylvan-st</td>\n",
              "      <td>0.966155</td>\n",
              "      <td>1.0</td>\n",
              "    </tr>\n",
              "    <tr>\n",
              "      <th>2</th>\n",
              "      <td>100.1.133.99</td>\n",
              "      <td>8719-topanga-canyon-blvd</td>\n",
              "      <td>0.965401</td>\n",
              "      <td>1.0</td>\n",
              "    </tr>\n",
              "  </tbody>\n",
              "</table>\n",
              "</div>"
            ],
            "text/plain": [
              "             ip                   rex_url     proba  pred\n",
              "0  100.1.133.99              1219-dell-dr  0.966637   1.0\n",
              "1  100.1.133.99           22633-sylvan-st  0.966155   1.0\n",
              "2  100.1.133.99  8719-topanga-canyon-blvd  0.965401   1.0"
            ]
          },
          "metadata": {
            "tags": []
          }
        },
        {
          "output_type": "stream",
          "text": [
            "Actual Visit\n"
          ],
          "name": "stdout"
        },
        {
          "output_type": "display_data",
          "data": {
            "text/html": [
              "<div>\n",
              "<style scoped>\n",
              "    .dataframe tbody tr th:only-of-type {\n",
              "        vertical-align: middle;\n",
              "    }\n",
              "\n",
              "    .dataframe tbody tr th {\n",
              "        vertical-align: top;\n",
              "    }\n",
              "\n",
              "    .dataframe thead th {\n",
              "        text-align: right;\n",
              "    }\n",
              "</style>\n",
              "<table border=\"1\" class=\"dataframe\">\n",
              "  <thead>\n",
              "    <tr style=\"text-align: right;\">\n",
              "      <th></th>\n",
              "      <th>ip</th>\n",
              "      <th>rexUrl</th>\n",
              "    </tr>\n",
              "  </thead>\n",
              "  <tbody>\n",
              "    <tr>\n",
              "      <th>86</th>\n",
              "      <td>100.1.133.99</td>\n",
              "      <td>8719-topanga-canyon-blvd</td>\n",
              "    </tr>\n",
              "  </tbody>\n",
              "</table>\n",
              "</div>"
            ],
            "text/plain": [
              "              ip                    rexUrl\n",
              "86  100.1.133.99  8719-topanga-canyon-blvd"
            ]
          },
          "metadata": {
            "tags": []
          }
        }
      ]
    },
    {
      "cell_type": "code",
      "metadata": {
        "colab": {
          "base_uri": "https://localhost:8080/",
          "height": 174
        },
        "id": "pvc4Tqxza7ye",
        "outputId": "f50b532c-f82f-4cae-865b-16def58bed39"
      },
      "source": [
        "train_la = pd.read_pickle(\"./data/ip_listing_temporal_train_full.pkl\")\n",
        "listing_data = pd.read_pickle('./data/LOG_siamese_data_11_12.pkl')\n",
        "\n",
        "\n",
        "iptest = case_ip\n",
        "training_case = train_la[train_la.ip==iptest].merge(listing_data,left_on='rexUrl',right_on='rex_url',how='left')\n",
        "training_case['sqft'] = np.exp(training_case['log_sqft']).map('{:,.0f}'.format)\n",
        "training_case['price'] = np.exp(training_case['log_price']).map('{:,.0f}'.format)\n",
        "training_case['total_rooms'] = np.exp(training_case['log_total_rooms'])\n",
        "cols = ['rex_url','sqft','price','bedrooms','total_rooms','full_baths','is_apt']\n",
        "\n",
        "training_case[cols]"
      ],
      "execution_count": 24,
      "outputs": [
        {
          "output_type": "execute_result",
          "data": {
            "text/html": [
              "<div>\n",
              "<style scoped>\n",
              "    .dataframe tbody tr th:only-of-type {\n",
              "        vertical-align: middle;\n",
              "    }\n",
              "\n",
              "    .dataframe tbody tr th {\n",
              "        vertical-align: top;\n",
              "    }\n",
              "\n",
              "    .dataframe thead th {\n",
              "        text-align: right;\n",
              "    }\n",
              "</style>\n",
              "<table border=\"1\" class=\"dataframe\">\n",
              "  <thead>\n",
              "    <tr style=\"text-align: right;\">\n",
              "      <th></th>\n",
              "      <th>rex_url</th>\n",
              "      <th>sqft</th>\n",
              "      <th>price</th>\n",
              "      <th>bedrooms</th>\n",
              "      <th>total_rooms</th>\n",
              "      <th>full_baths</th>\n",
              "      <th>is_apt</th>\n",
              "    </tr>\n",
              "  </thead>\n",
              "  <tbody>\n",
              "    <tr>\n",
              "      <th>0</th>\n",
              "      <td>5418-geyser-ave</td>\n",
              "      <td>1,313</td>\n",
              "      <td>799,000</td>\n",
              "      <td>3.0</td>\n",
              "      <td>6.0</td>\n",
              "      <td>2.0</td>\n",
              "      <td>0.0</td>\n",
              "    </tr>\n",
              "    <tr>\n",
              "      <th>1</th>\n",
              "      <td>1415-n-myers-st</td>\n",
              "      <td>1,782</td>\n",
              "      <td>840,000</td>\n",
              "      <td>5.0</td>\n",
              "      <td>5.0</td>\n",
              "      <td>3.0</td>\n",
              "      <td>0.0</td>\n",
              "    </tr>\n",
              "    <tr>\n",
              "      <th>2</th>\n",
              "      <td>8450-denise-ln</td>\n",
              "      <td>1,776</td>\n",
              "      <td>660,000</td>\n",
              "      <td>3.0</td>\n",
              "      <td>7.0</td>\n",
              "      <td>2.0</td>\n",
              "      <td>0.0</td>\n",
              "    </tr>\n",
              "    <tr>\n",
              "      <th>3</th>\n",
              "      <td>9323-alcott-st-apt-101</td>\n",
              "      <td>2,588</td>\n",
              "      <td>1,329,999</td>\n",
              "      <td>5.0</td>\n",
              "      <td>17.0</td>\n",
              "      <td>5.0</td>\n",
              "      <td>1.0</td>\n",
              "    </tr>\n",
              "  </tbody>\n",
              "</table>\n",
              "</div>"
            ],
            "text/plain": [
              "                  rex_url   sqft      price  bedrooms  total_rooms  \\\n",
              "0         5418-geyser-ave  1,313    799,000       3.0          6.0   \n",
              "1         1415-n-myers-st  1,782    840,000       5.0          5.0   \n",
              "2          8450-denise-ln  1,776    660,000       3.0          7.0   \n",
              "3  9323-alcott-st-apt-101  2,588  1,329,999       5.0         17.0   \n",
              "\n",
              "   full_baths  is_apt  \n",
              "0         2.0     0.0  \n",
              "1         3.0     0.0  \n",
              "2         2.0     0.0  \n",
              "3         5.0     1.0  "
            ]
          },
          "metadata": {
            "tags": []
          },
          "execution_count": 24
        }
      ]
    },
    {
      "cell_type": "code",
      "metadata": {
        "colab": {
          "base_uri": "https://localhost:8080/",
          "height": 80
        },
        "id": "76npLFymbl7A",
        "outputId": "78b41892-ee66-4eb7-fa78-7c5dba3e9f04"
      },
      "source": [
        "test_la = pd.read_pickle(\"./data/ip_listing_temporal_test_full.pkl\")\n",
        "\n",
        "testing_case = test_la[test_la.ip==iptest].merge(listing_data,left_on='rexUrl',right_on='rex_url',how='left')\n",
        "testing_case['sqft'] = np.exp(testing_case['log_sqft']).map('{:,.0f}'.format)\n",
        "testing_case['price'] = np.exp(testing_case['log_price']).map('{:,.0f}'.format)\n",
        "testing_case['total_rooms'] = np.exp(testing_case['log_total_rooms'])\n",
        "\n",
        "testing_case[cols]"
      ],
      "execution_count": 25,
      "outputs": [
        {
          "output_type": "execute_result",
          "data": {
            "text/html": [
              "<div>\n",
              "<style scoped>\n",
              "    .dataframe tbody tr th:only-of-type {\n",
              "        vertical-align: middle;\n",
              "    }\n",
              "\n",
              "    .dataframe tbody tr th {\n",
              "        vertical-align: top;\n",
              "    }\n",
              "\n",
              "    .dataframe thead th {\n",
              "        text-align: right;\n",
              "    }\n",
              "</style>\n",
              "<table border=\"1\" class=\"dataframe\">\n",
              "  <thead>\n",
              "    <tr style=\"text-align: right;\">\n",
              "      <th></th>\n",
              "      <th>rex_url</th>\n",
              "      <th>sqft</th>\n",
              "      <th>price</th>\n",
              "      <th>bedrooms</th>\n",
              "      <th>total_rooms</th>\n",
              "      <th>full_baths</th>\n",
              "      <th>is_apt</th>\n",
              "    </tr>\n",
              "  </thead>\n",
              "  <tbody>\n",
              "    <tr>\n",
              "      <th>0</th>\n",
              "      <td>8719-topanga-canyon-blvd</td>\n",
              "      <td>2,144</td>\n",
              "      <td>719,000</td>\n",
              "      <td>4.0</td>\n",
              "      <td>8.0</td>\n",
              "      <td>3.0</td>\n",
              "      <td>0.0</td>\n",
              "    </tr>\n",
              "  </tbody>\n",
              "</table>\n",
              "</div>"
            ],
            "text/plain": [
              "                    rex_url   sqft    price  bedrooms  total_rooms  \\\n",
              "0  8719-topanga-canyon-blvd  2,144  719,000       4.0          8.0   \n",
              "\n",
              "   full_baths  is_apt  \n",
              "0         3.0     0.0  "
            ]
          },
          "metadata": {
            "tags": []
          },
          "execution_count": 25
        }
      ]
    },
    {
      "cell_type": "code",
      "metadata": {
        "colab": {
          "base_uri": "https://localhost:8080/",
          "height": 80
        },
        "id": "9fwOwcxRdwAj",
        "outputId": "a907f8d6-0a91-4e8b-b4b0-fa8e505e4aa2"
      },
      "source": [
        "ip_candidate_df.loc[ip_candidate_df.rex_url.isin([\"8719-topanga-canyon-blvd\"])]"
      ],
      "execution_count": 26,
      "outputs": [
        {
          "output_type": "execute_result",
          "data": {
            "text/html": [
              "<div>\n",
              "<style scoped>\n",
              "    .dataframe tbody tr th:only-of-type {\n",
              "        vertical-align: middle;\n",
              "    }\n",
              "\n",
              "    .dataframe tbody tr th {\n",
              "        vertical-align: top;\n",
              "    }\n",
              "\n",
              "    .dataframe thead th {\n",
              "        text-align: right;\n",
              "    }\n",
              "</style>\n",
              "<table border=\"1\" class=\"dataframe\">\n",
              "  <thead>\n",
              "    <tr style=\"text-align: right;\">\n",
              "      <th></th>\n",
              "      <th>ip</th>\n",
              "      <th>rex_url</th>\n",
              "      <th>proba</th>\n",
              "      <th>pred</th>\n",
              "    </tr>\n",
              "  </thead>\n",
              "  <tbody>\n",
              "    <tr>\n",
              "      <th>2</th>\n",
              "      <td>100.1.133.99</td>\n",
              "      <td>8719-topanga-canyon-blvd</td>\n",
              "      <td>0.965401</td>\n",
              "      <td>1.0</td>\n",
              "    </tr>\n",
              "  </tbody>\n",
              "</table>\n",
              "</div>"
            ],
            "text/plain": [
              "             ip                   rex_url     proba  pred\n",
              "2  100.1.133.99  8719-topanga-canyon-blvd  0.965401   1.0"
            ]
          },
          "metadata": {
            "tags": []
          },
          "execution_count": 26
        }
      ]
    }
  ]
}