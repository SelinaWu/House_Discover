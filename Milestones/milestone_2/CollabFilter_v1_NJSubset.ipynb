{
  "nbformat": 4,
  "nbformat_minor": 0,
  "metadata": {
    "colab": {
      "name": "CollabFilter_v1_NJSubset.ipynb",
      "provenance": [],
      "collapsed_sections": []
    },
    "kernelspec": {
      "name": "python3",
      "display_name": "Python 3"
    },
    "accelerator": "GPU"
  },
  "cells": [
    {
      "cell_type": "markdown",
      "metadata": {
        "id": "ruHKonFabh5s"
      },
      "source": [
        "# Collaborative Filtering V1: NJ \n",
        "### Continuation from CF Alldata Notebook"
      ]
    },
    {
      "cell_type": "code",
      "metadata": {
        "id": "J_-Cqzj2e-Nv",
        "outputId": "0face46c-3702-45b5-abb8-833fddfcd931",
        "colab": {
          "base_uri": "https://localhost:8080/"
        }
      },
      "source": [
        "from google.colab import drive\n",
        "drive.mount('/content/drive')\n",
        "# Nikhil's working path\n",
        "%cd drive/My\\ Drive/'Captstone(297)'/data"
      ],
      "execution_count": 1,
      "outputs": [
        {
          "output_type": "stream",
          "text": [
            "Mounted at /content/drive\n",
            "/content/drive/.shortcut-targets-by-id/1auWpfpINZvmJbl0I50kYmpS29bbnesqp/Captstone(297)/data\n"
          ],
          "name": "stdout"
        }
      ]
    },
    {
      "cell_type": "code",
      "metadata": {
        "id": "QlYaSvvCxlGM"
      },
      "source": [
        "import pandas as pd\n",
        "import numpy as np\n",
        "import matplotlib.pyplot as plt\n",
        "pd.set_option('display.max_rows', None)"
      ],
      "execution_count": 2,
      "outputs": []
    },
    {
      "cell_type": "code",
      "metadata": {
        "id": "0cvzNGAqxu9l",
        "outputId": "cf99d398-e809-4abb-b680-6996e350bb15",
        "colab": {
          "base_uri": "https://localhost:8080/"
        }
      },
      "source": [
        "df = pd.read_csv(\"merged_user_data_rm_suspicious.csv\")"
      ],
      "execution_count": 3,
      "outputs": [
        {
          "output_type": "stream",
          "text": [
            "/usr/local/lib/python3.6/dist-packages/IPython/core/interactiveshell.py:2718: DtypeWarning: Columns (11,15,16) have mixed types.Specify dtype option on import or set low_memory=False.\n",
            "  interactivity=interactivity, compiler=compiler, result=result)\n"
          ],
          "name": "stderr"
        }
      ]
    },
    {
      "cell_type": "markdown",
      "metadata": {
        "id": "jaCpxhQ8cPOm"
      },
      "source": [
        "## Filter to Top Counties in NJ where there are many listings"
      ]
    },
    {
      "cell_type": "code",
      "metadata": {
        "id": "53HcRQ1cyaM9"
      },
      "source": [
        "nj_n_counties = ['Hudson','Bergen','Passaic','Essex','Union','Middlesex','Monmouth','Mercer','Hunterdon','Warren','Sussex','Morris','Somerset']\n",
        "nj_df = df.copy(deep=True)\n",
        "nj_df = nj_df[(nj_df['county'].isin(nj_n_counties)) & (nj_df['state']=='NJ')]"
      ],
      "execution_count": 4,
      "outputs": []
    },
    {
      "cell_type": "code",
      "metadata": {
        "id": "1PfZto0oyogL",
        "outputId": "08a717e3-5f4d-4ace-a962-41fca5e70369",
        "colab": {
          "base_uri": "https://localhost:8080/"
        }
      },
      "source": [
        "nj_df.shape"
      ],
      "execution_count": 5,
      "outputs": [
        {
          "output_type": "execute_result",
          "data": {
            "text/plain": [
              "(119905, 63)"
            ]
          },
          "metadata": {
            "tags": []
          },
          "execution_count": 5
        }
      ]
    },
    {
      "cell_type": "markdown",
      "metadata": {
        "id": "Dr6nWCNFcUJH"
      },
      "source": [
        "### Bring in Score Generation logic from `AllData` notebook"
      ]
    },
    {
      "cell_type": "code",
      "metadata": {
        "id": "Qg_5Srj2TYjp"
      },
      "source": [
        "special_actions_level0 = ['scroll','pageview','ViewContent','view_item','drag','click']\n",
        "\n",
        "# open-form (questions), (showing, showing-agent) = enter-flow = phone-click\n",
        "# nav-tab (schools-and-comps), success(favorite), change(payment-calculator)\n",
        "special_actions_level1 = ['open-form','enter-flow',  'nav-tab', 'change',\n",
        "                          'success', 'Search', 'view_search_results', 'phone-click']\n",
        "# 'nav' (insidere-details) = lead, submit = submit-success  (showing, showing-agent, buyer-lead-form)\n",
        "special_actions_level2 = ['nav', 'lead', 'submit', 'submit-success','add_to_cart', 'InitiateCheckout',]\n",
        "special_actions_level3 = ['Purchase','purchase']"
      ],
      "execution_count": 6,
      "outputs": []
    },
    {
      "cell_type": "code",
      "metadata": {
        "id": "9eusixu8RyaP",
        "outputId": "8b90d6ad-4cc9-4be0-9718-6623937e64b2",
        "colab": {
          "base_uri": "https://localhost:8080/"
        }
      },
      "source": [
        "action_ct = nj_df.action.value_counts()\n",
        "total_ct = action_ct.sum()\n",
        "level_weights = []\n",
        "for i, curr_level in enumerate([special_actions_level0, special_actions_level1, \n",
        "                           special_actions_level2, special_actions_level3]):\n",
        "  # futureproofing index lookup for cases when not all actions are there\n",
        "  Lx_weight = 100*action_ct[action_ct.index.isin(curr_level)].sum()/total_ct\n",
        "  level_weights.append(Lx_weight)\n",
        "  print(\"Level {0:d}: {1:.4f} %\".format(i+1, Lx_weight))"
      ],
      "execution_count": 7,
      "outputs": [
        {
          "output_type": "stream",
          "text": [
            "Level 1: 99.3945 %\n",
            "Level 2: 0.5246 %\n",
            "Level 3: 0.0742 %\n",
            "Level 4: 0.0067 %\n"
          ],
          "name": "stdout"
        }
      ]
    },
    {
      "cell_type": "code",
      "metadata": {
        "id": "4xqddKpgggNq"
      },
      "source": [
        "group_df_pre = nj_df.groupby(by=['ip', 'rexUrl']).agg(scroll_ct = ('action',lambda x: sum(x==\"scroll\")),\n",
        "                                                   pageview_ct = ('action',lambda x: sum(x==\"pageview\")),\n",
        "                                                   viewcontent_ct = ('action',lambda x: sum(x=='ViewContent')),\n",
        "                                                   view_item_ct = ('action',lambda x: sum(x=='view_item')),\n",
        "                                                   drag_ct = ('action',lambda x: sum(x=='drag')),\n",
        "                                                   click_ct = ('action',lambda x: sum(x=='click')),\n",
        "                                                   level0_ct = ('action', lambda x: sum(np.isin(x, special_actions_level0))),\n",
        "                                                   level1_ct = ('action', lambda x: sum(np.isin(x, special_actions_level1))),\n",
        "                                                   level2_ct = ('action', lambda x: sum(np.isin(x, special_actions_level2))),\n",
        "                                                   level3_ct = ('action', lambda x: sum(np.isin(x, special_actions_level3))))"
      ],
      "execution_count": 8,
      "outputs": []
    },
    {
      "cell_type": "code",
      "metadata": {
        "id": "45KFzyS8SDYh",
        "outputId": "75957423-977a-4aea-bbb9-b5998e68356c",
        "colab": {
          "base_uri": "https://localhost:8080/",
          "height": 207
        }
      },
      "source": [
        "def calculate_score(row):\n",
        "  curr_score = 0\n",
        "  for i in range(4):\n",
        "    curr_weight = np.clip(1/level_weights[i],0,6)\n",
        "    curr_score += row[f'level{i}_ct']*curr_weight\n",
        "  return min(6, curr_score)\n",
        "\n",
        "# Based on Selina score rule\n",
        "group_df_pre['score'] = group_df_pre.apply(lambda x: calculate_score(x), axis=1)\n",
        "\n",
        "## input for CF model\n",
        "df_grp = group_df_pre.reset_index()[['ip', 'rexUrl','score']]\n",
        "print(\"Input for CF model: \", df_grp.shape)\n",
        "df_grp.head()"
      ],
      "execution_count": 9,
      "outputs": [
        {
          "output_type": "stream",
          "text": [
            "Input for CF model:  (5467, 3)\n"
          ],
          "name": "stdout"
        },
        {
          "output_type": "execute_result",
          "data": {
            "text/html": [
              "<div>\n",
              "<style scoped>\n",
              "    .dataframe tbody tr th:only-of-type {\n",
              "        vertical-align: middle;\n",
              "    }\n",
              "\n",
              "    .dataframe tbody tr th {\n",
              "        vertical-align: top;\n",
              "    }\n",
              "\n",
              "    .dataframe thead th {\n",
              "        text-align: right;\n",
              "    }\n",
              "</style>\n",
              "<table border=\"1\" class=\"dataframe\">\n",
              "  <thead>\n",
              "    <tr style=\"text-align: right;\">\n",
              "      <th></th>\n",
              "      <th>ip</th>\n",
              "      <th>rexUrl</th>\n",
              "      <th>score</th>\n",
              "    </tr>\n",
              "  </thead>\n",
              "  <tbody>\n",
              "    <tr>\n",
              "      <th>0</th>\n",
              "      <td>10.70.33.53</td>\n",
              "      <td>57-miry-brook-rd</td>\n",
              "      <td>6.000000</td>\n",
              "    </tr>\n",
              "    <tr>\n",
              "      <th>1</th>\n",
              "      <td>100.1.107.229</td>\n",
              "      <td>106-108-parkview-ave</td>\n",
              "      <td>0.030183</td>\n",
              "    </tr>\n",
              "    <tr>\n",
              "      <th>2</th>\n",
              "      <td>100.1.107.229</td>\n",
              "      <td>265-custer-ave-apt-116</td>\n",
              "      <td>0.060366</td>\n",
              "    </tr>\n",
              "    <tr>\n",
              "      <th>3</th>\n",
              "      <td>100.1.107.229</td>\n",
              "      <td>433-w-1st-ave</td>\n",
              "      <td>0.171036</td>\n",
              "    </tr>\n",
              "    <tr>\n",
              "      <th>4</th>\n",
              "      <td>100.1.107.229</td>\n",
              "      <td>911-kennedy-blvd-913</td>\n",
              "      <td>0.201218</td>\n",
              "    </tr>\n",
              "  </tbody>\n",
              "</table>\n",
              "</div>"
            ],
            "text/plain": [
              "              ip                  rexUrl     score\n",
              "0    10.70.33.53        57-miry-brook-rd  6.000000\n",
              "1  100.1.107.229    106-108-parkview-ave  0.030183\n",
              "2  100.1.107.229  265-custer-ave-apt-116  0.060366\n",
              "3  100.1.107.229           433-w-1st-ave  0.171036\n",
              "4  100.1.107.229    911-kennedy-blvd-913  0.201218"
            ]
          },
          "metadata": {
            "tags": []
          },
          "execution_count": 9
        }
      ]
    },
    {
      "cell_type": "markdown",
      "metadata": {
        "id": "by6wx1nThTIv"
      },
      "source": [
        "## Modeling"
      ]
    },
    {
      "cell_type": "code",
      "metadata": {
        "id": "-bk0KSrKhLeT"
      },
      "source": [
        "# ! pip install surprise"
      ],
      "execution_count": null,
      "outputs": []
    },
    {
      "cell_type": "code",
      "metadata": {
        "id": "pH4oBQ95hLgW"
      },
      "source": [
        "import surprise\n",
        "from surprise import Reader, Dataset\n",
        "from surprise import SVD\n",
        "from surprise import NMF\n",
        "from surprise import Dataset\n",
        "from surprise import accuracy\n",
        "\n",
        "\n",
        "from surprise.model_selection import train_test_split\n",
        "from surprise.model_selection import KFold"
      ],
      "execution_count": null,
      "outputs": []
    },
    {
      "cell_type": "code",
      "metadata": {
        "id": "dFIscbzAgnDr"
      },
      "source": [
        "# to load dataset from pandas df, we need `load_fromm_df` method in surprise lib\n",
        "\n",
        "cf_df = pd.DataFrame({'itemID': list(df_grp.rexUrl),\n",
        "                   'userID': list(df_grp.ip),\n",
        "                   'rating': list(df_grp.score)})\n",
        "reader = Reader(rating_scale=(0, 6.0))\n",
        "\n",
        "cf_df = Dataset.load_from_df(cf_df[['userID', 'itemID', 'rating']], reader)"
      ],
      "execution_count": null,
      "outputs": []
    },
    {
      "cell_type": "markdown",
      "metadata": {
        "id": "V4A2b8REhbf7"
      },
      "source": [
        "### Gridsearch NMF"
      ]
    },
    {
      "cell_type": "code",
      "metadata": {
        "id": "F7gbXSlAgnGU"
      },
      "source": [
        "param_grid = {'n_factors': [5, 10,15,20], \n",
        "              'n_epochs': [50,60,70],\n",
        "              'reg_pu': [0.04, 0.05, 0.06, 0.07, 0.08],\n",
        "              'reg_qi': [0.04, 0.05, 0.06, 0.07, 0.08]}\n",
        "\n",
        "\n",
        "gs = surprise.model_selection.GridSearchCV(NMF, param_grid, measures=['rmse'], cv=3, n_jobs=-1)\n",
        "\n",
        "gs.fit(cf_df)"
      ],
      "execution_count": null,
      "outputs": []
    },
    {
      "cell_type": "code",
      "metadata": {
        "id": "5wDIN4lsgmbz",
        "outputId": "8e462a69-edfc-4a65-d250-86bde89ef643",
        "colab": {
          "base_uri": "https://localhost:8080/",
          "height": 397
        }
      },
      "source": [
        "results_df = pd.DataFrame.from_dict(gs.cv_results)\n",
        "results_df.sort_values('rank_test_rmse').head(3)"
      ],
      "execution_count": null,
      "outputs": [
        {
          "output_type": "execute_result",
          "data": {
            "text/html": [
              "<div>\n",
              "<style scoped>\n",
              "    .dataframe tbody tr th:only-of-type {\n",
              "        vertical-align: middle;\n",
              "    }\n",
              "\n",
              "    .dataframe tbody tr th {\n",
              "        vertical-align: top;\n",
              "    }\n",
              "\n",
              "    .dataframe thead th {\n",
              "        text-align: right;\n",
              "    }\n",
              "</style>\n",
              "<table border=\"1\" class=\"dataframe\">\n",
              "  <thead>\n",
              "    <tr style=\"text-align: right;\">\n",
              "      <th></th>\n",
              "      <th>split0_test_rmse</th>\n",
              "      <th>split1_test_rmse</th>\n",
              "      <th>split2_test_rmse</th>\n",
              "      <th>mean_test_rmse</th>\n",
              "      <th>std_test_rmse</th>\n",
              "      <th>rank_test_rmse</th>\n",
              "      <th>mean_fit_time</th>\n",
              "      <th>std_fit_time</th>\n",
              "      <th>mean_test_time</th>\n",
              "      <th>std_test_time</th>\n",
              "      <th>params</th>\n",
              "      <th>param_n_factors</th>\n",
              "      <th>param_n_epochs</th>\n",
              "      <th>param_reg_pu</th>\n",
              "      <th>param_reg_qi</th>\n",
              "    </tr>\n",
              "  </thead>\n",
              "  <tbody>\n",
              "    <tr>\n",
              "      <th>58</th>\n",
              "      <td>0.793032</td>\n",
              "      <td>0.866845</td>\n",
              "      <td>0.944353</td>\n",
              "      <td>0.868076</td>\n",
              "      <td>0.061783</td>\n",
              "      <td>1</td>\n",
              "      <td>0.245246</td>\n",
              "      <td>0.002198</td>\n",
              "      <td>0.009293</td>\n",
              "      <td>0.003376</td>\n",
              "      <td>{'n_factors': 5, 'n_epochs': 70, 'reg_pu': 0.0...</td>\n",
              "      <td>5</td>\n",
              "      <td>70</td>\n",
              "      <td>0.05</td>\n",
              "      <td>0.07</td>\n",
              "    </tr>\n",
              "    <tr>\n",
              "      <th>114</th>\n",
              "      <td>0.798124</td>\n",
              "      <td>0.865474</td>\n",
              "      <td>0.943437</td>\n",
              "      <td>0.869011</td>\n",
              "      <td>0.059377</td>\n",
              "      <td>2</td>\n",
              "      <td>0.277011</td>\n",
              "      <td>0.005318</td>\n",
              "      <td>0.008157</td>\n",
              "      <td>0.000094</td>\n",
              "      <td>{'n_factors': 10, 'n_epochs': 60, 'reg_pu': 0....</td>\n",
              "      <td>10</td>\n",
              "      <td>60</td>\n",
              "      <td>0.06</td>\n",
              "      <td>0.08</td>\n",
              "    </tr>\n",
              "    <tr>\n",
              "      <th>216</th>\n",
              "      <td>0.797023</td>\n",
              "      <td>0.868820</td>\n",
              "      <td>0.941545</td>\n",
              "      <td>0.869129</td>\n",
              "      <td>0.059001</td>\n",
              "      <td>3</td>\n",
              "      <td>0.408522</td>\n",
              "      <td>0.012841</td>\n",
              "      <td>0.007494</td>\n",
              "      <td>0.000443</td>\n",
              "      <td>{'n_factors': 15, 'n_epochs': 70, 'reg_pu': 0....</td>\n",
              "      <td>15</td>\n",
              "      <td>70</td>\n",
              "      <td>0.07</td>\n",
              "      <td>0.05</td>\n",
              "    </tr>\n",
              "  </tbody>\n",
              "</table>\n",
              "</div>"
            ],
            "text/plain": [
              "     split0_test_rmse  split1_test_rmse  ...  param_reg_pu  param_reg_qi\n",
              "58           0.793032          0.866845  ...          0.05          0.07\n",
              "114          0.798124          0.865474  ...          0.06          0.08\n",
              "216          0.797023          0.868820  ...          0.07          0.05\n",
              "\n",
              "[3 rows x 15 columns]"
            ]
          },
          "metadata": {
            "tags": []
          },
          "execution_count": 19
        }
      ]
    },
    {
      "cell_type": "markdown",
      "metadata": {
        "id": "KfyvsqnOceQw"
      },
      "source": [
        "## GridSearch SVD"
      ]
    },
    {
      "cell_type": "code",
      "metadata": {
        "id": "lXxRB7OAg0Jt"
      },
      "source": [
        "param_grid2 = {'n_factors': [80, 90,100,110,120], \n",
        "               'n_epochs': [5,10,20,30,40],\n",
        "              'lr_all': [0.004,0.005,0.006,0.007],\n",
        "              'reg_all': [0.01, 0.02, 0.03, 0.04, 0.05]}\n",
        "\n",
        "\n",
        "gs2 = surprise.model_selection.GridSearchCV(SVD, param_grid2, measures=['rmse'], cv=3, n_jobs=-1)\n",
        "\n",
        "gs2.fit(cf_df)"
      ],
      "execution_count": null,
      "outputs": []
    },
    {
      "cell_type": "code",
      "metadata": {
        "id": "RyNZglKJg0OQ",
        "outputId": "6cf5c910-a5bc-41df-8b26-4577ca3683cb",
        "colab": {
          "base_uri": "https://localhost:8080/",
          "height": 348
        }
      },
      "source": [
        "results_df2 = pd.DataFrame.from_dict(gs2.cv_results)\n",
        "results_df2.sort_values('rank_test_rmse').head(3)"
      ],
      "execution_count": null,
      "outputs": [
        {
          "output_type": "execute_result",
          "data": {
            "text/html": [
              "<div>\n",
              "<style scoped>\n",
              "    .dataframe tbody tr th:only-of-type {\n",
              "        vertical-align: middle;\n",
              "    }\n",
              "\n",
              "    .dataframe tbody tr th {\n",
              "        vertical-align: top;\n",
              "    }\n",
              "\n",
              "    .dataframe thead th {\n",
              "        text-align: right;\n",
              "    }\n",
              "</style>\n",
              "<table border=\"1\" class=\"dataframe\">\n",
              "  <thead>\n",
              "    <tr style=\"text-align: right;\">\n",
              "      <th></th>\n",
              "      <th>split0_test_rmse</th>\n",
              "      <th>split1_test_rmse</th>\n",
              "      <th>split2_test_rmse</th>\n",
              "      <th>mean_test_rmse</th>\n",
              "      <th>std_test_rmse</th>\n",
              "      <th>rank_test_rmse</th>\n",
              "      <th>mean_fit_time</th>\n",
              "      <th>std_fit_time</th>\n",
              "      <th>mean_test_time</th>\n",
              "      <th>std_test_time</th>\n",
              "      <th>params</th>\n",
              "      <th>param_n_factors</th>\n",
              "      <th>param_n_epochs</th>\n",
              "      <th>param_lr_all</th>\n",
              "      <th>param_reg_all</th>\n",
              "    </tr>\n",
              "  </thead>\n",
              "  <tbody>\n",
              "    <tr>\n",
              "      <th>210</th>\n",
              "      <td>0.812508</td>\n",
              "      <td>0.907239</td>\n",
              "      <td>0.817044</td>\n",
              "      <td>0.845597</td>\n",
              "      <td>0.043627</td>\n",
              "      <td>1</td>\n",
              "      <td>0.096518</td>\n",
              "      <td>0.001865</td>\n",
              "      <td>0.013679</td>\n",
              "      <td>0.000796</td>\n",
              "      <td>{'n_factors': 100, 'n_epochs': 5, 'lr_all': 0....</td>\n",
              "      <td>100</td>\n",
              "      <td>5</td>\n",
              "      <td>0.006</td>\n",
              "      <td>0.01</td>\n",
              "    </tr>\n",
              "    <tr>\n",
              "      <th>113</th>\n",
              "      <td>0.813051</td>\n",
              "      <td>0.908523</td>\n",
              "      <td>0.815401</td>\n",
              "      <td>0.845658</td>\n",
              "      <td>0.044462</td>\n",
              "      <td>2</td>\n",
              "      <td>0.088104</td>\n",
              "      <td>0.000321</td>\n",
              "      <td>0.013431</td>\n",
              "      <td>0.000168</td>\n",
              "      <td>{'n_factors': 90, 'n_epochs': 5, 'lr_all': 0.0...</td>\n",
              "      <td>90</td>\n",
              "      <td>5</td>\n",
              "      <td>0.006</td>\n",
              "      <td>0.04</td>\n",
              "    </tr>\n",
              "    <tr>\n",
              "      <th>18</th>\n",
              "      <td>0.812619</td>\n",
              "      <td>0.906577</td>\n",
              "      <td>0.817939</td>\n",
              "      <td>0.845712</td>\n",
              "      <td>0.043093</td>\n",
              "      <td>3</td>\n",
              "      <td>0.080954</td>\n",
              "      <td>0.000494</td>\n",
              "      <td>0.013174</td>\n",
              "      <td>0.001202</td>\n",
              "      <td>{'n_factors': 80, 'n_epochs': 5, 'lr_all': 0.0...</td>\n",
              "      <td>80</td>\n",
              "      <td>5</td>\n",
              "      <td>0.007</td>\n",
              "      <td>0.04</td>\n",
              "    </tr>\n",
              "  </tbody>\n",
              "</table>\n",
              "</div>"
            ],
            "text/plain": [
              "     split0_test_rmse  split1_test_rmse  ...  param_lr_all  param_reg_all\n",
              "210          0.812508          0.907239  ...         0.006           0.01\n",
              "113          0.813051          0.908523  ...         0.006           0.04\n",
              "18           0.812619          0.906577  ...         0.007           0.04\n",
              "\n",
              "[3 rows x 15 columns]"
            ]
          },
          "metadata": {
            "tags": []
          },
          "execution_count": 21
        }
      ]
    },
    {
      "cell_type": "markdown",
      "metadata": {
        "id": "30lgHo-jcobR"
      },
      "source": [
        "## Testing best Model - NMF with params found with GridSearch above"
      ]
    },
    {
      "cell_type": "code",
      "metadata": {
        "id": "pU80JFIlg0MB",
        "outputId": "ee3cd7e8-a723-4cf4-ed39-5056e4f67f8f",
        "colab": {
          "base_uri": "https://localhost:8080/",
          "height": 98
        }
      },
      "source": [
        "# define a cross-validation iterator\n",
        "kf = KFold(n_splits=5)\n",
        "\n",
        "algo_nj = NMF(n_factors=5,n_epochs=70,reg_pu=0.05,reg_qi=0.07)\n",
        "# algo_nj = SVD(n_factors=100, n_epochs=5,lr_all=0.006,reg_all=0.01)\n",
        "\n",
        "for trainset, testset in kf.split(cf_df):\n",
        "\n",
        "    # train and test algorithm.\n",
        "    algo_nj.fit(trainset)\n",
        "    predictions = algo_nj.test(testset)\n",
        "\n",
        "    # Compute and print Root Mean Squared Error\n",
        "    accuracy.rmse(predictions, verbose=True)"
      ],
      "execution_count": null,
      "outputs": [
        {
          "output_type": "stream",
          "text": [
            "RMSE: 0.8026\n",
            "RMSE: 0.8464\n",
            "RMSE: 0.9685\n",
            "RMSE: 0.8993\n",
            "RMSE: 0.8798\n"
          ],
          "name": "stdout"
        }
      ]
    },
    {
      "cell_type": "code",
      "metadata": {
        "id": "tb1A_3Htk2Wx"
      },
      "source": [
        ""
      ],
      "execution_count": null,
      "outputs": []
    }
  ]
}