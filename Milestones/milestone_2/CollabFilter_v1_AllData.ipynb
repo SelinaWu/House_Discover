{
  "nbformat": 4,
  "nbformat_minor": 0,
  "metadata": {
    "colab": {
      "name": "CollabFilter_v1_AllData.ipynb",
      "provenance": [],
      "collapsed_sections": []
    },
    "kernelspec": {
      "name": "python3",
      "display_name": "Python 3"
    }
  },
  "cells": [
    {
      "cell_type": "markdown",
      "metadata": {
        "id": "TQNKpISzb6vT"
      },
      "source": [
        "# Collaborative Filtering V1: Using All Data from Merged WebEvent/Listings"
      ]
    },
    {
      "cell_type": "code",
      "metadata": {
        "id": "aalp1tkSqqA8",
        "outputId": "c740d2a0-7870-41fd-ed3d-694035e246f0",
        "colab": {
          "base_uri": "https://localhost:8080/"
        }
      },
      "source": [
        "from google.colab import drive\n",
        "drive.mount('/content/drive')\n",
        "\n",
        "# Choose relevant working path\n",
        "# %cd drive/My\\ Drive/2020_Fall/'Captstone(297)'/data\n",
        "%cd drive/My\\ Drive/'Captstone(297)'/data"
      ],
      "execution_count": null,
      "outputs": [
        {
          "output_type": "stream",
          "text": [
            "Mounted at /content/drive\n",
            "/content/drive/.shortcut-targets-by-id/1auWpfpINZvmJbl0I50kYmpS29bbnesqp/Captstone(297)/data\n"
          ],
          "name": "stdout"
        }
      ]
    },
    {
      "cell_type": "markdown",
      "metadata": {
        "id": "wq-RhR2eX0AG"
      },
      "source": [
        "## Load in cleaned data from `M2_merge_and_clean_rexdata`"
      ]
    },
    {
      "cell_type": "code",
      "metadata": {
        "id": "P6CJtGv1X8HX"
      },
      "source": [
        "import pandas as pd\n",
        "import numpy as np\n",
        "import matplotlib.pyplot as plt\n",
        "pd.set_option('display.max_rows', None)"
      ],
      "execution_count": null,
      "outputs": []
    },
    {
      "cell_type": "code",
      "metadata": {
        "id": "09uLCP3N5xN8",
        "outputId": "6b4b6038-e4ac-4644-d554-d5696f0f5599",
        "colab": {
          "base_uri": "https://localhost:8080/"
        }
      },
      "source": [
        "merge_df2 = pd.read_csv(\"merged_user_data_rm_suspicious.csv\")"
      ],
      "execution_count": null,
      "outputs": [
        {
          "output_type": "stream",
          "text": [
            "/usr/local/lib/python3.6/dist-packages/IPython/core/interactiveshell.py:2718: DtypeWarning: Columns (11,15,16) have mixed types.Specify dtype option on import or set low_memory=False.\n",
            "  interactivity=interactivity, compiler=compiler, result=result)\n"
          ],
          "name": "stderr"
        }
      ]
    },
    {
      "cell_type": "code",
      "metadata": {
        "id": "EcRFZOZQqY-C",
        "outputId": "872dece4-8e4f-4820-b3de-864164600887",
        "colab": {
          "base_uri": "https://localhost:8080/"
        }
      },
      "source": [
        "merge_df2.shape"
      ],
      "execution_count": null,
      "outputs": [
        {
          "output_type": "execute_result",
          "data": {
            "text/plain": [
              "(728199, 63)"
            ]
          },
          "metadata": {
            "tags": []
          },
          "execution_count": 5
        }
      ]
    },
    {
      "cell_type": "markdown",
      "metadata": {
        "id": "G8Yz1sjgYF1z"
      },
      "source": [
        "## Creating Custom Scoring Metric of WebEvent Data"
      ]
    },
    {
      "cell_type": "code",
      "metadata": {
        "id": "stMP8Huj-hin"
      },
      "source": [
        "special_actions_level0 = ['scroll','pageview','ViewContent','view_item','drag','click']\n",
        "\n",
        "# open-form (questions), (showing, showing-agent) = enter-flow = phone-click\n",
        "# nav-tab (schools-and-comps), success(favorite), change(payment-calculator)\n",
        "special_actions_level1 = ['open-form','enter-flow',  'nav-tab', 'change',\n",
        "                          'success', 'Search', 'view_search_results', 'phone-click']\n",
        "# 'nav' (insidere-details) = lead, submit = submit-success  (showing, showing-agent, buyer-lead-form)\n",
        "special_actions_level2 = ['nav', 'lead', 'submit', 'submit-success','add_to_cart', 'InitiateCheckout',]\n",
        "special_actions_level3 = ['Purchase','purchase']"
      ],
      "execution_count": null,
      "outputs": []
    },
    {
      "cell_type": "code",
      "metadata": {
        "id": "RpTlyCH8ZVHk",
        "outputId": "6bac7988-4a19-497a-96fb-7fdc979c8406",
        "colab": {
          "base_uri": "https://localhost:8080/"
        }
      },
      "source": [
        "action_ct = merge_df2.action.value_counts()\n",
        "total_ct = action_ct.sum()\n",
        "level_weights = []\n",
        "for i, curr_level in enumerate([special_actions_level0, special_actions_level1, \n",
        "                           special_actions_level2, special_actions_level3]):\n",
        "  Lx_weight = 100*action_ct[curr_level].sum()/total_ct\n",
        "  level_weights.append(Lx_weight)\n",
        "  print(\"Level {0:d}: {1:.4f} %\".format(i+1, Lx_weight))"
      ],
      "execution_count": null,
      "outputs": [
        {
          "output_type": "stream",
          "text": [
            "Level 1: 99.3012 %\n",
            "Level 2: 0.5997 %\n",
            "Level 3: 0.0860 %\n",
            "Level 4: 0.0132 %\n"
          ],
          "name": "stdout"
        }
      ]
    },
    {
      "cell_type": "code",
      "metadata": {
        "id": "zKCf4XoubooN",
        "outputId": "62ab4c3d-9bd8-4260-e6ab-82c2ce3c74ee",
        "colab": {
          "base_uri": "https://localhost:8080/"
        }
      },
      "source": [
        "merge_df2.loc[merge_df2.action=='change'].category.value_counts()"
      ],
      "execution_count": null,
      "outputs": [
        {
          "output_type": "execute_result",
          "data": {
            "text/plain": [
              "payment-calculator    4135\n",
              "Name: category, dtype: int64"
            ]
          },
          "metadata": {
            "tags": []
          },
          "execution_count": 9
        }
      ]
    },
    {
      "cell_type": "markdown",
      "metadata": {
        "id": "RUY55_GfeVga"
      },
      "source": [
        "### Extract user action info + calculate scores"
      ]
    },
    {
      "cell_type": "code",
      "metadata": {
        "id": "Gp9Lcbm1vi-u",
        "outputId": "10ee29ce-c136-4528-eb79-42cbefe8d477",
        "colab": {
          "base_uri": "https://localhost:8080/",
          "height": 220
        }
      },
      "source": [
        "group = merge_df2.groupby(by=['ip', 'rexUrl']).agg(scroll_ct = ('action',lambda x: sum(x==\"scroll\")),\n",
        "                                                   pageview_ct = ('action',lambda x: sum(x==\"pageview\")),\n",
        "                                                   viewcontent_ct = ('action',lambda x: sum(x=='ViewContent')),\n",
        "                                                   view_item_ct = ('action',lambda x: sum(x=='view_item')),\n",
        "                                                   drag_ct = ('action',lambda x: sum(x=='drag')),\n",
        "                                                   click_ct = ('action',lambda x: sum(x=='click')),\n",
        "                                                   level0_ct = ('action', lambda x: sum(np.isin(x, special_actions_level0))),\n",
        "                                                   level1_ct = ('action', lambda x: sum(np.isin(x, special_actions_level1))),\n",
        "                                                   level2_ct = ('action', lambda x: sum(np.isin(x, special_actions_level2))),\n",
        "                                                   level3_ct = ('action', lambda x: sum(np.isin(x, special_actions_level3))))\n",
        "group.head()"
      ],
      "execution_count": null,
      "outputs": [
        {
          "output_type": "execute_result",
          "data": {
            "text/html": [
              "<div>\n",
              "<style scoped>\n",
              "    .dataframe tbody tr th:only-of-type {\n",
              "        vertical-align: middle;\n",
              "    }\n",
              "\n",
              "    .dataframe tbody tr th {\n",
              "        vertical-align: top;\n",
              "    }\n",
              "\n",
              "    .dataframe thead th {\n",
              "        text-align: right;\n",
              "    }\n",
              "</style>\n",
              "<table border=\"1\" class=\"dataframe\">\n",
              "  <thead>\n",
              "    <tr style=\"text-align: right;\">\n",
              "      <th></th>\n",
              "      <th></th>\n",
              "      <th>scroll_ct</th>\n",
              "      <th>pageview_ct</th>\n",
              "      <th>viewcontent_ct</th>\n",
              "      <th>view_item_ct</th>\n",
              "      <th>drag_ct</th>\n",
              "      <th>click_ct</th>\n",
              "      <th>level0_ct</th>\n",
              "      <th>level1_ct</th>\n",
              "      <th>level2_ct</th>\n",
              "      <th>level3_ct</th>\n",
              "    </tr>\n",
              "    <tr>\n",
              "      <th>ip</th>\n",
              "      <th>rexUrl</th>\n",
              "      <th></th>\n",
              "      <th></th>\n",
              "      <th></th>\n",
              "      <th></th>\n",
              "      <th></th>\n",
              "      <th></th>\n",
              "      <th></th>\n",
              "      <th></th>\n",
              "      <th></th>\n",
              "      <th></th>\n",
              "    </tr>\n",
              "  </thead>\n",
              "  <tbody>\n",
              "    <tr>\n",
              "      <th>1.128.108.49</th>\n",
              "      <th>384-woodson-dr</th>\n",
              "      <td>6</td>\n",
              "      <td>2</td>\n",
              "      <td>2</td>\n",
              "      <td>2</td>\n",
              "      <td>0</td>\n",
              "      <td>0</td>\n",
              "      <td>12</td>\n",
              "      <td>0</td>\n",
              "      <td>0</td>\n",
              "      <td>0</td>\n",
              "    </tr>\n",
              "    <tr>\n",
              "      <th rowspan=\"2\" valign=\"top\">1.39.31.35</th>\n",
              "      <th>139-belmill-rd</th>\n",
              "      <td>3</td>\n",
              "      <td>1</td>\n",
              "      <td>1</td>\n",
              "      <td>1</td>\n",
              "      <td>0</td>\n",
              "      <td>0</td>\n",
              "      <td>6</td>\n",
              "      <td>0</td>\n",
              "      <td>0</td>\n",
              "      <td>0</td>\n",
              "    </tr>\n",
              "    <tr>\n",
              "      <th>552-mermaid-ave</th>\n",
              "      <td>5</td>\n",
              "      <td>1</td>\n",
              "      <td>1</td>\n",
              "      <td>1</td>\n",
              "      <td>0</td>\n",
              "      <td>0</td>\n",
              "      <td>8</td>\n",
              "      <td>0</td>\n",
              "      <td>0</td>\n",
              "      <td>0</td>\n",
              "    </tr>\n",
              "    <tr>\n",
              "      <th>1.41.155.180</th>\n",
              "      <th>610-los-trancos-rd</th>\n",
              "      <td>17</td>\n",
              "      <td>1</td>\n",
              "      <td>1</td>\n",
              "      <td>1</td>\n",
              "      <td>0</td>\n",
              "      <td>0</td>\n",
              "      <td>20</td>\n",
              "      <td>0</td>\n",
              "      <td>0</td>\n",
              "      <td>0</td>\n",
              "    </tr>\n",
              "    <tr>\n",
              "      <th>10.246.230.210</th>\n",
              "      <th>431-n-union-st</th>\n",
              "      <td>21</td>\n",
              "      <td>1</td>\n",
              "      <td>1</td>\n",
              "      <td>1</td>\n",
              "      <td>0</td>\n",
              "      <td>0</td>\n",
              "      <td>24</td>\n",
              "      <td>0</td>\n",
              "      <td>0</td>\n",
              "      <td>0</td>\n",
              "    </tr>\n",
              "  </tbody>\n",
              "</table>\n",
              "</div>"
            ],
            "text/plain": [
              "                                   scroll_ct  pageview_ct  ...  level2_ct  level3_ct\n",
              "ip             rexUrl                                      ...                      \n",
              "1.128.108.49   384-woodson-dr              6            2  ...          0          0\n",
              "1.39.31.35     139-belmill-rd              3            1  ...          0          0\n",
              "               552-mermaid-ave             5            1  ...          0          0\n",
              "1.41.155.180   610-los-trancos-rd         17            1  ...          0          0\n",
              "10.246.230.210 431-n-union-st             21            1  ...          0          0\n",
              "\n",
              "[5 rows x 10 columns]"
            ]
          },
          "metadata": {
            "tags": []
          },
          "execution_count": 10
        }
      ]
    },
    {
      "cell_type": "markdown",
      "metadata": {
        "id": "QNzYBoU7eilP"
      },
      "source": [
        "#### 2.2 Scoring rules\n",
        "* cap at 6, if above 6 will be rounded to 6\n",
        "\n",
        ">**new version**<br>\n",
        "weight by action frequency and cap by 6\n",
        "\n",
        "[old version]\n",
        "1.   Level 0 - normal actions: weight 0.1 per ct\n",
        "2.   Level 1 - show a bit interest actions: weight 1 per ct\n",
        "3.   Level 2 - user asked for additional info: weight 2 per ct\n",
        "4.   Level 3 - user click the purchase button: weight 3 per ct\n",
        "\n"
      ]
    },
    {
      "cell_type": "code",
      "metadata": {
        "id": "QFRFvJzXeUUd",
        "outputId": "9ab06d85-37de-422a-88b1-fc6b66c76e1d",
        "colab": {
          "base_uri": "https://localhost:8080/",
          "height": 207
        }
      },
      "source": [
        "def calculate_score(row):\n",
        "  curr_score = 0\n",
        "  for i in range(4):\n",
        "    curr_weight = np.clip(1/level_weights[i],0,6)\n",
        "    curr_score += row[f'level{i}_ct']*curr_weight\n",
        "  return min(6, curr_score)\n",
        "\n",
        "# Based on Selina score rule\n",
        "group['score'] = group.apply(lambda x: calculate_score(x), axis=1)\n",
        "\n",
        "## input for CF model\n",
        "cf_data = group.reset_index()[['ip', 'rexUrl','score']]\n",
        "print(\"Input for CF model: \", cf_data.shape)\n",
        "cf_data.head()"
      ],
      "execution_count": null,
      "outputs": [
        {
          "output_type": "stream",
          "text": [
            "Input for CF model:  (33693, 3)\n"
          ],
          "name": "stdout"
        },
        {
          "output_type": "execute_result",
          "data": {
            "text/html": [
              "<div>\n",
              "<style scoped>\n",
              "    .dataframe tbody tr th:only-of-type {\n",
              "        vertical-align: middle;\n",
              "    }\n",
              "\n",
              "    .dataframe tbody tr th {\n",
              "        vertical-align: top;\n",
              "    }\n",
              "\n",
              "    .dataframe thead th {\n",
              "        text-align: right;\n",
              "    }\n",
              "</style>\n",
              "<table border=\"1\" class=\"dataframe\">\n",
              "  <thead>\n",
              "    <tr style=\"text-align: right;\">\n",
              "      <th></th>\n",
              "      <th>ip</th>\n",
              "      <th>rexUrl</th>\n",
              "      <th>score</th>\n",
              "    </tr>\n",
              "  </thead>\n",
              "  <tbody>\n",
              "    <tr>\n",
              "      <th>0</th>\n",
              "      <td>1.128.108.49</td>\n",
              "      <td>384-woodson-dr</td>\n",
              "      <td>0.120845</td>\n",
              "    </tr>\n",
              "    <tr>\n",
              "      <th>1</th>\n",
              "      <td>1.39.31.35</td>\n",
              "      <td>139-belmill-rd</td>\n",
              "      <td>0.060422</td>\n",
              "    </tr>\n",
              "    <tr>\n",
              "      <th>2</th>\n",
              "      <td>1.39.31.35</td>\n",
              "      <td>552-mermaid-ave</td>\n",
              "      <td>0.080563</td>\n",
              "    </tr>\n",
              "    <tr>\n",
              "      <th>3</th>\n",
              "      <td>1.41.155.180</td>\n",
              "      <td>610-los-trancos-rd</td>\n",
              "      <td>0.201408</td>\n",
              "    </tr>\n",
              "    <tr>\n",
              "      <th>4</th>\n",
              "      <td>10.246.230.210</td>\n",
              "      <td>431-n-union-st</td>\n",
              "      <td>0.241689</td>\n",
              "    </tr>\n",
              "  </tbody>\n",
              "</table>\n",
              "</div>"
            ],
            "text/plain": [
              "               ip              rexUrl     score\n",
              "0    1.128.108.49      384-woodson-dr  0.120845\n",
              "1      1.39.31.35      139-belmill-rd  0.060422\n",
              "2      1.39.31.35     552-mermaid-ave  0.080563\n",
              "3    1.41.155.180  610-los-trancos-rd  0.201408\n",
              "4  10.246.230.210      431-n-union-st  0.241689"
            ]
          },
          "metadata": {
            "tags": []
          },
          "execution_count": 11
        }
      ]
    },
    {
      "cell_type": "code",
      "metadata": {
        "id": "mXRjV9Nu7j_H",
        "outputId": "2e055dc8-fc44-42a5-941c-f58f90a74a83",
        "colab": {
          "base_uri": "https://localhost:8080/",
          "height": 265
        }
      },
      "source": [
        "high_score_df = group.loc[(group.score<=6) &(group.score>=1)].head()\n",
        "\n",
        "plt.hist([high_score_df.level0_ct, high_score_df.level1_ct, high_score_df.level2_ct, high_score_df.level3_ct])\n",
        "plt.legend(['level 0', 'level 1', 'level 2', 'level 3'])\n",
        "plt.show()"
      ],
      "execution_count": null,
      "outputs": [
        {
          "output_type": "display_data",
          "data": {
            "image/png": "[encoded data removed]",
            "text/plain": [
              "<Figure size 432x288 with 1 Axes>"
            ]
          },
          "metadata": {
            "tags": [],
            "needs_background": "light"
          }
        }
      ]
    },
    {
      "cell_type": "code",
      "metadata": {
        "id": "PN8E5ywjhbB3",
        "outputId": "d7334de4-ac0c-4fb1-f788-2b6cc5ba8eb3",
        "colab": {
          "base_uri": "https://localhost:8080/",
          "height": 295
        }
      },
      "source": [
        "plt.hist(cf_data.score)\n",
        "plt.title('Distribution of Intent Scores')\n",
        "plt.ylabel('Freq')\n",
        "plt.xlabel('Intent Score')\n",
        "plt.show()"
      ],
      "execution_count": null,
      "outputs": [
        {
          "output_type": "display_data",
          "data": {
            "image/png": "[encoded data removed]",
            "text/plain": [
              "<Figure size 432x288 with 1 Axes>"
            ]
          },
          "metadata": {
            "tags": [],
            "needs_background": "light"
          }
        }
      ]
    },
    {
      "cell_type": "markdown",
      "metadata": {
        "id": "N0vbVyMJgFfJ"
      },
      "source": [
        "### 2.3 Investigate number of houses observed per ip"
      ]
    },
    {
      "cell_type": "code",
      "metadata": {
        "id": "KTb8OOcHveDn",
        "outputId": "021ae426-69e8-418b-9682-0f8adfd46ce2",
        "colab": {
          "base_uri": "https://localhost:8080/",
          "height": 220
        }
      },
      "source": [
        "group2 = group.reset_index().groupby(by=['ip'])[['rexUrl']].count()\n",
        "group2.head()"
      ],
      "execution_count": null,
      "outputs": [
        {
          "output_type": "execute_result",
          "data": {
            "text/html": [
              "<div>\n",
              "<style scoped>\n",
              "    .dataframe tbody tr th:only-of-type {\n",
              "        vertical-align: middle;\n",
              "    }\n",
              "\n",
              "    .dataframe tbody tr th {\n",
              "        vertical-align: top;\n",
              "    }\n",
              "\n",
              "    .dataframe thead th {\n",
              "        text-align: right;\n",
              "    }\n",
              "</style>\n",
              "<table border=\"1\" class=\"dataframe\">\n",
              "  <thead>\n",
              "    <tr style=\"text-align: right;\">\n",
              "      <th></th>\n",
              "      <th>rexUrl</th>\n",
              "    </tr>\n",
              "    <tr>\n",
              "      <th>ip</th>\n",
              "      <th></th>\n",
              "    </tr>\n",
              "  </thead>\n",
              "  <tbody>\n",
              "    <tr>\n",
              "      <th>1.128.108.49</th>\n",
              "      <td>1</td>\n",
              "    </tr>\n",
              "    <tr>\n",
              "      <th>1.39.31.35</th>\n",
              "      <td>2</td>\n",
              "    </tr>\n",
              "    <tr>\n",
              "      <th>1.41.155.180</th>\n",
              "      <td>1</td>\n",
              "    </tr>\n",
              "    <tr>\n",
              "      <th>10.246.230.210</th>\n",
              "      <td>1</td>\n",
              "    </tr>\n",
              "    <tr>\n",
              "      <th>10.70.33.53</th>\n",
              "      <td>1</td>\n",
              "    </tr>\n",
              "  </tbody>\n",
              "</table>\n",
              "</div>"
            ],
            "text/plain": [
              "                rexUrl\n",
              "ip                    \n",
              "1.128.108.49         1\n",
              "1.39.31.35           2\n",
              "1.41.155.180         1\n",
              "10.246.230.210       1\n",
              "10.70.33.53          1"
            ]
          },
          "metadata": {
            "tags": []
          },
          "execution_count": 14
        }
      ]
    },
    {
      "cell_type": "code",
      "metadata": {
        "id": "cHyTiERHwZpJ",
        "outputId": "78df630d-2d94-400c-b4b8-8695eb0eec13",
        "colab": {
          "base_uri": "https://localhost:8080/",
          "height": 278
        }
      },
      "source": [
        "url_ct = group2.rexUrl.values\n",
        "plt.hist(url_ct[(url_ct<10)&(url_ct>1)], bins=10)\n",
        "plt.yscale('symlog')\n",
        "plt.xlabel(\"House counts\")\n",
        "plt.ylabel(\"Frequency\")\n",
        "plt.show()"
      ],
      "execution_count": null,
      "outputs": [
        {
          "output_type": "display_data",
          "data": {
            "image/png": "[encoded data removed]",
            "text/plain": [
              "<Figure size 432x288 with 1 Axes>"
            ]
          },
          "metadata": {
            "tags": [],
            "needs_background": "light"
          }
        }
      ]
    },
    {
      "cell_type": "code",
      "metadata": {
        "id": "YRDsppfWH5Sy",
        "outputId": "95bca6a5-16c8-4940-ec4f-4b184a89d44a",
        "colab": {
          "base_uri": "https://localhost:8080/",
          "height": 278
        }
      },
      "source": [
        "plt.hist(np.clip(url_ct,0,10))\n",
        "plt.yscale('log')\n",
        "plt.xlabel(\"House counts\")\n",
        "plt.ylabel(\"Frequency\")\n",
        "plt.show()"
      ],
      "execution_count": null,
      "outputs": [
        {
          "output_type": "display_data",
          "data": {
            "image/png": "[encoded data removed]",
            "text/plain": [
              "<Figure size 432x288 with 1 Axes>"
            ]
          },
          "metadata": {
            "tags": [],
            "needs_background": "light"
          }
        }
      ]
    },
    {
      "cell_type": "code",
      "metadata": {
        "id": "vK2mArmjLOfh",
        "outputId": "ce34fc43-26d3-422d-e281-51e6d48e2f39",
        "colab": {
          "base_uri": "https://localhost:8080/"
        }
      },
      "source": [
        "len(set(merge_df2['ip']))"
      ],
      "execution_count": null,
      "outputs": [
        {
          "output_type": "execute_result",
          "data": {
            "text/plain": [
              "21921"
            ]
          },
          "metadata": {
            "tags": []
          },
          "execution_count": 17
        }
      ]
    },
    {
      "cell_type": "code",
      "metadata": {
        "id": "0kA1qUcGII17",
        "outputId": "8348ca2b-a31b-4dec-9b88-1957c730ead8",
        "colab": {
          "base_uri": "https://localhost:8080/",
          "height": 295
        }
      },
      "source": [
        "counties_per_ip = merge_df2.groupby('ip').agg({'county':'nunique'})['county']\n",
        "plt.hist(np.clip(counties_per_ip,0,10))\n",
        "plt.yscale('log')\n",
        "plt.title('Number of Unique Counties Looked at by Each IP')\n",
        "plt.xlabel(\"Count of Unique Counties\")\n",
        "plt.ylabel(\"Frequency\")\n",
        "plt.show()"
      ],
      "execution_count": null,
      "outputs": [
        {
          "output_type": "display_data",
          "data": {
            "image/png": "[encoded data removed]",
            "text/plain": [
              "<Figure size 432x288 with 1 Axes>"
            ]
          },
          "metadata": {
            "tags": [],
            "needs_background": "light"
          }
        }
      ]
    },
    {
      "cell_type": "code",
      "metadata": {
        "id": "aWeSlxfEMOV1",
        "outputId": "ca23da50-83ee-46a4-94fc-c1bf2c537d23",
        "colab": {
          "base_uri": "https://localhost:8080/",
          "height": 295
        }
      },
      "source": [
        "states_per_ip = merge_df2.groupby('ip').agg({'state':'nunique'})['state']\n",
        "plt.hist(np.clip(states_per_ip,0,10))\n",
        "plt.yscale('log')\n",
        "plt.title('Number of Unique States Looked at by Each IP')\n",
        "plt.xlabel(\"Count of Unique States\")\n",
        "plt.ylabel(\"Frequency\")\n",
        "plt.show()"
      ],
      "execution_count": null,
      "outputs": [
        {
          "output_type": "display_data",
          "data": {
            "image/png": "[encoded data removed]",
            "text/plain": [
              "<Figure size 432x288 with 1 Axes>"
            ]
          },
          "metadata": {
            "tags": [],
            "needs_background": "light"
          }
        }
      ]
    },
    {
      "cell_type": "code",
      "metadata": {
        "id": "l8jPkrWRoSQG",
        "outputId": "9e205f60-b6c2-4122-8123-31f47001d26a",
        "colab": {
          "base_uri": "https://localhost:8080/"
        }
      },
      "source": [
        "len(states_per_ip[states_per_ip>10])"
      ],
      "execution_count": null,
      "outputs": [
        {
          "output_type": "execute_result",
          "data": {
            "text/plain": [
              "0"
            ]
          },
          "metadata": {
            "tags": []
          },
          "execution_count": 20
        }
      ]
    },
    {
      "cell_type": "markdown",
      "metadata": {
        "id": "z35rKShAgJNx"
      },
      "source": [
        "## 2.4 CF Model using Entire Dataset\n",
        "\n",
        ">`Item-Item Collaborative Filtering`: \"Users who liked this item also liked …\"<br>\n",
        ">`User-Item Collaborative Filtering`: \"Users who are similar to you also liked …\""
      ]
    },
    {
      "cell_type": "code",
      "metadata": {
        "id": "9M9DRf0W2Fkv",
        "outputId": "606b1ddd-521b-4f4c-dc43-a403f0b59d16",
        "colab": {
          "base_uri": "https://localhost:8080/"
        }
      },
      "source": [
        "!pip install scikit-surprise"
      ],
      "execution_count": null,
      "outputs": [
        {
          "output_type": "stream",
          "text": [
            "Collecting scikit-surprise\n",
            "\u001b[?25l  Downloading https://files.pythonhosted.org/packages/97/37/5d334adaf5ddd65da99fc65f6507e0e4599d092ba048f4302fe8775619e8/scikit-surprise-1.1.1.tar.gz (11.8MB)\n",
            "\u001b[K     |████████████████████████████████| 11.8MB 284kB/s \n",
            "\u001b[?25hRequirement already satisfied: joblib>=0.11 in /usr/local/lib/python3.6/dist-packages (from scikit-surprise) (0.17.0)\n",
            "Requirement already satisfied: numpy>=1.11.2 in /usr/local/lib/python3.6/dist-packages (from scikit-surprise) (1.18.5)\n",
            "Requirement already satisfied: scipy>=1.0.0 in /usr/local/lib/python3.6/dist-packages (from scikit-surprise) (1.4.1)\n",
            "Requirement already satisfied: six>=1.10.0 in /usr/local/lib/python3.6/dist-packages (from scikit-surprise) (1.15.0)\n",
            "Building wheels for collected packages: scikit-surprise\n",
            "  Building wheel for scikit-surprise (setup.py) ... \u001b[?25l\u001b[?25hdone\n",
            "  Created wheel for scikit-surprise: filename=scikit_surprise-1.1.1-cp36-cp36m-linux_x86_64.whl size=1670965 sha256=1c8d472c7d9f4cb2a22ff8ed40a8924450df66725cbf27d9d09e8f27cbb38589\n",
            "  Stored in directory: /root/.cache/pip/wheels/78/9c/3d/41b419c9d2aff5b6e2b4c0fc8d25c538202834058f9ed110d0\n",
            "Successfully built scikit-surprise\n",
            "Installing collected packages: scikit-surprise\n",
            "Successfully installed scikit-surprise-1.1.1\n"
          ],
          "name": "stdout"
        }
      ]
    },
    {
      "cell_type": "code",
      "metadata": {
        "id": "AHoBlJr72U28"
      },
      "source": [
        "# https://towardsdatascience.com/various-implementations-of-collaborative-filtering-100385c6dfe0\n",
        "from surprise import Reader, Dataset\n",
        "from surprise import SVD\n",
        "from surprise import NMF\n",
        "from surprise import Dataset\n",
        "from surprise import accuracy\n",
        "import surprise\n",
        "\n",
        "\n",
        "from surprise.model_selection import train_test_split\n",
        "from surprise.model_selection import KFold\n"
      ],
      "execution_count": null,
      "outputs": []
    },
    {
      "cell_type": "code",
      "metadata": {
        "id": "M4gFNPDLiRGn"
      },
      "source": [
        "# to load dataset from pandas df, we need `load_fromm_df` method in surprise lib\n",
        "\n",
        "ratings_dict = {'itemID': list(cf_data.rexUrl),\n",
        "                'userID': list(cf_data.ip),\n",
        "                'rating': list(cf_data.score)}\n",
        "df = pd.DataFrame(ratings_dict)\n",
        "reader = Reader(rating_scale=(0, 6.0))\n",
        "\n",
        "data = Dataset.load_from_df(df[['userID', 'itemID', 'rating']], reader)"
      ],
      "execution_count": null,
      "outputs": []
    },
    {
      "cell_type": "markdown",
      "metadata": {
        "id": "WEreG1VkZXl6"
      },
      "source": [
        "## Simple K-Fold SVD"
      ]
    },
    {
      "cell_type": "code",
      "metadata": {
        "id": "Xl9CJ6TIiDhX",
        "outputId": "951d9cd3-6629-46aa-db41-193e26de3825",
        "colab": {
          "base_uri": "https://localhost:8080/"
        }
      },
      "source": [
        "# # sample random trainset and testset\n",
        "# # test set is made of 25% of the ratings.\n",
        "# trainset, testset = train_test_split(data, test_size=.25)\n",
        "\n",
        "# # Use SVD algorithm.\n",
        "# algo = SVD()\n",
        "\n",
        "# # Train the algorithm on the trainset, and predict ratings for the testset\n",
        "# algo.fit(trainset)\n",
        "# predictions = algo.test(testset)\n",
        "\n",
        "# # Then compute RMSE\n",
        "# accuracy.rmse(predictions)\n",
        "\n",
        "# define a cross-validation iterator\n",
        "kf = KFold(n_splits=5)\n",
        "\n",
        "algo = SVD()\n",
        "\n",
        "for trainset, testset in kf.split(data):\n",
        "\n",
        "    # train and test algorithm.\n",
        "    algo.fit(trainset)\n",
        "    predictions = algo.test(testset)\n",
        "\n",
        "    # Compute and print Root Mean Squared Error\n",
        "    accuracy.rmse(predictions, verbose=True)"
      ],
      "execution_count": null,
      "outputs": [
        {
          "output_type": "stream",
          "text": [
            "RMSE: 0.8887\n",
            "RMSE: 0.8169\n",
            "RMSE: 0.7833\n",
            "RMSE: 0.8627\n",
            "RMSE: 0.8489\n"
          ],
          "name": "stdout"
        }
      ]
    },
    {
      "cell_type": "markdown",
      "metadata": {
        "id": "RSh8-DT-9NbK"
      },
      "source": [
        "---"
      ]
    },
    {
      "cell_type": "markdown",
      "metadata": {
        "id": "zwMLyRKFyWX2"
      },
      "source": [
        "## Analysis of Recommendations"
      ]
    },
    {
      "cell_type": "code",
      "metadata": {
        "id": "lVEE6ZjwZsok",
        "outputId": "f22640be-178a-4b45-b5bc-e21f1ab37d61",
        "colab": {
          "base_uri": "https://localhost:8080/",
          "height": 76
        }
      },
      "source": [
        "cf_data.loc[cf_data.rexUrl==\"1006-e-59th-st-brooklyn\"].head(1)"
      ],
      "execution_count": null,
      "outputs": [
        {
          "output_type": "execute_result",
          "data": {
            "text/html": [
              "<div>\n",
              "<style scoped>\n",
              "    .dataframe tbody tr th:only-of-type {\n",
              "        vertical-align: middle;\n",
              "    }\n",
              "\n",
              "    .dataframe tbody tr th {\n",
              "        vertical-align: top;\n",
              "    }\n",
              "\n",
              "    .dataframe thead th {\n",
              "        text-align: right;\n",
              "    }\n",
              "</style>\n",
              "<table border=\"1\" class=\"dataframe\">\n",
              "  <thead>\n",
              "    <tr style=\"text-align: right;\">\n",
              "      <th></th>\n",
              "      <th>ip</th>\n",
              "      <th>rexUrl</th>\n",
              "      <th>score</th>\n",
              "    </tr>\n",
              "  </thead>\n",
              "  <tbody>\n",
              "    <tr>\n",
              "      <th>19</th>\n",
              "      <td>100.1.108.166</td>\n",
              "      <td>1006-e-59th-st-brooklyn</td>\n",
              "      <td>0.422956</td>\n",
              "    </tr>\n",
              "  </tbody>\n",
              "</table>\n",
              "</div>"
            ],
            "text/plain": [
              "               ip                   rexUrl     score\n",
              "19  100.1.108.166  1006-e-59th-st-brooklyn  0.422956"
            ]
          },
          "metadata": {
            "tags": []
          },
          "execution_count": 28
        }
      ]
    },
    {
      "cell_type": "code",
      "metadata": {
        "id": "MureLPbqZuJL",
        "outputId": "4df86076-a986-4d68-ea2b-5e43852df1fa",
        "colab": {
          "base_uri": "https://localhost:8080/"
        }
      },
      "source": [
        "uid_test = '100.1.108.166'\n",
        "iid_test = '1006-e-59th-st-brooklyn'\n",
        "\n",
        "# get a prediction for specific users and items.\n",
        "pred = algo.predict(uid_test, iid_test, r_ui=0.42, verbose=False)\n",
        "pred.est"
      ],
      "execution_count": null,
      "outputs": [
        {
          "output_type": "execute_result",
          "data": {
            "text/plain": [
              "0.37726620208067585"
            ]
          },
          "metadata": {
            "tags": []
          },
          "execution_count": 29
        }
      ]
    },
    {
      "cell_type": "markdown",
      "metadata": {
        "id": "3vgYdQNQZwHT"
      },
      "source": [
        "### Function to return top recommendations for user"
      ]
    },
    {
      "cell_type": "code",
      "metadata": {
        "id": "8z-diPASyZXq"
      },
      "source": [
        "def top_recs_for_user(ratings_df_in, uid_in, algo_in):\n",
        "  unique_listings = set(ratings_df_in['itemID'])\n",
        "  unseen_listings = unique_listings - set(ratings_df_in[ratings_df_in['userID']==uid_in]['itemID'])\n",
        "  unseen_listings = list(unseen_listings)\n",
        "\n",
        "  preds = []\n",
        "  for listing in unseen_listings:\n",
        "    preds.append(algo_in.predict(uid_in, listing, verbose=False).est)\n",
        "\n",
        "  preds_df = pd.DataFrame({'iid': unseen_listings, 'pred_score': preds})\n",
        "  preds_df.sort_values('pred_score', ascending=False,inplace=True)\n",
        "\n",
        "  return preds_df"
      ],
      "execution_count": null,
      "outputs": []
    },
    {
      "cell_type": "markdown",
      "metadata": {
        "id": "4wLW4C3l2VJ7"
      },
      "source": [
        "These are the top predictions"
      ]
    },
    {
      "cell_type": "code",
      "metadata": {
        "id": "rGHSbDopyZ8z",
        "outputId": "838e2d1a-43f8-4618-da9a-10ded5d6a80f",
        "colab": {
          "base_uri": "https://localhost:8080/",
          "height": 335
        }
      },
      "source": [
        "top_recs_for_user(ratings_df_in=df, uid_in = uid_test, algo_in=algo).head(10)"
      ],
      "execution_count": null,
      "outputs": [
        {
          "output_type": "execute_result",
          "data": {
            "text/html": [
              "<div>\n",
              "<style scoped>\n",
              "    .dataframe tbody tr th:only-of-type {\n",
              "        vertical-align: middle;\n",
              "    }\n",
              "\n",
              "    .dataframe tbody tr th {\n",
              "        vertical-align: top;\n",
              "    }\n",
              "\n",
              "    .dataframe thead th {\n",
              "        text-align: right;\n",
              "    }\n",
              "</style>\n",
              "<table border=\"1\" class=\"dataframe\">\n",
              "  <thead>\n",
              "    <tr style=\"text-align: right;\">\n",
              "      <th></th>\n",
              "      <th>iid</th>\n",
              "      <th>pred_score</th>\n",
              "    </tr>\n",
              "  </thead>\n",
              "  <tbody>\n",
              "    <tr>\n",
              "      <th>869</th>\n",
              "      <td>1335-calle-pecos</td>\n",
              "      <td>1.570673</td>\n",
              "    </tr>\n",
              "    <tr>\n",
              "      <th>1013</th>\n",
              "      <td>4232-upper-park-dr</td>\n",
              "      <td>1.247818</td>\n",
              "    </tr>\n",
              "    <tr>\n",
              "      <th>351</th>\n",
              "      <td>1742-stratford-cir</td>\n",
              "      <td>1.022544</td>\n",
              "    </tr>\n",
              "    <tr>\n",
              "      <th>1095</th>\n",
              "      <td>183-river-run-cir</td>\n",
              "      <td>0.992352</td>\n",
              "    </tr>\n",
              "    <tr>\n",
              "      <th>1050</th>\n",
              "      <td>6719-glen-mawr-ave</td>\n",
              "      <td>0.982111</td>\n",
              "    </tr>\n",
              "    <tr>\n",
              "      <th>269</th>\n",
              "      <td>521-sterling-falls-ave</td>\n",
              "      <td>0.930813</td>\n",
              "    </tr>\n",
              "    <tr>\n",
              "      <th>480</th>\n",
              "      <td>7140-foggy-mist-ave</td>\n",
              "      <td>0.921168</td>\n",
              "    </tr>\n",
              "    <tr>\n",
              "      <th>1497</th>\n",
              "      <td>630-cranes-way-apt-302</td>\n",
              "      <td>0.897232</td>\n",
              "    </tr>\n",
              "    <tr>\n",
              "      <th>1368</th>\n",
              "      <td>36164-darcy-pl</td>\n",
              "      <td>0.894252</td>\n",
              "    </tr>\n",
              "    <tr>\n",
              "      <th>1086</th>\n",
              "      <td>8219-andrus-dr</td>\n",
              "      <td>0.886195</td>\n",
              "    </tr>\n",
              "  </tbody>\n",
              "</table>\n",
              "</div>"
            ],
            "text/plain": [
              "                         iid  pred_score\n",
              "869         1335-calle-pecos    1.570673\n",
              "1013      4232-upper-park-dr    1.247818\n",
              "351       1742-stratford-cir    1.022544\n",
              "1095       183-river-run-cir    0.992352\n",
              "1050      6719-glen-mawr-ave    0.982111\n",
              "269   521-sterling-falls-ave    0.930813\n",
              "480      7140-foggy-mist-ave    0.921168\n",
              "1497  630-cranes-way-apt-302    0.897232\n",
              "1368          36164-darcy-pl    0.894252\n",
              "1086          8219-andrus-dr    0.886195"
            ]
          },
          "metadata": {
            "tags": []
          },
          "execution_count": 31
        }
      ]
    },
    {
      "cell_type": "markdown",
      "metadata": {
        "id": "mC6feMqWyiqU"
      },
      "source": [
        "Looking into where this person was looking for houses"
      ]
    },
    {
      "cell_type": "code",
      "metadata": {
        "id": "c2RuL7c2ygv0",
        "outputId": "cc1be9f4-ed5c-4ce2-de01-ff5ed211c989",
        "colab": {
          "base_uri": "https://localhost:8080/",
          "height": 162
        }
      },
      "source": [
        "df[df['userID']==uid_test].sort_values('rating',ascending=False).head()"
      ],
      "execution_count": null,
      "outputs": [
        {
          "output_type": "execute_result",
          "data": {
            "text/html": [
              "<div>\n",
              "<style scoped>\n",
              "    .dataframe tbody tr th:only-of-type {\n",
              "        vertical-align: middle;\n",
              "    }\n",
              "\n",
              "    .dataframe tbody tr th {\n",
              "        vertical-align: top;\n",
              "    }\n",
              "\n",
              "    .dataframe thead th {\n",
              "        text-align: right;\n",
              "    }\n",
              "</style>\n",
              "<table border=\"1\" class=\"dataframe\">\n",
              "  <thead>\n",
              "    <tr style=\"text-align: right;\">\n",
              "      <th></th>\n",
              "      <th>itemID</th>\n",
              "      <th>userID</th>\n",
              "      <th>rating</th>\n",
              "    </tr>\n",
              "  </thead>\n",
              "  <tbody>\n",
              "    <tr>\n",
              "      <th>20</th>\n",
              "      <td>12728-matanza-rd</td>\n",
              "      <td>100.1.108.166</td>\n",
              "      <td>0.584082</td>\n",
              "    </tr>\n",
              "    <tr>\n",
              "      <th>22</th>\n",
              "      <td>70-academy-ct</td>\n",
              "      <td>100.1.108.166</td>\n",
              "      <td>0.463237</td>\n",
              "    </tr>\n",
              "    <tr>\n",
              "      <th>19</th>\n",
              "      <td>1006-e-59th-st-brooklyn</td>\n",
              "      <td>100.1.108.166</td>\n",
              "      <td>0.422956</td>\n",
              "    </tr>\n",
              "    <tr>\n",
              "      <th>21</th>\n",
              "      <td>267-dumont-ave</td>\n",
              "      <td>100.1.108.166</td>\n",
              "      <td>0.362534</td>\n",
              "    </tr>\n",
              "  </tbody>\n",
              "</table>\n",
              "</div>"
            ],
            "text/plain": [
              "                     itemID         userID    rating\n",
              "20         12728-matanza-rd  100.1.108.166  0.584082\n",
              "22            70-academy-ct  100.1.108.166  0.463237\n",
              "19  1006-e-59th-st-brooklyn  100.1.108.166  0.422956\n",
              "21           267-dumont-ave  100.1.108.166  0.362534"
            ]
          },
          "metadata": {
            "tags": []
          },
          "execution_count": 32
        }
      ]
    },
    {
      "cell_type": "markdown",
      "metadata": {
        "id": "4TuPS3Hl2YyJ"
      },
      "source": [
        "These listings are far from one another\n",
        "\n",
        "Lets investigate how many markets people were looking at..."
      ]
    },
    {
      "cell_type": "code",
      "metadata": {
        "id": "Fe3mtzXMyiGh"
      },
      "source": [
        "user_searched = merge_df2[merge_df2['ip']==uid_test].copy()"
      ],
      "execution_count": null,
      "outputs": []
    },
    {
      "cell_type": "code",
      "metadata": {
        "id": "lY99nqvwy5xo",
        "outputId": "a1c4e038-8597-467f-ad62-2c00095de3ec",
        "colab": {
          "base_uri": "https://localhost:8080/"
        }
      },
      "source": [
        "user_searched.groupby(['city','market','marketing_budget','sales'],dropna=False)['url'].count()"
      ],
      "execution_count": null,
      "outputs": [
        {
          "output_type": "execute_result",
          "data": {
            "text/plain": [
              "city        market  marketing_budget  sales\n",
              "Bedminster  NJ      MEDIUM            NJ       46\n",
              "Brooklyn    NY      MEDIUM            NY       78\n",
              "San Diego   SD      MEDIUM            SD       58\n",
              "Name: url, dtype: int64"
            ]
          },
          "metadata": {
            "tags": []
          },
          "execution_count": 34
        }
      ]
    },
    {
      "cell_type": "code",
      "metadata": {
        "id": "N7jSgM0f96Wp",
        "outputId": "07120665-a816-4508-e83c-900dd62b3786",
        "colab": {
          "base_uri": "https://localhost:8080/"
        }
      },
      "source": [
        "merge_df2[merge_df2['ip']==uid_test]['state'].unique()"
      ],
      "execution_count": null,
      "outputs": [
        {
          "output_type": "execute_result",
          "data": {
            "text/plain": [
              "array(['NY', 'NJ', 'CA'], dtype=object)"
            ]
          },
          "metadata": {
            "tags": []
          },
          "execution_count": 35
        }
      ]
    },
    {
      "cell_type": "markdown",
      "metadata": {
        "id": "nqn_PW9y0DVv"
      },
      "source": [
        "Why is this ip looking at so many different markets? Is this an issue? Can we not use ip?"
      ]
    },
    {
      "cell_type": "code",
      "metadata": {
        "id": "8ct_nIl62rAd",
        "outputId": "cbe32ce1-a37a-4597-b71a-26a352ea84ca",
        "colab": {
          "base_uri": "https://localhost:8080/",
          "height": 390
        }
      },
      "source": [
        "merge_df2[merge_df2['ip']==uid_test].head()"
      ],
      "execution_count": null,
      "outputs": [
        {
          "output_type": "execute_result",
          "data": {
            "text/html": [
              "<div>\n",
              "<style scoped>\n",
              "    .dataframe tbody tr th:only-of-type {\n",
              "        vertical-align: middle;\n",
              "    }\n",
              "\n",
              "    .dataframe tbody tr th {\n",
              "        vertical-align: top;\n",
              "    }\n",
              "\n",
              "    .dataframe thead th {\n",
              "        text-align: right;\n",
              "    }\n",
              "</style>\n",
              "<table border=\"1\" class=\"dataframe\">\n",
              "  <thead>\n",
              "    <tr style=\"text-align: right;\">\n",
              "      <th></th>\n",
              "      <th>id</th>\n",
              "      <th>event_stamp</th>\n",
              "      <th>action</th>\n",
              "      <th>category</th>\n",
              "      <th>ip</th>\n",
              "      <th>visitor_guid</th>\n",
              "      <th>url</th>\n",
              "      <th>city_name</th>\n",
              "      <th>country_code2</th>\n",
              "      <th>domain</th>\n",
              "      <th>eventAttributes</th>\n",
              "      <th>gclid</th>\n",
              "      <th>latitude_x</th>\n",
              "      <th>listingGuid</th>\n",
              "      <th>longitude_x</th>\n",
              "      <th>postal_code_x</th>\n",
              "      <th>propertyGuid</th>\n",
              "      <th>region_code</th>\n",
              "      <th>region_name</th>\n",
              "      <th>rexUrl</th>\n",
              "      <th>sessionGuid</th>\n",
              "      <th>uriStem</th>\n",
              "      <th>userGuid</th>\n",
              "      <th>Unnamed: 0</th>\n",
              "      <th>id_x</th>\n",
              "      <th>guid_x</th>\n",
              "      <th>address_line</th>\n",
              "      <th>city</th>\n",
              "      <th>state</th>\n",
              "      <th>postal_code_y</th>\n",
              "      <th>created_x</th>\n",
              "      <th>updated_x</th>\n",
              "      <th>id_y</th>\n",
              "      <th>guid_y</th>\n",
              "      <th>created_y</th>\n",
              "      <th>updated_y</th>\n",
              "      <th>address_id</th>\n",
              "      <th>bedrooms</th>\n",
              "      <th>county</th>\n",
              "      <th>full_baths</th>\n",
              "      <th>land_square_footage</th>\n",
              "      <th>latitude_y</th>\n",
              "      <th>living_square_feet</th>\n",
              "      <th>longitude_y</th>\n",
              "      <th>market</th>\n",
              "      <th>marketing_budget</th>\n",
              "      <th>marketing_status</th>\n",
              "      <th>on_mls</th>\n",
              "      <th>property_type</th>\n",
              "      <th>rex_url</th>\n",
              "      <th>sales</th>\n",
              "      <th>school_district_id</th>\n",
              "      <th>school_district_name</th>\n",
              "      <th>status</th>\n",
              "      <th>stories</th>\n",
              "      <th>timezone_id</th>\n",
              "      <th>total_baths</th>\n",
              "      <th>total_baths_calculated</th>\n",
              "      <th>year_built</th>\n",
              "      <th>addr_lower_x</th>\n",
              "      <th>rexurl</th>\n",
              "      <th>call_ct</th>\n",
              "      <th>buyer_call</th>\n",
              "    </tr>\n",
              "  </thead>\n",
              "  <tbody>\n",
              "    <tr>\n",
              "      <th>344</th>\n",
              "      <td>109760942</td>\n",
              "      <td>2020-09-07 01:58:49.873000</td>\n",
              "      <td>drag</td>\n",
              "      <td>listing-map</td>\n",
              "      <td>100.1.108.166</td>\n",
              "      <td>68d829beaaa841ed8d47361df5f1727f</td>\n",
              "      <td>https://www.rexhomes.com/listing/1006-e-59th-s...</td>\n",
              "      <td>Somerset</td>\n",
              "      <td>US</td>\n",
              "      <td>www.rexhomes.com</td>\n",
              "      <td>NaN</td>\n",
              "      <td>NaN</td>\n",
              "      <td>40.5007</td>\n",
              "      <td>058d10169ebc42cba5edc6407a98563f</td>\n",
              "      <td>-74.5013</td>\n",
              "      <td>8873</td>\n",
              "      <td>NaN</td>\n",
              "      <td>NJ</td>\n",
              "      <td>New Jersey</td>\n",
              "      <td>1006-e-59th-st-brooklyn</td>\n",
              "      <td>414901f185fb4876a2d1b73307e133be</td>\n",
              "      <td>/listing/1006-e-59th-st-brooklyn</td>\n",
              "      <td>NaN</td>\n",
              "      <td>101052.0</td>\n",
              "      <td>102200.0</td>\n",
              "      <td>8e792d34094640988616b97a0d05b4e8</td>\n",
              "      <td>1006 E 59th St</td>\n",
              "      <td>Brooklyn</td>\n",
              "      <td>NY</td>\n",
              "      <td>11234.0</td>\n",
              "      <td>2020-06-01 20:20:51</td>\n",
              "      <td>2020-08-10 20:12:48.907000</td>\n",
              "      <td>103175.0</td>\n",
              "      <td>058d10169ebc42cba5edc6407a98563f</td>\n",
              "      <td>2020-06-01 20:20:50.532000</td>\n",
              "      <td>2020-09-10 22:00:06.238000</td>\n",
              "      <td>102200.0</td>\n",
              "      <td>7.0</td>\n",
              "      <td>Kings</td>\n",
              "      <td>NaN</td>\n",
              "      <td>2117.0</td>\n",
              "      <td>40.628463</td>\n",
              "      <td>3021.0</td>\n",
              "      <td>-73.919509</td>\n",
              "      <td>NY</td>\n",
              "      <td>MEDIUM</td>\n",
              "      <td>False</td>\n",
              "      <td>0.0</td>\n",
              "      <td>MULTI_FAMILY</td>\n",
              "      <td>1006-e-59th-st-brooklyn</td>\n",
              "      <td>NY</td>\n",
              "      <td>3620580.0</td>\n",
              "      <td>Nyc Geog District #22 - Brooklyn</td>\n",
              "      <td>IN_ESCROW</td>\n",
              "      <td>2.0</td>\n",
              "      <td>America/New_York</td>\n",
              "      <td>3.0</td>\n",
              "      <td>NaN</td>\n",
              "      <td>1965.0</td>\n",
              "      <td>1006 e 59th st</td>\n",
              "      <td>NaN</td>\n",
              "      <td>NaN</td>\n",
              "      <td>NaN</td>\n",
              "    </tr>\n",
              "    <tr>\n",
              "      <th>345</th>\n",
              "      <td>109760939</td>\n",
              "      <td>2020-09-07 01:58:49.638000</td>\n",
              "      <td>drag</td>\n",
              "      <td>listing-map</td>\n",
              "      <td>100.1.108.166</td>\n",
              "      <td>68d829beaaa841ed8d47361df5f1727f</td>\n",
              "      <td>https://www.rexhomes.com/listing/1006-e-59th-s...</td>\n",
              "      <td>Somerset</td>\n",
              "      <td>US</td>\n",
              "      <td>www.rexhomes.com</td>\n",
              "      <td>NaN</td>\n",
              "      <td>NaN</td>\n",
              "      <td>40.5007</td>\n",
              "      <td>058d10169ebc42cba5edc6407a98563f</td>\n",
              "      <td>-74.5013</td>\n",
              "      <td>8873</td>\n",
              "      <td>NaN</td>\n",
              "      <td>NJ</td>\n",
              "      <td>New Jersey</td>\n",
              "      <td>1006-e-59th-st-brooklyn</td>\n",
              "      <td>414901f185fb4876a2d1b73307e133be</td>\n",
              "      <td>/listing/1006-e-59th-st-brooklyn</td>\n",
              "      <td>NaN</td>\n",
              "      <td>101052.0</td>\n",
              "      <td>102200.0</td>\n",
              "      <td>8e792d34094640988616b97a0d05b4e8</td>\n",
              "      <td>1006 E 59th St</td>\n",
              "      <td>Brooklyn</td>\n",
              "      <td>NY</td>\n",
              "      <td>11234.0</td>\n",
              "      <td>2020-06-01 20:20:51</td>\n",
              "      <td>2020-08-10 20:12:48.907000</td>\n",
              "      <td>103175.0</td>\n",
              "      <td>058d10169ebc42cba5edc6407a98563f</td>\n",
              "      <td>2020-06-01 20:20:50.532000</td>\n",
              "      <td>2020-09-10 22:00:06.238000</td>\n",
              "      <td>102200.0</td>\n",
              "      <td>7.0</td>\n",
              "      <td>Kings</td>\n",
              "      <td>NaN</td>\n",
              "      <td>2117.0</td>\n",
              "      <td>40.628463</td>\n",
              "      <td>3021.0</td>\n",
              "      <td>-73.919509</td>\n",
              "      <td>NY</td>\n",
              "      <td>MEDIUM</td>\n",
              "      <td>False</td>\n",
              "      <td>0.0</td>\n",
              "      <td>MULTI_FAMILY</td>\n",
              "      <td>1006-e-59th-st-brooklyn</td>\n",
              "      <td>NY</td>\n",
              "      <td>3620580.0</td>\n",
              "      <td>Nyc Geog District #22 - Brooklyn</td>\n",
              "      <td>IN_ESCROW</td>\n",
              "      <td>2.0</td>\n",
              "      <td>America/New_York</td>\n",
              "      <td>3.0</td>\n",
              "      <td>NaN</td>\n",
              "      <td>1965.0</td>\n",
              "      <td>1006 e 59th st</td>\n",
              "      <td>NaN</td>\n",
              "      <td>NaN</td>\n",
              "      <td>NaN</td>\n",
              "    </tr>\n",
              "    <tr>\n",
              "      <th>346</th>\n",
              "      <td>109760940</td>\n",
              "      <td>2020-09-07 01:58:49.638000</td>\n",
              "      <td>drag</td>\n",
              "      <td>listing-map</td>\n",
              "      <td>100.1.108.166</td>\n",
              "      <td>68d829beaaa841ed8d47361df5f1727f</td>\n",
              "      <td>https://www.rexhomes.com/listing/1006-e-59th-s...</td>\n",
              "      <td>Somerset</td>\n",
              "      <td>US</td>\n",
              "      <td>www.rexhomes.com</td>\n",
              "      <td>NaN</td>\n",
              "      <td>NaN</td>\n",
              "      <td>40.5007</td>\n",
              "      <td>058d10169ebc42cba5edc6407a98563f</td>\n",
              "      <td>-74.5013</td>\n",
              "      <td>8873</td>\n",
              "      <td>NaN</td>\n",
              "      <td>NJ</td>\n",
              "      <td>New Jersey</td>\n",
              "      <td>1006-e-59th-st-brooklyn</td>\n",
              "      <td>414901f185fb4876a2d1b73307e133be</td>\n",
              "      <td>/listing/1006-e-59th-st-brooklyn</td>\n",
              "      <td>NaN</td>\n",
              "      <td>101052.0</td>\n",
              "      <td>102200.0</td>\n",
              "      <td>8e792d34094640988616b97a0d05b4e8</td>\n",
              "      <td>1006 E 59th St</td>\n",
              "      <td>Brooklyn</td>\n",
              "      <td>NY</td>\n",
              "      <td>11234.0</td>\n",
              "      <td>2020-06-01 20:20:51</td>\n",
              "      <td>2020-08-10 20:12:48.907000</td>\n",
              "      <td>103175.0</td>\n",
              "      <td>058d10169ebc42cba5edc6407a98563f</td>\n",
              "      <td>2020-06-01 20:20:50.532000</td>\n",
              "      <td>2020-09-10 22:00:06.238000</td>\n",
              "      <td>102200.0</td>\n",
              "      <td>7.0</td>\n",
              "      <td>Kings</td>\n",
              "      <td>NaN</td>\n",
              "      <td>2117.0</td>\n",
              "      <td>40.628463</td>\n",
              "      <td>3021.0</td>\n",
              "      <td>-73.919509</td>\n",
              "      <td>NY</td>\n",
              "      <td>MEDIUM</td>\n",
              "      <td>False</td>\n",
              "      <td>0.0</td>\n",
              "      <td>MULTI_FAMILY</td>\n",
              "      <td>1006-e-59th-st-brooklyn</td>\n",
              "      <td>NY</td>\n",
              "      <td>3620580.0</td>\n",
              "      <td>Nyc Geog District #22 - Brooklyn</td>\n",
              "      <td>IN_ESCROW</td>\n",
              "      <td>2.0</td>\n",
              "      <td>America/New_York</td>\n",
              "      <td>3.0</td>\n",
              "      <td>NaN</td>\n",
              "      <td>1965.0</td>\n",
              "      <td>1006 e 59th st</td>\n",
              "      <td>NaN</td>\n",
              "      <td>NaN</td>\n",
              "      <td>NaN</td>\n",
              "    </tr>\n",
              "    <tr>\n",
              "      <th>347</th>\n",
              "      <td>109760556</td>\n",
              "      <td>2020-09-07 01:57:20.501000</td>\n",
              "      <td>view_item</td>\n",
              "      <td>NaN</td>\n",
              "      <td>100.1.108.166</td>\n",
              "      <td>68d829beaaa841ed8d47361df5f1727f</td>\n",
              "      <td>https://www.rexhomes.com/listing/1006-e-59th-s...</td>\n",
              "      <td>Somerset</td>\n",
              "      <td>US</td>\n",
              "      <td>www.rexhomes.com</td>\n",
              "      <td>NaN</td>\n",
              "      <td>NaN</td>\n",
              "      <td>40.5007</td>\n",
              "      <td>058d10169ebc42cba5edc6407a98563f</td>\n",
              "      <td>-74.5013</td>\n",
              "      <td>8873</td>\n",
              "      <td>NaN</td>\n",
              "      <td>NJ</td>\n",
              "      <td>New Jersey</td>\n",
              "      <td>1006-e-59th-st-brooklyn</td>\n",
              "      <td>414901f185fb4876a2d1b73307e133be</td>\n",
              "      <td>/listing/1006-e-59th-st-brooklyn</td>\n",
              "      <td>NaN</td>\n",
              "      <td>101052.0</td>\n",
              "      <td>102200.0</td>\n",
              "      <td>8e792d34094640988616b97a0d05b4e8</td>\n",
              "      <td>1006 E 59th St</td>\n",
              "      <td>Brooklyn</td>\n",
              "      <td>NY</td>\n",
              "      <td>11234.0</td>\n",
              "      <td>2020-06-01 20:20:51</td>\n",
              "      <td>2020-08-10 20:12:48.907000</td>\n",
              "      <td>103175.0</td>\n",
              "      <td>058d10169ebc42cba5edc6407a98563f</td>\n",
              "      <td>2020-06-01 20:20:50.532000</td>\n",
              "      <td>2020-09-10 22:00:06.238000</td>\n",
              "      <td>102200.0</td>\n",
              "      <td>7.0</td>\n",
              "      <td>Kings</td>\n",
              "      <td>NaN</td>\n",
              "      <td>2117.0</td>\n",
              "      <td>40.628463</td>\n",
              "      <td>3021.0</td>\n",
              "      <td>-73.919509</td>\n",
              "      <td>NY</td>\n",
              "      <td>MEDIUM</td>\n",
              "      <td>False</td>\n",
              "      <td>0.0</td>\n",
              "      <td>MULTI_FAMILY</td>\n",
              "      <td>1006-e-59th-st-brooklyn</td>\n",
              "      <td>NY</td>\n",
              "      <td>3620580.0</td>\n",
              "      <td>Nyc Geog District #22 - Brooklyn</td>\n",
              "      <td>IN_ESCROW</td>\n",
              "      <td>2.0</td>\n",
              "      <td>America/New_York</td>\n",
              "      <td>3.0</td>\n",
              "      <td>NaN</td>\n",
              "      <td>1965.0</td>\n",
              "      <td>1006 e 59th st</td>\n",
              "      <td>NaN</td>\n",
              "      <td>NaN</td>\n",
              "      <td>NaN</td>\n",
              "    </tr>\n",
              "    <tr>\n",
              "      <th>348</th>\n",
              "      <td>109762140</td>\n",
              "      <td>2020-09-07 02:02:38.359000</td>\n",
              "      <td>scroll</td>\n",
              "      <td>photoCarousel</td>\n",
              "      <td>100.1.108.166</td>\n",
              "      <td>68d829beaaa841ed8d47361df5f1727f</td>\n",
              "      <td>https://www.rexhomes.com/listing/70-academy-ct</td>\n",
              "      <td>Somerset</td>\n",
              "      <td>US</td>\n",
              "      <td>www.rexhomes.com</td>\n",
              "      <td>NaN</td>\n",
              "      <td>NaN</td>\n",
              "      <td>40.5007</td>\n",
              "      <td>1819b231474a4fb785efe2521e96c2bc</td>\n",
              "      <td>-74.5013</td>\n",
              "      <td>8873</td>\n",
              "      <td>NaN</td>\n",
              "      <td>NJ</td>\n",
              "      <td>New Jersey</td>\n",
              "      <td>70-academy-ct</td>\n",
              "      <td>398d8771a97348ed8523bafc4469ce98</td>\n",
              "      <td>/listing/70-academy-ct</td>\n",
              "      <td>NaN</td>\n",
              "      <td>106924.0</td>\n",
              "      <td>102879.0</td>\n",
              "      <td>e3b9e0c66ca94f0f97c916b73b533e75</td>\n",
              "      <td>70 Academy Ct</td>\n",
              "      <td>Bedminster</td>\n",
              "      <td>NJ</td>\n",
              "      <td>7921.0</td>\n",
              "      <td>2020-06-05 22:43:31</td>\n",
              "      <td>2020-09-02 15:41:24.663000</td>\n",
              "      <td>103857.0</td>\n",
              "      <td>1819b231474a4fb785efe2521e96c2bc</td>\n",
              "      <td>2020-06-05 22:43:30.597000</td>\n",
              "      <td>2020-09-02 15:41:24.692000</td>\n",
              "      <td>102879.0</td>\n",
              "      <td>2.0</td>\n",
              "      <td>Somerset</td>\n",
              "      <td>NaN</td>\n",
              "      <td>384.0</td>\n",
              "      <td>40.657978</td>\n",
              "      <td>1232.0</td>\n",
              "      <td>-74.631014</td>\n",
              "      <td>NJ</td>\n",
              "      <td>MEDIUM</td>\n",
              "      <td>True</td>\n",
              "      <td>0.0</td>\n",
              "      <td>CONDO</td>\n",
              "      <td>70-academy-ct</td>\n",
              "      <td>NJ</td>\n",
              "      <td>3401320.0</td>\n",
              "      <td>Bedminster Township School District</td>\n",
              "      <td>FOR_SALE</td>\n",
              "      <td>NaN</td>\n",
              "      <td>America/New_York</td>\n",
              "      <td>2.0</td>\n",
              "      <td>NaN</td>\n",
              "      <td>1987.0</td>\n",
              "      <td>70 academy ct</td>\n",
              "      <td>NaN</td>\n",
              "      <td>NaN</td>\n",
              "      <td>NaN</td>\n",
              "    </tr>\n",
              "  </tbody>\n",
              "</table>\n",
              "</div>"
            ],
            "text/plain": [
              "            id                 event_stamp  ... call_ct buyer_call\n",
              "344  109760942  2020-09-07 01:58:49.873000  ...     NaN        NaN\n",
              "345  109760939  2020-09-07 01:58:49.638000  ...     NaN        NaN\n",
              "346  109760940  2020-09-07 01:58:49.638000  ...     NaN        NaN\n",
              "347  109760556  2020-09-07 01:57:20.501000  ...     NaN        NaN\n",
              "348  109762140  2020-09-07 02:02:38.359000  ...     NaN        NaN\n",
              "\n",
              "[5 rows x 63 columns]"
            ]
          },
          "metadata": {
            "tags": []
          },
          "execution_count": 36
        }
      ]
    },
    {
      "cell_type": "markdown",
      "metadata": {
        "id": "E5GNsXtu7mQQ"
      },
      "source": [
        "### Recommendations within same region that they were browsing\n",
        "Now, lets subset recs to just within geographic region\n"
      ]
    },
    {
      "cell_type": "code",
      "metadata": {
        "id": "Lc92qg2p1p5h"
      },
      "source": [
        "def top_recs_for_user_county(rating_df, merge_df, uid_in, algo_in):\n",
        "\n",
        "  users_counties = merge_df[merge_df['ip']==uid_in]['county'].unique()\n",
        "  listings_in_county = set(merge_df[merge_df['county'].isin(users_counties)]['rexUrl'])\n",
        "\n",
        "  unseen_listings = listings_in_county - set(rating_df[rating_df['userID']==uid_in]['itemID'])\n",
        "  unseen_listings = list(unseen_listings)\n",
        "\n",
        "  preds = []\n",
        "  for listing in unseen_listings:\n",
        "    preds.append(algo_in.predict(uid_in, listing, verbose=False).est)\n",
        "\n",
        "  preds_df = pd.DataFrame({'iid': unseen_listings, 'pred_score': preds})\n",
        "  preds_df.sort_values('pred_score', ascending=False,inplace=True)\n",
        "\n",
        "  return preds_df"
      ],
      "execution_count": null,
      "outputs": []
    },
    {
      "cell_type": "markdown",
      "metadata": {
        "id": "A0rMfXbR8iNM"
      },
      "source": [
        "What they were recommended in the same regions"
      ]
    },
    {
      "cell_type": "code",
      "metadata": {
        "id": "-TNTZV6y-HRq",
        "outputId": "f7cd9547-b654-4d60-8d4e-3526455c7e64",
        "colab": {
          "base_uri": "https://localhost:8080/"
        }
      },
      "source": [
        "merge_df2[merge_df2['ip']=='100.1.158.161']['county'].unique()"
      ],
      "execution_count": null,
      "outputs": [
        {
          "output_type": "execute_result",
          "data": {
            "text/plain": [
              "array(['Kings', 'Middlesex', 'Pasco'], dtype=object)"
            ]
          },
          "metadata": {
            "tags": []
          },
          "execution_count": 38
        }
      ]
    },
    {
      "cell_type": "code",
      "metadata": {
        "id": "yP5sOSDi7O7-",
        "outputId": "5b6dc248-c9e6-431d-b191-b776312a08a9",
        "colab": {
          "base_uri": "https://localhost:8080/",
          "height": 191
        }
      },
      "source": [
        "top_recs_for_user_county(rating_df=df, merge_df = merge_df2, uid_in = '100.1.158.161', algo_in=algo).head()"
      ],
      "execution_count": null,
      "outputs": [
        {
          "output_type": "execute_result",
          "data": {
            "text/html": [
              "<div>\n",
              "<style scoped>\n",
              "    .dataframe tbody tr th:only-of-type {\n",
              "        vertical-align: middle;\n",
              "    }\n",
              "\n",
              "    .dataframe tbody tr th {\n",
              "        vertical-align: top;\n",
              "    }\n",
              "\n",
              "    .dataframe thead th {\n",
              "        text-align: right;\n",
              "    }\n",
              "</style>\n",
              "<table border=\"1\" class=\"dataframe\">\n",
              "  <thead>\n",
              "    <tr style=\"text-align: right;\">\n",
              "      <th></th>\n",
              "      <th>iid</th>\n",
              "      <th>pred_score</th>\n",
              "    </tr>\n",
              "  </thead>\n",
              "  <tbody>\n",
              "    <tr>\n",
              "      <th>4</th>\n",
              "      <td>713-stony-brook-way</td>\n",
              "      <td>0.767693</td>\n",
              "    </tr>\n",
              "    <tr>\n",
              "      <th>29</th>\n",
              "      <td>101-flint-st</td>\n",
              "      <td>0.664879</td>\n",
              "    </tr>\n",
              "    <tr>\n",
              "      <th>16</th>\n",
              "      <td>267-dumont-ave</td>\n",
              "      <td>0.664158</td>\n",
              "    </tr>\n",
              "    <tr>\n",
              "      <th>1</th>\n",
              "      <td>8-rose-pt-apt-8</td>\n",
              "      <td>0.591633</td>\n",
              "    </tr>\n",
              "    <tr>\n",
              "      <th>20</th>\n",
              "      <td>3462-fulton-st</td>\n",
              "      <td>0.582429</td>\n",
              "    </tr>\n",
              "  </tbody>\n",
              "</table>\n",
              "</div>"
            ],
            "text/plain": [
              "                    iid  pred_score\n",
              "4   713-stony-brook-way    0.767693\n",
              "29         101-flint-st    0.664879\n",
              "16       267-dumont-ave    0.664158\n",
              "1       8-rose-pt-apt-8    0.591633\n",
              "20       3462-fulton-st    0.582429"
            ]
          },
          "metadata": {
            "tags": []
          },
          "execution_count": 39
        }
      ]
    },
    {
      "cell_type": "markdown",
      "metadata": {
        "id": "L5RlThZg8krQ"
      },
      "source": [
        "What they \"rated\""
      ]
    },
    {
      "cell_type": "code",
      "metadata": {
        "id": "iaHC4pGi7K6G",
        "outputId": "ad0fa58d-1ad8-4afb-cbac-9e11bd229c27",
        "colab": {
          "base_uri": "https://localhost:8080/",
          "height": 133
        }
      },
      "source": [
        "df[df['userID']=='100.1.158.161'].sort_values('rating',ascending=False).head()"
      ],
      "execution_count": null,
      "outputs": [
        {
          "output_type": "execute_result",
          "data": {
            "text/html": [
              "<div>\n",
              "<style scoped>\n",
              "    .dataframe tbody tr th:only-of-type {\n",
              "        vertical-align: middle;\n",
              "    }\n",
              "\n",
              "    .dataframe tbody tr th {\n",
              "        vertical-align: top;\n",
              "    }\n",
              "\n",
              "    .dataframe thead th {\n",
              "        text-align: right;\n",
              "    }\n",
              "</style>\n",
              "<table border=\"1\" class=\"dataframe\">\n",
              "  <thead>\n",
              "    <tr style=\"text-align: right;\">\n",
              "      <th></th>\n",
              "      <th>itemID</th>\n",
              "      <th>userID</th>\n",
              "      <th>rating</th>\n",
              "    </tr>\n",
              "  </thead>\n",
              "  <tbody>\n",
              "    <tr>\n",
              "      <th>35</th>\n",
              "      <td>19081-andrea-lynn-ln</td>\n",
              "      <td>100.1.158.161</td>\n",
              "      <td>0.966756</td>\n",
              "    </tr>\n",
              "    <tr>\n",
              "      <th>36</th>\n",
              "      <td>302-jacob-ct</td>\n",
              "      <td>100.1.158.161</td>\n",
              "      <td>0.866052</td>\n",
              "    </tr>\n",
              "    <tr>\n",
              "      <th>34</th>\n",
              "      <td>1006-e-59th-st-brooklyn</td>\n",
              "      <td>100.1.158.161</td>\n",
              "      <td>0.644504</td>\n",
              "    </tr>\n",
              "  </tbody>\n",
              "</table>\n",
              "</div>"
            ],
            "text/plain": [
              "                     itemID         userID    rating\n",
              "35     19081-andrea-lynn-ln  100.1.158.161  0.966756\n",
              "36             302-jacob-ct  100.1.158.161  0.866052\n",
              "34  1006-e-59th-st-brooklyn  100.1.158.161  0.644504"
            ]
          },
          "metadata": {
            "tags": []
          },
          "execution_count": 40
        }
      ]
    },
    {
      "cell_type": "markdown",
      "metadata": {
        "id": "Lh1EOLcza5aM"
      },
      "source": [
        "## Overall, we see a mismatch between recommendations and regions where the user seemed to have been searching...\n",
        "\n",
        "### We will now try subsetting the CF model to data from one region. (See `CollabFilter_v1_NJSubset.ipynb`)"
      ]
    },
    {
      "cell_type": "code",
      "metadata": {
        "id": "1GfTkmGQbXI6"
      },
      "source": [
        ""
      ],
      "execution_count": null,
      "outputs": []
    }
  ]
}