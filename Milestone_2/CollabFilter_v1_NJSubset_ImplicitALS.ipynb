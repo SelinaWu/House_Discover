{
  "nbformat": 4,
  "nbformat_minor": 0,
  "metadata": {
    "colab": {
      "name": "CollabFilter_v1_NJSubset_ImplicitALS.ipynb",
      "provenance": [],
      "collapsed_sections": []
    },
    "kernelspec": {
      "name": "python3",
      "display_name": "Python 3"
    },
    "accelerator": "GPU",
    "widgets": {
      "application/vnd.jupyter.widget-state+json": {
        "f5588c3fbfe24a38a4e47d0287c830da": {
          "model_module": "@jupyter-widgets/controls",
          "model_name": "HBoxModel",
          "state": {
            "_view_name": "HBoxView",
            "_dom_classes": [],
            "_model_name": "HBoxModel",
            "_view_module": "@jupyter-widgets/controls",
            "_model_module_version": "1.5.0",
            "_view_count": null,
            "_view_module_version": "1.5.0",
            "box_style": "",
            "layout": "IPY_MODEL_cd178f9d58a14f3983f600dc33b4a894",
            "_model_module": "@jupyter-widgets/controls",
            "children": [
              "IPY_MODEL_9bbf2a43f2c34e74add2e2fef0cb75f5",
              "IPY_MODEL_76b0de648e964eb9940be1e2822a4070"
            ]
          }
        },
        "cd178f9d58a14f3983f600dc33b4a894": {
          "model_module": "@jupyter-widgets/base",
          "model_name": "LayoutModel",
          "state": {
            "_view_name": "LayoutView",
            "grid_template_rows": null,
            "right": null,
            "justify_content": null,
            "_view_module": "@jupyter-widgets/base",
            "overflow": null,
            "_model_module_version": "1.2.0",
            "_view_count": null,
            "flex_flow": null,
            "width": null,
            "min_width": null,
            "border": null,
            "align_items": null,
            "bottom": null,
            "_model_module": "@jupyter-widgets/base",
            "top": null,
            "grid_column": null,
            "overflow_y": null,
            "overflow_x": null,
            "grid_auto_flow": null,
            "grid_area": null,
            "grid_template_columns": null,
            "flex": null,
            "_model_name": "LayoutModel",
            "justify_items": null,
            "grid_row": null,
            "max_height": null,
            "align_content": null,
            "visibility": null,
            "align_self": null,
            "height": null,
            "min_height": null,
            "padding": null,
            "grid_auto_rows": null,
            "grid_gap": null,
            "max_width": null,
            "order": null,
            "_view_module_version": "1.2.0",
            "grid_template_areas": null,
            "object_position": null,
            "object_fit": null,
            "grid_auto_columns": null,
            "margin": null,
            "display": null,
            "left": null
          }
        },
        "9bbf2a43f2c34e74add2e2fef0cb75f5": {
          "model_module": "@jupyter-widgets/controls",
          "model_name": "FloatProgressModel",
          "state": {
            "_view_name": "ProgressView",
            "style": "IPY_MODEL_0efc1d063f09472b86de479cb9759f68",
            "_dom_classes": [],
            "description": "100%",
            "_model_name": "FloatProgressModel",
            "bar_style": "success",
            "max": 20,
            "_view_module": "@jupyter-widgets/controls",
            "_model_module_version": "1.5.0",
            "value": 20,
            "_view_count": null,
            "_view_module_version": "1.5.0",
            "orientation": "horizontal",
            "min": 0,
            "description_tooltip": null,
            "_model_module": "@jupyter-widgets/controls",
            "layout": "IPY_MODEL_8e341232082b4362bd44a1f6ace6f973"
          }
        },
        "76b0de648e964eb9940be1e2822a4070": {
          "model_module": "@jupyter-widgets/controls",
          "model_name": "HTMLModel",
          "state": {
            "_view_name": "HTMLView",
            "style": "IPY_MODEL_94eeb79289e249e280b9472620ef6cdc",
            "_dom_classes": [],
            "description": "",
            "_model_name": "HTMLModel",
            "placeholder": "​",
            "_view_module": "@jupyter-widgets/controls",
            "_model_module_version": "1.5.0",
            "value": " 20/20 [00:50&lt;00:00,  2.54s/it]",
            "_view_count": null,
            "_view_module_version": "1.5.0",
            "description_tooltip": null,
            "_model_module": "@jupyter-widgets/controls",
            "layout": "IPY_MODEL_bc9b2851a28e493d831464355f27beaf"
          }
        },
        "0efc1d063f09472b86de479cb9759f68": {
          "model_module": "@jupyter-widgets/controls",
          "model_name": "ProgressStyleModel",
          "state": {
            "_view_name": "StyleView",
            "_model_name": "ProgressStyleModel",
            "description_width": "initial",
            "_view_module": "@jupyter-widgets/base",
            "_model_module_version": "1.5.0",
            "_view_count": null,
            "_view_module_version": "1.2.0",
            "bar_color": null,
            "_model_module": "@jupyter-widgets/controls"
          }
        },
        "8e341232082b4362bd44a1f6ace6f973": {
          "model_module": "@jupyter-widgets/base",
          "model_name": "LayoutModel",
          "state": {
            "_view_name": "LayoutView",
            "grid_template_rows": null,
            "right": null,
            "justify_content": null,
            "_view_module": "@jupyter-widgets/base",
            "overflow": null,
            "_model_module_version": "1.2.0",
            "_view_count": null,
            "flex_flow": null,
            "width": null,
            "min_width": null,
            "border": null,
            "align_items": null,
            "bottom": null,
            "_model_module": "@jupyter-widgets/base",
            "top": null,
            "grid_column": null,
            "overflow_y": null,
            "overflow_x": null,
            "grid_auto_flow": null,
            "grid_area": null,
            "grid_template_columns": null,
            "flex": null,
            "_model_name": "LayoutModel",
            "justify_items": null,
            "grid_row": null,
            "max_height": null,
            "align_content": null,
            "visibility": null,
            "align_self": null,
            "height": null,
            "min_height": null,
            "padding": null,
            "grid_auto_rows": null,
            "grid_gap": null,
            "max_width": null,
            "order": null,
            "_view_module_version": "1.2.0",
            "grid_template_areas": null,
            "object_position": null,
            "object_fit": null,
            "grid_auto_columns": null,
            "margin": null,
            "display": null,
            "left": null
          }
        },
        "94eeb79289e249e280b9472620ef6cdc": {
          "model_module": "@jupyter-widgets/controls",
          "model_name": "DescriptionStyleModel",
          "state": {
            "_view_name": "StyleView",
            "_model_name": "DescriptionStyleModel",
            "description_width": "",
            "_view_module": "@jupyter-widgets/base",
            "_model_module_version": "1.5.0",
            "_view_count": null,
            "_view_module_version": "1.2.0",
            "_model_module": "@jupyter-widgets/controls"
          }
        },
        "bc9b2851a28e493d831464355f27beaf": {
          "model_module": "@jupyter-widgets/base",
          "model_name": "LayoutModel",
          "state": {
            "_view_name": "LayoutView",
            "grid_template_rows": null,
            "right": null,
            "justify_content": null,
            "_view_module": "@jupyter-widgets/base",
            "overflow": null,
            "_model_module_version": "1.2.0",
            "_view_count": null,
            "flex_flow": null,
            "width": null,
            "min_width": null,
            "border": null,
            "align_items": null,
            "bottom": null,
            "_model_module": "@jupyter-widgets/base",
            "top": null,
            "grid_column": null,
            "overflow_y": null,
            "overflow_x": null,
            "grid_auto_flow": null,
            "grid_area": null,
            "grid_template_columns": null,
            "flex": null,
            "_model_name": "LayoutModel",
            "justify_items": null,
            "grid_row": null,
            "max_height": null,
            "align_content": null,
            "visibility": null,
            "align_self": null,
            "height": null,
            "min_height": null,
            "padding": null,
            "grid_auto_rows": null,
            "grid_gap": null,
            "max_width": null,
            "order": null,
            "_view_module_version": "1.2.0",
            "grid_template_areas": null,
            "object_position": null,
            "object_fit": null,
            "grid_auto_columns": null,
            "margin": null,
            "display": null,
            "left": null
          }
        },
        "be8846dcd78d4843a1da000d63e4c76f": {
          "model_module": "@jupyter-widgets/controls",
          "model_name": "HBoxModel",
          "state": {
            "_view_name": "HBoxView",
            "_dom_classes": [],
            "_model_name": "HBoxModel",
            "_view_module": "@jupyter-widgets/controls",
            "_model_module_version": "1.5.0",
            "_view_count": null,
            "_view_module_version": "1.5.0",
            "box_style": "",
            "layout": "IPY_MODEL_b2e13c7eca914b6e86849a1e60f92f96",
            "_model_module": "@jupyter-widgets/controls",
            "children": [
              "IPY_MODEL_e38a5618e8a34f33ae7c4d2f24e6a06a",
              "IPY_MODEL_2eee810bbb1f4c98b617f37596109306"
            ]
          }
        },
        "b2e13c7eca914b6e86849a1e60f92f96": {
          "model_module": "@jupyter-widgets/base",
          "model_name": "LayoutModel",
          "state": {
            "_view_name": "LayoutView",
            "grid_template_rows": null,
            "right": null,
            "justify_content": null,
            "_view_module": "@jupyter-widgets/base",
            "overflow": null,
            "_model_module_version": "1.2.0",
            "_view_count": null,
            "flex_flow": null,
            "width": null,
            "min_width": null,
            "border": null,
            "align_items": null,
            "bottom": null,
            "_model_module": "@jupyter-widgets/base",
            "top": null,
            "grid_column": null,
            "overflow_y": null,
            "overflow_x": null,
            "grid_auto_flow": null,
            "grid_area": null,
            "grid_template_columns": null,
            "flex": null,
            "_model_name": "LayoutModel",
            "justify_items": null,
            "grid_row": null,
            "max_height": null,
            "align_content": null,
            "visibility": null,
            "align_self": null,
            "height": null,
            "min_height": null,
            "padding": null,
            "grid_auto_rows": null,
            "grid_gap": null,
            "max_width": null,
            "order": null,
            "_view_module_version": "1.2.0",
            "grid_template_areas": null,
            "object_position": null,
            "object_fit": null,
            "grid_auto_columns": null,
            "margin": null,
            "display": null,
            "left": null
          }
        },
        "e38a5618e8a34f33ae7c4d2f24e6a06a": {
          "model_module": "@jupyter-widgets/controls",
          "model_name": "FloatProgressModel",
          "state": {
            "_view_name": "ProgressView",
            "style": "IPY_MODEL_57f75201a722461ba9b2be348e8b12d5",
            "_dom_classes": [],
            "description": "100%",
            "_model_name": "FloatProgressModel",
            "bar_style": "success",
            "max": 3518,
            "_view_module": "@jupyter-widgets/controls",
            "_model_module_version": "1.5.0",
            "value": 3518,
            "_view_count": null,
            "_view_module_version": "1.5.0",
            "orientation": "horizontal",
            "min": 0,
            "description_tooltip": null,
            "_model_module": "@jupyter-widgets/controls",
            "layout": "IPY_MODEL_47d732573ba941468927724beaf08320"
          }
        },
        "2eee810bbb1f4c98b617f37596109306": {
          "model_module": "@jupyter-widgets/controls",
          "model_name": "HTMLModel",
          "state": {
            "_view_name": "HTMLView",
            "style": "IPY_MODEL_8db3c056312f48e1b2b6e4ee788712db",
            "_dom_classes": [],
            "description": "",
            "_model_name": "HTMLModel",
            "placeholder": "​",
            "_view_module": "@jupyter-widgets/controls",
            "_model_module_version": "1.5.0",
            "value": " 3518/3518 [00:46&lt;00:00, 75.34it/s]",
            "_view_count": null,
            "_view_module_version": "1.5.0",
            "description_tooltip": null,
            "_model_module": "@jupyter-widgets/controls",
            "layout": "IPY_MODEL_e824e4d7a87d4bb79ab3c8d02adcf250"
          }
        },
        "57f75201a722461ba9b2be348e8b12d5": {
          "model_module": "@jupyter-widgets/controls",
          "model_name": "ProgressStyleModel",
          "state": {
            "_view_name": "StyleView",
            "_model_name": "ProgressStyleModel",
            "description_width": "initial",
            "_view_module": "@jupyter-widgets/base",
            "_model_module_version": "1.5.0",
            "_view_count": null,
            "_view_module_version": "1.2.0",
            "bar_color": null,
            "_model_module": "@jupyter-widgets/controls"
          }
        },
        "47d732573ba941468927724beaf08320": {
          "model_module": "@jupyter-widgets/base",
          "model_name": "LayoutModel",
          "state": {
            "_view_name": "LayoutView",
            "grid_template_rows": null,
            "right": null,
            "justify_content": null,
            "_view_module": "@jupyter-widgets/base",
            "overflow": null,
            "_model_module_version": "1.2.0",
            "_view_count": null,
            "flex_flow": null,
            "width": null,
            "min_width": null,
            "border": null,
            "align_items": null,
            "bottom": null,
            "_model_module": "@jupyter-widgets/base",
            "top": null,
            "grid_column": null,
            "overflow_y": null,
            "overflow_x": null,
            "grid_auto_flow": null,
            "grid_area": null,
            "grid_template_columns": null,
            "flex": null,
            "_model_name": "LayoutModel",
            "justify_items": null,
            "grid_row": null,
            "max_height": null,
            "align_content": null,
            "visibility": null,
            "align_self": null,
            "height": null,
            "min_height": null,
            "padding": null,
            "grid_auto_rows": null,
            "grid_gap": null,
            "max_width": null,
            "order": null,
            "_view_module_version": "1.2.0",
            "grid_template_areas": null,
            "object_position": null,
            "object_fit": null,
            "grid_auto_columns": null,
            "margin": null,
            "display": null,
            "left": null
          }
        },
        "8db3c056312f48e1b2b6e4ee788712db": {
          "model_module": "@jupyter-widgets/controls",
          "model_name": "DescriptionStyleModel",
          "state": {
            "_view_name": "StyleView",
            "_model_name": "DescriptionStyleModel",
            "description_width": "",
            "_view_module": "@jupyter-widgets/base",
            "_model_module_version": "1.5.0",
            "_view_count": null,
            "_view_module_version": "1.2.0",
            "_model_module": "@jupyter-widgets/controls"
          }
        },
        "e824e4d7a87d4bb79ab3c8d02adcf250": {
          "model_module": "@jupyter-widgets/base",
          "model_name": "LayoutModel",
          "state": {
            "_view_name": "LayoutView",
            "grid_template_rows": null,
            "right": null,
            "justify_content": null,
            "_view_module": "@jupyter-widgets/base",
            "overflow": null,
            "_model_module_version": "1.2.0",
            "_view_count": null,
            "flex_flow": null,
            "width": null,
            "min_width": null,
            "border": null,
            "align_items": null,
            "bottom": null,
            "_model_module": "@jupyter-widgets/base",
            "top": null,
            "grid_column": null,
            "overflow_y": null,
            "overflow_x": null,
            "grid_auto_flow": null,
            "grid_area": null,
            "grid_template_columns": null,
            "flex": null,
            "_model_name": "LayoutModel",
            "justify_items": null,
            "grid_row": null,
            "max_height": null,
            "align_content": null,
            "visibility": null,
            "align_self": null,
            "height": null,
            "min_height": null,
            "padding": null,
            "grid_auto_rows": null,
            "grid_gap": null,
            "max_width": null,
            "order": null,
            "_view_module_version": "1.2.0",
            "grid_template_areas": null,
            "object_position": null,
            "object_fit": null,
            "grid_auto_columns": null,
            "margin": null,
            "display": null,
            "left": null
          }
        },
        "dac718a5ac8c4c2e86444bea1d1ce22c": {
          "model_module": "@jupyter-widgets/controls",
          "model_name": "HBoxModel",
          "state": {
            "_view_name": "HBoxView",
            "_dom_classes": [],
            "_model_name": "HBoxModel",
            "_view_module": "@jupyter-widgets/controls",
            "_model_module_version": "1.5.0",
            "_view_count": null,
            "_view_module_version": "1.5.0",
            "box_style": "",
            "layout": "IPY_MODEL_c45720509d364647a1ea0b7ea6eef82a",
            "_model_module": "@jupyter-widgets/controls",
            "children": [
              "IPY_MODEL_29719e244e5040acb8e6491994d24395",
              "IPY_MODEL_530bd42095174dd999896cbaa7883023"
            ]
          }
        },
        "c45720509d364647a1ea0b7ea6eef82a": {
          "model_module": "@jupyter-widgets/base",
          "model_name": "LayoutModel",
          "state": {
            "_view_name": "LayoutView",
            "grid_template_rows": null,
            "right": null,
            "justify_content": null,
            "_view_module": "@jupyter-widgets/base",
            "overflow": null,
            "_model_module_version": "1.2.0",
            "_view_count": null,
            "flex_flow": null,
            "width": null,
            "min_width": null,
            "border": null,
            "align_items": null,
            "bottom": null,
            "_model_module": "@jupyter-widgets/base",
            "top": null,
            "grid_column": null,
            "overflow_y": null,
            "overflow_x": null,
            "grid_auto_flow": null,
            "grid_area": null,
            "grid_template_columns": null,
            "flex": null,
            "_model_name": "LayoutModel",
            "justify_items": null,
            "grid_row": null,
            "max_height": null,
            "align_content": null,
            "visibility": null,
            "align_self": null,
            "height": null,
            "min_height": null,
            "padding": null,
            "grid_auto_rows": null,
            "grid_gap": null,
            "max_width": null,
            "order": null,
            "_view_module_version": "1.2.0",
            "grid_template_areas": null,
            "object_position": null,
            "object_fit": null,
            "grid_auto_columns": null,
            "margin": null,
            "display": null,
            "left": null
          }
        },
        "29719e244e5040acb8e6491994d24395": {
          "model_module": "@jupyter-widgets/controls",
          "model_name": "FloatProgressModel",
          "state": {
            "_view_name": "ProgressView",
            "style": "IPY_MODEL_a31022346aba4557b42cb973e34b57e3",
            "_dom_classes": [],
            "description": "100%",
            "_model_name": "FloatProgressModel",
            "bar_style": "success",
            "max": 3518,
            "_view_module": "@jupyter-widgets/controls",
            "_model_module_version": "1.5.0",
            "value": 3518,
            "_view_count": null,
            "_view_module_version": "1.5.0",
            "orientation": "horizontal",
            "min": 0,
            "description_tooltip": null,
            "_model_module": "@jupyter-widgets/controls",
            "layout": "IPY_MODEL_8fbdbde72a6e4f75a6eb7adffd306028"
          }
        },
        "530bd42095174dd999896cbaa7883023": {
          "model_module": "@jupyter-widgets/controls",
          "model_name": "HTMLModel",
          "state": {
            "_view_name": "HTMLView",
            "style": "IPY_MODEL_7f93d21384d7467d941a106cca89e97e",
            "_dom_classes": [],
            "description": "",
            "_model_name": "HTMLModel",
            "placeholder": "​",
            "_view_module": "@jupyter-widgets/controls",
            "_model_module_version": "1.5.0",
            "value": " 3518/3518 [00:46&lt;00:00, 75.70it/s]",
            "_view_count": null,
            "_view_module_version": "1.5.0",
            "description_tooltip": null,
            "_model_module": "@jupyter-widgets/controls",
            "layout": "IPY_MODEL_417501a2146440e99522ba160b0f96d9"
          }
        },
        "a31022346aba4557b42cb973e34b57e3": {
          "model_module": "@jupyter-widgets/controls",
          "model_name": "ProgressStyleModel",
          "state": {
            "_view_name": "StyleView",
            "_model_name": "ProgressStyleModel",
            "description_width": "initial",
            "_view_module": "@jupyter-widgets/base",
            "_model_module_version": "1.5.0",
            "_view_count": null,
            "_view_module_version": "1.2.0",
            "bar_color": null,
            "_model_module": "@jupyter-widgets/controls"
          }
        },
        "8fbdbde72a6e4f75a6eb7adffd306028": {
          "model_module": "@jupyter-widgets/base",
          "model_name": "LayoutModel",
          "state": {
            "_view_name": "LayoutView",
            "grid_template_rows": null,
            "right": null,
            "justify_content": null,
            "_view_module": "@jupyter-widgets/base",
            "overflow": null,
            "_model_module_version": "1.2.0",
            "_view_count": null,
            "flex_flow": null,
            "width": null,
            "min_width": null,
            "border": null,
            "align_items": null,
            "bottom": null,
            "_model_module": "@jupyter-widgets/base",
            "top": null,
            "grid_column": null,
            "overflow_y": null,
            "overflow_x": null,
            "grid_auto_flow": null,
            "grid_area": null,
            "grid_template_columns": null,
            "flex": null,
            "_model_name": "LayoutModel",
            "justify_items": null,
            "grid_row": null,
            "max_height": null,
            "align_content": null,
            "visibility": null,
            "align_self": null,
            "height": null,
            "min_height": null,
            "padding": null,
            "grid_auto_rows": null,
            "grid_gap": null,
            "max_width": null,
            "order": null,
            "_view_module_version": "1.2.0",
            "grid_template_areas": null,
            "object_position": null,
            "object_fit": null,
            "grid_auto_columns": null,
            "margin": null,
            "display": null,
            "left": null
          }
        },
        "7f93d21384d7467d941a106cca89e97e": {
          "model_module": "@jupyter-widgets/controls",
          "model_name": "DescriptionStyleModel",
          "state": {
            "_view_name": "StyleView",
            "_model_name": "DescriptionStyleModel",
            "description_width": "",
            "_view_module": "@jupyter-widgets/base",
            "_model_module_version": "1.5.0",
            "_view_count": null,
            "_view_module_version": "1.2.0",
            "_model_module": "@jupyter-widgets/controls"
          }
        },
        "417501a2146440e99522ba160b0f96d9": {
          "model_module": "@jupyter-widgets/base",
          "model_name": "LayoutModel",
          "state": {
            "_view_name": "LayoutView",
            "grid_template_rows": null,
            "right": null,
            "justify_content": null,
            "_view_module": "@jupyter-widgets/base",
            "overflow": null,
            "_model_module_version": "1.2.0",
            "_view_count": null,
            "flex_flow": null,
            "width": null,
            "min_width": null,
            "border": null,
            "align_items": null,
            "bottom": null,
            "_model_module": "@jupyter-widgets/base",
            "top": null,
            "grid_column": null,
            "overflow_y": null,
            "overflow_x": null,
            "grid_auto_flow": null,
            "grid_area": null,
            "grid_template_columns": null,
            "flex": null,
            "_model_name": "LayoutModel",
            "justify_items": null,
            "grid_row": null,
            "max_height": null,
            "align_content": null,
            "visibility": null,
            "align_self": null,
            "height": null,
            "min_height": null,
            "padding": null,
            "grid_auto_rows": null,
            "grid_gap": null,
            "max_width": null,
            "order": null,
            "_view_module_version": "1.2.0",
            "grid_template_areas": null,
            "object_position": null,
            "object_fit": null,
            "grid_auto_columns": null,
            "margin": null,
            "display": null,
            "left": null
          }
        }
      }
    }
  },
  "cells": [
    {
      "cell_type": "markdown",
      "metadata": {
        "id": "T3u0J79ie7N8"
      },
      "source": [
        "#Collaborative Filtering - Implicit model (NJ)\n",
        "\n",
        "Main paper: http://yifanhu.net/PUB/cf.pdf\n",
        "\n",
        "https://jessesw.com/Rec-System/\n",
        "\n",
        "https://nbviewer.jupyter.org/github/jmsteinw/Notebooks/blob/master/RecEngine_NB.ipynb\n",
        "\n",
        "https://towardsdatascience.com/building-a-collaborative-filtering-recommender-system-with-clickstream-data-dffc86c8c65\n",
        "\n",
        "https://www.ethanrosenthal.com/2016/10/19/implicit-mf-part-1/\n",
        "\n"
      ]
    },
    {
      "cell_type": "code",
      "metadata": {
        "id": "J_-Cqzj2e-Nv",
        "outputId": "c6ce97d3-afb4-4f50-99f0-d335edd2e1b3",
        "colab": {
          "base_uri": "https://localhost:8080/",
          "height": 50
        }
      },
      "source": [
        "from google.colab import drive\n",
        "drive.mount('/content/drive')\n",
        "# Nikhil's working path\n",
        "%cd drive/My\\ Drive/'Captstone(297)'/data"
      ],
      "execution_count": null,
      "outputs": [
        {
          "output_type": "stream",
          "text": [
            "Mounted at /content/drive\n",
            "/content/drive/.shortcut-targets-by-id/1auWpfpINZvmJbl0I50kYmpS29bbnesqp/Captstone(297)/data\n"
          ],
          "name": "stdout"
        }
      ]
    },
    {
      "cell_type": "code",
      "metadata": {
        "id": "QlYaSvvCxlGM"
      },
      "source": [
        "import pandas as pd\n",
        "import numpy as np\n",
        "import matplotlib.pyplot as plt\n",
        "pd.set_option('display.max_rows', None)\n",
        "import scipy.sparse as sparse"
      ],
      "execution_count": null,
      "outputs": []
    },
    {
      "cell_type": "code",
      "metadata": {
        "id": "2Mz5KrC_xm29",
        "outputId": "b65acf2b-fb79-47af-d971-92b20cd1a974",
        "colab": {
          "base_uri": "https://localhost:8080/",
          "height": 228
        }
      },
      "source": [
        "! pip install implicit\n",
        "import implicit"
      ],
      "execution_count": null,
      "outputs": [
        {
          "output_type": "stream",
          "text": [
            "Collecting implicit\n",
            "\u001b[?25l  Downloading https://files.pythonhosted.org/packages/bc/07/c0121884722d16e2c5beeb815f6b84b41cbf22e738e4075f1475be2791bc/implicit-0.4.4.tar.gz (1.1MB)\n",
            "\r\u001b[K     |▎                               | 10kB 27.4MB/s eta 0:00:01\r\u001b[K     |▋                               | 20kB 19.4MB/s eta 0:00:01\r\u001b[K     |▉                               | 30kB 16.3MB/s eta 0:00:01\r\u001b[K     |█▏                              | 40kB 13.0MB/s eta 0:00:01\r\u001b[K     |█▌                              | 51kB 10.1MB/s eta 0:00:01\r\u001b[K     |█▊                              | 61kB 10.9MB/s eta 0:00:01\r\u001b[K     |██                              | 71kB 10.6MB/s eta 0:00:01\r\u001b[K     |██▍                             | 81kB 10.7MB/s eta 0:00:01\r\u001b[K     |██▋                             | 92kB 9.7MB/s eta 0:00:01\r\u001b[K     |███                             | 102kB 9.8MB/s eta 0:00:01\r\u001b[K     |███▎                            | 112kB 9.8MB/s eta 0:00:01\r\u001b[K     |███▌                            | 122kB 9.8MB/s eta 0:00:01\r\u001b[K     |███▉                            | 133kB 9.8MB/s eta 0:00:01\r\u001b[K     |████▏                           | 143kB 9.8MB/s eta 0:00:01\r\u001b[K     |████▍                           | 153kB 9.8MB/s eta 0:00:01\r\u001b[K     |████▊                           | 163kB 9.8MB/s eta 0:00:01\r\u001b[K     |█████                           | 174kB 9.8MB/s eta 0:00:01\r\u001b[K     |█████▎                          | 184kB 9.8MB/s eta 0:00:01\r\u001b[K     |█████▋                          | 194kB 9.8MB/s eta 0:00:01\r\u001b[K     |██████                          | 204kB 9.8MB/s eta 0:00:01\r\u001b[K     |██████▏                         | 215kB 9.8MB/s eta 0:00:01\r\u001b[K     |██████▌                         | 225kB 9.8MB/s eta 0:00:01\r\u001b[K     |██████▉                         | 235kB 9.8MB/s eta 0:00:01\r\u001b[K     |███████                         | 245kB 9.8MB/s eta 0:00:01\r\u001b[K     |███████▍                        | 256kB 9.8MB/s eta 0:00:01\r\u001b[K     |███████▊                        | 266kB 9.8MB/s eta 0:00:01\r\u001b[K     |████████                        | 276kB 9.8MB/s eta 0:00:01\r\u001b[K     |████████▎                       | 286kB 9.8MB/s eta 0:00:01\r\u001b[K     |████████▋                       | 296kB 9.8MB/s eta 0:00:01\r\u001b[K     |████████▉                       | 307kB 9.8MB/s eta 0:00:01\r\u001b[K     |█████████▏                      | 317kB 9.8MB/s eta 0:00:01\r\u001b[K     |█████████▌                      | 327kB 9.8MB/s eta 0:00:01\r\u001b[K     |█████████▊                      | 337kB 9.8MB/s eta 0:00:01\r\u001b[K     |██████████                      | 348kB 9.8MB/s eta 0:00:01\r\u001b[K     |██████████▍                     | 358kB 9.8MB/s eta 0:00:01\r\u001b[K     |██████████▋                     | 368kB 9.8MB/s eta 0:00:01\r\u001b[K     |███████████                     | 378kB 9.8MB/s eta 0:00:01\r\u001b[K     |███████████▏                    | 389kB 9.8MB/s eta 0:00:01\r\u001b[K     |███████████▌                    | 399kB 9.8MB/s eta 0:00:01\r\u001b[K     |███████████▉                    | 409kB 9.8MB/s eta 0:00:01\r\u001b[K     |████████████                    | 419kB 9.8MB/s eta 0:00:01\r\u001b[K     |████████████▍                   | 430kB 9.8MB/s eta 0:00:01\r\u001b[K     |████████████▊                   | 440kB 9.8MB/s eta 0:00:01\r\u001b[K     |█████████████                   | 450kB 9.8MB/s eta 0:00:01\r\u001b[K     |█████████████▎                  | 460kB 9.8MB/s eta 0:00:01\r\u001b[K     |█████████████▋                  | 471kB 9.8MB/s eta 0:00:01\r\u001b[K     |█████████████▉                  | 481kB 9.8MB/s eta 0:00:01\r\u001b[K     |██████████████▏                 | 491kB 9.8MB/s eta 0:00:01\r\u001b[K     |██████████████▌                 | 501kB 9.8MB/s eta 0:00:01\r\u001b[K     |██████████████▊                 | 512kB 9.8MB/s eta 0:00:01\r\u001b[K     |███████████████                 | 522kB 9.8MB/s eta 0:00:01\r\u001b[K     |███████████████▍                | 532kB 9.8MB/s eta 0:00:01\r\u001b[K     |███████████████▋                | 542kB 9.8MB/s eta 0:00:01\r\u001b[K     |████████████████                | 552kB 9.8MB/s eta 0:00:01\r\u001b[K     |████████████████▎               | 563kB 9.8MB/s eta 0:00:01\r\u001b[K     |████████████████▌               | 573kB 9.8MB/s eta 0:00:01\r\u001b[K     |████████████████▉               | 583kB 9.8MB/s eta 0:00:01\r\u001b[K     |█████████████████▏              | 593kB 9.8MB/s eta 0:00:01\r\u001b[K     |█████████████████▍              | 604kB 9.8MB/s eta 0:00:01\r\u001b[K     |█████████████████▊              | 614kB 9.8MB/s eta 0:00:01\r\u001b[K     |██████████████████              | 624kB 9.8MB/s eta 0:00:01\r\u001b[K     |██████████████████▎             | 634kB 9.8MB/s eta 0:00:01\r\u001b[K     |██████████████████▋             | 645kB 9.8MB/s eta 0:00:01\r\u001b[K     |███████████████████             | 655kB 9.8MB/s eta 0:00:01\r\u001b[K     |███████████████████▏            | 665kB 9.8MB/s eta 0:00:01\r\u001b[K     |███████████████████▌            | 675kB 9.8MB/s eta 0:00:01\r\u001b[K     |███████████████████▉            | 686kB 9.8MB/s eta 0:00:01\r\u001b[K     |████████████████████            | 696kB 9.8MB/s eta 0:00:01\r\u001b[K     |████████████████████▍           | 706kB 9.8MB/s eta 0:00:01\r\u001b[K     |████████████████████▊           | 716kB 9.8MB/s eta 0:00:01\r\u001b[K     |█████████████████████           | 727kB 9.8MB/s eta 0:00:01\r\u001b[K     |█████████████████████▎          | 737kB 9.8MB/s eta 0:00:01\r\u001b[K     |█████████████████████▋          | 747kB 9.8MB/s eta 0:00:01\r\u001b[K     |█████████████████████▉          | 757kB 9.8MB/s eta 0:00:01\r\u001b[K     |██████████████████████▏         | 768kB 9.8MB/s eta 0:00:01\r\u001b[K     |██████████████████████▍         | 778kB 9.8MB/s eta 0:00:01\r\u001b[K     |██████████████████████▊         | 788kB 9.8MB/s eta 0:00:01\r\u001b[K     |███████████████████████         | 798kB 9.8MB/s eta 0:00:01\r\u001b[K     |███████████████████████▎        | 808kB 9.8MB/s eta 0:00:01\r\u001b[K     |███████████████████████▋        | 819kB 9.8MB/s eta 0:00:01\r\u001b[K     |████████████████████████        | 829kB 9.8MB/s eta 0:00:01\r\u001b[K     |████████████████████████▏       | 839kB 9.8MB/s eta 0:00:01\r\u001b[K     |████████████████████████▌       | 849kB 9.8MB/s eta 0:00:01\r\u001b[K     |████████████████████████▉       | 860kB 9.8MB/s eta 0:00:01\r\u001b[K     |█████████████████████████       | 870kB 9.8MB/s eta 0:00:01\r\u001b[K     |█████████████████████████▍      | 880kB 9.8MB/s eta 0:00:01\r\u001b[K     |█████████████████████████▊      | 890kB 9.8MB/s eta 0:00:01\r\u001b[K     |██████████████████████████      | 901kB 9.8MB/s eta 0:00:01\r\u001b[K     |██████████████████████████▎     | 911kB 9.8MB/s eta 0:00:01\r\u001b[K     |██████████████████████████▋     | 921kB 9.8MB/s eta 0:00:01\r\u001b[K     |██████████████████████████▉     | 931kB 9.8MB/s eta 0:00:01\r\u001b[K     |███████████████████████████▏    | 942kB 9.8MB/s eta 0:00:01\r\u001b[K     |███████████████████████████▌    | 952kB 9.8MB/s eta 0:00:01\r\u001b[K     |███████████████████████████▊    | 962kB 9.8MB/s eta 0:00:01\r\u001b[K     |████████████████████████████    | 972kB 9.8MB/s eta 0:00:01\r\u001b[K     |████████████████████████████▍   | 983kB 9.8MB/s eta 0:00:01\r\u001b[K     |████████████████████████████▋   | 993kB 9.8MB/s eta 0:00:01\r\u001b[K     |█████████████████████████████   | 1.0MB 9.8MB/s eta 0:00:01\r\u001b[K     |█████████████████████████████▎  | 1.0MB 9.8MB/s eta 0:00:01\r\u001b[K     |█████████████████████████████▌  | 1.0MB 9.8MB/s eta 0:00:01\r\u001b[K     |█████████████████████████████▉  | 1.0MB 9.8MB/s eta 0:00:01\r\u001b[K     |██████████████████████████████▏ | 1.0MB 9.8MB/s eta 0:00:01\r\u001b[K     |██████████████████████████████▍ | 1.1MB 9.8MB/s eta 0:00:01\r\u001b[K     |██████████████████████████████▊ | 1.1MB 9.8MB/s eta 0:00:01\r\u001b[K     |███████████████████████████████ | 1.1MB 9.8MB/s eta 0:00:01\r\u001b[K     |███████████████████████████████▎| 1.1MB 9.8MB/s eta 0:00:01\r\u001b[K     |███████████████████████████████▋| 1.1MB 9.8MB/s eta 0:00:01\r\u001b[K     |████████████████████████████████| 1.1MB 9.8MB/s eta 0:00:01\r\u001b[K     |████████████████████████████████| 1.1MB 9.8MB/s \n",
            "\u001b[?25hRequirement already satisfied: numpy in /usr/local/lib/python3.6/dist-packages (from implicit) (1.18.5)\n",
            "Requirement already satisfied: scipy>=0.16 in /usr/local/lib/python3.6/dist-packages (from implicit) (1.4.1)\n",
            "Requirement already satisfied: tqdm>=4.27 in /usr/local/lib/python3.6/dist-packages (from implicit) (4.41.1)\n",
            "Building wheels for collected packages: implicit\n",
            "  Building wheel for implicit (setup.py) ... \u001b[?25l\u001b[?25hdone\n",
            "  Created wheel for implicit: filename=implicit-0.4.4-cp36-cp36m-linux_x86_64.whl size=3419414 sha256=1505c8973a9dfca5c6eefda7466e215734779020a90fd796b370f12fe5520799\n",
            "  Stored in directory: /root/.cache/pip/wheels/bf/d4/ec/fd4f622fcbefb7521f149905295b2c26adecb23af38aa28217\n",
            "Successfully built implicit\n",
            "Installing collected packages: implicit\n",
            "Successfully installed implicit-0.4.4\n"
          ],
          "name": "stdout"
        }
      ]
    },
    {
      "cell_type": "code",
      "metadata": {
        "id": "0cvzNGAqxu9l",
        "outputId": "f2453bd9-f8aa-4d40-a8f3-a09f81f0eb38",
        "colab": {
          "base_uri": "https://localhost:8080/",
          "height": 50
        }
      },
      "source": [
        "df = pd.read_csv(\"merged_user_data_rm_suspicious.csv\")"
      ],
      "execution_count": null,
      "outputs": [
        {
          "output_type": "stream",
          "text": [
            "/usr/local/lib/python3.6/dist-packages/IPython/core/interactiveshell.py:2718: DtypeWarning: Columns (11,15,16) have mixed types.Specify dtype option on import or set low_memory=False.\n",
            "  interactivity=interactivity, compiler=compiler, result=result)\n"
          ],
          "name": "stderr"
        }
      ]
    },
    {
      "cell_type": "markdown",
      "metadata": {
        "id": "PQL8mtsCdAW8"
      },
      "source": [
        "## Subsetting to Counties in NJ with most data"
      ]
    },
    {
      "cell_type": "code",
      "metadata": {
        "id": "53HcRQ1cyaM9"
      },
      "source": [
        "nj_n_counties = ['Hudson','Bergen','Passaic','Essex','Union','Middlesex','Monmouth','Mercer','Hunterdon','Warren','Sussex','Morris','Somerset']\n",
        "nj_df = df.copy(deep=True)\n",
        "nj_df = nj_df[(nj_df['county'].isin(nj_n_counties)) & (nj_df['state']=='NJ')]"
      ],
      "execution_count": null,
      "outputs": []
    },
    {
      "cell_type": "code",
      "metadata": {
        "id": "1PfZto0oyogL",
        "outputId": "286766fc-2cf2-41de-aae1-105bf0413f01",
        "colab": {
          "base_uri": "https://localhost:8080/",
          "height": 33
        }
      },
      "source": [
        "nj_df.shape"
      ],
      "execution_count": null,
      "outputs": [
        {
          "output_type": "execute_result",
          "data": {
            "text/plain": [
              "(108847, 63)"
            ]
          },
          "metadata": {
            "tags": []
          },
          "execution_count": 9
        }
      ]
    },
    {
      "cell_type": "markdown",
      "metadata": {
        "id": "Ec2-zN1IdDKl"
      },
      "source": [
        "## Bringing in Score Logic from `AllData` Notebook"
      ]
    },
    {
      "cell_type": "code",
      "metadata": {
        "id": "Qg_5Srj2TYjp"
      },
      "source": [
        "special_actions_level0 = ['scroll','pageview','ViewContent','view_item','drag','click']\n",
        "\n",
        "# open-form (questions), (showing, showing-agent) = enter-flow = phone-click\n",
        "# nav-tab (schools-and-comps), success(favorite), change(payment-calculator)\n",
        "special_actions_level1 = ['open-form','enter-flow',  'nav-tab', 'change',\n",
        "                          'success', 'Search', 'view_search_results', 'phone-click']\n",
        "# 'nav' (insidere-details) = lead, submit = submit-success  (showing, showing-agent, buyer-lead-form)\n",
        "special_actions_level2 = ['nav', 'lead', 'submit', 'submit-success','add_to_cart', 'InitiateCheckout',]\n",
        "special_actions_level3 = ['Purchase','purchase']"
      ],
      "execution_count": null,
      "outputs": []
    },
    {
      "cell_type": "code",
      "metadata": {
        "id": "9eusixu8RyaP",
        "outputId": "52baa97c-c026-43c1-a5a6-cafaddca2439",
        "colab": {
          "base_uri": "https://localhost:8080/",
          "height": 82
        }
      },
      "source": [
        "action_ct = nj_df.action.value_counts()\n",
        "total_ct = action_ct.sum()\n",
        "level_weights = []\n",
        "for i, curr_level in enumerate([special_actions_level0, special_actions_level1, \n",
        "                           special_actions_level2, special_actions_level3]):\n",
        "  # futureproofing index lookup for cases when not all actions are there\n",
        "  Lx_weight = 100*action_ct[action_ct.index.isin(curr_level)].sum()/total_ct\n",
        "  level_weights.append(Lx_weight)\n",
        "  print(\"Level {0:d}: {1:.4f} %\".format(i+1, Lx_weight))"
      ],
      "execution_count": null,
      "outputs": [
        {
          "output_type": "stream",
          "text": [
            "Level 1: 99.3707 %\n",
            "Level 2: 0.5448 %\n",
            "Level 3: 0.0772 %\n",
            "Level 4: 0.0073 %\n"
          ],
          "name": "stdout"
        }
      ]
    },
    {
      "cell_type": "code",
      "metadata": {
        "id": "zdqWUoALgUli"
      },
      "source": [
        "group_df_pre = nj_df.groupby(by=['ip', 'rexUrl']).agg(scroll_ct = ('action',lambda x: sum(x==\"scroll\")),\n",
        "                                                   pageview_ct = ('action',lambda x: sum(x==\"pageview\")),\n",
        "                                                   viewcontent_ct = ('action',lambda x: sum(x=='ViewContent')),\n",
        "                                                   view_item_ct = ('action',lambda x: sum(x=='view_item')),\n",
        "                                                   drag_ct = ('action',lambda x: sum(x=='drag')),\n",
        "                                                   click_ct = ('action',lambda x: sum(x=='click')),\n",
        "                                                   level0_ct = ('action', lambda x: sum(np.isin(x, special_actions_level0))),\n",
        "                                                   level1_ct = ('action', lambda x: sum(np.isin(x, special_actions_level1))),\n",
        "                                                   level2_ct = ('action', lambda x: sum(np.isin(x, special_actions_level2))),\n",
        "                                                   level3_ct = ('action', lambda x: sum(np.isin(x, special_actions_level3))))"
      ],
      "execution_count": null,
      "outputs": []
    },
    {
      "cell_type": "code",
      "metadata": {
        "id": "45KFzyS8SDYh",
        "outputId": "ebfaa900-6813-4ddb-cc0a-f9f19d652e23",
        "colab": {
          "base_uri": "https://localhost:8080/",
          "height": 207
        }
      },
      "source": [
        "def calculate_score(row):\n",
        "  curr_score = 0\n",
        "  for i in range(4):\n",
        "    curr_weight = np.clip(1/level_weights[i],0,6)\n",
        "    curr_score += row[f'level{i}_ct']*curr_weight\n",
        "  return curr_score\n",
        "\n",
        "# Based on Selina score rule\n",
        "group_df_pre['score'] = group_df_pre.apply(lambda x: calculate_score(x), axis=1)\n",
        "\n",
        "## input for CF model\n",
        "df_grp = group_df_pre.reset_index()[['ip', 'rexUrl','score']]\n",
        "print(\"Input for CF model: \", df_grp.shape)\n",
        "df_grp.head()"
      ],
      "execution_count": null,
      "outputs": [
        {
          "output_type": "stream",
          "text": [
            "Input for CF model:  (4959, 3)\n"
          ],
          "name": "stdout"
        },
        {
          "output_type": "execute_result",
          "data": {
            "text/html": [
              "<div>\n",
              "<style scoped>\n",
              "    .dataframe tbody tr th:only-of-type {\n",
              "        vertical-align: middle;\n",
              "    }\n",
              "\n",
              "    .dataframe tbody tr th {\n",
              "        vertical-align: top;\n",
              "    }\n",
              "\n",
              "    .dataframe thead th {\n",
              "        text-align: right;\n",
              "    }\n",
              "</style>\n",
              "<table border=\"1\" class=\"dataframe\">\n",
              "  <thead>\n",
              "    <tr style=\"text-align: right;\">\n",
              "      <th></th>\n",
              "      <th>ip</th>\n",
              "      <th>rexUrl</th>\n",
              "      <th>score</th>\n",
              "    </tr>\n",
              "  </thead>\n",
              "  <tbody>\n",
              "    <tr>\n",
              "      <th>0</th>\n",
              "      <td>10.70.33.53</td>\n",
              "      <td>57-miry-brook-rd</td>\n",
              "      <td>20.288381</td>\n",
              "    </tr>\n",
              "    <tr>\n",
              "      <th>1</th>\n",
              "      <td>100.1.107.229</td>\n",
              "      <td>106-108-parkview-ave</td>\n",
              "      <td>0.030190</td>\n",
              "    </tr>\n",
              "    <tr>\n",
              "      <th>2</th>\n",
              "      <td>100.1.107.229</td>\n",
              "      <td>265-custer-ave-apt-116</td>\n",
              "      <td>0.060380</td>\n",
              "    </tr>\n",
              "    <tr>\n",
              "      <th>3</th>\n",
              "      <td>100.1.107.229</td>\n",
              "      <td>433-w-1st-ave</td>\n",
              "      <td>0.171077</td>\n",
              "    </tr>\n",
              "    <tr>\n",
              "      <th>4</th>\n",
              "      <td>100.1.107.229</td>\n",
              "      <td>911-kennedy-blvd-913</td>\n",
              "      <td>0.201267</td>\n",
              "    </tr>\n",
              "  </tbody>\n",
              "</table>\n",
              "</div>"
            ],
            "text/plain": [
              "              ip                  rexUrl      score\n",
              "0    10.70.33.53        57-miry-brook-rd  20.288381\n",
              "1  100.1.107.229    106-108-parkview-ave   0.030190\n",
              "2  100.1.107.229  265-custer-ave-apt-116   0.060380\n",
              "3  100.1.107.229           433-w-1st-ave   0.171077\n",
              "4  100.1.107.229    911-kennedy-blvd-913   0.201267"
            ]
          },
          "metadata": {
            "tags": []
          },
          "execution_count": 13
        }
      ]
    },
    {
      "cell_type": "code",
      "metadata": {
        "id": "VgB0XMjWyxYt",
        "outputId": "898d0c31-0e95-41e3-88ea-12e59b7242d4",
        "colab": {
          "base_uri": "https://localhost:8080/",
          "height": 191
        }
      },
      "source": [
        "# View frequency approach\n",
        "df_grp = nj_df.groupby(['ip','rexUrl'])['event_stamp'].count()\n",
        "df_grp = df_grp.reset_index()\n",
        "df_grp.head()"
      ],
      "execution_count": null,
      "outputs": [
        {
          "output_type": "execute_result",
          "data": {
            "text/html": [
              "<div>\n",
              "<style scoped>\n",
              "    .dataframe tbody tr th:only-of-type {\n",
              "        vertical-align: middle;\n",
              "    }\n",
              "\n",
              "    .dataframe tbody tr th {\n",
              "        vertical-align: top;\n",
              "    }\n",
              "\n",
              "    .dataframe thead th {\n",
              "        text-align: right;\n",
              "    }\n",
              "</style>\n",
              "<table border=\"1\" class=\"dataframe\">\n",
              "  <thead>\n",
              "    <tr style=\"text-align: right;\">\n",
              "      <th></th>\n",
              "      <th>ip</th>\n",
              "      <th>rexUrl</th>\n",
              "      <th>event_stamp</th>\n",
              "    </tr>\n",
              "  </thead>\n",
              "  <tbody>\n",
              "    <tr>\n",
              "      <th>0</th>\n",
              "      <td>10.70.33.53</td>\n",
              "      <td>57-miry-brook-rd</td>\n",
              "      <td>49</td>\n",
              "    </tr>\n",
              "    <tr>\n",
              "      <th>1</th>\n",
              "      <td>100.1.107.229</td>\n",
              "      <td>106-108-parkview-ave</td>\n",
              "      <td>3</td>\n",
              "    </tr>\n",
              "    <tr>\n",
              "      <th>2</th>\n",
              "      <td>100.1.107.229</td>\n",
              "      <td>265-custer-ave-apt-116</td>\n",
              "      <td>6</td>\n",
              "    </tr>\n",
              "    <tr>\n",
              "      <th>3</th>\n",
              "      <td>100.1.107.229</td>\n",
              "      <td>433-w-1st-ave</td>\n",
              "      <td>17</td>\n",
              "    </tr>\n",
              "    <tr>\n",
              "      <th>4</th>\n",
              "      <td>100.1.107.229</td>\n",
              "      <td>911-kennedy-blvd-913</td>\n",
              "      <td>20</td>\n",
              "    </tr>\n",
              "  </tbody>\n",
              "</table>\n",
              "</div>"
            ],
            "text/plain": [
              "              ip                  rexUrl  event_stamp\n",
              "0    10.70.33.53        57-miry-brook-rd           49\n",
              "1  100.1.107.229    106-108-parkview-ave            3\n",
              "2  100.1.107.229  265-custer-ave-apt-116            6\n",
              "3  100.1.107.229           433-w-1st-ave           17\n",
              "4  100.1.107.229    911-kennedy-blvd-913           20"
            ]
          },
          "metadata": {
            "tags": []
          },
          "execution_count": 22
        }
      ]
    },
    {
      "cell_type": "markdown",
      "metadata": {
        "id": "0DPFoISYXpkY"
      },
      "source": [
        "## Implicit ALS"
      ]
    },
    {
      "cell_type": "code",
      "metadata": {
        "id": "cvQKdLGNz-rD"
      },
      "source": [
        " # making unique codes\n",
        " ip_cats = df_grp.ip.astype('category')\n",
        " ip_id = dict(enumerate(ip_cats.cat.categories))\n",
        "\n",
        " url_cats = df_grp.rexUrl.astype('category')\n",
        " url_id = dict(enumerate(url_cats.cat.categories))\n",
        "\n",
        " df_grp['user_id'] = df_grp['ip'].astype(\"category\").cat.codes\n",
        " df_grp['house_id'] = df_grp['rexUrl'].astype(\"category\").cat.codes"
      ],
      "execution_count": null,
      "outputs": []
    },
    {
      "cell_type": "code",
      "metadata": {
        "id": "BtWzL1JuPcRC",
        "outputId": "2435e98f-a323-4e88-9e30-0e54012f726e",
        "colab": {
          "base_uri": "https://localhost:8080/",
          "height": 50
        }
      },
      "source": [
        "print('Num Unique Homes', df_grp.rexUrl.nunique())\n",
        "print('Num Unique Users', df_grp.ip.nunique())"
      ],
      "execution_count": null,
      "outputs": [
        {
          "output_type": "stream",
          "text": [
            "Num Unique Homes 107\n",
            "Num Unique Users 3518\n"
          ],
          "name": "stdout"
        }
      ]
    },
    {
      "cell_type": "code",
      "metadata": {
        "id": "s8UupnI10hNJ"
      },
      "source": [
        "# Function from implicit package that hasn't been pushed to the package's master yet, but exists on a branch\n",
        "import sklearn\n",
        "def train_test_split_imp(ratings, train_percentage=0.8, random_state=None):\n",
        "    \"\"\" Randomly splits the ratings matrix into two matrices for training/testing.\n",
        "    Parameters\n",
        "    ----------\n",
        "    ratings : coo_matrix\n",
        "        A sparse matrix to split\n",
        "    train_percentage : float\n",
        "        What percentage of ratings should be used for training\n",
        "    random_state : int, None or RandomState\n",
        "        The existing RandomState. If None, or an int, will be used\n",
        "        to seed a new numpy RandomState.\n",
        "    Returns\n",
        "    -------\n",
        "    (train, test) : csr_matrix, csr_matrix\n",
        "        A tuple of csr_matrices for training/testing \"\"\"\n",
        "\n",
        "    ratings = ratings.tocoo()\n",
        "    random_state = sklearn.utils.check_random_state(random_state)\n",
        "    random_index = random_state.random_sample(len(ratings.data))\n",
        "    train_index = random_index < train_percentage\n",
        "    test_index = random_index >= train_percentage\n",
        "\n",
        "    train = sparse.csr_matrix((ratings.data[train_index],\n",
        "                        (ratings.row[train_index], ratings.col[train_index])),\n",
        "                       shape=ratings.shape, dtype=ratings.dtype)\n",
        "\n",
        "    test = sparse.csr_matrix((ratings.data[test_index],\n",
        "                       (ratings.row[test_index], ratings.col[test_index])),\n",
        "                      shape=ratings.shape, dtype=ratings.dtype)\n",
        "\n",
        "    test.data[test.data < 0] = 0\n",
        "    test.eliminate_zeros()\n",
        "\n",
        "    return train, test"
      ],
      "execution_count": null,
      "outputs": []
    },
    {
      "cell_type": "code",
      "metadata": {
        "id": "RTCvqR-TLrCM"
      },
      "source": [
        "house_user_sparse_train, house_user_sparse_test = train_test_split_imp(sparse.coo_matrix((df_grp.event_stamp, (df_grp.house_id, df_grp.user_id))),0.8,297)\n",
        "\n",
        "user_house_sparse_train, user_house_sparse_test = train_test_split_imp(sparse.coo_matrix((df_grp.event_stamp, (df_grp.user_id, df_grp.house_id))),0.8,297)"
      ],
      "execution_count": null,
      "outputs": []
    },
    {
      "cell_type": "code",
      "metadata": {
        "id": "UShndkb34v7M"
      },
      "source": [
        "model.fit(house_user_sparse_train*alpha, show_progress=False)"
      ],
      "execution_count": null,
      "outputs": []
    },
    {
      "cell_type": "markdown",
      "metadata": {
        "id": "8ooudq9_dhUW"
      },
      "source": [
        "## Manual Attempt at GridSearch to Find Optimal hyperparameters"
      ]
    },
    {
      "cell_type": "code",
      "metadata": {
        "id": "_JGI0J1E257U",
        "outputId": "5330546a-ca50-439a-8806-55dab3a5cae6",
        "colab": {
          "base_uri": "https://localhost:8080/",
          "height": 1000
        }
      },
      "source": [
        "results6 = []\n",
        "for f in [6,7,8,9]:\n",
        "  for reg in [0.4,0.41,0.42,0.43,0.45,0.46]:\n",
        "    for alpha in [0.6,0.7,0.8,0.9,1]:\n",
        "      model = implicit.als.AlternatingLeastSquares(factors=f, regularization=reg, iterations=20,use_gpu=False)\n",
        "      model.fit(house_user_sparse_train*alpha, show_progress=False)\n",
        "\n",
        "      mapk = evaluation.mean_average_precision_at_k(model,user_house_sparse_train, user_house_sparse_test,10, show_progress=False)\n",
        "      results6.append((f,reg,alpha,mapk))\n",
        "      print((f,reg,alpha,mapk))"
      ],
      "execution_count": null,
      "outputs": [
        {
          "output_type": "stream",
          "text": [
            "(6, 0.4, 0.6, 0.08442246365061351)\n",
            "(6, 0.4, 0.7, 0.08363489360935444)\n",
            "(6, 0.4, 0.8, 0.06803663765922571)\n",
            "(6, 0.4, 0.9, 0.07143352611570555)\n",
            "(6, 0.4, 1, 0.08356770504897638)\n",
            "(6, 0.41, 0.6, 0.07372642019350316)\n",
            "(6, 0.41, 0.7, 0.06890078013801065)\n",
            "(6, 0.41, 0.8, 0.0883889159144551)\n",
            "(6, 0.41, 0.9, 0.07686318757544645)\n",
            "(6, 0.41, 1, 0.0684731005531233)\n",
            "(6, 0.42, 0.6, 0.07766111741707664)\n",
            "(6, 0.42, 0.7, 0.07747516650751618)\n",
            "(6, 0.42, 0.8, 0.07782327081419027)\n",
            "(6, 0.42, 0.9, 0.08058550889141135)\n",
            "(6, 0.42, 1, 0.08720733563951502)\n",
            "(6, 0.43, 0.6, 0.09058102715168552)\n",
            "(6, 0.43, 0.7, 0.08407225735545829)\n",
            "(6, 0.43, 0.8, 0.07614340666270296)\n",
            "(6, 0.43, 0.9, 0.07638337116912607)\n",
            "(6, 0.43, 1, 0.08050623389726681)\n",
            "(6, 0.45, 0.6, 0.07393035061167871)\n",
            "(6, 0.45, 0.7, 0.08046817289155545)\n",
            "(6, 0.45, 0.8, 0.06747202853899796)\n",
            "(6, 0.45, 0.9, 0.0747169071942058)\n",
            "(6, 0.45, 1, 0.0894661099400033)\n",
            "(6, 0.46, 0.6, 0.08639195178638995)\n",
            "(6, 0.46, 0.7, 0.07968916094625522)\n",
            "(6, 0.46, 0.8, 0.08102580040718527)\n",
            "(6, 0.46, 0.9, 0.08126891789632992)\n",
            "(6, 0.46, 1, 0.06732316271192554)\n",
            "(7, 0.4, 0.6, 0.07766483343242712)\n",
            "(7, 0.4, 0.7, 0.07908964380303773)\n",
            "(7, 0.4, 0.8, 0.078871862782192)\n",
            "(7, 0.4, 0.9, 0.0838026773327568)\n",
            "(7, 0.4, 1, 0.07640690593301266)\n",
            "(7, 0.41, 0.6, 0.08176224708574316)\n",
            "(7, 0.41, 0.7, 0.06955569969190867)\n",
            "(7, 0.41, 0.8, 0.0880533484676504)\n",
            "(7, 0.41, 0.9, 0.0751499918923302)\n",
            "(7, 0.41, 1, 0.07581234347692922)\n",
            "(7, 0.42, 0.6, 0.07945471415959507)\n",
            "(7, 0.42, 0.7, 0.0787288524944598)\n",
            "(7, 0.42, 0.8, 0.0693595391240114)\n",
            "(7, 0.42, 0.9, 0.07550177467884622)\n",
            "(7, 0.42, 1, 0.08137127722825796)\n",
            "(7, 0.43, 0.6, 0.09259544529124555)\n",
            "(7, 0.43, 0.7, 0.08777971461002108)\n",
            "(7, 0.43, 0.8, 0.07614318144965146)\n",
            "(7, 0.43, 0.9, 0.07953016053186317)\n",
            "(7, 0.43, 1, 0.06858007675260805)\n",
            "(7, 0.45, 0.6, 0.08402586346683968)\n",
            "(7, 0.45, 0.7, 0.07984816136064725)\n",
            "(7, 0.45, 0.8, 0.09085665039127017)\n",
            "(7, 0.45, 0.9, 0.0702287864319647)\n",
            "(7, 0.45, 1, 0.08534899014467691)\n",
            "(7, 0.46, 0.6, 0.08290557867742891)\n",
            "(7, 0.46, 0.7, 0.07498063167756705)\n",
            "(7, 0.46, 0.8, 0.07018517017098182)\n",
            "(7, 0.46, 0.9, 0.0899399582004577)\n",
            "(7, 0.46, 1, 0.08022426715673031)\n",
            "(8, 0.4, 0.6, 0.08030331693782322)\n",
            "(8, 0.4, 0.7, 0.07390996883051369)\n",
            "(8, 0.4, 0.8, 0.08047200151343174)\n",
            "(8, 0.4, 0.9, 0.06376231915391967)\n",
            "(8, 0.4, 1, 0.07438952248827393)\n",
            "(8, 0.41, 0.6, 0.07805569068338654)\n",
            "(8, 0.41, 0.7, 0.06715695547988404)\n",
            "(8, 0.41, 0.8, 0.07372169071942064)\n",
            "(8, 0.41, 0.9, 0.07643077851647662)\n",
            "(8, 0.41, 1, 0.06868322433021648)\n",
            "(8, 0.42, 0.6, 0.07730460515647812)\n",
            "(8, 0.42, 0.7, 0.09386001657568062)\n",
            "(8, 0.42, 0.8, 0.0774757670756536)\n",
            "(8, 0.42, 0.9, 0.0786547574005009)\n",
            "(8, 0.42, 1, 0.08665252328702958)\n",
            "(8, 0.43, 0.6, 0.07424508585121532)\n",
            "(8, 0.43, 0.7, 0.07278885825991392)\n",
            "(8, 0.43, 0.8, 0.07182569710946564)\n",
            "(8, 0.43, 0.9, 0.07144974145541688)\n",
            "(8, 0.43, 1, 0.08976947192043674)\n",
            "(8, 0.45, 0.6, 0.08081229843431892)\n",
            "(8, 0.45, 0.7, 0.07433201808911236)\n",
            "(8, 0.45, 0.8, 0.0750878330901033)\n",
            "(8, 0.45, 0.9, 0.07309379673170825)\n",
            "(8, 0.45, 1, 0.08509900365746)\n",
            "(8, 0.46, 0.6, 0.07639564528043533)\n",
            "(8, 0.46, 0.7, 0.07906434487024736)\n",
            "(8, 0.46, 0.8, 0.0834153108840964)\n",
            "(8, 0.46, 0.9, 0.07719289948291091)\n",
            "(8, 0.46, 1, 0.07233963329309535)\n",
            "(9, 0.4, 0.6, 0.07345976794047177)\n",
            "(9, 0.4, 0.7, 0.06995500243230102)\n",
            "(9, 0.4, 0.8, 0.06929377691295974)\n",
            "(9, 0.4, 0.9, 0.0761497126281463)\n",
            "(9, 0.4, 1, 0.07650735095400255)\n",
            "(9, 0.41, 0.6, 0.08158004972704185)\n",
            "(9, 0.41, 0.7, 0.09411585860223774)\n",
            "(9, 0.41, 0.8, 0.09137501576491364)\n",
            "(9, 0.41, 0.9, 0.08128434499036095)\n",
            "(9, 0.41, 1, 0.07247716339657326)\n",
            "(9, 0.42, 0.6, 0.0817903987171865)\n",
            "(9, 0.42, 0.7, 0.07826761616489206)\n",
            "(9, 0.42, 0.8, 0.08417608057222133)\n",
            "(9, 0.42, 0.9, 0.07918873754571829)\n",
            "(9, 0.42, 1, 0.07548285678251633)\n",
            "(9, 0.43, 0.6, 0.07466420734014384)\n",
            "(9, 0.43, 0.7, 0.0772474010413852)\n",
            "(9, 0.43, 0.8, 0.0835103507918491)\n",
            "(9, 0.43, 0.9, 0.07502015656811348)\n",
            "(9, 0.43, 1, 0.07338612327261596)\n",
            "(9, 0.45, 0.6, 0.08335653027764268)\n",
            "(9, 0.45, 0.7, 0.08419792623822138)\n",
            "(9, 0.45, 0.8, 0.08011053456569926)\n",
            "(9, 0.45, 0.9, 0.07439395167828772)\n",
            "(9, 0.45, 1, 0.0728378045631168)\n",
            "(9, 0.46, 0.6, 0.08645163324504987)\n",
            "(9, 0.46, 0.7, 0.08082671206961792)\n",
            "(9, 0.46, 0.8, 0.07533639322799374)\n",
            "(9, 0.46, 0.9, 0.06951426049042403)\n",
            "(9, 0.46, 1, 0.08195705637533111)\n"
          ],
          "name": "stdout"
        }
      ]
    },
    {
      "cell_type": "code",
      "metadata": {
        "id": "Rg6imMPUGyCX",
        "outputId": "42d7917b-8cfc-433a-afba-4c4c5836c4dc",
        "colab": {
          "base_uri": "https://localhost:8080/",
          "height": 191
        }
      },
      "source": [
        "results_df6 = pd.DataFrame(results6,columns=['factors','regularization', 'alpha', 'MAP@10'])\n",
        "results_df6.sort_values('MAP@10',ascending=False).head()"
      ],
      "execution_count": null,
      "outputs": [
        {
          "output_type": "execute_result",
          "data": {
            "text/html": [
              "<div>\n",
              "<style scoped>\n",
              "    .dataframe tbody tr th:only-of-type {\n",
              "        vertical-align: middle;\n",
              "    }\n",
              "\n",
              "    .dataframe tbody tr th {\n",
              "        vertical-align: top;\n",
              "    }\n",
              "\n",
              "    .dataframe thead th {\n",
              "        text-align: right;\n",
              "    }\n",
              "</style>\n",
              "<table border=\"1\" class=\"dataframe\">\n",
              "  <thead>\n",
              "    <tr style=\"text-align: right;\">\n",
              "      <th></th>\n",
              "      <th>factors</th>\n",
              "      <th>regularization</th>\n",
              "      <th>alpha</th>\n",
              "      <th>MAP@10</th>\n",
              "    </tr>\n",
              "  </thead>\n",
              "  <tbody>\n",
              "    <tr>\n",
              "      <th>96</th>\n",
              "      <td>9</td>\n",
              "      <td>0.41</td>\n",
              "      <td>0.7</td>\n",
              "      <td>0.094116</td>\n",
              "    </tr>\n",
              "    <tr>\n",
              "      <th>71</th>\n",
              "      <td>8</td>\n",
              "      <td>0.42</td>\n",
              "      <td>0.7</td>\n",
              "      <td>0.093860</td>\n",
              "    </tr>\n",
              "    <tr>\n",
              "      <th>45</th>\n",
              "      <td>7</td>\n",
              "      <td>0.43</td>\n",
              "      <td>0.6</td>\n",
              "      <td>0.092595</td>\n",
              "    </tr>\n",
              "    <tr>\n",
              "      <th>97</th>\n",
              "      <td>9</td>\n",
              "      <td>0.41</td>\n",
              "      <td>0.8</td>\n",
              "      <td>0.091375</td>\n",
              "    </tr>\n",
              "    <tr>\n",
              "      <th>52</th>\n",
              "      <td>7</td>\n",
              "      <td>0.45</td>\n",
              "      <td>0.8</td>\n",
              "      <td>0.090857</td>\n",
              "    </tr>\n",
              "  </tbody>\n",
              "</table>\n",
              "</div>"
            ],
            "text/plain": [
              "    factors  regularization  alpha    MAP@10\n",
              "96        9            0.41    0.7  0.094116\n",
              "71        8            0.42    0.7  0.093860\n",
              "45        7            0.43    0.6  0.092595\n",
              "97        9            0.41    0.8  0.091375\n",
              "52        7            0.45    0.8  0.090857"
            ]
          },
          "metadata": {
            "tags": []
          },
          "execution_count": 66
        }
      ]
    },
    {
      "cell_type": "code",
      "metadata": {
        "id": "Mtm82YzyHC2L",
        "outputId": "d8d65075-4b77-4b9a-c98e-e68f2d51cd32",
        "colab": {
          "base_uri": "https://localhost:8080/",
          "height": 65,
          "referenced_widgets": [
            "f5588c3fbfe24a38a4e47d0287c830da",
            "cd178f9d58a14f3983f600dc33b4a894",
            "9bbf2a43f2c34e74add2e2fef0cb75f5",
            "76b0de648e964eb9940be1e2822a4070",
            "0efc1d063f09472b86de479cb9759f68",
            "8e341232082b4362bd44a1f6ace6f973",
            "94eeb79289e249e280b9472620ef6cdc",
            "bc9b2851a28e493d831464355f27beaf"
          ]
        }
      },
      "source": [
        "#FINAL chosen hyperparameters from GridSearch Above\n",
        "\n",
        "model = implicit.als.AlternatingLeastSquares(factors=9, regularization=0.41, iterations=20, use_gpu=False)\n",
        "model.fit(house_user_sparse_train*0.7, show_progress=True)"
      ],
      "execution_count": null,
      "outputs": [
        {
          "output_type": "display_data",
          "data": {
            "application/vnd.jupyter.widget-view+json": {
              "model_id": "f5588c3fbfe24a38a4e47d0287c830da",
              "version_minor": 0,
              "version_major": 2
            },
            "text/plain": [
              "HBox(children=(FloatProgress(value=0.0, max=20.0), HTML(value='')))"
            ]
          },
          "metadata": {
            "tags": []
          }
        },
        {
          "output_type": "stream",
          "text": [
            "\n"
          ],
          "name": "stdout"
        }
      ]
    },
    {
      "cell_type": "markdown",
      "metadata": {
        "id": "ECdSwBqvfWun"
      },
      "source": [
        "### Evaluation\n",
        "\n",
        "https://stats.stackexchange.com/questions/226825/what-metric-should-i-use-for-assessing-implicit-matrix-factorization-recommender"
      ]
    },
    {
      "cell_type": "code",
      "metadata": {
        "id": "SRPPWbEg3UbA"
      },
      "source": [
        "from implicit import evaluation"
      ],
      "execution_count": null,
      "outputs": []
    },
    {
      "cell_type": "code",
      "metadata": {
        "id": "34pBRkCxWzOm",
        "outputId": "c0352e89-9ebd-491d-e481-d995eabda3f2",
        "colab": {
          "base_uri": "https://localhost:8080/",
          "height": 81,
          "referenced_widgets": [
            "be8846dcd78d4843a1da000d63e4c76f",
            "b2e13c7eca914b6e86849a1e60f92f96",
            "e38a5618e8a34f33ae7c4d2f24e6a06a",
            "2eee810bbb1f4c98b617f37596109306",
            "57f75201a722461ba9b2be348e8b12d5",
            "47d732573ba941468927724beaf08320",
            "8db3c056312f48e1b2b6e4ee788712db",
            "e824e4d7a87d4bb79ab3c8d02adcf250"
          ]
        }
      },
      "source": [
        "evaluation.AUC_at_k(model,user_house_sparse_train, user_house_sparse_test,10)"
      ],
      "execution_count": null,
      "outputs": [
        {
          "output_type": "display_data",
          "data": {
            "application/vnd.jupyter.widget-view+json": {
              "model_id": "be8846dcd78d4843a1da000d63e4c76f",
              "version_minor": 0,
              "version_major": 2
            },
            "text/plain": [
              "HBox(children=(FloatProgress(value=0.0, max=3518.0), HTML(value='')))"
            ]
          },
          "metadata": {
            "tags": []
          }
        },
        {
          "output_type": "stream",
          "text": [
            "\n"
          ],
          "name": "stdout"
        },
        {
          "output_type": "execute_result",
          "data": {
            "text/plain": [
              "0.5619146736654896"
            ]
          },
          "metadata": {
            "tags": []
          },
          "execution_count": 81
        }
      ]
    },
    {
      "cell_type": "code",
      "metadata": {
        "id": "3dm2_vK83Z6D",
        "outputId": "aa355700-d728-45c5-ccfd-161797003469",
        "colab": {
          "base_uri": "https://localhost:8080/",
          "height": 81,
          "referenced_widgets": [
            "dac718a5ac8c4c2e86444bea1d1ce22c",
            "c45720509d364647a1ea0b7ea6eef82a",
            "29719e244e5040acb8e6491994d24395",
            "530bd42095174dd999896cbaa7883023",
            "a31022346aba4557b42cb973e34b57e3",
            "8fbdbde72a6e4f75a6eb7adffd306028",
            "7f93d21384d7467d941a106cca89e97e",
            "417501a2146440e99522ba160b0f96d9"
          ]
        }
      },
      "source": [
        "evaluation.mean_average_precision_at_k(model,user_house_sparse_train, user_house_sparse_test,10)"
      ],
      "execution_count": null,
      "outputs": [
        {
          "output_type": "display_data",
          "data": {
            "application/vnd.jupyter.widget-view+json": {
              "model_id": "dac718a5ac8c4c2e86444bea1d1ce22c",
              "version_minor": 0,
              "version_major": 2
            },
            "text/plain": [
              "HBox(children=(FloatProgress(value=0.0, max=3518.0), HTML(value='')))"
            ]
          },
          "metadata": {
            "tags": []
          }
        },
        {
          "output_type": "stream",
          "text": [
            "\n"
          ],
          "name": "stdout"
        },
        {
          "output_type": "execute_result",
          "data": {
            "text/plain": [
              "0.08379006540187017"
            ]
          },
          "metadata": {
            "tags": []
          },
          "execution_count": 82
        }
      ]
    },
    {
      "cell_type": "markdown",
      "metadata": {
        "id": "kX8QR0xcW0A_"
      },
      "source": [
        "## Predictions (Implicit ALS)"
      ]
    },
    {
      "cell_type": "code",
      "metadata": {
        "id": "1Omnl5AY7mBl"
      },
      "source": [
        "def make_recs(user_id):\n",
        "  recommended = model.recommend(user_id, user_house_sparse_train, filter_already_liked_items=True)\n",
        "  \n",
        "  recommended_df = pd.DataFrame(recommended,columns=['house_id', 'score'])\n",
        "  recommended_df['rexUrl'] = recommended_df['house_id'].map(url_id)\n",
        "  recommended_df.drop('house_id',axis=1,inplace=True)\n",
        "\n",
        "  return recommended_df"
      ],
      "execution_count": null,
      "outputs": []
    },
    {
      "cell_type": "code",
      "metadata": {
        "id": "PgWzjci_8e2y",
        "outputId": "67b13e45-9f24-480e-e5d6-b3126a97a3c1",
        "colab": {
          "base_uri": "https://localhost:8080/",
          "height": 335
        }
      },
      "source": [
        "make_recs(1)"
      ],
      "execution_count": null,
      "outputs": [
        {
          "output_type": "execute_result",
          "data": {
            "text/html": [
              "<div>\n",
              "<style scoped>\n",
              "    .dataframe tbody tr th:only-of-type {\n",
              "        vertical-align: middle;\n",
              "    }\n",
              "\n",
              "    .dataframe tbody tr th {\n",
              "        vertical-align: top;\n",
              "    }\n",
              "\n",
              "    .dataframe thead th {\n",
              "        text-align: right;\n",
              "    }\n",
              "</style>\n",
              "<table border=\"1\" class=\"dataframe\">\n",
              "  <thead>\n",
              "    <tr style=\"text-align: right;\">\n",
              "      <th></th>\n",
              "      <th>score</th>\n",
              "      <th>rexUrl</th>\n",
              "    </tr>\n",
              "  </thead>\n",
              "  <tbody>\n",
              "    <tr>\n",
              "      <th>0</th>\n",
              "      <td>0.467996</td>\n",
              "      <td>151-e-7th-ave</td>\n",
              "    </tr>\n",
              "    <tr>\n",
              "      <th>1</th>\n",
              "      <td>0.466748</td>\n",
              "      <td>31-grace-ter</td>\n",
              "    </tr>\n",
              "    <tr>\n",
              "      <th>2</th>\n",
              "      <td>0.450717</td>\n",
              "      <td>10-stoneleigh-ter</td>\n",
              "    </tr>\n",
              "    <tr>\n",
              "      <th>3</th>\n",
              "      <td>0.439218</td>\n",
              "      <td>46-revere-blvd</td>\n",
              "    </tr>\n",
              "    <tr>\n",
              "      <th>4</th>\n",
              "      <td>0.401975</td>\n",
              "      <td>73-deerfield-rd</td>\n",
              "    </tr>\n",
              "    <tr>\n",
              "      <th>5</th>\n",
              "      <td>0.367727</td>\n",
              "      <td>917-kennedy-blvd</td>\n",
              "    </tr>\n",
              "    <tr>\n",
              "      <th>6</th>\n",
              "      <td>0.366701</td>\n",
              "      <td>800-jackson-st-apt-807</td>\n",
              "    </tr>\n",
              "    <tr>\n",
              "      <th>7</th>\n",
              "      <td>0.352515</td>\n",
              "      <td>759-avenue-a-apt-16</td>\n",
              "    </tr>\n",
              "    <tr>\n",
              "      <th>8</th>\n",
              "      <td>0.336547</td>\n",
              "      <td>232-terrace-avenue</td>\n",
              "    </tr>\n",
              "    <tr>\n",
              "      <th>9</th>\n",
              "      <td>0.335989</td>\n",
              "      <td>33-lorrigan-pl</td>\n",
              "    </tr>\n",
              "  </tbody>\n",
              "</table>\n",
              "</div>"
            ],
            "text/plain": [
              "      score                  rexUrl\n",
              "0  0.467996           151-e-7th-ave\n",
              "1  0.466748            31-grace-ter\n",
              "2  0.450717       10-stoneleigh-ter\n",
              "3  0.439218          46-revere-blvd\n",
              "4  0.401975         73-deerfield-rd\n",
              "5  0.367727        917-kennedy-blvd\n",
              "6  0.366701  800-jackson-st-apt-807\n",
              "7  0.352515     759-avenue-a-apt-16\n",
              "8  0.336547      232-terrace-avenue\n",
              "9  0.335989          33-lorrigan-pl"
            ]
          },
          "metadata": {
            "tags": []
          },
          "execution_count": 84
        }
      ]
    },
    {
      "cell_type": "code",
      "metadata": {
        "id": "vG7JCjkeWrUn",
        "outputId": "013bc0fc-10cf-4c0f-dd33-fdd355a92324",
        "colab": {
          "base_uri": "https://localhost:8080/",
          "height": 162
        }
      },
      "source": [
        "df_grp[df_grp['user_id']==1].sort_values('event_stamp',ascending=False)"
      ],
      "execution_count": null,
      "outputs": [
        {
          "output_type": "execute_result",
          "data": {
            "text/html": [
              "<div>\n",
              "<style scoped>\n",
              "    .dataframe tbody tr th:only-of-type {\n",
              "        vertical-align: middle;\n",
              "    }\n",
              "\n",
              "    .dataframe tbody tr th {\n",
              "        vertical-align: top;\n",
              "    }\n",
              "\n",
              "    .dataframe thead th {\n",
              "        text-align: right;\n",
              "    }\n",
              "</style>\n",
              "<table border=\"1\" class=\"dataframe\">\n",
              "  <thead>\n",
              "    <tr style=\"text-align: right;\">\n",
              "      <th></th>\n",
              "      <th>ip</th>\n",
              "      <th>rexUrl</th>\n",
              "      <th>event_stamp</th>\n",
              "      <th>user_id</th>\n",
              "      <th>house_id</th>\n",
              "    </tr>\n",
              "  </thead>\n",
              "  <tbody>\n",
              "    <tr>\n",
              "      <th>4</th>\n",
              "      <td>100.1.107.229</td>\n",
              "      <td>911-kennedy-blvd-913</td>\n",
              "      <td>20</td>\n",
              "      <td>1</td>\n",
              "      <td>104</td>\n",
              "    </tr>\n",
              "    <tr>\n",
              "      <th>3</th>\n",
              "      <td>100.1.107.229</td>\n",
              "      <td>433-w-1st-ave</td>\n",
              "      <td>17</td>\n",
              "      <td>1</td>\n",
              "      <td>63</td>\n",
              "    </tr>\n",
              "    <tr>\n",
              "      <th>2</th>\n",
              "      <td>100.1.107.229</td>\n",
              "      <td>265-custer-ave-apt-116</td>\n",
              "      <td>6</td>\n",
              "      <td>1</td>\n",
              "      <td>44</td>\n",
              "    </tr>\n",
              "    <tr>\n",
              "      <th>1</th>\n",
              "      <td>100.1.107.229</td>\n",
              "      <td>106-108-parkview-ave</td>\n",
              "      <td>3</td>\n",
              "      <td>1</td>\n",
              "      <td>4</td>\n",
              "    </tr>\n",
              "  </tbody>\n",
              "</table>\n",
              "</div>"
            ],
            "text/plain": [
              "              ip                  rexUrl  event_stamp  user_id  house_id\n",
              "4  100.1.107.229    911-kennedy-blvd-913           20        1       104\n",
              "3  100.1.107.229           433-w-1st-ave           17        1        63\n",
              "2  100.1.107.229  265-custer-ave-apt-116            6        1        44\n",
              "1  100.1.107.229    106-108-parkview-ave            3        1         4"
            ]
          },
          "metadata": {
            "tags": []
          },
          "execution_count": 86
        }
      ]
    },
    {
      "cell_type": "code",
      "metadata": {
        "id": "pINCzoY59fTs"
      },
      "source": [
        "# https://medium.com/radon-dev/als-implicit-collaborative-filtering-5ed653ba39fe"
      ],
      "execution_count": null,
      "outputs": []
    },
    {
      "cell_type": "markdown",
      "metadata": {
        "id": "Anaop6FteoU9"
      },
      "source": [
        "## House Similarity\n",
        "\n",
        "https://github.com/benfred/implicit/blob/19322232149224c43f239c7996738bab86c0566a/implicit/recommender_base.pyx"
      ]
    },
    {
      "cell_type": "code",
      "metadata": {
        "id": "J7r0K3g-a4gK"
      },
      "source": [
        "# Function to return houses deemed \"similar\" by implicit CF\n",
        "def similar_house(house_id):\n",
        "\n",
        "  similars = model.similar_items(house_id)\n",
        "\n",
        "  similar_df = pd.DataFrame(similars,columns=['house_id', 'score'])\n",
        "  similar_df['rexUrl'] = similar_df['house_id'].map(url_id)\n",
        "  similar_df.drop('house_id',axis=1,inplace=True)\n",
        "\n",
        "  return similar_df"
      ],
      "execution_count": null,
      "outputs": []
    },
    {
      "cell_type": "code",
      "metadata": {
        "id": "UkFjh7kbdEHR",
        "outputId": "c6b53cf1-c73f-448a-9305-e2cc9892fd7c",
        "colab": {
          "base_uri": "https://localhost:8080/",
          "height": 335
        }
      },
      "source": [
        "similar_house(104)"
      ],
      "execution_count": null,
      "outputs": [
        {
          "output_type": "execute_result",
          "data": {
            "text/html": [
              "<div>\n",
              "<style scoped>\n",
              "    .dataframe tbody tr th:only-of-type {\n",
              "        vertical-align: middle;\n",
              "    }\n",
              "\n",
              "    .dataframe tbody tr th {\n",
              "        vertical-align: top;\n",
              "    }\n",
              "\n",
              "    .dataframe thead th {\n",
              "        text-align: right;\n",
              "    }\n",
              "</style>\n",
              "<table border=\"1\" class=\"dataframe\">\n",
              "  <thead>\n",
              "    <tr style=\"text-align: right;\">\n",
              "      <th></th>\n",
              "      <th>score</th>\n",
              "      <th>rexUrl</th>\n",
              "    </tr>\n",
              "  </thead>\n",
              "  <tbody>\n",
              "    <tr>\n",
              "      <th>0</th>\n",
              "      <td>1.000000</td>\n",
              "      <td>911-kennedy-blvd-913</td>\n",
              "    </tr>\n",
              "    <tr>\n",
              "      <th>1</th>\n",
              "      <td>0.184822</td>\n",
              "      <td>917-kennedy-blvd</td>\n",
              "    </tr>\n",
              "    <tr>\n",
              "      <th>2</th>\n",
              "      <td>0.168811</td>\n",
              "      <td>520-avenue-e</td>\n",
              "    </tr>\n",
              "    <tr>\n",
              "      <th>3</th>\n",
              "      <td>0.167197</td>\n",
              "      <td>762-howard-ct-e</td>\n",
              "    </tr>\n",
              "    <tr>\n",
              "      <th>4</th>\n",
              "      <td>0.165468</td>\n",
              "      <td>22b-james-buchanan-dr</td>\n",
              "    </tr>\n",
              "    <tr>\n",
              "      <th>5</th>\n",
              "      <td>0.154268</td>\n",
              "      <td>232-terrace-avenue</td>\n",
              "    </tr>\n",
              "    <tr>\n",
              "      <th>6</th>\n",
              "      <td>0.148936</td>\n",
              "      <td>265-custer-ave-apt-116</td>\n",
              "    </tr>\n",
              "    <tr>\n",
              "      <th>7</th>\n",
              "      <td>0.146364</td>\n",
              "      <td>2104-vroom-dr</td>\n",
              "    </tr>\n",
              "    <tr>\n",
              "      <th>8</th>\n",
              "      <td>0.141838</td>\n",
              "      <td>555-colonial-blvd</td>\n",
              "    </tr>\n",
              "    <tr>\n",
              "      <th>9</th>\n",
              "      <td>0.141616</td>\n",
              "      <td>759-avenue-a-apt-16</td>\n",
              "    </tr>\n",
              "  </tbody>\n",
              "</table>\n",
              "</div>"
            ],
            "text/plain": [
              "      score                  rexUrl\n",
              "0  1.000000    911-kennedy-blvd-913\n",
              "1  0.184822        917-kennedy-blvd\n",
              "2  0.168811            520-avenue-e\n",
              "3  0.167197         762-howard-ct-e\n",
              "4  0.165468   22b-james-buchanan-dr\n",
              "5  0.154268      232-terrace-avenue\n",
              "6  0.148936  265-custer-ave-apt-116\n",
              "7  0.146364           2104-vroom-dr\n",
              "8  0.141838       555-colonial-blvd\n",
              "9  0.141616     759-avenue-a-apt-16"
            ]
          },
          "metadata": {
            "tags": []
          },
          "execution_count": 230
        }
      ]
    },
    {
      "cell_type": "markdown",
      "metadata": {
        "id": "r7q1NDAKeqUH"
      },
      "source": [
        "## Explanations for why the item is liked by the user\n",
        "\n",
        "https://github.com/benfred/implicit/blob/19322232149224c43f239c7996738bab86c0566a/implicit/cpu/als.py"
      ]
    },
    {
      "cell_type": "code",
      "metadata": {
        "id": "9hvAW_FSdTYF"
      },
      "source": [
        "# Function to return some explainability of users that contributed to a scoring between a user and an item\n",
        "# \"Provides explanations for why the item is liked by the user.\"\n",
        "def explainrec(user_id,itemid):\n",
        "\n",
        "  thisuser = df_grp[df_grp['user_id']==user_id]\n",
        "  user_matrix = sparse.csr_matrix((thisuser.event_stamp, (thisuser.user_id, thisuser.house_id)))\n",
        "\n",
        "  return model.explain(user_id,user_matrix,itemid)"
      ],
      "execution_count": null,
      "outputs": []
    },
    {
      "cell_type": "code",
      "metadata": {
        "id": "icbGNXkudtK5",
        "outputId": "31462f91-80ec-4563-fd40-a99977470050",
        "colab": {
          "base_uri": "https://localhost:8080/",
          "height": 82
        }
      },
      "source": [
        "total_score, top_contrib, user_weights = explainrec(user_id = 1, item_id = 4)\n",
        "top_contrib"
      ],
      "execution_count": null,
      "outputs": [
        {
          "output_type": "execute_result",
          "data": {
            "text/plain": [
              "[(4, 0.4867304402978907),\n",
              " (44, 0.2158971615958246),\n",
              " (63, 0.132639312946422),\n",
              " (104, -0.3194425779174637)]"
            ]
          },
          "metadata": {
            "tags": []
          },
          "execution_count": 90
        }
      ]
    },
    {
      "cell_type": "code",
      "metadata": {
        "id": "8_bIFw-V1Kbc"
      },
      "source": [
        ""
      ],
      "execution_count": null,
      "outputs": []
    }
  ]
}