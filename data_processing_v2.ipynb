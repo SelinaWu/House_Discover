{
 "cells": [
  {
   "cell_type": "code",
   "execution_count": 1,
   "metadata": {},
   "outputs": [],
   "source": [
    "import numpy as np\n",
    "import pandas as pd\n",
    "import matplotlib.pyplot as plt\n",
    "import seaborn as sns\n",
    "pd.set_option('display.max_columns', None)\n",
    "pd.set_option('display.max_rows', None)"
   ]
  },
  {
   "cell_type": "markdown",
   "metadata": {},
   "source": [
    "Using second version of rejoined data. Matched on address."
   ]
  },
  {
   "cell_type": "code",
   "execution_count": 2,
   "metadata": {},
   "outputs": [],
   "source": [
    "df_orig = pd.read_csv('v2_cleaned_master_table_25025.csv')\n",
    "df = df_orig.copy()"
   ]
  },
  {
   "cell_type": "markdown",
   "metadata": {},
   "source": [
    "### First Get initial view + Shape"
   ]
  },
  {
   "cell_type": "code",
   "execution_count": 3,
   "metadata": {},
   "outputs": [
    {
     "data": {
      "text/plain": [
       "(8378, 62)"
      ]
     },
     "execution_count": 3,
     "metadata": {},
     "output_type": "execute_result"
    }
   ],
   "source": [
    "df_orig.head()\n",
    "df_orig.shape"
   ]
  },
  {
   "cell_type": "markdown",
   "metadata": {},
   "source": [
    "### Property Class ID"
   ]
  },
  {
   "cell_type": "code",
   "execution_count": 4,
   "metadata": {},
   "outputs": [],
   "source": [
    "classid = df['propertyclassid'].value_counts()/len(df)"
   ]
  },
  {
   "cell_type": "code",
   "execution_count": 5,
   "metadata": {},
   "outputs": [
    {
     "data": {
      "text/plain": [
       "R    0.980186\n",
       "V    0.011697\n",
       "E    0.005849\n",
       "C    0.001552\n",
       "O    0.000119\n",
       "Name: propertyclassid, dtype: float64"
      ]
     },
     "execution_count": 5,
     "metadata": {},
     "output_type": "execute_result"
    }
   ],
   "source": [
    "classid"
   ]
  },
  {
   "cell_type": "code",
   "execution_count": 6,
   "metadata": {},
   "outputs": [],
   "source": [
    "# Filter to only Residential\n",
    "df = df[df['propertyclassid']=='R']"
   ]
  },
  {
   "cell_type": "code",
   "execution_count": 7,
   "metadata": {},
   "outputs": [
    {
     "data": {
      "text/plain": [
       "(8212, 62)"
      ]
     },
     "execution_count": 7,
     "metadata": {},
     "output_type": "execute_result"
    }
   ],
   "source": [
    "df.shape"
   ]
  },
  {
   "cell_type": "markdown",
   "metadata": {},
   "source": [
    "### Removing listings that have more than 1 unit in them"
   ]
  },
  {
   "cell_type": "code",
   "execution_count": 8,
   "metadata": {},
   "outputs": [
    {
     "data": {
      "image/png": "[encoded data removed]",
      "text/plain": [
       "<Figure size 720x576 with 1 Axes>"
      ]
     },
     "metadata": {
      "needs_background": "light"
     },
     "output_type": "display_data"
    }
   ],
   "source": [
    "bins = list(range(21))\n",
    "\n",
    "xlabels = list(map(str, bins[0:]))\n",
    "xlabels[-1] += '+'\n",
    "    \n",
    "plt.figure(figsize=(10,8))\n",
    "sns.distplot(np.clip(df['sumresidentialunits'], bins[0], bins[-1]), bins=bins, kde=False)\n",
    "plt.title('Residential Units Per Listing')\n",
    "plt.xlabel('Number of Residential Units')\n",
    "plt.ylabel('Count')\n",
    "plt.xticks(bins,xlabels)\n",
    "plt.show()"
   ]
  },
  {
   "cell_type": "code",
   "execution_count": 9,
   "metadata": {},
   "outputs": [
    {
     "data": {
      "text/plain": [
       "(1937, 62)"
      ]
     },
     "execution_count": 9,
     "metadata": {},
     "output_type": "execute_result"
    }
   ],
   "source": [
    "df = df[df['sumresidentialunits']==1]\n",
    "df.shape"
   ]
  },
  {
   "cell_type": "markdown",
   "metadata": {},
   "source": [
    "### Checking duplicate rows"
   ]
  },
  {
   "cell_type": "code",
   "execution_count": 10,
   "metadata": {},
   "outputs": [
    {
     "data": {
      "text/html": [
       "<div>\n",
       "<style scoped>\n",
       "    .dataframe tbody tr th:only-of-type {\n",
       "        vertical-align: middle;\n",
       "    }\n",
       "\n",
       "    .dataframe tbody tr th {\n",
       "        vertical-align: top;\n",
       "    }\n",
       "\n",
       "    .dataframe thead th {\n",
       "        text-align: right;\n",
       "    }\n",
       "</style>\n",
       "<table border=\"1\" class=\"dataframe\">\n",
       "  <thead>\n",
       "    <tr style=\"text-align: right;\">\n",
       "      <th></th>\n",
       "      <th>cc_list_id</th>\n",
       "      <th>current_list_price</th>\n",
       "      <th>current_status</th>\n",
       "      <th>days_on_market</th>\n",
       "      <th>cc_property_id</th>\n",
       "      <th>city</th>\n",
       "      <th>zipcode</th>\n",
       "      <th>fips</th>\n",
       "      <th>latitude</th>\n",
       "      <th>longitude</th>\n",
       "      <th>sqft</th>\n",
       "      <th>state</th>\n",
       "      <th>year_built</th>\n",
       "      <th>bedrooms_x</th>\n",
       "      <th>full_baths</th>\n",
       "      <th>match_street_address</th>\n",
       "      <th>has_central_air</th>\n",
       "      <th>has_jacuzzi</th>\n",
       "      <th>has_pool</th>\n",
       "      <th>has_solar</th>\n",
       "      <th>has_garage</th>\n",
       "      <th>is_MULTI_FAMILY</th>\n",
       "      <th>is_CONDO</th>\n",
       "      <th>is_SINGLE</th>\n",
       "      <th>formattedapn</th>\n",
       "      <th>situsstdfullstreetaddress</th>\n",
       "      <th>situsstdhousenbr</th>\n",
       "      <th>mailingstdfullstreetaddress</th>\n",
       "      <th>situsstdcity</th>\n",
       "      <th>situsstdzip5</th>\n",
       "      <th>situsstdzip4</th>\n",
       "      <th>situslatitude</th>\n",
       "      <th>situslongitude</th>\n",
       "      <th>propertyclassid</th>\n",
       "      <th>schooldistrictname</th>\n",
       "      <th>lotsizesqft</th>\n",
       "      <th>buildingarea</th>\n",
       "      <th>sumbuildingsqft</th>\n",
       "      <th>sumlivingareasqft</th>\n",
       "      <th>sumgrossareasqft</th>\n",
       "      <th>yearbuilt</th>\n",
       "      <th>effectiveyearbuilt</th>\n",
       "      <th>bedrooms_y</th>\n",
       "      <th>totalrooms</th>\n",
       "      <th>bathtotalcalc</th>\n",
       "      <th>bathfull</th>\n",
       "      <th>heatcode</th>\n",
       "      <th>garageparkingnbr</th>\n",
       "      <th>storiesnbrcode</th>\n",
       "      <th>stylecode</th>\n",
       "      <th>sumresidentialunits</th>\n",
       "      <th>municipality</th>\n",
       "      <th>assdtotalvalue</th>\n",
       "      <th>assdlandvalue</th>\n",
       "      <th>assdimprovementvalue</th>\n",
       "      <th>taxamount</th>\n",
       "      <th>is_Central</th>\n",
       "      <th>is_Wall</th>\n",
       "      <th>is_Window/Unit</th>\n",
       "      <th>is_Other</th>\n",
       "      <th>is_Special</th>\n",
       "    </tr>\n",
       "    <tr>\n",
       "      <th>address</th>\n",
       "      <th></th>\n",
       "      <th></th>\n",
       "      <th></th>\n",
       "      <th></th>\n",
       "      <th></th>\n",
       "      <th></th>\n",
       "      <th></th>\n",
       "      <th></th>\n",
       "      <th></th>\n",
       "      <th></th>\n",
       "      <th></th>\n",
       "      <th></th>\n",
       "      <th></th>\n",
       "      <th></th>\n",
       "      <th></th>\n",
       "      <th></th>\n",
       "      <th></th>\n",
       "      <th></th>\n",
       "      <th></th>\n",
       "      <th></th>\n",
       "      <th></th>\n",
       "      <th></th>\n",
       "      <th></th>\n",
       "      <th></th>\n",
       "      <th></th>\n",
       "      <th></th>\n",
       "      <th></th>\n",
       "      <th></th>\n",
       "      <th></th>\n",
       "      <th></th>\n",
       "      <th></th>\n",
       "      <th></th>\n",
       "      <th></th>\n",
       "      <th></th>\n",
       "      <th></th>\n",
       "      <th></th>\n",
       "      <th></th>\n",
       "      <th></th>\n",
       "      <th></th>\n",
       "      <th></th>\n",
       "      <th></th>\n",
       "      <th></th>\n",
       "      <th></th>\n",
       "      <th></th>\n",
       "      <th></th>\n",
       "      <th></th>\n",
       "      <th></th>\n",
       "      <th></th>\n",
       "      <th></th>\n",
       "      <th></th>\n",
       "      <th></th>\n",
       "      <th></th>\n",
       "      <th></th>\n",
       "      <th></th>\n",
       "      <th></th>\n",
       "      <th></th>\n",
       "      <th></th>\n",
       "      <th></th>\n",
       "      <th></th>\n",
       "      <th></th>\n",
       "      <th></th>\n",
       "    </tr>\n",
       "  </thead>\n",
       "  <tbody>\n",
       "    <tr>\n",
       "      <th>425 REVERE BEACH PKWY</th>\n",
       "      <td>4</td>\n",
       "      <td>4</td>\n",
       "      <td>4</td>\n",
       "      <td>4</td>\n",
       "      <td>4</td>\n",
       "      <td>4</td>\n",
       "      <td>4</td>\n",
       "      <td>4</td>\n",
       "      <td>4</td>\n",
       "      <td>4</td>\n",
       "      <td>4</td>\n",
       "      <td>4</td>\n",
       "      <td>4</td>\n",
       "      <td>4</td>\n",
       "      <td>4</td>\n",
       "      <td>4</td>\n",
       "      <td>4</td>\n",
       "      <td>4</td>\n",
       "      <td>4</td>\n",
       "      <td>4</td>\n",
       "      <td>4</td>\n",
       "      <td>4</td>\n",
       "      <td>4</td>\n",
       "      <td>4</td>\n",
       "      <td>4</td>\n",
       "      <td>4</td>\n",
       "      <td>4</td>\n",
       "      <td>4</td>\n",
       "      <td>4</td>\n",
       "      <td>4</td>\n",
       "      <td>4</td>\n",
       "      <td>4</td>\n",
       "      <td>4</td>\n",
       "      <td>4</td>\n",
       "      <td>4</td>\n",
       "      <td>4</td>\n",
       "      <td>4</td>\n",
       "      <td>4</td>\n",
       "      <td>4</td>\n",
       "      <td>4</td>\n",
       "      <td>4</td>\n",
       "      <td>4</td>\n",
       "      <td>4</td>\n",
       "      <td>4</td>\n",
       "      <td>4</td>\n",
       "      <td>4</td>\n",
       "      <td>4</td>\n",
       "      <td>4</td>\n",
       "      <td>4</td>\n",
       "      <td>4</td>\n",
       "      <td>4</td>\n",
       "      <td>4</td>\n",
       "      <td>4</td>\n",
       "      <td>4</td>\n",
       "      <td>4</td>\n",
       "      <td>4</td>\n",
       "      <td>4</td>\n",
       "      <td>4</td>\n",
       "      <td>4</td>\n",
       "      <td>4</td>\n",
       "      <td>4</td>\n",
       "    </tr>\n",
       "    <tr>\n",
       "      <th>73 NELSON ST</th>\n",
       "      <td>3</td>\n",
       "      <td>3</td>\n",
       "      <td>3</td>\n",
       "      <td>3</td>\n",
       "      <td>3</td>\n",
       "      <td>3</td>\n",
       "      <td>3</td>\n",
       "      <td>3</td>\n",
       "      <td>3</td>\n",
       "      <td>3</td>\n",
       "      <td>3</td>\n",
       "      <td>3</td>\n",
       "      <td>3</td>\n",
       "      <td>3</td>\n",
       "      <td>3</td>\n",
       "      <td>3</td>\n",
       "      <td>3</td>\n",
       "      <td>3</td>\n",
       "      <td>3</td>\n",
       "      <td>3</td>\n",
       "      <td>3</td>\n",
       "      <td>3</td>\n",
       "      <td>3</td>\n",
       "      <td>3</td>\n",
       "      <td>3</td>\n",
       "      <td>3</td>\n",
       "      <td>3</td>\n",
       "      <td>3</td>\n",
       "      <td>3</td>\n",
       "      <td>3</td>\n",
       "      <td>3</td>\n",
       "      <td>3</td>\n",
       "      <td>3</td>\n",
       "      <td>3</td>\n",
       "      <td>3</td>\n",
       "      <td>3</td>\n",
       "      <td>3</td>\n",
       "      <td>3</td>\n",
       "      <td>3</td>\n",
       "      <td>3</td>\n",
       "      <td>3</td>\n",
       "      <td>3</td>\n",
       "      <td>3</td>\n",
       "      <td>3</td>\n",
       "      <td>3</td>\n",
       "      <td>3</td>\n",
       "      <td>3</td>\n",
       "      <td>3</td>\n",
       "      <td>3</td>\n",
       "      <td>3</td>\n",
       "      <td>3</td>\n",
       "      <td>3</td>\n",
       "      <td>3</td>\n",
       "      <td>3</td>\n",
       "      <td>3</td>\n",
       "      <td>3</td>\n",
       "      <td>3</td>\n",
       "      <td>3</td>\n",
       "      <td>3</td>\n",
       "      <td>3</td>\n",
       "      <td>3</td>\n",
       "    </tr>\n",
       "    <tr>\n",
       "      <th>115 OAK ISLAND ST</th>\n",
       "      <td>3</td>\n",
       "      <td>3</td>\n",
       "      <td>3</td>\n",
       "      <td>3</td>\n",
       "      <td>3</td>\n",
       "      <td>3</td>\n",
       "      <td>3</td>\n",
       "      <td>3</td>\n",
       "      <td>3</td>\n",
       "      <td>3</td>\n",
       "      <td>3</td>\n",
       "      <td>3</td>\n",
       "      <td>3</td>\n",
       "      <td>3</td>\n",
       "      <td>3</td>\n",
       "      <td>3</td>\n",
       "      <td>3</td>\n",
       "      <td>3</td>\n",
       "      <td>3</td>\n",
       "      <td>3</td>\n",
       "      <td>3</td>\n",
       "      <td>3</td>\n",
       "      <td>3</td>\n",
       "      <td>3</td>\n",
       "      <td>3</td>\n",
       "      <td>3</td>\n",
       "      <td>3</td>\n",
       "      <td>3</td>\n",
       "      <td>3</td>\n",
       "      <td>3</td>\n",
       "      <td>3</td>\n",
       "      <td>3</td>\n",
       "      <td>3</td>\n",
       "      <td>3</td>\n",
       "      <td>3</td>\n",
       "      <td>3</td>\n",
       "      <td>3</td>\n",
       "      <td>3</td>\n",
       "      <td>3</td>\n",
       "      <td>3</td>\n",
       "      <td>3</td>\n",
       "      <td>3</td>\n",
       "      <td>3</td>\n",
       "      <td>3</td>\n",
       "      <td>3</td>\n",
       "      <td>3</td>\n",
       "      <td>3</td>\n",
       "      <td>3</td>\n",
       "      <td>3</td>\n",
       "      <td>3</td>\n",
       "      <td>3</td>\n",
       "      <td>3</td>\n",
       "      <td>3</td>\n",
       "      <td>3</td>\n",
       "      <td>3</td>\n",
       "      <td>3</td>\n",
       "      <td>3</td>\n",
       "      <td>3</td>\n",
       "      <td>3</td>\n",
       "      <td>3</td>\n",
       "      <td>3</td>\n",
       "    </tr>\n",
       "    <tr>\n",
       "      <th>31-33 TRITON AVE</th>\n",
       "      <td>3</td>\n",
       "      <td>3</td>\n",
       "      <td>3</td>\n",
       "      <td>2</td>\n",
       "      <td>3</td>\n",
       "      <td>3</td>\n",
       "      <td>3</td>\n",
       "      <td>3</td>\n",
       "      <td>3</td>\n",
       "      <td>3</td>\n",
       "      <td>2</td>\n",
       "      <td>3</td>\n",
       "      <td>2</td>\n",
       "      <td>3</td>\n",
       "      <td>3</td>\n",
       "      <td>3</td>\n",
       "      <td>3</td>\n",
       "      <td>3</td>\n",
       "      <td>3</td>\n",
       "      <td>3</td>\n",
       "      <td>3</td>\n",
       "      <td>3</td>\n",
       "      <td>3</td>\n",
       "      <td>3</td>\n",
       "      <td>3</td>\n",
       "      <td>3</td>\n",
       "      <td>3</td>\n",
       "      <td>3</td>\n",
       "      <td>3</td>\n",
       "      <td>3</td>\n",
       "      <td>0</td>\n",
       "      <td>3</td>\n",
       "      <td>3</td>\n",
       "      <td>3</td>\n",
       "      <td>3</td>\n",
       "      <td>3</td>\n",
       "      <td>3</td>\n",
       "      <td>3</td>\n",
       "      <td>3</td>\n",
       "      <td>3</td>\n",
       "      <td>3</td>\n",
       "      <td>3</td>\n",
       "      <td>3</td>\n",
       "      <td>3</td>\n",
       "      <td>3</td>\n",
       "      <td>3</td>\n",
       "      <td>3</td>\n",
       "      <td>3</td>\n",
       "      <td>3</td>\n",
       "      <td>3</td>\n",
       "      <td>3</td>\n",
       "      <td>3</td>\n",
       "      <td>3</td>\n",
       "      <td>3</td>\n",
       "      <td>3</td>\n",
       "      <td>3</td>\n",
       "      <td>3</td>\n",
       "      <td>3</td>\n",
       "      <td>3</td>\n",
       "      <td>3</td>\n",
       "      <td>3</td>\n",
       "    </tr>\n",
       "    <tr>\n",
       "      <th>169 COREY ST</th>\n",
       "      <td>3</td>\n",
       "      <td>3</td>\n",
       "      <td>3</td>\n",
       "      <td>3</td>\n",
       "      <td>3</td>\n",
       "      <td>3</td>\n",
       "      <td>3</td>\n",
       "      <td>3</td>\n",
       "      <td>3</td>\n",
       "      <td>3</td>\n",
       "      <td>3</td>\n",
       "      <td>3</td>\n",
       "      <td>3</td>\n",
       "      <td>3</td>\n",
       "      <td>3</td>\n",
       "      <td>3</td>\n",
       "      <td>3</td>\n",
       "      <td>3</td>\n",
       "      <td>3</td>\n",
       "      <td>3</td>\n",
       "      <td>3</td>\n",
       "      <td>3</td>\n",
       "      <td>3</td>\n",
       "      <td>3</td>\n",
       "      <td>3</td>\n",
       "      <td>3</td>\n",
       "      <td>3</td>\n",
       "      <td>3</td>\n",
       "      <td>3</td>\n",
       "      <td>3</td>\n",
       "      <td>3</td>\n",
       "      <td>3</td>\n",
       "      <td>3</td>\n",
       "      <td>3</td>\n",
       "      <td>3</td>\n",
       "      <td>3</td>\n",
       "      <td>3</td>\n",
       "      <td>3</td>\n",
       "      <td>3</td>\n",
       "      <td>3</td>\n",
       "      <td>3</td>\n",
       "      <td>3</td>\n",
       "      <td>3</td>\n",
       "      <td>3</td>\n",
       "      <td>3</td>\n",
       "      <td>3</td>\n",
       "      <td>3</td>\n",
       "      <td>3</td>\n",
       "      <td>3</td>\n",
       "      <td>3</td>\n",
       "      <td>3</td>\n",
       "      <td>3</td>\n",
       "      <td>3</td>\n",
       "      <td>3</td>\n",
       "      <td>3</td>\n",
       "      <td>3</td>\n",
       "      <td>3</td>\n",
       "      <td>3</td>\n",
       "      <td>3</td>\n",
       "      <td>3</td>\n",
       "      <td>3</td>\n",
       "    </tr>\n",
       "  </tbody>\n",
       "</table>\n",
       "</div>"
      ],
      "text/plain": [
       "                       cc_list_id  current_list_price  current_status  \\\n",
       "address                                                                 \n",
       "425 REVERE BEACH PKWY           4                   4               4   \n",
       "73 NELSON ST                    3                   3               3   \n",
       "115 OAK ISLAND ST               3                   3               3   \n",
       "31-33 TRITON AVE                3                   3               3   \n",
       "169 COREY ST                    3                   3               3   \n",
       "\n",
       "                       days_on_market  cc_property_id  city  zipcode  fips  \\\n",
       "address                                                                      \n",
       "425 REVERE BEACH PKWY               4               4     4        4     4   \n",
       "73 NELSON ST                        3               3     3        3     3   \n",
       "115 OAK ISLAND ST                   3               3     3        3     3   \n",
       "31-33 TRITON AVE                    2               3     3        3     3   \n",
       "169 COREY ST                        3               3     3        3     3   \n",
       "\n",
       "                       latitude  longitude  sqft  state  year_built  \\\n",
       "address                                                               \n",
       "425 REVERE BEACH PKWY         4          4     4      4           4   \n",
       "73 NELSON ST                  3          3     3      3           3   \n",
       "115 OAK ISLAND ST             3          3     3      3           3   \n",
       "31-33 TRITON AVE              3          3     2      3           2   \n",
       "169 COREY ST                  3          3     3      3           3   \n",
       "\n",
       "                       bedrooms_x  full_baths  match_street_address  \\\n",
       "address                                                               \n",
       "425 REVERE BEACH PKWY           4           4                     4   \n",
       "73 NELSON ST                    3           3                     3   \n",
       "115 OAK ISLAND ST               3           3                     3   \n",
       "31-33 TRITON AVE                3           3                     3   \n",
       "169 COREY ST                    3           3                     3   \n",
       "\n",
       "                       has_central_air  has_jacuzzi  has_pool  has_solar  \\\n",
       "address                                                                    \n",
       "425 REVERE BEACH PKWY                4            4         4          4   \n",
       "73 NELSON ST                         3            3         3          3   \n",
       "115 OAK ISLAND ST                    3            3         3          3   \n",
       "31-33 TRITON AVE                     3            3         3          3   \n",
       "169 COREY ST                         3            3         3          3   \n",
       "\n",
       "                       has_garage  is_MULTI_FAMILY  is_CONDO  is_SINGLE  \\\n",
       "address                                                                   \n",
       "425 REVERE BEACH PKWY           4                4         4          4   \n",
       "73 NELSON ST                    3                3         3          3   \n",
       "115 OAK ISLAND ST               3                3         3          3   \n",
       "31-33 TRITON AVE                3                3         3          3   \n",
       "169 COREY ST                    3                3         3          3   \n",
       "\n",
       "                       formattedapn  situsstdfullstreetaddress  \\\n",
       "address                                                          \n",
       "425 REVERE BEACH PKWY             4                          4   \n",
       "73 NELSON ST                      3                          3   \n",
       "115 OAK ISLAND ST                 3                          3   \n",
       "31-33 TRITON AVE                  3                          3   \n",
       "169 COREY ST                      3                          3   \n",
       "\n",
       "                       situsstdhousenbr  mailingstdfullstreetaddress  \\\n",
       "address                                                                \n",
       "425 REVERE BEACH PKWY                 4                            4   \n",
       "73 NELSON ST                          3                            3   \n",
       "115 OAK ISLAND ST                     3                            3   \n",
       "31-33 TRITON AVE                      3                            3   \n",
       "169 COREY ST                          3                            3   \n",
       "\n",
       "                       situsstdcity  situsstdzip5  situsstdzip4  \\\n",
       "address                                                           \n",
       "425 REVERE BEACH PKWY             4             4             4   \n",
       "73 NELSON ST                      3             3             3   \n",
       "115 OAK ISLAND ST                 3             3             3   \n",
       "31-33 TRITON AVE                  3             3             0   \n",
       "169 COREY ST                      3             3             3   \n",
       "\n",
       "                       situslatitude  situslongitude  propertyclassid  \\\n",
       "address                                                                 \n",
       "425 REVERE BEACH PKWY              4               4                4   \n",
       "73 NELSON ST                       3               3                3   \n",
       "115 OAK ISLAND ST                  3               3                3   \n",
       "31-33 TRITON AVE                   3               3                3   \n",
       "169 COREY ST                       3               3                3   \n",
       "\n",
       "                       schooldistrictname  lotsizesqft  buildingarea  \\\n",
       "address                                                                \n",
       "425 REVERE BEACH PKWY                   4            4             4   \n",
       "73 NELSON ST                            3            3             3   \n",
       "115 OAK ISLAND ST                       3            3             3   \n",
       "31-33 TRITON AVE                        3            3             3   \n",
       "169 COREY ST                            3            3             3   \n",
       "\n",
       "                       sumbuildingsqft  sumlivingareasqft  sumgrossareasqft  \\\n",
       "address                                                                       \n",
       "425 REVERE BEACH PKWY                4                  4                 4   \n",
       "73 NELSON ST                         3                  3                 3   \n",
       "115 OAK ISLAND ST                    3                  3                 3   \n",
       "31-33 TRITON AVE                     3                  3                 3   \n",
       "169 COREY ST                         3                  3                 3   \n",
       "\n",
       "                       yearbuilt  effectiveyearbuilt  bedrooms_y  totalrooms  \\\n",
       "address                                                                        \n",
       "425 REVERE BEACH PKWY          4                   4           4           4   \n",
       "73 NELSON ST                   3                   3           3           3   \n",
       "115 OAK ISLAND ST              3                   3           3           3   \n",
       "31-33 TRITON AVE               3                   3           3           3   \n",
       "169 COREY ST                   3                   3           3           3   \n",
       "\n",
       "                       bathtotalcalc  bathfull  heatcode  garageparkingnbr  \\\n",
       "address                                                                      \n",
       "425 REVERE BEACH PKWY              4         4         4                 4   \n",
       "73 NELSON ST                       3         3         3                 3   \n",
       "115 OAK ISLAND ST                  3         3         3                 3   \n",
       "31-33 TRITON AVE                   3         3         3                 3   \n",
       "169 COREY ST                       3         3         3                 3   \n",
       "\n",
       "                       storiesnbrcode  stylecode  sumresidentialunits  \\\n",
       "address                                                                 \n",
       "425 REVERE BEACH PKWY               4          4                    4   \n",
       "73 NELSON ST                        3          3                    3   \n",
       "115 OAK ISLAND ST                   3          3                    3   \n",
       "31-33 TRITON AVE                    3          3                    3   \n",
       "169 COREY ST                        3          3                    3   \n",
       "\n",
       "                       municipality  assdtotalvalue  assdlandvalue  \\\n",
       "address                                                              \n",
       "425 REVERE BEACH PKWY             4               4              4   \n",
       "73 NELSON ST                      3               3              3   \n",
       "115 OAK ISLAND ST                 3               3              3   \n",
       "31-33 TRITON AVE                  3               3              3   \n",
       "169 COREY ST                      3               3              3   \n",
       "\n",
       "                       assdimprovementvalue  taxamount  is_Central  is_Wall  \\\n",
       "address                                                                       \n",
       "425 REVERE BEACH PKWY                     4          4           4        4   \n",
       "73 NELSON ST                              3          3           3        3   \n",
       "115 OAK ISLAND ST                         3          3           3        3   \n",
       "31-33 TRITON AVE                          3          3           3        3   \n",
       "169 COREY ST                              3          3           3        3   \n",
       "\n",
       "                       is_Window/Unit  is_Other  is_Special  \n",
       "address                                                      \n",
       "425 REVERE BEACH PKWY               4         4           4  \n",
       "73 NELSON ST                        3         3           3  \n",
       "115 OAK ISLAND ST                   3         3           3  \n",
       "31-33 TRITON AVE                    3         3           3  \n",
       "169 COREY ST                        3         3           3  "
      ]
     },
     "execution_count": 10,
     "metadata": {},
     "output_type": "execute_result"
    }
   ],
   "source": [
    "duplicates = df.groupby('address').count()\n",
    "duplicates.sort_values(['cc_list_id'], ascending=False).head(5)"
   ]
  },
  {
   "cell_type": "code",
   "execution_count": 11,
   "metadata": {},
   "outputs": [
    {
     "data": {
      "text/plain": [
       "537"
      ]
     },
     "execution_count": 11,
     "metadata": {},
     "output_type": "execute_result"
    }
   ],
   "source": [
    "# How many duplicates are there?\n",
    "sum(duplicates['cc_list_id']>1)"
   ]
  },
  {
   "cell_type": "code",
   "execution_count": 12,
   "metadata": {},
   "outputs": [],
   "source": [
    "# Sort by address and then days on market - so that dropdup will only take first\n",
    "df.sort_values(by=['address', 'days_on_market'],ascending=True,inplace=True)"
   ]
  },
  {
   "cell_type": "code",
   "execution_count": 13,
   "metadata": {},
   "outputs": [],
   "source": [
    "# take one that has been on market for shortest time\n",
    "df.drop_duplicates(subset=['address'],inplace=True)"
   ]
  },
  {
   "cell_type": "code",
   "execution_count": 14,
   "metadata": {},
   "outputs": [
    {
     "data": {
      "text/plain": [
       "(1389, 62)"
      ]
     },
     "execution_count": 14,
     "metadata": {},
     "output_type": "execute_result"
    }
   ],
   "source": [
    "df.shape"
   ]
  },
  {
   "cell_type": "markdown",
   "metadata": {},
   "source": [
    "Filering out 0 bedrooms or 0 total rooms and bedrooms count"
   ]
  },
  {
   "cell_type": "code",
   "execution_count": 15,
   "metadata": {},
   "outputs": [],
   "source": [
    "df = df[df['totalrooms']>0]\n",
    "df = df[df['bedrooms_x']>0]"
   ]
  },
  {
   "cell_type": "code",
   "execution_count": 16,
   "metadata": {},
   "outputs": [
    {
     "data": {
      "text/plain": [
       "(1364, 62)"
      ]
     },
     "execution_count": 16,
     "metadata": {},
     "output_type": "execute_result"
    }
   ],
   "source": [
    "df.shape"
   ]
  },
  {
   "cell_type": "markdown",
   "metadata": {},
   "source": [
    "### Next, Checking NAs"
   ]
  },
  {
   "cell_type": "code",
   "execution_count": 17,
   "metadata": {},
   "outputs": [
    {
     "data": {
      "text/plain": [
       "cc_list_id                      0.000000\n",
       "current_list_price              6.598240\n",
       "current_status                  0.000000\n",
       "days_on_market                 36.070381\n",
       "cc_property_id                  0.000000\n",
       "address                         0.000000\n",
       "city                            0.000000\n",
       "zipcode                         0.000000\n",
       "fips                            0.000000\n",
       "latitude                        0.000000\n",
       "longitude                       0.000000\n",
       "sqft                           26.832845\n",
       "state                           0.000000\n",
       "year_built                     27.052786\n",
       "bedrooms_x                      0.000000\n",
       "full_baths                      0.000000\n",
       "match_street_address            0.000000\n",
       "has_central_air                 4.398827\n",
       "has_jacuzzi                     4.398827\n",
       "has_pool                        4.398827\n",
       "has_solar                       4.398827\n",
       "has_garage                      4.398827\n",
       "is_MULTI_FAMILY                 0.000000\n",
       "is_CONDO                        0.000000\n",
       "is_SINGLE                       0.000000\n",
       "formattedapn                    0.000000\n",
       "situsstdfullstreetaddress       0.000000\n",
       "situsstdhousenbr                0.000000\n",
       "mailingstdfullstreetaddress     0.000000\n",
       "situsstdcity                    0.000000\n",
       "situsstdzip5                    0.000000\n",
       "situsstdzip4                    0.439883\n",
       "situslatitude                   0.000000\n",
       "situslongitude                  0.000000\n",
       "propertyclassid                 0.000000\n",
       "schooldistrictname              0.000000\n",
       "lotsizesqft                     0.000000\n",
       "buildingarea                    0.000000\n",
       "sumbuildingsqft                 0.000000\n",
       "sumlivingareasqft               0.000000\n",
       "sumgrossareasqft                0.000000\n",
       "yearbuilt                       0.000000\n",
       "effectiveyearbuilt              0.000000\n",
       "bedrooms_y                      0.000000\n",
       "totalrooms                      0.000000\n",
       "bathtotalcalc                   0.000000\n",
       "bathfull                        0.000000\n",
       "heatcode                        0.073314\n",
       "garageparkingnbr                0.000000\n",
       "storiesnbrcode                  0.000000\n",
       "stylecode                       0.000000\n",
       "sumresidentialunits             0.000000\n",
       "municipality                    0.000000\n",
       "assdtotalvalue                  0.000000\n",
       "assdlandvalue                   0.000000\n",
       "assdimprovementvalue            0.000000\n",
       "taxamount                       0.000000\n",
       "is_Central                      0.000000\n",
       "is_Wall                         0.000000\n",
       "is_Window/Unit                  0.000000\n",
       "is_Other                        0.000000\n",
       "is_Special                      0.000000\n",
       "dtype: float64"
      ]
     },
     "execution_count": 17,
     "metadata": {},
     "output_type": "execute_result"
    }
   ],
   "source": [
    "(df.isna().sum()/len(df))*100"
   ]
  },
  {
   "cell_type": "markdown",
   "metadata": {},
   "source": [
    "This looks good! Most NAs have been dropped already in previous datacleaning.\n",
    "\n",
    "SQFT still has some, but this is an important variable to keep. There are many columns containing different forms of sqft. Will investigate if I can replace here.\n",
    "\n",
    "One of the year built columns has many more missing than others. Will remove one.\n",
    "\n",
    "Days on market is also missing frequently. This most likely can be dropped as it isnt super relevant for recommendations"
   ]
  },
  {
   "cell_type": "markdown",
   "metadata": {},
   "source": [
    "#### Year Built NAs"
   ]
  },
  {
   "cell_type": "code",
   "execution_count": 19,
   "metadata": {},
   "outputs": [
    {
     "data": {
      "text/html": [
       "<div>\n",
       "<style scoped>\n",
       "    .dataframe tbody tr th:only-of-type {\n",
       "        vertical-align: middle;\n",
       "    }\n",
       "\n",
       "    .dataframe tbody tr th {\n",
       "        vertical-align: top;\n",
       "    }\n",
       "\n",
       "    .dataframe thead th {\n",
       "        text-align: right;\n",
       "    }\n",
       "</style>\n",
       "<table border=\"1\" class=\"dataframe\">\n",
       "  <thead>\n",
       "    <tr style=\"text-align: right;\">\n",
       "      <th></th>\n",
       "      <th>yearbuilt</th>\n",
       "      <th>year_built</th>\n",
       "    </tr>\n",
       "  </thead>\n",
       "  <tbody>\n",
       "    <tr>\n",
       "      <th>982</th>\n",
       "      <td>1830.0</td>\n",
       "      <td>NaN</td>\n",
       "    </tr>\n",
       "    <tr>\n",
       "      <th>7592</th>\n",
       "      <td>1945.0</td>\n",
       "      <td>1945.0</td>\n",
       "    </tr>\n",
       "    <tr>\n",
       "      <th>5792</th>\n",
       "      <td>1961.0</td>\n",
       "      <td>NaN</td>\n",
       "    </tr>\n",
       "    <tr>\n",
       "      <th>3900</th>\n",
       "      <td>1950.0</td>\n",
       "      <td>1950.0</td>\n",
       "    </tr>\n",
       "    <tr>\n",
       "      <th>7988</th>\n",
       "      <td>1900.0</td>\n",
       "      <td>1900.0</td>\n",
       "    </tr>\n",
       "  </tbody>\n",
       "</table>\n",
       "</div>"
      ],
      "text/plain": [
       "      yearbuilt  year_built\n",
       "982      1830.0         NaN\n",
       "7592     1945.0      1945.0\n",
       "5792     1961.0         NaN\n",
       "3900     1950.0      1950.0\n",
       "7988     1900.0      1900.0"
      ]
     },
     "execution_count": 19,
     "metadata": {},
     "output_type": "execute_result"
    }
   ],
   "source": [
    "df[['yearbuilt','year_built']].head()"
   ]
  },
  {
   "cell_type": "code",
   "execution_count": 20,
   "metadata": {},
   "outputs": [],
   "source": [
    "df.drop('year_built',axis=1,inplace=True)"
   ]
  },
  {
   "cell_type": "markdown",
   "metadata": {},
   "source": [
    "#### Square Footage"
   ]
  },
  {
   "cell_type": "code",
   "execution_count": 21,
   "metadata": {},
   "outputs": [
    {
     "data": {
      "text/html": [
       "<div>\n",
       "<style scoped>\n",
       "    .dataframe tbody tr th:only-of-type {\n",
       "        vertical-align: middle;\n",
       "    }\n",
       "\n",
       "    .dataframe tbody tr th {\n",
       "        vertical-align: top;\n",
       "    }\n",
       "\n",
       "    .dataframe thead th {\n",
       "        text-align: right;\n",
       "    }\n",
       "</style>\n",
       "<table border=\"1\" class=\"dataframe\">\n",
       "  <thead>\n",
       "    <tr style=\"text-align: right;\">\n",
       "      <th></th>\n",
       "      <th>sqft</th>\n",
       "      <th>sumlivingareasqft</th>\n",
       "      <th>sumgrossareasqft</th>\n",
       "      <th>lotsizesqft</th>\n",
       "      <th>buildingarea</th>\n",
       "      <th>sumbuildingsqft</th>\n",
       "    </tr>\n",
       "  </thead>\n",
       "  <tbody>\n",
       "    <tr>\n",
       "      <th>982</th>\n",
       "      <td>NaN</td>\n",
       "      <td>1228.0</td>\n",
       "      <td>1440.0</td>\n",
       "      <td>659.0</td>\n",
       "      <td>1228.0</td>\n",
       "      <td>1228.0</td>\n",
       "    </tr>\n",
       "    <tr>\n",
       "      <th>7592</th>\n",
       "      <td>1650.0</td>\n",
       "      <td>1650.0</td>\n",
       "      <td>2784.0</td>\n",
       "      <td>5846.0</td>\n",
       "      <td>1650.0</td>\n",
       "      <td>1650.0</td>\n",
       "    </tr>\n",
       "    <tr>\n",
       "      <th>5792</th>\n",
       "      <td>NaN</td>\n",
       "      <td>1768.0</td>\n",
       "      <td>2773.0</td>\n",
       "      <td>5832.0</td>\n",
       "      <td>1768.0</td>\n",
       "      <td>1768.0</td>\n",
       "    </tr>\n",
       "    <tr>\n",
       "      <th>3900</th>\n",
       "      <td>1636.0</td>\n",
       "      <td>1636.0</td>\n",
       "      <td>2614.0</td>\n",
       "      <td>3820.0</td>\n",
       "      <td>1636.0</td>\n",
       "      <td>1636.0</td>\n",
       "    </tr>\n",
       "    <tr>\n",
       "      <th>7988</th>\n",
       "      <td>2044.0</td>\n",
       "      <td>2059.0</td>\n",
       "      <td>3536.0</td>\n",
       "      <td>2469.0</td>\n",
       "      <td>2059.0</td>\n",
       "      <td>2059.0</td>\n",
       "    </tr>\n",
       "    <tr>\n",
       "      <th>5689</th>\n",
       "      <td>NaN</td>\n",
       "      <td>1400.0</td>\n",
       "      <td>2220.0</td>\n",
       "      <td>0.0</td>\n",
       "      <td>1400.0</td>\n",
       "      <td>1400.0</td>\n",
       "    </tr>\n",
       "    <tr>\n",
       "      <th>2407</th>\n",
       "      <td>NaN</td>\n",
       "      <td>1094.0</td>\n",
       "      <td>1638.0</td>\n",
       "      <td>1200.0</td>\n",
       "      <td>1094.0</td>\n",
       "      <td>1094.0</td>\n",
       "    </tr>\n",
       "    <tr>\n",
       "      <th>1010</th>\n",
       "      <td>1255.0</td>\n",
       "      <td>1255.0</td>\n",
       "      <td>1416.0</td>\n",
       "      <td>792.0</td>\n",
       "      <td>1255.0</td>\n",
       "      <td>1255.0</td>\n",
       "    </tr>\n",
       "    <tr>\n",
       "      <th>4474</th>\n",
       "      <td>1434.0</td>\n",
       "      <td>1419.0</td>\n",
       "      <td>1824.0</td>\n",
       "      <td>876.0</td>\n",
       "      <td>1419.0</td>\n",
       "      <td>1419.0</td>\n",
       "    </tr>\n",
       "    <tr>\n",
       "      <th>3125</th>\n",
       "      <td>2320.0</td>\n",
       "      <td>3000.0</td>\n",
       "      <td>4122.0</td>\n",
       "      <td>2431.0</td>\n",
       "      <td>3000.0</td>\n",
       "      <td>3000.0</td>\n",
       "    </tr>\n",
       "  </tbody>\n",
       "</table>\n",
       "</div>"
      ],
      "text/plain": [
       "        sqft  sumlivingareasqft  sumgrossareasqft  lotsizesqft  buildingarea  \\\n",
       "982      NaN             1228.0            1440.0        659.0        1228.0   \n",
       "7592  1650.0             1650.0            2784.0       5846.0        1650.0   \n",
       "5792     NaN             1768.0            2773.0       5832.0        1768.0   \n",
       "3900  1636.0             1636.0            2614.0       3820.0        1636.0   \n",
       "7988  2044.0             2059.0            3536.0       2469.0        2059.0   \n",
       "5689     NaN             1400.0            2220.0          0.0        1400.0   \n",
       "2407     NaN             1094.0            1638.0       1200.0        1094.0   \n",
       "1010  1255.0             1255.0            1416.0        792.0        1255.0   \n",
       "4474  1434.0             1419.0            1824.0        876.0        1419.0   \n",
       "3125  2320.0             3000.0            4122.0       2431.0        3000.0   \n",
       "\n",
       "      sumbuildingsqft  \n",
       "982            1228.0  \n",
       "7592           1650.0  \n",
       "5792           1768.0  \n",
       "3900           1636.0  \n",
       "7988           2059.0  \n",
       "5689           1400.0  \n",
       "2407           1094.0  \n",
       "1010           1255.0  \n",
       "4474           1419.0  \n",
       "3125           3000.0  "
      ]
     },
     "execution_count": 21,
     "metadata": {},
     "output_type": "execute_result"
    }
   ],
   "source": [
    "df[['sqft','sumlivingareasqft','sumgrossareasqft','lotsizesqft','buildingarea','sumbuildingsqft']].head(10)"
   ]
  },
  {
   "cell_type": "code",
   "execution_count": 22,
   "metadata": {},
   "outputs": [
    {
     "data": {
      "text/plain": [
       "0"
      ]
     },
     "execution_count": 22,
     "metadata": {},
     "output_type": "execute_result"
    }
   ],
   "source": [
    "# replace missing values from sqft col with values from sumlivingareasqft\n",
    "df.sqft.fillna(df.sumlivingareasqft,inplace=True)\n",
    "sum(df.sqft.isna())"
   ]
  },
  {
   "cell_type": "code",
   "execution_count": 23,
   "metadata": {},
   "outputs": [],
   "source": [
    "# Keep gross area sqft (garage etc) and keep lotsize\n",
    "df.drop(['sumlivingareasqft','sumbuildingsqft','buildingarea'],axis=1,inplace=True)"
   ]
  },
  {
   "cell_type": "code",
   "execution_count": 24,
   "metadata": {},
   "outputs": [
    {
     "data": {
      "image/png": "[encoded data removed]",
      "text/plain": [
       "<Figure size 720x576 with 1 Axes>"
      ]
     },
     "metadata": {
      "needs_background": "light"
     },
     "output_type": "display_data"
    }
   ],
   "source": [
    "plt.figure(figsize=(10,8))\n",
    "sns.distplot(np.clip(df['sqft'], 0, 6000), kde=False)\n",
    "plt.title('Listings by Square Feet')\n",
    "plt.xlabel('Square Feet')\n",
    "plt.ylabel('Count')\n",
    "plt.show()"
   ]
  },
  {
   "cell_type": "code",
   "execution_count": 25,
   "metadata": {},
   "outputs": [
    {
     "data": {
      "image/png": "[encoded data removed]",
      "text/plain": [
       "<Figure size 720x576 with 1 Axes>"
      ]
     },
     "metadata": {
      "needs_background": "light"
     },
     "output_type": "display_data"
    }
   ],
   "source": [
    "plt.figure(figsize=(10,8))\n",
    "sns.scatterplot(df['totalrooms'],df['sqft'])\n",
    "plt.title('Room Count vs Total Sqft')\n",
    "plt.xlabel('Total Number of Rooms')\n",
    "plt.ylabel('Square Feet')\n",
    "plt.ylim([0,15000])\n",
    "plt.show()"
   ]
  },
  {
   "cell_type": "markdown",
   "metadata": {},
   "source": [
    "### Price per Sqft"
   ]
  },
  {
   "cell_type": "code",
   "execution_count": 45,
   "metadata": {},
   "outputs": [],
   "source": [
    "ppsf = df['current_list_price']/df['sqft']"
   ]
  },
  {
   "cell_type": "code",
   "execution_count": 46,
   "metadata": {},
   "outputs": [
    {
     "data": {
      "image/png": "[encoded data removed]",
      "text/plain": [
       "<Figure size 720x576 with 1 Axes>"
      ]
     },
     "metadata": {
      "needs_background": "light"
     },
     "output_type": "display_data"
    }
   ],
   "source": [
    "plt.figure(figsize=(10,8))\n",
    "# sns.distplot(ppsf,kde=False)\n",
    "sns.distplot(np.clip(ppsf, 0, 1000), kde=False)\n",
    "plt.title('Price Per Square Foot')\n",
    "plt.xlabel('Dollars per Square Foot')\n",
    "plt.ylabel('Count')\n",
    "plt.show()"
   ]
  },
  {
   "cell_type": "code",
   "execution_count": 47,
   "metadata": {},
   "outputs": [
    {
     "data": {
      "text/plain": [
       "(1364, 55)"
      ]
     },
     "execution_count": 47,
     "metadata": {},
     "output_type": "execute_result"
    }
   ],
   "source": [
    "df.shape"
   ]
  },
  {
   "cell_type": "markdown",
   "metadata": {},
   "source": [
    "### Bedrooms Columns"
   ]
  },
  {
   "cell_type": "code",
   "execution_count": 27,
   "metadata": {},
   "outputs": [
    {
     "data": {
      "text/html": [
       "<div>\n",
       "<style scoped>\n",
       "    .dataframe tbody tr th:only-of-type {\n",
       "        vertical-align: middle;\n",
       "    }\n",
       "\n",
       "    .dataframe tbody tr th {\n",
       "        vertical-align: top;\n",
       "    }\n",
       "\n",
       "    .dataframe thead th {\n",
       "        text-align: right;\n",
       "    }\n",
       "</style>\n",
       "<table border=\"1\" class=\"dataframe\">\n",
       "  <thead>\n",
       "    <tr style=\"text-align: right;\">\n",
       "      <th></th>\n",
       "      <th>bedrooms_x</th>\n",
       "      <th>bedrooms_y</th>\n",
       "    </tr>\n",
       "  </thead>\n",
       "  <tbody>\n",
       "    <tr>\n",
       "      <th>982</th>\n",
       "      <td>2.0</td>\n",
       "      <td>2.0</td>\n",
       "    </tr>\n",
       "    <tr>\n",
       "      <th>7592</th>\n",
       "      <td>3.0</td>\n",
       "      <td>3.0</td>\n",
       "    </tr>\n",
       "    <tr>\n",
       "      <th>5792</th>\n",
       "      <td>3.0</td>\n",
       "      <td>4.0</td>\n",
       "    </tr>\n",
       "    <tr>\n",
       "      <th>3900</th>\n",
       "      <td>4.0</td>\n",
       "      <td>4.0</td>\n",
       "    </tr>\n",
       "    <tr>\n",
       "      <th>7988</th>\n",
       "      <td>5.0</td>\n",
       "      <td>5.0</td>\n",
       "    </tr>\n",
       "  </tbody>\n",
       "</table>\n",
       "</div>"
      ],
      "text/plain": [
       "      bedrooms_x  bedrooms_y\n",
       "982          2.0         2.0\n",
       "7592         3.0         3.0\n",
       "5792         3.0         4.0\n",
       "3900         4.0         4.0\n",
       "7988         5.0         5.0"
      ]
     },
     "execution_count": 27,
     "metadata": {},
     "output_type": "execute_result"
    }
   ],
   "source": [
    "bedroom_cols = df[['bedrooms_x','bedrooms_y']]\n",
    "bedroom_cols.head()"
   ]
  },
  {
   "cell_type": "markdown",
   "metadata": {},
   "source": [
    "These look good so far - good matching"
   ]
  },
  {
   "cell_type": "code",
   "execution_count": 28,
   "metadata": {},
   "outputs": [],
   "source": [
    "# Drop one of the duplicates\n",
    "df.drop(['bedrooms_y'],axis=1,inplace=True)"
   ]
  },
  {
   "cell_type": "code",
   "execution_count": 29,
   "metadata": {},
   "outputs": [
    {
     "data": {
      "image/png": "[encoded data removed]",
      "text/plain": [
       "<Figure size 720x576 with 1 Axes>"
      ]
     },
     "metadata": {
      "needs_background": "light"
     },
     "output_type": "display_data"
    }
   ],
   "source": [
    "bins = list(range(1,10))\n",
    "\n",
    "xlabels = list(map(str, bins[0:]))\n",
    "xlabels[-1] += '+'\n",
    "    \n",
    "plt.figure(figsize=(10,8))\n",
    "sns.distplot(np.clip(bedroom_cols['bedrooms_x'], bins[0], bins[-1]), bins=bins, kde=False)\n",
    "plt.title('Count of Bedrooms')\n",
    "plt.xlabel('Number of Bedrooms')\n",
    "plt.ylabel('Count')\n",
    "plt.xticks(bins,xlabels)\n",
    "plt.show()"
   ]
  },
  {
   "cell_type": "markdown",
   "metadata": {},
   "source": [
    "### Bathroom Columns"
   ]
  },
  {
   "cell_type": "code",
   "execution_count": 30,
   "metadata": {},
   "outputs": [
    {
     "data": {
      "text/html": [
       "<div>\n",
       "<style scoped>\n",
       "    .dataframe tbody tr th:only-of-type {\n",
       "        vertical-align: middle;\n",
       "    }\n",
       "\n",
       "    .dataframe tbody tr th {\n",
       "        vertical-align: top;\n",
       "    }\n",
       "\n",
       "    .dataframe thead th {\n",
       "        text-align: right;\n",
       "    }\n",
       "</style>\n",
       "<table border=\"1\" class=\"dataframe\">\n",
       "  <thead>\n",
       "    <tr style=\"text-align: right;\">\n",
       "      <th></th>\n",
       "      <th>full_baths</th>\n",
       "      <th>bathfull</th>\n",
       "      <th>bathtotalcalc</th>\n",
       "    </tr>\n",
       "  </thead>\n",
       "  <tbody>\n",
       "    <tr>\n",
       "      <th>982</th>\n",
       "      <td>3.0</td>\n",
       "      <td>2.0</td>\n",
       "      <td>2.5</td>\n",
       "    </tr>\n",
       "    <tr>\n",
       "      <th>7592</th>\n",
       "      <td>2.0</td>\n",
       "      <td>1.0</td>\n",
       "      <td>1.5</td>\n",
       "    </tr>\n",
       "    <tr>\n",
       "      <th>5792</th>\n",
       "      <td>3.0</td>\n",
       "      <td>2.0</td>\n",
       "      <td>2.5</td>\n",
       "    </tr>\n",
       "    <tr>\n",
       "      <th>3900</th>\n",
       "      <td>1.0</td>\n",
       "      <td>1.0</td>\n",
       "      <td>1.0</td>\n",
       "    </tr>\n",
       "    <tr>\n",
       "      <th>7988</th>\n",
       "      <td>2.0</td>\n",
       "      <td>2.0</td>\n",
       "      <td>2.5</td>\n",
       "    </tr>\n",
       "    <tr>\n",
       "      <th>5689</th>\n",
       "      <td>1.0</td>\n",
       "      <td>1.0</td>\n",
       "      <td>1.5</td>\n",
       "    </tr>\n",
       "    <tr>\n",
       "      <th>2407</th>\n",
       "      <td>3.0</td>\n",
       "      <td>2.0</td>\n",
       "      <td>2.5</td>\n",
       "    </tr>\n",
       "    <tr>\n",
       "      <th>1010</th>\n",
       "      <td>2.0</td>\n",
       "      <td>1.0</td>\n",
       "      <td>1.5</td>\n",
       "    </tr>\n",
       "    <tr>\n",
       "      <th>4474</th>\n",
       "      <td>2.0</td>\n",
       "      <td>2.0</td>\n",
       "      <td>2.5</td>\n",
       "    </tr>\n",
       "    <tr>\n",
       "      <th>3125</th>\n",
       "      <td>2.0</td>\n",
       "      <td>2.0</td>\n",
       "      <td>2.5</td>\n",
       "    </tr>\n",
       "  </tbody>\n",
       "</table>\n",
       "</div>"
      ],
      "text/plain": [
       "      full_baths  bathfull  bathtotalcalc\n",
       "982          3.0       2.0            2.5\n",
       "7592         2.0       1.0            1.5\n",
       "5792         3.0       2.0            2.5\n",
       "3900         1.0       1.0            1.0\n",
       "7988         2.0       2.0            2.5\n",
       "5689         1.0       1.0            1.5\n",
       "2407         3.0       2.0            2.5\n",
       "1010         2.0       1.0            1.5\n",
       "4474         2.0       2.0            2.5\n",
       "3125         2.0       2.0            2.5"
      ]
     },
     "execution_count": 30,
     "metadata": {},
     "output_type": "execute_result"
    }
   ],
   "source": [
    "bathroom_cols = df[['full_baths','bathfull','bathtotalcalc']]\n",
    "bathroom_cols.head(10)"
   ]
  },
  {
   "cell_type": "markdown",
   "metadata": {},
   "source": [
    "Taking full_baths"
   ]
  },
  {
   "cell_type": "code",
   "execution_count": 31,
   "metadata": {},
   "outputs": [],
   "source": [
    "df.drop(['bathfull','bathtotalcalc'],axis=1,inplace=True)"
   ]
  },
  {
   "cell_type": "code",
   "execution_count": 32,
   "metadata": {},
   "outputs": [
    {
     "data": {
      "image/png": "[encoded data removed]",
      "text/plain": [
       "<Figure size 720x576 with 1 Axes>"
      ]
     },
     "metadata": {
      "needs_background": "light"
     },
     "output_type": "display_data"
    }
   ],
   "source": [
    "bins = list(range(1,10))\n",
    "\n",
    "xlabels = list(map(str, bins[0:]))\n",
    "xlabels[-1] += '+'\n",
    "    \n",
    "plt.figure(figsize=(10,8))\n",
    "sns.distplot(np.clip(bathroom_cols['full_baths'], bins[0], bins[-1]), bins=bins, kde=False)\n",
    "plt.title('Count of Full Bathrooms')\n",
    "plt.xlabel('Number of Full Bathrooms')\n",
    "plt.ylabel('Count')\n",
    "plt.xticks(bins,xlabels)\n",
    "plt.show()"
   ]
  },
  {
   "cell_type": "markdown",
   "metadata": {},
   "source": [
    "### Style"
   ]
  },
  {
   "cell_type": "code",
   "execution_count": 33,
   "metadata": {},
   "outputs": [],
   "source": [
    "#Define Dictionary for style codes\n",
    "styledict = {1:'Traditional',\n",
    "2:'A-Frame',\n",
    "3:'Bungalow',\n",
    "4:'Cape Cod',\n",
    "5:'Colonial',\n",
    "6:'English',\n",
    "7:'French Provincial',\n",
    "8:'Georgian',\n",
    "9:'High-rise',\n",
    "10:'Modern ',\n",
    "11:'Ranch\\Rambler',\n",
    "12:'Spanish',\n",
    "13:'Tudor',\n",
    "14:'Mediterranean',\n",
    "15:'Conventional',\n",
    "16:'Other',\n",
    "17:'Prefab, Modular',\n",
    "18:'Mansion',\n",
    "19:'Raised Ranch',\n",
    "20:'Dome',\n",
    "21:'Contemporary',\n",
    "22:'Unfinished Under Construction',\n",
    "23:'Victorian',\n",
    "24:'Cottage',\n",
    "25:'Custom',\n",
    "26:'Log Cabin/Rustic',\n",
    "27:'Historical',\n",
    "28:'unknown ',\n",
    "29:'CONDO',\n",
    "30:'Cluster',\n",
    "31:'Duplex',\n",
    "32:'Quadplex',\n",
    "33:'Mobile Home',\n",
    "34:'MultiFamily',\n",
    "35:'TownHouse',\n",
    "36:'Triplex',\n",
    "37:'Patio Home',\n",
    "38:'Row Home',\n",
    "39:'Tri-Level',\n",
    "40:'Bi-Level',\n",
    "41:'Split Level',\n",
    "42:'Split Foyer'}"
   ]
  },
  {
   "cell_type": "code",
   "execution_count": 34,
   "metadata": {},
   "outputs": [],
   "source": [
    "df.stylecode.replace(styledict,inplace=True)"
   ]
  },
  {
   "cell_type": "code",
   "execution_count": 35,
   "metadata": {},
   "outputs": [],
   "source": [
    "stylecounts = df['stylecode'].value_counts()"
   ]
  },
  {
   "cell_type": "code",
   "execution_count": 36,
   "metadata": {},
   "outputs": [
    {
     "data": {
      "image/png": "[encoded data removed]",
      "text/plain": [
       "<Figure size 1080x576 with 1 Axes>"
      ]
     },
     "metadata": {
      "needs_background": "light"
     },
     "output_type": "display_data"
    }
   ],
   "source": [
    "plt.figure(figsize=(15,8))\n",
    "sns.barplot(stylecounts.index, stylecounts.values)\n",
    "plt.ylabel('Count of Homes')\n",
    "plt.title('Count of Homes By Style')\n",
    "plt.xticks(rotation=45)\n",
    "plt.show()"
   ]
  },
  {
   "cell_type": "markdown",
   "metadata": {},
   "source": [
    "### Heat Types"
   ]
  },
  {
   "cell_type": "code",
   "execution_count": 37,
   "metadata": {},
   "outputs": [],
   "source": [
    "# Dictionary for heattype codes\n",
    "heattypes = {1:'Baseboard',\n",
    "2:'Electric',\n",
    "3:'Central',\n",
    "4:'Forced air unit',\n",
    "5:'Oil',\n",
    "6:'Floor/Wall',\n",
    "7:'Gravity',\n",
    "8:'Heat Pump',\n",
    "9:'Geo-thermal',\n",
    "10:'Hot Water',\n",
    "11:'Gas',\n",
    "12:'Partial',\n",
    "13:'Radiant',\n",
    "14:'None',\n",
    "15:'Other',\n",
    "16:'Steam',\n",
    "17:'Coal',\n",
    "18:'Space/Suspended',\n",
    "19:'Convection',\n",
    "20:'Solar',\n",
    "21:'Vent',\n",
    "22:'Wood Burning',\n",
    "23:'Propane',\n",
    "24:'Yes',\n",
    "25:'Zone'}"
   ]
  },
  {
   "cell_type": "code",
   "execution_count": 38,
   "metadata": {},
   "outputs": [],
   "source": [
    "df.heatcode.replace(heattypes,inplace=True)"
   ]
  },
  {
   "cell_type": "code",
   "execution_count": 39,
   "metadata": {},
   "outputs": [],
   "source": [
    "# Capture rest in an overflow bucket\n",
    "heatcounts = df['heatcode'].value_counts()[:4]\n",
    "heatcounts = heatcounts.append(pd.Series(sum(df['heatcode'].value_counts()[4:]),index=['Other']))"
   ]
  },
  {
   "cell_type": "code",
   "execution_count": 40,
   "metadata": {},
   "outputs": [
    {
     "data": {
      "image/png": "[encoded data removed]",
      "text/plain": [
       "<Figure size 1080x576 with 1 Axes>"
      ]
     },
     "metadata": {
      "needs_background": "light"
     },
     "output_type": "display_data"
    }
   ],
   "source": [
    "plt.figure(figsize=(15,8))\n",
    "sns.barplot(heatcounts.index, heatcounts.values)\n",
    "plt.ylabel('Count of Homes')\n",
    "plt.title('Count of Homes By Heat Code')\n",
    "plt.xticks(rotation=45)\n",
    "plt.show()"
   ]
  },
  {
   "cell_type": "markdown",
   "metadata": {},
   "source": [
    "### AC Types"
   ]
  },
  {
   "cell_type": "code",
   "execution_count": 41,
   "metadata": {},
   "outputs": [],
   "source": [
    "# Counting each type true\n",
    "airtypes = {'Central': np.nansum(df.is_Central), \n",
    "            'Wall': np.nansum(df.is_Wall),\n",
    "            'Window/Unit': np.nansum(df.is_Wall), \n",
    "            'Other':np.nansum(df.is_Other)}\n",
    "            "
   ]
  },
  {
   "cell_type": "code",
   "execution_count": 42,
   "metadata": {},
   "outputs": [],
   "source": [
    "airtype = pd.DataFrame.from_dict(airtypes,orient='index').reset_index()"
   ]
  },
  {
   "cell_type": "code",
   "execution_count": 43,
   "metadata": {},
   "outputs": [],
   "source": [
    "airtype.rename({'index':'Type',0:'Count'},axis=1,inplace=True)"
   ]
  },
  {
   "cell_type": "code",
   "execution_count": 44,
   "metadata": {},
   "outputs": [
    {
     "data": {
      "image/png": "[encoded data removed]",
      "text/plain": [
       "<Figure size 1080x576 with 1 Axes>"
      ]
     },
     "metadata": {
      "needs_background": "light"
     },
     "output_type": "display_data"
    }
   ],
   "source": [
    "plt.figure(figsize=(15,8))\n",
    "sns.barplot(airtype.Type, airtype.Count)\n",
    "plt.ylabel('Count of AC Types')\n",
    "plt.title('Listings By AC Type')\n",
    "plt.xticks(rotation=45)\n",
    "plt.show()"
   ]
  },
  {
   "cell_type": "markdown",
   "metadata": {},
   "source": [
    "### Days on the market"
   ]
  },
  {
   "cell_type": "code",
   "execution_count": 164,
   "metadata": {},
   "outputs": [
    {
     "data": {
      "image/png": "[encoded data removed]",
      "text/plain": [
       "<Figure size 720x576 with 1 Axes>"
      ]
     },
     "metadata": {
      "needs_background": "light"
     },
     "output_type": "display_data"
    }
   ],
   "source": [
    "plt.figure(figsize=(10,8))\n",
    "# sns.distplot(df['days_on_market'],kde=False)\n",
    "sns.distplot(np.clip(df['days_on_market'], 0, 28), kde=False)\n",
    "plt.title('Days on the Market')\n",
    "plt.xlabel('Days on the Market')\n",
    "plt.ylabel('Count')\n",
    "plt.show()"
   ]
  },
  {
   "cell_type": "code",
   "execution_count": 159,
   "metadata": {},
   "outputs": [
    {
     "data": {
      "text/plain": [
       "877"
      ]
     },
     "execution_count": 159,
     "metadata": {},
     "output_type": "execute_result"
    }
   ],
   "source": [
    "sum(df['days_on_market'].notnull())"
   ]
  },
  {
   "cell_type": "markdown",
   "metadata": {},
   "source": [
    "### Inspect Features Remaining"
   ]
  },
  {
   "cell_type": "code",
   "execution_count": 51,
   "metadata": {},
   "outputs": [
    {
     "data": {
      "text/plain": [
       "Index(['cc_list_id', 'current_list_price', 'current_status', 'days_on_market',\n",
       "       'cc_property_id', 'address', 'city', 'zipcode', 'fips', 'latitude',\n",
       "       'longitude', 'sqft', 'state', 'bedrooms_x', 'full_baths',\n",
       "       'match_street_address', 'has_central_air', 'has_jacuzzi', 'has_pool',\n",
       "       'has_solar', 'has_garage', 'is_MULTI_FAMILY', 'is_CONDO', 'is_SINGLE',\n",
       "       'formattedapn', 'situsstdfullstreetaddress', 'situsstdhousenbr',\n",
       "       'mailingstdfullstreetaddress', 'situsstdcity', 'situsstdzip5',\n",
       "       'situsstdzip4', 'situslatitude', 'situslongitude', 'propertyclassid',\n",
       "       'schooldistrictname', 'lotsizesqft', 'sumgrossareasqft', 'yearbuilt',\n",
       "       'effectiveyearbuilt', 'totalrooms', 'heatcode', 'garageparkingnbr',\n",
       "       'storiesnbrcode', 'stylecode', 'sumresidentialunits', 'municipality',\n",
       "       'assdtotalvalue', 'assdlandvalue', 'assdimprovementvalue', 'taxamount',\n",
       "       'is_Central', 'is_Wall', 'is_Window/Unit', 'is_Other', 'is_Special'],\n",
       "      dtype='object')"
      ]
     },
     "execution_count": 51,
     "metadata": {},
     "output_type": "execute_result"
    }
   ],
   "source": [
    "df.columns"
   ]
  },
  {
   "cell_type": "markdown",
   "metadata": {},
   "source": [
    "### Other interesting counts"
   ]
  },
  {
   "cell_type": "code",
   "execution_count": 48,
   "metadata": {},
   "outputs": [
    {
     "data": {
      "text/plain": [
       "33"
      ]
     },
     "execution_count": 48,
     "metadata": {},
     "output_type": "execute_result"
    }
   ],
   "source": [
    "np.nansum(df.has_pool)"
   ]
  },
  {
   "cell_type": "code",
   "execution_count": 49,
   "metadata": {},
   "outputs": [
    {
     "data": {
      "text/plain": [
       "0"
      ]
     },
     "execution_count": 49,
     "metadata": {},
     "output_type": "execute_result"
    }
   ],
   "source": [
    "np.nansum(df.has_jacuzzi)"
   ]
  },
  {
   "cell_type": "code",
   "execution_count": 50,
   "metadata": {},
   "outputs": [
    {
     "data": {
      "text/plain": [
       "99"
      ]
     },
     "execution_count": 50,
     "metadata": {},
     "output_type": "execute_result"
    }
   ],
   "source": [
    "np.nansum(df.has_garage)"
   ]
  },
  {
   "cell_type": "code",
   "execution_count": 52,
   "metadata": {},
   "outputs": [
    {
     "data": {
      "text/plain": [
       "1364"
      ]
     },
     "execution_count": 52,
     "metadata": {},
     "output_type": "execute_result"
    }
   ],
   "source": [
    "sum(df[''].notnull())"
   ]
  },
  {
   "cell_type": "code",
   "execution_count": 53,
   "metadata": {},
   "outputs": [
    {
     "data": {
      "text/plain": [
       "1364"
      ]
     },
     "execution_count": 53,
     "metadata": {},
     "output_type": "execute_result"
    }
   ],
   "source": [
    "sum(df[''].notnull())"
   ]
  },
  {
   "cell_type": "markdown",
   "metadata": {},
   "source": [
    "### Bedrooms - bathrooms"
   ]
  },
  {
   "cell_type": "code",
   "execution_count": 65,
   "metadata": {},
   "outputs": [
    {
     "data": {
      "image/png": "[encoded data removed]",
      "text/plain": [
       "<Figure size 720x576 with 1 Axes>"
      ]
     },
     "metadata": {
      "needs_background": "light"
     },
     "output_type": "display_data"
    }
   ],
   "source": [
    "plt.figure(figsize=(10,8))\n",
    "sns.boxplot(x=\"bedrooms_x\", y=\"full_baths\", data=df[df['bedrooms_x']<10])\n",
    "plt.title('Number of Bathrooms in Houses of Various Bedroom Counts')\n",
    "plt.show()"
   ]
  },
  {
   "cell_type": "code",
   "execution_count": null,
   "metadata": {},
   "outputs": [],
   "source": []
  }
 ],
 "metadata": {
  "kernelspec": {
   "display_name": "Python 3",
   "language": "python",
   "name": "python3"
  },
  "language_info": {
   "codemirror_mode": {
    "name": "ipython",
    "version": 3
   },
   "file_extension": ".py",
   "mimetype": "text/x-python",
   "name": "python",
   "nbconvert_exporter": "python",
   "pygments_lexer": "ipython3",
   "version": "3.7.6"
  }
 },
 "nbformat": 4,
 "nbformat_minor": 4
}
