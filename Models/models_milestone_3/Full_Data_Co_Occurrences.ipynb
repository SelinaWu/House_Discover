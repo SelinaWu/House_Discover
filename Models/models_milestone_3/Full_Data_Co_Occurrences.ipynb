{
  "nbformat": 4,
  "nbformat_minor": 0,
  "metadata": {
    "colab": {
      "name": "Full_Data_Co-Occurrences.ipynb",
      "provenance": [],
      "collapsed_sections": []
    },
    "kernelspec": {
      "name": "python3",
      "display_name": "Python 3"
    },
    "accelerator": "GPU"
  },
  "cells": [
    {
      "cell_type": "code",
      "metadata": {
        "id": "J_-Cqzj2e-Nv",
        "colab": {
          "base_uri": "https://localhost:8080/"
        },
        "outputId": "59c224b6-f697-41d7-b92a-f69f4edb23ed"
      },
      "source": [
        "from google.colab import drive\n",
        "drive.mount('/content/drive')\n",
        "# Nikhil's working path\n",
        "%cd drive/My\\ Drive/'Captstone(297)'/data\n",
        "# Selina's working path\n",
        "# %cd drive/My\\ Drive/2020_Fall/'Captstone(297)'/data"
      ],
      "execution_count": 61,
      "outputs": [
        {
          "output_type": "stream",
          "text": [
            "Drive already mounted at /content/drive; to attempt to forcibly remount, call drive.mount(\"/content/drive\", force_remount=True).\n",
            "[Errno 2] No such file or directory: 'drive/My Drive/Captstone(297)/data'\n",
            "/content/drive/.shortcut-targets-by-id/1auWpfpINZvmJbl0I50kYmpS29bbnesqp/Captstone(297)/data\n"
          ],
          "name": "stdout"
        }
      ]
    },
    {
      "cell_type": "code",
      "metadata": {
        "id": "QlYaSvvCxlGM"
      },
      "source": [
        "import pandas as pd\n",
        "import numpy as np\n",
        "import matplotlib.pyplot as plt\n",
        "pd.set_option('display.max_rows', None)"
      ],
      "execution_count": 62,
      "outputs": []
    },
    {
      "cell_type": "markdown",
      "metadata": {
        "id": "HJVgggnK0oBY"
      },
      "source": [
        "## Web Data"
      ]
    },
    {
      "cell_type": "markdown",
      "metadata": {
        "id": "t-0hgnTc0WcC"
      },
      "source": [
        "Read in Web Interaction Data - already filtered specifically to interactions available for 5.5k LA listings"
      ]
    },
    {
      "cell_type": "code",
      "metadata": {
        "id": "0cvzNGAqxu9l"
      },
      "source": [
        "df = pd.read_pickle(\"all_webdata_filtered.pkl\")"
      ],
      "execution_count": 63,
      "outputs": []
    },
    {
      "cell_type": "code",
      "metadata": {
        "id": "xxxx9IMKM4PL"
      },
      "source": [
        "df.rename({'rexurl':'rexUrl'},axis=1,inplace=True)"
      ],
      "execution_count": 64,
      "outputs": []
    },
    {
      "cell_type": "code",
      "metadata": {
        "id": "8yAeMscqHD3Z",
        "colab": {
          "base_uri": "https://localhost:8080/"
        },
        "outputId": "5e16fca5-3997-42f3-e57c-b2b1c8bdb39a"
      },
      "source": [
        "print(df.shape)"
      ],
      "execution_count": 65,
      "outputs": [
        {
          "output_type": "stream",
          "text": [
            "(4617883, 6)\n"
          ],
          "name": "stdout"
        }
      ]
    },
    {
      "cell_type": "code",
      "metadata": {
        "colab": {
          "base_uri": "https://localhost:8080/"
        },
        "id": "HYLWpARSwOqF",
        "outputId": "f06ddb28-053b-442f-8852-a49a3f3114d7"
      },
      "source": [
        "print('unique users', df['ip'].nunique())\n",
        "print('unique listings', df['rexUrl'].nunique())\n",
        "print('total web interactions, LA',df.shape)"
      ],
      "execution_count": 66,
      "outputs": [
        {
          "output_type": "stream",
          "text": [
            "unique users 92071\n",
            "unique listings 533\n",
            "total web interactions, LA (4617883, 6)\n"
          ],
          "name": "stdout"
        }
      ]
    },
    {
      "cell_type": "markdown",
      "metadata": {
        "id": "YOLIeneqI9OH"
      },
      "source": [
        "## Listing Data"
      ]
    },
    {
      "cell_type": "code",
      "metadata": {
        "id": "s36PiAwvepHh",
        "colab": {
          "base_uri": "https://localhost:8080/",
          "height": 252
        },
        "outputId": "40a76bf1-e252-44db-dfb3-5669d60dcfc6"
      },
      "source": [
        "listing_data = pd.read_pickle('LOG_siamese_data_11_12.pkl')\n",
        "listing_data.head(2)"
      ],
      "execution_count": 67,
      "outputs": [
        {
          "output_type": "execute_result",
          "data": {
            "text/html": [
              "<div>\n",
              "<style scoped>\n",
              "    .dataframe tbody tr th:only-of-type {\n",
              "        vertical-align: middle;\n",
              "    }\n",
              "\n",
              "    .dataframe tbody tr th {\n",
              "        vertical-align: top;\n",
              "    }\n",
              "\n",
              "    .dataframe thead th {\n",
              "        text-align: right;\n",
              "    }\n",
              "</style>\n",
              "<table border=\"1\" class=\"dataframe\">\n",
              "  <thead>\n",
              "    <tr style=\"text-align: right;\">\n",
              "      <th></th>\n",
              "      <th>rex_url</th>\n",
              "      <th>total_baths</th>\n",
              "      <th>stories</th>\n",
              "      <th>has_central_air</th>\n",
              "      <th>has_jacuzzi</th>\n",
              "      <th>has_pool</th>\n",
              "      <th>has_solar</th>\n",
              "      <th>has_garage</th>\n",
              "      <th>bedrooms</th>\n",
              "      <th>full_baths</th>\n",
              "      <th>half_baths</th>\n",
              "      <th>year_built</th>\n",
              "      <th>latitude</th>\n",
              "      <th>longitude</th>\n",
              "      <th>is_apt</th>\n",
              "      <th>hotness_score</th>\n",
              "      <th>demand_score</th>\n",
              "      <th>supply_score</th>\n",
              "      <th>ldpviews_per_property_vs_us</th>\n",
              "      <th>loc_tsne_1</th>\n",
              "      <th>loc_tsne_2</th>\n",
              "      <th>1hot_marketing_budget_LOW</th>\n",
              "      <th>1hot_marketing_budget_MEDIUM</th>\n",
              "      <th>1hot_marketing_budget_SURGE</th>\n",
              "      <th>1hot_property_type_CONDO</th>\n",
              "      <th>1hot_property_type_COOP</th>\n",
              "      <th>1hot_property_type_MULTI_FAMILY</th>\n",
              "      <th>1hot_property_type_SINGLE</th>\n",
              "      <th>1hot_property_type_TOWNHOUSE</th>\n",
              "      <th>1hot_pool_spa_types_Community Pool or Spa</th>\n",
              "      <th>1hot_pool_spa_types_Heated Pool</th>\n",
              "      <th>1hot_pool_spa_types_In Ground</th>\n",
              "      <th>1hot_pool_spa_types_No</th>\n",
              "      <th>1hot_pool_spa_types_Pool &amp; Spa (both)</th>\n",
              "      <th>1hot_pool_spa_types_Pool (yes)</th>\n",
              "      <th>1hot_pool_spa_types_Spa (only)</th>\n",
              "      <th>1hot_home_style_Bungalow</th>\n",
              "      <th>1hot_home_style_Cape Cod</th>\n",
              "      <th>1hot_home_style_Contemporary</th>\n",
              "      <th>1hot_home_style_Mediterranean</th>\n",
              "      <th>1hot_home_style_Modern</th>\n",
              "      <th>1hot_home_style_Other</th>\n",
              "      <th>1hot_home_style_Ranch/Rambler</th>\n",
              "      <th>1hot_home_style_Spanish</th>\n",
              "      <th>1hot_home_style_Traditional</th>\n",
              "      <th>1hot_fencing_description_Average Condition</th>\n",
              "      <th>1hot_fencing_description_Back Yard</th>\n",
              "      <th>1hot_fencing_description_Block</th>\n",
              "      <th>1hot_fencing_description_Block Wall</th>\n",
              "      <th>1hot_fencing_description_Chain Link</th>\n",
              "      <th>1hot_fencing_description_Excellent Condition</th>\n",
              "      <th>1hot_fencing_description_Good Condition</th>\n",
              "      <th>1hot_fencing_description_None</th>\n",
              "      <th>1hot_fencing_description_Other</th>\n",
              "      <th>1hot_fencing_description_Other/Remarks</th>\n",
              "      <th>1hot_fencing_description_Partial</th>\n",
              "      <th>1hot_fencing_description_Privacy</th>\n",
              "      <th>1hot_fencing_description_Stucco Wall</th>\n",
              "      <th>1hot_fencing_description_Vinyl</th>\n",
              "      <th>1hot_fencing_description_Wood</th>\n",
              "      <th>1hot_fencing_description_Wrought Iron</th>\n",
              "      <th>1hot_property_condition_Additions/Alter</th>\n",
              "      <th>1hot_property_condition_Additions/Alterations</th>\n",
              "      <th>1hot_property_condition_Building Permit</th>\n",
              "      <th>1hot_property_condition_Fixer</th>\n",
              "      <th>1hot_property_condition_Other</th>\n",
              "      <th>1hot_property_condition_Repairs Cosmetic</th>\n",
              "      <th>1hot_property_condition_Repairs Major</th>\n",
              "      <th>1hot_property_condition_Termite Clearance</th>\n",
              "      <th>1hot_property_condition_Turnkey</th>\n",
              "      <th>1hot_property_condition_Updated/Remodeled</th>\n",
              "      <th>log_price</th>\n",
              "      <th>log_sqft</th>\n",
              "      <th>log_median_listing_price</th>\n",
              "      <th>log_median_days_on_market</th>\n",
              "      <th>log_nielsen_hh_rank</th>\n",
              "      <th>log_land_sqft</th>\n",
              "      <th>log_total_rooms</th>\n",
              "    </tr>\n",
              "  </thead>\n",
              "  <tbody>\n",
              "    <tr>\n",
              "      <th>0</th>\n",
              "      <td>rex1-pacific-coast-hwy</td>\n",
              "      <td>12.0</td>\n",
              "      <td>1</td>\n",
              "      <td>0</td>\n",
              "      <td>0</td>\n",
              "      <td>0</td>\n",
              "      <td>0</td>\n",
              "      <td>0</td>\n",
              "      <td>12.0</td>\n",
              "      <td>2.0</td>\n",
              "      <td>0.0</td>\n",
              "      <td>2015.0</td>\n",
              "      <td>34.023865</td>\n",
              "      <td>-118.787080</td>\n",
              "      <td>0.0</td>\n",
              "      <td>23.044945</td>\n",
              "      <td>44.348576</td>\n",
              "      <td>1.741313</td>\n",
              "      <td>0.9191</td>\n",
              "      <td>4.173980</td>\n",
              "      <td>6.034126</td>\n",
              "      <td>1</td>\n",
              "      <td>0</td>\n",
              "      <td>0</td>\n",
              "      <td>0</td>\n",
              "      <td>0</td>\n",
              "      <td>0</td>\n",
              "      <td>1</td>\n",
              "      <td>0</td>\n",
              "      <td>0</td>\n",
              "      <td>0</td>\n",
              "      <td>0</td>\n",
              "      <td>1</td>\n",
              "      <td>0</td>\n",
              "      <td>0</td>\n",
              "      <td>0</td>\n",
              "      <td>0</td>\n",
              "      <td>0</td>\n",
              "      <td>0</td>\n",
              "      <td>0</td>\n",
              "      <td>0</td>\n",
              "      <td>1</td>\n",
              "      <td>0</td>\n",
              "      <td>0</td>\n",
              "      <td>0</td>\n",
              "      <td>0</td>\n",
              "      <td>0</td>\n",
              "      <td>0</td>\n",
              "      <td>0</td>\n",
              "      <td>0</td>\n",
              "      <td>0</td>\n",
              "      <td>0</td>\n",
              "      <td>1</td>\n",
              "      <td>0</td>\n",
              "      <td>0</td>\n",
              "      <td>0</td>\n",
              "      <td>0</td>\n",
              "      <td>0</td>\n",
              "      <td>0</td>\n",
              "      <td>0</td>\n",
              "      <td>0</td>\n",
              "      <td>0</td>\n",
              "      <td>0</td>\n",
              "      <td>0</td>\n",
              "      <td>0</td>\n",
              "      <td>0</td>\n",
              "      <td>0</td>\n",
              "      <td>0</td>\n",
              "      <td>0</td>\n",
              "      <td>1</td>\n",
              "      <td>0</td>\n",
              "      <td>17.599700</td>\n",
              "      <td>9.350972</td>\n",
              "      <td>15.404756</td>\n",
              "      <td>5.398163</td>\n",
              "      <td>8.734077</td>\n",
              "      <td>11.860550</td>\n",
              "      <td>3.496508</td>\n",
              "    </tr>\n",
              "    <tr>\n",
              "      <th>1</th>\n",
              "      <td>4080-glencoe-ave-unit-316</td>\n",
              "      <td>2.0</td>\n",
              "      <td>1</td>\n",
              "      <td>0</td>\n",
              "      <td>0</td>\n",
              "      <td>0</td>\n",
              "      <td>0</td>\n",
              "      <td>0</td>\n",
              "      <td>1.0</td>\n",
              "      <td>2.0</td>\n",
              "      <td>0.0</td>\n",
              "      <td>2011.0</td>\n",
              "      <td>33.990732</td>\n",
              "      <td>-118.441965</td>\n",
              "      <td>1.0</td>\n",
              "      <td>6.741705</td>\n",
              "      <td>3.992470</td>\n",
              "      <td>9.490940</td>\n",
              "      <td>0.2721</td>\n",
              "      <td>9.119221</td>\n",
              "      <td>13.400335</td>\n",
              "      <td>1</td>\n",
              "      <td>0</td>\n",
              "      <td>0</td>\n",
              "      <td>1</td>\n",
              "      <td>0</td>\n",
              "      <td>0</td>\n",
              "      <td>0</td>\n",
              "      <td>0</td>\n",
              "      <td>0</td>\n",
              "      <td>0</td>\n",
              "      <td>0</td>\n",
              "      <td>1</td>\n",
              "      <td>0</td>\n",
              "      <td>0</td>\n",
              "      <td>0</td>\n",
              "      <td>0</td>\n",
              "      <td>0</td>\n",
              "      <td>0</td>\n",
              "      <td>0</td>\n",
              "      <td>0</td>\n",
              "      <td>1</td>\n",
              "      <td>0</td>\n",
              "      <td>0</td>\n",
              "      <td>0</td>\n",
              "      <td>0</td>\n",
              "      <td>0</td>\n",
              "      <td>0</td>\n",
              "      <td>0</td>\n",
              "      <td>0</td>\n",
              "      <td>0</td>\n",
              "      <td>0</td>\n",
              "      <td>1</td>\n",
              "      <td>0</td>\n",
              "      <td>0</td>\n",
              "      <td>0</td>\n",
              "      <td>0</td>\n",
              "      <td>0</td>\n",
              "      <td>0</td>\n",
              "      <td>0</td>\n",
              "      <td>0</td>\n",
              "      <td>0</td>\n",
              "      <td>0</td>\n",
              "      <td>0</td>\n",
              "      <td>0</td>\n",
              "      <td>0</td>\n",
              "      <td>0</td>\n",
              "      <td>0</td>\n",
              "      <td>0</td>\n",
              "      <td>1</td>\n",
              "      <td>0</td>\n",
              "      <td>13.909911</td>\n",
              "      <td>7.365180</td>\n",
              "      <td>14.143410</td>\n",
              "      <td>4.663439</td>\n",
              "      <td>7.694393</td>\n",
              "      <td>9.760541</td>\n",
              "      <td>1.609438</td>\n",
              "    </tr>\n",
              "  </tbody>\n",
              "</table>\n",
              "</div>"
            ],
            "text/plain": [
              "                     rex_url  total_baths  ...  log_land_sqft  log_total_rooms\n",
              "0     rex1-pacific-coast-hwy         12.0  ...      11.860550         3.496508\n",
              "1  4080-glencoe-ave-unit-316          2.0  ...       9.760541         1.609438\n",
              "\n",
              "[2 rows x 78 columns]"
            ]
          },
          "metadata": {
            "tags": []
          },
          "execution_count": 67
        }
      ]
    },
    {
      "cell_type": "code",
      "metadata": {
        "id": "wB66WMZ4eigD"
      },
      "source": [
        "df_web_la = df.copy()\n",
        "# removed because new webdata was already filtered to only being from these LA listings\n",
        "# df_web_la = df_web_la[df_web_la.rexUrl.isin(list(set(listing_data.rex_url)))]"
      ],
      "execution_count": 68,
      "outputs": []
    },
    {
      "cell_type": "code",
      "metadata": {
        "id": "zO6k-1Y5fgVd",
        "colab": {
          "base_uri": "https://localhost:8080/"
        },
        "outputId": "0341cc0e-25b8-4879-a65e-5c02d621863f"
      },
      "source": [
        "print('Unique LA listings',len(set(listing_data.rex_url)))\n",
        "print('Unique LA listings with webdata',len(set(df_web_la.rexUrl)))"
      ],
      "execution_count": 69,
      "outputs": [
        {
          "output_type": "stream",
          "text": [
            "Unique LA listings 5575\n",
            "Unique LA listings with webdata 533\n"
          ],
          "name": "stdout"
        }
      ]
    },
    {
      "cell_type": "code",
      "metadata": {
        "id": "bBbpre66cucj"
      },
      "source": [
        "# Convert eventstamp to datetime\n",
        "df_web_la['event_stamp'] = pd.to_datetime(df_web_la['event_stamp'])\n",
        "\n",
        "#sort by ip and eventstamp\n",
        "df_web_la.sort_values(['ip','event_stamp'],ascending=True,inplace=True)"
      ],
      "execution_count": 70,
      "outputs": []
    },
    {
      "cell_type": "markdown",
      "metadata": {
        "id": "44N7mxl105WS"
      },
      "source": [
        "Visualize number of interactions by ip"
      ]
    },
    {
      "cell_type": "code",
      "metadata": {
        "id": "C1m-FH4TNz5A"
      },
      "source": [
        "houses_per_ip = df_web_la.groupby('ip')['rexUrl'].aggregate('nunique').value_counts(normalize=True)"
      ],
      "execution_count": 71,
      "outputs": []
    },
    {
      "cell_type": "code",
      "metadata": {
        "colab": {
          "base_uri": "https://localhost:8080/",
          "height": 566
        },
        "id": "OSI1GWj7cytw",
        "outputId": "cfb6f987-c2b8-4156-fde5-7a947ba1bd59"
      },
      "source": [
        "sub_houses_per_ip = houses_per_ip.head(20)\n",
        "plt.figure(figsize=(12,9))\n",
        "plt.bar(x=sub_houses_per_ip.index, height=sub_houses_per_ip.values)\n",
        "plt.xticks(sub_houses_per_ip.index)\n",
        "# xlocs, xlabs = plt.xticks()\n",
        "# for i, v in enumerate(sub_houses_per_ip.values):\n",
        "#   plt.text(xlocs[i], v+3, str(v),horizontalalignment=\"center\")\n",
        "plt.title('Number of Unique Listings Viewed Per Person')\n",
        "plt.xlabel('Number of Unique Listings Viewed')\n",
        "plt.ylabel('Number of Users')\n",
        "plt.show()"
      ],
      "execution_count": 72,
      "outputs": [
        {
          "output_type": "display_data",
          "data": {
            "image/png": "[encoded data removed]",
            "text/plain": [
              "<Figure size 864x648 with 1 Axes>"
            ]
          },
          "metadata": {
            "tags": [],
            "needs_background": "light"
          }
        }
      ]
    },
    {
      "cell_type": "markdown",
      "metadata": {
        "id": "1DfSwVTe0cuK"
      },
      "source": [
        "# Co-occ windows"
      ]
    },
    {
      "cell_type": "code",
      "metadata": {
        "id": "r_ffmcNL5SSb"
      },
      "source": [
        "from collections import OrderedDict"
      ],
      "execution_count": 73,
      "outputs": []
    },
    {
      "cell_type": "code",
      "metadata": {
        "colab": {
          "base_uri": "https://localhost:8080/"
        },
        "id": "rqH3B7O93zSA",
        "outputId": "d40180c9-b516-424b-846a-10bab5f2067c"
      },
      "source": [
        "# get the set of listings viewed by each user\n",
        "rex_list_each_user = df_web_la.groupby('ip')['rexUrl'].apply(lambda x: list(OrderedDict.fromkeys(x))).values.tolist()\n",
        "rex_list_each_user[:10]\n",
        "\n",
        "# # convert each into a list\n",
        "# rex_set_each_user = [] \n",
        "# [rex_set_each_user.append(x) for x in rex_set_each_user_pre if x not in rex_set_each_user] \n",
        "# # rex_list_each_user = [list(i) for i in rex_set_each_user]\n"
      ],
      "execution_count": 74,
      "outputs": [
        {
          "output_type": "execute_result",
          "data": {
            "text/plain": [
              "[['28710-indies-ln-canyon-country'],\n",
              " ['23552-park-south-st'],\n",
              " ['9235-garibaldi-ave'],\n",
              " ['9323-alcott-st-apt-101', '1050-trevecca-pl'],\n",
              " ['3501-knoll-crest-ave'],\n",
              " ['2463-corralitas-dr'],\n",
              " ['1050-trevecca-pl', '9735-baden-ave'],\n",
              " ['14919-cadillac-ct'],\n",
              " ['1534-amherst-ave-apt-302'],\n",
              " ['850-e-ocean-blvd-apt-607']]"
            ]
          },
          "metadata": {
            "tags": []
          },
          "execution_count": 74
        }
      ]
    },
    {
      "cell_type": "code",
      "metadata": {
        "id": "o_-qqnPF0Z4a"
      },
      "source": [
        "# Old version not preserving order\n",
        "\n",
        "# # # get the set of listings viewed by each user\n",
        "# rex_set_each_user = df_web_la.groupby('ip')['rexUrl'].apply(set).values\n",
        "# # convert each into a list\n",
        "# rex_list_each_user = [list(i) for i in rex_set_each_user]\n",
        "# rex_list_each_user[:10]"
      ],
      "execution_count": 75,
      "outputs": []
    },
    {
      "cell_type": "code",
      "metadata": {
        "colab": {
          "base_uri": "https://localhost:8080/"
        },
        "id": "YLW8LsjePArC",
        "outputId": "e5a307d9-1a87-430b-f746-e061b133af8d"
      },
      "source": [
        "# the length of the list should be the number of users\n",
        "print(len(rex_list_each_user))\n",
        "print(df_web_la.ip.nunique())"
      ],
      "execution_count": 76,
      "outputs": [
        {
          "output_type": "stream",
          "text": [
            "92071\n",
            "92071\n"
          ],
          "name": "stdout"
        }
      ]
    },
    {
      "cell_type": "code",
      "metadata": {
        "id": "_ncVROPa0Z70"
      },
      "source": [
        "# Get a dictionary of listings each house Co-Occured with (within a window)\n",
        "from collections import Counter\n",
        "from collections import defaultdict\n",
        "\n",
        "window_occurences = defaultdict(Counter)\n",
        "\n",
        "#loop through  of all viewings for a user\n",
        "for viewings_user_curr in rex_list_each_user:\n",
        "  #for each house in list of viewings\n",
        "    for i, listing in enumerate(viewings_user_curr):\n",
        "      # Set window as one before and one ahead\n",
        "      window = viewings_user_curr[max(0,i-1):i+3].copy()\n",
        "      #remove self\n",
        "      while listing in window:\n",
        "        window.remove(listing) \n",
        "      \n",
        "      # update the dict of current listing with this window of co-occurances\n",
        "      window_occurences[listing].update(window)"
      ],
      "execution_count": 77,
      "outputs": []
    },
    {
      "cell_type": "code",
      "metadata": {
        "id": "lG_TY0bIAFCp"
      },
      "source": [
        "# Remove empty dict elements (when listing didn't co-occur with any)\n",
        "window_occurences = {k: v for k, v in dict(window_occurences).items() if v}"
      ],
      "execution_count": 78,
      "outputs": []
    },
    {
      "cell_type": "code",
      "metadata": {
        "colab": {
          "base_uri": "https://localhost:8080/"
        },
        "id": "bpR-v3VQgbVh",
        "outputId": "3522d612-a7b3-4274-f88e-450548a7abc7"
      },
      "source": [
        "print(len(window_occurences), 'listings ever co-occured with others')"
      ],
      "execution_count": 79,
      "outputs": [
        {
          "output_type": "stream",
          "text": [
            "504 listings ever co-occured with others\n"
          ],
          "name": "stdout"
        }
      ]
    },
    {
      "cell_type": "code",
      "metadata": {
        "colab": {
          "base_uri": "https://localhost:8080/"
        },
        "id": "dpKIfLrf31q9",
        "outputId": "599bb876-d765-44aa-dea0-af842cecb745"
      },
      "source": [
        "len(window_occurences['1017-janette-st'])"
      ],
      "execution_count": 80,
      "outputs": [
        {
          "output_type": "execute_result",
          "data": {
            "text/plain": [
              "85"
            ]
          },
          "metadata": {
            "tags": []
          },
          "execution_count": 80
        }
      ]
    },
    {
      "cell_type": "code",
      "metadata": {
        "id": "x-M6XNfK56JQ"
      },
      "source": [
        "def view_co_ocs(anchor,df_in):\n",
        "  pd.options.display.float_format = '{:,.1f}'.format\n",
        "  df = df_in.copy()\n",
        "  df['sqft'] = np.exp(df['log_sqft'])\n",
        "  df['price'] = np.exp(df['log_price'])\n",
        "  df['total_rooms'] = np.exp(df['log_total_rooms'])\n",
        "  cols = ['rex_url','sqft','price','bedrooms','total_rooms','full_baths','is_apt']\n",
        "\n",
        "  cooc_df = pd.DataFrame.from_dict(dict(window_occurences[anchor]),orient='index').reset_index().rename({'index':'rex_url',0:'cooc_count'},axis=1)\n",
        "\n",
        "  cooc_data = cooc_df.merge(df,on='rex_url',how='left')[cols+['cooc_count']].set_index('rex_url')\n",
        "\n",
        "  cooc_data.sort_values('cooc_count',ascending=False,inplace=True)\n",
        "  anchor_row = df[df.rex_url==anchor][cols].set_index('rex_url')\n",
        "\n",
        "\n",
        "  return pd.concat([anchor_row, cooc_data])"
      ],
      "execution_count": 81,
      "outputs": []
    },
    {
      "cell_type": "code",
      "metadata": {
        "colab": {
          "base_uri": "https://localhost:8080/",
          "height": 540
        },
        "id": "57WT9QS99Uho",
        "outputId": "1fa86bbe-5498-4506-97ed-30dbec471e43"
      },
      "source": [
        "converse_street_coocs = view_co_ocs('4799-converse-st',listing_data)\n",
        "converse_street_coocs['ppsqft'] = converse_street_coocs['price']/converse_street_coocs['sqft']\n",
        "converse_street_coocs.head(15)"
      ],
      "execution_count": 82,
      "outputs": [
        {
          "output_type": "execute_result",
          "data": {
            "text/html": [
              "<div>\n",
              "<style scoped>\n",
              "    .dataframe tbody tr th:only-of-type {\n",
              "        vertical-align: middle;\n",
              "    }\n",
              "\n",
              "    .dataframe tbody tr th {\n",
              "        vertical-align: top;\n",
              "    }\n",
              "\n",
              "    .dataframe thead th {\n",
              "        text-align: right;\n",
              "    }\n",
              "</style>\n",
              "<table border=\"1\" class=\"dataframe\">\n",
              "  <thead>\n",
              "    <tr style=\"text-align: right;\">\n",
              "      <th></th>\n",
              "      <th>sqft</th>\n",
              "      <th>price</th>\n",
              "      <th>bedrooms</th>\n",
              "      <th>total_rooms</th>\n",
              "      <th>full_baths</th>\n",
              "      <th>is_apt</th>\n",
              "      <th>cooc_count</th>\n",
              "      <th>ppsqft</th>\n",
              "    </tr>\n",
              "    <tr>\n",
              "      <th>rex_url</th>\n",
              "      <th></th>\n",
              "      <th></th>\n",
              "      <th></th>\n",
              "      <th></th>\n",
              "      <th></th>\n",
              "      <th></th>\n",
              "      <th></th>\n",
              "      <th></th>\n",
              "    </tr>\n",
              "  </thead>\n",
              "  <tbody>\n",
              "    <tr>\n",
              "      <th>4799-converse-st</th>\n",
              "      <td>812.0</td>\n",
              "      <td>600,000.0</td>\n",
              "      <td>2.0</td>\n",
              "      <td>5.0</td>\n",
              "      <td>1.0</td>\n",
              "      <td>0.0</td>\n",
              "      <td>nan</td>\n",
              "      <td>738.9</td>\n",
              "    </tr>\n",
              "    <tr>\n",
              "      <th>244-s-avenue-24</th>\n",
              "      <td>972.0</td>\n",
              "      <td>450,000.0</td>\n",
              "      <td>2.0</td>\n",
              "      <td>5.0</td>\n",
              "      <td>1.0</td>\n",
              "      <td>0.0</td>\n",
              "      <td>30.0</td>\n",
              "      <td>463.0</td>\n",
              "    </tr>\n",
              "    <tr>\n",
              "      <th>814-e-graves-ave</th>\n",
              "      <td>1,126.0</td>\n",
              "      <td>635,000.0</td>\n",
              "      <td>3.0</td>\n",
              "      <td>7.0</td>\n",
              "      <td>2.0</td>\n",
              "      <td>0.0</td>\n",
              "      <td>13.0</td>\n",
              "      <td>563.9</td>\n",
              "    </tr>\n",
              "    <tr>\n",
              "      <th>945-acacia-ln</th>\n",
              "      <td>1,300.0</td>\n",
              "      <td>470,000.0</td>\n",
              "      <td>2.0</td>\n",
              "      <td>5.0</td>\n",
              "      <td>3.0</td>\n",
              "      <td>0.0</td>\n",
              "      <td>8.0</td>\n",
              "      <td>361.5</td>\n",
              "    </tr>\n",
              "    <tr>\n",
              "      <th>17719-posetano-rd</th>\n",
              "      <td>2,500.0</td>\n",
              "      <td>3,550,000.0</td>\n",
              "      <td>3.0</td>\n",
              "      <td>6.0</td>\n",
              "      <td>3.0</td>\n",
              "      <td>0.0</td>\n",
              "      <td>8.0</td>\n",
              "      <td>1,420.0</td>\n",
              "    </tr>\n",
              "    <tr>\n",
              "      <th>1501-camulos-ave</th>\n",
              "      <td>2,112.0</td>\n",
              "      <td>1,288,000.0</td>\n",
              "      <td>3.0</td>\n",
              "      <td>10.0</td>\n",
              "      <td>3.0</td>\n",
              "      <td>0.0</td>\n",
              "      <td>8.0</td>\n",
              "      <td>609.8</td>\n",
              "    </tr>\n",
              "    <tr>\n",
              "      <th>6345-colbath-ave</th>\n",
              "      <td>1,633.0</td>\n",
              "      <td>779,000.0</td>\n",
              "      <td>3.0</td>\n",
              "      <td>7.0</td>\n",
              "      <td>2.0</td>\n",
              "      <td>0.0</td>\n",
              "      <td>8.0</td>\n",
              "      <td>477.0</td>\n",
              "    </tr>\n",
              "    <tr>\n",
              "      <th>14833-canna-valley-st</th>\n",
              "      <td>1,263.0</td>\n",
              "      <td>535,000.0</td>\n",
              "      <td>3.0</td>\n",
              "      <td>5.0</td>\n",
              "      <td>2.0</td>\n",
              "      <td>0.0</td>\n",
              "      <td>7.0</td>\n",
              "      <td>423.6</td>\n",
              "    </tr>\n",
              "    <tr>\n",
              "      <th>1238-valiant-st</th>\n",
              "      <td>2,792.0</td>\n",
              "      <td>435,000.0</td>\n",
              "      <td>5.0</td>\n",
              "      <td>8.0</td>\n",
              "      <td>3.0</td>\n",
              "      <td>0.0</td>\n",
              "      <td>7.0</td>\n",
              "      <td>155.8</td>\n",
              "    </tr>\n",
              "    <tr>\n",
              "      <th>416-s-spring-st-apt-509</th>\n",
              "      <td>1,300.0</td>\n",
              "      <td>923,500.0</td>\n",
              "      <td>2.0</td>\n",
              "      <td>6.0</td>\n",
              "      <td>2.0</td>\n",
              "      <td>1.0</td>\n",
              "      <td>6.0</td>\n",
              "      <td>710.4</td>\n",
              "    </tr>\n",
              "    <tr>\n",
              "      <th>2148-beachwood-ter</th>\n",
              "      <td>3,032.0</td>\n",
              "      <td>1,995,000.0</td>\n",
              "      <td>6.0</td>\n",
              "      <td>9.0</td>\n",
              "      <td>4.0</td>\n",
              "      <td>0.0</td>\n",
              "      <td>6.0</td>\n",
              "      <td>658.0</td>\n",
              "    </tr>\n",
              "    <tr>\n",
              "      <th>4522-whitsett-ave</th>\n",
              "      <td>2,103.0</td>\n",
              "      <td>1,799,000.0</td>\n",
              "      <td>4.0</td>\n",
              "      <td>9.0</td>\n",
              "      <td>4.0</td>\n",
              "      <td>0.0</td>\n",
              "      <td>5.0</td>\n",
              "      <td>855.4</td>\n",
              "    </tr>\n",
              "    <tr>\n",
              "      <th>711-orange-grove-ave-unit-9</th>\n",
              "      <td>1,028.0</td>\n",
              "      <td>495,000.0</td>\n",
              "      <td>2.0</td>\n",
              "      <td>5.0</td>\n",
              "      <td>2.0</td>\n",
              "      <td>1.0</td>\n",
              "      <td>5.0</td>\n",
              "      <td>481.5</td>\n",
              "    </tr>\n",
              "    <tr>\n",
              "      <th>801-lorraine-blvd-apt-103</th>\n",
              "      <td>1,337.0</td>\n",
              "      <td>800,000.0</td>\n",
              "      <td>2.0</td>\n",
              "      <td>7.0</td>\n",
              "      <td>2.0</td>\n",
              "      <td>1.0</td>\n",
              "      <td>5.0</td>\n",
              "      <td>598.4</td>\n",
              "    </tr>\n",
              "    <tr>\n",
              "      <th>1030-e-15th-st-long-beach</th>\n",
              "      <td>1,128.0</td>\n",
              "      <td>525,000.0</td>\n",
              "      <td>2.0</td>\n",
              "      <td>4.0</td>\n",
              "      <td>2.0</td>\n",
              "      <td>0.0</td>\n",
              "      <td>4.0</td>\n",
              "      <td>465.4</td>\n",
              "    </tr>\n",
              "  </tbody>\n",
              "</table>\n",
              "</div>"
            ],
            "text/plain": [
              "                               sqft       price  ...  cooc_count  ppsqft\n",
              "rex_url                                          ...                    \n",
              "4799-converse-st              812.0   600,000.0  ...         nan   738.9\n",
              "244-s-avenue-24               972.0   450,000.0  ...        30.0   463.0\n",
              "814-e-graves-ave            1,126.0   635,000.0  ...        13.0   563.9\n",
              "945-acacia-ln               1,300.0   470,000.0  ...         8.0   361.5\n",
              "17719-posetano-rd           2,500.0 3,550,000.0  ...         8.0 1,420.0\n",
              "1501-camulos-ave            2,112.0 1,288,000.0  ...         8.0   609.8\n",
              "6345-colbath-ave            1,633.0   779,000.0  ...         8.0   477.0\n",
              "14833-canna-valley-st       1,263.0   535,000.0  ...         7.0   423.6\n",
              "1238-valiant-st             2,792.0   435,000.0  ...         7.0   155.8\n",
              "416-s-spring-st-apt-509     1,300.0   923,500.0  ...         6.0   710.4\n",
              "2148-beachwood-ter          3,032.0 1,995,000.0  ...         6.0   658.0\n",
              "4522-whitsett-ave           2,103.0 1,799,000.0  ...         5.0   855.4\n",
              "711-orange-grove-ave-unit-9 1,028.0   495,000.0  ...         5.0   481.5\n",
              "801-lorraine-blvd-apt-103   1,337.0   800,000.0  ...         5.0   598.4\n",
              "1030-e-15th-st-long-beach   1,128.0   525,000.0  ...         4.0   465.4\n",
              "\n",
              "[15 rows x 8 columns]"
            ]
          },
          "metadata": {
            "tags": []
          },
          "execution_count": 82
        }
      ]
    },
    {
      "cell_type": "markdown",
      "metadata": {
        "id": "AKkiw-X84pwC"
      },
      "source": [
        "# Triplets"
      ]
    },
    {
      "cell_type": "code",
      "metadata": {
        "id": "PipqfmbLfbIR"
      },
      "source": [
        "all_houses = list(set(df_web_la['rexUrl']))"
      ],
      "execution_count": 83,
      "outputs": []
    },
    {
      "cell_type": "code",
      "metadata": {
        "id": "ib1JHN-rKei0"
      },
      "source": [
        "from itertools import repeat\n",
        "import random\n",
        "random.seed(297)\n",
        "co_occurences = window_occurences.copy()\n",
        "\n",
        "# Creating a dictionary, where each key is a listing, and the values are a list of other houses it has appeared with\n",
        "# houses that it has appeared with multiple times are repeated\n",
        "\n",
        "listing_cooc_dict = {}\n",
        "listing_neg_dict = {}\n",
        "\n",
        "for housename in list(co_occurences.keys()):\n",
        "  # Set of listings it appeared with\n",
        "  appeared_with = list(co_occurences[housename].keys())\n",
        "\n",
        "  # Ordered tuple pairings of listings it appeared with\n",
        "  sorted_cooc_tuples = co_occurences[housename].most_common()\n",
        "  cooc_rep_list = []\n",
        "  for other_listing, count_together in sorted_cooc_tuples:\n",
        "    if(other_listing==housename):\n",
        "      continue\n",
        "    else:\n",
        "      repeated = list(repeat(other_listing,count_together))\n",
        "      cooc_rep_list.extend(repeated)\n",
        "\n",
        "  \n",
        "  # Set of listings it didn't appear with\n",
        "  appeared_with.append(housename)\n",
        "  didnt_appear_with = list(set(all_houses)-set(appeared_with))\n",
        "  n_appearswith = len(cooc_rep_list)\n",
        "  n_didntappearwith = len(didnt_appear_with)\n",
        "  \n",
        "  #if appeared with more than didnt appear with, swap them so you can still sample\n",
        "  if(n_didntappearwith<n_appearswith):\n",
        "    n_appearswith = n_didntappearwith\n",
        "\n",
        "  sample_nocooc = random.sample(didnt_appear_with,n_appearswith)\n",
        "\n",
        "  listing_cooc_dict[housename] = cooc_rep_list\n",
        "  listing_neg_dict[housename] = sample_nocooc\n",
        "\n"
      ],
      "execution_count": 84,
      "outputs": []
    },
    {
      "cell_type": "code",
      "metadata": {
        "id": "HpFeUf3eS_Um"
      },
      "source": [
        "# Compile list of triplets\n",
        "triplets = []\n",
        "for listing in listing_cooc_dict.keys():\n",
        "  #if list is empty (no coocs), dont add it\n",
        "  if not listing_cooc_dict[listing]:\n",
        "    continue\n",
        "  for pos, neg in zip(listing_cooc_dict[listing],listing_neg_dict[listing]):\n",
        "    triplets.append([listing,pos,neg])"
      ],
      "execution_count": 85,
      "outputs": []
    },
    {
      "cell_type": "code",
      "metadata": {
        "id": "Hal8sWOwWyMk",
        "colab": {
          "base_uri": "https://localhost:8080/",
          "height": 373
        },
        "outputId": "6fd3af25-843c-4d5a-f241-7769b22185a5"
      },
      "source": [
        "triplets_df = pd.DataFrame(triplets, columns = ['anchor', 'positive','negative'])\n",
        "print(triplets_df.shape)\n",
        "triplets_df.tail(10)"
      ],
      "execution_count": 86,
      "outputs": [
        {
          "output_type": "stream",
          "text": [
            "(81584, 3)\n"
          ],
          "name": "stdout"
        },
        {
          "output_type": "execute_result",
          "data": {
            "text/html": [
              "<div>\n",
              "<style scoped>\n",
              "    .dataframe tbody tr th:only-of-type {\n",
              "        vertical-align: middle;\n",
              "    }\n",
              "\n",
              "    .dataframe tbody tr th {\n",
              "        vertical-align: top;\n",
              "    }\n",
              "\n",
              "    .dataframe thead th {\n",
              "        text-align: right;\n",
              "    }\n",
              "</style>\n",
              "<table border=\"1\" class=\"dataframe\">\n",
              "  <thead>\n",
              "    <tr style=\"text-align: right;\">\n",
              "      <th></th>\n",
              "      <th>anchor</th>\n",
              "      <th>positive</th>\n",
              "      <th>negative</th>\n",
              "    </tr>\n",
              "  </thead>\n",
              "  <tbody>\n",
              "    <tr>\n",
              "      <th>81574</th>\n",
              "      <td>18543-victory-blvd</td>\n",
              "      <td>1330-s-ynez-ave</td>\n",
              "      <td>19250-knapp-st</td>\n",
              "    </tr>\n",
              "    <tr>\n",
              "      <th>81575</th>\n",
              "      <td>2307-ashland-ave</td>\n",
              "      <td>8719-topanga-canyon-blvd</td>\n",
              "      <td>21857-alamogordo-rd</td>\n",
              "    </tr>\n",
              "    <tr>\n",
              "      <th>81576</th>\n",
              "      <td>2307-ashland-ave</td>\n",
              "      <td>5902-finecrest-dr</td>\n",
              "      <td>7250-franklin-ave-unit-303</td>\n",
              "    </tr>\n",
              "    <tr>\n",
              "      <th>81577</th>\n",
              "      <td>2307-ashland-ave</td>\n",
              "      <td>1417-e-maple-st</td>\n",
              "      <td>18645-hatteras-st-unit-174</td>\n",
              "    </tr>\n",
              "    <tr>\n",
              "      <th>81578</th>\n",
              "      <td>28710-indies-ln</td>\n",
              "      <td>16321-janine-dr</td>\n",
              "      <td>1120-n-dixie-dr</td>\n",
              "    </tr>\n",
              "    <tr>\n",
              "      <th>81579</th>\n",
              "      <td>28710-indies-ln</td>\n",
              "      <td>8450-denise-ln</td>\n",
              "      <td>24453-brook-ct</td>\n",
              "    </tr>\n",
              "    <tr>\n",
              "      <th>81580</th>\n",
              "      <td>28710-indies-ln</td>\n",
              "      <td>1506-lynoak-dr</td>\n",
              "      <td>11218-camarillo-st-apt-104</td>\n",
              "    </tr>\n",
              "    <tr>\n",
              "      <th>81581</th>\n",
              "      <td>14033-mar-vista-st</td>\n",
              "      <td>15225-santa-gertrudes-ave-apt-p104</td>\n",
              "      <td>2227-e-alaska-st</td>\n",
              "    </tr>\n",
              "    <tr>\n",
              "      <th>81582</th>\n",
              "      <td>14033-mar-vista-st</td>\n",
              "      <td>945-acacia-ln</td>\n",
              "      <td>22010-barrington-way</td>\n",
              "    </tr>\n",
              "    <tr>\n",
              "      <th>81583</th>\n",
              "      <td>14033-mar-vista-st</td>\n",
              "      <td>814-e-graves-ave</td>\n",
              "      <td>19423-radlett-ave</td>\n",
              "    </tr>\n",
              "  </tbody>\n",
              "</table>\n",
              "</div>"
            ],
            "text/plain": [
              "                   anchor  ...                    negative\n",
              "81574  18543-victory-blvd  ...              19250-knapp-st\n",
              "81575    2307-ashland-ave  ...         21857-alamogordo-rd\n",
              "81576    2307-ashland-ave  ...  7250-franklin-ave-unit-303\n",
              "81577    2307-ashland-ave  ...  18645-hatteras-st-unit-174\n",
              "81578     28710-indies-ln  ...             1120-n-dixie-dr\n",
              "81579     28710-indies-ln  ...              24453-brook-ct\n",
              "81580     28710-indies-ln  ...  11218-camarillo-st-apt-104\n",
              "81581  14033-mar-vista-st  ...            2227-e-alaska-st\n",
              "81582  14033-mar-vista-st  ...        22010-barrington-way\n",
              "81583  14033-mar-vista-st  ...           19423-radlett-ave\n",
              "\n",
              "[10 rows x 3 columns]"
            ]
          },
          "metadata": {
            "tags": []
          },
          "execution_count": 86
        }
      ]
    },
    {
      "cell_type": "code",
      "metadata": {
        "colab": {
          "base_uri": "https://localhost:8080/",
          "height": 49
        },
        "id": "iFf9aqiHzmr6",
        "outputId": "78fc1ec7-43a3-4230-fb43-5b2c86ad5926"
      },
      "source": [
        "triplets_df[triplets_df.anchor==triplets_df.negative]"
      ],
      "execution_count": 87,
      "outputs": [
        {
          "output_type": "execute_result",
          "data": {
            "text/html": [
              "<div>\n",
              "<style scoped>\n",
              "    .dataframe tbody tr th:only-of-type {\n",
              "        vertical-align: middle;\n",
              "    }\n",
              "\n",
              "    .dataframe tbody tr th {\n",
              "        vertical-align: top;\n",
              "    }\n",
              "\n",
              "    .dataframe thead th {\n",
              "        text-align: right;\n",
              "    }\n",
              "</style>\n",
              "<table border=\"1\" class=\"dataframe\">\n",
              "  <thead>\n",
              "    <tr style=\"text-align: right;\">\n",
              "      <th></th>\n",
              "      <th>anchor</th>\n",
              "      <th>positive</th>\n",
              "      <th>negative</th>\n",
              "    </tr>\n",
              "  </thead>\n",
              "  <tbody>\n",
              "  </tbody>\n",
              "</table>\n",
              "</div>"
            ],
            "text/plain": [
              "Empty DataFrame\n",
              "Columns: [anchor, positive, negative]\n",
              "Index: []"
            ]
          },
          "metadata": {
            "tags": []
          },
          "execution_count": 87
        }
      ]
    },
    {
      "cell_type": "code",
      "metadata": {
        "colab": {
          "base_uri": "https://localhost:8080/",
          "height": 49
        },
        "id": "4SfX-0IUztgj",
        "outputId": "48e34845-c51a-4944-c153-61fd3aa784ce"
      },
      "source": [
        "triplets_df[triplets_df.anchor==triplets_df.positive]"
      ],
      "execution_count": 88,
      "outputs": [
        {
          "output_type": "execute_result",
          "data": {
            "text/html": [
              "<div>\n",
              "<style scoped>\n",
              "    .dataframe tbody tr th:only-of-type {\n",
              "        vertical-align: middle;\n",
              "    }\n",
              "\n",
              "    .dataframe tbody tr th {\n",
              "        vertical-align: top;\n",
              "    }\n",
              "\n",
              "    .dataframe thead th {\n",
              "        text-align: right;\n",
              "    }\n",
              "</style>\n",
              "<table border=\"1\" class=\"dataframe\">\n",
              "  <thead>\n",
              "    <tr style=\"text-align: right;\">\n",
              "      <th></th>\n",
              "      <th>anchor</th>\n",
              "      <th>positive</th>\n",
              "      <th>negative</th>\n",
              "    </tr>\n",
              "  </thead>\n",
              "  <tbody>\n",
              "  </tbody>\n",
              "</table>\n",
              "</div>"
            ],
            "text/plain": [
              "Empty DataFrame\n",
              "Columns: [anchor, positive, negative]\n",
              "Index: []"
            ]
          },
          "metadata": {
            "tags": []
          },
          "execution_count": 88
        }
      ]
    },
    {
      "cell_type": "code",
      "metadata": {
        "colab": {
          "base_uri": "https://localhost:8080/",
          "height": 49
        },
        "id": "phqgMAPdzv3t",
        "outputId": "cb15cb74-d215-476f-88d1-a7d53684d69c"
      },
      "source": [
        "triplets_df[triplets_df.positive==triplets_df.negative]"
      ],
      "execution_count": 89,
      "outputs": [
        {
          "output_type": "execute_result",
          "data": {
            "text/html": [
              "<div>\n",
              "<style scoped>\n",
              "    .dataframe tbody tr th:only-of-type {\n",
              "        vertical-align: middle;\n",
              "    }\n",
              "\n",
              "    .dataframe tbody tr th {\n",
              "        vertical-align: top;\n",
              "    }\n",
              "\n",
              "    .dataframe thead th {\n",
              "        text-align: right;\n",
              "    }\n",
              "</style>\n",
              "<table border=\"1\" class=\"dataframe\">\n",
              "  <thead>\n",
              "    <tr style=\"text-align: right;\">\n",
              "      <th></th>\n",
              "      <th>anchor</th>\n",
              "      <th>positive</th>\n",
              "      <th>negative</th>\n",
              "    </tr>\n",
              "  </thead>\n",
              "  <tbody>\n",
              "  </tbody>\n",
              "</table>\n",
              "</div>"
            ],
            "text/plain": [
              "Empty DataFrame\n",
              "Columns: [anchor, positive, negative]\n",
              "Index: []"
            ]
          },
          "metadata": {
            "tags": []
          },
          "execution_count": 89
        }
      ]
    },
    {
      "cell_type": "code",
      "metadata": {
        "id": "NyX7EyqGk8iO",
        "colab": {
          "base_uri": "https://localhost:8080/"
        },
        "outputId": "aa0730a2-d265-4d2e-a096-61e7da6d88ac"
      },
      "source": [
        "triplets_df.anchor.nunique()"
      ],
      "execution_count": 90,
      "outputs": [
        {
          "output_type": "execute_result",
          "data": {
            "text/plain": [
              "504"
            ]
          },
          "metadata": {
            "tags": []
          },
          "execution_count": 90
        }
      ]
    },
    {
      "cell_type": "code",
      "metadata": {
        "id": "6DvLeYvAQFFr"
      },
      "source": [
        "# triplets_df.to_csv(\"triplets_LA.csv\", index=False)"
      ],
      "execution_count": 91,
      "outputs": []
    },
    {
      "cell_type": "markdown",
      "metadata": {
        "id": "qf3DbCJ0X80I"
      },
      "source": [
        "## Case study check"
      ]
    },
    {
      "cell_type": "code",
      "metadata": {
        "colab": {
          "base_uri": "https://localhost:8080/",
          "height": 816
        },
        "id": "6vozZlbKYt0G",
        "outputId": "e41f7ab6-51d8-43ab-a864-9a3cd3737463"
      },
      "source": [
        "triplets_df[triplets_df.anchor=='5506-softwind-way']"
      ],
      "execution_count": 93,
      "outputs": [
        {
          "output_type": "execute_result",
          "data": {
            "text/html": [
              "<div>\n",
              "<style scoped>\n",
              "    .dataframe tbody tr th:only-of-type {\n",
              "        vertical-align: middle;\n",
              "    }\n",
              "\n",
              "    .dataframe tbody tr th {\n",
              "        vertical-align: top;\n",
              "    }\n",
              "\n",
              "    .dataframe thead th {\n",
              "        text-align: right;\n",
              "    }\n",
              "</style>\n",
              "<table border=\"1\" class=\"dataframe\">\n",
              "  <thead>\n",
              "    <tr style=\"text-align: right;\">\n",
              "      <th></th>\n",
              "      <th>anchor</th>\n",
              "      <th>positive</th>\n",
              "      <th>negative</th>\n",
              "    </tr>\n",
              "  </thead>\n",
              "  <tbody>\n",
              "    <tr>\n",
              "      <th>78773</th>\n",
              "      <td>5506-softwind-way</td>\n",
              "      <td>9619-rex-rd</td>\n",
              "      <td>23360-happy-valley-dr</td>\n",
              "    </tr>\n",
              "    <tr>\n",
              "      <th>78774</th>\n",
              "      <td>5506-softwind-way</td>\n",
              "      <td>9619-rex-rd</td>\n",
              "      <td>15729-celtic-st</td>\n",
              "    </tr>\n",
              "    <tr>\n",
              "      <th>78775</th>\n",
              "      <td>5506-softwind-way</td>\n",
              "      <td>6345-colbath-ave</td>\n",
              "      <td>2003-w-115th-st</td>\n",
              "    </tr>\n",
              "    <tr>\n",
              "      <th>78776</th>\n",
              "      <td>5506-softwind-way</td>\n",
              "      <td>16321-janine-dr</td>\n",
              "      <td>6209-pacific-ave-unit-101</td>\n",
              "    </tr>\n",
              "    <tr>\n",
              "      <th>78777</th>\n",
              "      <td>5506-softwind-way</td>\n",
              "      <td>535-geneva-st</td>\n",
              "      <td>844-e-meadbrook-st</td>\n",
              "    </tr>\n",
              "    <tr>\n",
              "      <th>78778</th>\n",
              "      <td>5506-softwind-way</td>\n",
              "      <td>1215-e-carson-st-apt-20</td>\n",
              "      <td>26106-alizia-canyon-dr-unit-f</td>\n",
              "    </tr>\n",
              "    <tr>\n",
              "      <th>78779</th>\n",
              "      <td>5506-softwind-way</td>\n",
              "      <td>8520-wilbur-ave</td>\n",
              "      <td>19348-laroda-ln</td>\n",
              "    </tr>\n",
              "    <tr>\n",
              "      <th>78780</th>\n",
              "      <td>5506-softwind-way</td>\n",
              "      <td>623-n-lucerne-blvd</td>\n",
              "      <td>126-e-80th-st</td>\n",
              "    </tr>\n",
              "    <tr>\n",
              "      <th>78781</th>\n",
              "      <td>5506-softwind-way</td>\n",
              "      <td>124-n-canyon-blvd</td>\n",
              "      <td>8313-cheyenne-st</td>\n",
              "    </tr>\n",
              "    <tr>\n",
              "      <th>78782</th>\n",
              "      <td>5506-softwind-way</td>\n",
              "      <td>3640-candor-st</td>\n",
              "      <td>15259-golden-ct</td>\n",
              "    </tr>\n",
              "    <tr>\n",
              "      <th>78783</th>\n",
              "      <td>5506-softwind-way</td>\n",
              "      <td>20131-romar-st</td>\n",
              "      <td>945-acacia-ln</td>\n",
              "    </tr>\n",
              "    <tr>\n",
              "      <th>78784</th>\n",
              "      <td>5506-softwind-way</td>\n",
              "      <td>3001-hollywell-pl</td>\n",
              "      <td>1238-valiant-st</td>\n",
              "    </tr>\n",
              "    <tr>\n",
              "      <th>78785</th>\n",
              "      <td>5506-softwind-way</td>\n",
              "      <td>1507-benedict-ave</td>\n",
              "      <td>1030-e-15th-st-long-beach</td>\n",
              "    </tr>\n",
              "    <tr>\n",
              "      <th>78786</th>\n",
              "      <td>5506-softwind-way</td>\n",
              "      <td>10029-nevada-ave</td>\n",
              "      <td>1230-horn-ave-apt-410</td>\n",
              "    </tr>\n",
              "    <tr>\n",
              "      <th>78787</th>\n",
              "      <td>5506-softwind-way</td>\n",
              "      <td>13815-lubican-st</td>\n",
              "      <td>4730-holly-ave</td>\n",
              "    </tr>\n",
              "    <tr>\n",
              "      <th>78788</th>\n",
              "      <td>5506-softwind-way</td>\n",
              "      <td>7800-topanga-canyon-blvd-apt-201</td>\n",
              "      <td>7100-playa-vista-dr-unit-309</td>\n",
              "    </tr>\n",
              "    <tr>\n",
              "      <th>78789</th>\n",
              "      <td>5506-softwind-way</td>\n",
              "      <td>36144-37th-st-e</td>\n",
              "      <td>7250-franklin-ave-unit-303</td>\n",
              "    </tr>\n",
              "    <tr>\n",
              "      <th>78790</th>\n",
              "      <td>5506-softwind-way</td>\n",
              "      <td>1112-poppy-dr</td>\n",
              "      <td>807-e-93rd-st</td>\n",
              "    </tr>\n",
              "    <tr>\n",
              "      <th>78791</th>\n",
              "      <td>5506-softwind-way</td>\n",
              "      <td>9323-alcott-st-apt-101</td>\n",
              "      <td>27803-zion-ct</td>\n",
              "    </tr>\n",
              "    <tr>\n",
              "      <th>78792</th>\n",
              "      <td>5506-softwind-way</td>\n",
              "      <td>1517-s-van-ness-ave</td>\n",
              "      <td>6210-s-van-ness-ave</td>\n",
              "    </tr>\n",
              "    <tr>\n",
              "      <th>78793</th>\n",
              "      <td>5506-softwind-way</td>\n",
              "      <td>5861-parkmor-rd</td>\n",
              "      <td>27332-weathersfield-dr</td>\n",
              "    </tr>\n",
              "    <tr>\n",
              "      <th>78794</th>\n",
              "      <td>5506-softwind-way</td>\n",
              "      <td>18724-vista-del-canon-unit-b</td>\n",
              "      <td>19423-radlett-ave</td>\n",
              "    </tr>\n",
              "    <tr>\n",
              "      <th>78795</th>\n",
              "      <td>5506-softwind-way</td>\n",
              "      <td>5500-lindley-ave-unit-224</td>\n",
              "      <td>150-twilight-vista-dr</td>\n",
              "    </tr>\n",
              "    <tr>\n",
              "      <th>78796</th>\n",
              "      <td>5506-softwind-way</td>\n",
              "      <td>5268-lindley-ave</td>\n",
              "      <td>5718-ravenspur-dr-unit-106</td>\n",
              "    </tr>\n",
              "    <tr>\n",
              "      <th>78797</th>\n",
              "      <td>5506-softwind-way</td>\n",
              "      <td>18730-hatteras-st-unit-16</td>\n",
              "      <td>6335-green-valley-cir</td>\n",
              "    </tr>\n",
              "  </tbody>\n",
              "</table>\n",
              "</div>"
            ],
            "text/plain": [
              "                  anchor  ...                       negative\n",
              "78773  5506-softwind-way  ...          23360-happy-valley-dr\n",
              "78774  5506-softwind-way  ...                15729-celtic-st\n",
              "78775  5506-softwind-way  ...                2003-w-115th-st\n",
              "78776  5506-softwind-way  ...      6209-pacific-ave-unit-101\n",
              "78777  5506-softwind-way  ...             844-e-meadbrook-st\n",
              "78778  5506-softwind-way  ...  26106-alizia-canyon-dr-unit-f\n",
              "78779  5506-softwind-way  ...                19348-laroda-ln\n",
              "78780  5506-softwind-way  ...                  126-e-80th-st\n",
              "78781  5506-softwind-way  ...               8313-cheyenne-st\n",
              "78782  5506-softwind-way  ...                15259-golden-ct\n",
              "78783  5506-softwind-way  ...                  945-acacia-ln\n",
              "78784  5506-softwind-way  ...                1238-valiant-st\n",
              "78785  5506-softwind-way  ...      1030-e-15th-st-long-beach\n",
              "78786  5506-softwind-way  ...          1230-horn-ave-apt-410\n",
              "78787  5506-softwind-way  ...                 4730-holly-ave\n",
              "78788  5506-softwind-way  ...   7100-playa-vista-dr-unit-309\n",
              "78789  5506-softwind-way  ...     7250-franklin-ave-unit-303\n",
              "78790  5506-softwind-way  ...                  807-e-93rd-st\n",
              "78791  5506-softwind-way  ...                  27803-zion-ct\n",
              "78792  5506-softwind-way  ...            6210-s-van-ness-ave\n",
              "78793  5506-softwind-way  ...         27332-weathersfield-dr\n",
              "78794  5506-softwind-way  ...              19423-radlett-ave\n",
              "78795  5506-softwind-way  ...          150-twilight-vista-dr\n",
              "78796  5506-softwind-way  ...     5718-ravenspur-dr-unit-106\n",
              "78797  5506-softwind-way  ...          6335-green-valley-cir\n",
              "\n",
              "[25 rows x 3 columns]"
            ]
          },
          "metadata": {
            "tags": []
          },
          "execution_count": 93
        }
      ]
    },
    {
      "cell_type": "code",
      "metadata": {
        "colab": {
          "base_uri": "https://localhost:8080/"
        },
        "id": "I_ojridTY4OB",
        "outputId": "ee94ad28-fcb4-4cac-ea9d-9340a69c08a2"
      },
      "source": [
        "co_occurences['5506-softwind-way'].most_common()"
      ],
      "execution_count": 94,
      "outputs": [
        {
          "output_type": "execute_result",
          "data": {
            "text/plain": [
              "[('9619-rex-rd', 2),\n",
              " ('6345-colbath-ave', 1),\n",
              " ('16321-janine-dr', 1),\n",
              " ('535-geneva-st', 1),\n",
              " ('1215-e-carson-st-apt-20', 1),\n",
              " ('8520-wilbur-ave', 1),\n",
              " ('623-n-lucerne-blvd', 1),\n",
              " ('124-n-canyon-blvd', 1),\n",
              " ('3640-candor-st', 1),\n",
              " ('20131-romar-st', 1),\n",
              " ('3001-hollywell-pl', 1),\n",
              " ('1507-benedict-ave', 1),\n",
              " ('10029-nevada-ave', 1),\n",
              " ('13815-lubican-st', 1),\n",
              " ('7800-topanga-canyon-blvd-apt-201', 1),\n",
              " ('36144-37th-st-e', 1),\n",
              " ('1112-poppy-dr', 1),\n",
              " ('9323-alcott-st-apt-101', 1),\n",
              " ('1517-s-van-ness-ave', 1),\n",
              " ('5861-parkmor-rd', 1),\n",
              " ('18724-vista-del-canon-unit-b', 1),\n",
              " ('5500-lindley-ave-unit-224', 1),\n",
              " ('5268-lindley-ave', 1),\n",
              " ('18730-hatteras-st-unit-16', 1)]"
            ]
          },
          "metadata": {
            "tags": []
          },
          "execution_count": 94
        }
      ]
    },
    {
      "cell_type": "markdown",
      "metadata": {
        "id": "WTclIJD9Yz4l"
      },
      "source": [
        "## Bring in processed LA data"
      ]
    },
    {
      "cell_type": "code",
      "metadata": {
        "id": "Uo7_xIqBZl5M"
      },
      "source": [
        "listing_rexurl = listing_data.copy()\n",
        "listing_rexurl.set_index('rex_url',inplace=True)"
      ],
      "execution_count": 95,
      "outputs": []
    },
    {
      "cell_type": "code",
      "metadata": {
        "id": "ID_phvOvhNxc"
      },
      "source": [
        "listing_dict = listing_rexurl.to_dict(orient='index')"
      ],
      "execution_count": 96,
      "outputs": []
    },
    {
      "cell_type": "code",
      "metadata": {
        "id": "Y1eWMntmQkKF"
      },
      "source": [
        "# import pickle\n",
        "\n",
        "# # save co-occurance house\n",
        "# f = open(\"listing_cooc_dict.pkl\",\"wb\")\n",
        "# pickle.dump(listing_cooc_dict,f)\n",
        "# f.close()\n",
        "\n",
        "# # save house features\n",
        "# f = open(\"listing_dict.pkl\",\"wb\")\n",
        "# pickle.dump(listing_dict,f)\n",
        "# f.close()"
      ],
      "execution_count": 97,
      "outputs": []
    },
    {
      "cell_type": "code",
      "metadata": {
        "id": "3wJvlFsQnfYU"
      },
      "source": [
        "triplets_data = triplets_df.copy()\n",
        "miss_list=[]\n",
        "\n",
        "anchor_list = []\n",
        "pos_list = []\n",
        "neg_list = []\n",
        "\n",
        "for idx, row in triplets_data.iterrows():\n",
        "  anchor_data = listing_dict.get((row['anchor']))\n",
        "  pos_data = listing_dict.get(row['positive'])\n",
        "  neg_data = listing_dict.get(row['negative'])\n",
        "\n",
        "  if(None in [anchor_data, pos_data, neg_data]):\n",
        "    miss_list.append(idx)\n",
        "\n",
        "  else:\n",
        "    # print(anchor_data)\n",
        "    row['anchor'] = list(anchor_data.values())\n",
        "    anchor_list.append(list(anchor_data.values()))\n",
        "\n",
        "    row['positive'] = list(pos_data.values())\n",
        "    pos_list.append(list(pos_data.values()))\n",
        "\n",
        "    row['negative'] = list(neg_data.values())\n",
        "    neg_list.append(list(neg_data.values()))\n"
      ],
      "execution_count": 98,
      "outputs": []
    },
    {
      "cell_type": "code",
      "metadata": {
        "colab": {
          "base_uri": "https://localhost:8080/"
        },
        "id": "P4qP-KI20d0Q",
        "outputId": "7db66115-c86a-4b37-814d-c9ebf2590042"
      },
      "source": [
        "miss_list"
      ],
      "execution_count": 99,
      "outputs": [
        {
          "output_type": "execute_result",
          "data": {
            "text/plain": [
              "[]"
            ]
          },
          "metadata": {
            "tags": []
          },
          "execution_count": 99
        }
      ]
    },
    {
      "cell_type": "code",
      "metadata": {
        "id": "rVJDq56neAgl"
      },
      "source": [
        "triplets_data.drop(index=miss_list,inplace=True)"
      ],
      "execution_count": 100,
      "outputs": []
    },
    {
      "cell_type": "code",
      "metadata": {
        "id": "Hy9we_9dqMbz",
        "colab": {
          "base_uri": "https://localhost:8080/",
          "height": 202
        },
        "outputId": "2f4ceea4-f8fb-40f8-f8ed-31dc54a0f426"
      },
      "source": [
        "triplets_data.head()"
      ],
      "execution_count": 101,
      "outputs": [
        {
          "output_type": "execute_result",
          "data": {
            "text/html": [
              "<div>\n",
              "<style scoped>\n",
              "    .dataframe tbody tr th:only-of-type {\n",
              "        vertical-align: middle;\n",
              "    }\n",
              "\n",
              "    .dataframe tbody tr th {\n",
              "        vertical-align: top;\n",
              "    }\n",
              "\n",
              "    .dataframe thead th {\n",
              "        text-align: right;\n",
              "    }\n",
              "</style>\n",
              "<table border=\"1\" class=\"dataframe\">\n",
              "  <thead>\n",
              "    <tr style=\"text-align: right;\">\n",
              "      <th></th>\n",
              "      <th>anchor</th>\n",
              "      <th>positive</th>\n",
              "      <th>negative</th>\n",
              "    </tr>\n",
              "  </thead>\n",
              "  <tbody>\n",
              "    <tr>\n",
              "      <th>0</th>\n",
              "      <td>[3.0, 2, 0, 1, 1, 0, 1, 3.0, 3.0, 0.0, 1966.0,...</td>\n",
              "      <td>[2.0, 1, 0, 0, 0, 0, 0, 3.0, 2.0, 0.0, 1948.0,...</td>\n",
              "      <td>[2.0, 1, 1, 1, 1, 0, 1, 3.0, 2.0, 0.0, 1998.0,...</td>\n",
              "    </tr>\n",
              "    <tr>\n",
              "      <th>1</th>\n",
              "      <td>[3.0, 2, 0, 1, 1, 0, 1, 3.0, 3.0, 0.0, 1966.0,...</td>\n",
              "      <td>[2.0, 1, 0, 0, 0, 0, 0, 3.0, 2.0, 0.0, 1948.0,...</td>\n",
              "      <td>[2.0, 1, 0, 0, 0, 0, 0, 3.0, 2.0, 0.0, 1969.0,...</td>\n",
              "    </tr>\n",
              "    <tr>\n",
              "      <th>2</th>\n",
              "      <td>[3.0, 2, 0, 1, 1, 0, 1, 3.0, 3.0, 0.0, 1966.0,...</td>\n",
              "      <td>[2.0, 1, 0, 0, 0, 0, 0, 3.0, 2.0, 0.0, 1948.0,...</td>\n",
              "      <td>[2.0, 1, 0, 0, 0, 0, 0, 3.0, 2.0, 0.0, 1952.0,...</td>\n",
              "    </tr>\n",
              "    <tr>\n",
              "      <th>3</th>\n",
              "      <td>[3.0, 2, 0, 1, 1, 0, 1, 3.0, 3.0, 0.0, 1966.0,...</td>\n",
              "      <td>[2.0, 1, 0, 0, 0, 0, 0, 3.0, 2.0, 0.0, 1948.0,...</td>\n",
              "      <td>[3.0, 2, 0, 0, 0, 0, 0, 4.0, 3.0, 0.0, 1986.0,...</td>\n",
              "    </tr>\n",
              "    <tr>\n",
              "      <th>4</th>\n",
              "      <td>[3.0, 2, 0, 1, 1, 0, 1, 3.0, 3.0, 0.0, 1966.0,...</td>\n",
              "      <td>[2.0, 1, 0, 0, 0, 0, 0, 3.0, 2.0, 0.0, 1948.0,...</td>\n",
              "      <td>[2.0, 1, 0, 0, 0, 0, 0, 2.0, 2.0, 0.0, 1941.0,...</td>\n",
              "    </tr>\n",
              "  </tbody>\n",
              "</table>\n",
              "</div>"
            ],
            "text/plain": [
              "                                              anchor  ...                                           negative\n",
              "0  [3.0, 2, 0, 1, 1, 0, 1, 3.0, 3.0, 0.0, 1966.0,...  ...  [2.0, 1, 1, 1, 1, 0, 1, 3.0, 2.0, 0.0, 1998.0,...\n",
              "1  [3.0, 2, 0, 1, 1, 0, 1, 3.0, 3.0, 0.0, 1966.0,...  ...  [2.0, 1, 0, 0, 0, 0, 0, 3.0, 2.0, 0.0, 1969.0,...\n",
              "2  [3.0, 2, 0, 1, 1, 0, 1, 3.0, 3.0, 0.0, 1966.0,...  ...  [2.0, 1, 0, 0, 0, 0, 0, 3.0, 2.0, 0.0, 1952.0,...\n",
              "3  [3.0, 2, 0, 1, 1, 0, 1, 3.0, 3.0, 0.0, 1966.0,...  ...  [3.0, 2, 0, 0, 0, 0, 0, 4.0, 3.0, 0.0, 1986.0,...\n",
              "4  [3.0, 2, 0, 1, 1, 0, 1, 3.0, 3.0, 0.0, 1966.0,...  ...  [2.0, 1, 0, 0, 0, 0, 0, 2.0, 2.0, 0.0, 1941.0,...\n",
              "\n",
              "[5 rows x 3 columns]"
            ]
          },
          "metadata": {
            "tags": []
          },
          "execution_count": 101
        }
      ]
    },
    {
      "cell_type": "code",
      "metadata": {
        "id": "I1yvKYHEeJwk",
        "colab": {
          "base_uri": "https://localhost:8080/"
        },
        "outputId": "3105e1b3-e5cf-44f3-9183-267226280095"
      },
      "source": [
        "triplets_data.shape"
      ],
      "execution_count": 102,
      "outputs": [
        {
          "output_type": "execute_result",
          "data": {
            "text/plain": [
              "(81584, 3)"
            ]
          },
          "metadata": {
            "tags": []
          },
          "execution_count": 102
        }
      ]
    },
    {
      "cell_type": "code",
      "metadata": {
        "id": "F1nz_R1A-EWZ"
      },
      "source": [
        "np.save('anchor_data_window_3fix',np.array(anchor_list))\n",
        "np.save('pos_data_window_3fix',np.array(pos_list))\n",
        "np.save('neg_data_window_3fix',np.array(neg_list))\n",
        "\n",
        "# np.save('anchor_data_window_full',np.array(anchor_list))\n",
        "# np.save('pos_data_window_full',np.array(pos_list))\n",
        "# np.save('neg_data_window_full',np.array(neg_list))\n",
        "\n",
        "# np.save('anchor_data_3window_full',np.array(anchor_list))\n",
        "# np.save('pos_data_3window_full',np.array(pos_list))\n",
        "# np.save('neg_data_3window_full',np.array(neg_list))"
      ],
      "execution_count": 103,
      "outputs": []
    },
    {
      "cell_type": "code",
      "metadata": {
        "id": "suKsjU-zn0w_"
      },
      "source": [
        "import pickle\n",
        "\n",
        "with open('listing_cooc_3fix.pkl', 'wb') as handle:\n",
        "    pickle.dump(listing_cooc_dict,handle)"
      ],
      "execution_count": 104,
      "outputs": []
    },
    {
      "cell_type": "markdown",
      "metadata": {
        "id": "d8Oyd8pV0_RE"
      },
      "source": [
        "##Pairings (anchor-pos, anchor-neg) for Tree"
      ]
    },
    {
      "cell_type": "code",
      "metadata": {
        "colab": {
          "base_uri": "https://localhost:8080/",
          "height": 202
        },
        "id": "qP2ugPcg0_5U",
        "outputId": "133c2784-8b59-42bf-c358-13e935f05cb6"
      },
      "source": [
        "triplets_df.head()"
      ],
      "execution_count": 105,
      "outputs": [
        {
          "output_type": "execute_result",
          "data": {
            "text/html": [
              "<div>\n",
              "<style scoped>\n",
              "    .dataframe tbody tr th:only-of-type {\n",
              "        vertical-align: middle;\n",
              "    }\n",
              "\n",
              "    .dataframe tbody tr th {\n",
              "        vertical-align: top;\n",
              "    }\n",
              "\n",
              "    .dataframe thead th {\n",
              "        text-align: right;\n",
              "    }\n",
              "</style>\n",
              "<table border=\"1\" class=\"dataframe\">\n",
              "  <thead>\n",
              "    <tr style=\"text-align: right;\">\n",
              "      <th></th>\n",
              "      <th>anchor</th>\n",
              "      <th>positive</th>\n",
              "      <th>negative</th>\n",
              "    </tr>\n",
              "  </thead>\n",
              "  <tbody>\n",
              "    <tr>\n",
              "      <th>0</th>\n",
              "      <td>28710-indies-ln-canyon-country</td>\n",
              "      <td>6345-colbath-ave</td>\n",
              "      <td>4335-penca-ave</td>\n",
              "    </tr>\n",
              "    <tr>\n",
              "      <th>1</th>\n",
              "      <td>28710-indies-ln-canyon-country</td>\n",
              "      <td>6345-colbath-ave</td>\n",
              "      <td>5506-softwind-way</td>\n",
              "    </tr>\n",
              "    <tr>\n",
              "      <th>2</th>\n",
              "      <td>28710-indies-ln-canyon-country</td>\n",
              "      <td>6345-colbath-ave</td>\n",
              "      <td>6025-fallbrook-ave</td>\n",
              "    </tr>\n",
              "    <tr>\n",
              "      <th>3</th>\n",
              "      <td>28710-indies-ln-canyon-country</td>\n",
              "      <td>6345-colbath-ave</td>\n",
              "      <td>23360-happy-valley-dr</td>\n",
              "    </tr>\n",
              "    <tr>\n",
              "      <th>4</th>\n",
              "      <td>28710-indies-ln-canyon-country</td>\n",
              "      <td>6345-colbath-ave</td>\n",
              "      <td>930-ohio-ave</td>\n",
              "    </tr>\n",
              "  </tbody>\n",
              "</table>\n",
              "</div>"
            ],
            "text/plain": [
              "                           anchor          positive               negative\n",
              "0  28710-indies-ln-canyon-country  6345-colbath-ave         4335-penca-ave\n",
              "1  28710-indies-ln-canyon-country  6345-colbath-ave      5506-softwind-way\n",
              "2  28710-indies-ln-canyon-country  6345-colbath-ave     6025-fallbrook-ave\n",
              "3  28710-indies-ln-canyon-country  6345-colbath-ave  23360-happy-valley-dr\n",
              "4  28710-indies-ln-canyon-country  6345-colbath-ave           930-ohio-ave"
            ]
          },
          "metadata": {
            "tags": []
          },
          "execution_count": 105
        }
      ]
    },
    {
      "cell_type": "code",
      "metadata": {
        "id": "8IAo-It-1Am0"
      },
      "source": [
        "no_dups = triplets_df.copy()\n",
        "no_dups.drop_duplicates(['anchor','positive'],inplace=True)"
      ],
      "execution_count": 106,
      "outputs": []
    },
    {
      "cell_type": "code",
      "metadata": {
        "colab": {
          "base_uri": "https://localhost:8080/"
        },
        "id": "geAblqnV4tDS",
        "outputId": "9f7c8613-bb24-403e-b64e-70de6d117603"
      },
      "source": [
        "positive_pairs = no_dups[['anchor','positive']].copy()\n",
        "positive_pairs = positive_pairs.merge(listing_data,left_on='anchor',right_on='rex_url')\n",
        "positive_pairs = positive_pairs.merge(listing_data,left_on='positive',right_on='rex_url',suffixes=('_anchor','_pair'))\n",
        "positive_pairs.drop(['rex_url_anchor','rex_url_pair'],axis=1,inplace=True)\n",
        "positive_pairs.shape"
      ],
      "execution_count": 107,
      "outputs": [
        {
          "output_type": "execute_result",
          "data": {
            "text/plain": [
              "(16678, 156)"
            ]
          },
          "metadata": {
            "tags": []
          },
          "execution_count": 107
        }
      ]
    },
    {
      "cell_type": "code",
      "metadata": {
        "colab": {
          "base_uri": "https://localhost:8080/"
        },
        "id": "joQbx03W6j_a",
        "outputId": "25e06642-1f8a-4213-cbda-14391e5b0b77"
      },
      "source": [
        "negative_pairs = no_dups[['anchor','negative']].copy()\n",
        "negative_pairs = negative_pairs.merge(listing_data,left_on='anchor',right_on='rex_url')\n",
        "negative_pairs = negative_pairs.merge(listing_data,left_on='negative',right_on='rex_url',suffixes=('_anchor','_pair'))\n",
        "negative_pairs.drop(['rex_url_anchor','rex_url_pair'],axis=1,inplace=True)\n",
        "negative_pairs.shape"
      ],
      "execution_count": 108,
      "outputs": [
        {
          "output_type": "execute_result",
          "data": {
            "text/plain": [
              "(16678, 156)"
            ]
          },
          "metadata": {
            "tags": []
          },
          "execution_count": 108
        }
      ]
    },
    {
      "cell_type": "code",
      "metadata": {
        "id": "YNwOquti6j9L"
      },
      "source": [
        "positive_pairs.to_pickle('positive_pairs_3fix.pkl')\n",
        "negative_pairs.to_pickle('negative_pairs_3fix.pkl')\n",
        "\n",
        "# positive_pairs.to_pickle('positive_3pairs_full.pkl')\n",
        "# negative_pairs.to_pickle('negative_3pairs_full.pkl')"
      ],
      "execution_count": 109,
      "outputs": []
    },
    {
      "cell_type": "markdown",
      "metadata": {
        "id": "adfM_jeeZkZw"
      },
      "source": [
        "### Keep duplicates"
      ]
    },
    {
      "cell_type": "code",
      "metadata": {
        "colab": {
          "base_uri": "https://localhost:8080/"
        },
        "id": "JXSZBPRdZQY5",
        "outputId": "c073a1f1-3ec8-48c7-f268-dbb530b5eab4"
      },
      "source": [
        "positive_pairs_w = triplets_df[['anchor','positive']].copy()\n",
        "positive_pairs_w = positive_pairs_w.merge(listing_data,left_on='anchor',right_on='rex_url')\n",
        "positive_pairs_w = positive_pairs_w.merge(listing_data,left_on='positive',right_on='rex_url',suffixes=('_anchor','_pair'))\n",
        "positive_pairs_w.drop(['rex_url_anchor','rex_url_pair'],axis=1,inplace=True)\n",
        "positive_pairs_w.shape"
      ],
      "execution_count": 110,
      "outputs": [
        {
          "output_type": "execute_result",
          "data": {
            "text/plain": [
              "(81584, 156)"
            ]
          },
          "metadata": {
            "tags": []
          },
          "execution_count": 110
        }
      ]
    },
    {
      "cell_type": "code",
      "metadata": {
        "colab": {
          "base_uri": "https://localhost:8080/"
        },
        "id": "l-IOQPhtZpVJ",
        "outputId": "5d1fd50f-33d6-4415-d015-26c19186f806"
      },
      "source": [
        "negative_pairs_w = triplets_df[['anchor','negative']].copy()\n",
        "negative_pairs_w = negative_pairs_w.merge(listing_data,left_on='anchor',right_on='rex_url')\n",
        "negative_pairs_w = negative_pairs_w.merge(listing_data,left_on='negative',right_on='rex_url',suffixes=('_anchor','_pair'))\n",
        "negative_pairs_w.drop(['rex_url_anchor','rex_url_pair'],axis=1,inplace=True)\n",
        "negative_pairs_w.shape"
      ],
      "execution_count": 111,
      "outputs": [
        {
          "output_type": "execute_result",
          "data": {
            "text/plain": [
              "(81584, 156)"
            ]
          },
          "metadata": {
            "tags": []
          },
          "execution_count": 111
        }
      ]
    },
    {
      "cell_type": "code",
      "metadata": {
        "id": "Pdx7TYjfZxw0"
      },
      "source": [
        "positive_pairs_w.to_pickle('positive_pairs_3fix_wdups.pkl')\n",
        "negative_pairs_w.to_pickle('negative_pairs_3fix_wdups.pkl')\n",
        "\n",
        "# positive_pairs_w.to_pickle('positive_3pairs_full_wdups.pkl')\n",
        "# negative_pairs_w.to_pickle('negative_3pairs_full_wdups.pkl')"
      ],
      "execution_count": 112,
      "outputs": []
    }
  ]
}