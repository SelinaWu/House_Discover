{
 "cells": [
  {
   "cell_type": "code",
   "execution_count": 1,
   "metadata": {},
   "outputs": [],
   "source": [
    "import numpy as np\n",
    "import pandas as pd\n",
    "import matplotlib.pyplot as plt\n",
    "import seaborn as sns\n",
    "pd.set_option('display.max_columns', None)\n",
    "pd.set_option('display.max_rows', None)"
   ]
  },
  {
   "cell_type": "markdown",
   "metadata": {},
   "source": [
    "Load in both listings and address datasets"
   ]
  },
  {
   "cell_type": "code",
   "execution_count": 2,
   "metadata": {},
   "outputs": [
    {
     "name": "stderr",
     "output_type": "stream",
     "text": [
      "/Users/nikhilvanderklaauw/opt/anaconda3/envs/datasci/lib/python3.7/site-packages/IPython/core/interactiveshell.py:3146: DtypeWarning: Columns (25,44) have mixed types.Specify dtype option on import or set low_memory=False.\n",
      "  interactivity=interactivity, compiler=compiler, result=result)\n",
      "/Users/nikhilvanderklaauw/opt/anaconda3/envs/datasci/lib/python3.7/site-packages/IPython/core/interactiveshell.py:3146: DtypeWarning: Columns (5) have mixed types.Specify dtype option on import or set low_memory=False.\n",
      "  interactivity=interactivity, compiler=compiler, result=result)\n"
     ]
    }
   ],
   "source": [
    "listings = pd.read_csv('rex_discover_2020-10-01/listing.csv')\n",
    "addr = pd.read_csv('rex_discover_2020-10-01/address.csv')"
   ]
  },
  {
   "cell_type": "code",
   "execution_count": 3,
   "metadata": {},
   "outputs": [
    {
     "name": "stdout",
     "output_type": "stream",
     "text": [
      "(129153, 45)\n",
      "Unique Address IDs 128963\n",
      "Duplicates 190\n"
     ]
    },
    {
     "data": {
      "text/html": [
       "<div>\n",
       "<style scoped>\n",
       "    .dataframe tbody tr th:only-of-type {\n",
       "        vertical-align: middle;\n",
       "    }\n",
       "\n",
       "    .dataframe tbody tr th {\n",
       "        vertical-align: top;\n",
       "    }\n",
       "\n",
       "    .dataframe thead th {\n",
       "        text-align: right;\n",
       "    }\n",
       "</style>\n",
       "<table border=\"1\" class=\"dataframe\">\n",
       "  <thead>\n",
       "    <tr style=\"text-align: right;\">\n",
       "      <th></th>\n",
       "      <th>id</th>\n",
       "      <th>guid</th>\n",
       "      <th>created</th>\n",
       "      <th>updated</th>\n",
       "      <th>address_id</th>\n",
       "      <th>bedrooms</th>\n",
       "      <th>coming_soon_date</th>\n",
       "      <th>competitive_bidding_expiration_date</th>\n",
       "      <th>county</th>\n",
       "      <th>description</th>\n",
       "      <th>engagement_agreement_end</th>\n",
       "      <th>engagement_agreement_start</th>\n",
       "      <th>full_baths</th>\n",
       "      <th>grade</th>\n",
       "      <th>half_baths</th>\n",
       "      <th>hoa_fee</th>\n",
       "      <th>land_square_footage</th>\n",
       "      <th>latitude</th>\n",
       "      <th>listed_date</th>\n",
       "      <th>living_square_feet</th>\n",
       "      <th>longitude</th>\n",
       "      <th>loss_date</th>\n",
       "      <th>loss_type</th>\n",
       "      <th>market</th>\n",
       "      <th>marketing_budget</th>\n",
       "      <th>marketing_status</th>\n",
       "      <th>neighborhood</th>\n",
       "      <th>on_mls</th>\n",
       "      <th>price</th>\n",
       "      <th>property_type</th>\n",
       "      <th>publish_date</th>\n",
       "      <th>rex_url</th>\n",
       "      <th>sales</th>\n",
       "      <th>school_district_id</th>\n",
       "      <th>school_district_name</th>\n",
       "      <th>signed_date</th>\n",
       "      <th>sold_date</th>\n",
       "      <th>status</th>\n",
       "      <th>stories</th>\n",
       "      <th>timezone_id</th>\n",
       "      <th>total_baths</th>\n",
       "      <th>total_baths_calculated</th>\n",
       "      <th>total_rooms</th>\n",
       "      <th>year_built</th>\n",
       "      <th>geom</th>\n",
       "    </tr>\n",
       "  </thead>\n",
       "  <tbody>\n",
       "    <tr>\n",
       "      <th>0</th>\n",
       "      <td>3</td>\n",
       "      <td>7a51c98bb10b4f04a3ef19e6ca6605a1</td>\n",
       "      <td>2015-03-30 21:20:17</td>\n",
       "      <td>2018-02-21 21:14:36</td>\n",
       "      <td>4</td>\n",
       "      <td>4.0</td>\n",
       "      <td>NaN</td>\n",
       "      <td>2016-05-12 10:00:44</td>\n",
       "      <td>Ventura</td>\n",
       "      <td>Single story, 4 bedrooms, 3 baths, plus bonus ...</td>\n",
       "      <td>2015-09-08</td>\n",
       "      <td>2015-04-08</td>\n",
       "      <td>NaN</td>\n",
       "      <td>NaN</td>\n",
       "      <td>NaN</td>\n",
       "      <td>NaN</td>\n",
       "      <td>21300.0</td>\n",
       "      <td>34.198950</td>\n",
       "      <td>2015-05-01</td>\n",
       "      <td>2932.0</td>\n",
       "      <td>-118.899352</td>\n",
       "      <td>NaN</td>\n",
       "      <td>NaN</td>\n",
       "      <td>VC</td>\n",
       "      <td>LOW</td>\n",
       "      <td>0</td>\n",
       "      <td>NaN</td>\n",
       "      <td>0</td>\n",
       "      <td>980000.0</td>\n",
       "      <td>SINGLE</td>\n",
       "      <td>2015-05-01 00:00:00</td>\n",
       "      <td>1335-calle-pecos</td>\n",
       "      <td>VC</td>\n",
       "      <td>NaN</td>\n",
       "      <td>NaN</td>\n",
       "      <td>NaN</td>\n",
       "      <td>2015-09-11</td>\n",
       "      <td>SOLD</td>\n",
       "      <td>1.0</td>\n",
       "      <td>America/Los_Angeles</td>\n",
       "      <td>3.0</td>\n",
       "      <td>NaN</td>\n",
       "      <td>8.0</td>\n",
       "      <td>1963.0</td>\n",
       "      <td>NaN</td>\n",
       "    </tr>\n",
       "    <tr>\n",
       "      <th>1</th>\n",
       "      <td>22</td>\n",
       "      <td>63390d5e80d94d62875224a90d599f2f</td>\n",
       "      <td>2015-04-22 19:34:25</td>\n",
       "      <td>2015-04-22 19:34:26</td>\n",
       "      <td>20</td>\n",
       "      <td>3.0</td>\n",
       "      <td>NaN</td>\n",
       "      <td>NaN</td>\n",
       "      <td>Los Angeles</td>\n",
       "      <td>NaN</td>\n",
       "      <td>NaN</td>\n",
       "      <td>NaN</td>\n",
       "      <td>2.0</td>\n",
       "      <td>NaN</td>\n",
       "      <td>0.0</td>\n",
       "      <td>NaN</td>\n",
       "      <td>4549.0</td>\n",
       "      <td>34.015585</td>\n",
       "      <td>NaN</td>\n",
       "      <td>1274.0</td>\n",
       "      <td>-118.409200</td>\n",
       "      <td>NaN</td>\n",
       "      <td>NaN</td>\n",
       "      <td>LA</td>\n",
       "      <td>LOW</td>\n",
       "      <td>0</td>\n",
       "      <td>NaN</td>\n",
       "      <td>0</td>\n",
       "      <td>NaN</td>\n",
       "      <td>SINGLE</td>\n",
       "      <td>2015-04-22 19:34:26</td>\n",
       "      <td>3848-spad-pl</td>\n",
       "      <td>LA</td>\n",
       "      <td>NaN</td>\n",
       "      <td>NaN</td>\n",
       "      <td>NaN</td>\n",
       "      <td>NaN</td>\n",
       "      <td>PREVIEW</td>\n",
       "      <td>0.0</td>\n",
       "      <td>America/Los_Angeles</td>\n",
       "      <td>2.0</td>\n",
       "      <td>2.0</td>\n",
       "      <td>0.0</td>\n",
       "      <td>1947.0</td>\n",
       "      <td>NaN</td>\n",
       "    </tr>\n",
       "  </tbody>\n",
       "</table>\n",
       "</div>"
      ],
      "text/plain": [
       "   id                              guid              created  \\\n",
       "0   3  7a51c98bb10b4f04a3ef19e6ca6605a1  2015-03-30 21:20:17   \n",
       "1  22  63390d5e80d94d62875224a90d599f2f  2015-04-22 19:34:25   \n",
       "\n",
       "               updated  address_id  bedrooms coming_soon_date  \\\n",
       "0  2018-02-21 21:14:36           4       4.0              NaN   \n",
       "1  2015-04-22 19:34:26          20       3.0              NaN   \n",
       "\n",
       "  competitive_bidding_expiration_date       county  \\\n",
       "0                 2016-05-12 10:00:44      Ventura   \n",
       "1                                 NaN  Los Angeles   \n",
       "\n",
       "                                         description engagement_agreement_end  \\\n",
       "0  Single story, 4 bedrooms, 3 baths, plus bonus ...               2015-09-08   \n",
       "1                                                NaN                      NaN   \n",
       "\n",
       "  engagement_agreement_start  full_baths grade  half_baths  hoa_fee  \\\n",
       "0                 2015-04-08         NaN   NaN         NaN      NaN   \n",
       "1                        NaN         2.0   NaN         0.0      NaN   \n",
       "\n",
       "   land_square_footage   latitude listed_date  living_square_feet   longitude  \\\n",
       "0              21300.0  34.198950  2015-05-01              2932.0 -118.899352   \n",
       "1               4549.0  34.015585         NaN              1274.0 -118.409200   \n",
       "\n",
       "  loss_date loss_type market marketing_budget marketing_status neighborhood  \\\n",
       "0       NaN       NaN     VC              LOW                0          NaN   \n",
       "1       NaN       NaN     LA              LOW                0          NaN   \n",
       "\n",
       "   on_mls     price property_type         publish_date           rex_url  \\\n",
       "0       0  980000.0        SINGLE  2015-05-01 00:00:00  1335-calle-pecos   \n",
       "1       0       NaN        SINGLE  2015-04-22 19:34:26      3848-spad-pl   \n",
       "\n",
       "  sales  school_district_id school_district_name signed_date   sold_date  \\\n",
       "0    VC                 NaN                  NaN         NaN  2015-09-11   \n",
       "1    LA                 NaN                  NaN         NaN         NaN   \n",
       "\n",
       "    status  stories          timezone_id  total_baths  total_baths_calculated  \\\n",
       "0     SOLD      1.0  America/Los_Angeles          3.0                     NaN   \n",
       "1  PREVIEW      0.0  America/Los_Angeles          2.0                     2.0   \n",
       "\n",
       "   total_rooms  year_built geom  \n",
       "0          8.0      1963.0  NaN  \n",
       "1          0.0      1947.0  NaN  "
      ]
     },
     "execution_count": 3,
     "metadata": {},
     "output_type": "execute_result"
    }
   ],
   "source": [
    "print(listings.shape)\n",
    "print('Unique Address IDs', listings['address_id'].nunique())\n",
    "print('Duplicates',listings.shape[0]-listings['address_id'].nunique())\n",
    "listings.head(2)"
   ]
  },
  {
   "cell_type": "code",
   "execution_count": 4,
   "metadata": {},
   "outputs": [
    {
     "name": "stdout",
     "output_type": "stream",
     "text": [
      "(128950, 8)\n",
      "Unique Address IDs 128950\n",
      "Duplicates 0\n"
     ]
    },
    {
     "data": {
      "text/html": [
       "<div>\n",
       "<style scoped>\n",
       "    .dataframe tbody tr th:only-of-type {\n",
       "        vertical-align: middle;\n",
       "    }\n",
       "\n",
       "    .dataframe tbody tr th {\n",
       "        vertical-align: top;\n",
       "    }\n",
       "\n",
       "    .dataframe thead th {\n",
       "        text-align: right;\n",
       "    }\n",
       "</style>\n",
       "<table border=\"1\" class=\"dataframe\">\n",
       "  <thead>\n",
       "    <tr style=\"text-align: right;\">\n",
       "      <th></th>\n",
       "      <th>id</th>\n",
       "      <th>guid</th>\n",
       "      <th>address_line</th>\n",
       "      <th>city</th>\n",
       "      <th>state</th>\n",
       "      <th>postal_code</th>\n",
       "      <th>created</th>\n",
       "      <th>updated</th>\n",
       "    </tr>\n",
       "  </thead>\n",
       "  <tbody>\n",
       "    <tr>\n",
       "      <th>0</th>\n",
       "      <td>360</td>\n",
       "      <td>75bb16cdde1e40d3bacfcde645ffa1b2</td>\n",
       "      <td>1245 Cordova St Apt 301</td>\n",
       "      <td>Pasadena</td>\n",
       "      <td>CA</td>\n",
       "      <td>91106</td>\n",
       "      <td>2016-05-21 15:30:03</td>\n",
       "      <td>2016-05-21 15:30:03</td>\n",
       "    </tr>\n",
       "    <tr>\n",
       "      <th>1</th>\n",
       "      <td>361</td>\n",
       "      <td>27972de492f4441fbc62a55908b9ba79</td>\n",
       "      <td>216 S Madison Ave Apt 205</td>\n",
       "      <td>Pasadena</td>\n",
       "      <td>CA</td>\n",
       "      <td>91101</td>\n",
       "      <td>2016-05-21 16:44:31</td>\n",
       "      <td>2016-05-21 16:44:31</td>\n",
       "    </tr>\n",
       "  </tbody>\n",
       "</table>\n",
       "</div>"
      ],
      "text/plain": [
       "    id                              guid               address_line      city  \\\n",
       "0  360  75bb16cdde1e40d3bacfcde645ffa1b2    1245 Cordova St Apt 301  Pasadena   \n",
       "1  361  27972de492f4441fbc62a55908b9ba79  216 S Madison Ave Apt 205  Pasadena   \n",
       "\n",
       "  state postal_code              created              updated  \n",
       "0    CA       91106  2016-05-21 15:30:03  2016-05-21 15:30:03  \n",
       "1    CA       91101  2016-05-21 16:44:31  2016-05-21 16:44:31  "
      ]
     },
     "execution_count": 4,
     "metadata": {},
     "output_type": "execute_result"
    }
   ],
   "source": [
    "print(addr.shape)\n",
    "print('Unique Address IDs', addr['id'].nunique())\n",
    "print('Duplicates',addr.shape[0]-addr['id'].nunique())\n",
    "addr.head(2)"
   ]
  },
  {
   "cell_type": "code",
   "execution_count": 5,
   "metadata": {},
   "outputs": [],
   "source": [
    "df_all = addr.merge(listings, how='inner', left_on='id', right_on='address_id')"
   ]
  },
  {
   "cell_type": "code",
   "execution_count": 6,
   "metadata": {},
   "outputs": [
    {
     "name": "stdout",
     "output_type": "stream",
     "text": [
      "(128998, 53)\n",
      "Duplicates 190\n"
     ]
    }
   ],
   "source": [
    "print(df_all.shape)\n",
    "print('Duplicates',df_all.shape[0]-df_all['address_id'].nunique())"
   ]
  },
  {
   "cell_type": "code",
   "execution_count": 7,
   "metadata": {},
   "outputs": [
    {
     "data": {
      "text/plain": [
       "Index(['id_x', 'guid_x', 'address_line', 'city', 'state', 'postal_code',\n",
       "       'created_x', 'updated_x', 'id_y', 'guid_y', 'created_y', 'updated_y',\n",
       "       'address_id', 'bedrooms', 'coming_soon_date',\n",
       "       'competitive_bidding_expiration_date', 'county', 'description',\n",
       "       'engagement_agreement_end', 'engagement_agreement_start', 'full_baths',\n",
       "       'grade', 'half_baths', 'hoa_fee', 'land_square_footage', 'latitude',\n",
       "       'listed_date', 'living_square_feet', 'longitude', 'loss_date',\n",
       "       'loss_type', 'market', 'marketing_budget', 'marketing_status',\n",
       "       'neighborhood', 'on_mls', 'price', 'property_type', 'publish_date',\n",
       "       'rex_url', 'sales', 'school_district_id', 'school_district_name',\n",
       "       'signed_date', 'sold_date', 'status', 'stories', 'timezone_id',\n",
       "       'total_baths', 'total_baths_calculated', 'total_rooms', 'year_built',\n",
       "       'geom'],\n",
       "      dtype='object')"
      ]
     },
     "execution_count": 7,
     "metadata": {},
     "output_type": "execute_result"
    }
   ],
   "source": [
    "df_all.columns"
   ]
  },
  {
   "cell_type": "markdown",
   "metadata": {},
   "source": [
    "### Subset to Suffolk County"
   ]
  },
  {
   "cell_type": "code",
   "execution_count": 8,
   "metadata": {},
   "outputs": [],
   "source": [
    "df_suffolk = df_all[(df_all.county.str.lower()=='suffolk') & (df_all.state=='MA')]"
   ]
  },
  {
   "cell_type": "code",
   "execution_count": 9,
   "metadata": {},
   "outputs": [
    {
     "name": "stdout",
     "output_type": "stream",
     "text": [
      "(260, 53)\n"
     ]
    }
   ],
   "source": [
    "print(df_suffolk.shape)"
   ]
  },
  {
   "cell_type": "markdown",
   "metadata": {},
   "source": [
    "## Column Missingness"
   ]
  },
  {
   "cell_type": "code",
   "execution_count": 10,
   "metadata": {},
   "outputs": [
    {
     "data": {
      "text/plain": [
       "geom                                   99.999225\n",
       "grade                                  98.521683\n",
       "sold_date                              98.396874\n",
       "neighborhood                           98.092218\n",
       "loss_date                              97.958883\n",
       "hoa_fee                                97.588335\n",
       "coming_soon_date                       96.775144\n",
       "engagement_agreement_end               96.173584\n",
       "engagement_agreement_start             96.172809\n",
       "listed_date                            96.098389\n",
       "signed_date                            96.050326\n",
       "loss_type                              95.423185\n",
       "description                            95.381324\n",
       "competitive_bidding_expiration_date    94.861161\n",
       "price                                  94.784415\n",
       "publish_date                           88.372688\n",
       "half_baths                             87.028481\n",
       "total_rooms                            55.967534\n",
       "bedrooms                               32.343137\n",
       "full_baths                             24.380223\n",
       "total_baths_calculated                 23.593389\n",
       "total_baths                            21.310408\n",
       "sales                                  19.615033\n",
       "market                                 19.608056\n",
       "living_square_feet                     18.508814\n",
       "year_built                             17.256081\n",
       "school_district_id                     16.493279\n",
       "school_district_name                   16.470023\n",
       "stories                                15.478535\n",
       "land_square_footage                    10.328067\n",
       "latitude                                0.342641\n",
       "longitude                               0.342641\n",
       "county                                  0.003876\n",
       "guid_y                                  0.000000\n",
       "created_x                               0.000000\n",
       "postal_code                             0.000000\n",
       "state                                   0.000000\n",
       "city                                    0.000000\n",
       "address_line                            0.000000\n",
       "guid_x                                  0.000000\n",
       "updated_x                               0.000000\n",
       "id_y                                    0.000000\n",
       "timezone_id                             0.000000\n",
       "created_y                               0.000000\n",
       "updated_y                               0.000000\n",
       "address_id                              0.000000\n",
       "status                                  0.000000\n",
       "marketing_budget                        0.000000\n",
       "marketing_status                        0.000000\n",
       "on_mls                                  0.000000\n",
       "property_type                           0.000000\n",
       "rex_url                                 0.000000\n",
       "id_x                                    0.000000\n",
       "dtype: float64"
      ]
     },
     "execution_count": 10,
     "metadata": {},
     "output_type": "execute_result"
    }
   ],
   "source": [
    "col_missing = ((df_all.isna().sum()/len(df_all))*100).sort_values(ascending=False)\n",
    "col_missing"
   ]
  },
  {
   "cell_type": "markdown",
   "metadata": {},
   "source": [
    "A bit surprising. Many columns almost 100% missing:\n",
    "* neighborhood\n",
    "* publish date, listed date\n",
    "* description\n",
    "* price\n",
    "* hoa_fee\n",
    "* bedrooms"
   ]
  },
  {
   "cell_type": "code",
   "execution_count": null,
   "metadata": {},
   "outputs": [],
   "source": []
  },
  {
   "cell_type": "code",
   "execution_count": 11,
   "metadata": {},
   "outputs": [
    {
     "data": {
      "image/png": "[encoded data removed]",
      "text/plain": [
       "<Figure size 720x432 with 1 Axes>"
      ]
     },
     "metadata": {
      "needs_background": "light"
     },
     "output_type": "display_data"
    }
   ],
   "source": [
    "plt.figure(figsize=(10,6))\n",
    "plt.hist(col_missing)\n",
    "plt.axvline(x=50, c=\"red\", ls=\"--\")\n",
    "plt.xlabel(\"NA Percentage\")\n",
    "plt.ylabel(\"Frequency\")\n",
    "plt.title(\"Data NA Frequency Distribution\")\n",
    "plt.show()"
   ]
  },
  {
   "cell_type": "markdown",
   "metadata": {},
   "source": [
    "## Drop columns with more than 50% missing"
   ]
  },
  {
   "cell_type": "code",
   "execution_count": 12,
   "metadata": {},
   "outputs": [],
   "source": [
    "dfs = df_suffolk.drop(list(col_missing[col_missing>50].index),axis=1)"
   ]
  },
  {
   "cell_type": "code",
   "execution_count": 13,
   "metadata": {},
   "outputs": [
    {
     "data": {
      "text/html": [
       "<div>\n",
       "<style scoped>\n",
       "    .dataframe tbody tr th:only-of-type {\n",
       "        vertical-align: middle;\n",
       "    }\n",
       "\n",
       "    .dataframe tbody tr th {\n",
       "        vertical-align: top;\n",
       "    }\n",
       "\n",
       "    .dataframe thead th {\n",
       "        text-align: right;\n",
       "    }\n",
       "</style>\n",
       "<table border=\"1\" class=\"dataframe\">\n",
       "  <thead>\n",
       "    <tr style=\"text-align: right;\">\n",
       "      <th></th>\n",
       "      <th>id_x</th>\n",
       "      <th>guid_x</th>\n",
       "      <th>address_line</th>\n",
       "      <th>city</th>\n",
       "      <th>state</th>\n",
       "      <th>postal_code</th>\n",
       "      <th>created_x</th>\n",
       "      <th>updated_x</th>\n",
       "      <th>id_y</th>\n",
       "      <th>guid_y</th>\n",
       "      <th>created_y</th>\n",
       "      <th>updated_y</th>\n",
       "      <th>address_id</th>\n",
       "      <th>bedrooms</th>\n",
       "      <th>county</th>\n",
       "      <th>full_baths</th>\n",
       "      <th>land_square_footage</th>\n",
       "      <th>latitude</th>\n",
       "      <th>living_square_feet</th>\n",
       "      <th>longitude</th>\n",
       "      <th>market</th>\n",
       "      <th>marketing_budget</th>\n",
       "      <th>marketing_status</th>\n",
       "      <th>on_mls</th>\n",
       "      <th>property_type</th>\n",
       "      <th>rex_url</th>\n",
       "      <th>sales</th>\n",
       "      <th>school_district_id</th>\n",
       "      <th>school_district_name</th>\n",
       "      <th>status</th>\n",
       "      <th>stories</th>\n",
       "      <th>timezone_id</th>\n",
       "      <th>total_baths</th>\n",
       "      <th>total_baths_calculated</th>\n",
       "      <th>year_built</th>\n",
       "    </tr>\n",
       "  </thead>\n",
       "  <tbody>\n",
       "    <tr>\n",
       "      <th>43505</th>\n",
       "      <td>44479</td>\n",
       "      <td>145d77f884df42998086ae47a2f756a6</td>\n",
       "      <td>35 Webster St Apt 302</td>\n",
       "      <td>East Boston</td>\n",
       "      <td>MA</td>\n",
       "      <td>2128</td>\n",
       "      <td>2019-04-20 15:18:41</td>\n",
       "      <td>2019-04-20 15:18:41</td>\n",
       "      <td>45322</td>\n",
       "      <td>4368b4c6c63a401fafdeeec31b90b1e8</td>\n",
       "      <td>2019-04-20 15:18:40.612000</td>\n",
       "      <td>2019-04-20 15:18:40.612000</td>\n",
       "      <td>44479</td>\n",
       "      <td>2.0</td>\n",
       "      <td>Suffolk</td>\n",
       "      <td>1.0</td>\n",
       "      <td>883.0</td>\n",
       "      <td>42.367181</td>\n",
       "      <td>883.0</td>\n",
       "      <td>-71.039099</td>\n",
       "      <td>BOS</td>\n",
       "      <td>LOW</td>\n",
       "      <td>0</td>\n",
       "      <td>0</td>\n",
       "      <td>CONDO</td>\n",
       "      <td>35-webster-st-apt-302</td>\n",
       "      <td>BOS</td>\n",
       "      <td>2502790.0</td>\n",
       "      <td>Boston School District</td>\n",
       "      <td>PREVIEW</td>\n",
       "      <td>1.0</td>\n",
       "      <td>America/New_York</td>\n",
       "      <td>1.0</td>\n",
       "      <td>1.0</td>\n",
       "      <td>1985.0</td>\n",
       "    </tr>\n",
       "    <tr>\n",
       "      <th>44009</th>\n",
       "      <td>44986</td>\n",
       "      <td>c6b3b15dc6964a59a20f120986117e7b</td>\n",
       "      <td>1204 Morton St</td>\n",
       "      <td>Mattapan</td>\n",
       "      <td>MA</td>\n",
       "      <td>2126</td>\n",
       "      <td>2019-04-23 23:57:17</td>\n",
       "      <td>2019-04-23 23:57:17</td>\n",
       "      <td>45829</td>\n",
       "      <td>7bb5993c939348f1b594c76d399e7254</td>\n",
       "      <td>2019-04-23 23:57:17.122000</td>\n",
       "      <td>2019-04-23 23:57:17.122000</td>\n",
       "      <td>44986</td>\n",
       "      <td>2.0</td>\n",
       "      <td>Suffolk</td>\n",
       "      <td>1.0</td>\n",
       "      <td>3385.0</td>\n",
       "      <td>42.274778</td>\n",
       "      <td>1214.0</td>\n",
       "      <td>-71.071313</td>\n",
       "      <td>BOS</td>\n",
       "      <td>LOW</td>\n",
       "      <td>0</td>\n",
       "      <td>0</td>\n",
       "      <td>SINGLE</td>\n",
       "      <td>1204-morton-st</td>\n",
       "      <td>BOS</td>\n",
       "      <td>2502790.0</td>\n",
       "      <td>Boston School District</td>\n",
       "      <td>PREVIEW</td>\n",
       "      <td>2.0</td>\n",
       "      <td>America/New_York</td>\n",
       "      <td>2.0</td>\n",
       "      <td>2.0</td>\n",
       "      <td>1920.0</td>\n",
       "    </tr>\n",
       "    <tr>\n",
       "      <th>44609</th>\n",
       "      <td>45590</td>\n",
       "      <td>d4e685ad98d2458b955b69fa365e0f33</td>\n",
       "      <td>198 Metropolitan Ave</td>\n",
       "      <td>Roslindale</td>\n",
       "      <td>MA</td>\n",
       "      <td>2131</td>\n",
       "      <td>2019-04-28 15:37:54</td>\n",
       "      <td>2019-04-28 15:37:54</td>\n",
       "      <td>46433</td>\n",
       "      <td>d6e75ab843a14a9085de5802a854e1b0</td>\n",
       "      <td>2019-04-28 15:37:53.832000</td>\n",
       "      <td>2019-04-28 15:37:53.832000</td>\n",
       "      <td>45590</td>\n",
       "      <td>3.0</td>\n",
       "      <td>Suffolk</td>\n",
       "      <td>1.0</td>\n",
       "      <td>14799.0</td>\n",
       "      <td>42.278081</td>\n",
       "      <td>2280.0</td>\n",
       "      <td>-71.127313</td>\n",
       "      <td>BOS</td>\n",
       "      <td>LOW</td>\n",
       "      <td>0</td>\n",
       "      <td>0</td>\n",
       "      <td>SINGLE</td>\n",
       "      <td>198-metropolitan-ave</td>\n",
       "      <td>BOS</td>\n",
       "      <td>2502790.0</td>\n",
       "      <td>Boston School District</td>\n",
       "      <td>PREVIEW</td>\n",
       "      <td>3.0</td>\n",
       "      <td>America/New_York</td>\n",
       "      <td>2.0</td>\n",
       "      <td>2.0</td>\n",
       "      <td>1910.0</td>\n",
       "    </tr>\n",
       "    <tr>\n",
       "      <th>45002</th>\n",
       "      <td>45986</td>\n",
       "      <td>52eb1763508642e5afc08efea8f89499</td>\n",
       "      <td>85 E India Row Apt 26d</td>\n",
       "      <td>Boston</td>\n",
       "      <td>MA</td>\n",
       "      <td>2110</td>\n",
       "      <td>2019-05-01 13:13:46</td>\n",
       "      <td>2019-05-01 13:13:46</td>\n",
       "      <td>46829</td>\n",
       "      <td>f239d7e541714f2387a17663d2ba77dd</td>\n",
       "      <td>2019-05-01 13:13:45.771000</td>\n",
       "      <td>2019-05-01 13:13:45.771000</td>\n",
       "      <td>45986</td>\n",
       "      <td>1.0</td>\n",
       "      <td>Suffolk</td>\n",
       "      <td>1.0</td>\n",
       "      <td>NaN</td>\n",
       "      <td>42.358376</td>\n",
       "      <td>749.0</td>\n",
       "      <td>-71.049001</td>\n",
       "      <td>BOS</td>\n",
       "      <td>LOW</td>\n",
       "      <td>0</td>\n",
       "      <td>0</td>\n",
       "      <td>CONDO</td>\n",
       "      <td>85-e-india-row-apt-26d</td>\n",
       "      <td>BOS</td>\n",
       "      <td>2502790.0</td>\n",
       "      <td>Boston School District</td>\n",
       "      <td>PREVIEW</td>\n",
       "      <td>1.0</td>\n",
       "      <td>America/New_York</td>\n",
       "      <td>1.0</td>\n",
       "      <td>1.0</td>\n",
       "      <td>1972.0</td>\n",
       "    </tr>\n",
       "    <tr>\n",
       "      <th>46372</th>\n",
       "      <td>47360</td>\n",
       "      <td>791ea996f7ce480a9a8a001b657b1491</td>\n",
       "      <td>10 Lesher St</td>\n",
       "      <td>Roslindale</td>\n",
       "      <td>MA</td>\n",
       "      <td>2131</td>\n",
       "      <td>2019-05-12 12:58:46</td>\n",
       "      <td>2019-05-12 12:58:46</td>\n",
       "      <td>48203</td>\n",
       "      <td>83eae477840a44a8b33c292b77d4d4da</td>\n",
       "      <td>2019-05-12 12:58:46.176000</td>\n",
       "      <td>2019-05-12 12:59:16.505000</td>\n",
       "      <td>47360</td>\n",
       "      <td>4.0</td>\n",
       "      <td>Suffolk</td>\n",
       "      <td>2.0</td>\n",
       "      <td>3999.0</td>\n",
       "      <td>42.292493</td>\n",
       "      <td>2151.0</td>\n",
       "      <td>-71.122719</td>\n",
       "      <td>BOS</td>\n",
       "      <td>LOW</td>\n",
       "      <td>0</td>\n",
       "      <td>0</td>\n",
       "      <td>MULTI_FAMILY</td>\n",
       "      <td>10-lesher-st</td>\n",
       "      <td>BOS</td>\n",
       "      <td>2502790.0</td>\n",
       "      <td>Boston School District</td>\n",
       "      <td>CLAIMED</td>\n",
       "      <td>2.0</td>\n",
       "      <td>America/New_York</td>\n",
       "      <td>2.0</td>\n",
       "      <td>2.0</td>\n",
       "      <td>1915.0</td>\n",
       "    </tr>\n",
       "  </tbody>\n",
       "</table>\n",
       "</div>"
      ],
      "text/plain": [
       "        id_x                            guid_x            address_line  \\\n",
       "43505  44479  145d77f884df42998086ae47a2f756a6   35 Webster St Apt 302   \n",
       "44009  44986  c6b3b15dc6964a59a20f120986117e7b          1204 Morton St   \n",
       "44609  45590  d4e685ad98d2458b955b69fa365e0f33    198 Metropolitan Ave   \n",
       "45002  45986  52eb1763508642e5afc08efea8f89499  85 E India Row Apt 26d   \n",
       "46372  47360  791ea996f7ce480a9a8a001b657b1491            10 Lesher St   \n",
       "\n",
       "              city state postal_code            created_x  \\\n",
       "43505  East Boston    MA        2128  2019-04-20 15:18:41   \n",
       "44009     Mattapan    MA        2126  2019-04-23 23:57:17   \n",
       "44609   Roslindale    MA        2131  2019-04-28 15:37:54   \n",
       "45002       Boston    MA        2110  2019-05-01 13:13:46   \n",
       "46372   Roslindale    MA        2131  2019-05-12 12:58:46   \n",
       "\n",
       "                 updated_x   id_y                            guid_y  \\\n",
       "43505  2019-04-20 15:18:41  45322  4368b4c6c63a401fafdeeec31b90b1e8   \n",
       "44009  2019-04-23 23:57:17  45829  7bb5993c939348f1b594c76d399e7254   \n",
       "44609  2019-04-28 15:37:54  46433  d6e75ab843a14a9085de5802a854e1b0   \n",
       "45002  2019-05-01 13:13:46  46829  f239d7e541714f2387a17663d2ba77dd   \n",
       "46372  2019-05-12 12:58:46  48203  83eae477840a44a8b33c292b77d4d4da   \n",
       "\n",
       "                        created_y                   updated_y  address_id  \\\n",
       "43505  2019-04-20 15:18:40.612000  2019-04-20 15:18:40.612000       44479   \n",
       "44009  2019-04-23 23:57:17.122000  2019-04-23 23:57:17.122000       44986   \n",
       "44609  2019-04-28 15:37:53.832000  2019-04-28 15:37:53.832000       45590   \n",
       "45002  2019-05-01 13:13:45.771000  2019-05-01 13:13:45.771000       45986   \n",
       "46372  2019-05-12 12:58:46.176000  2019-05-12 12:59:16.505000       47360   \n",
       "\n",
       "       bedrooms   county  full_baths  land_square_footage   latitude  \\\n",
       "43505       2.0  Suffolk         1.0                883.0  42.367181   \n",
       "44009       2.0  Suffolk         1.0               3385.0  42.274778   \n",
       "44609       3.0  Suffolk         1.0              14799.0  42.278081   \n",
       "45002       1.0  Suffolk         1.0                  NaN  42.358376   \n",
       "46372       4.0  Suffolk         2.0               3999.0  42.292493   \n",
       "\n",
       "       living_square_feet  longitude market marketing_budget marketing_status  \\\n",
       "43505               883.0 -71.039099    BOS              LOW                0   \n",
       "44009              1214.0 -71.071313    BOS              LOW                0   \n",
       "44609              2280.0 -71.127313    BOS              LOW                0   \n",
       "45002               749.0 -71.049001    BOS              LOW                0   \n",
       "46372              2151.0 -71.122719    BOS              LOW                0   \n",
       "\n",
       "       on_mls property_type                 rex_url sales  school_district_id  \\\n",
       "43505       0         CONDO   35-webster-st-apt-302   BOS           2502790.0   \n",
       "44009       0        SINGLE          1204-morton-st   BOS           2502790.0   \n",
       "44609       0        SINGLE    198-metropolitan-ave   BOS           2502790.0   \n",
       "45002       0         CONDO  85-e-india-row-apt-26d   BOS           2502790.0   \n",
       "46372       0  MULTI_FAMILY            10-lesher-st   BOS           2502790.0   \n",
       "\n",
       "         school_district_name   status  stories       timezone_id  \\\n",
       "43505  Boston School District  PREVIEW      1.0  America/New_York   \n",
       "44009  Boston School District  PREVIEW      2.0  America/New_York   \n",
       "44609  Boston School District  PREVIEW      3.0  America/New_York   \n",
       "45002  Boston School District  PREVIEW      1.0  America/New_York   \n",
       "46372  Boston School District  CLAIMED      2.0  America/New_York   \n",
       "\n",
       "       total_baths  total_baths_calculated  year_built  \n",
       "43505          1.0                     1.0      1985.0  \n",
       "44009          2.0                     2.0      1920.0  \n",
       "44609          2.0                     2.0      1910.0  \n",
       "45002          1.0                     1.0      1972.0  \n",
       "46372          2.0                     2.0      1915.0  "
      ]
     },
     "execution_count": 13,
     "metadata": {},
     "output_type": "execute_result"
    }
   ],
   "source": [
    "dfs.head()"
   ]
  },
  {
   "cell_type": "markdown",
   "metadata": {},
   "source": [
    "Potentially Useful:\n",
    "* City\n",
    "* Created\n",
    "* status (claimed, inactive, preview, sold)\n",
    "\n",
    "* land_square_footage\n",
    "* living_square_feet\n",
    "* property_type\n",
    "* year_built\n",
    "\n",
    "--\n",
    "* stories\n",
    "* bedrooms\n",
    "* total_rooms\n",
    "* full_baths\n",
    "* total_baths\n",
    "* total_baths_calculated"
   ]
  },
  {
   "cell_type": "code",
   "execution_count": 14,
   "metadata": {},
   "outputs": [
    {
     "data": {
      "text/plain": [
       "89"
      ]
     },
     "execution_count": 14,
     "metadata": {},
     "output_type": "execute_result"
    }
   ],
   "source": [
    "# is there a mismatch?\n",
    "sum(dfs.total_baths!=dfs.total_baths_calculated)"
   ]
  },
  {
   "cell_type": "markdown",
   "metadata": {},
   "source": [
    "Decide to just take total_baths_calculated"
   ]
  },
  {
   "cell_type": "code",
   "execution_count": 15,
   "metadata": {},
   "outputs": [
    {
     "name": "stderr",
     "output_type": "stream",
     "text": [
      "/Users/nikhilvanderklaauw/opt/anaconda3/envs/datasci/lib/python3.7/site-packages/seaborn/distributions.py:2551: FutureWarning: `distplot` is a deprecated function and will be removed in a future version. Please adapt your code to use either `displot` (a figure-level function with similar flexibility) or `histplot` (an axes-level function for histograms).\n",
      "  warnings.warn(msg, FutureWarning)\n"
     ]
    },
    {
     "data": {
      "image/png": "[encoded data removed]",
      "text/plain": [
       "<Figure size 1440x576 with 2 Axes>"
      ]
     },
     "metadata": {
      "needs_background": "light"
     },
     "output_type": "display_data"
    }
   ],
   "source": [
    "bins = list(range(1,12))\n",
    "bathcounts = dfs.total_baths.value_counts()\n",
    "\n",
    "fig, axs = plt.subplots(1,2,figsize=(20,8))\n",
    "\n",
    "sns.distplot(dfs.bedrooms, bins=bins,kde=False,ax=axs[0])\n",
    "axs[0].set_title('Count of Bedrooms')\n",
    "axs[0].set_xlabel('Number of Bedrooms')\n",
    "axs[0].set_ylabel('Count')\n",
    "axs[0].set_xticks(bins)\n",
    "\n",
    "\n",
    "# sns.barplot(bathcounts.index, bathcounts.values)\n",
    "sns.distplot(dfs.total_baths_calculated, kde=False, ax=axs[1])\n",
    "axs[1].set_title('Total Number of Bathrooms')\n",
    "axs[1].set_xlabel('Number of Bathrooms')\n",
    "axs[1].set_ylabel('Count')\n",
    "\n",
    "plt.show()"
   ]
  },
  {
   "cell_type": "code",
   "execution_count": 16,
   "metadata": {},
   "outputs": [
    {
     "data": {
      "image/png": "[encoded data removed]",
      "text/plain": [
       "<Figure size 720x576 with 1 Axes>"
      ]
     },
     "metadata": {
      "needs_background": "light"
     },
     "output_type": "display_data"
    }
   ],
   "source": [
    "plt.figure(figsize=(10,8))\n",
    "sns.boxplot(x=\"bedrooms\", y=\"total_baths_calculated\", data=dfs)\n",
    "plt.title('Number of Bathrooms in Houses of Various Bedroom Counts')\n",
    "plt.show()"
   ]
  },
  {
   "cell_type": "code",
   "execution_count": 17,
   "metadata": {},
   "outputs": [
    {
     "name": "stderr",
     "output_type": "stream",
     "text": [
      "/Users/nikhilvanderklaauw/opt/anaconda3/envs/datasci/lib/python3.7/site-packages/seaborn/distributions.py:2551: FutureWarning: `distplot` is a deprecated function and will be removed in a future version. Please adapt your code to use either `displot` (a figure-level function with similar flexibility) or `histplot` (an axes-level function for histograms).\n",
      "  warnings.warn(msg, FutureWarning)\n"
     ]
    },
    {
     "data": {
      "image/png": "[encoded data removed]",
      "text/plain": [
       "<Figure size 720x576 with 1 Axes>"
      ]
     },
     "metadata": {
      "needs_background": "light"
     },
     "output_type": "display_data"
    }
   ],
   "source": [
    "bins = np.arange(0,7500,500)\n",
    "xlabels = list(map(str, bins[0:]))\n",
    "xlabels[-1] += '+'\n",
    "    \n",
    "plt.figure(figsize=(10,8))\n",
    "sns.distplot(np.clip(dfs.living_square_feet, bins[0], bins[-1]), bins=bins, kde=False)\n",
    "plt.title('Living Square Feet')\n",
    "plt.xlabel('SqFt')\n",
    "plt.ylabel('Count')\n",
    "plt.xticks(bins,xlabels)\n",
    "plt.show()"
   ]
  },
  {
   "cell_type": "code",
   "execution_count": 18,
   "metadata": {},
   "outputs": [
    {
     "data": {
      "image/png": "[encoded data removed]",
      "text/plain": [
       "<Figure size 720x576 with 1 Axes>"
      ]
     },
     "metadata": {
      "needs_background": "light"
     },
     "output_type": "display_data"
    }
   ],
   "source": [
    "bins = np.round(np.arange(0,2.2,0.2),1)\n",
    "xlabels = list(map(str, bins[0:]))\n",
    "xlabels[-1] += '+'\n",
    "    \n",
    "plt.figure(figsize=(10,8))\n",
    "sns.distplot(np.clip(dfs.living_square_feet/dfs.land_square_footage, bins[0], bins[-1]), bins=bins, kde=False)\n",
    "plt.title('Living SqFt / Land SqFt')\n",
    "plt.xlabel('Living SqFt / Land SqFt')\n",
    "plt.ylabel('Count')\n",
    "plt.xticks(bins,xlabels)\n",
    "plt.show()"
   ]
  },
  {
   "cell_type": "code",
   "execution_count": 19,
   "metadata": {},
   "outputs": [
    {
     "name": "stderr",
     "output_type": "stream",
     "text": [
      "/Users/nikhilvanderklaauw/opt/anaconda3/envs/datasci/lib/python3.7/site-packages/seaborn/_decorators.py:43: FutureWarning: Pass the following variables as keyword args: x, y. From version 0.12, the only valid positional argument will be `data`, and passing other arguments without an explicit keyword will result in an error or misinterpretation.\n",
      "  FutureWarning\n"
     ]
    },
    {
     "data": {
      "image/png": "[encoded data removed]",
      "text/plain": [
       "<Figure size 720x576 with 1 Axes>"
      ]
     },
     "metadata": {
      "needs_background": "light"
     },
     "output_type": "display_data"
    }
   ],
   "source": [
    "storiescounts = dfs.stories.value_counts()\n",
    "\n",
    "plt.figure(figsize=(10,8))\n",
    "sns.barplot(storiescounts.index, storiescounts.values)\n",
    "plt.title('Listings by Number of Floors')\n",
    "plt.xlabel('Stories')\n",
    "plt.ylabel('Count')\n",
    "plt.show()"
   ]
  },
  {
   "cell_type": "code",
   "execution_count": 20,
   "metadata": {},
   "outputs": [
    {
     "name": "stderr",
     "output_type": "stream",
     "text": [
      "/Users/nikhilvanderklaauw/opt/anaconda3/envs/datasci/lib/python3.7/site-packages/seaborn/distributions.py:2551: FutureWarning: `distplot` is a deprecated function and will be removed in a future version. Please adapt your code to use either `displot` (a figure-level function with similar flexibility) or `histplot` (an axes-level function for histograms).\n",
      "  warnings.warn(msg, FutureWarning)\n"
     ]
    },
    {
     "data": {
      "image/png": "[encoded data removed]",
      "text/plain": [
       "<Figure size 720x576 with 1 Axes>"
      ]
     },
     "metadata": {
      "needs_background": "light"
     },
     "output_type": "display_data"
    }
   ],
   "source": [
    "plt.figure(figsize=(10,8))\n",
    "sns.distplot(dfs.year_built,kde=False)\n",
    "plt.title('Year Built')\n",
    "plt.xlabel('Year Built')\n",
    "plt.ylabel('Count')\n",
    "plt.show()"
   ]
  },
  {
   "cell_type": "code",
   "execution_count": 21,
   "metadata": {},
   "outputs": [],
   "source": [
    "def help_year_bins(x):\n",
    "    if x<1900:\n",
    "        return 'Before 1900'\n",
    "    elif x<1950:\n",
    "        return '1900 to 1950'\n",
    "    elif x<2000:\n",
    "        return '1950 to 2000'\n",
    "    else:\n",
    "        return 'After 2000'\n",
    "\n",
    "dfs['year_bins'] = dfs.year_built.apply(lambda x: help_year_bins(x))"
   ]
  },
  {
   "cell_type": "code",
   "execution_count": 22,
   "metadata": {},
   "outputs": [
    {
     "data": {
      "image/png": "[encoded data removed]",
      "text/plain": [
       "<Figure size 1080x432 with 1 Axes>"
      ]
     },
     "metadata": {
      "needs_background": "light"
     },
     "output_type": "display_data"
    }
   ],
   "source": [
    "plt.figure(figsize=(15,6))\n",
    "sns.boxenplot(y='year_bins', x='bedrooms', data=dfs,\n",
    "              order=['Before 1900', '1900 to 1950', '1950 to 2000','After 2000'])\n",
    "plt.xlabel(\"Bedrooms (ct)\", fontsize=15)\n",
    "plt.ylabel(\"Year Built Bins\", fontsize=15)\n",
    "plt.show()"
   ]
  },
  {
   "cell_type": "code",
   "execution_count": 23,
   "metadata": {},
   "outputs": [
    {
     "name": "stderr",
     "output_type": "stream",
     "text": [
      "/Users/nikhilvanderklaauw/opt/anaconda3/envs/datasci/lib/python3.7/site-packages/seaborn/_decorators.py:43: FutureWarning: Pass the following variables as keyword args: x, y. From version 0.12, the only valid positional argument will be `data`, and passing other arguments without an explicit keyword will result in an error or misinterpretation.\n",
      "  FutureWarning\n"
     ]
    },
    {
     "data": {
      "image/png": "[encoded data removed]",
      "text/plain": [
       "<Figure size 720x576 with 1 Axes>"
      ]
     },
     "metadata": {
      "needs_background": "light"
     },
     "output_type": "display_data"
    }
   ],
   "source": [
    "propertycounts = dfs.property_type.value_counts()\n",
    "\n",
    "plt.figure(figsize=(10,8))\n",
    "sns.barplot(propertycounts.index, propertycounts.values)\n",
    "plt.title('Listings by Property Type')\n",
    "plt.xlabel('Property Type')\n",
    "plt.ylabel('Count')\n",
    "plt.show()"
   ]
  },
  {
   "cell_type": "code",
   "execution_count": 24,
   "metadata": {},
   "outputs": [
    {
     "name": "stderr",
     "output_type": "stream",
     "text": [
      "/Users/nikhilvanderklaauw/opt/anaconda3/envs/datasci/lib/python3.7/site-packages/seaborn/_decorators.py:43: FutureWarning: Pass the following variables as keyword args: x, y. From version 0.12, the only valid positional argument will be `data`, and passing other arguments without an explicit keyword will result in an error or misinterpretation.\n",
      "  FutureWarning\n"
     ]
    },
    {
     "data": {
      "image/png": "[encoded data removed]",
      "text/plain": [
       "<Figure size 720x576 with 1 Axes>"
      ]
     },
     "metadata": {
      "needs_background": "light"
     },
     "output_type": "display_data"
    }
   ],
   "source": [
    "statuscounts = dfs.status.value_counts()\n",
    "\n",
    "plt.figure(figsize=(10,8))\n",
    "sns.barplot(statuscounts.index, statuscounts.values)\n",
    "plt.title('Listings by Status')\n",
    "plt.xlabel('Listing Status')\n",
    "plt.ylabel('Count')\n",
    "plt.show()"
   ]
  },
  {
   "cell_type": "code",
   "execution_count": 25,
   "metadata": {},
   "outputs": [
    {
     "name": "stderr",
     "output_type": "stream",
     "text": [
      "/Users/nikhilvanderklaauw/opt/anaconda3/envs/datasci/lib/python3.7/site-packages/seaborn/_decorators.py:43: FutureWarning: Pass the following variables as keyword args: x, y. From version 0.12, the only valid positional argument will be `data`, and passing other arguments without an explicit keyword will result in an error or misinterpretation.\n",
      "  FutureWarning\n"
     ]
    },
    {
     "data": {
      "image/png": "[encoded data removed]",
      "text/plain": [
       "<Figure size 1008x576 with 1 Axes>"
      ]
     },
     "metadata": {
      "needs_background": "light"
     },
     "output_type": "display_data"
    }
   ],
   "source": [
    "citycounts = dfs.city.value_counts()\n",
    "\n",
    "plt.figure(figsize=(14,8))\n",
    "sns.barplot(citycounts.index, citycounts.values)\n",
    "plt.title('Listings by City')\n",
    "plt.xlabel('City')\n",
    "plt.ylabel('Count')\n",
    "plt.xticks(rotation=90)\n",
    "plt.show()"
   ]
  },
  {
   "cell_type": "code",
   "execution_count": 26,
   "metadata": {},
   "outputs": [
    {
     "data": {
      "text/plain": [
       "56"
      ]
     },
     "execution_count": 26,
     "metadata": {},
     "output_type": "execute_result"
    }
   ],
   "source": [
    "sum(df_all.on_mls)"
   ]
  },
  {
   "cell_type": "markdown",
   "metadata": {},
   "source": [
    "## Trying to join to MLS"
   ]
  },
  {
   "cell_type": "code",
   "execution_count": 27,
   "metadata": {},
   "outputs": [
    {
     "name": "stderr",
     "output_type": "stream",
     "text": [
      "/Users/nikhilvanderklaauw/opt/anaconda3/envs/datasci/lib/python3.7/site-packages/IPython/core/interactiveshell.py:3146: DtypeWarning: Columns (20,55,56,65,66,67,68,69,78,82) have mixed types.Specify dtype option on import or set low_memory=False.\n",
      "  interactivity=interactivity, compiler=compiler, result=result)\n"
     ]
    }
   ],
   "source": [
    "mls_df = pd.read_csv('join_house_market_to_first_american_25025.csv')"
   ]
  },
  {
   "cell_type": "code",
   "execution_count": 28,
   "metadata": {},
   "outputs": [],
   "source": [
    "mls_df['addr_lower_y'] = mls_df.address.str.lower()\n",
    "mls_df['addr_lower_y'] = mls_df.addr_lower_y.str.strip()"
   ]
  },
  {
   "cell_type": "code",
   "execution_count": 29,
   "metadata": {},
   "outputs": [],
   "source": [
    "df_all['addr_lower_x'] = df_all.address_line.str.lower()\n",
    "df_all['addr_lower_x'] = df_all.addr_lower_x.str.strip()"
   ]
  },
  {
   "cell_type": "code",
   "execution_count": 30,
   "metadata": {},
   "outputs": [],
   "source": [
    "df_joined = df_all.merge(mls_df, how='inner', left_on=['addr_lower_x','postal_code'], right_on=['addr_lower_y','zipcode'])\n"
   ]
  },
  {
   "cell_type": "code",
   "execution_count": 31,
   "metadata": {},
   "outputs": [
    {
     "data": {
      "text/plain": [
       "(24, 138)"
      ]
     },
     "execution_count": 31,
     "metadata": {},
     "output_type": "execute_result"
    }
   ],
   "source": [
    "df_joined.shape"
   ]
  },
  {
   "cell_type": "code",
   "execution_count": 36,
   "metadata": {},
   "outputs": [
    {
     "data": {
      "text/html": [
       "<div>\n",
       "<style scoped>\n",
       "    .dataframe tbody tr th:only-of-type {\n",
       "        vertical-align: middle;\n",
       "    }\n",
       "\n",
       "    .dataframe tbody tr th {\n",
       "        vertical-align: top;\n",
       "    }\n",
       "\n",
       "    .dataframe thead th {\n",
       "        text-align: right;\n",
       "    }\n",
       "</style>\n",
       "<table border=\"1\" class=\"dataframe\">\n",
       "  <thead>\n",
       "    <tr style=\"text-align: right;\">\n",
       "      <th></th>\n",
       "      <th>addr_lower_x</th>\n",
       "      <th>on_mls</th>\n",
       "    </tr>\n",
       "  </thead>\n",
       "  <tbody>\n",
       "    <tr>\n",
       "      <th>0</th>\n",
       "      <td>35 webster st apt 302</td>\n",
       "      <td>0</td>\n",
       "    </tr>\n",
       "    <tr>\n",
       "      <th>1</th>\n",
       "      <td>35 webster st apt 302</td>\n",
       "      <td>0</td>\n",
       "    </tr>\n",
       "    <tr>\n",
       "      <th>2</th>\n",
       "      <td>35 webster st apt 302</td>\n",
       "      <td>0</td>\n",
       "    </tr>\n",
       "    <tr>\n",
       "      <th>3</th>\n",
       "      <td>338 highland st</td>\n",
       "      <td>0</td>\n",
       "    </tr>\n",
       "    <tr>\n",
       "      <th>4</th>\n",
       "      <td>1204 morton st</td>\n",
       "      <td>0</td>\n",
       "    </tr>\n",
       "    <tr>\n",
       "      <th>5</th>\n",
       "      <td>1204 morton st</td>\n",
       "      <td>0</td>\n",
       "    </tr>\n",
       "    <tr>\n",
       "      <th>6</th>\n",
       "      <td>9 holbrook ave</td>\n",
       "      <td>0</td>\n",
       "    </tr>\n",
       "    <tr>\n",
       "      <th>7</th>\n",
       "      <td>20 conant rd</td>\n",
       "      <td>0</td>\n",
       "    </tr>\n",
       "    <tr>\n",
       "      <th>8</th>\n",
       "      <td>227 proctor ave</td>\n",
       "      <td>0</td>\n",
       "    </tr>\n",
       "    <tr>\n",
       "      <th>9</th>\n",
       "      <td>227 proctor ave</td>\n",
       "      <td>0</td>\n",
       "    </tr>\n",
       "    <tr>\n",
       "      <th>10</th>\n",
       "      <td>680 broadway</td>\n",
       "      <td>0</td>\n",
       "    </tr>\n",
       "    <tr>\n",
       "      <th>11</th>\n",
       "      <td>79 poplar st apt 4</td>\n",
       "      <td>0</td>\n",
       "    </tr>\n",
       "    <tr>\n",
       "      <th>12</th>\n",
       "      <td>92 nahant ave</td>\n",
       "      <td>0</td>\n",
       "    </tr>\n",
       "    <tr>\n",
       "      <th>13</th>\n",
       "      <td>92 nahant ave</td>\n",
       "      <td>0</td>\n",
       "    </tr>\n",
       "    <tr>\n",
       "      <th>14</th>\n",
       "      <td>92 nahant ave</td>\n",
       "      <td>0</td>\n",
       "    </tr>\n",
       "    <tr>\n",
       "      <th>15</th>\n",
       "      <td>47 norton st</td>\n",
       "      <td>0</td>\n",
       "    </tr>\n",
       "    <tr>\n",
       "      <th>16</th>\n",
       "      <td>47 norton st</td>\n",
       "      <td>0</td>\n",
       "    </tr>\n",
       "    <tr>\n",
       "      <th>17</th>\n",
       "      <td>10 hammond pond pkwy apt 401</td>\n",
       "      <td>0</td>\n",
       "    </tr>\n",
       "    <tr>\n",
       "      <th>18</th>\n",
       "      <td>277 sargent st</td>\n",
       "      <td>0</td>\n",
       "    </tr>\n",
       "    <tr>\n",
       "      <th>19</th>\n",
       "      <td>1409 river st apt 47</td>\n",
       "      <td>0</td>\n",
       "    </tr>\n",
       "    <tr>\n",
       "      <th>20</th>\n",
       "      <td>1409 river st apt 47</td>\n",
       "      <td>0</td>\n",
       "    </tr>\n",
       "    <tr>\n",
       "      <th>21</th>\n",
       "      <td>703 e 5th st apt 1</td>\n",
       "      <td>0</td>\n",
       "    </tr>\n",
       "    <tr>\n",
       "      <th>22</th>\n",
       "      <td>534 commonwealth ave apt 5e</td>\n",
       "      <td>0</td>\n",
       "    </tr>\n",
       "    <tr>\n",
       "      <th>23</th>\n",
       "      <td>107 bennington st</td>\n",
       "      <td>0</td>\n",
       "    </tr>\n",
       "  </tbody>\n",
       "</table>\n",
       "</div>"
      ],
      "text/plain": [
       "                    addr_lower_x  on_mls\n",
       "0          35 webster st apt 302       0\n",
       "1          35 webster st apt 302       0\n",
       "2          35 webster st apt 302       0\n",
       "3                338 highland st       0\n",
       "4                 1204 morton st       0\n",
       "5                 1204 morton st       0\n",
       "6                 9 holbrook ave       0\n",
       "7                   20 conant rd       0\n",
       "8                227 proctor ave       0\n",
       "9                227 proctor ave       0\n",
       "10                  680 broadway       0\n",
       "11            79 poplar st apt 4       0\n",
       "12                 92 nahant ave       0\n",
       "13                 92 nahant ave       0\n",
       "14                 92 nahant ave       0\n",
       "15                  47 norton st       0\n",
       "16                  47 norton st       0\n",
       "17  10 hammond pond pkwy apt 401       0\n",
       "18                277 sargent st       0\n",
       "19          1409 river st apt 47       0\n",
       "20          1409 river st apt 47       0\n",
       "21            703 e 5th st apt 1       0\n",
       "22   534 commonwealth ave apt 5e       0\n",
       "23             107 bennington st       0"
      ]
     },
     "execution_count": 36,
     "metadata": {},
     "output_type": "execute_result"
    }
   ],
   "source": [
    "df_joined[['addr_lower_x','on_mls']]"
   ]
  },
  {
   "cell_type": "markdown",
   "metadata": {},
   "source": [
    "Pretty bad match rate"
   ]
  },
  {
   "cell_type": "code",
   "execution_count": 59,
   "metadata": {},
   "outputs": [
    {
     "data": {
      "text/plain": [
       "Series([], Name: address_line, dtype: object)"
      ]
     },
     "execution_count": 59,
     "metadata": {},
     "output_type": "execute_result"
    }
   ],
   "source": [
    "df_suffolk[df_suffolk['on_mls']==1]['address_line']"
   ]
  },
  {
   "cell_type": "code",
   "execution_count": 60,
   "metadata": {},
   "outputs": [],
   "source": [
    "#mls_df[mls_df['addr_lower_y'].str.contains(\"essex\")]['address']"
   ]
  },
  {
   "cell_type": "markdown",
   "metadata": {},
   "source": [
    "### Attempting a join on lat/long"
   ]
  },
  {
   "cell_type": "code",
   "execution_count": 32,
   "metadata": {},
   "outputs": [],
   "source": [
    "df_all_coords = df_all[df_all.latitude.notnull() & df_all.longitude.notnull()].copy()\n",
    "mls_df_coords = mls_df[mls_df.latitude.notnull() & mls_df.longitude.notnull()].copy()"
   ]
  },
  {
   "cell_type": "code",
   "execution_count": 33,
   "metadata": {},
   "outputs": [],
   "source": [
    "df_all_coords['latx'] = df_all_coords.latitude.round(4)\n",
    "mls_df_coords['laty'] = mls_df_coords.latitude.round(4)\n",
    "\n",
    "df_all_coords['longx'] = df_all_coords.longitude.round(4)\n",
    "mls_df_coords['longy'] = mls_df_coords.longitude.round(4)"
   ]
  },
  {
   "cell_type": "code",
   "execution_count": 34,
   "metadata": {},
   "outputs": [],
   "source": [
    "testjoin = df_all_coords.merge(mls_df_coords, how='inner', left_on=['latx','longx'], right_on=['laty','longy'])"
   ]
  },
  {
   "cell_type": "code",
   "execution_count": 35,
   "metadata": {},
   "outputs": [
    {
     "data": {
      "text/html": [
       "<div>\n",
       "<style scoped>\n",
       "    .dataframe tbody tr th:only-of-type {\n",
       "        vertical-align: middle;\n",
       "    }\n",
       "\n",
       "    .dataframe tbody tr th {\n",
       "        vertical-align: top;\n",
       "    }\n",
       "\n",
       "    .dataframe thead th {\n",
       "        text-align: right;\n",
       "    }\n",
       "</style>\n",
       "<table border=\"1\" class=\"dataframe\">\n",
       "  <thead>\n",
       "    <tr style=\"text-align: right;\">\n",
       "      <th></th>\n",
       "      <th>addr_lower_x</th>\n",
       "      <th>latx</th>\n",
       "      <th>longx</th>\n",
       "      <th>addr_lower_y</th>\n",
       "      <th>laty</th>\n",
       "      <th>longy</th>\n",
       "    </tr>\n",
       "  </thead>\n",
       "  <tbody>\n",
       "    <tr>\n",
       "      <th>0</th>\n",
       "      <td>889 date st unit 545</td>\n",
       "      <td>32.7226</td>\n",
       "      <td>-117.1570</td>\n",
       "      <td>889 date st unit 205</td>\n",
       "      <td>32.7226</td>\n",
       "      <td>-117.1570</td>\n",
       "    </tr>\n",
       "    <tr>\n",
       "      <th>1</th>\n",
       "      <td>889 date st unit 545</td>\n",
       "      <td>32.7226</td>\n",
       "      <td>-117.1570</td>\n",
       "      <td>aloft on cortez hill</td>\n",
       "      <td>32.7226</td>\n",
       "      <td>-117.1570</td>\n",
       "    </tr>\n",
       "    <tr>\n",
       "      <th>2</th>\n",
       "      <td>889 date st unit 545</td>\n",
       "      <td>32.7226</td>\n",
       "      <td>-117.1570</td>\n",
       "      <td>aloft on cortez hill</td>\n",
       "      <td>32.7226</td>\n",
       "      <td>-117.1570</td>\n",
       "    </tr>\n",
       "    <tr>\n",
       "      <th>3</th>\n",
       "      <td>889 date st unit 545</td>\n",
       "      <td>32.7226</td>\n",
       "      <td>-117.1570</td>\n",
       "      <td>aloft on cortez hill</td>\n",
       "      <td>32.7226</td>\n",
       "      <td>-117.1570</td>\n",
       "    </tr>\n",
       "    <tr>\n",
       "      <th>4</th>\n",
       "      <td>35 webster st apt 302</td>\n",
       "      <td>42.3672</td>\n",
       "      <td>-71.0391</td>\n",
       "      <td>10 orleans st unit 106</td>\n",
       "      <td>42.3672</td>\n",
       "      <td>-71.0391</td>\n",
       "    </tr>\n",
       "    <tr>\n",
       "      <th>5</th>\n",
       "      <td>35 webster st apt 302</td>\n",
       "      <td>42.3672</td>\n",
       "      <td>-71.0391</td>\n",
       "      <td>10 orleans st #203</td>\n",
       "      <td>42.3672</td>\n",
       "      <td>-71.0391</td>\n",
       "    </tr>\n",
       "    <tr>\n",
       "      <th>6</th>\n",
       "      <td>35 webster st apt 302</td>\n",
       "      <td>42.3672</td>\n",
       "      <td>-71.0391</td>\n",
       "      <td>10 orleans st unit 203</td>\n",
       "      <td>42.3672</td>\n",
       "      <td>-71.0391</td>\n",
       "    </tr>\n",
       "    <tr>\n",
       "      <th>7</th>\n",
       "      <td>35 webster st apt 302</td>\n",
       "      <td>42.3672</td>\n",
       "      <td>-71.0391</td>\n",
       "      <td>35 webster st apt 302</td>\n",
       "      <td>42.3672</td>\n",
       "      <td>-71.0391</td>\n",
       "    </tr>\n",
       "    <tr>\n",
       "      <th>8</th>\n",
       "      <td>35 webster st apt 302</td>\n",
       "      <td>42.3672</td>\n",
       "      <td>-71.0391</td>\n",
       "      <td>10b orleans street 106</td>\n",
       "      <td>42.3672</td>\n",
       "      <td>-71.0391</td>\n",
       "    </tr>\n",
       "    <tr>\n",
       "      <th>9</th>\n",
       "      <td>338 highland st</td>\n",
       "      <td>42.2373</td>\n",
       "      <td>-71.1834</td>\n",
       "      <td>338 highland st</td>\n",
       "      <td>42.2373</td>\n",
       "      <td>-71.1834</td>\n",
       "    </tr>\n",
       "  </tbody>\n",
       "</table>\n",
       "</div>"
      ],
      "text/plain": [
       "            addr_lower_x     latx     longx            addr_lower_y     laty  \\\n",
       "0   889 date st unit 545  32.7226 -117.1570    889 date st unit 205  32.7226   \n",
       "1   889 date st unit 545  32.7226 -117.1570    aloft on cortez hill  32.7226   \n",
       "2   889 date st unit 545  32.7226 -117.1570    aloft on cortez hill  32.7226   \n",
       "3   889 date st unit 545  32.7226 -117.1570    aloft on cortez hill  32.7226   \n",
       "4  35 webster st apt 302  42.3672  -71.0391  10 orleans st unit 106  42.3672   \n",
       "5  35 webster st apt 302  42.3672  -71.0391      10 orleans st #203  42.3672   \n",
       "6  35 webster st apt 302  42.3672  -71.0391  10 orleans st unit 203  42.3672   \n",
       "7  35 webster st apt 302  42.3672  -71.0391   35 webster st apt 302  42.3672   \n",
       "8  35 webster st apt 302  42.3672  -71.0391  10b orleans street 106  42.3672   \n",
       "9        338 highland st  42.2373  -71.1834         338 highland st  42.2373   \n",
       "\n",
       "      longy  \n",
       "0 -117.1570  \n",
       "1 -117.1570  \n",
       "2 -117.1570  \n",
       "3 -117.1570  \n",
       "4  -71.0391  \n",
       "5  -71.0391  \n",
       "6  -71.0391  \n",
       "7  -71.0391  \n",
       "8  -71.0391  \n",
       "9  -71.1834  "
      ]
     },
     "execution_count": 35,
     "metadata": {},
     "output_type": "execute_result"
    }
   ],
   "source": [
    "testjoin[['addr_lower_x','latx','longx','addr_lower_y','laty','longy']].head(10)"
   ]
  },
  {
   "cell_type": "markdown",
   "metadata": {},
   "source": [
    "Not a very successful alternative"
   ]
  }
 ],
 "metadata": {
  "kernelspec": {
   "display_name": "Python 3",
   "language": "python",
   "name": "python3"
  },
  "language_info": {
   "codemirror_mode": {
    "name": "ipython",
    "version": 3
   },
   "file_extension": ".py",
   "mimetype": "text/x-python",
   "name": "python",
   "nbconvert_exporter": "python",
   "pygments_lexer": "ipython3",
   "version": "3.7.8"
  }
 },
 "nbformat": 4,
 "nbformat_minor": 4
}
