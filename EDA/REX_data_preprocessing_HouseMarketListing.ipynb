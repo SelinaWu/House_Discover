{
  "nbformat": 4,
  "nbformat_minor": 0,
  "metadata": {
    "colab": {
      "name": "REX_data_preprocessing_HouseMarketListing",
      "provenance": [],
      "collapsed_sections": [
        "KAzW48lK289D",
        "UZAk7wiq3ME0",
        "Hhatf_mB6d91",
        "gLco1ag_972i",
        "36JCwcmGzz0v",
        "C_wvnRsJ7Hjx"
      ]
    },
    "kernelspec": {
      "name": "python3",
      "display_name": "Python 3"
    }
  },
  "cells": [
    {
      "cell_type": "code",
      "metadata": {
        "id": "pvkbrz45x0zB",
        "outputId": "4c8af01e-410a-4517-ded5-e9675524ede4",
        "colab": {
          "base_uri": "https://localhost:8080/"
        }
      },
      "source": [
        "from google.colab import drive\n",
        "drive.mount('/content/drive')"
      ],
      "execution_count": 1,
      "outputs": [
        {
          "output_type": "stream",
          "text": [
            "Mounted at /content/drive\n"
          ],
          "name": "stdout"
        }
      ]
    },
    {
      "cell_type": "code",
      "metadata": {
        "id": "7taw0LwCx-ya",
        "outputId": "bb928b02-3884-4ee3-a357-d6b731ed4c28",
        "colab": {
          "base_uri": "https://localhost:8080/"
        }
      },
      "source": [
        "%cd drive/My\\ Drive/2020_Fall/'Captstone(297)'"
      ],
      "execution_count": 2,
      "outputs": [
        {
          "output_type": "stream",
          "text": [
            "/content/drive/My Drive/2020_Fall/Captstone(297)\n"
          ],
          "name": "stdout"
        }
      ]
    },
    {
      "cell_type": "code",
      "metadata": {
        "id": "_7rVV--vyRGV"
      },
      "source": [
        "import pandas as pd\n",
        "import numpy as np\n",
        "import matplotlib.pyplot as plt"
      ],
      "execution_count": 3,
      "outputs": []
    },
    {
      "cell_type": "markdown",
      "metadata": {
        "id": "TyMvSrxf6rvt"
      },
      "source": [
        "## House Market Listing"
      ]
    },
    {
      "cell_type": "code",
      "metadata": {
        "id": "hb3QbaWCyYPu",
        "outputId": "e30f7ee9-5c95-4bf6-dd40-aaac1b5a8646",
        "colab": {
          "base_uri": "https://localhost:8080/",
          "height": 265
        }
      },
      "source": [
        "df = pd.read_csv(\"./data/house_market_listing_property_25025.csv\")\n",
        "df.drop(columns=['Unnamed: 0'], inplace=True)\n",
        "df.head(2)"
      ],
      "execution_count": 4,
      "outputs": [
        {
          "output_type": "stream",
          "text": [
            "/usr/local/lib/python3.6/dist-packages/IPython/core/interactiveshell.py:2718: DtypeWarning: Columns (19,54,55,64,65,66,67,68,77,81) have mixed types.Specify dtype option on import or set low_memory=False.\n",
            "  interactivity=interactivity, compiler=compiler, result=result)\n"
          ],
          "name": "stderr"
        },
        {
          "output_type": "execute_result",
          "data": {
            "text/html": [
              "<div>\n",
              "<style scoped>\n",
              "    .dataframe tbody tr th:only-of-type {\n",
              "        vertical-align: middle;\n",
              "    }\n",
              "\n",
              "    .dataframe tbody tr th {\n",
              "        vertical-align: top;\n",
              "    }\n",
              "\n",
              "    .dataframe thead th {\n",
              "        text-align: right;\n",
              "    }\n",
              "</style>\n",
              "<table border=\"1\" class=\"dataframe\">\n",
              "  <thead>\n",
              "    <tr style=\"text-align: right;\">\n",
              "      <th></th>\n",
              "      <th>cc_list_id</th>\n",
              "      <th>original_list_date</th>\n",
              "      <th>original_list_price</th>\n",
              "      <th>current_list_price</th>\n",
              "      <th>sale_price</th>\n",
              "      <th>sale_date</th>\n",
              "      <th>current_status</th>\n",
              "      <th>number_of_pricechanges</th>\n",
              "      <th>days_on_market</th>\n",
              "      <th>hoa_fee_amount</th>\n",
              "      <th>expired_date</th>\n",
              "      <th>cancelled_date</th>\n",
              "      <th>cc_property_id</th>\n",
              "      <th>address</th>\n",
              "      <th>city</th>\n",
              "      <th>zipcode</th>\n",
              "      <th>cc_property_address_county</th>\n",
              "      <th>fips</th>\n",
              "      <th>apn</th>\n",
              "      <th>property_guid</th>\n",
              "      <th>latitude</th>\n",
              "      <th>longitude</th>\n",
              "      <th>sqft</th>\n",
              "      <th>state</th>\n",
              "      <th>lot_sqft</th>\n",
              "      <th>basement_size_sqft</th>\n",
              "      <th>unfinished_basement_size_sqft</th>\n",
              "      <th>year_built</th>\n",
              "      <th>image_urls</th>\n",
              "      <th>geo_point</th>\n",
              "      <th>id</th>\n",
              "      <th>floors_in_property</th>\n",
              "      <th>floors_in_building</th>\n",
              "      <th>garage_spaces</th>\n",
              "      <th>garage_type</th>\n",
              "      <th>pool_spa_types</th>\n",
              "      <th>view_description</th>\n",
              "      <th>porch_or_patio</th>\n",
              "      <th>laundry_features</th>\n",
              "      <th>public_listing_comments</th>\n",
              "      <th>...</th>\n",
              "      <th>full_baths</th>\n",
              "      <th>half_baths</th>\n",
              "      <th>assessed_year</th>\n",
              "      <th>assessed_total_value</th>\n",
              "      <th>tax_amount</th>\n",
              "      <th>land_lease_fee_amount</th>\n",
              "      <th>number_of_parcels</th>\n",
              "      <th>effective_year_built</th>\n",
              "      <th>number_of_units</th>\n",
              "      <th>rooms</th>\n",
              "      <th>basement_type</th>\n",
              "      <th>parking_features</th>\n",
              "      <th>other_parking</th>\n",
              "      <th>current_occupancy_type</th>\n",
              "      <th>heating</th>\n",
              "      <th>cooling</th>\n",
              "      <th>fireplace_count</th>\n",
              "      <th>water_source</th>\n",
              "      <th>image_update_date</th>\n",
              "      <th>property_type</th>\n",
              "      <th>home_style</th>\n",
              "      <th>match_street_address</th>\n",
              "      <th>has_central_air</th>\n",
              "      <th>has_jacuzzi</th>\n",
              "      <th>has_pool</th>\n",
              "      <th>has_solar</th>\n",
              "      <th>has_garage</th>\n",
              "      <th>garage_type_enum</th>\n",
              "      <th>cooling_enum</th>\n",
              "      <th>above_grade_bed_count</th>\n",
              "      <th>below_grade_bed_count</th>\n",
              "      <th>below_grade_sqft</th>\n",
              "      <th>current_use</th>\n",
              "      <th>fencing_description</th>\n",
              "      <th>frontage_length</th>\n",
              "      <th>property_condition</th>\n",
              "      <th>property_quality</th>\n",
              "      <th>senior_community_indicator</th>\n",
              "      <th>zoning_code</th>\n",
              "      <th>zoning_description</th>\n",
              "    </tr>\n",
              "  </thead>\n",
              "  <tbody>\n",
              "    <tr>\n",
              "      <th>0</th>\n",
              "      <td>86112818</td>\n",
              "      <td>2017-02-22</td>\n",
              "      <td>629000.0</td>\n",
              "      <td>629000.0</td>\n",
              "      <td>665000.0</td>\n",
              "      <td>2017-07-05</td>\n",
              "      <td>Sale</td>\n",
              "      <td>0.0</td>\n",
              "      <td>21.0</td>\n",
              "      <td>200.0</td>\n",
              "      <td>NaN</td>\n",
              "      <td>NaN</td>\n",
              "      <td>325917590</td>\n",
              "      <td>208 W Springfield St Apt 2</td>\n",
              "      <td>Boston</td>\n",
              "      <td>2118</td>\n",
              "      <td>SUFFOLK</td>\n",
              "      <td>25025</td>\n",
              "      <td>NaN</td>\n",
              "      <td>NaN</td>\n",
              "      <td>42.34034</td>\n",
              "      <td>-71.08054</td>\n",
              "      <td>554.0</td>\n",
              "      <td>MA</td>\n",
              "      <td>554.0</td>\n",
              "      <td>NaN</td>\n",
              "      <td>NaN</td>\n",
              "      <td>1899.0</td>\n",
              "      <td>http://media.mlspin.com/photo.aspx?mls=7212204...</td>\n",
              "      <td>0101000020E610000045813E9127C551C0A5C2D842902B...</td>\n",
              "      <td>4051809.0</td>\n",
              "      <td>NaN</td>\n",
              "      <td>NaN</td>\n",
              "      <td>NaN</td>\n",
              "      <td>NaN</td>\n",
              "      <td>NaN</td>\n",
              "      <td>NaN</td>\n",
              "      <td>NaN</td>\n",
              "      <td>NaN</td>\n",
              "      <td>NaN</td>\n",
              "      <td>...</td>\n",
              "      <td>NaN</td>\n",
              "      <td>NaN</td>\n",
              "      <td>NaN</td>\n",
              "      <td>NaN</td>\n",
              "      <td>NaN</td>\n",
              "      <td>NaN</td>\n",
              "      <td>NaN</td>\n",
              "      <td>NaN</td>\n",
              "      <td>NaN</td>\n",
              "      <td>NaN</td>\n",
              "      <td>NaN</td>\n",
              "      <td>NaN</td>\n",
              "      <td>NaN</td>\n",
              "      <td>NaN</td>\n",
              "      <td>NaN</td>\n",
              "      <td>NaN</td>\n",
              "      <td>NaN</td>\n",
              "      <td>NaN</td>\n",
              "      <td>2019-04-24</td>\n",
              "      <td>CONDO</td>\n",
              "      <td>Other</td>\n",
              "      <td>208 W SPRINGFIELD ST UNIT 2</td>\n",
              "      <td>False</td>\n",
              "      <td>False</td>\n",
              "      <td>False</td>\n",
              "      <td>False</td>\n",
              "      <td>False</td>\n",
              "      <td>NaN</td>\n",
              "      <td>NaN</td>\n",
              "      <td>NaN</td>\n",
              "      <td>NaN</td>\n",
              "      <td>NaN</td>\n",
              "      <td>NaN</td>\n",
              "      <td>NaN</td>\n",
              "      <td>NaN</td>\n",
              "      <td>NaN</td>\n",
              "      <td>NaN</td>\n",
              "      <td>NaN</td>\n",
              "      <td>NaN</td>\n",
              "      <td>NaN</td>\n",
              "    </tr>\n",
              "    <tr>\n",
              "      <th>1</th>\n",
              "      <td>103942494</td>\n",
              "      <td>2018-03-27</td>\n",
              "      <td>1125000.0</td>\n",
              "      <td>1125000.0</td>\n",
              "      <td>1110000.0</td>\n",
              "      <td>2018-05-21</td>\n",
              "      <td>Sale</td>\n",
              "      <td>0.0</td>\n",
              "      <td>20.0</td>\n",
              "      <td>NaN</td>\n",
              "      <td>NaN</td>\n",
              "      <td>NaN</td>\n",
              "      <td>646971195</td>\n",
              "      <td>10 Brinton St.</td>\n",
              "      <td>Boston</td>\n",
              "      <td>2119</td>\n",
              "      <td>SUFFOLK</td>\n",
              "      <td>25025</td>\n",
              "      <td>5009282</td>\n",
              "      <td>NaN</td>\n",
              "      <td>42.32042</td>\n",
              "      <td>-71.09238</td>\n",
              "      <td>2757.0</td>\n",
              "      <td>MA</td>\n",
              "      <td>4356.0</td>\n",
              "      <td>NaN</td>\n",
              "      <td>NaN</td>\n",
              "      <td>1905.0</td>\n",
              "      <td>NaN</td>\n",
              "      <td>0101000020E61000007DB3CD8DE9C551C0FE7DC6850329...</td>\n",
              "      <td>NaN</td>\n",
              "      <td>NaN</td>\n",
              "      <td>2.0</td>\n",
              "      <td>NaN</td>\n",
              "      <td>NaN</td>\n",
              "      <td>NaN</td>\n",
              "      <td>NaN</td>\n",
              "      <td>NaN</td>\n",
              "      <td>NaN</td>\n",
              "      <td>TREMENDOUS ROXBURY 2 FAMILY RECENTLY GUT REHAB...</td>\n",
              "      <td>...</td>\n",
              "      <td>3.0</td>\n",
              "      <td>NaN</td>\n",
              "      <td>2017.0</td>\n",
              "      <td>439500.0</td>\n",
              "      <td>4654.0</td>\n",
              "      <td>NaN</td>\n",
              "      <td>NaN</td>\n",
              "      <td>NaN</td>\n",
              "      <td>2.0</td>\n",
              "      <td>13.0</td>\n",
              "      <td>Full Basement</td>\n",
              "      <td>NaN</td>\n",
              "      <td>NaN</td>\n",
              "      <td>NaN</td>\n",
              "      <td>NaN</td>\n",
              "      <td>NaN</td>\n",
              "      <td>NaN</td>\n",
              "      <td>City/Town Water</td>\n",
              "      <td>NaN</td>\n",
              "      <td>MULTI_FAMILY</td>\n",
              "      <td>NaN</td>\n",
              "      <td>10 BRINTON ST</td>\n",
              "      <td>False</td>\n",
              "      <td>False</td>\n",
              "      <td>False</td>\n",
              "      <td>False</td>\n",
              "      <td>False</td>\n",
              "      <td>NaN</td>\n",
              "      <td>NaN</td>\n",
              "      <td>NaN</td>\n",
              "      <td>NaN</td>\n",
              "      <td>NaN</td>\n",
              "      <td>NaN</td>\n",
              "      <td>NaN</td>\n",
              "      <td>NaN</td>\n",
              "      <td>NaN</td>\n",
              "      <td>NaN</td>\n",
              "      <td>NaN</td>\n",
              "      <td>res</td>\n",
              "      <td>NaN</td>\n",
              "    </tr>\n",
              "  </tbody>\n",
              "</table>\n",
              "<p>2 rows × 81 columns</p>\n",
              "</div>"
            ],
            "text/plain": [
              "   cc_list_id original_list_date  ...  zoning_code  zoning_description\n",
              "0    86112818         2017-02-22  ...          NaN                 NaN\n",
              "1   103942494         2018-03-27  ...          res                 NaN\n",
              "\n",
              "[2 rows x 81 columns]"
            ]
          },
          "metadata": {
            "tags": []
          },
          "execution_count": 4
        }
      ]
    },
    {
      "cell_type": "markdown",
      "metadata": {
        "id": "zWIApNT3zxKO"
      },
      "source": [
        "### Data Clearning"
      ]
    },
    {
      "cell_type": "markdown",
      "metadata": {
        "id": "KAzW48lK289D"
      },
      "source": [
        "#### 1. drop na rows and columns"
      ]
    },
    {
      "cell_type": "code",
      "metadata": {
        "id": "xZeya0ITz12i",
        "outputId": "7ace7f0f-3c8d-4fc1-b03b-1aa310aaffb8",
        "colab": {
          "base_uri": "https://localhost:8080/"
        }
      },
      "source": [
        "key_columns = ['bedrooms','full_baths']\n",
        "print(\"Origin dataset shape: \", df.shape)\n",
        "dropna_df = df.dropna(subset=key_columns, axis=0, how='any')\n",
        "print(\"Dropna dataset shape: \", dropna_df.shape)"
      ],
      "execution_count": 5,
      "outputs": [
        {
          "output_type": "stream",
          "text": [
            "Origin dataset shape:  (42438, 81)\n",
            "Dropna dataset shape:  (24610, 81)\n"
          ],
          "name": "stdout"
        }
      ]
    },
    {
      "cell_type": "code",
      "metadata": {
        "id": "orQR-DkR0qhz",
        "outputId": "4e890afd-5d45-4dfe-fa29-83eda84b9bd9",
        "colab": {
          "base_uri": "https://localhost:8080/"
        }
      },
      "source": [
        "col_names = dropna_df.columns.values\n",
        "na_pcts = []\n",
        "n = dropna_df.shape[0]\n",
        "for col in col_names:\n",
        "  is_na = sum(dropna_df[col].isna())\n",
        "  na_pct = 100* is_na/n\n",
        "  na_pcts.append(na_pct)\n",
        "  if na_pct<30:\n",
        "    print(col, \" na pct: \", na_pct)\n",
        "na_pcts = np.array(na_pcts)\n",
        "print(\"Columns with less than 30% missing values: \", sum(na_pcts<30))\n",
        "valid_col_names = col_names[na_pcts<30]\n",
        "valid_df = dropna_df[valid_col_names]"
      ],
      "execution_count": 7,
      "outputs": [
        {
          "output_type": "stream",
          "text": [
            "cc_list_id  na pct:  0.0\n",
            "original_list_date  na pct:  0.0\n",
            "current_list_price  na pct:  2.2754977651361235\n",
            "current_status  na pct:  0.0\n",
            "days_on_market  na pct:  29.353921170255994\n",
            "cc_property_id  na pct:  0.0\n",
            "address  na pct:  0.0\n",
            "city  na pct:  0.0\n",
            "zipcode  na pct:  0.0\n",
            "fips  na pct:  0.0\n",
            "latitude  na pct:  0.0040633888663145065\n",
            "longitude  na pct:  0.0040633888663145065\n",
            "sqft  na pct:  15.335229581470946\n",
            "state  na pct:  0.0\n",
            "year_built  na pct:  16.558309630231612\n",
            "geo_point  na pct:  0.0040633888663145065\n",
            "bedrooms  na pct:  0.0\n",
            "full_baths  na pct:  0.0\n",
            "cooling  na pct:  29.130434782608695\n",
            "property_type  na pct:  0.0\n",
            "match_street_address  na pct:  0.0040633888663145065\n",
            "has_central_air  na pct:  3.6692401462819992\n",
            "has_jacuzzi  na pct:  3.6692401462819992\n",
            "has_pool  na pct:  3.6692401462819992\n",
            "has_solar  na pct:  3.6692401462819992\n",
            "has_garage  na pct:  3.6692401462819992\n",
            "Columns with less than 30% missing values:  26\n"
          ],
          "name": "stdout"
        }
      ]
    },
    {
      "cell_type": "code",
      "metadata": {
        "id": "MdKs-WLO1h0q",
        "outputId": "c943b887-55dc-4cb0-acb5-9aaa4d0013fc",
        "colab": {
          "base_uri": "https://localhost:8080/",
          "height": 295
        }
      },
      "source": [
        "plt.hist(na_pcts, bins=20)\n",
        "plt.axvline(x=30, c=\"red\", ls=\"--\")\n",
        "plt.xlabel(\"NA Percentage\")\n",
        "plt.ylabel(\"Frequency\")\n",
        "plt.title(\"Data NA Frequency Distribution\")\n",
        "plt.show()"
      ],
      "execution_count": 8,
      "outputs": [
        {
          "output_type": "display_data",
          "data": {
            "image/png": "[encoded data removed]",
            "text/plain": [
              "<Figure size 432x288 with 1 Axes>"
            ]
          },
          "metadata": {
            "tags": [],
            "needs_background": "light"
          }
        }
      ]
    },
    {
      "cell_type": "markdown",
      "metadata": {
        "id": "rhIdHSMR3AVX"
      },
      "source": [
        "#### 2. convert categorical features to quantitative features \n",
        "\n",
        "duplicate columns\n",
        "- `geo_point` equal to longitude, latitude info\n",
        "\n",
        "1.   Exact: 10 Brinton St. ~ longitude, latitude [consider keep one]\n",
        "2.   Zipcode-level: 02119\n",
        "3.   City-level: Boston\n",
        "4.   State-level: MA\n",
        "\n",
        "\n",
        "\n"
      ]
    },
    {
      "cell_type": "code",
      "metadata": {
        "id": "oCetO4i73EB6",
        "outputId": "a0b3c1a2-0cb1-449a-f505-df2e561e3959",
        "colab": {
          "base_uri": "https://localhost:8080/",
          "height": 184
        }
      },
      "source": [
        "duplicate_colums = ['geo_point']\n",
        "select_valid_df = valid_df.drop(columns=duplicate_colums).copy()\n",
        "select_valid_df.head(2)"
      ],
      "execution_count": 9,
      "outputs": [
        {
          "output_type": "execute_result",
          "data": {
            "text/html": [
              "<div>\n",
              "<style scoped>\n",
              "    .dataframe tbody tr th:only-of-type {\n",
              "        vertical-align: middle;\n",
              "    }\n",
              "\n",
              "    .dataframe tbody tr th {\n",
              "        vertical-align: top;\n",
              "    }\n",
              "\n",
              "    .dataframe thead th {\n",
              "        text-align: right;\n",
              "    }\n",
              "</style>\n",
              "<table border=\"1\" class=\"dataframe\">\n",
              "  <thead>\n",
              "    <tr style=\"text-align: right;\">\n",
              "      <th></th>\n",
              "      <th>cc_list_id</th>\n",
              "      <th>original_list_date</th>\n",
              "      <th>current_list_price</th>\n",
              "      <th>current_status</th>\n",
              "      <th>days_on_market</th>\n",
              "      <th>cc_property_id</th>\n",
              "      <th>address</th>\n",
              "      <th>city</th>\n",
              "      <th>zipcode</th>\n",
              "      <th>fips</th>\n",
              "      <th>latitude</th>\n",
              "      <th>longitude</th>\n",
              "      <th>sqft</th>\n",
              "      <th>state</th>\n",
              "      <th>year_built</th>\n",
              "      <th>bedrooms</th>\n",
              "      <th>full_baths</th>\n",
              "      <th>cooling</th>\n",
              "      <th>property_type</th>\n",
              "      <th>match_street_address</th>\n",
              "      <th>has_central_air</th>\n",
              "      <th>has_jacuzzi</th>\n",
              "      <th>has_pool</th>\n",
              "      <th>has_solar</th>\n",
              "      <th>has_garage</th>\n",
              "    </tr>\n",
              "  </thead>\n",
              "  <tbody>\n",
              "    <tr>\n",
              "      <th>1</th>\n",
              "      <td>103942494</td>\n",
              "      <td>2018-03-27</td>\n",
              "      <td>1125000.0</td>\n",
              "      <td>Sale</td>\n",
              "      <td>20.0</td>\n",
              "      <td>646971195</td>\n",
              "      <td>10 Brinton St.</td>\n",
              "      <td>Boston</td>\n",
              "      <td>2119</td>\n",
              "      <td>25025</td>\n",
              "      <td>42.32042</td>\n",
              "      <td>-71.09238</td>\n",
              "      <td>2757.0</td>\n",
              "      <td>MA</td>\n",
              "      <td>1905.0</td>\n",
              "      <td>9.0</td>\n",
              "      <td>3.0</td>\n",
              "      <td>NaN</td>\n",
              "      <td>MULTI_FAMILY</td>\n",
              "      <td>10 BRINTON ST</td>\n",
              "      <td>False</td>\n",
              "      <td>False</td>\n",
              "      <td>False</td>\n",
              "      <td>False</td>\n",
              "      <td>False</td>\n",
              "    </tr>\n",
              "    <tr>\n",
              "      <th>22</th>\n",
              "      <td>108020207</td>\n",
              "      <td>2018-08-20</td>\n",
              "      <td>589000.0</td>\n",
              "      <td>Cancelled</td>\n",
              "      <td>23.0</td>\n",
              "      <td>656774586</td>\n",
              "      <td>51-53 Story</td>\n",
              "      <td>Boston</td>\n",
              "      <td>2127</td>\n",
              "      <td>25025</td>\n",
              "      <td>42.33330</td>\n",
              "      <td>-71.04227</td>\n",
              "      <td>722.0</td>\n",
              "      <td>MA</td>\n",
              "      <td>2006.0</td>\n",
              "      <td>2.0</td>\n",
              "      <td>1.0</td>\n",
              "      <td>Central</td>\n",
              "      <td>CONDO</td>\n",
              "      <td>51-53 STORY</td>\n",
              "      <td>True</td>\n",
              "      <td>False</td>\n",
              "      <td>False</td>\n",
              "      <td>False</td>\n",
              "      <td>False</td>\n",
              "    </tr>\n",
              "  </tbody>\n",
              "</table>\n",
              "</div>"
            ],
            "text/plain": [
              "    cc_list_id original_list_date  ...  has_solar has_garage\n",
              "1    103942494         2018-03-27  ...      False      False\n",
              "22   108020207         2018-08-20  ...      False      False\n",
              "\n",
              "[2 rows x 25 columns]"
            ]
          },
          "metadata": {
            "tags": []
          },
          "execution_count": 9
        }
      ]
    },
    {
      "cell_type": "markdown",
      "metadata": {
        "id": "UZAk7wiq3ME0"
      },
      "source": [
        "##### 2.1 current_status"
      ]
    },
    {
      "cell_type": "code",
      "metadata": {
        "id": "B0KrNBsauIf1",
        "outputId": "7f45e202-24cf-4828-8638-9b0985ba59e8",
        "colab": {
          "base_uri": "https://localhost:8080/"
        }
      },
      "source": [
        "select_valid_df.current_status.value_counts()"
      ],
      "execution_count": 10,
      "outputs": [
        {
          "output_type": "execute_result",
          "data": {
            "text/plain": [
              "Sale           8256\n",
              "Withdrawn      6847\n",
              "Active         5273\n",
              "Expired        1937\n",
              "Cancelled      1101\n",
              "Pending         912\n",
              "Pending,        155\n",
              "Deleted          47\n",
              "For Rent         44\n",
              "Foreclosure      37\n",
              "Other             1\n",
              "Name: current_status, dtype: int64"
            ]
          },
          "metadata": {
            "tags": []
          },
          "execution_count": 10
        }
      ]
    },
    {
      "cell_type": "code",
      "metadata": {
        "id": "8mIi0qq-3tGd",
        "outputId": "86aa0cc0-ef76-4a9e-f367-dd7c17af30af",
        "colab": {
          "base_uri": "https://localhost:8080/"
        }
      },
      "source": [
        "# remove sign \",\"\n",
        "select_valid_df['current_status'] = select_valid_df['current_status'].apply(lambda x: x.replace(\",\",\"\"))\n",
        "\n",
        "# combine 'deleted','for rent', 'foreclosure', 'other' into 'other' category\n",
        "dic = {'Deleted':'Other', 'For Rent':'Other', 'Foreclosure':'Other'}\n",
        "select_valid_df['current_status'] = select_valid_df['current_status'].apply(lambda x: dic.get(x, x))\n",
        "\n",
        "# convert catgorical to numerical \n",
        "cat_dic = {'Sale':1, 'Active':2, 'Expired':3,\n",
        "           'Pending':4,'Other':5, 'Withdrawn':6,'Cancelled':7}\n",
        "select_valid_df['current_status'] = select_valid_df['current_status'].apply(lambda x: cat_dic.get(x, x))\n",
        "\n",
        "select_valid_df.current_status.value_counts()"
      ],
      "execution_count": 11,
      "outputs": [
        {
          "output_type": "execute_result",
          "data": {
            "text/plain": [
              "1    8256\n",
              "6    6847\n",
              "2    5273\n",
              "3    1937\n",
              "7    1101\n",
              "4    1067\n",
              "5     129\n",
              "Name: current_status, dtype: int64"
            ]
          },
          "metadata": {
            "tags": []
          },
          "execution_count": 11
        }
      ]
    },
    {
      "cell_type": "markdown",
      "metadata": {
        "id": "Hhatf_mB6d91"
      },
      "source": [
        "##### 2.2 cooling"
      ]
    },
    {
      "cell_type": "code",
      "metadata": {
        "id": "l2WJeSLM6hjf",
        "outputId": "55a658b6-86d2-4d70-8097-978fdaf29dda",
        "colab": {
          "base_uri": "https://localhost:8080/"
        }
      },
      "source": [
        "select_valid_df.cooling.value_counts()"
      ],
      "execution_count": 12,
      "outputs": [
        {
          "output_type": "execute_result",
          "data": {
            "text/plain": [
              "Central                   12812\n",
              "None                       1890\n",
              "Window/Unit                1503\n",
              "Other                       614\n",
              "Wall                        506\n",
              "Refrigeration                47\n",
              "Central, Other               21\n",
              "Central, Wall                13\n",
              "Central, None                 8\n",
              "Other, Wall                   5\n",
              "Other, None                   4\n",
              "Central, Refrigeration        3\n",
              "Evaporative                   3\n",
              "Solar                         2\n",
              "Wall, None                    2\n",
              "Solar, Wall                   2\n",
              "Central, Solar                2\n",
              "Central, Other, Wall          1\n",
              "Ventilation                   1\n",
              "Evaporative Cooler            1\n",
              "Wall, Refrigeration           1\n",
              "Name: cooling, dtype: int64"
            ]
          },
          "metadata": {
            "tags": []
          },
          "execution_count": 12
        }
      ]
    },
    {
      "cell_type": "code",
      "metadata": {
        "id": "KdjLVJbGR6jD",
        "outputId": "00578772-297a-4c6d-b3f8-9b4fecf1541c",
        "colab": {
          "base_uri": "https://localhost:8080/",
          "height": 184
        }
      },
      "source": [
        "# combine 'Solar',into 'Special' category\n",
        "dic = {'Central, Other':'Central', 'Central, Wall':'Wall', \n",
        "       'Other, None':'Other','Central, None':'Central', 'Solar, Wall':'Special',\n",
        "       'Central, Refrigeration':'Central', 'Other, Wall':'Wall', \n",
        "       'Wall, Refrigeration':'Wall', 'Central, Solar':'Special'}\n",
        "select_valid_df['cooling'] = select_valid_df['cooling'].apply(lambda x: dic.get(x, x))\n",
        "\n",
        "# one-hot encoding\n",
        "one_hot_columns = ['is_Central', 'is_Wall', 'is_Window/Unit', 'is_Other', 'is_Special']\n",
        "one_hot_df = pd.get_dummies(select_valid_df['cooling'], prefix=\"is\")\n",
        "select_valid_df[one_hot_columns] = one_hot_df[one_hot_columns]\n",
        "\n",
        "# drop property_type columns\n",
        "select_valid_df.drop(columns=['cooling'], inplace=True)\n",
        "select_valid_df.head(2)"
      ],
      "execution_count": 13,
      "outputs": [
        {
          "output_type": "execute_result",
          "data": {
            "text/html": [
              "<div>\n",
              "<style scoped>\n",
              "    .dataframe tbody tr th:only-of-type {\n",
              "        vertical-align: middle;\n",
              "    }\n",
              "\n",
              "    .dataframe tbody tr th {\n",
              "        vertical-align: top;\n",
              "    }\n",
              "\n",
              "    .dataframe thead th {\n",
              "        text-align: right;\n",
              "    }\n",
              "</style>\n",
              "<table border=\"1\" class=\"dataframe\">\n",
              "  <thead>\n",
              "    <tr style=\"text-align: right;\">\n",
              "      <th></th>\n",
              "      <th>cc_list_id</th>\n",
              "      <th>original_list_date</th>\n",
              "      <th>current_list_price</th>\n",
              "      <th>current_status</th>\n",
              "      <th>days_on_market</th>\n",
              "      <th>cc_property_id</th>\n",
              "      <th>address</th>\n",
              "      <th>city</th>\n",
              "      <th>zipcode</th>\n",
              "      <th>fips</th>\n",
              "      <th>latitude</th>\n",
              "      <th>longitude</th>\n",
              "      <th>sqft</th>\n",
              "      <th>state</th>\n",
              "      <th>year_built</th>\n",
              "      <th>bedrooms</th>\n",
              "      <th>full_baths</th>\n",
              "      <th>property_type</th>\n",
              "      <th>match_street_address</th>\n",
              "      <th>has_central_air</th>\n",
              "      <th>has_jacuzzi</th>\n",
              "      <th>has_pool</th>\n",
              "      <th>has_solar</th>\n",
              "      <th>has_garage</th>\n",
              "      <th>is_Central</th>\n",
              "      <th>is_Wall</th>\n",
              "      <th>is_Window/Unit</th>\n",
              "      <th>is_Other</th>\n",
              "      <th>is_Special</th>\n",
              "    </tr>\n",
              "  </thead>\n",
              "  <tbody>\n",
              "    <tr>\n",
              "      <th>1</th>\n",
              "      <td>103942494</td>\n",
              "      <td>2018-03-27</td>\n",
              "      <td>1125000.0</td>\n",
              "      <td>1</td>\n",
              "      <td>20.0</td>\n",
              "      <td>646971195</td>\n",
              "      <td>10 Brinton St.</td>\n",
              "      <td>Boston</td>\n",
              "      <td>2119</td>\n",
              "      <td>25025</td>\n",
              "      <td>42.32042</td>\n",
              "      <td>-71.09238</td>\n",
              "      <td>2757.0</td>\n",
              "      <td>MA</td>\n",
              "      <td>1905.0</td>\n",
              "      <td>9.0</td>\n",
              "      <td>3.0</td>\n",
              "      <td>MULTI_FAMILY</td>\n",
              "      <td>10 BRINTON ST</td>\n",
              "      <td>False</td>\n",
              "      <td>False</td>\n",
              "      <td>False</td>\n",
              "      <td>False</td>\n",
              "      <td>False</td>\n",
              "      <td>0</td>\n",
              "      <td>0</td>\n",
              "      <td>0</td>\n",
              "      <td>0</td>\n",
              "      <td>0</td>\n",
              "    </tr>\n",
              "    <tr>\n",
              "      <th>22</th>\n",
              "      <td>108020207</td>\n",
              "      <td>2018-08-20</td>\n",
              "      <td>589000.0</td>\n",
              "      <td>7</td>\n",
              "      <td>23.0</td>\n",
              "      <td>656774586</td>\n",
              "      <td>51-53 Story</td>\n",
              "      <td>Boston</td>\n",
              "      <td>2127</td>\n",
              "      <td>25025</td>\n",
              "      <td>42.33330</td>\n",
              "      <td>-71.04227</td>\n",
              "      <td>722.0</td>\n",
              "      <td>MA</td>\n",
              "      <td>2006.0</td>\n",
              "      <td>2.0</td>\n",
              "      <td>1.0</td>\n",
              "      <td>CONDO</td>\n",
              "      <td>51-53 STORY</td>\n",
              "      <td>True</td>\n",
              "      <td>False</td>\n",
              "      <td>False</td>\n",
              "      <td>False</td>\n",
              "      <td>False</td>\n",
              "      <td>1</td>\n",
              "      <td>0</td>\n",
              "      <td>0</td>\n",
              "      <td>0</td>\n",
              "      <td>0</td>\n",
              "    </tr>\n",
              "  </tbody>\n",
              "</table>\n",
              "</div>"
            ],
            "text/plain": [
              "    cc_list_id original_list_date  ...  is_Other  is_Special\n",
              "1    103942494         2018-03-27  ...         0           0\n",
              "22   108020207         2018-08-20  ...         0           0\n",
              "\n",
              "[2 rows x 29 columns]"
            ]
          },
          "metadata": {
            "tags": []
          },
          "execution_count": 13
        }
      ]
    },
    {
      "cell_type": "markdown",
      "metadata": {
        "id": "gLco1ag_972i"
      },
      "source": [
        "##### 2.3 property type"
      ]
    },
    {
      "cell_type": "code",
      "metadata": {
        "id": "Pf8HvZcm-BwX",
        "outputId": "6db4c2e6-b945-43c8-91dc-339b1372fe10",
        "colab": {
          "base_uri": "https://localhost:8080/"
        }
      },
      "source": [
        "print(\"na ct: \", select_valid_df.property_type.isna().sum())\n",
        "select_valid_df.property_type.value_counts()"
      ],
      "execution_count": 14,
      "outputs": [
        {
          "output_type": "stream",
          "text": [
            "na ct:  0\n"
          ],
          "name": "stdout"
        },
        {
          "output_type": "execute_result",
          "data": {
            "text/plain": [
              "CONDO           17628\n",
              "SINGLE           3920\n",
              "MULTI_FAMILY     2737\n",
              "OTHER             322\n",
              "LOT                 3\n",
              "Name: property_type, dtype: int64"
            ]
          },
          "metadata": {
            "tags": []
          },
          "execution_count": 14
        }
      ]
    },
    {
      "cell_type": "code",
      "metadata": {
        "id": "iOFnxMnv-LRS",
        "outputId": "62004b7e-7c54-4c2d-af00-39ab39993888",
        "colab": {
          "base_uri": "https://localhost:8080/",
          "height": 184
        }
      },
      "source": [
        "# combine 'LOT',into 'other' category\n",
        "dic = {'LOT':'OTHER'}\n",
        "select_valid_df['property_type'] = select_valid_df['property_type'].apply(lambda x: dic.get(x, x))\n",
        "\n",
        "# one-hot encoding\n",
        "one_hot_columns = ['is_MULTI_FAMILY', 'is_CONDO', 'is_SINGLE']\n",
        "one_hot_df = pd.get_dummies(select_valid_df['property_type'], prefix=\"is\")\n",
        "select_valid_df[one_hot_columns] = one_hot_df[one_hot_columns]\n",
        "\n",
        "# drop property_type columns\n",
        "select_valid_df.drop(columns=['property_type'], inplace=True)\n",
        "select_valid_df.head(2)"
      ],
      "execution_count": 15,
      "outputs": [
        {
          "output_type": "execute_result",
          "data": {
            "text/html": [
              "<div>\n",
              "<style scoped>\n",
              "    .dataframe tbody tr th:only-of-type {\n",
              "        vertical-align: middle;\n",
              "    }\n",
              "\n",
              "    .dataframe tbody tr th {\n",
              "        vertical-align: top;\n",
              "    }\n",
              "\n",
              "    .dataframe thead th {\n",
              "        text-align: right;\n",
              "    }\n",
              "</style>\n",
              "<table border=\"1\" class=\"dataframe\">\n",
              "  <thead>\n",
              "    <tr style=\"text-align: right;\">\n",
              "      <th></th>\n",
              "      <th>cc_list_id</th>\n",
              "      <th>original_list_date</th>\n",
              "      <th>current_list_price</th>\n",
              "      <th>current_status</th>\n",
              "      <th>days_on_market</th>\n",
              "      <th>cc_property_id</th>\n",
              "      <th>address</th>\n",
              "      <th>city</th>\n",
              "      <th>zipcode</th>\n",
              "      <th>fips</th>\n",
              "      <th>latitude</th>\n",
              "      <th>longitude</th>\n",
              "      <th>sqft</th>\n",
              "      <th>state</th>\n",
              "      <th>year_built</th>\n",
              "      <th>bedrooms</th>\n",
              "      <th>full_baths</th>\n",
              "      <th>match_street_address</th>\n",
              "      <th>has_central_air</th>\n",
              "      <th>has_jacuzzi</th>\n",
              "      <th>has_pool</th>\n",
              "      <th>has_solar</th>\n",
              "      <th>has_garage</th>\n",
              "      <th>is_Central</th>\n",
              "      <th>is_Wall</th>\n",
              "      <th>is_Window/Unit</th>\n",
              "      <th>is_Other</th>\n",
              "      <th>is_Special</th>\n",
              "      <th>is_MULTI_FAMILY</th>\n",
              "      <th>is_CONDO</th>\n",
              "      <th>is_SINGLE</th>\n",
              "    </tr>\n",
              "  </thead>\n",
              "  <tbody>\n",
              "    <tr>\n",
              "      <th>1</th>\n",
              "      <td>103942494</td>\n",
              "      <td>2018-03-27</td>\n",
              "      <td>1125000.0</td>\n",
              "      <td>1</td>\n",
              "      <td>20.0</td>\n",
              "      <td>646971195</td>\n",
              "      <td>10 Brinton St.</td>\n",
              "      <td>Boston</td>\n",
              "      <td>2119</td>\n",
              "      <td>25025</td>\n",
              "      <td>42.32042</td>\n",
              "      <td>-71.09238</td>\n",
              "      <td>2757.0</td>\n",
              "      <td>MA</td>\n",
              "      <td>1905.0</td>\n",
              "      <td>9.0</td>\n",
              "      <td>3.0</td>\n",
              "      <td>10 BRINTON ST</td>\n",
              "      <td>False</td>\n",
              "      <td>False</td>\n",
              "      <td>False</td>\n",
              "      <td>False</td>\n",
              "      <td>False</td>\n",
              "      <td>0</td>\n",
              "      <td>0</td>\n",
              "      <td>0</td>\n",
              "      <td>0</td>\n",
              "      <td>0</td>\n",
              "      <td>1</td>\n",
              "      <td>0</td>\n",
              "      <td>0</td>\n",
              "    </tr>\n",
              "    <tr>\n",
              "      <th>22</th>\n",
              "      <td>108020207</td>\n",
              "      <td>2018-08-20</td>\n",
              "      <td>589000.0</td>\n",
              "      <td>7</td>\n",
              "      <td>23.0</td>\n",
              "      <td>656774586</td>\n",
              "      <td>51-53 Story</td>\n",
              "      <td>Boston</td>\n",
              "      <td>2127</td>\n",
              "      <td>25025</td>\n",
              "      <td>42.33330</td>\n",
              "      <td>-71.04227</td>\n",
              "      <td>722.0</td>\n",
              "      <td>MA</td>\n",
              "      <td>2006.0</td>\n",
              "      <td>2.0</td>\n",
              "      <td>1.0</td>\n",
              "      <td>51-53 STORY</td>\n",
              "      <td>True</td>\n",
              "      <td>False</td>\n",
              "      <td>False</td>\n",
              "      <td>False</td>\n",
              "      <td>False</td>\n",
              "      <td>1</td>\n",
              "      <td>0</td>\n",
              "      <td>0</td>\n",
              "      <td>0</td>\n",
              "      <td>0</td>\n",
              "      <td>0</td>\n",
              "      <td>1</td>\n",
              "      <td>0</td>\n",
              "    </tr>\n",
              "  </tbody>\n",
              "</table>\n",
              "</div>"
            ],
            "text/plain": [
              "    cc_list_id original_list_date  ...  is_CONDO  is_SINGLE\n",
              "1    103942494         2018-03-27  ...         0          0\n",
              "22   108020207         2018-08-20  ...         1          0\n",
              "\n",
              "[2 rows x 31 columns]"
            ]
          },
          "metadata": {
            "tags": []
          },
          "execution_count": 15
        }
      ]
    },
    {
      "cell_type": "markdown",
      "metadata": {
        "id": "SiiwsbeB2Yf7"
      },
      "source": [
        "#### 2.4 save csv"
      ]
    },
    {
      "cell_type": "code",
      "metadata": {
        "id": "26nPO1i62XL3"
      },
      "source": [
        "select_valid_df.to_csv(\"./data/cleaned_house_market_listing_property_25025.csv\")"
      ],
      "execution_count": 16,
      "outputs": []
    },
    {
      "cell_type": "markdown",
      "metadata": {
        "id": "3ENJei0E3goh"
      },
      "source": [
        "### Merge tables"
      ]
    },
    {
      "cell_type": "markdown",
      "metadata": {
        "id": "C_wvnRsJ7Hjx"
      },
      "source": [
        "#### merge 4 tables"
      ]
    },
    {
      "cell_type": "code",
      "metadata": {
        "id": "_p5UWHfs3c2s",
        "outputId": "fa1c69ae-aaf1-4c68-bca4-de0b5a10c7c3",
        "colab": {
          "base_uri": "https://localhost:8080/",
          "height": 166
        }
      },
      "source": [
        "df_assort = pd.read_csv(\"./data/assessordata_clean.csv\")\n",
        "df_assort['situsstdfullstreetaddress'] = df_assort['situsstdfullstreetaddress'].str.upper()\n",
        "exclude_columns = ['Unnamed: 0']\n",
        "df_assort.drop(columns=exclude_columns, inplace=True)\n",
        "display(df_assort.head(2))\n",
        "select_valid_df['address'] = select_valid_df['address'].str.upper()"
      ],
      "execution_count": 30,
      "outputs": [
        {
          "output_type": "display_data",
          "data": {
            "text/html": [
              "<div>\n",
              "<style scoped>\n",
              "    .dataframe tbody tr th:only-of-type {\n",
              "        vertical-align: middle;\n",
              "    }\n",
              "\n",
              "    .dataframe tbody tr th {\n",
              "        vertical-align: top;\n",
              "    }\n",
              "\n",
              "    .dataframe thead th {\n",
              "        text-align: right;\n",
              "    }\n",
              "</style>\n",
              "<table border=\"1\" class=\"dataframe\">\n",
              "  <thead>\n",
              "    <tr style=\"text-align: right;\">\n",
              "      <th></th>\n",
              "      <th>formattedapn</th>\n",
              "      <th>situsstdfullstreetaddress</th>\n",
              "      <th>situsstdhousenbr</th>\n",
              "      <th>mailingstdfullstreetaddress</th>\n",
              "      <th>situsstdcity</th>\n",
              "      <th>situsstdzip5</th>\n",
              "      <th>situsstdzip4</th>\n",
              "      <th>situslatitude</th>\n",
              "      <th>situslongitude</th>\n",
              "      <th>propertyclassid</th>\n",
              "      <th>schooldistrictname</th>\n",
              "      <th>lotsizesqft</th>\n",
              "      <th>buildingarea</th>\n",
              "      <th>sumbuildingsqft</th>\n",
              "      <th>sumlivingareasqft</th>\n",
              "      <th>sumgrossareasqft</th>\n",
              "      <th>yearbuilt</th>\n",
              "      <th>effectiveyearbuilt</th>\n",
              "      <th>bedrooms</th>\n",
              "      <th>totalrooms</th>\n",
              "      <th>bathtotalcalc</th>\n",
              "      <th>bathfull</th>\n",
              "      <th>heatcode</th>\n",
              "      <th>garageparkingnbr</th>\n",
              "      <th>storiesnbrcode</th>\n",
              "      <th>stylecode</th>\n",
              "      <th>sumresidentialunits</th>\n",
              "      <th>municipality</th>\n",
              "      <th>assdtotalvalue</th>\n",
              "      <th>assdlandvalue</th>\n",
              "      <th>assdimprovementvalue</th>\n",
              "      <th>taxamount</th>\n",
              "    </tr>\n",
              "  </thead>\n",
              "  <tbody>\n",
              "    <tr>\n",
              "      <th>0</th>\n",
              "      <td>ALLS W:21 P:00418 S:000</td>\n",
              "      <td>74 ASHFORD ST</td>\n",
              "      <td>74</td>\n",
              "      <td>142 HARTMAN RD</td>\n",
              "      <td>ALLSTON</td>\n",
              "      <td>2134.0</td>\n",
              "      <td>1816.0</td>\n",
              "      <td>42.354490</td>\n",
              "      <td>-71.124832</td>\n",
              "      <td>R</td>\n",
              "      <td>Boston School District</td>\n",
              "      <td>4000.0</td>\n",
              "      <td>3986.0</td>\n",
              "      <td>3986.0</td>\n",
              "      <td>3986.0</td>\n",
              "      <td>6167.0</td>\n",
              "      <td>1920.0</td>\n",
              "      <td>2008.0</td>\n",
              "      <td>13.0</td>\n",
              "      <td>19.0</td>\n",
              "      <td>6.0</td>\n",
              "      <td>6.0</td>\n",
              "      <td>10.0</td>\n",
              "      <td>0</td>\n",
              "      <td>300.0</td>\n",
              "      <td>15.0</td>\n",
              "      <td>2</td>\n",
              "      <td>BOSTON-ALLSTON</td>\n",
              "      <td>1494400</td>\n",
              "      <td>321900</td>\n",
              "      <td>1172500</td>\n",
              "      <td>1617473.0</td>\n",
              "    </tr>\n",
              "    <tr>\n",
              "      <th>1</th>\n",
              "      <td>ALLS W:21 P:00421 S:000</td>\n",
              "      <td>9 SAWYER TER</td>\n",
              "      <td>9</td>\n",
              "      <td>9 SAWYER TER</td>\n",
              "      <td>ALLSTON</td>\n",
              "      <td>2134.0</td>\n",
              "      <td>1803.0</td>\n",
              "      <td>42.354747</td>\n",
              "      <td>-71.124922</td>\n",
              "      <td>R</td>\n",
              "      <td>Boston School District</td>\n",
              "      <td>3171.0</td>\n",
              "      <td>1763.0</td>\n",
              "      <td>1763.0</td>\n",
              "      <td>1763.0</td>\n",
              "      <td>3158.0</td>\n",
              "      <td>1912.0</td>\n",
              "      <td>1999.0</td>\n",
              "      <td>3.0</td>\n",
              "      <td>6.0</td>\n",
              "      <td>1.5</td>\n",
              "      <td>1.0</td>\n",
              "      <td>10.0</td>\n",
              "      <td>0</td>\n",
              "      <td>200.0</td>\n",
              "      <td>5.0</td>\n",
              "      <td>1</td>\n",
              "      <td>BOSTON-ALLSTON</td>\n",
              "      <td>718500</td>\n",
              "      <td>233600</td>\n",
              "      <td>484900</td>\n",
              "      <td>485169.0</td>\n",
              "    </tr>\n",
              "  </tbody>\n",
              "</table>\n",
              "</div>"
            ],
            "text/plain": [
              "              formattedapn  ...  taxamount\n",
              "0  ALLS W:21 P:00418 S:000  ...  1617473.0\n",
              "1  ALLS W:21 P:00421 S:000  ...   485169.0\n",
              "\n",
              "[2 rows x 32 columns]"
            ]
          },
          "metadata": {
            "tags": []
          }
        }
      ]
    },
    {
      "cell_type": "code",
      "metadata": {
        "id": "J5WIS7R74ThT",
        "outputId": "6a24381b-5d23-4027-b6fe-5ec5a566ad64",
        "colab": {
          "base_uri": "https://localhost:8080/"
        }
      },
      "source": [
        "print(\"Original shape: \", select_valid_df.shape)\n",
        "merge_df = select_valid_df.merge(df_assort, left_on=['address','zipcode'], \n",
        "                                 right_on=['situsstdfullstreetaddress','situsstdzip5'], how='inner')\n",
        "exclude_columns = ['original_list_date']\n",
        "merge_df.drop(columns=exclude_columns, inplace=True)\n",
        "print(\"New shape: \", merge_df.shape)"
      ],
      "execution_count": 32,
      "outputs": [
        {
          "output_type": "stream",
          "text": [
            "Original shape:  (24610, 32)\n",
            "New shape:  (8378, 63)\n"
          ],
          "name": "stdout"
        }
      ]
    },
    {
      "cell_type": "code",
      "metadata": {
        "id": "LYN87z_L5fAA"
      },
      "source": [
        "merge_df.to_csv('./data/v2_cleaned_master_table_25025.csv', index=False)"
      ],
      "execution_count": 33,
      "outputs": []
    },
    {
      "cell_type": "markdown",
      "metadata": {
        "id": "36JCwcmGzz0v"
      },
      "source": [
        "### EDA"
      ]
    },
    {
      "cell_type": "markdown",
      "metadata": {
        "id": "tBhzaoa6zsFK"
      },
      "source": [
        "#### 1. origin vs current price\n",
        "- very noisy, not used in baseline modeling"
      ]
    },
    {
      "cell_type": "code",
      "metadata": {
        "id": "muYjkCM6yfeX",
        "outputId": "64383fff-ab6a-4b1e-f75d-af169f5832e2",
        "colab": {
          "base_uri": "https://localhost:8080/",
          "height": 296
        }
      },
      "source": [
        "diff_price = df.current_list_price -  df.original_list_price\n",
        "diff_price.dropna(inplace=True)\n",
        "diff_price = diff_price[abs(diff_price)<100000]\n",
        "plt.violinplot(diff_price)\n",
        "plt.ylabel(\"Price difference\")\n",
        "plt.xlabel(\"Listed House\")\n",
        "plt.legend()\n",
        "plt.show()"
      ],
      "execution_count": 18,
      "outputs": [
        {
          "output_type": "stream",
          "text": [
            "No handles with labels found to put in legend.\n"
          ],
          "name": "stderr"
        },
        {
          "output_type": "display_data",
          "data": {
            "image/png": "[encoded data removed]",
            "text/plain": [
              "<Figure size 432x288 with 1 Axes>"
            ]
          },
          "metadata": {
            "tags": [],
            "needs_background": "light"
          }
        }
      ]
    },
    {
      "cell_type": "code",
      "metadata": {
        "id": "TurTEz7juOGu",
        "outputId": "13914c8c-f0a7-4e1b-e7f0-6583a1b48173",
        "colab": {
          "base_uri": "https://localhost:8080/",
          "height": 348
        }
      },
      "source": [
        "plt.hist(select_valid_df.year_built)\n",
        "plt.xlabel(\"Year Built\")\n",
        "plt.ylabel(\"Frequency\")\n",
        "plt.show()"
      ],
      "execution_count": 19,
      "outputs": [
        {
          "output_type": "stream",
          "text": [
            "/usr/local/lib/python3.6/dist-packages/numpy/lib/histograms.py:839: RuntimeWarning: invalid value encountered in greater_equal\n",
            "  keep = (tmp_a >= first_edge)\n",
            "/usr/local/lib/python3.6/dist-packages/numpy/lib/histograms.py:840: RuntimeWarning: invalid value encountered in less_equal\n",
            "  keep &= (tmp_a <= last_edge)\n"
          ],
          "name": "stderr"
        },
        {
          "output_type": "display_data",
          "data": {
            "image/png": "[encoded data removed]",
            "text/plain": [
              "<Figure size 432x288 with 1 Axes>"
            ]
          },
          "metadata": {
            "tags": [],
            "needs_background": "light"
          }
        }
      ]
    },
    {
      "cell_type": "code",
      "metadata": {
        "id": "o2OwVmB74d5i"
      },
      "source": [
        "def help_year_bins(x):\n",
        "  if x<1900:\n",
        "    return 'Before 1900'\n",
        "  elif x<1950:\n",
        "    return '1900 to 1950'\n",
        "  elif x<2000:\n",
        "    return '1950 to 2000'\n",
        "  else:\n",
        "    return 'After 2000'\n",
        "\n",
        "merge_df['year_bins'] = merge_df.year_built.apply(lambda x: help_year_bins(x))"
      ],
      "execution_count": 34,
      "outputs": []
    },
    {
      "cell_type": "code",
      "metadata": {
        "id": "_0NpOFequUvf",
        "outputId": "2825cd1e-fbd1-4999-c50e-3d870cab4867",
        "colab": {
          "base_uri": "https://localhost:8080/",
          "height": 339
        }
      },
      "source": [
        "import seaborn as sns\n",
        "fig, ax = plt.subplots(figsize=(15, 5))\n",
        "sns.boxenplot(y='year_bins', x='bedrooms_y', data=merge_df, palette=\"Set3\",\n",
        "              order=['Before 1900', '1900 to 1950', '1950 to 2000','After 2000'])\n",
        "plt.xlabel(\"Bedrooms (ct)\", fontsize=15)\n",
        "plt.ylabel(\"Year Built Bins\", fontsize=15)\n",
        "plt.show()"
      ],
      "execution_count": 35,
      "outputs": [
        {
          "output_type": "display_data",
          "data": {
            "image/png": "[encoded data removed]",
            "text/plain": [
              "<Figure size 1080x360 with 1 Axes>"
            ]
          },
          "metadata": {
            "tags": [],
            "needs_background": "light"
          }
        }
      ]
    }
  ]
}